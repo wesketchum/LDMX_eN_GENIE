{
 "cells": [
  {
   "cell_type": "code",
   "execution_count": 1,
   "metadata": {},
   "outputs": [],
   "source": [
    "import os,sys\n",
    "sys.path.append(\"../../\")\n",
    "from analysis_common import *"
   ]
  },
  {
   "cell_type": "code",
   "execution_count": 2,
   "metadata": {},
   "outputs": [
    {
     "name": "stdout",
     "output_type": "stream",
     "text": [
      "Welcome to JupyROOT 6.26/00\n"
     ]
    }
   ],
   "source": [
    "from root_common import *"
   ]
  },
  {
   "cell_type": "code",
   "execution_count": 3,
   "metadata": {},
   "outputs": [],
   "source": [
    "#make a canvas we can use by default\n",
    "c = ROOT.TCanvas()"
   ]
  },
  {
   "cell_type": "code",
   "execution_count": 4,
   "metadata": {},
   "outputs": [],
   "source": [
    "#some useful functions\n",
    "from analysis_helpers import *"
   ]
  },
  {
   "cell_type": "code",
   "execution_count": 5,
   "metadata": {},
   "outputs": [],
   "source": [
    "#makes plotting more interactive in notebook\n",
    "%jsroot on"
   ]
  },
  {
   "cell_type": "code",
   "execution_count": 6,
   "metadata": {},
   "outputs": [],
   "source": [
    "#NOTE YOU WILL NEED TO MODIFY THIS PARENT DIRECTORY!\n",
    "dir_files_GEM21_11b = \"/Users/wketchum/Data/LDMX/eN_Ti_GENIE_v3_2_0/ldmx_eTi_4GeV_GEM21_11b_00\"\n",
    "dir_files_G18_02a = \"/Users/wketchum/Data/LDMX/eN_Ti_GENIE_v3_2_0/ldmx_eTi_4GeV_G18_02a_00\""
   ]
  },
  {
   "cell_type": "code",
   "execution_count": 7,
   "metadata": {},
   "outputs": [],
   "source": [
    "#create a list of the files that we have\n",
    "gst_files_GEM21_11b = glob.glob(f\"{dir_files_GEM21_11b}/*gst.root\")\n",
    "gst_files_G18_02a = glob.glob(f\"{dir_files_G18_02a}/*gst.root\")"
   ]
  },
  {
   "cell_type": "code",
   "execution_count": 8,
   "metadata": {},
   "outputs": [
    {
     "name": "stdout",
     "output_type": "stream",
     "text": [
      "Created gst chain from 100 files with 10000000 total events.\n"
     ]
    }
   ],
   "source": [
    "#defined in analysis_helpers.py ... creates a TChain from our list of files\n",
    "gst_chain_GEM21_11b = create_gst_chain(gst_files_GEM21_11b,verbose=True)"
   ]
  },
  {
   "cell_type": "code",
   "execution_count": 9,
   "metadata": {},
   "outputs": [
    {
     "name": "stdout",
     "output_type": "stream",
     "text": [
      "Created gst chain from 100 files with 10000000 total events.\n"
     ]
    }
   ],
   "source": [
    "gst_chain_G18_02a = create_gst_chain(gst_files_G18_02a,verbose=True)"
   ]
  },
  {
   "cell_type": "code",
   "execution_count": 10,
   "metadata": {},
   "outputs": [],
   "source": [
    "#creates a dataframe from our TChain\n",
    "# see https://root.cern/doc/master/classROOT_1_1RDataFrame.html for examples\n",
    "df_gst_GEM21_11b_all = ROOT.RDataFrame(gst_chain_GEM21_11b)\n",
    "#restrict to just 1 million events\n",
    "df_gst_GEM21_11b_all = df_gst_GEM21_11b_all.Range(10000000)"
   ]
  },
  {
   "cell_type": "code",
   "execution_count": 11,
   "metadata": {},
   "outputs": [],
   "source": [
    "#apply definitions for new lepton variables\n",
    "df_gst_GEM21_11b_all = define_df_gst_lep_vars(df_gst_GEM21_11b_all)\n",
    "df_gst_GEM21_11b_all = define_df_gst_hadron_vars(df_gst_GEM21_11b_all)\n",
    "df_gst_GEM21_11b_all = define_df_gst_hadrons_by_pdg(df_gst_GEM21_11b_all)\n",
    "df_gst_GEM21_11b_all = define_df_gst_pi0decay(df_gst_GEM21_11b_all)"
   ]
  },
  {
   "cell_type": "code",
   "execution_count": 12,
   "metadata": {},
   "outputs": [],
   "source": [
    "df_gst_GEM21_11b_DefA = define_df_gst_hadron_acceptance(df_gst_GEM21_11b_all)\n",
    "df_gst_GEM21_11b_DefA = define_df_gst_photon_acceptance(df_gst_GEM21_11b_DefA)\n",
    "df_gst_GEM21_11b_DefA = define_df_gst_hadron_sums(df_gst_GEM21_11b_DefA,sfx=[\"i\",\"f\",\"fa\",\"fm\"])"
   ]
  },
  {
   "cell_type": "code",
   "execution_count": 13,
   "metadata": {},
   "outputs": [],
   "source": [
    "df_gst_G18_02a_all = ROOT.RDataFrame(gst_chain_G18_02a)\n",
    "#restrict to just 1 million events\n",
    "df_gst_G18_02a_all = df_gst_G18_02a_all.Range(10000000)"
   ]
  },
  {
   "cell_type": "code",
   "execution_count": 14,
   "metadata": {},
   "outputs": [],
   "source": [
    "#apply definitions for new lepton variables\n",
    "df_gst_G18_02a_all = define_df_gst_lep_vars(df_gst_G18_02a_all)\n",
    "df_gst_G18_02a_all = define_df_gst_hadron_vars(df_gst_G18_02a_all)\n",
    "df_gst_G18_02a_all = define_df_gst_hadrons_by_pdg(df_gst_G18_02a_all)\n",
    "df_gst_G18_02a_all = define_df_gst_pi0decay(df_gst_G18_02a_all)"
   ]
  },
  {
   "cell_type": "code",
   "execution_count": 15,
   "metadata": {},
   "outputs": [],
   "source": [
    "df_gst_G18_02a_DefA = define_df_gst_hadron_acceptance(df_gst_G18_02a_all)\n",
    "df_gst_G18_02a_DefA = define_df_gst_photon_acceptance(df_gst_G18_02a_DefA)\n",
    "df_gst_G18_02a_DefA = define_df_gst_hadron_sums(df_gst_G18_02a_DefA,sfx=[\"i\",\"f\",\"fa\",\"fm\"])"
   ]
  },
  {
   "cell_type": "code",
   "execution_count": 16,
   "metadata": {},
   "outputs": [],
   "source": [
    "df_gst_GEM21_11b_DefA = df_gst_GEM21_11b_DefA.Define(\"nfa_had\",\n",
    "                                                     \"nfa_proton+nfa_piplus+nfa_piminus+nfa_pi0+nfa_neutron\")\n",
    "df_gst_GEM21_11b_DefA = df_gst_GEM21_11b_DefA.Define(\"nfa_chhad\",\n",
    "                                                     \"nfa_proton+nfa_piplus+nfa_piminus\")\n",
    "df_gst_GEM21_11b_DefA = df_gst_GEM21_11b_DefA.Define(\"nf_had\",\n",
    "                                                     \"nfp+nfpip+nfpim+nfpi0+nfn\")\n",
    "df_gst_GEM21_11b_DefA = df_gst_GEM21_11b_DefA.Define(\"nf_chhad\",\n",
    "                                                     \"nfp+nfpip+nfpim\")\n",
    "df_gst_GEM21_11b_DefA = df_gst_GEM21_11b_DefA.Define(\"nfa_pi\",\n",
    "                                                     \"nfa_piplus+nfa_piminus+nfa_pi0\")\n",
    "df_gst_GEM21_11b_DefA = df_gst_GEM21_11b_DefA.Define(\"nf_pi\",\n",
    "                                                     \"nfpip+nfpim+nfpi0\")"
   ]
  },
  {
   "cell_type": "code",
   "execution_count": 17,
   "metadata": {},
   "outputs": [],
   "source": [
    "df_gst_G18_02a_DefA = df_gst_G18_02a_DefA.Define(\"nfa_had\",\n",
    "                                                     \"nfa_proton+nfa_piplus+nfa_piminus+nfa_pi0+nfa_neutron\")\n",
    "df_gst_G18_02a_DefA = df_gst_G18_02a_DefA.Define(\"nfa_chhad\",\n",
    "                                                     \"nfa_proton+nfa_piplus+nfa_piminus\")\n",
    "df_gst_G18_02a_DefA = df_gst_G18_02a_DefA.Define(\"nf_had\",\n",
    "                                                     \"nfp+nfpip+nfpim+nfpi0+nfn\")\n",
    "df_gst_G18_02a_DefA = df_gst_G18_02a_DefA.Define(\"nf_chhad\",\n",
    "                                                     \"nfp+nfpip+nfpim\")\n",
    "df_gst_G18_02a_DefA = df_gst_G18_02a_DefA.Define(\"nfa_pi\",\n",
    "                                                     \"nfa_piplus+nfa_piminus+nfa_pi0\")\n",
    "df_gst_G18_02a_DefA = df_gst_G18_02a_DefA.Define(\"nf_pi\",\n",
    "                                                     \"nfpip+nfpim+nfpi0\")"
   ]
  },
  {
   "cell_type": "code",
   "execution_count": 18,
   "metadata": {},
   "outputs": [],
   "source": [
    "df_gst_GEM21_11b_DefA = df_gst_GEM21_11b_DefA.Define(\"nf_had_ke\",\n",
    "                                                     f\"Sum(kef_proton>{PROTON_ACCEPT_KE})+Sum(kef_piplus>{CHPION_ACCEPT_KE})+Sum(kef_piminus>{CHPION_ACCEPT_KE})+Sum(kef_neutron>{NEUTRON_ACCEPT_KE})+nfpi0\")\n",
    "df_gst_GEM21_11b_DefA = df_gst_GEM21_11b_DefA.Define(\"nf_had_diff\",\"nf_had_ke-nfa_had\")"
   ]
  },
  {
   "cell_type": "code",
   "execution_count": 19,
   "metadata": {},
   "outputs": [],
   "source": [
    "df_gst_G18_02a_DefA = df_gst_G18_02a_DefA.Define(\"nf_had_ke\",\n",
    "                                                     f\"Sum(kef_proton>{PROTON_ACCEPT_KE})+Sum(kef_piplus>{CHPION_ACCEPT_KE})+Sum(kef_piminus>{CHPION_ACCEPT_KE})+Sum(kef_neutron>{NEUTRON_ACCEPT_KE})+nfpi0\")\n",
    "df_gst_G18_02a_DefA = df_gst_G18_02a_DefA.Define(\"nf_had_diff\",\"nf_had_ke-nfa_had\")"
   ]
  },
  {
   "cell_type": "code",
   "execution_count": null,
   "metadata": {},
   "outputs": [],
   "source": []
  },
  {
   "cell_type": "code",
   "execution_count": 20,
   "metadata": {},
   "outputs": [],
   "source": [
    "df_gst_GEM21_11b_KEA = define_df_gst_hadron_acceptance(df_gst_GEM21_11b_all,thetaz_max=[10,10,10,10])\n",
    "df_gst_GEM21_11b_KEA = define_df_gst_photon_acceptance(df_gst_GEM21_11b_KEA,thetaz_max=10.)\n",
    "df_gst_GEM21_11b_KEA = define_df_gst_hadron_sums(df_gst_GEM21_11b_KEA,sfx=[\"i\",\"f\",\"fa\",\"fm\"])\n",
    "df_gst_GEM21_11b_KEA = df_gst_GEM21_11b_KEA.Define(\"nfa_had\",\n",
    "                                                   \"nfa_proton+nfa_piplus+nfa_piminus+nfa_pi0+nfa_neutron\")"
   ]
  },
  {
   "cell_type": "code",
   "execution_count": 21,
   "metadata": {},
   "outputs": [],
   "source": [
    "df_gst_GEM21_11b_KEA = df_gst_GEM21_11b_KEA.Define(\"nfa_chhad\",\n",
    "                                                     \"nfa_proton+nfa_piplus+nfa_piminus\")\n",
    "df_gst_GEM21_11b_KEA = df_gst_GEM21_11b_KEA.Define(\"nf_had\",\n",
    "                                                     \"nfp+nfpip+nfpim+nfpi0+nfn\")\n"
   ]
  },
  {
   "cell_type": "code",
   "execution_count": 22,
   "metadata": {},
   "outputs": [],
   "source": [
    "df_gst_GEM21_11b_KEA = df_gst_GEM21_11b_KEA.Define(\"nf_had_ke\",\n",
    "                                                     f\"Sum(kef_proton>{PROTON_ACCEPT_KE})+Sum(kef_piplus>{CHPION_ACCEPT_KE})+Sum(kef_piminus>{CHPION_ACCEPT_KE})+Sum(kef_neutron>{NEUTRON_ACCEPT_KE})+nfpi0\")\n",
    "df_gst_GEM21_11b_KEA = df_gst_GEM21_11b_KEA.Define(\"nf_had_diff\",\"nf_had_ke-nfa_had\")"
   ]
  },
  {
   "cell_type": "code",
   "execution_count": 23,
   "metadata": {},
   "outputs": [],
   "source": [
    "df_gst_GEM21_11b_DefA = define_df_gst_momentum_imbalance(df_gst_GEM21_11b_DefA,suffix_list=[\"i\"],cname=\"i\")\n",
    "df_gst_GEM21_11b_DefA = define_df_gst_momentum_imbalance(df_gst_GEM21_11b_DefA,suffix_list=[\"f\"],cname=\"f\")\n",
    "df_gst_GEM21_11b_DefA = define_df_gst_momentum_imbalance(df_gst_GEM21_11b_DefA,cname=\"fa_all\",\n",
    "                                                          suffix_list=[\"fa_proton\",\"fa_neutron\",\n",
    "                                                                       \"fa_piplus\",\"fa_piminus\",\n",
    "                                                                       \"fa_pi0_ph\"])\n",
    "df_gst_GEM21_11b_DefA = define_df_gst_momentum_imbalance(df_gst_GEM21_11b_DefA,\n",
    "                                                         cname=\"fa_chhad\",\n",
    "                                                         suffix_list=[\"fa_proton\",\"fa_piplus\",\"fa_piminus\"])"
   ]
  },
  {
   "cell_type": "code",
   "execution_count": 24,
   "metadata": {},
   "outputs": [],
   "source": [
    "df_gst_G18_02a_DefA = define_df_gst_momentum_imbalance(df_gst_G18_02a_DefA,suffix_list=[\"i\"],cname=\"i\")\n",
    "df_gst_G18_02a_DefA = define_df_gst_momentum_imbalance(df_gst_G18_02a_DefA,suffix_list=[\"f\"],cname=\"f\")\n",
    "df_gst_G18_02a_DefA = define_df_gst_momentum_imbalance(df_gst_G18_02a_DefA,cname=\"fa_all\",\n",
    "                                                          suffix_list=[\"fa_proton\",\"fa_neutron\",\n",
    "                                                                       \"fa_piplus\",\"fa_piminus\",\n",
    "                                                                       \"fa_pi0_ph\"])\n",
    "df_gst_G18_02a_DefA = define_df_gst_momentum_imbalance(df_gst_G18_02a_DefA,\n",
    "                                                         cname=\"fa_chhad\",\n",
    "                                                         suffix_list=[\"fa_proton\",\"fa_piplus\",\"fa_piminus\"])"
   ]
  },
  {
   "cell_type": "code",
   "execution_count": 25,
   "metadata": {},
   "outputs": [],
   "source": [
    "df_gst_GEM21_11b_KEA = define_df_gst_momentum_imbalance(df_gst_GEM21_11b_KEA,suffix_list=[\"i\"],cname=\"i\")\n",
    "df_gst_GEM21_11b_KEA = define_df_gst_momentum_imbalance(df_gst_GEM21_11b_KEA,suffix_list=[\"f\"],cname=\"f\")\n",
    "df_gst_GEM21_11b_KEA = define_df_gst_momentum_imbalance(df_gst_GEM21_11b_KEA,cname=\"fa_all\",\n",
    "                                                          suffix_list=[\"fa_proton\",\"fa_neutron\",\n",
    "                                                                       \"fa_piplus\",\"fa_piminus\",\n",
    "                                                                       \"fa_pi0_ph\"])\n",
    "df_gst_GEM21_11b_KEA = define_df_gst_momentum_imbalance(df_gst_GEM21_11b_KEA,\n",
    "                                                         cname=\"fa_chhad\",\n",
    "                                                         suffix_list=[\"fa_proton\",\"fa_piplus\",\"fa_piminus\"])"
   ]
  },
  {
   "cell_type": "code",
   "execution_count": 26,
   "metadata": {},
   "outputs": [],
   "source": [
    "df_gst_GEM21_11b_DefA_trig = df_gst_GEM21_11b_DefA.Filter(f\"ptl>{LEPTON_PT_TRIGGER} && thetazl<{RTRACKER_ACCEPT_ANGLE}\")\n",
    "df_gst_GEM21_11b_KEA_trig = df_gst_GEM21_11b_KEA.Filter(f\"ptl>{LEPTON_PT_TRIGGER} && thetazl<{RTRACKER_ACCEPT_ANGLE}\")"
   ]
  },
  {
   "cell_type": "code",
   "execution_count": 27,
   "metadata": {},
   "outputs": [],
   "source": [
    "df_gst_G18_02a_DefA_trig = df_gst_G18_02a_DefA.Filter(f\"ptl>{LEPTON_PT_TRIGGER} && thetazl<{RTRACKER_ACCEPT_ANGLE}\")"
   ]
  },
  {
   "cell_type": "code",
   "execution_count": 28,
   "metadata": {},
   "outputs": [],
   "source": [
    "hist_bins_dict = {}"
   ]
  },
  {
   "cell_type": "code",
   "execution_count": 29,
   "metadata": {},
   "outputs": [],
   "source": [
    "hist_bins_dict[\"delta_pt\"] = (\";#deltap_{T} (GeV/c);Events/bin\",100,0,2.0)\n",
    "hist_bins_dict[\"delta_phit\"] = (\";#delta#phi_{T};Events/bin\",100,0,ROOT.TMath.Pi())\n",
    "hist_bins_dict[\"delta_alphat\"] = (\";#delta#alpha_{T} (GeV/c);Events/bin\",100,0,ROOT.TMath.Pi())\n",
    "\n",
    "hist_bins_dict[\"delta_p\"] = (\";#deltap (GeV/c);Events/bin\",100,0,2.0)\n",
    "hist_bins_dict[\"delta_phi\"] = (\";#delta#phi;Events/bin\",100,0,ROOT.TMath.Pi())\n",
    "hist_bins_dict[\"delta_alpha\"] = (\";#delta#alpha (GeV/c);Events/bin\",100,0,ROOT.TMath.Pi())"
   ]
  },
  {
   "cell_type": "code",
   "execution_count": 30,
   "metadata": {},
   "outputs": [],
   "source": [
    "def format_hists(hists,colors,line_width=3,h_max_k=1.1,h_min=0,line_style=1):\n",
    "    h_max_val = None\n",
    "    if h_max_k is not None:\n",
    "        h_max_val = max([ h.GetMaximum() for h in hists ])*h_max_k\n",
    "    for i_h,h in enumerate(hists):\n",
    "        h.SetLineColor(colors[i_h])\n",
    "        h.SetLineWidth(line_width)\n",
    "        h.SetLineStyle(line_style)\n",
    "        if h_min is not None: \n",
    "            h.SetMinimum(h_min)\n",
    "        if h_max_val is not None:\n",
    "            h.SetMaximum(h_max_val)"
   ]
  },
  {
   "cell_type": "code",
   "execution_count": null,
   "metadata": {},
   "outputs": [],
   "source": [
    "title=\";#deltap_{T} (GeV/c);Events/bin\"\n",
    "nbins=100\n",
    "xmin=0.0\n",
    "xmax=2.0\n",
    "\n",
    "h_deltapti = df_gst_GEM21_11b_DefA_trig.Histo1D((\"h_deltapti\",title,nbins,xmin,xmax),\"delta_pti\")\n",
    "h_deltaptf = df_gst_GEM21_11b_DefA_trig.Histo1D((\"h_deltaptf\",title,nbins,xmin,xmax),\"delta_ptf\")\n",
    "h_deltaptfa_all_KE = df_gst_GEM21_11b_KEA_trig.Histo1D((\"h_deltaptfa_all_KE\",title,nbins,xmin,xmax),\"delta_ptfa_all\")\n",
    "h_deltaptfa_all_Def = df_gst_GEM21_11b_DefA_trig.Histo1D((\"h_deltaptfa_all_Def\",title,nbins,xmin,xmax),\"delta_ptfa_all\")\n",
    "h_deltaptfa_chhad_KE = df_gst_GEM21_11b_KEA_trig.Histo1D((\"h_deltaptfa_chhad_KE\",title,nbins,xmin,xmax),\"delta_ptfa_chhad\")\n",
    "h_deltaptfa_chhad_Def = df_gst_GEM21_11b_DefA_trig.Histo1D((\"h_deltaptfa_chhad_Def\",title,nbins,xmin,xmax),\"delta_ptfa_chhad\")"
   ]
  },
  {
   "cell_type": "code",
   "execution_count": null,
   "metadata": {},
   "outputs": [],
   "source": [
    "format_hists([h_deltapti,h_deltaptf,\n",
    "              h_deltaptfa_all_KE,h_deltaptfa_all_Def,\n",
    "              h_deltaptfa_chhad_KE,h_deltaptfa_chhad_Def],\n",
    "             [ROOT.kBlue,ROOT.kRed,\n",
    "              ROOT.kGreen+2,ROOT.kGreen+2,\n",
    "              ROOT.kOrange-2,ROOT.kOrange-2])"
   ]
  },
  {
   "cell_type": "code",
   "execution_count": null,
   "metadata": {},
   "outputs": [],
   "source": [
    "h_deltapti.Draw()\n",
    "h_deltapti.SetTitle(\"Nominal Acceptance;#deltap_{T} (GeV/c);Events/bin\")\n",
    "h_deltaptfa_chhad_Def.Draw(\"same\")\n",
    "h_deltaptfa_all_Def.Draw(\"same\")\n",
    "h_deltaptf.Draw(\"same\")\n",
    "\n",
    "leg = ROOT.TLegend(0.4,0.7,0.88,0.88)\n",
    "leg.AddEntry(\"h_deltapti\",\"Initial-state hadrons (all)\")\n",
    "leg.AddEntry(\"h_deltaptf\",\"Final-state hadrons (all)\")\n",
    "leg.AddEntry(\"h_deltaptfa_all_Def\",\"Final-state hadrons (accepted)\")\n",
    "leg.AddEntry(\"h_deltaptfa_chhad_Def\",\"Final-state charged hadrons (accepted)\")\n",
    "leg.Draw()\n",
    "\n",
    "c.Draw()\n",
    "c.SaveAs(\"delta_pt_DefA.png\")"
   ]
  },
  {
   "cell_type": "code",
   "execution_count": null,
   "metadata": {},
   "outputs": [],
   "source": [
    "h_deltapti.Draw()\n",
    "h_deltapti.SetTitle(\"No Angular Cuts (KE-only acceptance);#deltap_{T} (GeV/c);Events/bin\")\n",
    "h_deltaptfa_chhad_KE.Draw(\"same\")\n",
    "h_deltaptfa_all_KE.Draw(\"same\")\n",
    "h_deltaptf.Draw(\"same\")\n",
    "\n",
    "leg = ROOT.TLegend(0.4,0.7,0.88,0.88)\n",
    "leg.AddEntry(\"h_deltapti\",\"Initial-state hadrons (all)\")\n",
    "leg.AddEntry(\"h_deltaptf\",\"Final-state hadrons (all)\")\n",
    "leg.AddEntry(\"h_deltaptfa_all_KE\",\"Final-state hadrons (accepted)\")\n",
    "leg.AddEntry(\"h_deltaptfa_chhad_KE\",\"Final-state charged hadrons (accepted)\")\n",
    "leg.Draw()\n",
    "\n",
    "c.Draw()\n",
    "c.SaveAs(\"delta_pt_KEA.png\")"
   ]
  },
  {
   "cell_type": "code",
   "execution_count": null,
   "metadata": {},
   "outputs": [],
   "source": [
    "title=\";#deltap (GeV/c);Events/bin\"\n",
    "nbins=100\n",
    "xmin=0.0\n",
    "xmax=2.0\n",
    "\n",
    "h_deltapi = df_gst_GEM21_11b_DefA_trig.Histo1D((\"h_deltapi\",title,nbins,xmin,xmax),\"delta_pi\")\n",
    "h_deltapf = df_gst_GEM21_11b_DefA_trig.Histo1D((\"h_deltapf\",title,nbins,xmin,xmax),\"delta_pf\")\n",
    "h_deltapfa_all_KE = df_gst_GEM21_11b_KEA_trig.Histo1D((\"h_deltapfa_all_KE\",title,nbins,xmin,xmax),\"delta_pfa_all\")\n",
    "h_deltapfa_all_Def = df_gst_GEM21_11b_DefA_trig.Histo1D((\"h_deltapfa_all_Def\",title,nbins,xmin,xmax),\"delta_pfa_all\")\n",
    "h_deltapfa_chhad_KE = df_gst_GEM21_11b_KEA_trig.Histo1D((\"h_deltapfa_chhad_KE\",title,nbins,xmin,xmax),\"delta_pfa_chhad\")\n",
    "h_deltapfa_chhad_Def = df_gst_GEM21_11b_DefA_trig.Histo1D((\"h_deltapfa_chhad_Def\",title,nbins,xmin,xmax),\"delta_pfa_chhad\")"
   ]
  },
  {
   "cell_type": "code",
   "execution_count": null,
   "metadata": {},
   "outputs": [],
   "source": [
    "format_hists([h_deltapi,h_deltapf,\n",
    "              h_deltapfa_all_KE,h_deltapfa_all_Def,\n",
    "              h_deltapfa_chhad_KE,h_deltapfa_chhad_Def],\n",
    "             [ROOT.kBlue,ROOT.kRed,\n",
    "              ROOT.kGreen+2,ROOT.kGreen+2,\n",
    "              ROOT.kOrange-2,ROOT.kOrange-2])"
   ]
  },
  {
   "cell_type": "code",
   "execution_count": null,
   "metadata": {},
   "outputs": [],
   "source": [
    "h_deltapi.Draw()\n",
    "h_deltapi.SetTitle(\"Nominal Acceptance;#deltap (GeV/c);Events/bin\")\n",
    "h_deltapfa_chhad_Def.Draw(\"same\")\n",
    "h_deltapfa_all_Def.Draw(\"same\")\n",
    "h_deltapf.Draw(\"same\")\n",
    "\n",
    "leg = ROOT.TLegend(0.4,0.7,0.88,0.88)\n",
    "leg.AddEntry(\"h_deltapi\",\"Initial-state hadrons (all)\")\n",
    "leg.AddEntry(\"h_deltapf\",\"Final-state hadrons (all)\")\n",
    "leg.AddEntry(\"h_deltapfa_all_Def\",\"Final-state hadrons (accepted)\")\n",
    "leg.AddEntry(\"h_deltapfa_chhad_Def\",\"Final-state charged hadrons (accepted)\")\n",
    "leg.Draw()\n",
    "\n",
    "c.Draw()\n",
    "c.SaveAs(\"delta_p_DefA.png\")"
   ]
  },
  {
   "cell_type": "code",
   "execution_count": null,
   "metadata": {},
   "outputs": [],
   "source": [
    "h_deltapi.Draw()\n",
    "h_deltapi.SetTitle(\"No Angular Cuts (KE-only acceptance);#deltap (GeV/c);Events/bin\")\n",
    "h_deltapfa_chhad_KE.Draw(\"same\")\n",
    "h_deltapfa_all_KE.Draw(\"same\")\n",
    "h_deltapf.Draw(\"same\")\n",
    "\n",
    "leg = ROOT.TLegend(0.4,0.7,0.88,0.88)\n",
    "leg.AddEntry(\"h_deltapi\",\"Initial-state hadrons (all)\")\n",
    "leg.AddEntry(\"h_deltapf\",\"Final-state hadrons (all)\")\n",
    "leg.AddEntry(\"h_deltapfa_all_KE\",\"Final-state hadrons (accepted)\")\n",
    "leg.AddEntry(\"h_deltapfa_chhad_KE\",\"Final-state charged hadrons (accepted)\")\n",
    "leg.Draw()\n",
    "\n",
    "c.Draw()\n",
    "c.SaveAs(\"delta_p_KEA.png\")"
   ]
  },
  {
   "cell_type": "code",
   "execution_count": 31,
   "metadata": {},
   "outputs": [],
   "source": [
    "title=\";#deltap_{T} (GeV/c);Events/bin\"\n",
    "nbins=100\n",
    "xmin=0.0\n",
    "xmax=1.5\n",
    "\n",
    "h_deltapti_nfa_had = df_gst_GEM21_11b_DefA_trig.Filter(\"nfa_had>0\").Histo1D((\"h_deltapti_nfa_had\",title,nbins,xmin,xmax),\"delta_pti\")\n",
    "h_deltaptf_nfa_had = df_gst_GEM21_11b_DefA_trig.Filter(\"nfa_had>0\").Histo1D((\"h_deltaptf_nfa_had\",title,nbins,xmin,xmax),\"delta_ptf\")\n",
    "h_deltaptfa_all_Def_nfa_had = df_gst_GEM21_11b_DefA_trig.Filter(\"nfa_had>0\").Histo1D((\"h_deltaptfa_all_Def_nfa_had\",title,nbins,xmin,xmax),\"delta_ptfa_all\")\n",
    "h_deltaptfa_chhad_Def_nfa_had = df_gst_GEM21_11b_DefA_trig.Filter(\"nfa_had>0\").Histo1D((\"h_deltaptfa_chhad_Def_nfa_had\",title,nbins,xmin,xmax),\"delta_ptfa_chhad\")"
   ]
  },
  {
   "cell_type": "code",
   "execution_count": 32,
   "metadata": {},
   "outputs": [],
   "source": [
    "format_hists([h_deltapti_nfa_had,h_deltaptf_nfa_had,\n",
    "              h_deltaptfa_all_Def_nfa_had,\n",
    "              h_deltaptfa_chhad_Def_nfa_had],\n",
    "             [ROOT.kBlue,ROOT.kRed,\n",
    "              ROOT.kGreen+2,\n",
    "              ROOT.kOrange-2])"
   ]
  },
  {
   "cell_type": "code",
   "execution_count": 33,
   "metadata": {},
   "outputs": [],
   "source": [
    "title=\";#deltap_{T} (GeV/c);Events/bin\"\n",
    "nbins=100\n",
    "xmin=0.0\n",
    "xmax=1.5\n",
    "\n",
    "h_deltapti_nfa_had_G18 = df_gst_G18_02a_DefA_trig.Filter(\"nfa_had>0\").Histo1D((\"h_deltapti_nfa_had_G18\",title,nbins,xmin,xmax),\"delta_pti\")\n",
    "h_deltaptf_nfa_had_G18 = df_gst_G18_02a_DefA_trig.Filter(\"nfa_had>0\").Histo1D((\"h_deltaptf_nfa_had_G18\",title,nbins,xmin,xmax),\"delta_ptf\")\n",
    "h_deltaptfa_all_Def_nfa_had_G18 = df_gst_G18_02a_DefA_trig.Filter(\"nfa_had>0\").Histo1D((\"h_deltaptfa_all_Def_nfa_had_G18\",title,nbins,xmin,xmax),\"delta_ptfa_all\")\n",
    "h_deltaptfa_chhad_Def_nfa_had_G18 = df_gst_G18_02a_DefA_trig.Filter(\"nfa_had>0\").Histo1D((\"h_deltaptfa_chhad_Def_nfa_had_G18\",title,nbins,xmin,xmax),\"delta_ptfa_chhad\")"
   ]
  },
  {
   "cell_type": "code",
   "execution_count": 34,
   "metadata": {},
   "outputs": [],
   "source": [
    "format_hists([h_deltapti_nfa_had_G18,h_deltaptf_nfa_had_G18,\n",
    "              h_deltaptfa_all_Def_nfa_had_G18,\n",
    "              h_deltaptfa_chhad_Def_nfa_had_G18],\n",
    "             [ROOT.kBlue,ROOT.kRed,\n",
    "              ROOT.kGreen+2,\n",
    "              ROOT.kOrange-2],line_style=2)"
   ]
  },
  {
   "cell_type": "code",
   "execution_count": 35,
   "metadata": {},
   "outputs": [
    {
     "name": "stderr",
     "output_type": "stream",
     "text": [
      "Info in <TCanvas::Print>: pdf file delta_pt_DefA_nfa_had.pdf has been created\n"
     ]
    },
    {
     "data": {
      "text/html": [
       "\n",
       "\n",
       "<div id=\"root_plot_1659448125407\"\n",
       "     style=\"width: 696px; height: 472px\">\n",
       "</div>\n",
       "<script>\n",
       "\n",
       "function display_root_plot_1659448125407(Core) {\n",
       "   let obj = Core.parse({\"_typename\":\"TCanvas\",\"fUniqueID\":0,\"fBits\":3342344,\"fLineColor\":1,\"fLineStyle\":1,\"fLineWidth\":1,\"fFillColor\":0,\"fFillStyle\":1001,\"fLeftMargin\":0.1,\"fRightMargin\":0.1,\"fBottomMargin\":0.1,\"fTopMargin\":0.1,\"fXfile\":2,\"fYfile\":2,\"fAfile\":1,\"fXstat\":0.99,\"fYstat\":0.99,\"fAstat\":2,\"fFrameFillColor\":0,\"fFrameLineColor\":1,\"fFrameFillStyle\":1001,\"fFrameLineStyle\":1,\"fFrameLineWidth\":1,\"fFrameBorderSize\":1,\"fFrameBorderMode\":0,\"fX1\":-0.187500013969839,\"fY1\":-5698.2754245546,\"fX2\":1.68750001396984,\"fY2\":51284.4754245546,\"fXtoAbsPixelk\":69.6000541484835,\"fXtoPixelk\":69.6000541484835,\"fXtoPixel\":371.199994468689,\"fYtoAbsPixelk\":424.800047186661,\"fYtoPixelk\":424.800047186661,\"fYtoPixel\":-0.00828320839142813,\"fUtoAbsPixelk\":5e-5,\"fUtoPixelk\":5e-5,\"fUtoPixel\":696,\"fVtoAbsPixelk\":472.00005,\"fVtoPixelk\":472,\"fVtoPixel\":-472,\"fAbsPixeltoXk\":-0.187500013969839,\"fPixeltoXk\":-0.187500013969839,\"fPixeltoX\":0.0026939655573846,\"fAbsPixeltoYk\":51284.4754245546,\"fPixeltoYk\":-5698.2754245546,\"fPixeltoY\":-120.726167053197,\"fXlowNDC\":0,\"fYlowNDC\":0,\"fXUpNDC\":1,\"fYUpNDC\":1,\"fWNDC\":1,\"fHNDC\":1,\"fAbsXlowNDC\":0,\"fAbsYlowNDC\":0,\"fAbsWNDC\":1,\"fAbsHNDC\":1,\"fUxmin\":0,\"fUymin\":0,\"fUxmax\":1.5,\"fUymax\":45586.2,\"fTheta\":30,\"fPhi\":30,\"fAspectRatio\":0,\"fNumber\":0,\"fTickx\":0,\"fTicky\":0,\"fLogx\":0,\"fLogy\":0,\"fLogz\":0,\"fPadPaint\":0,\"fCrosshair\":0,\"fCrosshairPos\":0,\"fBorderSize\":2,\"fBorderMode\":0,\"fModified\":false,\"fGridx\":false,\"fGridy\":false,\"fAbsCoord\":false,\"fEditable\":true,\"fFixedAspectRatio\":false,\"fPrimitives\":{\"_typename\":\"TList\",\"name\":\"TList\",\"arr\":[{\"_typename\":\"TFrame\",\"fUniqueID\":0,\"fBits\":8,\"fLineColor\":1,\"fLineStyle\":1,\"fLineWidth\":1,\"fFillColor\":0,\"fFillStyle\":1001,\"fX1\":0,\"fY1\":0,\"fX2\":1.5,\"fY2\":45586.2,\"fBorderSize\":1,\"fBorderMode\":0},{\"_typename\":\"TH1D\",\"fUniqueID\":0,\"fBits\":520,\"fName\":\"h_deltaptfa_all_Def_nfa_had\",\"fTitle\":\"\",\"fLineColor\":600,\"fLineStyle\":1,\"fLineWidth\":3,\"fFillColor\":0,\"fFillStyle\":1001,\"fMarkerColor\":1,\"fMarkerStyle\":1,\"fMarkerSize\":1,\"fNcells\":102,\"fXaxis\":{\"_typename\":\"TAxis\",\"fUniqueID\":0,\"fBits\":0,\"fName\":\"xaxis\",\"fTitle\":\"#deltap_{T} (GeV\\/c)\",\"fNdivisions\":510,\"fAxisColor\":1,\"fLabelColor\":1,\"fLabelFont\":42,\"fLabelOffset\":0.005,\"fLabelSize\":0.035,\"fTickLength\":0.03,\"fTitleOffset\":1,\"fTitleSize\":0.035,\"fTitleColor\":1,\"fTitleFont\":42,\"fNbins\":100,\"fXmin\":0,\"fXmax\":1.5,\"fXbins\":[],\"fFirst\":0,\"fLast\":0,\"fBits2\":0,\"fTimeDisplay\":false,\"fTimeFormat\":\"\",\"fLabels\":null,\"fModLabs\":null},\"fYaxis\":{\"_typename\":\"TAxis\",\"fUniqueID\":0,\"fBits\":0,\"fName\":\"yaxis\",\"fTitle\":\"Events\\/bin\",\"fNdivisions\":510,\"fAxisColor\":1,\"fLabelColor\":1,\"fLabelFont\":42,\"fLabelOffset\":0.005,\"fLabelSize\":0.035,\"fTickLength\":0.03,\"fTitleOffset\":0,\"fTitleSize\":0.035,\"fTitleColor\":1,\"fTitleFont\":42,\"fNbins\":1,\"fXmin\":0,\"fXmax\":1,\"fXbins\":[],\"fFirst\":0,\"fLast\":0,\"fBits2\":0,\"fTimeDisplay\":false,\"fTimeFormat\":\"\",\"fLabels\":null,\"fModLabs\":null},\"fZaxis\":{\"_typename\":\"TAxis\",\"fUniqueID\":0,\"fBits\":0,\"fName\":\"zaxis\",\"fTitle\":\"\",\"fNdivisions\":510,\"fAxisColor\":1,\"fLabelColor\":1,\"fLabelFont\":42,\"fLabelOffset\":0.005,\"fLabelSize\":0.035,\"fTickLength\":0.03,\"fTitleOffset\":1,\"fTitleSize\":0.035,\"fTitleColor\":1,\"fTitleFont\":42,\"fNbins\":1,\"fXmin\":0,\"fXmax\":1,\"fXbins\":[],\"fFirst\":0,\"fLast\":0,\"fBits2\":0,\"fTimeDisplay\":false,\"fTimeFormat\":\"\",\"fLabels\":null,\"fModLabs\":null},\"fBarOffset\":0,\"fBarWidth\":1000,\"fEntries\":549147,\"fTsumw\":549082,\"fTsumw2\":549082,\"fTsumwx\":241814.87652445,\"fTsumwx2\":135021.776070138,\"fMaximum\":45586.2,\"fMinimum\":0,\"fNormFactor\":0,\"fContour\":[],\"fSumw2\":[],\"fOption\":\"\",\"fFunctions\":{\"_typename\":\"TList\",\"name\":\"TList\",\"arr\":[],\"opt\":[]},\"fBufferSize\":0,\"fBuffer\":[],\"fBinStatErrOpt\":0,\"fStatOverflows\":2,\"fArray\":{\"$arr\":\"Float64\",\"len\":102,\"p\":1,\"v\":[568,1791,2911,3932,4820,5728,6547,7254,7935,8488,9286,9953,10309,10828,11556,11811,12396,12745,12821,13247,13434,13759,13915,13780,14007,13977,13938,13733,13656,13567,13104,13148,12796,12445,11962,11640,11284,10984,10574,10156,9656,9254,8641,8132,7790,7081,6725,6310,5791,5432,4911,4496,4179,3898,3527,3284,2951,2641,2500,2227,2045,1874,1623,1482,1306,1228,1057,985,868,721,735,632,538,468,394,397,345,268,273,232,177,174,143,164,95,87,78,80,63,62,44,48,36,29,34,17,28,13,15,13,65]}},{\"_typename\":\"TH1D\",\"fUniqueID\":0,\"fBits\":520,\"fName\":\"h_deltaptfa_all_Def_nfa_had_G18\",\"fTitle\":\"\",\"fLineColor\":600,\"fLineStyle\":2,\"fLineWidth\":3,\"fFillColor\":0,\"fFillStyle\":1001,\"fMarkerColor\":1,\"fMarkerStyle\":1,\"fMarkerSize\":1,\"fNcells\":102,\"fXaxis\":{\"_typename\":\"TAxis\",\"fUniqueID\":0,\"fBits\":0,\"fName\":\"xaxis\",\"fTitle\":\"#deltap_{T} (GeV\\/c)\",\"fNdivisions\":510,\"fAxisColor\":1,\"fLabelColor\":1,\"fLabelFont\":42,\"fLabelOffset\":0.005,\"fLabelSize\":0.035,\"fTickLength\":0.03,\"fTitleOffset\":1,\"fTitleSize\":0.035,\"fTitleColor\":1,\"fTitleFont\":42,\"fNbins\":100,\"fXmin\":0,\"fXmax\":1.5,\"fXbins\":[],\"fFirst\":0,\"fLast\":0,\"fBits2\":0,\"fTimeDisplay\":false,\"fTimeFormat\":\"\",\"fLabels\":null,\"fModLabs\":null},\"fYaxis\":{\"_typename\":\"TAxis\",\"fUniqueID\":0,\"fBits\":0,\"fName\":\"yaxis\",\"fTitle\":\"Events\\/bin\",\"fNdivisions\":510,\"fAxisColor\":1,\"fLabelColor\":1,\"fLabelFont\":42,\"fLabelOffset\":0.005,\"fLabelSize\":0.035,\"fTickLength\":0.03,\"fTitleOffset\":0,\"fTitleSize\":0.035,\"fTitleColor\":1,\"fTitleFont\":42,\"fNbins\":1,\"fXmin\":0,\"fXmax\":1,\"fXbins\":[],\"fFirst\":0,\"fLast\":0,\"fBits2\":0,\"fTimeDisplay\":false,\"fTimeFormat\":\"\",\"fLabels\":null,\"fModLabs\":null},\"fZaxis\":{\"_typename\":\"TAxis\",\"fUniqueID\":0,\"fBits\":0,\"fName\":\"zaxis\",\"fTitle\":\"\",\"fNdivisions\":510,\"fAxisColor\":1,\"fLabelColor\":1,\"fLabelFont\":42,\"fLabelOffset\":0.005,\"fLabelSize\":0.035,\"fTickLength\":0.03,\"fTitleOffset\":1,\"fTitleSize\":0.035,\"fTitleColor\":1,\"fTitleFont\":42,\"fNbins\":1,\"fXmin\":0,\"fXmax\":1,\"fXbins\":[],\"fFirst\":0,\"fLast\":0,\"fBits2\":0,\"fTimeDisplay\":false,\"fTimeFormat\":\"\",\"fLabels\":null,\"fModLabs\":null},\"fBarOffset\":0,\"fBarWidth\":1000,\"fEntries\":605988,\"fTsumw\":605916,\"fTsumw2\":605916,\"fTsumwx\":261007.444884865,\"fTsumwx2\":142341.510099298,\"fMaximum\":52934.2,\"fMinimum\":0,\"fNormFactor\":0,\"fContour\":[],\"fSumw2\":[],\"fOption\":\"\",\"fFunctions\":{\"_typename\":\"TList\",\"name\":\"TList\",\"arr\":[],\"opt\":[]},\"fBufferSize\":0,\"fBuffer\":[],\"fBinStatErrOpt\":0,\"fStatOverflows\":2,\"fArray\":{\"$arr\":\"Float64\",\"len\":102,\"p\":1,\"v\":[563,1744,2865,4156,5271,6293,7394,8388,9318,10026,11102,11604,12434,13014,13512,13935,14001,14359,14525,15132,15241,15573,15547,15519,15620,15654,15180,15355,15017,15043,14713,14623,13950,13638,13412,12825,12516,11863,11476,11071,10371,9808,9422,8854,8218,7688,7068,6586,6084,5641,5228,4761,4270,3906,3543,3192,2963,2668,2484,2205,2058,1773,1609,1436,1306,1087,1051,864,788,670,624,538,484,413,364,321,279,251,238,179,156,148,121,110,90,102,72,56,47,36,41,35,29,17,17,12,19,20,13,10,72]}},{\"_typename\":\"TH1D\",\"fUniqueID\":0,\"fBits\":520,\"fName\":\"h_deltaptf_nfa_had\",\"fTitle\":\"\",\"fLineColor\":632,\"fLineStyle\":1,\"fLineWidth\":3,\"fFillColor\":0,\"fFillStyle\":1001,\"fMarkerColor\":1,\"fMarkerStyle\":1,\"fMarkerSize\":1,\"fNcells\":102,\"fXaxis\":{\"_typename\":\"TAxis\",\"fUniqueID\":0,\"fBits\":0,\"fName\":\"xaxis\",\"fTitle\":\"#deltap_{T} (GeV\\/c)\",\"fNdivisions\":510,\"fAxisColor\":1,\"fLabelColor\":1,\"fLabelFont\":42,\"fLabelOffset\":0.005,\"fLabelSize\":0.035,\"fTickLength\":0.03,\"fTitleOffset\":1,\"fTitleSize\":0.035,\"fTitleColor\":1,\"fTitleFont\":42,\"fNbins\":100,\"fXmin\":0,\"fXmax\":1.5,\"fXbins\":[],\"fFirst\":0,\"fLast\":0,\"fBits2\":0,\"fTimeDisplay\":false,\"fTimeFormat\":\"\",\"fLabels\":null,\"fModLabs\":null},\"fYaxis\":{\"_typename\":\"TAxis\",\"fUniqueID\":0,\"fBits\":0,\"fName\":\"yaxis\",\"fTitle\":\"Events\\/bin\",\"fNdivisions\":510,\"fAxisColor\":1,\"fLabelColor\":1,\"fLabelFont\":42,\"fLabelOffset\":0.005,\"fLabelSize\":0.035,\"fTickLength\":0.03,\"fTitleOffset\":0,\"fTitleSize\":0.035,\"fTitleColor\":1,\"fTitleFont\":42,\"fNbins\":1,\"fXmin\":0,\"fXmax\":1,\"fXbins\":[],\"fFirst\":0,\"fLast\":0,\"fBits2\":0,\"fTimeDisplay\":false,\"fTimeFormat\":\"\",\"fLabels\":null,\"fModLabs\":null},\"fZaxis\":{\"_typename\":\"TAxis\",\"fUniqueID\":0,\"fBits\":0,\"fName\":\"zaxis\",\"fTitle\":\"\",\"fNdivisions\":510,\"fAxisColor\":1,\"fLabelColor\":1,\"fLabelFont\":42,\"fLabelOffset\":0.005,\"fLabelSize\":0.035,\"fTickLength\":0.03,\"fTitleOffset\":1,\"fTitleSize\":0.035,\"fTitleColor\":1,\"fTitleFont\":42,\"fNbins\":1,\"fXmin\":0,\"fXmax\":1,\"fXbins\":[],\"fFirst\":0,\"fLast\":0,\"fBits2\":0,\"fTimeDisplay\":false,\"fTimeFormat\":\"\",\"fLabels\":null,\"fModLabs\":null},\"fBarOffset\":0,\"fBarWidth\":1000,\"fEntries\":549147,\"fTsumw\":548303,\"fTsumw2\":548303,\"fTsumwx\":171129.977332944,\"fTsumwx2\":84676.6744743833,\"fMaximum\":45586.2,\"fMinimum\":0,\"fNormFactor\":0,\"fContour\":[],\"fSumw2\":[],\"fOption\":\"\",\"fFunctions\":{\"_typename\":\"TList\",\"name\":\"TList\",\"arr\":[],\"opt\":[]},\"fBufferSize\":0,\"fBuffer\":[],\"fBinStatErrOpt\":0,\"fStatOverflows\":2,\"fArray\":{\"$arr\":\"Float64\",\"len\":102,\"p\":1,\"v\":[3455,8598,12420,15309,17283,18892,19756,20221,20539,20576,20196,19966,19106,18099,17080,16002,14897,13683,13231,12738,12413,11704,11445,10843,10573,9847,9274,8893,8221,8070,7487,7034,6514,6401,6014,5719,5278,5044,4806,4563,4301,3888,3816,3503,3287,3094,2873,2747,2585,2481,2216,2153,2025,1858,1806,1635,1547,1504,1281,1281,1165,1094,1043,931,856,833,807,718,668,644,576,587,514,464,413,374,400,385,321,321,297,262,254,226,226,185,220,158,166,161,142,104,123,101,101,91,80,72,89,60,844]}},{\"_typename\":\"TH1D\",\"fUniqueID\":0,\"fBits\":520,\"fName\":\"h_deltaptf_nfa_had_G18\",\"fTitle\":\"\",\"fLineColor\":632,\"fLineStyle\":2,\"fLineWidth\":3,\"fFillColor\":0,\"fFillStyle\":1001,\"fMarkerColor\":1,\"fMarkerStyle\":1,\"fMarkerSize\":1,\"fNcells\":102,\"fXaxis\":{\"_typename\":\"TAxis\",\"fUniqueID\":0,\"fBits\":0,\"fName\":\"xaxis\",\"fTitle\":\"#deltap_{T} (GeV\\/c)\",\"fNdivisions\":510,\"fAxisColor\":1,\"fLabelColor\":1,\"fLabelFont\":42,\"fLabelOffset\":0.005,\"fLabelSize\":0.035,\"fTickLength\":0.03,\"fTitleOffset\":1,\"fTitleSize\":0.035,\"fTitleColor\":1,\"fTitleFont\":42,\"fNbins\":100,\"fXmin\":0,\"fXmax\":1.5,\"fXbins\":[],\"fFirst\":0,\"fLast\":0,\"fBits2\":0,\"fTimeDisplay\":false,\"fTimeFormat\":\"\",\"fLabels\":null,\"fModLabs\":null},\"fYaxis\":{\"_typename\":\"TAxis\",\"fUniqueID\":0,\"fBits\":0,\"fName\":\"yaxis\",\"fTitle\":\"Events\\/bin\",\"fNdivisions\":510,\"fAxisColor\":1,\"fLabelColor\":1,\"fLabelFont\":42,\"fLabelOffset\":0.005,\"fLabelSize\":0.035,\"fTickLength\":0.03,\"fTitleOffset\":0,\"fTitleSize\":0.035,\"fTitleColor\":1,\"fTitleFont\":42,\"fNbins\":1,\"fXmin\":0,\"fXmax\":1,\"fXbins\":[],\"fFirst\":0,\"fLast\":0,\"fBits2\":0,\"fTimeDisplay\":false,\"fTimeFormat\":\"\",\"fLabels\":null,\"fModLabs\":null},\"fZaxis\":{\"_typename\":\"TAxis\",\"fUniqueID\":0,\"fBits\":0,\"fName\":\"zaxis\",\"fTitle\":\"\",\"fNdivisions\":510,\"fAxisColor\":1,\"fLabelColor\":1,\"fLabelFont\":42,\"fLabelOffset\":0.005,\"fLabelSize\":0.035,\"fTickLength\":0.03,\"fTitleOffset\":1,\"fTitleSize\":0.035,\"fTitleColor\":1,\"fTitleFont\":42,\"fNbins\":1,\"fXmin\":0,\"fXmax\":1,\"fXbins\":[],\"fFirst\":0,\"fLast\":0,\"fBits2\":0,\"fTimeDisplay\":false,\"fTimeFormat\":\"\",\"fLabels\":null,\"fModLabs\":null},\"fBarOffset\":0,\"fBarWidth\":1000,\"fEntries\":605988,\"fTsumw\":605987,\"fTsumw2\":605987,\"fTsumwx\":131092.270550009,\"fTsumwx2\":37619.1847476934,\"fMaximum\":52934.2,\"fMinimum\":0,\"fNormFactor\":0,\"fContour\":[],\"fSumw2\":[],\"fOption\":\"\",\"fFunctions\":{\"_typename\":\"TList\",\"name\":\"TList\",\"arr\":[],\"opt\":[]},\"fBufferSize\":0,\"fBuffer\":[],\"fBinStatErrOpt\":0,\"fStatOverflows\":2,\"fArray\":{\"$arr\":\"Float64\",\"len\":102,\"p\":1,\"v\":[2176,6533,10780,15000,19030,22495,25855,28636,31248,33633,35302,36284,36513,35802,34453,31166,23418,17575,16706,16051,14527,13491,12653,10922,9955,9025,8003,6887,5934,5131,4370,3692,3241,2688,2373,2033,1893,1556,1357,1167,1025,832,728,576,488,437,380,295,254,227,187,139,128,99,93,84,60,65,55,44,36,28,28,16,21,15,11,17,9,4,5,3,7,6,6,3,1,1,4,2,3,1,1,1,1,0,2,0,2,0,2,1,0,0,0,0,0,0,0,0,1]}},{\"_typename\":\"TLegend\",\"fUniqueID\":0,\"fBits\":8,\"fLineColor\":1,\"fLineStyle\":1,\"fLineWidth\":1,\"fFillColor\":0,\"fFillStyle\":1001,\"fX1\":0.562499997206032,\"fY1\":34189.6501698218,\"fX2\":1.46250001061708,\"fY2\":44446.5453226615,\"fX1NDC\":0.4,\"fY1NDC\":0.7,\"fX2NDC\":0.88,\"fY2NDC\":0.88,\"fBorderSize\":1,\"fInit\":1,\"fShadowColor\":1,\"fCornerRadius\":0,\"fOption\":\"brNDC\",\"fName\":\"TPave\",\"fTextAngle\":0,\"fTextSize\":0,\"fTextAlign\":12,\"fTextColor\":1,\"fTextFont\":42,\"fPrimitives\":{\"_typename\":\"TList\",\"name\":\"TList\",\"arr\":[{\"_typename\":\"TLegendEntry\",\"fUniqueID\":0,\"fBits\":0,\"fTextAngle\":0,\"fTextSize\":0,\"fTextAlign\":0,\"fTextColor\":0,\"fTextFont\":42,\"fLineColor\":632,\"fLineStyle\":1,\"fLineWidth\":3,\"fFillColor\":0,\"fFillStyle\":1001,\"fMarkerColor\":1,\"fMarkerStyle\":1,\"fMarkerSize\":1,\"fObject\":{\"$ref\":13},\"fLabel\":\"G21_11b, all final-state hadrons\",\"fOption\":\"lpf\"},{\"_typename\":\"TLegendEntry\",\"fUniqueID\":0,\"fBits\":0,\"fTextAngle\":0,\"fTextSize\":0,\"fTextAlign\":0,\"fTextColor\":0,\"fTextFont\":42,\"fLineColor\":632,\"fLineStyle\":2,\"fLineWidth\":3,\"fFillColor\":0,\"fFillStyle\":1001,\"fMarkerColor\":1,\"fMarkerStyle\":1,\"fMarkerSize\":1,\"fObject\":{\"$ref\":18},\"fLabel\":\"G18_02a, all final-state hadrons\",\"fOption\":\"lpf\"},{\"_typename\":\"TLegendEntry\",\"fUniqueID\":0,\"fBits\":0,\"fTextAngle\":0,\"fTextSize\":0,\"fTextAlign\":0,\"fTextColor\":0,\"fTextFont\":42,\"fLineColor\":600,\"fLineStyle\":1,\"fLineWidth\":3,\"fFillColor\":0,\"fFillStyle\":1001,\"fMarkerColor\":1,\"fMarkerStyle\":1,\"fMarkerSize\":1,\"fObject\":{\"$ref\":3},\"fLabel\":\"G21_11b, well-reconstructed final-state hadrons\",\"fOption\":\"lpf\"},{\"_typename\":\"TLegendEntry\",\"fUniqueID\":0,\"fBits\":0,\"fTextAngle\":0,\"fTextSize\":0,\"fTextAlign\":0,\"fTextColor\":0,\"fTextFont\":42,\"fLineColor\":600,\"fLineStyle\":2,\"fLineWidth\":3,\"fFillColor\":0,\"fFillStyle\":1001,\"fMarkerColor\":1,\"fMarkerStyle\":1,\"fMarkerSize\":1,\"fObject\":{\"$ref\":8},\"fLabel\":\"G18_02a, well-reconstructed final-state hadrons\",\"fOption\":\"lpf\"}],\"opt\":[\"lpf\",\"lpf\",\"lpf\",\"lpf\"]},\"fEntrySeparation\":0.1,\"fMargin\":0.25,\"fNColumns\":1,\"fColumnSeparation\":0},{\"_typename\":\"TStyle\",\"fUniqueID\":0,\"fBits\":0,\"fName\":\"Modern\",\"fTitle\":\"Modern Style\",\"fLineColor\":1,\"fLineStyle\":1,\"fLineWidth\":1,\"fFillColor\":19,\"fFillStyle\":1001,\"fMarkerColor\":1,\"fMarkerStyle\":1,\"fMarkerSize\":1,\"fTextAngle\":0,\"fTextSize\":0.05,\"fTextAlign\":11,\"fTextColor\":1,\"fTextFont\":62,\"fXaxis\":{\"_typename\":\"TAttAxis\",\"fNdivisions\":510,\"fAxisColor\":1,\"fLabelColor\":1,\"fLabelFont\":42,\"fLabelOffset\":0.005,\"fLabelSize\":0.035,\"fTickLength\":0.03,\"fTitleOffset\":1,\"fTitleSize\":0.035,\"fTitleColor\":1,\"fTitleFont\":42},\"fYaxis\":{\"_typename\":\"TAttAxis\",\"fNdivisions\":510,\"fAxisColor\":1,\"fLabelColor\":1,\"fLabelFont\":42,\"fLabelOffset\":0.005,\"fLabelSize\":0.035,\"fTickLength\":0.03,\"fTitleOffset\":0,\"fTitleSize\":0.035,\"fTitleColor\":1,\"fTitleFont\":42},\"fZaxis\":{\"_typename\":\"TAttAxis\",\"fNdivisions\":510,\"fAxisColor\":1,\"fLabelColor\":1,\"fLabelFont\":42,\"fLabelOffset\":0.005,\"fLabelSize\":0.035,\"fTickLength\":0.03,\"fTitleOffset\":1,\"fTitleSize\":0.035,\"fTitleColor\":1,\"fTitleFont\":42},\"fBarWidth\":1,\"fBarOffset\":0,\"fColorModelPS\":0,\"fDrawBorder\":0,\"fOptLogx\":0,\"fOptLogy\":0,\"fOptLogz\":0,\"fOptDate\":0,\"fOptStat\":0,\"fOptTitle\":1,\"fOptFile\":0,\"fOptFit\":0,\"fShowEventStatus\":0,\"fShowEditor\":0,\"fShowToolBar\":0,\"fNumberContours\":20,\"fAttDate\":{\"_typename\":\"TAttText\",\"fTextAngle\":0,\"fTextSize\":0.025,\"fTextAlign\":11,\"fTextColor\":1,\"fTextFont\":62},\"fDateX\":0.01,\"fDateY\":0.01,\"fEndErrorSize\":2,\"fErrorX\":0.5,\"fFuncColor\":2,\"fFuncStyle\":1,\"fFuncWidth\":2,\"fGridColor\":0,\"fGridStyle\":3,\"fGridWidth\":1,\"fLegendBorderSize\":1,\"fLegendFillColor\":0,\"fLegendFont\":42,\"fLegendTextSize\":0,\"fHatchesLineWidth\":1,\"fHatchesSpacing\":1,\"fFrameFillColor\":0,\"fFrameLineColor\":1,\"fFrameFillStyle\":1001,\"fFrameLineStyle\":1,\"fFrameLineWidth\":1,\"fFrameBorderSize\":1,\"fFrameBorderMode\":0,\"fHistFillColor\":0,\"fHistLineColor\":602,\"fHistFillStyle\":1001,\"fHistLineStyle\":1,\"fHistLineWidth\":1,\"fHistMinimumZero\":false,\"fHistTopMargin\":0.05,\"fCanvasPreferGL\":false,\"fCanvasColor\":0,\"fCanvasBorderSize\":2,\"fCanvasBorderMode\":0,\"fCanvasDefH\":500,\"fCanvasDefW\":700,\"fCanvasDefX\":10,\"fCanvasDefY\":10,\"fPadColor\":0,\"fPadBorderSize\":2,\"fPadBorderMode\":0,\"fPadBottomMargin\":0.1,\"fPadTopMargin\":0.1,\"fPadLeftMargin\":0.1,\"fPadRightMargin\":0.1,\"fPadGridX\":false,\"fPadGridY\":false,\"fPadTickX\":0,\"fPadTickY\":0,\"fPaperSizeX\":20,\"fPaperSizeY\":26,\"fScreenFactor\":1,\"fStatColor\":0,\"fStatTextColor\":1,\"fStatBorderSize\":1,\"fStatFont\":42,\"fStatFontSize\":0,\"fStatStyle\":1001,\"fStatFormat\":\"6.4g\",\"fStatX\":0.98,\"fStatY\":0.935,\"fStatW\":0.2,\"fStatH\":0.16,\"fStripDecimals\":true,\"fTitleAlign\":23,\"fTitleColor\":0,\"fTitleTextColor\":1,\"fTitleBorderSize\":0,\"fTitleFont\":42,\"fTitleFontSize\":0.05,\"fTitleStyle\":0,\"fTitleX\":0.5,\"fTitleY\":0.995,\"fTitleW\":0,\"fTitleH\":0,\"fLegoInnerR\":0.5,\"fLineStyles\":[\"\",\"  \",\" 12 12\",\" 4 8\",\" 12 16 4 16\",\" 20 12 4 12\",\" 20 12 4 12 4 12 4 12\",\" 20 20\",\" 20 12 4 12 4 12\",\" 80 20\",\" 80 40 4 40\",\"  \",\"  \",\"  \",\"  \",\"  \",\"  \",\"  \",\"  \",\"  \",\"  \",\"  \",\"  \",\"  \",\"  \",\"  \",\"  \",\"  \",\"  \",\"  \"],\"fHeaderPS\":\"\",\"fTitlePS\":\"\",\"fFitFormat\":\"5.4g\",\"fPaintTextFormat\":\"g\",\"fLineScalePS\":3,\"fJoinLinePS\":0,\"fCapLinePS\":0,\"fTimeOffset\":788918400,\"fImageScaling\":1}],\"opt\":[\"\",\"\",\"same\",\"same\",\"same\",\"\",\"\"]},\"fExecs\":null,\"fName\":\"c1\",\"fTitle\":\"c1\",\"fNumPaletteColor\":0,\"fNextPaletteColor\":0,\"fDISPLAY\":\"$DISPLAY\",\"fDoubleBuffer\":0,\"fRetained\":true,\"fXsizeUser\":0,\"fYsizeUser\":0,\"fXsizeReal\":20,\"fYsizeReal\":14.28571,\"fWindowTopX\":0,\"fWindowTopY\":0,\"fWindowWidth\":0,\"fWindowHeight\":0,\"fCw\":696,\"fCh\":472,\"fCatt\":{\"_typename\":\"TAttCanvas\",\"fXBetween\":2,\"fYBetween\":2,\"fTitleFromTop\":1.2,\"fXdate\":0.2,\"fYdate\":0.3,\"fAdate\":1},\"kMoveOpaque\":true,\"kResizeOpaque\":true,\"fHighLightColor\":2,\"fBatch\":true,\"kShowEventStatus\":false,\"kAutoExec\":true,\"kMenuBar\":true});\n",
       "   Core.settings.HandleKeys = false;\n",
       "   Core.draw(\"root_plot_1659448125407\", obj, \"\");\n",
       "}\n",
       "\n",
       "function script_load_root_plot_1659448125407(src, on_error) {\n",
       "    let script = document.createElement('script');\n",
       "    script.src = src;\n",
       "    script.onload = function() { display_root_plot_1659448125407(JSROOT); };\n",
       "    script.onerror = function() { script.remove(); on_error(); };\n",
       "    document.head.appendChild(script);\n",
       "}\n",
       "\n",
       "if (typeof requirejs !== 'undefined') {\n",
       "\n",
       "    // We are in jupyter notebooks, use require.js which should be configured already\n",
       "    requirejs.config({\n",
       "       paths: { 'JSRootCore' : [ 'scripts/JSRoot.core', 'https://root.cern/js/6.1.1/scripts/JSRoot.core.min', 'https://jsroot.gsi.de/6.1.1/scripts/JSRoot.core.min' ] }\n",
       "    })(['JSRootCore'],  function(Core) {\n",
       "       display_root_plot_1659448125407(Core);\n",
       "    });\n",
       "\n",
       "} else if (typeof JSROOT !== 'undefined') {\n",
       "\n",
       "   // JSROOT already loaded, just use it\n",
       "   display_root_plot_1659448125407(JSROOT);\n",
       "\n",
       "} else {\n",
       "\n",
       "    // We are in jupyterlab without require.js, directly loading jsroot\n",
       "    // Jupyterlab might be installed in a different base_url so we need to know it.\n",
       "    try {\n",
       "        var base_url = JSON.parse(document.getElementById('jupyter-config-data').innerHTML).baseUrl;\n",
       "    } catch(_) {\n",
       "        var base_url = '/';\n",
       "    }\n",
       "\n",
       "    // Try loading a local version of requirejs and fallback to cdn if not possible.\n",
       "    script_load_root_plot_1659448125407(base_url + 'static/scripts/JSRoot.core.js', function(){\n",
       "        console.error('Fail to load JSROOT locally, please check your jupyter_notebook_config.py file');\n",
       "        script_load_root_plot_1659448125407('https://root.cern/js/6.1.1/scripts/JSRoot.core.min.js', function(){\n",
       "            document.getElementById(\"root_plot_1659448125407\").innerHTML = \"Failed to load JSROOT\";\n",
       "        });\n",
       "    });\n",
       "}\n",
       "\n",
       "</script>\n"
      ],
      "text/plain": [
       "<IPython.core.display.HTML object>"
      ]
     },
     "metadata": {},
     "output_type": "display_data"
    }
   ],
   "source": [
    "#h_deltapti_nfa_had.Draw()\n",
    "#h_deltaptfa_all_Def_nfa_had.SetTitle(\"Nominal Acceptance, N_{hadron,obs} > 0\")\n",
    "#h_deltaptfa_chhad_Def_nfa_had.Draw(\"same\")\n",
    "h_deltaptfa_all_Def_nfa_had.Draw()\n",
    "h_deltaptfa_all_Def_nfa_had_G18.Draw(\"same\")\n",
    "h_deltaptf_nfa_had.Draw(\"same\")\n",
    "h_deltaptf_nfa_had_G18.Draw(\"same\")\n",
    "\n",
    "h_deltaptfa_all_Def_nfa_had.SetLineColor(ROOT.kBlue)\n",
    "h_deltaptfa_all_Def_nfa_had_G18.SetLineColor(ROOT.kBlue)\n",
    "\n",
    "leg = ROOT.TLegend(0.4,0.7,0.88,0.88)\n",
    "#leg.AddEntry(\"h_deltapti_nfa_had\",\"Initial-state hadrons (all)\")\n",
    "leg.AddEntry(\"h_deltaptf_nfa_had\",\"G21_11b, all final-state hadrons\")\n",
    "leg.AddEntry(\"h_deltaptf_nfa_had_G18\",\"G18_02a, all final-state hadrons\")\n",
    "leg.AddEntry(\"h_deltaptfa_all_Def_nfa_had\",\"G21_11b, well-reconstructed final-state hadrons\")\n",
    "leg.AddEntry(\"h_deltaptfa_all_Def_nfa_had_G18\",\"G18_02a, well-reconstructed final-state hadrons\")\n",
    "#leg.AddEntry(\"h_deltaptfa_chhad_Def_nfa_had\",\"Final-state charged hadrons (accepted)\")\n",
    "leg.Draw()\n",
    "\n",
    "c.Draw()\n",
    "c.SaveAs(\"delta_pt_DefA_nfa_had.pdf\")"
   ]
  },
  {
   "cell_type": "code",
   "execution_count": null,
   "metadata": {},
   "outputs": [],
   "source": [
    "title=\";#deltap (GeV/c);Events/bin\"\n",
    "nbins=100\n",
    "xmin=0.0\n",
    "xmax=1.5\n",
    "\n",
    "h_deltapi_nfa_had = df_gst_GEM21_11b_DefA_trig.Filter(\"nfa_had>0\").Histo1D((\"h_deltapi_nfa_had\",title,nbins,xmin,xmax),\"delta_pi\")\n",
    "h_deltapf_nfa_had = df_gst_GEM21_11b_DefA_trig.Filter(\"nfa_had>0\").Histo1D((\"h_deltapf_nfa_had\",title,nbins,xmin,xmax),\"delta_pf\")\n",
    "h_deltapfa_all_Def_nfa_had = df_gst_GEM21_11b_DefA_trig.Filter(\"nfa_had>0\").Histo1D((\"h_deltapfa_all_Def_nfa_had\",title,nbins,xmin,xmax),\"delta_pfa_all\")\n",
    "h_deltapfa_chhad_Def_nfa_had = df_gst_GEM21_11b_DefA_trig.Filter(\"nfa_had>0\").Histo1D((\"h_deltapfa_chhad_Def_nfa_had\",title,nbins,xmin,xmax),\"delta_pfa_chhad\")\n",
    "\n",
    "h_deltapi_nfa_had_G18 = df_gst_G18_02a_DefA_trig.Filter(\"nfa_had>0\").Histo1D((\"h_deltapi_nfa_had_G18\",title,nbins,xmin,xmax),\"delta_pi\")\n",
    "h_deltapf_nfa_had_G18 = df_gst_G18_02a_DefA_trig.Filter(\"nfa_had>0\").Histo1D((\"h_deltapf_nfa_had_G18\",title,nbins,xmin,xmax),\"delta_pf\")\n",
    "h_deltapfa_all_Def_nfa_had_G18 = df_gst_G18_02a_DefA_trig.Filter(\"nfa_had>0\").Histo1D((\"h_deltapfa_all_Def_nfa_had_G18\",title,nbins,xmin,xmax),\"delta_pfa_all\")\n",
    "h_deltapfa_chhad_Def_nfa_had_G18 = df_gst_G18_02a_DefA_trig.Filter(\"nfa_had>0\").Histo1D((\"h_deltapfa_chhad_Def_nfa_had_G18\",title,nbins,xmin,xmax),\"delta_pfa_chhad\")"
   ]
  },
  {
   "cell_type": "code",
   "execution_count": null,
   "metadata": {},
   "outputs": [],
   "source": [
    "format_hists([h_deltapf_nfa_had,h_deltapfa_all_Def_nfa_had],[ROOT.kRed,ROOT.kBlue])"
   ]
  },
  {
   "cell_type": "code",
   "execution_count": null,
   "metadata": {},
   "outputs": [],
   "source": [
    "format_hists([h_deltapf_nfa_had_G18,h_deltapfa_all_Def_nfa_had_G18],[ROOT.kRed,ROOT.kBlue],line_style=2)"
   ]
  },
  {
   "cell_type": "code",
   "execution_count": null,
   "metadata": {},
   "outputs": [],
   "source": [
    "h_deltapfa_all_Def_nfa_had.Draw()\n",
    "h_deltapfa_all_Def_nfa_had_G18.Draw(\"same\")\n",
    "h_deltapf_nfa_had.Draw(\"same\")\n",
    "h_deltapf_nfa_had_G18.Draw(\"same\")\n",
    "\n",
    "leg = ROOT.TLegend(0.4,0.7,0.88,0.88)\n",
    "leg.AddEntry(\"h_deltapf_nfa_had\",\"G21_11b, all final-state hadrons\")\n",
    "leg.AddEntry(\"h_deltapf_nfa_had_G18\",\"G18_02a, all final-state hadrons\")\n",
    "leg.AddEntry(\"h_deltapfa_all_Def_nfa_had\",\"G21_11b, well-reconstructed final-state hadrons\")\n",
    "leg.AddEntry(\"h_deltapfa_all_Def_nfa_had_G18\",\"G18_02a, well-reconstructed final-state hadrons\")\n",
    "leg.Draw()\n",
    "\n",
    "c.Draw()\n",
    "c.SaveAs(\"delta_p_DefA_nfa_had.pdf\")"
   ]
  },
  {
   "cell_type": "code",
   "execution_count": 36,
   "metadata": {},
   "outputs": [],
   "source": [
    "title=\";#deltap_{T} (GeV/c);Events/bin\"\n",
    "nbins=50\n",
    "xmin=0.0\n",
    "xmax=1.5\n",
    "\n",
    "h_deltapti_nfa_had2 = df_gst_GEM21_11b_DefA_trig.Filter(\"nfa_pi>0\").Histo1D((\"h_deltapti_nfa_had2\",title,nbins,xmin,xmax),\"delta_pti\")\n",
    "h_deltaptf_nfa_had2 = df_gst_GEM21_11b_DefA_trig.Filter(\"nfa_pi>0\").Histo1D((\"h_deltaptf_nfa_had2\",title,nbins,xmin,xmax),\"delta_ptf\")\n",
    "h_deltaptfa_all_Def_nfa_had2 = df_gst_GEM21_11b_DefA_trig.Filter(\"nfa_pi>0\").Histo1D((\"h_deltaptfa_all_Def_nfa_had2\",title,nbins,xmin,xmax),\"delta_ptfa_all\")\n",
    "h_deltaptfa_chhad_Def_nfa_had2 = df_gst_GEM21_11b_DefA_trig.Filter(\"nfa_pi>0\").Histo1D((\"h_deltaptfa_chhad_Def_nfa_had2\",title,nbins,xmin,xmax),\"delta_ptfa_chhad\")\n",
    "\n",
    "h_deltapti_nfa_had2_G18 = df_gst_G18_02a_DefA_trig.Filter(\"nfa_pi>0\").Histo1D((\"h_deltapti_nfa_had2_G18\",title,nbins,xmin,xmax),\"delta_pti\")\n",
    "h_deltaptf_nfa_had2_G18 = df_gst_G18_02a_DefA_trig.Filter(\"nfa_pi>0\").Histo1D((\"h_deltaptf_nfa_had2_G18\",title,nbins,xmin,xmax),\"delta_ptf\")\n",
    "h_deltaptfa_all_Def_nfa_had2_G18 = df_gst_G18_02a_DefA_trig.Filter(\"nfa_pi>0\").Histo1D((\"h_deltaptfa_all_Def_nfa_had2_G18\",title,nbins,xmin,xmax),\"delta_ptfa_all\")\n",
    "h_deltaptfa_chhad_Def_nfa_had2_G18 = df_gst_G18_02a_DefA_trig.Filter(\"nfa_pi>0\").Histo1D((\"h_deltaptfa_chhad_Def_nfa_had2_G18\",title,nbins,xmin,xmax),\"delta_ptfa_chhad\")"
   ]
  },
  {
   "cell_type": "code",
   "execution_count": 37,
   "metadata": {},
   "outputs": [],
   "source": [
    "format_hists([h_deltaptf_nfa_had2,h_deltaptfa_all_Def_nfa_had2],[ROOT.kRed,ROOT.kBlue])"
   ]
  },
  {
   "cell_type": "code",
   "execution_count": 38,
   "metadata": {},
   "outputs": [],
   "source": [
    "format_hists([h_deltaptf_nfa_had2_G18,h_deltaptfa_all_Def_nfa_had2_G18],[ROOT.kRed,ROOT.kBlue],line_style=2)"
   ]
  },
  {
   "cell_type": "code",
   "execution_count": 117,
   "metadata": {},
   "outputs": [
    {
     "name": "stderr",
     "output_type": "stream",
     "text": [
      "Info in <TCanvas::Print>: pdf file delta_pt_DefA_nfa_had_pi.pdf has been created\n"
     ]
    },
    {
     "data": {
      "text/html": [
       "\n",
       "\n",
       "<div id=\"root_plot_1659475424685\"\n",
       "     style=\"width: 696px; height: 472px\">\n",
       "</div>\n",
       "<script>\n",
       "\n",
       "function display_root_plot_1659475424685(Core) {\n",
       "   let obj = Core.parse({\"_typename\":\"TCanvas\",\"fUniqueID\":0,\"fBits\":3342344,\"fLineColor\":1,\"fLineStyle\":1,\"fLineWidth\":1,\"fFillColor\":0,\"fFillStyle\":1001,\"fLeftMargin\":0.1,\"fRightMargin\":0.1,\"fBottomMargin\":0.1,\"fTopMargin\":0.1,\"fXfile\":2,\"fYfile\":2,\"fAfile\":1,\"fXstat\":0.99,\"fYstat\":0.99,\"fAstat\":2,\"fFrameFillColor\":0,\"fFrameLineColor\":1,\"fFrameFillStyle\":1001,\"fFrameLineStyle\":1,\"fFrameLineWidth\":1,\"fFrameBorderSize\":1,\"fFrameBorderMode\":0,\"fX1\":-0.187500013969839,\"fY1\":-0.0170225178608934,\"fX2\":1.68750001396984,\"fY2\":0.153202650601829,\"fXtoAbsPixelk\":69.6000541484835,\"fXtoPixelk\":69.6000541484835,\"fXtoPixel\":371.199994468689,\"fYtoAbsPixelk\":424.800047186661,\"fYtoPixelk\":424.800047186661,\"fYtoPixel\":-2772.79796085714,\"fUtoAbsPixelk\":5e-5,\"fUtoPixelk\":5e-5,\"fUtoPixel\":696,\"fVtoAbsPixelk\":472.00005,\"fVtoPixelk\":472,\"fVtoPixel\":-472,\"fAbsPixeltoXk\":-0.187500013969839,\"fPixeltoXk\":-0.187500013969839,\"fPixeltoX\":0.0026939655573846,\"fAbsPixeltoYk\":0.153202650601829,\"fPixeltoYk\":-0.0170225178608934,\"fPixeltoY\":-3.60646543353226e-4,\"fXlowNDC\":0,\"fYlowNDC\":0,\"fXUpNDC\":1,\"fYUpNDC\":1,\"fWNDC\":1,\"fHNDC\":1,\"fAbsXlowNDC\":0,\"fAbsYlowNDC\":0,\"fAbsWNDC\":1,\"fAbsHNDC\":1,\"fUxmin\":0,\"fUymin\":0,\"fUxmax\":1.5,\"fUymax\":0.136180132740936,\"fTheta\":30,\"fPhi\":30,\"fAspectRatio\":0,\"fNumber\":0,\"fTickx\":0,\"fTicky\":0,\"fLogx\":0,\"fLogy\":0,\"fLogz\":0,\"fPadPaint\":0,\"fCrosshair\":0,\"fCrosshairPos\":0,\"fBorderSize\":2,\"fBorderMode\":0,\"fModified\":false,\"fGridx\":false,\"fGridy\":false,\"fAbsCoord\":false,\"fEditable\":true,\"fFixedAspectRatio\":false,\"fPrimitives\":{\"_typename\":\"TList\",\"name\":\"TList\",\"arr\":[{\"_typename\":\"TFrame\",\"fUniqueID\":0,\"fBits\":8,\"fLineColor\":1,\"fLineStyle\":1,\"fLineWidth\":1,\"fFillColor\":0,\"fFillStyle\":1001,\"fX1\":0,\"fY1\":0,\"fX2\":1.5,\"fY2\":0.136180132740936,\"fBorderSize\":1,\"fBorderMode\":0},{\"_typename\":\"TH1D\",\"fUniqueID\":0,\"fBits\":521,\"fName\":\"h_deltaptfa_all_Def_nfa_had2_G18\",\"fTitle\":\"\",\"fLineColor\":600,\"fLineStyle\":2,\"fLineWidth\":3,\"fFillColor\":0,\"fFillStyle\":1001,\"fMarkerColor\":1,\"fMarkerStyle\":1,\"fMarkerSize\":1,\"fNcells\":52,\"fXaxis\":{\"_typename\":\"TAxis\",\"fUniqueID\":0,\"fBits\":0,\"fName\":\"xaxis\",\"fTitle\":\"#deltap_{T} (GeV\\/c)\",\"fNdivisions\":510,\"fAxisColor\":1,\"fLabelColor\":1,\"fLabelFont\":42,\"fLabelOffset\":0.005,\"fLabelSize\":0.035,\"fTickLength\":0.03,\"fTitleOffset\":1,\"fTitleSize\":0.035,\"fTitleColor\":1,\"fTitleFont\":42,\"fNbins\":50,\"fXmin\":0,\"fXmax\":1.5,\"fXbins\":[],\"fFirst\":0,\"fLast\":0,\"fBits2\":0,\"fTimeDisplay\":false,\"fTimeFormat\":\"\",\"fLabels\":null,\"fModLabs\":null},\"fYaxis\":{\"_typename\":\"TAxis\",\"fUniqueID\":0,\"fBits\":0,\"fName\":\"yaxis\",\"fTitle\":\"Normalized Events\",\"fNdivisions\":510,\"fAxisColor\":1,\"fLabelColor\":1,\"fLabelFont\":42,\"fLabelOffset\":0.005,\"fLabelSize\":0.035,\"fTickLength\":0.03,\"fTitleOffset\":0,\"fTitleSize\":0.035,\"fTitleColor\":1,\"fTitleFont\":42,\"fNbins\":1,\"fXmin\":0,\"fXmax\":1,\"fXbins\":[],\"fFirst\":0,\"fLast\":0,\"fBits2\":0,\"fTimeDisplay\":false,\"fTimeFormat\":\"\",\"fLabels\":null,\"fModLabs\":null},\"fZaxis\":{\"_typename\":\"TAxis\",\"fUniqueID\":0,\"fBits\":0,\"fName\":\"zaxis\",\"fTitle\":\"\",\"fNdivisions\":510,\"fAxisColor\":1,\"fLabelColor\":1,\"fLabelFont\":42,\"fLabelOffset\":0.005,\"fLabelSize\":0.035,\"fTickLength\":0.03,\"fTitleOffset\":1,\"fTitleSize\":0.035,\"fTitleColor\":1,\"fTitleFont\":42,\"fNbins\":1,\"fXmin\":0,\"fXmax\":1,\"fXbins\":[],\"fFirst\":0,\"fLast\":0,\"fBits2\":0,\"fTimeDisplay\":false,\"fTimeFormat\":\"\",\"fLabels\":null,\"fModLabs\":null},\"fBarOffset\":0,\"fBarWidth\":1000,\"fEntries\":218792,\"fTsumw\":1,\"fTsumw2\":4.57096886256011e-6,\"fTsumwx\":0.40946491808187,\"fTsumwx2\":0.217792233144358,\"fMaximum\":0.136180132740936,\"fMinimum\":0,\"fNormFactor\":0,\"fContour\":[],\"fSumw2\":{\"$arr\":\"Float64\",\"len\":52,\"p\":1,\"v\":[2.42576511136356e-8,7.14566466913296e-8,1.18634748512681e-7,1.55616697238896e-7,1.85369406270607e-7,2.08039131902213e-7,2.21536498499464e-7,2.21724542306547e-7,2.11737326774835e-7,2.11507495455067e-7,2.18423328804433e-7,2.21933479869972e-7,2.27971775452953e-7,2.18611372611515e-7,2.19593379159612e-7,2.14954965251579e-7,2.01332236116273e-7,1.89631732564476e-7,1.74630015510565e-7,1.59105954548092e-7,1.3923599226638e-7,1.2314779988266e-7,1.07916251508982e-7,9.11176714096165e-8,7.883214268023e-8,6.74868329862558e-8,5.4553597810252e-8,4.54857075576095e-8,3.79221677616267e-8,3.18420846659609e-8,2.59918328900626e-8,1.99535373070818e-8,1.66732175613103e-8,1.27242976125789e-8,1.05931344656445e-8,7.91873365380524e-9,5.85025177589833e-9,4.13696375581382e-9,4.05338873044385e-9,2.67440081183924e-9,1.65060675105703e-9,1.52524421300207e-9,1.35809416226211e-9,7.52175228329786e-10,4.17875126849881e-10,4.59662639534869e-10,1.88043807082446e-10,1.0446878171247e-10,2.0893756342494e-10,1.25362538054964e-10,4.17875126849881e-10]},\"fOption\":\"\",\"fFunctions\":{\"_typename\":\"TList\",\"name\":\"TList\",\"arr\":[],\"opt\":[]},\"fBufferSize\":0,\"fBuffer\":[],\"fBinStatErrOpt\":0,\"fStatOverflows\":2,\"fArray\":{\"$arr\":\"Float64\",\"len\":52,\"p\":1,\"v\":[0.00530689484943229,0.0156327135099556,0.0259539612016163,0.0340445760883477,0.0405536357486333,0.045513136964511,0.0484659828497248,0.0485071215694879,0.0463221984531841,0.046271917795696,0.0477849084892034,0.0485528312581135,0.0498738412593933,0.0478260472089664,0.0480408827455067,0.0470261276580184,0.0440458559596292,0.0414861133965955,0.0382041577532774,0.0348079278883952,0.0304609365001006,0.0269412904759293,0.023609054175123,0.0199339952096246,0.0172462655184393,0.0147642294260691,0.0119347997001444,0.00995099921379335,0.0082963084855466,0.0069661565465416,0.00568628526502477,0.0043652752637449,0.00364763315232297,0.00278372003729911,0.00231748121331797,0.00173239719891028,0.00127987128151683,9.05051834786901e-4,8.86767959336661e-4,5.85084014407694e-4,3.61106540142249e-4,3.33680726966888e-4,2.97112976066407e-4,1.64554879052164e-4,9.14193772512022e-5,1.00561314976322e-4,4.1138719763041e-5,2.28548443128005e-5,4.57096886256011e-5,2.74258131753606e-5,9.14193772512022e-5]}},{\"_typename\":\"TH1D\",\"fUniqueID\":0,\"fBits\":521,\"fName\":\"h_deltaptfa_all_Def_nfa_had2\",\"fTitle\":\"\",\"fLineColor\":600,\"fLineStyle\":1,\"fLineWidth\":3,\"fFillColor\":0,\"fFillStyle\":1001,\"fMarkerColor\":1,\"fMarkerStyle\":1,\"fMarkerSize\":1,\"fNcells\":52,\"fXaxis\":{\"_typename\":\"TAxis\",\"fUniqueID\":0,\"fBits\":0,\"fName\":\"xaxis\",\"fTitle\":\"#deltap_{T} (GeV\\/c)\",\"fNdivisions\":510,\"fAxisColor\":1,\"fLabelColor\":1,\"fLabelFont\":42,\"fLabelOffset\":0.005,\"fLabelSize\":0.035,\"fTickLength\":0.03,\"fTitleOffset\":1,\"fTitleSize\":0.035,\"fTitleColor\":1,\"fTitleFont\":42,\"fNbins\":50,\"fXmin\":0,\"fXmax\":1.5,\"fXbins\":[],\"fFirst\":0,\"fLast\":0,\"fBits2\":0,\"fTimeDisplay\":false,\"fTimeFormat\":\"\",\"fLabels\":null,\"fModLabs\":null},\"fYaxis\":{\"_typename\":\"TAxis\",\"fUniqueID\":0,\"fBits\":0,\"fName\":\"yaxis\",\"fTitle\":\"Events\\/bin\",\"fNdivisions\":510,\"fAxisColor\":1,\"fLabelColor\":1,\"fLabelFont\":42,\"fLabelOffset\":0.005,\"fLabelSize\":0.035,\"fTickLength\":0.03,\"fTitleOffset\":0,\"fTitleSize\":0.035,\"fTitleColor\":1,\"fTitleFont\":42,\"fNbins\":1,\"fXmin\":0,\"fXmax\":1,\"fXbins\":[],\"fFirst\":0,\"fLast\":0,\"fBits2\":0,\"fTimeDisplay\":false,\"fTimeFormat\":\"\",\"fLabels\":null,\"fModLabs\":null},\"fZaxis\":{\"_typename\":\"TAxis\",\"fUniqueID\":0,\"fBits\":0,\"fName\":\"zaxis\",\"fTitle\":\"\",\"fNdivisions\":510,\"fAxisColor\":1,\"fLabelColor\":1,\"fLabelFont\":42,\"fLabelOffset\":0.005,\"fLabelSize\":0.035,\"fTickLength\":0.03,\"fTitleOffset\":1,\"fTitleSize\":0.035,\"fTitleColor\":1,\"fTitleFont\":42,\"fNbins\":1,\"fXmin\":0,\"fXmax\":1,\"fXbins\":[],\"fFirst\":0,\"fLast\":0,\"fBits2\":0,\"fTimeDisplay\":false,\"fTimeFormat\":\"\",\"fLabels\":null,\"fModLabs\":null},\"fBarOffset\":0,\"fBarWidth\":1000,\"fEntries\":168199,\"fTsumw\":1,\"fTsumw2\":5.94569204882602e-6,\"fTsumwx\":0.406598970610069,\"fTsumwx2\":0.218301516653437,\"fMaximum\":0.105206642527157,\"fMinimum\":0,\"fNormFactor\":0,\"fContour\":[],\"fSumw2\":{\"$arr\":\"Float64\",\"len\":52,\"p\":1,\"v\":[4.52496050425254e-8,1.21113395996634e-7,1.82412470327681e-7,2.27449967846569e-7,2.51700928049048e-7,2.71851142794547e-7,2.72098601572124e-7,2.73053085428489e-7,2.65700024609079e-7,2.66336347179989e-7,2.75598375712131e-7,2.78108314741834e-7,2.82173708944873e-7,2.82739329007905e-7,2.75209511918797e-7,2.68563476178176e-7,2.60750849057553e-7,2.38338154059927e-7,2.18506100599883e-7,2.08925910782285e-7,1.76190649634333e-7,1.58621076426415e-7,1.37657782840308e-7,1.17896431888142e-7,1.03720579058414e-7,8.57621420571615e-8,7.44850920504696e-8,6.46574434552961e-8,5.15067769898122e-8,4.24215047273676e-8,3.62703865418993e-8,2.95889995473389e-8,2.19531286964127e-8,1.80998420170102e-8,1.47414728927602e-8,1.19840750854813e-8,9.12062351638403e-9,6.46927947092356e-9,5.16128307516306e-9,4.10074545697887e-9,2.93415407697626e-9,2.2271289981868e-9,1.27264514182103e-9,9.54483856365771e-10,6.71673824849987e-10,5.30268809092095e-10,2.47458777576311e-10,3.5351253939473e-10,1.06053761818419e-10,1.06053761818419e-10,3.5351253939473e-10]},\"fOption\":\"\",\"fFunctions\":{\"_typename\":\"TList\",\"name\":\"TList\",\"arr\":[],\"opt\":[]},\"fBufferSize\":0,\"fBuffer\":[],\"fBinStatErrOpt\":0,\"fStatOverflows\":2,\"fArray\":{\"$arr\":\"Float64\",\"len\":52,\"p\":1,\"v\":[0.00761048582249731,0.020369940959278,0.0306797709719423,0.0382545826421466,0.0423333273876413,0.0457223718554721,0.0457639916998139,0.0459245253851322,0.0446878214389764,0.0447948438958553,0.0463526152126477,0.0467747593481143,0.0474585139337293,0.0475536450065105,0.0462872126001106,0.0451694224949313,0.0438554245521407,0.040085855793185,0.0367503225537936,0.0351390400085618,0.0296333291713489,0.0266783202230824,0.0231525248381285,0.0198288829828348,0.0174446604712555,0.0144242489104519,0.0125275731468764,0.0108746707573028,0.00866287331513951,0.00713483045859123,0.0061002800420955,0.00497654424486738,0.00369227476232096,0.00304419432899892,0.00247935358436045,0.00201558960455202,0.00153398854859711,0.00108806164493516,8.68071039128599e-4,6.89700277663819e-4,4.9349244005256e-4,3.74578599076039e-4,2.14044913757737e-4,1.60533685318303e-4,1.12968148927694e-4,8.91853807323903e-5,4.16198443417822e-5,5.94569204882602e-5,1.78370761464781e-5,1.78370761464781e-5,5.94569204882602e-5]}},{\"_typename\":\"TH1D\",\"fUniqueID\":0,\"fBits\":521,\"fName\":\"h_deltaptf_nfa_had2\",\"fTitle\":\"\",\"fLineColor\":632,\"fLineStyle\":1,\"fLineWidth\":3,\"fFillColor\":0,\"fFillStyle\":1001,\"fMarkerColor\":1,\"fMarkerStyle\":1,\"fMarkerSize\":1,\"fNcells\":52,\"fXaxis\":{\"_typename\":\"TAxis\",\"fUniqueID\":0,\"fBits\":0,\"fName\":\"xaxis\",\"fTitle\":\"#deltap_{T} (GeV\\/c)\",\"fNdivisions\":510,\"fAxisColor\":1,\"fLabelColor\":1,\"fLabelFont\":42,\"fLabelOffset\":0.005,\"fLabelSize\":0.035,\"fTickLength\":0.03,\"fTitleOffset\":1,\"fTitleSize\":0.035,\"fTitleColor\":1,\"fTitleFont\":42,\"fNbins\":50,\"fXmin\":0,\"fXmax\":1.5,\"fXbins\":[],\"fFirst\":0,\"fLast\":0,\"fBits2\":0,\"fTimeDisplay\":false,\"fTimeFormat\":\"\",\"fLabels\":null,\"fModLabs\":null},\"fYaxis\":{\"_typename\":\"TAxis\",\"fUniqueID\":0,\"fBits\":0,\"fName\":\"yaxis\",\"fTitle\":\"Events\\/bin\",\"fNdivisions\":510,\"fAxisColor\":1,\"fLabelColor\":1,\"fLabelFont\":42,\"fLabelOffset\":0.005,\"fLabelSize\":0.035,\"fTickLength\":0.03,\"fTitleOffset\":0,\"fTitleSize\":0.035,\"fTitleColor\":1,\"fTitleFont\":42,\"fNbins\":1,\"fXmin\":0,\"fXmax\":1,\"fXbins\":[],\"fFirst\":0,\"fLast\":0,\"fBits2\":0,\"fTimeDisplay\":false,\"fTimeFormat\":\"\",\"fLabels\":null,\"fModLabs\":null},\"fZaxis\":{\"_typename\":\"TAxis\",\"fUniqueID\":0,\"fBits\":0,\"fName\":\"zaxis\",\"fTitle\":\"\",\"fNdivisions\":510,\"fAxisColor\":1,\"fLabelColor\":1,\"fLabelFont\":42,\"fLabelOffset\":0.005,\"fLabelSize\":0.035,\"fTickLength\":0.03,\"fTitleOffset\":1,\"fTitleSize\":0.035,\"fTitleColor\":1,\"fTitleFont\":42,\"fNbins\":1,\"fXmin\":0,\"fXmax\":1,\"fXbins\":[],\"fFirst\":0,\"fLast\":0,\"fBits2\":0,\"fTimeDisplay\":false,\"fTimeFormat\":\"\",\"fLabels\":null,\"fModLabs\":null},\"fBarOffset\":0,\"fBarWidth\":1000,\"fEntries\":168199,\"fTsumw\":1,\"fTsumw2\":5.95181411294162e-6,\"fTsumwx\":0.261845410594865,\"fTsumwx2\":0.116844560190889,\"fMaximum\":0.105314970002857,\"fMinimum\":0,\"fNormFactor\":0,\"fContour\":[],\"fSumw2\":{\"$arr\":\"Float64\",\"len\":52,\"p\":1,\"v\":[1.88420741279024e-7,4.28525231669929e-7,5.36072772659423e-7,5.69831931606388e-7,5.55626871021149e-7,5.1102794015627e-7,4.40959087693418e-7,3.57606201017437e-7,2.74217890250221e-7,2.36420384902464e-7,2.11729793311661e-7,1.93876051329216e-7,1.76199429802945e-7,1.53669707777478e-7,1.34717818966747e-7,1.19875124739278e-7,1.05032430511808e-7,9.42280826851295e-8,8.06606557421203e-8,7.40009265899382e-8,6.53574483285955e-8,5.84497505377683e-8,5.14357804732361e-8,4.23317890258383e-8,4.1481610836198e-8,3.37591589469656e-8,2.82330007143038e-8,2.61429793314382e-8,2.45134711346277e-8,1.81371347123257e-8,1.68972915191003e-8,1.48781183187047e-8,1.23984319322539e-8,1.13711332864386e-8,9.59992872468801e-9,9.03314326492783e-9,6.58888096971206e-9,5.45531005019171e-9,6.12836778365692e-9,5.03022095537158e-9,4.18004276573131e-9,3.68410548844115e-9,3.04647184621095e-9,2.69223093386084e-9,1.98374910916062e-9,1.73578047051554e-9,1.55866001434049e-9,1.06272273705033e-9,1.16899501075537e-9,7.79330007170244e-10,6.48260869600703e-9]},\"fOption\":\"\",\"fFunctions\":{\"_typename\":\"TList\",\"name\":\"TList\",\"arr\":[],\"opt\":[]},\"fBufferSize\":0,\"fBuffer\":[],\"fBinStatErrOpt\":0,\"fStatOverflows\":2,\"fArray\":{\"$arr\":\"Float64\",\"len\":52,\"p\":1,\"v\":[0.0316576992667365,0.0719990953242548,0.0900688029711456,0.095740881820779,0.0933542043614894,0.0858608703932959,0.0740881820778973,0.0600835634701457,0.0460729930482811,0.0397224073897724,0.0355739929530521,0.0325742786401295,0.0296043233977716,0.0258189696219408,0.022634749071517,0.0201409389581945,0.0176471288448719,0.0158318255404247,0.0135522807351681,0.0124333396819351,0.0109810970383773,0.00982049328635368,0.00864203409199124,0.00711241786496524,0.00696957432625464,0.00567207884963337,0.00474359584801447,0.00439243881535092,0.0041186553661556,0.00304732882582611,0.00283901533187315,0.00249976192743548,0.00208313493952957,0.00191053233025426,0.00161294162460718,0.00151771259880011,0.00110703742500714,9.1657937339301e-4,0.0010296638415389,8.45157604037711e-4,7.02314065327112e-4,6.18988667745929e-4,5.1185601371298e-4,4.52337872583563e-4,3.33301590324731e-4,2.9163889153414e-4,2.61879820969431e-4,1.78554423388249e-4,1.96409865727074e-4,1.30939910484716e-4,0.00108918198266832]}},{\"_typename\":\"TH1D\",\"fUniqueID\":0,\"fBits\":521,\"fName\":\"h_deltaptf_nfa_had2_G18\",\"fTitle\":\"\",\"fLineColor\":632,\"fLineStyle\":2,\"fLineWidth\":3,\"fFillColor\":0,\"fFillStyle\":1001,\"fMarkerColor\":1,\"fMarkerStyle\":1,\"fMarkerSize\":1,\"fNcells\":52,\"fXaxis\":{\"_typename\":\"TAxis\",\"fUniqueID\":0,\"fBits\":0,\"fName\":\"xaxis\",\"fTitle\":\"#deltap_{T} (GeV\\/c)\",\"fNdivisions\":510,\"fAxisColor\":1,\"fLabelColor\":1,\"fLabelFont\":42,\"fLabelOffset\":0.005,\"fLabelSize\":0.035,\"fTickLength\":0.03,\"fTitleOffset\":1,\"fTitleSize\":0.035,\"fTitleColor\":1,\"fTitleFont\":42,\"fNbins\":50,\"fXmin\":0,\"fXmax\":1.5,\"fXbins\":[],\"fFirst\":0,\"fLast\":0,\"fBits2\":0,\"fTimeDisplay\":false,\"fTimeFormat\":\"\",\"fLabels\":null,\"fModLabs\":null},\"fYaxis\":{\"_typename\":\"TAxis\",\"fUniqueID\":0,\"fBits\":0,\"fName\":\"yaxis\",\"fTitle\":\"Events\\/bin\",\"fNdivisions\":510,\"fAxisColor\":1,\"fLabelColor\":1,\"fLabelFont\":42,\"fLabelOffset\":0.005,\"fLabelSize\":0.035,\"fTickLength\":0.03,\"fTitleOffset\":0,\"fTitleSize\":0.035,\"fTitleColor\":1,\"fTitleFont\":42,\"fNbins\":1,\"fXmin\":0,\"fXmax\":1,\"fXbins\":[],\"fFirst\":0,\"fLast\":0,\"fBits2\":0,\"fTimeDisplay\":false,\"fTimeFormat\":\"\",\"fLabels\":null,\"fModLabs\":null},\"fZaxis\":{\"_typename\":\"TAxis\",\"fUniqueID\":0,\"fBits\":0,\"fName\":\"zaxis\",\"fTitle\":\"\",\"fNdivisions\":510,\"fAxisColor\":1,\"fLabelColor\":1,\"fLabelFont\":42,\"fLabelOffset\":0.005,\"fLabelSize\":0.035,\"fTickLength\":0.03,\"fTitleOffset\":1,\"fTitleSize\":0.035,\"fTitleColor\":1,\"fTitleFont\":42,\"fNbins\":1,\"fXmin\":0,\"fXmax\":1,\"fXbins\":[],\"fFirst\":0,\"fLast\":0,\"fBits2\":0,\"fTimeDisplay\":false,\"fTimeFormat\":\"\",\"fLabels\":null,\"fModLabs\":null},\"fBarOffset\":0,\"fBarWidth\":1000,\"fEntries\":218792,\"fTsumw\":1,\"fTsumw2\":4.57055102563165e-6,\"fTsumwx\":0.210728655652174,\"fTsumwx2\":0.0591330668164891,\"fMaximum\":0.136167684376028,\"fMinimum\":0,\"fNormFactor\":0,\"fContour\":[],\"fSumw2\":{\"$arr\":\"Float64\",\"len\":52,\"p\":1,\"v\":[6.93754797073143e-8,2.02047467548673e-7,3.26843949262463e-7,4.25256440952062e-7,5.09568225384076e-7,5.64070070176724e-7,5.65783044984312e-7,5.04512860708024e-7,2.97932276900246e-7,2.26008224918227e-7,1.9321102433392e-7,1.63025065834351e-7,1.2976828664313e-7,1.02924718012026e-7,7.70629764047824e-8,5.58388007400335e-8,4.0714486585232e-8,2.92459113490635e-8,2.38563076861647e-8,1.80906851630636e-8,1.27010815001647e-8,9.54670106180145e-9,6.43410049679398e-9,4.51222632242695e-9,3.36327980514231e-9,2.38145278128089e-9,1.46229556745318e-9,1.31606601070786e-9,9.60937087183516e-10,7.31147783726588e-10,4.80468543591758e-10,3.55128923524343e-10,3.3423898684644e-10,2.29789303456928e-10,1.25339620067415e-10,8.35597467116101e-11,1.25339620067415e-10,8.35597467116101e-11,2.08899366779025e-11,4.17798733558051e-11,2.08899366779025e-11,2.08899366779025e-11,2.08899366779025e-11,2.08899366779025e-11,0,4.17798733558051e-11]},\"fOption\":\"\",\"fFunctions\":{\"_typename\":\"TList\",\"name\":\"TList\",\"arr\":[],\"opt\":[]},\"fBufferSize\":0,\"fBuffer\":[],\"fBinStatErrOpt\":0,\"fStatOverflows\":2,\"fArray\":{\"$arr\":\"Float64\",\"len\":52,\"p\":1,\"v\":[0.0151787999561227,0.0442063695199093,0.0715108413470328,0.0930427072287835,0.111489451168233,0.123414018794106,0.123788803978208,0.11038337782003,0.0651851987275586,0.0494487915463088,0.0422730264360671,0.0356685802040294,0.0283922629712238,0.0225191049032871,0.0168607627335552,0.0122170828915134,0.00890800394895608,0.00639877143588431,0.00521956927127134,0.00395809718819701,0.00277889502358404,0.00208874181871366,0.00140772971589455,9.87239021536436e-4,7.35858715126696e-4,5.21042816922008e-4,3.19938571794215e-4,2.87944714614794e-4,2.10245347179056e-4,1.59969285897108e-4,1.05122673589528e-4,7.7699367435738e-5,7.31288164101064e-5,5.02760612819481e-5,2.74233061537899e-5,1.82822041025266e-5,2.74233061537899e-5,1.82822041025266e-5,4.57055102563165e-6,9.1411020512633e-6,4.57055102563165e-6,4.57055102563165e-6,4.57055102563165e-6,4.57055102563165e-6,0,9.1411020512633e-6]}},{\"_typename\":\"TLegend\",\"fUniqueID\":0,\"fBits\":8,\"fLineColor\":1,\"fLineStyle\":1,\"fLineWidth\":1,\"fFillColor\":0,\"fFillStyle\":1001,\"fX1\":0.562499997206032,\"fY1\":0.102135100063012,\"fX2\":1.46250001061708,\"fY2\":0.132775630386302,\"fX1NDC\":0.4,\"fY1NDC\":0.7,\"fX2NDC\":0.88,\"fY2NDC\":0.88,\"fBorderSize\":1,\"fInit\":1,\"fShadowColor\":1,\"fCornerRadius\":0,\"fOption\":\"brNDC\",\"fName\":\"TPave\",\"fTextAngle\":0,\"fTextSize\":0,\"fTextAlign\":12,\"fTextColor\":1,\"fTextFont\":42,\"fPrimitives\":{\"_typename\":\"TList\",\"name\":\"TList\",\"arr\":[{\"_typename\":\"TLegendEntry\",\"fUniqueID\":0,\"fBits\":0,\"fTextAngle\":0,\"fTextSize\":0,\"fTextAlign\":0,\"fTextColor\":0,\"fTextFont\":42,\"fLineColor\":632,\"fLineStyle\":1,\"fLineWidth\":3,\"fFillColor\":0,\"fFillStyle\":1001,\"fMarkerColor\":1,\"fMarkerStyle\":1,\"fMarkerSize\":1,\"fObject\":{\"$ref\":13},\"fLabel\":\"G21_11b, all final-state hadrons\",\"fOption\":\"lpf\"},{\"_typename\":\"TLegendEntry\",\"fUniqueID\":0,\"fBits\":0,\"fTextAngle\":0,\"fTextSize\":0,\"fTextAlign\":0,\"fTextColor\":0,\"fTextFont\":42,\"fLineColor\":632,\"fLineStyle\":2,\"fLineWidth\":3,\"fFillColor\":0,\"fFillStyle\":1001,\"fMarkerColor\":1,\"fMarkerStyle\":1,\"fMarkerSize\":1,\"fObject\":{\"$ref\":18},\"fLabel\":\"G18_02a, all final-state hadrons\",\"fOption\":\"lpf\"},{\"_typename\":\"TLegendEntry\",\"fUniqueID\":0,\"fBits\":0,\"fTextAngle\":0,\"fTextSize\":0,\"fTextAlign\":0,\"fTextColor\":0,\"fTextFont\":42,\"fLineColor\":600,\"fLineStyle\":1,\"fLineWidth\":3,\"fFillColor\":0,\"fFillStyle\":1001,\"fMarkerColor\":1,\"fMarkerStyle\":1,\"fMarkerSize\":1,\"fObject\":{\"$ref\":8},\"fLabel\":\"G21_11b, well-reconstructed final-state hadrons\",\"fOption\":\"lpf\"},{\"_typename\":\"TLegendEntry\",\"fUniqueID\":0,\"fBits\":0,\"fTextAngle\":0,\"fTextSize\":0,\"fTextAlign\":0,\"fTextColor\":0,\"fTextFont\":42,\"fLineColor\":600,\"fLineStyle\":2,\"fLineWidth\":3,\"fFillColor\":0,\"fFillStyle\":1001,\"fMarkerColor\":1,\"fMarkerStyle\":1,\"fMarkerSize\":1,\"fObject\":{\"$ref\":3},\"fLabel\":\"G18_02a, well-reconstructed final-state hadrons\",\"fOption\":\"lpf\"}],\"opt\":[\"lpf\",\"lpf\",\"lpf\",\"lpf\"]},\"fEntrySeparation\":0.1,\"fMargin\":0.25,\"fNColumns\":1,\"fColumnSeparation\":0},{\"_typename\":\"TStyle\",\"fUniqueID\":0,\"fBits\":0,\"fName\":\"Modern\",\"fTitle\":\"Modern Style\",\"fLineColor\":1,\"fLineStyle\":1,\"fLineWidth\":1,\"fFillColor\":19,\"fFillStyle\":1001,\"fMarkerColor\":1,\"fMarkerStyle\":1,\"fMarkerSize\":1,\"fTextAngle\":0,\"fTextSize\":0.05,\"fTextAlign\":11,\"fTextColor\":1,\"fTextFont\":62,\"fXaxis\":{\"_typename\":\"TAttAxis\",\"fNdivisions\":510,\"fAxisColor\":1,\"fLabelColor\":1,\"fLabelFont\":42,\"fLabelOffset\":0.005,\"fLabelSize\":0.035,\"fTickLength\":0.03,\"fTitleOffset\":1,\"fTitleSize\":0.035,\"fTitleColor\":1,\"fTitleFont\":42},\"fYaxis\":{\"_typename\":\"TAttAxis\",\"fNdivisions\":510,\"fAxisColor\":1,\"fLabelColor\":1,\"fLabelFont\":42,\"fLabelOffset\":0.005,\"fLabelSize\":0.035,\"fTickLength\":0.03,\"fTitleOffset\":0,\"fTitleSize\":0.035,\"fTitleColor\":1,\"fTitleFont\":42},\"fZaxis\":{\"_typename\":\"TAttAxis\",\"fNdivisions\":510,\"fAxisColor\":1,\"fLabelColor\":1,\"fLabelFont\":42,\"fLabelOffset\":0.005,\"fLabelSize\":0.035,\"fTickLength\":0.03,\"fTitleOffset\":1,\"fTitleSize\":0.035,\"fTitleColor\":1,\"fTitleFont\":42},\"fBarWidth\":1,\"fBarOffset\":0,\"fColorModelPS\":0,\"fDrawBorder\":0,\"fOptLogx\":0,\"fOptLogy\":0,\"fOptLogz\":0,\"fOptDate\":0,\"fOptStat\":0,\"fOptTitle\":1,\"fOptFile\":0,\"fOptFit\":0,\"fShowEventStatus\":0,\"fShowEditor\":0,\"fShowToolBar\":0,\"fNumberContours\":20,\"fAttDate\":{\"_typename\":\"TAttText\",\"fTextAngle\":0,\"fTextSize\":0.025,\"fTextAlign\":11,\"fTextColor\":1,\"fTextFont\":62},\"fDateX\":0.01,\"fDateY\":0.01,\"fEndErrorSize\":2,\"fErrorX\":0.5,\"fFuncColor\":2,\"fFuncStyle\":1,\"fFuncWidth\":2,\"fGridColor\":0,\"fGridStyle\":3,\"fGridWidth\":1,\"fLegendBorderSize\":1,\"fLegendFillColor\":0,\"fLegendFont\":42,\"fLegendTextSize\":0,\"fHatchesLineWidth\":1,\"fHatchesSpacing\":1,\"fFrameFillColor\":0,\"fFrameLineColor\":1,\"fFrameFillStyle\":1001,\"fFrameLineStyle\":1,\"fFrameLineWidth\":1,\"fFrameBorderSize\":1,\"fFrameBorderMode\":0,\"fHistFillColor\":0,\"fHistLineColor\":602,\"fHistFillStyle\":1001,\"fHistLineStyle\":1,\"fHistLineWidth\":1,\"fHistMinimumZero\":false,\"fHistTopMargin\":0.05,\"fCanvasPreferGL\":false,\"fCanvasColor\":0,\"fCanvasBorderSize\":2,\"fCanvasBorderMode\":0,\"fCanvasDefH\":500,\"fCanvasDefW\":700,\"fCanvasDefX\":10,\"fCanvasDefY\":10,\"fPadColor\":0,\"fPadBorderSize\":2,\"fPadBorderMode\":0,\"fPadBottomMargin\":0.1,\"fPadTopMargin\":0.1,\"fPadLeftMargin\":0.1,\"fPadRightMargin\":0.1,\"fPadGridX\":false,\"fPadGridY\":false,\"fPadTickX\":0,\"fPadTickY\":0,\"fPaperSizeX\":20,\"fPaperSizeY\":26,\"fScreenFactor\":1,\"fStatColor\":0,\"fStatTextColor\":1,\"fStatBorderSize\":1,\"fStatFont\":42,\"fStatFontSize\":0,\"fStatStyle\":1001,\"fStatFormat\":\"6.4g\",\"fStatX\":0.98,\"fStatY\":0.935,\"fStatW\":0.2,\"fStatH\":0.16,\"fStripDecimals\":true,\"fTitleAlign\":23,\"fTitleColor\":0,\"fTitleTextColor\":1,\"fTitleBorderSize\":0,\"fTitleFont\":42,\"fTitleFontSize\":0.05,\"fTitleStyle\":0,\"fTitleX\":0.5,\"fTitleY\":0.995,\"fTitleW\":0,\"fTitleH\":0,\"fLegoInnerR\":0.5,\"fLineStyles\":[\"\",\"  \",\" 12 12\",\" 4 8\",\" 12 16 4 16\",\" 20 12 4 12\",\" 20 12 4 12 4 12 4 12\",\" 20 20\",\" 20 12 4 12 4 12\",\" 80 20\",\" 80 40 4 40\",\"  \",\"  \",\"  \",\"  \",\"  \",\"  \",\"  \",\"  \",\"  \",\"  \",\"  \",\"  \",\"  \",\"  \",\"  \",\"  \",\"  \",\"  \",\"  \"],\"fHeaderPS\":\"\",\"fTitlePS\":\"\",\"fFitFormat\":\"5.4g\",\"fPaintTextFormat\":\"g\",\"fLineScalePS\":3,\"fJoinLinePS\":0,\"fCapLinePS\":0,\"fTimeOffset\":788918400,\"fImageScaling\":1}],\"opt\":[\"\",\"HIST\",\"SAMEHIST\",\"SAMEHIST\",\"SAMEHIST\",\"\",\"\"]},\"fExecs\":null,\"fName\":\"c1\",\"fTitle\":\"c1\",\"fNumPaletteColor\":0,\"fNextPaletteColor\":0,\"fDISPLAY\":\"$DISPLAY\",\"fDoubleBuffer\":0,\"fRetained\":true,\"fXsizeUser\":0,\"fYsizeUser\":0,\"fXsizeReal\":20,\"fYsizeReal\":14.28571,\"fWindowTopX\":0,\"fWindowTopY\":0,\"fWindowWidth\":0,\"fWindowHeight\":0,\"fCw\":696,\"fCh\":472,\"fCatt\":{\"_typename\":\"TAttCanvas\",\"fXBetween\":2,\"fYBetween\":2,\"fTitleFromTop\":1.2,\"fXdate\":0.2,\"fYdate\":0.3,\"fAdate\":1},\"kMoveOpaque\":true,\"kResizeOpaque\":true,\"fHighLightColor\":2,\"fBatch\":true,\"kShowEventStatus\":false,\"kAutoExec\":true,\"kMenuBar\":true});\n",
       "   Core.settings.HandleKeys = false;\n",
       "   Core.draw(\"root_plot_1659475424685\", obj, \"\");\n",
       "}\n",
       "\n",
       "function script_load_root_plot_1659475424685(src, on_error) {\n",
       "    let script = document.createElement('script');\n",
       "    script.src = src;\n",
       "    script.onload = function() { display_root_plot_1659475424685(JSROOT); };\n",
       "    script.onerror = function() { script.remove(); on_error(); };\n",
       "    document.head.appendChild(script);\n",
       "}\n",
       "\n",
       "if (typeof requirejs !== 'undefined') {\n",
       "\n",
       "    // We are in jupyter notebooks, use require.js which should be configured already\n",
       "    requirejs.config({\n",
       "       paths: { 'JSRootCore' : [ 'scripts/JSRoot.core', 'https://root.cern/js/6.1.1/scripts/JSRoot.core.min', 'https://jsroot.gsi.de/6.1.1/scripts/JSRoot.core.min' ] }\n",
       "    })(['JSRootCore'],  function(Core) {\n",
       "       display_root_plot_1659475424685(Core);\n",
       "    });\n",
       "\n",
       "} else if (typeof JSROOT !== 'undefined') {\n",
       "\n",
       "   // JSROOT already loaded, just use it\n",
       "   display_root_plot_1659475424685(JSROOT);\n",
       "\n",
       "} else {\n",
       "\n",
       "    // We are in jupyterlab without require.js, directly loading jsroot\n",
       "    // Jupyterlab might be installed in a different base_url so we need to know it.\n",
       "    try {\n",
       "        var base_url = JSON.parse(document.getElementById('jupyter-config-data').innerHTML).baseUrl;\n",
       "    } catch(_) {\n",
       "        var base_url = '/';\n",
       "    }\n",
       "\n",
       "    // Try loading a local version of requirejs and fallback to cdn if not possible.\n",
       "    script_load_root_plot_1659475424685(base_url + 'static/scripts/JSRoot.core.js', function(){\n",
       "        console.error('Fail to load JSROOT locally, please check your jupyter_notebook_config.py file');\n",
       "        script_load_root_plot_1659475424685('https://root.cern/js/6.1.1/scripts/JSRoot.core.min.js', function(){\n",
       "            document.getElementById(\"root_plot_1659475424685\").innerHTML = \"Failed to load JSROOT\";\n",
       "        });\n",
       "    });\n",
       "}\n",
       "\n",
       "</script>\n"
      ],
      "text/plain": [
       "<IPython.core.display.HTML object>"
      ]
     },
     "metadata": {},
     "output_type": "display_data"
    }
   ],
   "source": [
    "h_deltaptfa_all_Def_nfa_had2_G18.SetTitle(\";#deltap_{T} (GeV/c);Normalized Events\")\n",
    "h_deltaptfa_all_Def_nfa_had2_G18.DrawNormalized()\n",
    "h_deltaptfa_all_Def_nfa_had2.DrawNormalized(\"same\")\n",
    "h_deltaptf_nfa_had2.DrawNormalized(\"same\")\n",
    "h_deltaptf_nfa_had2_G18.DrawNormalized(\"same\")\n",
    "\n",
    "leg = ROOT.TLegend(0.4,0.7,0.88,0.88)\n",
    "leg.AddEntry(\"h_deltaptf_nfa_had2\",\"G21_11b, all final-state hadrons\")\n",
    "leg.AddEntry(\"h_deltaptf_nfa_had2_G18\",\"G18_02a, all final-state hadrons\")\n",
    "leg.AddEntry(\"h_deltaptfa_all_Def_nfa_had2\",\"G21_11b, well-reconstructed final-state hadrons\")\n",
    "leg.AddEntry(\"h_deltaptfa_all_Def_nfa_had2_G18\",\"G18_02a, well-reconstructed final-state hadrons\")\n",
    "leg.Draw()\n",
    "\n",
    "c.Draw()\n",
    "c.SaveAs(\"delta_pt_DefA_nfa_had_pi.pdf\")"
   ]
  },
  {
   "cell_type": "code",
   "execution_count": 40,
   "metadata": {},
   "outputs": [],
   "source": [
    "title=\";#deltap_{T} (GeV/c);Events/bin\"\n",
    "nbins=50\n",
    "xmin=0.0\n",
    "xmax=1.5\n",
    "\n",
    "h_deltapti_nfa_had_0pi = df_gst_GEM21_11b_DefA_trig.Filter(\"nfa_pi==0 && nfa_had>0\").Histo1D((\"h_deltapti_nfa_had_0pi\",title,nbins,xmin,xmax),\"delta_pti\")\n",
    "h_deltaptf_nfa_had_0pi = df_gst_GEM21_11b_DefA_trig.Filter(\"nfa_pi==0 && nfa_had>0\").Histo1D((\"h_deltaptf_nfa_had_0pi\",title,nbins,xmin,xmax),\"delta_ptf\")\n",
    "h_deltaptfa_all_Def_nfa_had_0pi = df_gst_GEM21_11b_DefA_trig.Filter(\"nfa_pi==0 && nfa_had>0\").Histo1D((\"h_deltaptfa_all_Def_nfa_had_0pi\",title,nbins,xmin,xmax),\"delta_ptfa_all\")\n",
    "h_deltaptfa_chhad_Def_nfa_had_0pi = df_gst_GEM21_11b_DefA_trig.Filter(\"nfa_pi==0 && nfa_had>0\").Histo1D((\"h_deltaptfa_chhad_Def_nfa_had_0pi\",title,nbins,xmin,xmax),\"delta_ptfa_chhad\")\n",
    "\n",
    "h_deltapti_nfa_had_0pi_G18 = df_gst_G18_02a_DefA_trig.Filter(\"nfa_pi==0 && nfa_had>0\").Histo1D((\"h_deltapti_nfa_had_0pi_G18\",title,nbins,xmin,xmax),\"delta_pti\")\n",
    "h_deltaptf_nfa_had_0pi_G18 = df_gst_G18_02a_DefA_trig.Filter(\"nfa_pi==0 && nfa_had>0\").Histo1D((\"h_deltaptf_nfa_had_0pi_G18\",title,nbins,xmin,xmax),\"delta_ptf\")\n",
    "h_deltaptfa_all_Def_nfa_had_0pi_G18 = df_gst_G18_02a_DefA_trig.Filter(\"nfa_pi==0 && nfa_had>0\").Histo1D((\"h_deltaptfa_all_Def_nfa_had_0pi_G18\",title,nbins,xmin,xmax),\"delta_ptfa_all\")\n",
    "h_deltaptfa_chhad_Def_nfa_had_0pi_G18 = df_gst_G18_02a_DefA_trig.Filter(\"nfa_pi==0 && nfa_had>0\").Histo1D((\"h_deltaptfa_chhad_Def_nfa_had_0pi_G18\",title,nbins,xmin,xmax),\"delta_ptfa_chhad\")"
   ]
  },
  {
   "cell_type": "code",
   "execution_count": 41,
   "metadata": {},
   "outputs": [],
   "source": [
    "format_hists([h_deltaptf_nfa_had_0pi,h_deltaptfa_all_Def_nfa_had_0pi],[ROOT.kRed,ROOT.kBlue])"
   ]
  },
  {
   "cell_type": "code",
   "execution_count": 42,
   "metadata": {},
   "outputs": [],
   "source": [
    "format_hists([h_deltaptf_nfa_had_0pi_G18,h_deltaptfa_all_Def_nfa_had_0pi_G18],[ROOT.kRed,ROOT.kBlue],line_style=2)"
   ]
  },
  {
   "cell_type": "code",
   "execution_count": 116,
   "metadata": {},
   "outputs": [
    {
     "name": "stderr",
     "output_type": "stream",
     "text": [
      "Info in <TCanvas::Print>: pdf file delta_pt_DefA_nfa_had_0pi.pdf has been created\n"
     ]
    },
    {
     "data": {
      "text/html": [
       "\n",
       "\n",
       "<div id=\"root_plot_1659475369448\"\n",
       "     style=\"width: 696px; height: 472px\">\n",
       "</div>\n",
       "<script>\n",
       "\n",
       "function display_root_plot_1659475369448(Core) {\n",
       "   let obj = Core.parse({\"_typename\":\"TCanvas\",\"fUniqueID\":0,\"fBits\":3342344,\"fLineColor\":1,\"fLineStyle\":1,\"fLineWidth\":1,\"fFillColor\":0,\"fFillStyle\":1001,\"fLeftMargin\":0.1,\"fRightMargin\":0.1,\"fBottomMargin\":0.1,\"fTopMargin\":0.1,\"fXfile\":2,\"fYfile\":2,\"fAfile\":1,\"fXstat\":0.99,\"fYstat\":0.99,\"fAstat\":2,\"fFrameFillColor\":0,\"fFrameLineColor\":1,\"fFrameFillStyle\":1001,\"fFrameLineStyle\":1,\"fFrameLineWidth\":1,\"fFrameBorderSize\":1,\"fFrameBorderMode\":0,\"fX1\":-0.187500013969839,\"fY1\":-0.0160644694567685,\"fX2\":1.68750001396984,\"fY2\":0.144580215535747,\"fXtoAbsPixelk\":69.6000541484835,\"fXtoPixelk\":69.6000541484835,\"fXtoPixel\":371.199994468689,\"fYtoAbsPixelk\":424.800047186661,\"fYtoPixelk\":424.800047186661,\"fYtoPixel\":-2938.16132181398,\"fUtoAbsPixelk\":5e-5,\"fUtoPixelk\":5e-5,\"fUtoPixel\":696,\"fVtoAbsPixelk\":472.00005,\"fVtoPixelk\":472,\"fVtoPixel\":-472,\"fAbsPixeltoXk\":-0.187500013969839,\"fPixeltoXk\":-0.187500013969839,\"fPixeltoX\":0.0026939655573846,\"fAbsPixeltoYk\":0.144580215535747,\"fPixeltoYk\":-0.0160644694567685,\"fPixeltoY\":-3.40348908882448e-4,\"fXlowNDC\":0,\"fYlowNDC\":0,\"fXUpNDC\":1,\"fYUpNDC\":1,\"fWNDC\":1,\"fHNDC\":1,\"fAbsXlowNDC\":0,\"fAbsYlowNDC\":0,\"fAbsWNDC\":1,\"fAbsHNDC\":1,\"fUxmin\":0,\"fUymin\":0,\"fUxmax\":1.5,\"fUymax\":0.128515746078978,\"fTheta\":30,\"fPhi\":30,\"fAspectRatio\":0,\"fNumber\":0,\"fTickx\":0,\"fTicky\":0,\"fLogx\":0,\"fLogy\":0,\"fLogz\":0,\"fPadPaint\":0,\"fCrosshair\":0,\"fCrosshairPos\":0,\"fBorderSize\":2,\"fBorderMode\":0,\"fModified\":false,\"fGridx\":false,\"fGridy\":false,\"fAbsCoord\":false,\"fEditable\":true,\"fFixedAspectRatio\":false,\"fPrimitives\":{\"_typename\":\"TList\",\"name\":\"TList\",\"arr\":[{\"_typename\":\"TFrame\",\"fUniqueID\":0,\"fBits\":8,\"fLineColor\":1,\"fLineStyle\":1,\"fLineWidth\":1,\"fFillColor\":0,\"fFillStyle\":1001,\"fX1\":0,\"fY1\":0,\"fX2\":1.5,\"fY2\":0.128515746078978,\"fBorderSize\":1,\"fBorderMode\":0},{\"_typename\":\"TH1D\",\"fUniqueID\":0,\"fBits\":521,\"fName\":\"h_deltaptfa_all_Def_nfa_had_0pi_G18\",\"fTitle\":\"\",\"fLineColor\":600,\"fLineStyle\":2,\"fLineWidth\":3,\"fFillColor\":0,\"fFillStyle\":1001,\"fMarkerColor\":1,\"fMarkerStyle\":1,\"fMarkerSize\":1,\"fNcells\":52,\"fXaxis\":{\"_typename\":\"TAxis\",\"fUniqueID\":0,\"fBits\":0,\"fName\":\"xaxis\",\"fTitle\":\"#deltap_{T} (GeV\\/c)\",\"fNdivisions\":510,\"fAxisColor\":1,\"fLabelColor\":1,\"fLabelFont\":42,\"fLabelOffset\":0.005,\"fLabelSize\":0.035,\"fTickLength\":0.03,\"fTitleOffset\":1,\"fTitleSize\":0.035,\"fTitleColor\":1,\"fTitleFont\":42,\"fNbins\":50,\"fXmin\":0,\"fXmax\":1.5,\"fXbins\":[],\"fFirst\":0,\"fLast\":0,\"fBits2\":0,\"fTimeDisplay\":false,\"fTimeFormat\":\"\",\"fLabels\":null,\"fModLabs\":null},\"fYaxis\":{\"_typename\":\"TAxis\",\"fUniqueID\":0,\"fBits\":0,\"fName\":\"yaxis\",\"fTitle\":\"Normalized Events\",\"fNdivisions\":510,\"fAxisColor\":1,\"fLabelColor\":1,\"fLabelFont\":42,\"fLabelOffset\":0.005,\"fLabelSize\":0.035,\"fTickLength\":0.03,\"fTitleOffset\":0,\"fTitleSize\":0.035,\"fTitleColor\":1,\"fTitleFont\":42,\"fNbins\":1,\"fXmin\":0,\"fXmax\":1,\"fXbins\":[],\"fFirst\":0,\"fLast\":0,\"fBits2\":0,\"fTimeDisplay\":false,\"fTimeFormat\":\"\",\"fLabels\":null,\"fModLabs\":null},\"fZaxis\":{\"_typename\":\"TAxis\",\"fUniqueID\":0,\"fBits\":0,\"fName\":\"zaxis\",\"fTitle\":\"\",\"fNdivisions\":510,\"fAxisColor\":1,\"fLabelColor\":1,\"fLabelFont\":42,\"fLabelOffset\":0.005,\"fLabelSize\":0.035,\"fTickLength\":0.03,\"fTitleOffset\":1,\"fTitleSize\":0.035,\"fTitleColor\":1,\"fTitleFont\":42,\"fNbins\":1,\"fXmin\":0,\"fXmax\":1,\"fXbins\":[],\"fFirst\":0,\"fLast\":0,\"fBits2\":0,\"fTimeDisplay\":false,\"fTimeFormat\":\"\",\"fLabels\":null,\"fModLabs\":null},\"fBarOffset\":0,\"fBarWidth\":1000,\"fEntries\":387196,\"fTsumw\":1,\"fTsumw2\":2.58301820511231e-6,\"fTsumwx\":0.442801608254963,\"fTsumwx2\":0.244598050518274,\"fMaximum\":0.128515746078978,\"fMinimum\":0,\"fNormFactor\":0,\"fContour\":[],\"fSumw2\":{\"$arr\":\"Float64\",\"len\":52,\"p\":1,\"v\":[7.64609257294109e-9,2.40258109556378e-8,3.92712922201844e-8,5.56043067215454e-8,6.98690064780446e-8,8.50611118782077e-8,9.90455883466933e-8,1.12322834612097e-7,1.21603563031784e-7,1.30330516858492e-7,1.35841574856091e-7,1.36402021432118e-7,1.35861590805235e-7,1.33920043738284e-7,1.30437268587259e-7,1.27087933097192e-7,1.19775439676648e-7,1.14497901085726e-7,1.06891840411073e-7,9.96260508718642e-8,9.0171850892931e-8,8.26124940996131e-8,7.16637699179409e-8,6.20027384645215e-8,5.30556091972317e-8,4.50959334210374e-8,3.71295856617951e-8,3.04108987325179e-8,2.54602873109452e-8,2.11168263467352e-8,1.7260420145025e-8,1.3944444570198e-8,1.06418129614669e-8,8.71360986061175e-9,6.34505587859248e-9,5.22416272653829e-9,4.11661354057998e-9,3.24925574434757e-9,2.24178630410838e-9,1.92820310085513e-9,1.50119618578686e-9,1.05417332157478e-9,8.47341847088585e-10,6.13822440410629e-10,4.20334932020322e-10,3.60287084588847e-10,2.4686337277384e-10,1.60127593150599e-10,1.93487508390307e-10,1.13423711815008e-10,3.46943118492964e-10]},\"fOption\":\"\",\"fFunctions\":{\"_typename\":\"TList\",\"name\":\"TList\",\"arr\":[],\"opt\":[]},\"fBufferSize\":0,\"fBuffer\":[],\"fBinStatErrOpt\":0,\"fStatOverflows\":2,\"fArray\":{\"$arr\":\"Float64\",\"len\":52,\"p\":1,\"v\":[0.00296013886305871,0.00930144855660943,0.0152036451552911,0.021526873721406,0.0270493666439361,0.0329308990969768,0.0383449052548922,0.0434851114830657,0.047078089806377,0.0504566776186639,0.0525902506560866,0.0528072241853161,0.052597999710702,0.0518463414130143,0.0504980059099457,0.0492013307709793,0.0463703428181762,0.0443271754179323,0.0413825346641043,0.038569627838737,0.0349094910420929,0.0319829314157006,0.0277441985411113,0.0240039881801087,0.0205401607670531,0.0174586200483541,0.01437449631145,0.0117733969789019,0.00985679747070857,0.00817525261918046,0.00668226809662555,0.00539850804868473,0.00411991403715413,0.00337342177587668,0.00245645031306181,0.00202250325460294,0.0015937222325543,0.00125792986588969,8.67894116917736e-4,7.46492261277458e-4,5.8117909615027e-4,4.08116876407745e-4,3.28043312049263e-4,2.37637674870332e-4,1.62730146922076e-4,1.39482983076065e-4,9.55716735891555e-5,6.19924369226954e-5,7.4907527948257e-5,4.39113094869093e-5,1.3431694666584e-4]}},{\"_typename\":\"TH1D\",\"fUniqueID\":0,\"fBits\":521,\"fName\":\"h_deltaptfa_all_Def_nfa_had_0pi\",\"fTitle\":\"\",\"fLineColor\":600,\"fLineStyle\":1,\"fLineWidth\":3,\"fFillColor\":0,\"fFillStyle\":1001,\"fMarkerColor\":1,\"fMarkerStyle\":1,\"fMarkerSize\":1,\"fNcells\":52,\"fXaxis\":{\"_typename\":\"TAxis\",\"fUniqueID\":0,\"fBits\":0,\"fName\":\"xaxis\",\"fTitle\":\"#deltap_{T} (GeV\\/c)\",\"fNdivisions\":510,\"fAxisColor\":1,\"fLabelColor\":1,\"fLabelFont\":42,\"fLabelOffset\":0.005,\"fLabelSize\":0.035,\"fTickLength\":0.03,\"fTitleOffset\":1,\"fTitleSize\":0.035,\"fTitleColor\":1,\"fTitleFont\":42,\"fNbins\":50,\"fXmin\":0,\"fXmax\":1.5,\"fXbins\":[],\"fFirst\":0,\"fLast\":0,\"fBits2\":0,\"fTimeDisplay\":false,\"fTimeFormat\":\"\",\"fLabels\":null,\"fModLabs\":null},\"fYaxis\":{\"_typename\":\"TAxis\",\"fUniqueID\":0,\"fBits\":0,\"fName\":\"yaxis\",\"fTitle\":\"Events\\/bin\",\"fNdivisions\":510,\"fAxisColor\":1,\"fLabelColor\":1,\"fLabelFont\":42,\"fLabelOffset\":0.005,\"fLabelSize\":0.035,\"fTickLength\":0.03,\"fTitleOffset\":0,\"fTitleSize\":0.035,\"fTitleColor\":1,\"fTitleFont\":42,\"fNbins\":1,\"fXmin\":0,\"fXmax\":1,\"fXbins\":[],\"fFirst\":0,\"fLast\":0,\"fBits2\":0,\"fTimeDisplay\":false,\"fTimeFormat\":\"\",\"fLabels\":null,\"fModLabs\":null},\"fZaxis\":{\"_typename\":\"TAxis\",\"fUniqueID\":0,\"fBits\":0,\"fName\":\"zaxis\",\"fTitle\":\"\",\"fNdivisions\":510,\"fAxisColor\":1,\"fLabelColor\":1,\"fLabelFont\":42,\"fLabelOffset\":0.005,\"fLabelSize\":0.035,\"fTickLength\":0.03,\"fTitleOffset\":1,\"fTitleSize\":0.035,\"fTitleColor\":1,\"fTitleFont\":42,\"fNbins\":1,\"fXmin\":0,\"fXmax\":1,\"fXbins\":[],\"fFirst\":0,\"fLast\":0,\"fBits2\":0,\"fTimeDisplay\":false,\"fTimeFormat\":\"\",\"fLabels\":null,\"fModLabs\":null},\"fBarOffset\":0,\"fBarWidth\":1000,\"fEntries\":380948,\"fTsumw\":1,\"fTsumw2\":2.62540923566461e-6,\"fTsumwx\":0.455323154420039,\"fTsumwx2\":0.258093118764884,\"fMaximum\":0.0743242852979708,\"fMinimum\":0,\"fNormFactor\":0,\"fContour\":[],\"fSumw2\":{\"$arr\":\"Float64\",\"len\":52,\"p\":1,\"v\":[7.43730277343536e-9,2.35526075781544e-8,3.71382644515938e-8,5.07790635142709e-8,6.41234733097953e-8,7.96046429382808e-8,9.26388779193431e-8,1.07823658280676e-7,1.21485135664317e-7,1.27750666916451e-7,1.33699130580469e-7,1.3666991602565e-7,1.3786925864157e-7,1.35601536109169e-7,1.33981734300312e-7,1.28584692528672e-7,1.23139401341448e-7,1.16212163818462e-7,1.10884049783368e-7,1.02150905562847e-7,9.59887659155336e-8,8.46846171218042e-8,7.56619764077849e-8,6.68599044507164e-8,5.71342008239163e-8,4.81184528835516e-8,4.11498587186368e-8,3.43397983477803e-8,2.85016190622384e-8,2.43108126801728e-8,1.99407941830848e-8,1.56328106488891e-8,1.3185876001466e-8,1.05459436917109e-8,8.07833072332367e-9,7.08577131704499e-9,5.15579469372534e-9,4.19080638206552e-9,3.21892529675098e-9,2.68128895168337e-9,1.84726333946309e-9,1.68183677174998e-9,1.0063449535881e-9,9.02953348767407e-10,7.30634007399581e-10,5.30743571412903e-10,3.99780871973356e-10,2.82603719843234e-10,2.61925398879095e-10,1.72319341367826e-10,3.79102551009216e-10]},\"fOption\":\"\",\"fFunctions\":{\"_typename\":\"TList\",\"name\":\"TList\",\"arr\":[],\"opt\":[]},\"fBufferSize\":0,\"fBuffer\":[],\"fBinStatErrOpt\":0,\"fStatOverflows\":2,\"fArray\":{\"$arr\":\"Float64\",\"len\":52,\"p\":1,\"v\":[0.00283281656528211,0.00897102335826597,0.0141457049617609,0.0193413898391412,0.0244241821193879,0.0303208512626906,0.0352855001273324,0.0410692766735015,0.0462728377785887,0.0486593347738079,0.0509250629441864,0.0520566143247579,0.0525134355317635,0.0516496758932299,0.0510327047228487,0.0489770092913233,0.0469029359951482,0.0442643997133053,0.0422349583741366,0.0389085648725495,0.0365614490158653,0.0322557778693754,0.0288191171798904,0.0254664695859467,0.0217620171544239,0.0183279818741746,0.0156736931369177,0.0130797888120811,0.0108560671894732,0.00925981837418908,0.00759530891877771,0.00595442814648733,0.0050224078678264,0.00401687613056685,0.00307697962419892,0.00269892069426322,0.00196380610827713,0.00159624881528408,0.00122606611305537,0.00102128419267353,7.03609675158115e-4,6.40599853502165e-4,3.83309748407033e-4,3.43928609872064e-4,2.78293378980449e-4,2.02156511146175e-4,1.52273735668547e-4,1.07641778662249e-4,9.97655509552552e-5,6.56352308916152e-5,1.44397507961554e-4]}},{\"_typename\":\"TH1D\",\"fUniqueID\":0,\"fBits\":521,\"fName\":\"h_deltaptf_nfa_had_0pi\",\"fTitle\":\"\",\"fLineColor\":632,\"fLineStyle\":1,\"fLineWidth\":3,\"fFillColor\":0,\"fFillStyle\":1001,\"fMarkerColor\":1,\"fMarkerStyle\":1,\"fMarkerSize\":1,\"fNcells\":52,\"fXaxis\":{\"_typename\":\"TAxis\",\"fUniqueID\":0,\"fBits\":0,\"fName\":\"xaxis\",\"fTitle\":\"#deltap_{T} (GeV\\/c)\",\"fNdivisions\":510,\"fAxisColor\":1,\"fLabelColor\":1,\"fLabelFont\":42,\"fLabelOffset\":0.005,\"fLabelSize\":0.035,\"fTickLength\":0.03,\"fTitleOffset\":1,\"fTitleSize\":0.035,\"fTitleColor\":1,\"fTitleFont\":42,\"fNbins\":50,\"fXmin\":0,\"fXmax\":1.5,\"fXbins\":[],\"fFirst\":0,\"fLast\":0,\"fBits2\":0,\"fTimeDisplay\":false,\"fTimeFormat\":\"\",\"fLabels\":null,\"fModLabs\":null},\"fYaxis\":{\"_typename\":\"TAxis\",\"fUniqueID\":0,\"fBits\":0,\"fName\":\"yaxis\",\"fTitle\":\"Events\\/bin\",\"fNdivisions\":510,\"fAxisColor\":1,\"fLabelColor\":1,\"fLabelFont\":42,\"fLabelOffset\":0.005,\"fLabelSize\":0.035,\"fTickLength\":0.03,\"fTitleOffset\":0,\"fTitleSize\":0.035,\"fTitleColor\":1,\"fTitleFont\":42,\"fNbins\":1,\"fXmin\":0,\"fXmax\":1,\"fXbins\":[],\"fFirst\":0,\"fLast\":0,\"fBits2\":0,\"fTimeDisplay\":false,\"fTimeFormat\":\"\",\"fLabels\":null,\"fModLabs\":null},\"fZaxis\":{\"_typename\":\"TAxis\",\"fUniqueID\":0,\"fBits\":0,\"fName\":\"zaxis\",\"fTitle\":\"\",\"fNdivisions\":510,\"fAxisColor\":1,\"fLabelColor\":1,\"fLabelFont\":42,\"fLabelOffset\":0.005,\"fLabelSize\":0.035,\"fTickLength\":0.03,\"fTitleOffset\":1,\"fTitleSize\":0.035,\"fTitleColor\":1,\"fTitleFont\":42,\"fNbins\":1,\"fXmin\":0,\"fXmax\":1,\"fXbins\":[],\"fFirst\":0,\"fLast\":0,\"fBits2\":0,\"fTimeDisplay\":false,\"fTimeFormat\":\"\",\"fLabels\":null,\"fModLabs\":null},\"fBarOffset\":0,\"fBarWidth\":1000,\"fEntries\":380948,\"fTsumw\":1,\"fTsumw2\":2.62959291272118e-6,\"fTsumwx\":0.334315290363435,\"fTsumwx2\":0.171041657614775,\"fMaximum\":0.0744427235219716,\"fMinimum\":0,\"fNormFactor\":0,\"fContour\":[],\"fSumw2\":{\"$arr\":\"Float64\",\"len\":52,\"p\":1,\"v\":[4.65639863425898e-8,1.08091510915854e-7,1.45500356492541e-7,1.6520050456056e-7,1.75842318487089e-7,1.77958234706399e-7,1.71188685756385e-7,1.58949562527044e-7,1.44096660438555e-7,1.33420272717593e-7,1.25433726203531e-7,1.16271670678742e-7,1.06805365762941e-7,9.56242006432542e-8,8.63515089762787e-8,7.70096697204369e-8,6.8801850922003e-8,6.27376073784254e-8,5.56292352429662e-8,5.03394446946916e-8,4.38672303768027e-8,3.91997681283251e-8,3.40828465522164e-8,3.05978080733531e-8,2.69329858634374e-8,2.36208163567399e-8,2.13389459241509e-8,1.86905932705703e-8,1.63119162135683e-8,1.41752557175986e-8,1.23221003359808e-8,1.07455353098284e-8,9.25886214920221e-9,8.32536969950669e-9,7.19826400098544e-9,6.27860106906319e-9,5.47648903821371e-9,4.37704237523898e-9,4.23183243861968e-9,3.45737944331673e-9,3.04940866900536e-9,2.59994934137418e-9,2.24729663815588e-9,2.08825718376331e-9,1.87389965827767e-9,1.36220750066679e-9,1.24465659959402e-9,1.12019093963462e-9,8.22856307509383e-10,8.7817437860245e-10,4.57065562406472e-9]},\"fOption\":\"\",\"fFunctions\":{\"_typename\":\"TList\",\"name\":\"TList\",\"arr\":[],\"opt\":[]},\"fBufferSize\":0,\"fBuffer\":[],\"fBinStatErrOpt\":0,\"fStatOverflows\":2,\"fArray\":{\"$arr\":\"Float64\",\"len\":52,\"p\":1,\"v\":[0.0177076786742644,0.0411057964116575,0.0553318940694791,0.0628236042778217,0.0668705477704997,0.0676752032017923,0.0651008317402383,0.0604464522847218,0.0547980867081967,0.0507379952509552,0.0477008154367622,0.0442166048274067,0.0406166921298914,0.0363646403900212,0.0328383562940621,0.0292857762689758,0.0261644494815758,0.0238582964971193,0.0211550749828419,0.0191434364046102,0.0166821374383032,0.0149071622222164,0.0129612634668027,0.0116359486387912,0.010242264395049,0.00898268938985556,0.00811492372865757,0.00710778964308535,0.00620320968110927,0.00539066547107842,0.00468593457046915,0.00408638738636872,0.00352102491013366,0.0031660298669163,0.00273740622214275,0.00238767036475083,0.00208263758687518,0.00166453231375251,0.00160931086258536,0.00131479645636059,0.00115965047451004,9.88726935183164e-4,8.54617696634384e-4,7.94137059641797e-4,7.1261967934744e-4,5.18029803806073e-4,4.73326724289813e-4,4.25994051860831e-4,3.12921556613821e-4,3.3395829991559e-4,0.0017381609153087]}},{\"_typename\":\"TH1D\",\"fUniqueID\":0,\"fBits\":521,\"fName\":\"h_deltaptf_nfa_had_0pi_G18\",\"fTitle\":\"\",\"fLineColor\":632,\"fLineStyle\":2,\"fLineWidth\":3,\"fFillColor\":0,\"fFillStyle\":1001,\"fMarkerColor\":1,\"fMarkerStyle\":1,\"fMarkerSize\":1,\"fNcells\":52,\"fXaxis\":{\"_typename\":\"TAxis\",\"fUniqueID\":0,\"fBits\":0,\"fName\":\"xaxis\",\"fTitle\":\"#deltap_{T} (GeV\\/c)\",\"fNdivisions\":510,\"fAxisColor\":1,\"fLabelColor\":1,\"fLabelFont\":42,\"fLabelOffset\":0.005,\"fLabelSize\":0.035,\"fTickLength\":0.03,\"fTitleOffset\":1,\"fTitleSize\":0.035,\"fTitleColor\":1,\"fTitleFont\":42,\"fNbins\":50,\"fXmin\":0,\"fXmax\":1.5,\"fXbins\":[],\"fFirst\":0,\"fLast\":0,\"fBits2\":0,\"fTimeDisplay\":false,\"fTimeFormat\":\"\",\"fLabels\":null,\"fModLabs\":null},\"fYaxis\":{\"_typename\":\"TAxis\",\"fUniqueID\":0,\"fBits\":0,\"fName\":\"yaxis\",\"fTitle\":\"Events\\/bin\",\"fNdivisions\":510,\"fAxisColor\":1,\"fLabelColor\":1,\"fLabelFont\":42,\"fLabelOffset\":0.005,\"fLabelSize\":0.035,\"fTickLength\":0.03,\"fTitleOffset\":0,\"fTitleSize\":0.035,\"fTitleColor\":1,\"fTitleFont\":42,\"fNbins\":1,\"fXmin\":0,\"fXmax\":1,\"fXbins\":[],\"fFirst\":0,\"fLast\":0,\"fBits2\":0,\"fTimeDisplay\":false,\"fTimeFormat\":\"\",\"fLabels\":null,\"fModLabs\":null},\"fZaxis\":{\"_typename\":\"TAxis\",\"fUniqueID\":0,\"fBits\":0,\"fName\":\"zaxis\",\"fTitle\":\"\",\"fNdivisions\":510,\"fAxisColor\":1,\"fLabelColor\":1,\"fLabelFont\":42,\"fLabelOffset\":0.005,\"fLabelSize\":0.035,\"fTickLength\":0.03,\"fTitleOffset\":1,\"fTitleSize\":0.035,\"fTitleColor\":1,\"fTitleFont\":42,\"fNbins\":1,\"fXmin\":0,\"fXmax\":1,\"fXbins\":[],\"fFirst\":0,\"fLast\":0,\"fBits2\":0,\"fTimeDisplay\":false,\"fTimeFormat\":\"\",\"fLabels\":null,\"fModLabs\":null},\"fBarOffset\":0,\"fBarWidth\":1000,\"fEntries\":387196,\"fTsumw\":1,\"fTsumw2\":2.58267797879621e-6,\"fTsumwx\":0.219492830544195,\"fTsumwx2\":0.0637439605180354,\"fMaximum\":0.128498818424825,\"fMinimum\":0,\"fNormFactor\":0,\"fContour\":[],\"fSumw2\":{\"$arr\":\"Float64\",\"len\":52,\"p\":1,\"v\":[3.59391752211521e-8,1.07443993033095e-7,1.7261876680553e-7,2.27681478656052e-7,2.70064091750929e-7,2.97385335571612e-7,3.01700971497389e-7,2.76600912782245e-7,1.78301798967449e-7,1.46331407943882e-7,1.2519346320078e-7,1.05196127025388e-7,8.51654397222848e-8,6.64554570765291e-8,4.9199583598964e-8,3.59458454466943e-8,2.65474976577924e-8,2.00506979797296e-8,1.53882103257606e-8,1.10592339488994e-8,8.33111170215646e-9,5.64968103420858e-9,4.11552915951204e-9,3.06163352385093e-9,2.13447217349085e-9,1.41408781493769e-9,1.04722541011895e-9,7.60405711806114e-10,5.26947817830553e-10,4.26894434698169e-10,2.73479247228515e-10,1.8009608963829e-10,1.33404510843178e-10,1.13393834216701e-10,4.66915787951123e-11,2.66809021686356e-11,4.66915787951123e-11,3.33511277107945e-11,6.6702255421589e-12,2.66809021686356e-11,2.00106766264767e-11,6.6702255421589e-12,0,6.6702255421589e-12,1.33404510843178e-11,6.6702255421589e-12,0,0,0,0,6.6702255421589e-12]},\"fOption\":\"\",\"fFunctions\":{\"_typename\":\"TList\",\"name\":\"TList\",\"arr\":[],\"opt\":[]},\"fBufferSize\":0,\"fBuffer\":[],\"fBinStatErrOpt\":0,\"fStatOverflows\":2,\"fArray\":{\"$arr\":\"Float64\",\"len\":52,\"p\":1,\"v\":[0.013915468949754,0.0416017768824494,0.0668371234132672,0.08815713012823,0.104567466005501,0.11514611500665,0.116817107658932,0.107098490424721,0.0690375650512016,0.0566587894988313,0.0484742829840261,0.0407314144035951,0.0329756324332701,0.0257312207027467,0.0190498327716009,0.0139180516277328,0.0102790583556089,0.00776353000426142,0.00595823809708287,0.00428208008884412,0.00322576479551647,0.00218752824804039,0.00159351231291726,0.00118544919226746,8.26456953214788e-4,5.47527731504797e-4,4.05480442671006e-4,2.94425289582768e-4,2.04031560324901e-4,1.65291390642958e-4,1.05889797130645e-4,6.97323054274978e-5,5.16535595759243e-5,4.39055256395356e-5,1.80787458515735e-5,1.03307119151849e-5,1.80787458515735e-5,1.29133898939811e-5,2.58267797879621e-6,1.03307119151849e-5,7.74803393638864e-6,2.58267797879621e-6,0,2.58267797879621e-6,5.16535595759243e-6,2.58267797879621e-6,0,0,0,0,2.58267797879621e-6]}},{\"_typename\":\"TLegend\",\"fUniqueID\":0,\"fBits\":8,\"fLineColor\":1,\"fLineStyle\":1,\"fLineWidth\":1,\"fFillColor\":0,\"fFillStyle\":1001,\"fX1\":0.562499997206032,\"fY1\":0.0963868100379923,\"fX2\":1.46250001061708,\"fY2\":0.125302853336645,\"fX1NDC\":0.4,\"fY1NDC\":0.7,\"fX2NDC\":0.88,\"fY2NDC\":0.88,\"fBorderSize\":1,\"fInit\":1,\"fShadowColor\":1,\"fCornerRadius\":0,\"fOption\":\"brNDC\",\"fName\":\"TPave\",\"fTextAngle\":0,\"fTextSize\":0,\"fTextAlign\":12,\"fTextColor\":1,\"fTextFont\":42,\"fPrimitives\":{\"_typename\":\"TList\",\"name\":\"TList\",\"arr\":[{\"_typename\":\"TLegendEntry\",\"fUniqueID\":0,\"fBits\":0,\"fTextAngle\":0,\"fTextSize\":0,\"fTextAlign\":0,\"fTextColor\":0,\"fTextFont\":42,\"fLineColor\":632,\"fLineStyle\":1,\"fLineWidth\":3,\"fFillColor\":0,\"fFillStyle\":1001,\"fMarkerColor\":1,\"fMarkerStyle\":1,\"fMarkerSize\":1,\"fObject\":{\"$ref\":13},\"fLabel\":\"G21_11b, all final-state hadrons\",\"fOption\":\"lpf\"},{\"_typename\":\"TLegendEntry\",\"fUniqueID\":0,\"fBits\":0,\"fTextAngle\":0,\"fTextSize\":0,\"fTextAlign\":0,\"fTextColor\":0,\"fTextFont\":42,\"fLineColor\":632,\"fLineStyle\":2,\"fLineWidth\":3,\"fFillColor\":0,\"fFillStyle\":1001,\"fMarkerColor\":1,\"fMarkerStyle\":1,\"fMarkerSize\":1,\"fObject\":{\"$ref\":18},\"fLabel\":\"G18_02a, all final-state hadrons\",\"fOption\":\"lpf\"},{\"_typename\":\"TLegendEntry\",\"fUniqueID\":0,\"fBits\":0,\"fTextAngle\":0,\"fTextSize\":0,\"fTextAlign\":0,\"fTextColor\":0,\"fTextFont\":42,\"fLineColor\":600,\"fLineStyle\":1,\"fLineWidth\":3,\"fFillColor\":0,\"fFillStyle\":1001,\"fMarkerColor\":1,\"fMarkerStyle\":1,\"fMarkerSize\":1,\"fObject\":{\"$ref\":8},\"fLabel\":\"G21_11b, well-reconstructed final-state hadrons\",\"fOption\":\"lpf\"},{\"_typename\":\"TLegendEntry\",\"fUniqueID\":0,\"fBits\":0,\"fTextAngle\":0,\"fTextSize\":0,\"fTextAlign\":0,\"fTextColor\":0,\"fTextFont\":42,\"fLineColor\":600,\"fLineStyle\":2,\"fLineWidth\":3,\"fFillColor\":0,\"fFillStyle\":1001,\"fMarkerColor\":1,\"fMarkerStyle\":1,\"fMarkerSize\":1,\"fObject\":{\"$ref\":3},\"fLabel\":\"G18_02a, well-reconstructed final-state hadrons\",\"fOption\":\"lpf\"}],\"opt\":[\"lpf\",\"lpf\",\"lpf\",\"lpf\"]},\"fEntrySeparation\":0.1,\"fMargin\":0.25,\"fNColumns\":1,\"fColumnSeparation\":0},{\"_typename\":\"TStyle\",\"fUniqueID\":0,\"fBits\":0,\"fName\":\"Modern\",\"fTitle\":\"Modern Style\",\"fLineColor\":1,\"fLineStyle\":1,\"fLineWidth\":1,\"fFillColor\":19,\"fFillStyle\":1001,\"fMarkerColor\":1,\"fMarkerStyle\":1,\"fMarkerSize\":1,\"fTextAngle\":0,\"fTextSize\":0.05,\"fTextAlign\":11,\"fTextColor\":1,\"fTextFont\":62,\"fXaxis\":{\"_typename\":\"TAttAxis\",\"fNdivisions\":510,\"fAxisColor\":1,\"fLabelColor\":1,\"fLabelFont\":42,\"fLabelOffset\":0.005,\"fLabelSize\":0.035,\"fTickLength\":0.03,\"fTitleOffset\":1,\"fTitleSize\":0.035,\"fTitleColor\":1,\"fTitleFont\":42},\"fYaxis\":{\"_typename\":\"TAttAxis\",\"fNdivisions\":510,\"fAxisColor\":1,\"fLabelColor\":1,\"fLabelFont\":42,\"fLabelOffset\":0.005,\"fLabelSize\":0.035,\"fTickLength\":0.03,\"fTitleOffset\":0,\"fTitleSize\":0.035,\"fTitleColor\":1,\"fTitleFont\":42},\"fZaxis\":{\"_typename\":\"TAttAxis\",\"fNdivisions\":510,\"fAxisColor\":1,\"fLabelColor\":1,\"fLabelFont\":42,\"fLabelOffset\":0.005,\"fLabelSize\":0.035,\"fTickLength\":0.03,\"fTitleOffset\":1,\"fTitleSize\":0.035,\"fTitleColor\":1,\"fTitleFont\":42},\"fBarWidth\":1,\"fBarOffset\":0,\"fColorModelPS\":0,\"fDrawBorder\":0,\"fOptLogx\":0,\"fOptLogy\":0,\"fOptLogz\":0,\"fOptDate\":0,\"fOptStat\":0,\"fOptTitle\":1,\"fOptFile\":0,\"fOptFit\":0,\"fShowEventStatus\":0,\"fShowEditor\":0,\"fShowToolBar\":0,\"fNumberContours\":20,\"fAttDate\":{\"_typename\":\"TAttText\",\"fTextAngle\":0,\"fTextSize\":0.025,\"fTextAlign\":11,\"fTextColor\":1,\"fTextFont\":62},\"fDateX\":0.01,\"fDateY\":0.01,\"fEndErrorSize\":2,\"fErrorX\":0.5,\"fFuncColor\":2,\"fFuncStyle\":1,\"fFuncWidth\":2,\"fGridColor\":0,\"fGridStyle\":3,\"fGridWidth\":1,\"fLegendBorderSize\":1,\"fLegendFillColor\":0,\"fLegendFont\":42,\"fLegendTextSize\":0,\"fHatchesLineWidth\":1,\"fHatchesSpacing\":1,\"fFrameFillColor\":0,\"fFrameLineColor\":1,\"fFrameFillStyle\":1001,\"fFrameLineStyle\":1,\"fFrameLineWidth\":1,\"fFrameBorderSize\":1,\"fFrameBorderMode\":0,\"fHistFillColor\":0,\"fHistLineColor\":602,\"fHistFillStyle\":1001,\"fHistLineStyle\":1,\"fHistLineWidth\":1,\"fHistMinimumZero\":false,\"fHistTopMargin\":0.05,\"fCanvasPreferGL\":false,\"fCanvasColor\":0,\"fCanvasBorderSize\":2,\"fCanvasBorderMode\":0,\"fCanvasDefH\":500,\"fCanvasDefW\":700,\"fCanvasDefX\":10,\"fCanvasDefY\":10,\"fPadColor\":0,\"fPadBorderSize\":2,\"fPadBorderMode\":0,\"fPadBottomMargin\":0.1,\"fPadTopMargin\":0.1,\"fPadLeftMargin\":0.1,\"fPadRightMargin\":0.1,\"fPadGridX\":false,\"fPadGridY\":false,\"fPadTickX\":0,\"fPadTickY\":0,\"fPaperSizeX\":20,\"fPaperSizeY\":26,\"fScreenFactor\":1,\"fStatColor\":0,\"fStatTextColor\":1,\"fStatBorderSize\":1,\"fStatFont\":42,\"fStatFontSize\":0,\"fStatStyle\":1001,\"fStatFormat\":\"6.4g\",\"fStatX\":0.98,\"fStatY\":0.935,\"fStatW\":0.2,\"fStatH\":0.16,\"fStripDecimals\":true,\"fTitleAlign\":23,\"fTitleColor\":0,\"fTitleTextColor\":1,\"fTitleBorderSize\":0,\"fTitleFont\":42,\"fTitleFontSize\":0.05,\"fTitleStyle\":0,\"fTitleX\":0.5,\"fTitleY\":0.995,\"fTitleW\":0,\"fTitleH\":0,\"fLegoInnerR\":0.5,\"fLineStyles\":[\"\",\"  \",\" 12 12\",\" 4 8\",\" 12 16 4 16\",\" 20 12 4 12\",\" 20 12 4 12 4 12 4 12\",\" 20 20\",\" 20 12 4 12 4 12\",\" 80 20\",\" 80 40 4 40\",\"  \",\"  \",\"  \",\"  \",\"  \",\"  \",\"  \",\"  \",\"  \",\"  \",\"  \",\"  \",\"  \",\"  \",\"  \",\"  \",\"  \",\"  \",\"  \"],\"fHeaderPS\":\"\",\"fTitlePS\":\"\",\"fFitFormat\":\"5.4g\",\"fPaintTextFormat\":\"g\",\"fLineScalePS\":3,\"fJoinLinePS\":0,\"fCapLinePS\":0,\"fTimeOffset\":788918400,\"fImageScaling\":1}],\"opt\":[\"\",\"HIST\",\"SAMEHIST\",\"SAMEHIST\",\"SAMEHIST\",\"\",\"\"]},\"fExecs\":null,\"fName\":\"c1\",\"fTitle\":\"c1\",\"fNumPaletteColor\":0,\"fNextPaletteColor\":0,\"fDISPLAY\":\"$DISPLAY\",\"fDoubleBuffer\":0,\"fRetained\":true,\"fXsizeUser\":0,\"fYsizeUser\":0,\"fXsizeReal\":20,\"fYsizeReal\":14.28571,\"fWindowTopX\":0,\"fWindowTopY\":0,\"fWindowWidth\":0,\"fWindowHeight\":0,\"fCw\":696,\"fCh\":472,\"fCatt\":{\"_typename\":\"TAttCanvas\",\"fXBetween\":2,\"fYBetween\":2,\"fTitleFromTop\":1.2,\"fXdate\":0.2,\"fYdate\":0.3,\"fAdate\":1},\"kMoveOpaque\":true,\"kResizeOpaque\":true,\"fHighLightColor\":2,\"fBatch\":true,\"kShowEventStatus\":false,\"kAutoExec\":true,\"kMenuBar\":true});\n",
       "   Core.settings.HandleKeys = false;\n",
       "   Core.draw(\"root_plot_1659475369448\", obj, \"\");\n",
       "}\n",
       "\n",
       "function script_load_root_plot_1659475369448(src, on_error) {\n",
       "    let script = document.createElement('script');\n",
       "    script.src = src;\n",
       "    script.onload = function() { display_root_plot_1659475369448(JSROOT); };\n",
       "    script.onerror = function() { script.remove(); on_error(); };\n",
       "    document.head.appendChild(script);\n",
       "}\n",
       "\n",
       "if (typeof requirejs !== 'undefined') {\n",
       "\n",
       "    // We are in jupyter notebooks, use require.js which should be configured already\n",
       "    requirejs.config({\n",
       "       paths: { 'JSRootCore' : [ 'scripts/JSRoot.core', 'https://root.cern/js/6.1.1/scripts/JSRoot.core.min', 'https://jsroot.gsi.de/6.1.1/scripts/JSRoot.core.min' ] }\n",
       "    })(['JSRootCore'],  function(Core) {\n",
       "       display_root_plot_1659475369448(Core);\n",
       "    });\n",
       "\n",
       "} else if (typeof JSROOT !== 'undefined') {\n",
       "\n",
       "   // JSROOT already loaded, just use it\n",
       "   display_root_plot_1659475369448(JSROOT);\n",
       "\n",
       "} else {\n",
       "\n",
       "    // We are in jupyterlab without require.js, directly loading jsroot\n",
       "    // Jupyterlab might be installed in a different base_url so we need to know it.\n",
       "    try {\n",
       "        var base_url = JSON.parse(document.getElementById('jupyter-config-data').innerHTML).baseUrl;\n",
       "    } catch(_) {\n",
       "        var base_url = '/';\n",
       "    }\n",
       "\n",
       "    // Try loading a local version of requirejs and fallback to cdn if not possible.\n",
       "    script_load_root_plot_1659475369448(base_url + 'static/scripts/JSRoot.core.js', function(){\n",
       "        console.error('Fail to load JSROOT locally, please check your jupyter_notebook_config.py file');\n",
       "        script_load_root_plot_1659475369448('https://root.cern/js/6.1.1/scripts/JSRoot.core.min.js', function(){\n",
       "            document.getElementById(\"root_plot_1659475369448\").innerHTML = \"Failed to load JSROOT\";\n",
       "        });\n",
       "    });\n",
       "}\n",
       "\n",
       "</script>\n"
      ],
      "text/plain": [
       "<IPython.core.display.HTML object>"
      ]
     },
     "metadata": {},
     "output_type": "display_data"
    }
   ],
   "source": [
    "c.cd()\n",
    "h_deltaptfa_all_Def_nfa_had_0pi_G18.SetTitle(\";#deltap_{T} (GeV/c);Normalized Events\")\n",
    "h_deltaptfa_all_Def_nfa_had_0pi_G18.DrawNormalized()\n",
    "h_deltaptfa_all_Def_nfa_had_0pi.DrawNormalized(\"same\")\n",
    "h_deltaptf_nfa_had_0pi.DrawNormalized(\"same\")\n",
    "h_deltaptf_nfa_had_0pi_G18.DrawNormalized(\"same\")\n",
    "\n",
    "leg = ROOT.TLegend(0.4,0.7,0.88,0.88)\n",
    "leg.AddEntry(\"h_deltaptf_nfa_had_0pi\",\"G21_11b, all final-state hadrons\")\n",
    "leg.AddEntry(\"h_deltaptf_nfa_had_0pi_G18\",\"G18_02a, all final-state hadrons\")\n",
    "leg.AddEntry(\"h_deltaptfa_all_Def_nfa_had_0pi\",\"G21_11b, well-reconstructed final-state hadrons\")\n",
    "leg.AddEntry(\"h_deltaptfa_all_Def_nfa_had_0pi_G18\",\"G18_02a, well-reconstructed final-state hadrons\")\n",
    "leg.Draw()\n",
    "\n",
    "c.Draw()\n",
    "c.SaveAs(\"delta_pt_DefA_nfa_had_0pi.pdf\")"
   ]
  },
  {
   "cell_type": "code",
   "execution_count": 31,
   "metadata": {},
   "outputs": [],
   "source": [
    "title=\";#deltap_{T} (GeV/c);Events/bin\"\n",
    "nbins=50\n",
    "xmin=0.0\n",
    "xmax=1.5\n",
    "\n",
    "h_deltaptf_nfa_had_loET = df_gst_GEM21_11b_DefA_trig.Filter(\"energy_transfer<0.3 && nfa_had>0\").Histo1D((\"h_deltaptf_nfa_had_loET\",title,nbins,xmin,xmax),\"delta_ptf\")\n",
    "h_deltaptfa_all_Def_nfa_had_loET = df_gst_GEM21_11b_DefA_trig.Filter(\"energy_transfer<0.3 && nfa_had>0\").Histo1D((\"h_deltaptfa_all_Def_nfa_had_loET\",title,nbins,xmin,xmax),\"delta_ptfa_all\")\n",
    "\n",
    "h_deltaptf_nfa_had_loET_G18 = df_gst_G18_02a_DefA_trig.Filter(\"energy_transfer<0.3 && nfa_had>0\").Histo1D((\"h_deltaptf_nfa_had_loET_G18\",title,nbins,xmin,xmax),\"delta_ptf\")\n",
    "h_deltaptfa_all_Def_nfa_had_loET_G18 = df_gst_G18_02a_DefA_trig.Filter(\"energy_transfer<0.3 && nfa_had>0\").Histo1D((\"h_deltaptfa_all_Def_nfa_had_loET_G18\",title,nbins,xmin,xmax),\"delta_ptfa_all\")"
   ]
  },
  {
   "cell_type": "code",
   "execution_count": 32,
   "metadata": {},
   "outputs": [],
   "source": [
    "format_hists([h_deltaptf_nfa_had_loET,h_deltaptfa_all_Def_nfa_had_loET],[ROOT.kRed,ROOT.kBlue])"
   ]
  },
  {
   "cell_type": "code",
   "execution_count": 33,
   "metadata": {},
   "outputs": [],
   "source": [
    "format_hists([h_deltaptf_nfa_had_loET_G18,h_deltaptfa_all_Def_nfa_had_loET_G18],[ROOT.kRed,ROOT.kBlue],line_style=2)"
   ]
  },
  {
   "cell_type": "code",
   "execution_count": 34,
   "metadata": {},
   "outputs": [
    {
     "name": "stderr",
     "output_type": "stream",
     "text": [
      "Info in <TCanvas::Print>: pdf file delta_pt_DefA_nfa_had_loET.pdf has been created\n"
     ]
    },
    {
     "data": {
      "text/html": [
       "\n",
       "\n",
       "<div id=\"root_plot_1659715050367\"\n",
       "     style=\"width: 696px; height: 472px\">\n",
       "</div>\n",
       "<script>\n",
       "\n",
       "function display_root_plot_1659715050367(Core) {\n",
       "   let obj = Core.parse({\"_typename\":\"TCanvas\",\"fUniqueID\":0,\"fBits\":3342344,\"fLineColor\":1,\"fLineStyle\":1,\"fLineWidth\":1,\"fFillColor\":0,\"fFillStyle\":1001,\"fLeftMargin\":0.1,\"fRightMargin\":0.1,\"fBottomMargin\":0.1,\"fTopMargin\":0.1,\"fXfile\":2,\"fYfile\":2,\"fAfile\":1,\"fXstat\":0.99,\"fYstat\":0.99,\"fAstat\":2,\"fFrameFillColor\":0,\"fFrameLineColor\":1,\"fFrameFillStyle\":1001,\"fFrameLineStyle\":1,\"fFrameLineWidth\":1,\"fFrameBorderSize\":1,\"fFrameBorderMode\":0,\"fX1\":-0.187500013969839,\"fY1\":-0.0163366348805405,\"fX2\":1.68750001396984,\"fY2\":0.147029704187471,\"fXtoAbsPixelk\":69.6000541484835,\"fXtoPixelk\":69.6000541484835,\"fXtoPixel\":371.199994468689,\"fYtoAbsPixelk\":424.800047186661,\"fYtoPixelk\":424.800047186661,\"fYtoPixel\":-2889.2120781595,\"fUtoAbsPixelk\":5e-5,\"fUtoPixelk\":5e-5,\"fUtoPixel\":696,\"fVtoAbsPixelk\":472.00005,\"fVtoPixelk\":472,\"fVtoPixel\":-472,\"fAbsPixeltoXk\":-0.187500013969839,\"fPixeltoXk\":-0.187500013969839,\"fPixeltoX\":0.0026939655573846,\"fAbsPixeltoYk\":0.147029704187471,\"fPixeltoYk\":-0.0163366348805405,\"fPixeltoY\":-3.46115125144092e-4,\"fXlowNDC\":0,\"fYlowNDC\":0,\"fXUpNDC\":1,\"fYUpNDC\":1,\"fWNDC\":1,\"fHNDC\":1,\"fAbsXlowNDC\":0,\"fAbsYlowNDC\":0,\"fAbsWNDC\":1,\"fAbsHNDC\":1,\"fUxmin\":0,\"fUymin\":0,\"fUxmax\":1.5,\"fUymax\":0.130693069306931,\"fTheta\":30,\"fPhi\":30,\"fAspectRatio\":0,\"fNumber\":0,\"fTickx\":0,\"fTicky\":0,\"fLogx\":0,\"fLogy\":0,\"fLogz\":0,\"fPadPaint\":0,\"fCrosshair\":0,\"fCrosshairPos\":0,\"fBorderSize\":2,\"fBorderMode\":0,\"fModified\":false,\"fGridx\":false,\"fGridy\":false,\"fAbsCoord\":false,\"fEditable\":true,\"fFixedAspectRatio\":false,\"fPrimitives\":{\"_typename\":\"TList\",\"name\":\"TList\",\"arr\":[{\"_typename\":\"TFrame\",\"fUniqueID\":0,\"fBits\":8,\"fLineColor\":1,\"fLineStyle\":1,\"fLineWidth\":1,\"fFillColor\":0,\"fFillStyle\":1001,\"fX1\":0,\"fY1\":0,\"fX2\":1.5,\"fY2\":0.130693069306931,\"fBorderSize\":1,\"fBorderMode\":0},{\"_typename\":\"TH1D\",\"fUniqueID\":0,\"fBits\":521,\"fName\":\"h_deltaptfa_all_Def_nfa_had_loET_G18\",\"fTitle\":\"\",\"fLineColor\":600,\"fLineStyle\":2,\"fLineWidth\":3,\"fFillColor\":0,\"fFillStyle\":1001,\"fMarkerColor\":1,\"fMarkerStyle\":1,\"fMarkerSize\":1,\"fNcells\":52,\"fXaxis\":{\"_typename\":\"TAxis\",\"fUniqueID\":0,\"fBits\":0,\"fName\":\"xaxis\",\"fTitle\":\"#deltap_{T} (GeV\\/c)\",\"fNdivisions\":510,\"fAxisColor\":1,\"fLabelColor\":1,\"fLabelFont\":42,\"fLabelOffset\":0.005,\"fLabelSize\":0.035,\"fTickLength\":0.03,\"fTitleOffset\":1,\"fTitleSize\":0.035,\"fTitleColor\":1,\"fTitleFont\":42,\"fNbins\":50,\"fXmin\":0,\"fXmax\":1.5,\"fXbins\":[],\"fFirst\":0,\"fLast\":0,\"fBits2\":0,\"fTimeDisplay\":false,\"fTimeFormat\":\"\",\"fLabels\":null,\"fModLabs\":null},\"fYaxis\":{\"_typename\":\"TAxis\",\"fUniqueID\":0,\"fBits\":0,\"fName\":\"yaxis\",\"fTitle\":\"Normalized Events\",\"fNdivisions\":510,\"fAxisColor\":1,\"fLabelColor\":1,\"fLabelFont\":42,\"fLabelOffset\":0.005,\"fLabelSize\":0.035,\"fTickLength\":0.03,\"fTitleOffset\":0,\"fTitleSize\":0.035,\"fTitleColor\":1,\"fTitleFont\":42,\"fNbins\":1,\"fXmin\":0,\"fXmax\":1,\"fXbins\":[],\"fFirst\":0,\"fLast\":0,\"fBits2\":0,\"fTimeDisplay\":false,\"fTimeFormat\":\"\",\"fLabels\":null,\"fModLabs\":null},\"fZaxis\":{\"_typename\":\"TAxis\",\"fUniqueID\":0,\"fBits\":0,\"fName\":\"zaxis\",\"fTitle\":\"\",\"fNdivisions\":510,\"fAxisColor\":1,\"fLabelColor\":1,\"fLabelFont\":42,\"fLabelOffset\":0.005,\"fLabelSize\":0.035,\"fTickLength\":0.03,\"fTitleOffset\":1,\"fTitleSize\":0.035,\"fTitleColor\":1,\"fTitleFont\":42,\"fNbins\":1,\"fXmin\":0,\"fXmax\":1,\"fXbins\":[],\"fFirst\":0,\"fLast\":0,\"fBits2\":0,\"fTimeDisplay\":false,\"fTimeFormat\":\"\",\"fLabels\":null,\"fModLabs\":null},\"fBarOffset\":0,\"fBarWidth\":1000,\"fEntries\":19594,\"fTsumw\":1,\"fTsumw2\":5.10360314381954e-5,\"fTsumwx\":0.393718161960504,\"fTsumwx2\":0.179871475784103,\"fMaximum\":0.130693069306931,\"fMinimum\":0,\"fNormFactor\":0,\"fContour\":[],\"fSumw2\":{\"$arr\":\"Float64\",\"len\":52,\"p\":1,\"v\":[3.12561180595256e-8,1.53675913792667e-7,3.360032691399e-7,5.5740077206154e-7,9.5070692431057e-7,1.57582928550108e-6,2.12020667503782e-6,2.97714524516981e-6,3.36524204440892e-6,3.59184890034048e-6,3.70645466655874e-6,3.7819902852026e-6,3.78719963821252e-6,3.43817298654782e-6,3.37826542693372e-6,2.94067977410037e-6,2.62811859350511e-6,2.37025561951402e-6,1.97174011425507e-6,1.68262102220446e-6,1.35443178257944e-6,1.27889616393559e-6,9.29869512270886e-7,6.90239273814523e-7,4.74051123902805e-7,3.56840681179584e-7,2.44839591466284e-7,1.38047854762905e-7,7.8140295148814e-8,6.51169126240116e-8,3.64654710694465e-8,2.60467650496047e-8,5.20935300992093e-9,1.30233825248023e-8]},\"fOption\":\"\",\"fFunctions\":{\"_typename\":\"TList\",\"name\":\"TList\",\"arr\":[],\"opt\":[]},\"fBufferSize\":0,\"fBuffer\":[],\"fBinStatErrOpt\":0,\"fStatOverflows\":2,\"fArray\":{\"$arr\":\"Float64\",\"len\":52,\"p\":1,\"v\":[6.12432377258344e-4,0.00301112585485353,0.0065836480555272,0.0109217107277738,0.0186281514749413,0.0308767990201082,0.041543329590691,0.0583341839338573,0.0659385526181484,0.0703786873532714,0.072624272736552,0.0741043176482597,0.0742063897111361,0.0673675614984179,0.0661937327753394,0.0576196794937226,0.0514953557211391,0.0464427886087578,0.0386342757987139,0.0329692763090742,0.0265387363478616,0.0250586914361539,0.0182198632234357,0.0135245483311218,0.00928855772175156,0.00699193630703277,0.00479738695519036,0.00270490966622435,0.00153108094314586,0.00127590078595488,7.14504440134735e-4,5.10360314381954e-4,1.02072062876391e-4,2.55180157190977e-4]}},{\"_typename\":\"TH1D\",\"fUniqueID\":0,\"fBits\":521,\"fName\":\"h_deltaptfa_all_Def_nfa_had_loET\",\"fTitle\":\"\",\"fLineColor\":600,\"fLineStyle\":1,\"fLineWidth\":3,\"fFillColor\":0,\"fFillStyle\":1001,\"fMarkerColor\":1,\"fMarkerStyle\":1,\"fMarkerSize\":1,\"fNcells\":52,\"fXaxis\":{\"_typename\":\"TAxis\",\"fUniqueID\":0,\"fBits\":0,\"fName\":\"xaxis\",\"fTitle\":\"#deltap_{T} (GeV\\/c)\",\"fNdivisions\":510,\"fAxisColor\":1,\"fLabelColor\":1,\"fLabelFont\":42,\"fLabelOffset\":0.005,\"fLabelSize\":0.035,\"fTickLength\":0.03,\"fTitleOffset\":1,\"fTitleSize\":0.035,\"fTitleColor\":1,\"fTitleFont\":42,\"fNbins\":50,\"fXmin\":0,\"fXmax\":1.5,\"fXbins\":[],\"fFirst\":0,\"fLast\":0,\"fBits2\":0,\"fTimeDisplay\":false,\"fTimeFormat\":\"\",\"fLabels\":null,\"fModLabs\":null},\"fYaxis\":{\"_typename\":\"TAxis\",\"fUniqueID\":0,\"fBits\":0,\"fName\":\"yaxis\",\"fTitle\":\"Events\\/bin\",\"fNdivisions\":510,\"fAxisColor\":1,\"fLabelColor\":1,\"fLabelFont\":42,\"fLabelOffset\":0.005,\"fLabelSize\":0.035,\"fTickLength\":0.03,\"fTitleOffset\":0,\"fTitleSize\":0.035,\"fTitleColor\":1,\"fTitleFont\":42,\"fNbins\":1,\"fXmin\":0,\"fXmax\":1,\"fXbins\":[],\"fFirst\":0,\"fLast\":0,\"fBits2\":0,\"fTimeDisplay\":false,\"fTimeFormat\":\"\",\"fLabels\":null,\"fModLabs\":null},\"fZaxis\":{\"_typename\":\"TAxis\",\"fUniqueID\":0,\"fBits\":0,\"fName\":\"zaxis\",\"fTitle\":\"\",\"fNdivisions\":510,\"fAxisColor\":1,\"fLabelColor\":1,\"fLabelFont\":42,\"fLabelOffset\":0.005,\"fLabelSize\":0.035,\"fTickLength\":0.03,\"fTitleOffset\":1,\"fTitleSize\":0.035,\"fTitleColor\":1,\"fTitleFont\":42,\"fNbins\":1,\"fXmin\":0,\"fXmax\":1,\"fXbins\":[],\"fFirst\":0,\"fLast\":0,\"fBits2\":0,\"fTimeDisplay\":false,\"fTimeFormat\":\"\",\"fLabels\":null,\"fModLabs\":null},\"fBarOffset\":0,\"fBarWidth\":1000,\"fEntries\":37063,\"fTsumw\":1,\"fTsumw2\":2.69810862585328e-5,\"fTsumwx\":0.390588840072423,\"fTsumwx2\":0.177634350912606,\"fMaximum\":0.0901357148638804,\"fMinimum\":0,\"fNormFactor\":0,\"fContour\":[],\"fSumw2\":{\"$arr\":\"Float64\",\"len\":52,\"p\":1,\"v\":[8.15336497573232e-8,2.00922208330546e-7,2.99199375448749e-7,3.82188983237453e-7,5.27056807359839e-7,7.22155183564863e-7,1.01917062196654e-6,1.39917566815692e-6,1.66998386199374e-6,1.8628983011517e-6,1.99684644003873e-6,1.97355111153664e-6,1.99102260791321e-6,1.8781858604812e-6,1.79738018973956e-6,1.59136212829918e-6,1.46542175858475e-6,1.25503582305023e-6,1.14656694971236e-6,8.88862378157961e-7,8.36447889028253e-7,5.83839170583689e-7,4.51346989728039e-7,3.18126829856699e-7,2.21305620769877e-7,1.58699425420504e-7,1.04100999243725e-7,6.18782163336828e-8,3.56709717688289e-8,2.69352235805443e-8,1.60155383451885e-8,5.0958531098327e-9,3.63989507845193e-9,2.91191606276154e-9,2.18393704707116e-9,3.63989507845193e-9,7.27979015690386e-10]},\"fOption\":\"\",\"fFunctions\":{\"_typename\":\"TList\",\"name\":\"TList\",\"arr\":[],\"opt\":[]},\"fBufferSize\":0,\"fBuffer\":[],\"fBinStatErrOpt\":0,\"fStatOverflows\":2,\"fArray\":{\"$arr\":\"Float64\",\"len\":52,\"p\":1,\"v\":[0.00302188166095567,0.00744677980735504,0.011089226452257,0.0141650702857297,0.0195343064511777,0.0267652375684645,0.0377735207619459,0.0518576477889,0.0618946118770742,0.0690445997355854,0.0740091196071554,0.0731457248468823,0.0737932709170871,0.0696112025470145,0.0666163019723174,0.0589806545611526,0.0543129266384265,0.0465153927097105,0.0424952108571891,0.0329439063216685,0.0310012681110542,0.0216388311793433,0.0167282734802903,0.0117907346949788,0.00820225022259396,0.00588187680436014,0.00385829533497019,0.00229339233197529,0.00132207322666811,9.98300191565712e-4,5.93583897687721e-4,1.88867603809729e-4,1.34905431292664e-4,1.07924345034131e-4,8.09432587755983e-5,1.34905431292664e-4,2.69810862585328e-5]}},{\"_typename\":\"TH1D\",\"fUniqueID\":0,\"fBits\":521,\"fName\":\"h_deltaptf_nfa_had_loET\",\"fTitle\":\"\",\"fLineColor\":632,\"fLineStyle\":1,\"fLineWidth\":3,\"fFillColor\":0,\"fFillStyle\":1001,\"fMarkerColor\":1,\"fMarkerStyle\":1,\"fMarkerSize\":1,\"fNcells\":52,\"fXaxis\":{\"_typename\":\"TAxis\",\"fUniqueID\":0,\"fBits\":0,\"fName\":\"xaxis\",\"fTitle\":\"#deltap_{T} (GeV\\/c)\",\"fNdivisions\":510,\"fAxisColor\":1,\"fLabelColor\":1,\"fLabelFont\":42,\"fLabelOffset\":0.005,\"fLabelSize\":0.035,\"fTickLength\":0.03,\"fTitleOffset\":1,\"fTitleSize\":0.035,\"fTitleColor\":1,\"fTitleFont\":42,\"fNbins\":50,\"fXmin\":0,\"fXmax\":1.5,\"fXbins\":[],\"fFirst\":0,\"fLast\":0,\"fBits2\":0,\"fTimeDisplay\":false,\"fTimeFormat\":\"\",\"fLabels\":null,\"fModLabs\":null},\"fYaxis\":{\"_typename\":\"TAxis\",\"fUniqueID\":0,\"fBits\":0,\"fName\":\"yaxis\",\"fTitle\":\"Events\\/bin\",\"fNdivisions\":510,\"fAxisColor\":1,\"fLabelColor\":1,\"fLabelFont\":42,\"fLabelOffset\":0.005,\"fLabelSize\":0.035,\"fTickLength\":0.03,\"fTitleOffset\":0,\"fTitleSize\":0.035,\"fTitleColor\":1,\"fTitleFont\":42,\"fNbins\":1,\"fXmin\":0,\"fXmax\":1,\"fXbins\":[],\"fFirst\":0,\"fLast\":0,\"fBits2\":0,\"fTimeDisplay\":false,\"fTimeFormat\":\"\",\"fLabels\":null,\"fModLabs\":null},\"fZaxis\":{\"_typename\":\"TAxis\",\"fUniqueID\":0,\"fBits\":0,\"fName\":\"zaxis\",\"fTitle\":\"\",\"fNdivisions\":510,\"fAxisColor\":1,\"fLabelColor\":1,\"fLabelFont\":42,\"fLabelOffset\":0.005,\"fLabelSize\":0.035,\"fTickLength\":0.03,\"fTitleOffset\":1,\"fTitleSize\":0.035,\"fTitleColor\":1,\"fTitleFont\":42,\"fNbins\":1,\"fXmin\":0,\"fXmax\":1,\"fXbins\":[],\"fFirst\":0,\"fLast\":0,\"fBits2\":0,\"fTimeDisplay\":false,\"fTimeFormat\":\"\",\"fLabels\":null,\"fModLabs\":null},\"fBarOffset\":0,\"fBarWidth\":1000,\"fEntries\":37063,\"fTsumw\":1,\"fTsumw2\":2.6982542295135e-5,\"fTsumwx\":0.277474904328087,\"fTsumwx2\":0.106054939236652,\"fMaximum\":0.0901405790453577,\"fMinimum\":0,\"fNormFactor\":0,\"fContour\":[],\"fSumw2\":{\"$arr\":\"Float64\",\"len\":52,\"p\":1,\"v\":[3.29082030096356e-7,8.94782776523056e-7,1.43572956493366e-6,1.78592526510257e-6,1.99997419618294e-6,2.21111089690848e-6,2.20164614825527e-6,2.17834830541658e-6,2.08879722200541e-6,1.87037994539278e-6,1.64104180494953e-6,1.42626481628044e-6,1.23551372803875e-6,9.87246090289067e-7,8.42362630136026e-7,6.67628808845925e-7,5.8317412855571e-7,4.99447505854204e-7,4.05528076910775e-7,3.22529511797977e-7,2.62100731935151e-7,2.03128067249742e-7,1.87110800298149e-7,1.31778423556284e-7,1.28866193201449e-7,8.5182737878924e-8,7.13496436934577e-8,6.98935285160402e-8,5.16920887983214e-8,3.13064763144763e-8,2.62100731935151e-8,2.69381307822238e-8,2.47539580160976e-8,2.0385612483845e-8,1.09208638306313e-8,1.38330941854663e-8,7.28057588708752e-9,5.82446070967001e-9,3.64028794354376e-9,4.36834553225251e-9,1.4561151774175e-9,4.36834553225251e-9,7.28057588708752e-10,7.28057588708752e-10,0,7.28057588708752e-10,0,7.28057588708752e-10,0,7.28057588708752e-10,1.4561151774175e-9]},\"fOption\":\"\",\"fFunctions\":{\"_typename\":\"TList\",\"name\":\"TList\",\"arr\":[],\"opt\":[]},\"fBufferSize\":0,\"fBuffer\":[],\"fBinStatErrOpt\":0,\"fStatOverflows\":2,\"fArray\":{\"$arr\":\"Float64\",\"len\":52,\"p\":1,\"v\":[0.012196109117401,0.033161544480721,0.0532095734060063,0.0661881762499663,0.074121043684736,0.0819459809503251,0.0815952079004884,0.0807317665470441,0.0774129138447425,0.0693181511562019,0.0608186503332344,0.0528588003561696,0.0457893742748442,0.0365883273522031,0.0312188014354713,0.0247429912846388,0.0216130163784032,0.0185100240144626,0.0150292760583902,0.0119532662367448,0.00971371522624862,0.00752812930034268,0.00693451336984971,0.00488384015541944,0.0047759099862389,0.0031569574485308,0.00264428914492323,0.00259032406033296,0.00191576050295459,0.00116024931869081,9.71371522624862e-4,9.98354064919997e-4,9.17406438034592e-4,7.55511184263781e-4,4.04738134427026e-4,5.12668303607566e-4,2.6982542295135e-4,2.1586033836108e-4,1.34912711475675e-4,1.6189525377081e-4,5.39650845902701e-5,1.6189525377081e-4,2.6982542295135e-5,2.6982542295135e-5,0,2.6982542295135e-5,0,2.6982542295135e-5,0,2.6982542295135e-5,5.39650845902701e-5]}},{\"_typename\":\"TH1D\",\"fUniqueID\":0,\"fBits\":521,\"fName\":\"h_deltaptf_nfa_had_loET_G18\",\"fTitle\":\"\",\"fLineColor\":632,\"fLineStyle\":2,\"fLineWidth\":3,\"fFillColor\":0,\"fFillStyle\":1001,\"fMarkerColor\":1,\"fMarkerStyle\":1,\"fMarkerSize\":1,\"fNcells\":52,\"fXaxis\":{\"_typename\":\"TAxis\",\"fUniqueID\":0,\"fBits\":0,\"fName\":\"xaxis\",\"fTitle\":\"#deltap_{T} (GeV\\/c)\",\"fNdivisions\":510,\"fAxisColor\":1,\"fLabelColor\":1,\"fLabelFont\":42,\"fLabelOffset\":0.005,\"fLabelSize\":0.035,\"fTickLength\":0.03,\"fTitleOffset\":1,\"fTitleSize\":0.035,\"fTitleColor\":1,\"fTitleFont\":42,\"fNbins\":50,\"fXmin\":0,\"fXmax\":1.5,\"fXbins\":[],\"fFirst\":0,\"fLast\":0,\"fBits2\":0,\"fTimeDisplay\":false,\"fTimeFormat\":\"\",\"fLabels\":null,\"fModLabs\":null},\"fYaxis\":{\"_typename\":\"TAxis\",\"fUniqueID\":0,\"fBits\":0,\"fName\":\"yaxis\",\"fTitle\":\"Events\\/bin\",\"fNdivisions\":510,\"fAxisColor\":1,\"fLabelColor\":1,\"fLabelFont\":42,\"fLabelOffset\":0.005,\"fLabelSize\":0.035,\"fTickLength\":0.03,\"fTitleOffset\":0,\"fTitleSize\":0.035,\"fTitleColor\":1,\"fTitleFont\":42,\"fNbins\":1,\"fXmin\":0,\"fXmax\":1,\"fXbins\":[],\"fFirst\":0,\"fLast\":0,\"fBits2\":0,\"fTimeDisplay\":false,\"fTimeFormat\":\"\",\"fLabels\":null,\"fModLabs\":null},\"fZaxis\":{\"_typename\":\"TAxis\",\"fUniqueID\":0,\"fBits\":0,\"fName\":\"zaxis\",\"fTitle\":\"\",\"fNdivisions\":510,\"fAxisColor\":1,\"fLabelColor\":1,\"fLabelFont\":42,\"fLabelOffset\":0.005,\"fLabelSize\":0.035,\"fTickLength\":0.03,\"fTitleOffset\":1,\"fTitleSize\":0.035,\"fTitleColor\":1,\"fTitleFont\":42,\"fNbins\":1,\"fXmin\":0,\"fXmax\":1,\"fXbins\":[],\"fFirst\":0,\"fLast\":0,\"fBits2\":0,\"fTimeDisplay\":false,\"fTimeFormat\":\"\",\"fLabels\":null,\"fModLabs\":null},\"fBarOffset\":0,\"fBarWidth\":1000,\"fEntries\":19594,\"fTsumw\":1,\"fTsumw2\":5.10360314381954e-5,\"fTsumwx\":0.21676639790727,\"fTsumwx2\":0.0603837161257543,\"fMaximum\":0.130693069306931,\"fMinimum\":0,\"fNormFactor\":0,\"fContour\":[],\"fSumw2\":{\"$arr\":\"Float64\",\"len\":52,\"p\":1,\"v\":[6.40750420220275e-7,1.9170419076509e-6,3.3470093088742e-6,4.39148458736335e-6,5.38126165924832e-6,6.03764013849836e-6,6.06368690354796e-6,5.600054485665e-6,3.75854819665795e-6,3.04486683429878e-6,2.56821103389102e-6,2.22178905873128e-6,1.76336599385824e-6,1.26326810490583e-6,9.55916277320491e-7,6.6940186177484e-7,4.50609035358161e-7,3.04747151080374e-7,2.2139750292164e-7,1.27629148743063e-7,1.06791736703379e-7,6.77215891289721e-8,4.42795005843279e-8,3.38607945644861e-8,1.04187060198419e-8,2.60467650496047e-8,2.60467650496047e-9,7.8140295148814e-9,0,5.20935300992093e-9,0,2.60467650496047e-9]},\"fOption\":\"\",\"fFunctions\":{\"_typename\":\"TList\",\"name\":\"TList\",\"arr\":[],\"opt\":[]},\"fBufferSize\":0,\"fBuffer\":[],\"fBinStatErrOpt\":0,\"fStatOverflows\":2,\"fArray\":{\"$arr\":\"Float64\",\"len\":52,\"p\":1,\"v\":[0.0125548637337961,0.0375625191385118,0.065581300398081,0.0860467490047974,0.105440440951312,0.118301520873737,0.118811881188119,0.10972746759212,0.0736449933653159,0.0596611207512504,0.0503215269980606,0.0435337348167806,0.0345513932836583,0.0247524752475248,0.0187302235378177,0.0131162600796162,0.0088292334388078,0.00597121567826886,0.00433806267224661,0.00250076554047157,0.00209247728896601,0.00132693681739308,8.67612534449321e-4,6.6346840869654e-4,2.04144125752781e-4,5.10360314381954e-4,5.10360314381954e-5,1.53108094314586e-4,0,1.02072062876391e-4,0,5.10360314381954e-5]}},{\"_typename\":\"TLegend\",\"fUniqueID\":0,\"fBits\":8,\"fLineColor\":1,\"fLineStyle\":1,\"fLineWidth\":1,\"fFillColor\":0,\"fFillStyle\":1001,\"fX1\":0.562499997206032,\"fY1\":0.0980198024670677,\"fX2\":1.46250001061708,\"fY2\":0.12742574349931,\"fX1NDC\":0.4,\"fY1NDC\":0.7,\"fX2NDC\":0.88,\"fY2NDC\":0.88,\"fBorderSize\":1,\"fInit\":1,\"fShadowColor\":1,\"fCornerRadius\":0,\"fOption\":\"brNDC\",\"fName\":\"TPave\",\"fTextAngle\":0,\"fTextSize\":0,\"fTextAlign\":12,\"fTextColor\":1,\"fTextFont\":42,\"fPrimitives\":{\"_typename\":\"TList\",\"name\":\"TList\",\"arr\":[{\"_typename\":\"TLegendEntry\",\"fUniqueID\":0,\"fBits\":0,\"fTextAngle\":0,\"fTextSize\":0,\"fTextAlign\":0,\"fTextColor\":0,\"fTextFont\":42,\"fLineColor\":632,\"fLineStyle\":1,\"fLineWidth\":3,\"fFillColor\":0,\"fFillStyle\":1001,\"fMarkerColor\":1,\"fMarkerStyle\":1,\"fMarkerSize\":1,\"fObject\":{\"$ref\":13},\"fLabel\":\"G21_11b, all final-state hadrons\",\"fOption\":\"lpf\"},{\"_typename\":\"TLegendEntry\",\"fUniqueID\":0,\"fBits\":0,\"fTextAngle\":0,\"fTextSize\":0,\"fTextAlign\":0,\"fTextColor\":0,\"fTextFont\":42,\"fLineColor\":632,\"fLineStyle\":2,\"fLineWidth\":3,\"fFillColor\":0,\"fFillStyle\":1001,\"fMarkerColor\":1,\"fMarkerStyle\":1,\"fMarkerSize\":1,\"fObject\":{\"$ref\":18},\"fLabel\":\"G18_02a, all final-state hadrons\",\"fOption\":\"lpf\"},{\"_typename\":\"TLegendEntry\",\"fUniqueID\":0,\"fBits\":0,\"fTextAngle\":0,\"fTextSize\":0,\"fTextAlign\":0,\"fTextColor\":0,\"fTextFont\":42,\"fLineColor\":600,\"fLineStyle\":1,\"fLineWidth\":3,\"fFillColor\":0,\"fFillStyle\":1001,\"fMarkerColor\":1,\"fMarkerStyle\":1,\"fMarkerSize\":1,\"fObject\":{\"$ref\":8},\"fLabel\":\"G21_11b, well-reconstructed final-state hadrons\",\"fOption\":\"lpf\"},{\"_typename\":\"TLegendEntry\",\"fUniqueID\":0,\"fBits\":0,\"fTextAngle\":0,\"fTextSize\":0,\"fTextAlign\":0,\"fTextColor\":0,\"fTextFont\":42,\"fLineColor\":600,\"fLineStyle\":2,\"fLineWidth\":3,\"fFillColor\":0,\"fFillStyle\":1001,\"fMarkerColor\":1,\"fMarkerStyle\":1,\"fMarkerSize\":1,\"fObject\":{\"$ref\":3},\"fLabel\":\"G18_02a, well-reconstructed final-state hadrons\",\"fOption\":\"lpf\"}],\"opt\":[\"lpf\",\"lpf\",\"lpf\",\"lpf\"]},\"fEntrySeparation\":0.1,\"fMargin\":0.25,\"fNColumns\":1,\"fColumnSeparation\":0},{\"_typename\":\"TStyle\",\"fUniqueID\":0,\"fBits\":0,\"fName\":\"Modern\",\"fTitle\":\"Modern Style\",\"fLineColor\":1,\"fLineStyle\":1,\"fLineWidth\":1,\"fFillColor\":19,\"fFillStyle\":1001,\"fMarkerColor\":1,\"fMarkerStyle\":1,\"fMarkerSize\":1,\"fTextAngle\":0,\"fTextSize\":0.05,\"fTextAlign\":11,\"fTextColor\":1,\"fTextFont\":62,\"fXaxis\":{\"_typename\":\"TAttAxis\",\"fNdivisions\":510,\"fAxisColor\":1,\"fLabelColor\":1,\"fLabelFont\":42,\"fLabelOffset\":0.005,\"fLabelSize\":0.035,\"fTickLength\":0.03,\"fTitleOffset\":1,\"fTitleSize\":0.035,\"fTitleColor\":1,\"fTitleFont\":42},\"fYaxis\":{\"_typename\":\"TAttAxis\",\"fNdivisions\":510,\"fAxisColor\":1,\"fLabelColor\":1,\"fLabelFont\":42,\"fLabelOffset\":0.005,\"fLabelSize\":0.035,\"fTickLength\":0.03,\"fTitleOffset\":0,\"fTitleSize\":0.035,\"fTitleColor\":1,\"fTitleFont\":42},\"fZaxis\":{\"_typename\":\"TAttAxis\",\"fNdivisions\":510,\"fAxisColor\":1,\"fLabelColor\":1,\"fLabelFont\":42,\"fLabelOffset\":0.005,\"fLabelSize\":0.035,\"fTickLength\":0.03,\"fTitleOffset\":1,\"fTitleSize\":0.035,\"fTitleColor\":1,\"fTitleFont\":42},\"fBarWidth\":1,\"fBarOffset\":0,\"fColorModelPS\":0,\"fDrawBorder\":0,\"fOptLogx\":0,\"fOptLogy\":0,\"fOptLogz\":0,\"fOptDate\":0,\"fOptStat\":0,\"fOptTitle\":1,\"fOptFile\":0,\"fOptFit\":0,\"fShowEventStatus\":0,\"fShowEditor\":0,\"fShowToolBar\":0,\"fNumberContours\":20,\"fAttDate\":{\"_typename\":\"TAttText\",\"fTextAngle\":0,\"fTextSize\":0.025,\"fTextAlign\":11,\"fTextColor\":1,\"fTextFont\":62},\"fDateX\":0.01,\"fDateY\":0.01,\"fEndErrorSize\":2,\"fErrorX\":0.5,\"fFuncColor\":2,\"fFuncStyle\":1,\"fFuncWidth\":2,\"fGridColor\":0,\"fGridStyle\":3,\"fGridWidth\":1,\"fLegendBorderSize\":1,\"fLegendFillColor\":0,\"fLegendFont\":42,\"fLegendTextSize\":0,\"fHatchesLineWidth\":1,\"fHatchesSpacing\":1,\"fFrameFillColor\":0,\"fFrameLineColor\":1,\"fFrameFillStyle\":1001,\"fFrameLineStyle\":1,\"fFrameLineWidth\":1,\"fFrameBorderSize\":1,\"fFrameBorderMode\":0,\"fHistFillColor\":0,\"fHistLineColor\":602,\"fHistFillStyle\":1001,\"fHistLineStyle\":1,\"fHistLineWidth\":1,\"fHistMinimumZero\":false,\"fHistTopMargin\":0.05,\"fCanvasPreferGL\":false,\"fCanvasColor\":0,\"fCanvasBorderSize\":2,\"fCanvasBorderMode\":0,\"fCanvasDefH\":500,\"fCanvasDefW\":700,\"fCanvasDefX\":10,\"fCanvasDefY\":10,\"fPadColor\":0,\"fPadBorderSize\":2,\"fPadBorderMode\":0,\"fPadBottomMargin\":0.1,\"fPadTopMargin\":0.1,\"fPadLeftMargin\":0.1,\"fPadRightMargin\":0.1,\"fPadGridX\":false,\"fPadGridY\":false,\"fPadTickX\":0,\"fPadTickY\":0,\"fPaperSizeX\":20,\"fPaperSizeY\":26,\"fScreenFactor\":1,\"fStatColor\":0,\"fStatTextColor\":1,\"fStatBorderSize\":1,\"fStatFont\":42,\"fStatFontSize\":0,\"fStatStyle\":1001,\"fStatFormat\":\"6.4g\",\"fStatX\":0.98,\"fStatY\":0.935,\"fStatW\":0.2,\"fStatH\":0.16,\"fStripDecimals\":true,\"fTitleAlign\":23,\"fTitleColor\":0,\"fTitleTextColor\":1,\"fTitleBorderSize\":0,\"fTitleFont\":42,\"fTitleFontSize\":0.05,\"fTitleStyle\":0,\"fTitleX\":0.5,\"fTitleY\":0.995,\"fTitleW\":0,\"fTitleH\":0,\"fLegoInnerR\":0.5,\"fLineStyles\":[\"\",\"  \",\" 12 12\",\" 4 8\",\" 12 16 4 16\",\" 20 12 4 12\",\" 20 12 4 12 4 12 4 12\",\" 20 20\",\" 20 12 4 12 4 12\",\" 80 20\",\" 80 40 4 40\",\"  \",\"  \",\"  \",\"  \",\"  \",\"  \",\"  \",\"  \",\"  \",\"  \",\"  \",\"  \",\"  \",\"  \",\"  \",\"  \",\"  \",\"  \",\"  \"],\"fHeaderPS\":\"\",\"fTitlePS\":\"\",\"fFitFormat\":\"5.4g\",\"fPaintTextFormat\":\"g\",\"fLineScalePS\":3,\"fJoinLinePS\":0,\"fCapLinePS\":0,\"fTimeOffset\":788918400,\"fImageScaling\":1}],\"opt\":[\"\",\"HIST\",\"SAMEHIST\",\"SAMEHIST\",\"SAMEHIST\",\"\",\"\"]},\"fExecs\":null,\"fName\":\"c1\",\"fTitle\":\"c1\",\"fNumPaletteColor\":0,\"fNextPaletteColor\":0,\"fDISPLAY\":\"$DISPLAY\",\"fDoubleBuffer\":0,\"fRetained\":true,\"fXsizeUser\":0,\"fYsizeUser\":0,\"fXsizeReal\":20,\"fYsizeReal\":14.28571,\"fWindowTopX\":0,\"fWindowTopY\":0,\"fWindowWidth\":0,\"fWindowHeight\":0,\"fCw\":696,\"fCh\":472,\"fCatt\":{\"_typename\":\"TAttCanvas\",\"fXBetween\":2,\"fYBetween\":2,\"fTitleFromTop\":1.2,\"fXdate\":0.2,\"fYdate\":0.3,\"fAdate\":1},\"kMoveOpaque\":true,\"kResizeOpaque\":true,\"fHighLightColor\":2,\"fBatch\":true,\"kShowEventStatus\":false,\"kAutoExec\":true,\"kMenuBar\":true});\n",
       "   Core.settings.HandleKeys = false;\n",
       "   Core.draw(\"root_plot_1659715050367\", obj, \"\");\n",
       "}\n",
       "\n",
       "function script_load_root_plot_1659715050367(src, on_error) {\n",
       "    let script = document.createElement('script');\n",
       "    script.src = src;\n",
       "    script.onload = function() { display_root_plot_1659715050367(JSROOT); };\n",
       "    script.onerror = function() { script.remove(); on_error(); };\n",
       "    document.head.appendChild(script);\n",
       "}\n",
       "\n",
       "if (typeof requirejs !== 'undefined') {\n",
       "\n",
       "    // We are in jupyter notebooks, use require.js which should be configured already\n",
       "    requirejs.config({\n",
       "       paths: { 'JSRootCore' : [ 'scripts/JSRoot.core', 'https://root.cern/js/6.1.1/scripts/JSRoot.core.min', 'https://jsroot.gsi.de/6.1.1/scripts/JSRoot.core.min' ] }\n",
       "    })(['JSRootCore'],  function(Core) {\n",
       "       display_root_plot_1659715050367(Core);\n",
       "    });\n",
       "\n",
       "} else if (typeof JSROOT !== 'undefined') {\n",
       "\n",
       "   // JSROOT already loaded, just use it\n",
       "   display_root_plot_1659715050367(JSROOT);\n",
       "\n",
       "} else {\n",
       "\n",
       "    // We are in jupyterlab without require.js, directly loading jsroot\n",
       "    // Jupyterlab might be installed in a different base_url so we need to know it.\n",
       "    try {\n",
       "        var base_url = JSON.parse(document.getElementById('jupyter-config-data').innerHTML).baseUrl;\n",
       "    } catch(_) {\n",
       "        var base_url = '/';\n",
       "    }\n",
       "\n",
       "    // Try loading a local version of requirejs and fallback to cdn if not possible.\n",
       "    script_load_root_plot_1659715050367(base_url + 'static/scripts/JSRoot.core.js', function(){\n",
       "        console.error('Fail to load JSROOT locally, please check your jupyter_notebook_config.py file');\n",
       "        script_load_root_plot_1659715050367('https://root.cern/js/6.1.1/scripts/JSRoot.core.min.js', function(){\n",
       "            document.getElementById(\"root_plot_1659715050367\").innerHTML = \"Failed to load JSROOT\";\n",
       "        });\n",
       "    });\n",
       "}\n",
       "\n",
       "</script>\n"
      ],
      "text/plain": [
       "<IPython.core.display.HTML object>"
      ]
     },
     "metadata": {},
     "output_type": "display_data"
    }
   ],
   "source": [
    "c.cd()\n",
    "h_deltaptfa_all_Def_nfa_had_loET_G18.SetTitle(\";#deltap_{T} (GeV/c);Normalized Events\")\n",
    "h_deltaptfa_all_Def_nfa_had_loET_G18.DrawNormalized()\n",
    "h_deltaptfa_all_Def_nfa_had_loET.DrawNormalized(\"same\")\n",
    "h_deltaptf_nfa_had_loET.DrawNormalized(\"same\")\n",
    "h_deltaptf_nfa_had_loET_G18.DrawNormalized(\"same\")\n",
    "\n",
    "leg = ROOT.TLegend(0.4,0.7,0.88,0.88)\n",
    "leg.AddEntry(\"h_deltaptf_nfa_had_loET\",\"G21_11b, all final-state hadrons\")\n",
    "leg.AddEntry(\"h_deltaptf_nfa_had_loET_G18\",\"G18_02a, all final-state hadrons\")\n",
    "leg.AddEntry(\"h_deltaptfa_all_Def_nfa_had_loET\",\"G21_11b, well-reconstructed final-state hadrons\")\n",
    "leg.AddEntry(\"h_deltaptfa_all_Def_nfa_had_loET_G18\",\"G18_02a, well-reconstructed final-state hadrons\")\n",
    "leg.Draw()\n",
    "\n",
    "c.Draw()\n",
    "c.SaveAs(\"delta_pt_DefA_nfa_had_loET.pdf\")"
   ]
  },
  {
   "cell_type": "code",
   "execution_count": 44,
   "metadata": {},
   "outputs": [],
   "source": [
    "df_gst_GEM21_11b_DefA_trig = df_gst_GEM21_11b_DefA_trig.Define(\"sum_kefa_had\",\"sum_kefa_proton+sum_kefa_neutron+sum_kefa_piplus+sum_kefa_piminus+sum_Efa_pi0_ph\")\n",
    "df_gst_G18_02a_DefA_trig = df_gst_G18_02a_DefA_trig.Define(\"sum_kefa_had\",\"sum_kefa_proton+sum_kefa_neutron+sum_kefa_piplus+sum_kefa_piminus+sum_Efa_pi0_ph\")"
   ]
  },
  {
   "cell_type": "code",
   "execution_count": 68,
   "metadata": {},
   "outputs": [],
   "source": [
    "df_gst_GEM21_11b_DefA_trig = df_gst_GEM21_11b_DefA_trig.Define(\"sum_kefa_pi\",\"sum_kefa_piplus+sum_kefa_piminus+sum_Efa_pi0_ph\")\n",
    "df_gst_G18_02a_DefA_trig = df_gst_G18_02a_DefA_trig.Define(\"sum_kefa_pi\",\"sum_kefa_piplus+sum_kefa_piminus+sum_Efa_pi0_ph\")"
   ]
  },
  {
   "cell_type": "code",
   "execution_count": 70,
   "metadata": {},
   "outputs": [],
   "source": [
    "title=\";#SigmaKE (GeV);Events/bin\"\n",
    "nbins=100\n",
    "xmin=0.0\n",
    "xmax=3.0\n",
    "\n",
    "h_sumkefa_had_G21 = df_gst_GEM21_11b_DefA_trig.Filter(\"nfa_had>0\").Histo1D((\"h_sumkefa_had_G21\",title,nbins,xmin,xmax),\"sum_kefa_had\")\n",
    "h_sumkefa_had_G18 = df_gst_G18_02a_DefA_trig.Filter(\"nfa_had>0\").Histo1D((\"h_sumkefa_had_G18\",title,nbins,xmin,xmax),\"sum_kefa_had\")"
   ]
  },
  {
   "cell_type": "code",
   "execution_count": 71,
   "metadata": {},
   "outputs": [],
   "source": [
    "h_sumkefa_had_G21_loE = df_gst_GEM21_11b_DefA_trig.Filter(\"nfa_had>0 && energy_transfer<0.3\").Histo1D((\"h_sumkefa_had_G21_loE\",title,nbins,xmin,xmax),\"sum_kefa_had\")\n",
    "h_sumkefa_had_G18_loE = df_gst_G18_02a_DefA_trig.Filter(\"nfa_had>0 && energy_transfer<0.3\").Histo1D((\"h_sumkefa_had_G18_loE\",title,nbins,xmin,xmax),\"sum_kefa_had\")\n",
    "\n",
    "h_sumkefa_had_G21_hiE = df_gst_GEM21_11b_DefA_trig.Filter(\"nfa_had>0 && energy_transfer>0.3\").Histo1D((\"h_sumkefa_had_G21_hiE\",title,nbins,xmin,xmax),\"sum_kefa_had\")\n",
    "h_sumkefa_had_G18_hiE = df_gst_G18_02a_DefA_trig.Filter(\"nfa_had>0 && energy_transfer>0.3\").Histo1D((\"h_sumkefa_had_G18_hiE\",title,nbins,xmin,xmax),\"sum_kefa_had\")"
   ]
  },
  {
   "cell_type": "code",
   "execution_count": 72,
   "metadata": {},
   "outputs": [],
   "source": [
    "title=\";#SigmaKE (GeV);Events/bin\"\n",
    "nbins=100\n",
    "xmin=0.0\n",
    "xmax=3.0\n",
    "\n",
    "h_sumkefa_neutron_G21 = df_gst_GEM21_11b_DefA_trig.Filter(\"nfa_neutron>0\").Histo1D((\"h_sumkefa_neutron_G21\",title,nbins,xmin,xmax),\"sum_kefa_neutron\")\n",
    "h_sumkefa_neutron_G18 = df_gst_G18_02a_DefA_trig.Filter(\"nfa_neutron>0\").Histo1D((\"h_sumkefa_neutron_G18\",title,nbins,xmin,xmax),\"sum_kefa_neutron\")\n",
    "\n",
    "h_sumkefa_proton_G21 = df_gst_GEM21_11b_DefA_trig.Filter(\"nfa_proton>0\").Histo1D((\"h_sumkefa_proton_G21\",title,nbins,xmin,xmax),\"sum_kefa_proton\")\n",
    "h_sumkefa_proton_G18 = df_gst_G18_02a_DefA_trig.Filter(\"nfa_proton>0\").Histo1D((\"h_sumkefa_proton_G18\",title,nbins,xmin,xmax),\"sum_kefa_proton\")\n",
    "\n",
    "h_sumkefa_pi_G21 = df_gst_GEM21_11b_DefA_trig.Filter(\"nfa_pi>0\").Histo1D((\"h_sumkefa_pi_G21\",title,nbins,xmin,xmax),\"sum_kefa_pi\")\n",
    "h_sumkefa_pi_G18 = df_gst_G18_02a_DefA_trig.Filter(\"nfa_pi>0\").Histo1D((\"h_sumkefa_pi_G18\",title,nbins,xmin,xmax),\"sum_kefa_pi\")"
   ]
  },
  {
   "cell_type": "code",
   "execution_count": 73,
   "metadata": {},
   "outputs": [],
   "source": [
    "format_hists([h_sumkefa_had_G21],[ROOT.kBlue,ROOT.kBlue],line_width=2)\n",
    "format_hists([h_sumkefa_neutron_G21],[ROOT.kBlue,ROOT.kBlue],line_width=2)\n",
    "format_hists([h_sumkefa_proton_G21],[ROOT.kBlue,ROOT.kBlue],line_width=2)\n",
    "format_hists([h_sumkefa_pi_G21],[ROOT.kBlue,ROOT.kBlue],line_width=2)\n",
    "\n",
    "\n",
    "format_hists([h_sumkefa_had_G18],[ROOT.kRed,ROOT.kRed],line_style=2)\n",
    "format_hists([h_sumkefa_neutron_G18],[ROOT.kRed],line_style=2)\n",
    "format_hists([h_sumkefa_proton_G18],[ROOT.kRed],line_style=2)\n",
    "format_hists([h_sumkefa_pi_G18],[ROOT.kRed],line_style=2)"
   ]
  },
  {
   "cell_type": "code",
   "execution_count": 67,
   "metadata": {},
   "outputs": [
    {
     "name": "stderr",
     "output_type": "stream",
     "text": [
      "Info in <TCanvas::Print>: pdf file sumkefa_DefA_had.pdf has been created\n"
     ]
    },
    {
     "data": {
      "text/html": [
       "\n",
       "\n",
       "<div id=\"root_plot_1659450794381\"\n",
       "     style=\"width: 696px; height: 472px\">\n",
       "</div>\n",
       "<script>\n",
       "\n",
       "function display_root_plot_1659450794381(Core) {\n",
       "   let obj = Core.parse({\"_typename\":\"TCanvas\",\"fUniqueID\":0,\"fBits\":3342344,\"fLineColor\":1,\"fLineStyle\":1,\"fLineWidth\":1,\"fFillColor\":0,\"fFillStyle\":1001,\"fLeftMargin\":0.1,\"fRightMargin\":0.1,\"fBottomMargin\":0.1,\"fTopMargin\":0.1,\"fXfile\":2,\"fYfile\":2,\"fAfile\":1,\"fXstat\":0.99,\"fYstat\":0.99,\"fAstat\":2,\"fFrameFillColor\":0,\"fFrameLineColor\":1,\"fFrameFillStyle\":1001,\"fFrameLineStyle\":1,\"fFrameLineWidth\":1,\"fFrameBorderSize\":1,\"fFrameBorderMode\":0,\"fX1\":-0.375000027939679,\"fY1\":-46254.2499462101,\"fX2\":3.37500002793968,\"fY2\":416288.22194621,\"fXtoAbsPixelk\":69.6000541484835,\"fXtoPixelk\":69.6000541484835,\"fXtoPixel\":185.599997234344,\"fYtoAbsPixelk\":424.800047186661,\"fYtoPixelk\":424.800047186661,\"fYtoPixel\":-0.00102044683176636,\"fUtoAbsPixelk\":5e-5,\"fUtoPixelk\":5e-5,\"fUtoPixel\":696,\"fVtoAbsPixelk\":472.00005,\"fVtoPixelk\":472,\"fVtoPixel\":-472,\"fAbsPixeltoXk\":-0.375000027939679,\"fPixeltoXk\":-0.375000027939679,\"fPixeltoX\":0.00538793111476919,\"fAbsPixeltoYk\":416288.22194621,\"fPixeltoYk\":-46254.2499462101,\"fPixeltoY\":-979.962864178857,\"fXlowNDC\":0,\"fYlowNDC\":0,\"fXUpNDC\":1,\"fYUpNDC\":1,\"fWNDC\":1,\"fHNDC\":1,\"fAbsXlowNDC\":0,\"fAbsYlowNDC\":0,\"fAbsWNDC\":1,\"fAbsHNDC\":1,\"fUxmin\":0,\"fUymin\":0,\"fUxmax\":3,\"fUymax\":370033.972,\"fTheta\":30,\"fPhi\":30,\"fAspectRatio\":0,\"fNumber\":0,\"fTickx\":0,\"fTicky\":0,\"fLogx\":0,\"fLogy\":0,\"fLogz\":0,\"fPadPaint\":0,\"fCrosshair\":0,\"fCrosshairPos\":0,\"fBorderSize\":2,\"fBorderMode\":0,\"fModified\":false,\"fGridx\":false,\"fGridy\":false,\"fAbsCoord\":false,\"fEditable\":true,\"fFixedAspectRatio\":false,\"fPrimitives\":{\"_typename\":\"TList\",\"name\":\"TList\",\"arr\":[{\"_typename\":\"TFrame\",\"fUniqueID\":0,\"fBits\":8,\"fLineColor\":1,\"fLineStyle\":1,\"fLineWidth\":1,\"fFillColor\":0,\"fFillStyle\":1001,\"fX1\":0,\"fY1\":0,\"fX2\":3,\"fY2\":370033.972,\"fBorderSize\":1,\"fBorderMode\":0},{\"_typename\":\"TH1D\",\"fUniqueID\":0,\"fBits\":520,\"fName\":\"h_sumkefa_had_G21\",\"fTitle\":\"\",\"fLineColor\":600,\"fLineStyle\":1,\"fLineWidth\":2,\"fFillColor\":0,\"fFillStyle\":1001,\"fMarkerColor\":1,\"fMarkerStyle\":1,\"fMarkerSize\":1,\"fNcells\":102,\"fXaxis\":{\"_typename\":\"TAxis\",\"fUniqueID\":0,\"fBits\":0,\"fName\":\"xaxis\",\"fTitle\":\"#SigmaKE (well-reconstructed hadrons,GeV)\",\"fNdivisions\":510,\"fAxisColor\":1,\"fLabelColor\":1,\"fLabelFont\":42,\"fLabelOffset\":0.005,\"fLabelSize\":0.035,\"fTickLength\":0.03,\"fTitleOffset\":1,\"fTitleSize\":0.035,\"fTitleColor\":1,\"fTitleFont\":42,\"fNbins\":100,\"fXmin\":0,\"fXmax\":3,\"fXbins\":[],\"fFirst\":0,\"fLast\":0,\"fBits2\":0,\"fTimeDisplay\":false,\"fTimeFormat\":\"\",\"fLabels\":null,\"fModLabs\":null},\"fYaxis\":{\"_typename\":\"TAxis\",\"fUniqueID\":0,\"fBits\":0,\"fName\":\"yaxis\",\"fTitle\":\"Events\\/bin\",\"fNdivisions\":510,\"fAxisColor\":1,\"fLabelColor\":1,\"fLabelFont\":42,\"fLabelOffset\":0.005,\"fLabelSize\":0.035,\"fTickLength\":0.03,\"fTitleOffset\":0,\"fTitleSize\":0.035,\"fTitleColor\":1,\"fTitleFont\":42,\"fNbins\":1,\"fXmin\":0,\"fXmax\":1,\"fXbins\":[],\"fFirst\":0,\"fLast\":0,\"fBits2\":0,\"fTimeDisplay\":false,\"fTimeFormat\":\"\",\"fLabels\":null,\"fModLabs\":null},\"fZaxis\":{\"_typename\":\"TAxis\",\"fUniqueID\":0,\"fBits\":0,\"fName\":\"zaxis\",\"fTitle\":\"\",\"fNdivisions\":510,\"fAxisColor\":1,\"fLabelColor\":1,\"fLabelFont\":42,\"fLabelOffset\":0.005,\"fLabelSize\":0.035,\"fTickLength\":0.03,\"fTitleOffset\":1,\"fTitleSize\":0.035,\"fTitleColor\":1,\"fTitleFont\":42,\"fNbins\":1,\"fXmin\":0,\"fXmax\":1,\"fXbins\":[],\"fFirst\":0,\"fLast\":0,\"fBits2\":0,\"fTimeDisplay\":false,\"fTimeFormat\":\"\",\"fLabels\":null,\"fModLabs\":null},\"fBarOffset\":0,\"fBarWidth\":1000,\"fEntries\":549147,\"fTsumw\":548954,\"fTsumw2\":548954,\"fTsumwx\":318546.700272099,\"fTsumwx2\":342329.642135666,\"fMaximum\":370033.972,\"fMinimum\":0,\"fNormFactor\":0,\"fContour\":[],\"fSumw2\":[],\"fOption\":\"\",\"fFunctions\":{\"_typename\":\"TList\",\"name\":\"TList\",\"arr\":[],\"opt\":[]},\"fBufferSize\":0,\"fBuffer\":[],\"fBinStatErrOpt\":0,\"fStatOverflows\":2,\"fArray\":{\"$arr\":\"Float64\",\"len\":102,\"p\":3,\"v\":[49709,34204,27515,26073,24157,22319,20435,18920,17315,16020,15064,14210,13540,12373,11967,11076,10396,9967,9409,8729,8432,8262,7599,7309,6884,6643,6368,5943,5627,5347,5003,4987,4671,4545,4278,4037,3919,3730,3469,3335,3287,3116,2990,2769,2699,2567,2510,2358,2225,2094,2118,1959,1913,1858,1789,1634,1563,1523,1440,1364,1335,1279,1195,1161,1087,1068,1083,972,905,889,858,764,786,736,640,605,567,550,520,506,389,424,380,342,302,278,279,242,203,174,157,151,128,113,106,94,74,50,193]}},{\"_typename\":\"TH1D\",\"fUniqueID\":0,\"fBits\":520,\"fName\":\"h_sumkefa_had_G18\",\"fTitle\":\"\",\"fLineColor\":632,\"fLineStyle\":2,\"fLineWidth\":3,\"fFillColor\":0,\"fFillStyle\":1001,\"fMarkerColor\":1,\"fMarkerStyle\":1,\"fMarkerSize\":1,\"fNcells\":102,\"fXaxis\":{\"_typename\":\"TAxis\",\"fUniqueID\":0,\"fBits\":0,\"fName\":\"xaxis\",\"fTitle\":\"#SigmaKE (GeV)\",\"fNdivisions\":510,\"fAxisColor\":1,\"fLabelColor\":1,\"fLabelFont\":42,\"fLabelOffset\":0.005,\"fLabelSize\":0.035,\"fTickLength\":0.03,\"fTitleOffset\":1,\"fTitleSize\":0.035,\"fTitleColor\":1,\"fTitleFont\":42,\"fNbins\":100,\"fXmin\":0,\"fXmax\":3,\"fXbins\":[],\"fFirst\":0,\"fLast\":0,\"fBits2\":0,\"fTimeDisplay\":false,\"fTimeFormat\":\"\",\"fLabels\":null,\"fModLabs\":null},\"fYaxis\":{\"_typename\":\"TAxis\",\"fUniqueID\":0,\"fBits\":0,\"fName\":\"yaxis\",\"fTitle\":\"Events\\/bin\",\"fNdivisions\":510,\"fAxisColor\":1,\"fLabelColor\":1,\"fLabelFont\":42,\"fLabelOffset\":0.005,\"fLabelSize\":0.035,\"fTickLength\":0.03,\"fTitleOffset\":0,\"fTitleSize\":0.035,\"fTitleColor\":1,\"fTitleFont\":42,\"fNbins\":1,\"fXmin\":0,\"fXmax\":1,\"fXbins\":[],\"fFirst\":0,\"fLast\":0,\"fBits2\":0,\"fTimeDisplay\":false,\"fTimeFormat\":\"\",\"fLabels\":null,\"fModLabs\":null},\"fZaxis\":{\"_typename\":\"TAxis\",\"fUniqueID\":0,\"fBits\":0,\"fName\":\"zaxis\",\"fTitle\":\"\",\"fNdivisions\":510,\"fAxisColor\":1,\"fLabelColor\":1,\"fLabelFont\":42,\"fLabelOffset\":0.005,\"fLabelSize\":0.035,\"fTickLength\":0.03,\"fTitleOffset\":1,\"fTitleSize\":0.035,\"fTitleColor\":1,\"fTitleFont\":42,\"fNbins\":1,\"fXmin\":0,\"fXmax\":1,\"fXbins\":[],\"fFirst\":0,\"fLast\":0,\"fBits2\":0,\"fTimeDisplay\":false,\"fTimeFormat\":\"\",\"fLabels\":null,\"fModLabs\":null},\"fBarOffset\":0,\"fBarWidth\":1000,\"fEntries\":605988,\"fTsumw\":605737,\"fTsumw2\":605737,\"fTsumwx\":382581.271016693,\"fTsumwx2\":425109.069435533,\"fMaximum\":429192.929,\"fMinimum\":0,\"fNormFactor\":0,\"fContour\":[],\"fSumw2\":[],\"fOption\":\"\",\"fFunctions\":{\"_typename\":\"TList\",\"name\":\"TList\",\"arr\":[],\"opt\":[]},\"fBufferSize\":0,\"fBuffer\":[],\"fBinStatErrOpt\":0,\"fStatOverflows\":2,\"fArray\":{\"$arr\":\"Float64\",\"len\":102,\"p\":3,\"v\":[43127,30900,27046,26271,24007,22563,21568,19963,18806,17811,16907,15950,15241,14570,13656,12951,12474,11713,11207,10837,10187,9776,9292,8865,8380,8051,7563,7162,6813,6784,6370,6112,5995,5612,5270,5073,4916,4732,4524,4267,4084,3823,3807,3540,3388,3260,3145,2975,2925,2778,2579,2483,2420,2348,2242,2137,2020,2006,1842,1784,1801,1665,1473,1423,1364,1329,1285,1234,1138,1095,1013,1077,948,894,792,728,756,687,671,590,564,494,470,388,367,352,330,316,237,227,221,190,190,128,127,99,86,90,251]}},{\"_typename\":\"TLegend\",\"fUniqueID\":0,\"fBits\":8,\"fLineColor\":1,\"fLineStyle\":1,\"fLineWidth\":1,\"fFillColor\":0,\"fFillStyle\":1001,\"fX1\":1.12499999441206,\"fY1\":277525.480378484,\"fX2\":2.92500002123416,\"fY2\":360783.12531912,\"fX1NDC\":0.4,\"fY1NDC\":0.7,\"fX2NDC\":0.88,\"fY2NDC\":0.88,\"fBorderSize\":1,\"fInit\":1,\"fShadowColor\":1,\"fCornerRadius\":0,\"fOption\":\"brNDC\",\"fName\":\"TPave\",\"fTextAngle\":0,\"fTextSize\":0,\"fTextAlign\":12,\"fTextColor\":1,\"fTextFont\":42,\"fPrimitives\":{\"_typename\":\"TList\",\"name\":\"TList\",\"arr\":[{\"_typename\":\"TLegendEntry\",\"fUniqueID\":0,\"fBits\":0,\"fTextAngle\":0,\"fTextSize\":0,\"fTextAlign\":0,\"fTextColor\":0,\"fTextFont\":42,\"fLineColor\":600,\"fLineStyle\":1,\"fLineWidth\":2,\"fFillColor\":0,\"fFillStyle\":1001,\"fMarkerColor\":1,\"fMarkerStyle\":1,\"fMarkerSize\":1,\"fObject\":{\"$ref\":3},\"fLabel\":\"G21_11b\",\"fOption\":\"lpf\"},{\"_typename\":\"TLegendEntry\",\"fUniqueID\":0,\"fBits\":0,\"fTextAngle\":0,\"fTextSize\":0,\"fTextAlign\":0,\"fTextColor\":0,\"fTextFont\":42,\"fLineColor\":632,\"fLineStyle\":2,\"fLineWidth\":3,\"fFillColor\":0,\"fFillStyle\":1001,\"fMarkerColor\":1,\"fMarkerStyle\":1,\"fMarkerSize\":1,\"fObject\":{\"$ref\":8},\"fLabel\":\"G18_02a\",\"fOption\":\"lpf\"}],\"opt\":[\"lpf\",\"lpf\"]},\"fEntrySeparation\":0.1,\"fMargin\":0.25,\"fNColumns\":1,\"fColumnSeparation\":0},{\"_typename\":\"TStyle\",\"fUniqueID\":0,\"fBits\":0,\"fName\":\"Modern\",\"fTitle\":\"Modern Style\",\"fLineColor\":1,\"fLineStyle\":1,\"fLineWidth\":1,\"fFillColor\":19,\"fFillStyle\":1001,\"fMarkerColor\":1,\"fMarkerStyle\":1,\"fMarkerSize\":1,\"fTextAngle\":0,\"fTextSize\":0.05,\"fTextAlign\":11,\"fTextColor\":1,\"fTextFont\":62,\"fXaxis\":{\"_typename\":\"TAttAxis\",\"fNdivisions\":510,\"fAxisColor\":1,\"fLabelColor\":1,\"fLabelFont\":42,\"fLabelOffset\":0.005,\"fLabelSize\":0.035,\"fTickLength\":0.03,\"fTitleOffset\":1,\"fTitleSize\":0.035,\"fTitleColor\":1,\"fTitleFont\":42},\"fYaxis\":{\"_typename\":\"TAttAxis\",\"fNdivisions\":510,\"fAxisColor\":1,\"fLabelColor\":1,\"fLabelFont\":42,\"fLabelOffset\":0.005,\"fLabelSize\":0.035,\"fTickLength\":0.03,\"fTitleOffset\":0,\"fTitleSize\":0.035,\"fTitleColor\":1,\"fTitleFont\":42},\"fZaxis\":{\"_typename\":\"TAttAxis\",\"fNdivisions\":510,\"fAxisColor\":1,\"fLabelColor\":1,\"fLabelFont\":42,\"fLabelOffset\":0.005,\"fLabelSize\":0.035,\"fTickLength\":0.03,\"fTitleOffset\":1,\"fTitleSize\":0.035,\"fTitleColor\":1,\"fTitleFont\":42},\"fBarWidth\":1,\"fBarOffset\":0,\"fColorModelPS\":0,\"fDrawBorder\":0,\"fOptLogx\":0,\"fOptLogy\":0,\"fOptLogz\":0,\"fOptDate\":0,\"fOptStat\":0,\"fOptTitle\":1,\"fOptFile\":0,\"fOptFit\":0,\"fShowEventStatus\":0,\"fShowEditor\":0,\"fShowToolBar\":0,\"fNumberContours\":20,\"fAttDate\":{\"_typename\":\"TAttText\",\"fTextAngle\":0,\"fTextSize\":0.025,\"fTextAlign\":11,\"fTextColor\":1,\"fTextFont\":62},\"fDateX\":0.01,\"fDateY\":0.01,\"fEndErrorSize\":2,\"fErrorX\":0.5,\"fFuncColor\":2,\"fFuncStyle\":1,\"fFuncWidth\":2,\"fGridColor\":0,\"fGridStyle\":3,\"fGridWidth\":1,\"fLegendBorderSize\":1,\"fLegendFillColor\":0,\"fLegendFont\":42,\"fLegendTextSize\":0,\"fHatchesLineWidth\":1,\"fHatchesSpacing\":1,\"fFrameFillColor\":0,\"fFrameLineColor\":1,\"fFrameFillStyle\":1001,\"fFrameLineStyle\":1,\"fFrameLineWidth\":1,\"fFrameBorderSize\":1,\"fFrameBorderMode\":0,\"fHistFillColor\":0,\"fHistLineColor\":602,\"fHistFillStyle\":1001,\"fHistLineStyle\":1,\"fHistLineWidth\":1,\"fHistMinimumZero\":false,\"fHistTopMargin\":0.05,\"fCanvasPreferGL\":false,\"fCanvasColor\":0,\"fCanvasBorderSize\":2,\"fCanvasBorderMode\":0,\"fCanvasDefH\":500,\"fCanvasDefW\":700,\"fCanvasDefX\":10,\"fCanvasDefY\":10,\"fPadColor\":0,\"fPadBorderSize\":2,\"fPadBorderMode\":0,\"fPadBottomMargin\":0.1,\"fPadTopMargin\":0.1,\"fPadLeftMargin\":0.1,\"fPadRightMargin\":0.1,\"fPadGridX\":false,\"fPadGridY\":false,\"fPadTickX\":0,\"fPadTickY\":0,\"fPaperSizeX\":20,\"fPaperSizeY\":26,\"fScreenFactor\":1,\"fStatColor\":0,\"fStatTextColor\":1,\"fStatBorderSize\":1,\"fStatFont\":42,\"fStatFontSize\":0,\"fStatStyle\":1001,\"fStatFormat\":\"6.4g\",\"fStatX\":0.98,\"fStatY\":0.935,\"fStatW\":0.2,\"fStatH\":0.16,\"fStripDecimals\":true,\"fTitleAlign\":23,\"fTitleColor\":0,\"fTitleTextColor\":1,\"fTitleBorderSize\":0,\"fTitleFont\":42,\"fTitleFontSize\":0.05,\"fTitleStyle\":0,\"fTitleX\":0.5,\"fTitleY\":0.995,\"fTitleW\":0,\"fTitleH\":0,\"fLegoInnerR\":0.5,\"fLineStyles\":[\"\",\"  \",\" 12 12\",\" 4 8\",\" 12 16 4 16\",\" 20 12 4 12\",\" 20 12 4 12 4 12 4 12\",\" 20 20\",\" 20 12 4 12 4 12\",\" 80 20\",\" 80 40 4 40\",\"  \",\"  \",\"  \",\"  \",\"  \",\"  \",\"  \",\"  \",\"  \",\"  \",\"  \",\"  \",\"  \",\"  \",\"  \",\"  \",\"  \",\"  \",\"  \"],\"fHeaderPS\":\"\",\"fTitlePS\":\"\",\"fFitFormat\":\"5.4g\",\"fPaintTextFormat\":\"g\",\"fLineScalePS\":3,\"fJoinLinePS\":0,\"fCapLinePS\":0,\"fTimeOffset\":788918400,\"fImageScaling\":1}],\"opt\":[\"\",\"\",\"same\",\"\",\"\"]},\"fExecs\":null,\"fName\":\"c1\",\"fTitle\":\"c1\",\"fNumPaletteColor\":0,\"fNextPaletteColor\":0,\"fDISPLAY\":\"$DISPLAY\",\"fDoubleBuffer\":0,\"fRetained\":true,\"fXsizeUser\":0,\"fYsizeUser\":0,\"fXsizeReal\":20,\"fYsizeReal\":14.28571,\"fWindowTopX\":0,\"fWindowTopY\":0,\"fWindowWidth\":0,\"fWindowHeight\":0,\"fCw\":696,\"fCh\":472,\"fCatt\":{\"_typename\":\"TAttCanvas\",\"fXBetween\":2,\"fYBetween\":2,\"fTitleFromTop\":1.2,\"fXdate\":0.2,\"fYdate\":0.3,\"fAdate\":1},\"kMoveOpaque\":true,\"kResizeOpaque\":true,\"fHighLightColor\":2,\"fBatch\":true,\"kShowEventStatus\":false,\"kAutoExec\":true,\"kMenuBar\":true});\n",
       "   Core.settings.HandleKeys = false;\n",
       "   Core.draw(\"root_plot_1659450794381\", obj, \"\");\n",
       "}\n",
       "\n",
       "function script_load_root_plot_1659450794381(src, on_error) {\n",
       "    let script = document.createElement('script');\n",
       "    script.src = src;\n",
       "    script.onload = function() { display_root_plot_1659450794381(JSROOT); };\n",
       "    script.onerror = function() { script.remove(); on_error(); };\n",
       "    document.head.appendChild(script);\n",
       "}\n",
       "\n",
       "if (typeof requirejs !== 'undefined') {\n",
       "\n",
       "    // We are in jupyter notebooks, use require.js which should be configured already\n",
       "    requirejs.config({\n",
       "       paths: { 'JSRootCore' : [ 'scripts/JSRoot.core', 'https://root.cern/js/6.1.1/scripts/JSRoot.core.min', 'https://jsroot.gsi.de/6.1.1/scripts/JSRoot.core.min' ] }\n",
       "    })(['JSRootCore'],  function(Core) {\n",
       "       display_root_plot_1659450794381(Core);\n",
       "    });\n",
       "\n",
       "} else if (typeof JSROOT !== 'undefined') {\n",
       "\n",
       "   // JSROOT already loaded, just use it\n",
       "   display_root_plot_1659450794381(JSROOT);\n",
       "\n",
       "} else {\n",
       "\n",
       "    // We are in jupyterlab without require.js, directly loading jsroot\n",
       "    // Jupyterlab might be installed in a different base_url so we need to know it.\n",
       "    try {\n",
       "        var base_url = JSON.parse(document.getElementById('jupyter-config-data').innerHTML).baseUrl;\n",
       "    } catch(_) {\n",
       "        var base_url = '/';\n",
       "    }\n",
       "\n",
       "    // Try loading a local version of requirejs and fallback to cdn if not possible.\n",
       "    script_load_root_plot_1659450794381(base_url + 'static/scripts/JSRoot.core.js', function(){\n",
       "        console.error('Fail to load JSROOT locally, please check your jupyter_notebook_config.py file');\n",
       "        script_load_root_plot_1659450794381('https://root.cern/js/6.1.1/scripts/JSRoot.core.min.js', function(){\n",
       "            document.getElementById(\"root_plot_1659450794381\").innerHTML = \"Failed to load JSROOT\";\n",
       "        });\n",
       "    });\n",
       "}\n",
       "\n",
       "</script>\n"
      ],
      "text/plain": [
       "<IPython.core.display.HTML object>"
      ]
     },
     "metadata": {},
     "output_type": "display_data"
    }
   ],
   "source": [
    "c.cd()\n",
    "h_sumkefa_had_G21.SetTitle(\"all hadrons\")\n",
    "h_sumkefa_had_G21.Draw()\n",
    "h_sumkefa_had_G18.Draw(\"same\")\n",
    "\n",
    "leg = ROOT.TLegend(0.4,0.7,0.88,0.88)\n",
    "leg.AddEntry(\"h_sumkefa_had_G21\",\"G21_11b\")\n",
    "leg.AddEntry(\"h_sumkefa_had_G18\",\"G18_02a\")\n",
    "leg.Draw()\n",
    "\n",
    "c.Draw()\n",
    "c.SaveAs(\"sumkefa_DefA_had.pdf\")"
   ]
  },
  {
   "cell_type": "code",
   "execution_count": 104,
   "metadata": {},
   "outputs": [
    {
     "name": "stderr",
     "output_type": "stream",
     "text": [
      "Warning in <TCanvas::Constructor>: Deleting canvas with same name: c4\n",
      "Info in <TCanvas::Print>: pdf file sumkefa_DefA_had_breakdown.pdf has been created\n"
     ]
    },
    {
     "data": {
      "text/html": [
       "\n",
       "\n",
       "<div id=\"root_plot_1659466021591\"\n",
       "     style=\"width: 696px; height: 472px\">\n",
       "</div>\n",
       "<script>\n",
       "\n",
       "function display_root_plot_1659466021591(Core) {\n",
       "   let obj = Core.parse({\"_typename\":\"TCanvas\",\"fUniqueID\":0,\"fBits\":3342344,\"fLineColor\":1,\"fLineStyle\":1,\"fLineWidth\":1,\"fFillColor\":0,\"fFillStyle\":1001,\"fLeftMargin\":0.1,\"fRightMargin\":0.1,\"fBottomMargin\":0.1,\"fTopMargin\":0.1,\"fXfile\":2,\"fYfile\":2,\"fAfile\":1,\"fXstat\":0.99,\"fYstat\":0.99,\"fAstat\":2,\"fFrameFillColor\":0,\"fFrameLineColor\":1,\"fFrameFillStyle\":1001,\"fFrameLineStyle\":1,\"fFrameLineWidth\":1,\"fFrameBorderSize\":1,\"fFrameBorderMode\":0,\"fX1\":0,\"fY1\":0,\"fX2\":1,\"fY2\":1,\"fXtoAbsPixelk\":5e-5,\"fXtoPixelk\":5e-5,\"fXtoPixel\":696,\"fYtoAbsPixelk\":472.00005,\"fYtoPixelk\":472.00005,\"fYtoPixel\":-472,\"fUtoAbsPixelk\":5e-5,\"fUtoPixelk\":5e-5,\"fUtoPixel\":696,\"fVtoAbsPixelk\":472.00005,\"fVtoPixelk\":472,\"fVtoPixel\":-472,\"fAbsPixeltoXk\":0,\"fPixeltoXk\":0,\"fPixeltoX\":0.0014367816091954,\"fAbsPixeltoYk\":1,\"fPixeltoYk\":0,\"fPixeltoY\":-0.00211864406779661,\"fXlowNDC\":0,\"fYlowNDC\":0,\"fXUpNDC\":1,\"fYUpNDC\":1,\"fWNDC\":1,\"fHNDC\":1,\"fAbsXlowNDC\":0,\"fAbsYlowNDC\":0,\"fAbsWNDC\":1,\"fAbsHNDC\":1,\"fUxmin\":0,\"fUymin\":0,\"fUxmax\":1,\"fUymax\":1,\"fTheta\":30,\"fPhi\":30,\"fAspectRatio\":0,\"fNumber\":0,\"fTickx\":0,\"fTicky\":0,\"fLogx\":0,\"fLogy\":0,\"fLogz\":0,\"fPadPaint\":0,\"fCrosshair\":0,\"fCrosshairPos\":0,\"fBorderSize\":2,\"fBorderMode\":0,\"fModified\":false,\"fGridx\":false,\"fGridy\":false,\"fAbsCoord\":false,\"fEditable\":true,\"fFixedAspectRatio\":false,\"fPrimitives\":{\"_typename\":\"TList\",\"name\":\"TList\",\"arr\":[{\"_typename\":\"TPad\",\"fUniqueID\":0,\"fBits\":9,\"fLineColor\":1,\"fLineStyle\":1,\"fLineWidth\":1,\"fFillColor\":0,\"fFillStyle\":1001,\"fLeftMargin\":0.1,\"fRightMargin\":0.1,\"fBottomMargin\":0.1,\"fTopMargin\":0.1,\"fXfile\":2,\"fYfile\":2,\"fAfile\":1,\"fXstat\":0.99,\"fYstat\":0.99,\"fAstat\":2,\"fFrameFillColor\":0,\"fFrameLineColor\":1,\"fFrameFillStyle\":1001,\"fFrameLineStyle\":1,\"fFrameLineWidth\":1,\"fFrameBorderSize\":1,\"fFrameBorderMode\":0,\"fX1\":-0.375000027939679,\"fY1\":-0.0124509303315875,\"fX2\":3.37500002793968,\"fY2\":0.112058365562955,\"fXtoAbsPixelk\":40.3680518668176,\"fXtoPixelk\":33.4080520223857,\"fXtoPixel\":89.087998755455,\"fYtoAbsPixelk\":208.624048733997,\"fYtoPixelk\":203.904048839497,\"fYtoPixel\":-1819.62317418367,\"fUtoAbsPixelk\":6.96004984443188,\"fUtoPixelk\":5e-5,\"fUtoPixel\":334.080000311136,\"fVtoAbsPixelk\":231.2800501055,\"fVtoPixelk\":226.560000211,\"fVtoPixel\":-226.560000211,\"fAbsPixeltoXk\":-0.453125027284843,\"fPixeltoXk\":-0.375000027939679,\"fPixeltoX\":0.0112248564786485,\"fAbsPixeltoYk\":0.114652309167029,\"fPixeltoYk\":-0.0124509303315875,\"fPixeltoY\":-5.49564335180897e-4,\"fXlowNDC\":0.00999999977648258,\"fYlowNDC\":0.509999999776483,\"fXUpNDC\":0.490000000223517,\"fYUpNDC\":0.990000000223517,\"fWNDC\":0.480000000447035,\"fHNDC\":0.480000000447035,\"fAbsXlowNDC\":0.00999999977648258,\"fAbsYlowNDC\":0.509999999776483,\"fAbsWNDC\":0.480000000447035,\"fAbsHNDC\":0.480000000447035,\"fUxmin\":0,\"fUymin\":0,\"fUxmax\":3,\"fUymax\":0.0996074352313673,\"fTheta\":30,\"fPhi\":30,\"fAspectRatio\":0,\"fNumber\":1,\"fTickx\":0,\"fTicky\":0,\"fLogx\":0,\"fLogy\":0,\"fLogz\":0,\"fPadPaint\":0,\"fCrosshair\":0,\"fCrosshairPos\":0,\"fBorderSize\":2,\"fBorderMode\":0,\"fModified\":false,\"fGridx\":false,\"fGridy\":false,\"fAbsCoord\":false,\"fEditable\":true,\"fFixedAspectRatio\":false,\"fPrimitives\":{\"_typename\":\"TList\",\"name\":\"TList\",\"arr\":[{\"_typename\":\"TFrame\",\"fUniqueID\":0,\"fBits\":8,\"fLineColor\":1,\"fLineStyle\":1,\"fLineWidth\":1,\"fFillColor\":0,\"fFillStyle\":1001,\"fX1\":0,\"fY1\":0,\"fX2\":3,\"fY2\":0.0996074352313673,\"fBorderSize\":1,\"fBorderMode\":0},{\"_typename\":\"TH1D\",\"fUniqueID\":0,\"fBits\":521,\"fName\":\"h_sumkefa_had_G21\",\"fTitle\":\"all hadrons\",\"fLineColor\":600,\"fLineStyle\":1,\"fLineWidth\":2,\"fFillColor\":0,\"fFillStyle\":1001,\"fMarkerColor\":1,\"fMarkerStyle\":1,\"fMarkerSize\":1,\"fNcells\":102,\"fXaxis\":{\"_typename\":\"TAxis\",\"fUniqueID\":0,\"fBits\":0,\"fName\":\"xaxis\",\"fTitle\":\"#SigmaKE (GeV)\",\"fNdivisions\":510,\"fAxisColor\":1,\"fLabelColor\":1,\"fLabelFont\":42,\"fLabelOffset\":0.005,\"fLabelSize\":0.035,\"fTickLength\":0.03,\"fTitleOffset\":1,\"fTitleSize\":0.035,\"fTitleColor\":1,\"fTitleFont\":42,\"fNbins\":100,\"fXmin\":0,\"fXmax\":3,\"fXbins\":[],\"fFirst\":0,\"fLast\":0,\"fBits2\":0,\"fTimeDisplay\":false,\"fTimeFormat\":\"\",\"fLabels\":null,\"fModLabs\":null},\"fYaxis\":{\"_typename\":\"TAxis\",\"fUniqueID\":0,\"fBits\":0,\"fName\":\"yaxis\",\"fTitle\":\"Events (Normalized)\",\"fNdivisions\":510,\"fAxisColor\":1,\"fLabelColor\":1,\"fLabelFont\":42,\"fLabelOffset\":0.005,\"fLabelSize\":0.035,\"fTickLength\":0.03,\"fTitleOffset\":0,\"fTitleSize\":0.035,\"fTitleColor\":1,\"fTitleFont\":42,\"fNbins\":1,\"fXmin\":0,\"fXmax\":1,\"fXbins\":[],\"fFirst\":0,\"fLast\":0,\"fBits2\":0,\"fTimeDisplay\":false,\"fTimeFormat\":\"\",\"fLabels\":null,\"fModLabs\":null},\"fZaxis\":{\"_typename\":\"TAxis\",\"fUniqueID\":0,\"fBits\":0,\"fName\":\"zaxis\",\"fTitle\":\"\",\"fNdivisions\":510,\"fAxisColor\":1,\"fLabelColor\":1,\"fLabelFont\":42,\"fLabelOffset\":0.005,\"fLabelSize\":0.035,\"fTickLength\":0.03,\"fTitleOffset\":1,\"fTitleSize\":0.035,\"fTitleColor\":1,\"fTitleFont\":42,\"fNbins\":1,\"fXmin\":0,\"fXmax\":1,\"fXbins\":[],\"fFirst\":0,\"fLast\":0,\"fBits2\":0,\"fTimeDisplay\":false,\"fTimeFormat\":\"\",\"fLabels\":null,\"fModLabs\":null},\"fBarOffset\":0,\"fBarWidth\":1000,\"fEntries\":549147,\"fTsumw\":1,\"fTsumw2\":1.82164625815642e-6,\"fTsumwx\":0.580279404598745,\"fTsumwx2\":0.623603511652463,\"fMaximum\":0.0996074352313673,\"fMinimum\":0,\"fNormFactor\":0,\"fContour\":[],\"fSumw2\":{\"$arr\":\"Float64\",\"len\":102,\"p\":3,\"v\":[1.64954101521617e-7,1.1350238565341e-7,9.13056408973683e-8,8.6520515177797e-8,8.01624701856342e-8,7.40632600104802e-8,6.78114036611929e-8,6.27840351000621e-8,5.74580109808443e-8,5.31606893394818e-8,4.99883036335801e-8,4.71543942268437e-8,4.49310695166406e-8,4.10585024467795e-8,3.97112340402983e-8,3.67545440152372e-8,3.44980353541356e-8,3.30744438605877e-8,3.12227794004484e-8,2.89662707393468e-8,2.79807073976598e-8,2.74165802323844e-8,2.52164842878104e-8,2.42541497117523e-8,2.28438317985638e-8,2.20440985819087e-8,2.11315399321985e-8,1.972122201901e-8,1.86726091706157e-8,1.77434585454562e-8,1.6601930634546e-8,1.65488363131083e-8,1.55002234647141e-8,1.50821056833923e-8,1.41960941944009e-8,1.33963609777458e-8,1.30047903571429e-8,1.23776136851602e-8,1.1511512566708e-8,1.10668476246674e-8,1.09075646603543e-8,1.03401190999891e-8,9.92200131866732e-9,9.1886360038093e-9,8.95634834751943e-9,8.51832019565853e-9,8.32917167553678e-9,7.82477562187878e-9,7.38342907492802e-9,6.94871931815698e-9,7.0283608003135e-9,6.50073598102651e-9,6.34808980689317e-9,6.16557807695113e-9,5.93660881575111e-9,5.42225757682354e-9,5.18665152544382e-9,5.05391572184961e-9,4.77848892939162e-9,4.52629090256262e-9,4.43005744495681e-9,4.24422731992492e-9,3.96548213237707e-9,3.85265669932199e-9,3.6070954626727e-9,3.54404595596545e-9,3.59382188231328e-9,3.22548002733934e-9,3.00314755631904e-9,2.95005323488135e-9,2.84718298709584e-9,2.53525384864944e-9,2.60825854062626e-9,2.44233878613349e-9,2.12377285750739e-9,2.00762902936245e-9,1.88153001594795e-9,1.82511729942041e-9,1.72556544672475e-9,1.67910791546678e-9,1.29085568995371e-9,1.40699951809864e-9,1.26099013414501e-9,1.13489112073051e-9,1.0021553171363e-9,9.22513834979771e-10,9.25832230069626e-10,8.0305161174498e-10,6.73634203240624e-10,5.7740074563482e-10,5.20988029107281e-10,5.01077658568149e-10,4.24754571501477e-10,3.74978645153648e-10,3.51749879524661e-10,3.11929138446397e-10,2.45561236649291e-10,1.65919754492765e-10,6.40450252342071e-10]},\"fOption\":\"\",\"fFunctions\":{\"_typename\":\"TList\",\"name\":\"TList\",\"arr\":[],\"opt\":[]},\"fBufferSize\":0,\"fBuffer\":[],\"fBinStatErrOpt\":0,\"fStatOverflows\":2,\"fArray\":{\"$arr\":\"Float64\",\"len\":102,\"p\":3,\"v\":[0.0905522138466975,0.0623075886139822,0.0501225967931739,0.0474957828889124,0.0440055086582847,0.0406573228357932,0.0372253412854265,0.0344655472043195,0.0315418049599784,0.0291827730556659,0.0274412792328683,0.0258855933284027,0.0246650903354379,0.0225392291521694,0.0217996407713579,0.0201765539553405,0.0189378344997942,0.0181563482550451,0.0171398696429938,0.0159011501874474,0.0153601212487749,0.0150504413848884,0.0138426899157306,0.0133144125008653,0.0125402128411488,0.0121011960929331,0.0116002433719401,0.0108260437122236,0.0102504034946462,0.00974034254236238,0.00911369622955657,0.00908454988942607,0.00850890967184864,0.00827938224332093,0.00779300269239317,0.00735398594417747,0.00713903168571501,0.00679474054292345,0.00631929086954462,0.00607519027095166,0.00598775125056016,0.00567624974041541,0.0054467223118877,0.00504413848883513,0.00491662325076418,0.00467616594468753,0.00457233210797262,0.00429544187673284,0.00405316292439804,0.00381452726457955,0.0038582467747753,0.00356860501972843,0.00348480929185323,0.00338461874765463,0.00325892515584184,0.00297656998582759,0.00284723310149849,0.00277436725117223,0.00262317061174525,0.00248472549612536,0.00243189775463882,0.00232988556418206,0.00217686727849692,0.00211493130571961,0.00198012948261603,0.00194551820371106,0.0019728428975834,0.00177064016292804,0.00164858986363156,0.00161944352350106,0.00156297248949821,0.00139173774123151,0.00143181395891095,0.00134073164600313,0.00116585360522011,0.00110209598618463,0.00103287342837469,0.00100190544198603,9.47256054241339e-4,9.21753006627149e-4,7.08620394422848e-4,7.72378013458323e-4,6.9222557809944e-4,6.23003020289496e-4,5.50137169963239e-4,5.06417659767485e-4,5.08239306025642e-4,4.40838394473854e-4,3.69794190405754e-4,3.16966448919217e-4,2.85998462530558e-4,2.7506858498162e-4,2.33170721044022e-4,2.05846027171676e-4,1.93094503364581e-4,1.71234748266704e-4,1.34801823103575e-4,9.10823129078211e-5,3.51577727824189e-4]}},{\"_typename\":\"TH1D\",\"fUniqueID\":0,\"fBits\":521,\"fName\":\"h_sumkefa_had_G18\",\"fTitle\":\"\",\"fLineColor\":632,\"fLineStyle\":2,\"fLineWidth\":3,\"fFillColor\":0,\"fFillStyle\":1001,\"fMarkerColor\":1,\"fMarkerStyle\":1,\"fMarkerSize\":1,\"fNcells\":102,\"fXaxis\":{\"_typename\":\"TAxis\",\"fUniqueID\":0,\"fBits\":0,\"fName\":\"xaxis\",\"fTitle\":\"#SigmaKE (GeV)\",\"fNdivisions\":510,\"fAxisColor\":1,\"fLabelColor\":1,\"fLabelFont\":42,\"fLabelOffset\":0.005,\"fLabelSize\":0.035,\"fTickLength\":0.03,\"fTitleOffset\":1,\"fTitleSize\":0.035,\"fTitleColor\":1,\"fTitleFont\":42,\"fNbins\":100,\"fXmin\":0,\"fXmax\":3,\"fXbins\":[],\"fFirst\":0,\"fLast\":0,\"fBits2\":0,\"fTimeDisplay\":false,\"fTimeFormat\":\"\",\"fLabels\":null,\"fModLabs\":null},\"fYaxis\":{\"_typename\":\"TAxis\",\"fUniqueID\":0,\"fBits\":0,\"fName\":\"yaxis\",\"fTitle\":\"Events\\/bin\",\"fNdivisions\":510,\"fAxisColor\":1,\"fLabelColor\":1,\"fLabelFont\":42,\"fLabelOffset\":0.005,\"fLabelSize\":0.035,\"fTickLength\":0.03,\"fTitleOffset\":0,\"fTitleSize\":0.035,\"fTitleColor\":1,\"fTitleFont\":42,\"fNbins\":1,\"fXmin\":0,\"fXmax\":1,\"fXbins\":[],\"fFirst\":0,\"fLast\":0,\"fBits2\":0,\"fTimeDisplay\":false,\"fTimeFormat\":\"\",\"fLabels\":null,\"fModLabs\":null},\"fZaxis\":{\"_typename\":\"TAxis\",\"fUniqueID\":0,\"fBits\":0,\"fName\":\"zaxis\",\"fTitle\":\"\",\"fNdivisions\":510,\"fAxisColor\":1,\"fLabelColor\":1,\"fLabelFont\":42,\"fLabelOffset\":0.005,\"fLabelSize\":0.035,\"fTickLength\":0.03,\"fTitleOffset\":1,\"fTitleSize\":0.035,\"fTitleColor\":1,\"fTitleFont\":42,\"fNbins\":1,\"fXmin\":0,\"fXmax\":1,\"fXbins\":[],\"fFirst\":0,\"fLast\":0,\"fBits2\":0,\"fTimeDisplay\":false,\"fTimeFormat\":\"\",\"fLabels\":null,\"fModLabs\":null},\"fBarOffset\":0,\"fBarWidth\":1000,\"fEntries\":605988,\"fTsumw\":1,\"fTsumw2\":1.65088148817061e-6,\"fTsumwx\":0.631596338042242,\"fTsumwx2\":0.701804693184556,\"fMaximum\":0.0783173225343672,\"fMinimum\":0,\"fNormFactor\":0,\"fContour\":[],\"fSumw2\":{\"$arr\":\"Float64\",\"len\":102,\"p\":3,\"v\":[1.17538743613703e-7,8.42151593587181e-8,7.37114304212262e-8,7.15992379130383e-8,6.54289103794416e-8,6.14934187899921e-8,5.87816361504476e-8,5.44073536012327e-8,5.12540545922347e-8,4.85422719526902e-8,4.60785015947523e-8,4.34702845233512e-8,4.15379690545703e-8,3.97092191539328e-8,3.7218194699115e-8,3.5296780869086e-8,3.39967604479174e-8,3.19227236753613e-8,3.05436663732412e-8,2.9535264788687e-8,2.77637484914971e-8,2.66436051097355e-8,2.53245068207511e-8,2.41607568839817e-8,2.28389331853093e-8,2.19422733979624e-8,2.0612273470226e-8,1.95193841853443e-8,1.85682162042377e-8,1.84891793232862e-8,1.73608597124607e-8,1.66577040129607e-8,1.63388310794665e-8,1.52949991689685e-8,1.43629090556778e-8,1.38260033471449e-8,1.33981140261313e-8,1.28966386435422e-8,1.23297534284414e-8,1.16293231386295e-8,1.11305731657283e-8,1.04192412371644e-8,1.03756346821566e-8,9.64795029546479e-9,9.23368802289116e-9,8.88483558282916e-9,8.57141346871095e-9,8.1080938217536e-9,7.97182333735438e-9,7.57118811322067e-9,7.02883158531178e-9,6.76719225526527e-9,6.59549144492226e-9,6.39926194738738e-9,6.11036852046103e-9,5.82420050322267e-9,5.5053275697285e-9,5.46717183409671e-9,5.02020464526727e-9,4.86213088336418e-9,4.90846284805991e-9,4.53780713049403e-9,4.01452847040103e-9,3.87825798600181e-9,3.71745881441073e-9,3.62206947533127e-9,3.50215144905996e-9,3.36315555497275e-9,3.10151622492625e-9,2.98432360834292e-9,2.7608400139282e-9,2.9352662339592e-9,2.58368838420921e-9,2.43651626105806e-9,2.15852447288365e-9,1.98409825285265e-9,2.06040972411621e-9,1.87235645564529e-9,1.82874990063753e-9,1.6079917159108e-9,1.5371310640232e-9,1.3463523858643e-9,1.28094255335267e-9,1.05745895893795e-9,1.00022535549028e-9,9.5934421017051e-10,8.99385197034853e-10,8.61229461403072e-10,6.45922096052304e-10,6.1866799917246e-10,6.02315541044553e-10,5.17827840717037e-10,5.17827840717037e-10,3.48852440062004e-10,3.46127030374019e-10,2.69815559110456e-10,2.34385233166659e-10,2.45286871918596e-10,6.84077831684085e-10]},\"fOption\":\"\",\"fFunctions\":{\"_typename\":\"TList\",\"name\":\"TList\",\"arr\":[],\"opt\":[]},\"fBufferSize\":0,\"fBuffer\":[],\"fBinStatErrOpt\":0,\"fStatOverflows\":2,\"fArray\":{\"$arr\":\"Float64\",\"len\":102,\"p\":3,\"v\":[0.0711975659403338,0.0510122379844718,0.0446497407290623,0.0433703075757301,0.0396327118865118,0.0372488390175934,0.0356062119368637,0.0329565471483499,0.0310464772665365,0.0294038501858067,0.0279114533205005,0.0263315597363212,0.0251610847612082,0.0240533432826458,0.0225444376024578,0.0213805661532976,0.0205930956834402,0.0193367748709423,0.018501428837928,0.0178906026873049,0.016817529719994,0.0161390174283559,0.0153399907880813,0.0146350643926324,0.0138343868708697,0.0132912468612616,0.0124856166950343,0.0118236132182779,0.0112474555789064,0.0111995800157494,0.0105161150796468,0.0100901876556988,0.0098970345215828,0.00926474691161346,0.00870014544265911,0.0083749217894895,0.00811573339584671,0.00781197120202332,0.00746858785248383,0.00704431131002399,0.00674219999768877,0.00631131992927624,0.00628490582546551,0.00584412046812395,0.00559318648192202,0.00538187365143618,0.00519202228029656,0.00491137242730756,0.00482882835289903,0.00458614877413795,0.004257623357992,0.00409913873512762,0.00399513320137287,0.00387626973422459,0.0037012762964785,0.00352793374022059,0.00333478060610463,0.00331166826527024,0.00304092370121026,0.00294517257489637,0.00297323756019527,0.00274871767780406,0.00243174843207531,0.00234920435766678,0.00225180234986471,0.00219402149777874,0.00212138271229923,0.00203718775640253,0.00187870313353815,0.00180771522954682,0.00167234294751683,0.00177799936275975,0.00156503565078574,0.00147588805042452,0.00130749813863112,0.0012018417233882,0.00124806640505698,0.00113415558237321,0.00110774147856248,9.74020078020659e-4,9.31097159328223e-4,8.15535455156281e-4,7.75914299440186e-4,6.40542017410196e-4,6.05873506158613e-4,5.81110283836054e-4,5.44790891096301e-4,5.21678550261912e-4,3.91258912696434e-4,3.74750097814728e-4,3.64844808885705e-4,3.13667482752416e-4,3.13667482752416e-4,2.11312830485838e-4,2.09661948997667e-4,1.6343726732889e-4,1.41975807982672e-4,1.48579333935355e-4,4.14371253530823e-4]}},{\"_typename\":\"TLegend\",\"fUniqueID\":0,\"fBits\":8,\"fLineColor\":1,\"fLineStyle\":1,\"fLineWidth\":1,\"fFillColor\":0,\"fFillStyle\":1001,\"fX1\":1.12499999441206,\"fY1\":0.0747055767945921,\"fX2\":2.92500002123416,\"fY2\":0.0971172500556097,\"fX1NDC\":0.4,\"fY1NDC\":0.7,\"fX2NDC\":0.88,\"fY2NDC\":0.88,\"fBorderSize\":1,\"fInit\":1,\"fShadowColor\":1,\"fCornerRadius\":0,\"fOption\":\"brNDC\",\"fName\":\"TPave\",\"fTextAngle\":0,\"fTextSize\":0,\"fTextAlign\":12,\"fTextColor\":1,\"fTextFont\":42,\"fPrimitives\":{\"_typename\":\"TList\",\"name\":\"TList\",\"arr\":[{\"_typename\":\"TLegendEntry\",\"fUniqueID\":0,\"fBits\":0,\"fTextAngle\":0,\"fTextSize\":0,\"fTextAlign\":0,\"fTextColor\":0,\"fTextFont\":42,\"fLineColor\":600,\"fLineStyle\":1,\"fLineWidth\":2,\"fFillColor\":0,\"fFillStyle\":1001,\"fMarkerColor\":1,\"fMarkerStyle\":1,\"fMarkerSize\":1,\"fObject\":{\"$ref\":5},\"fLabel\":\"G21_11b\",\"fOption\":\"lpf\"},{\"_typename\":\"TLegendEntry\",\"fUniqueID\":0,\"fBits\":0,\"fTextAngle\":0,\"fTextSize\":0,\"fTextAlign\":0,\"fTextColor\":0,\"fTextFont\":42,\"fLineColor\":632,\"fLineStyle\":2,\"fLineWidth\":3,\"fFillColor\":0,\"fFillStyle\":1001,\"fMarkerColor\":1,\"fMarkerStyle\":1,\"fMarkerSize\":1,\"fObject\":{\"$ref\":10},\"fLabel\":\"G18_02a\",\"fOption\":\"lpf\"}],\"opt\":[\"lpf\",\"lpf\"]},\"fEntrySeparation\":0.1,\"fMargin\":0.25,\"fNColumns\":1,\"fColumnSeparation\":0},{\"_typename\":\"TPaveText\",\"fUniqueID\":0,\"fBits\":9,\"fLineColor\":1,\"fLineStyle\":1,\"fLineWidth\":1,\"fFillColor\":0,\"fFillStyle\":0,\"fX1\":1.10330459212445,\"fY1\":0.104181570452801,\"fX2\":1.89669540787555,\"fY2\":0.111435819677189,\"fX1NDC\":0.39421455947618,\"fY1NDC\":0.936737292958226,\"fX2NDC\":0.60578544052382,\"fY2NDC\":0.995000004768372,\"fBorderSize\":0,\"fInit\":1,\"fShadowColor\":1,\"fCornerRadius\":0,\"fOption\":\"blNDC\",\"fName\":\"title\",\"fTextAngle\":0,\"fTextSize\":0,\"fTextAlign\":22,\"fTextColor\":1,\"fTextFont\":42,\"fLabel\":\"\",\"fLongest\":11,\"fMargin\":0.05,\"fLines\":{\"_typename\":\"TList\",\"name\":\"TList\",\"arr\":[{\"_typename\":\"TLatex\",\"fUniqueID\":0,\"fBits\":0,\"fName\":\"\",\"fTitle\":\"all hadrons\",\"fTextAngle\":0,\"fTextSize\":0,\"fTextAlign\":0,\"fTextColor\":0,\"fTextFont\":0,\"fX\":0,\"fY\":0,\"fLineColor\":1,\"fLineStyle\":1,\"fLineWidth\":2,\"fLimitFactorSize\":3,\"fOriginSize\":0.0495233051478863}],\"opt\":[\"\"]}}],\"opt\":[\"\",\"HIST\",\"SAMEHIST\",\"\",\"blNDC\"]},\"fExecs\":{\"_typename\":\"TList\",\"name\":\"TList\",\"arr\":[],\"opt\":[]},\"fName\":\"c4_1\",\"fTitle\":\"c4_1\",\"fNumPaletteColor\":0,\"fNextPaletteColor\":0},{\"_typename\":\"TPad\",\"fUniqueID\":0,\"fBits\":9,\"fLineColor\":1,\"fLineStyle\":1,\"fLineWidth\":1,\"fFillColor\":0,\"fFillStyle\":1001,\"fLeftMargin\":0.1,\"fRightMargin\":0.1,\"fBottomMargin\":0.1,\"fTopMargin\":0.1,\"fXfile\":2,\"fYfile\":2,\"fAfile\":1,\"fXstat\":0.99,\"fYstat\":0.99,\"fAstat\":2,\"fFrameFillColor\":0,\"fFrameLineColor\":1,\"fFrameFillStyle\":1001,\"fFrameLineStyle\":1,\"fFrameLineWidth\":1,\"fFrameBorderSize\":1,\"fFrameBorderMode\":0,\"fX1\":-0.375000027939679,\"fY1\":-0.0225250814355658,\"fX2\":3.37500002793968,\"fY2\":0.202725719494098,\"fXtoAbsPixelk\":388.368051866818,\"fXtoPixelk\":33.4080520223857,\"fXtoPixel\":89.087998755455,\"fYtoAbsPixelk\":208.624048733997,\"fYtoPixelk\":203.904048839497,\"fYtoPixel\":-1005.81218479994,\"fUtoAbsPixelk\":354.960049844432,\"fUtoPixelk\":5e-5,\"fUtoPixel\":334.080000311136,\"fVtoAbsPixelk\":231.2800501055,\"fVtoPixelk\":226.560000211,\"fVtoPixel\":-226.560000211,\"fAbsPixeltoXk\":-4.35937508185453,\"fPixeltoXk\":-0.375000027939679,\"fPixeltoX\":0.0112248564786485,\"fAbsPixeltoYk\":0.207418444404204,\"fPixeltoYk\":-0.0225250814355658,\"fPixeltoY\":-9.94221401482531e-4,\"fXlowNDC\":0.509999999776483,\"fYlowNDC\":0.509999999776483,\"fXUpNDC\":0.990000000223517,\"fYUpNDC\":0.990000000223517,\"fWNDC\":0.480000000447035,\"fHNDC\":0.480000000447035,\"fAbsXlowNDC\":0.509999999776483,\"fAbsYlowNDC\":0.509999999776483,\"fAbsWNDC\":0.480000000447035,\"fAbsHNDC\":0.480000000447035,\"fUxmin\":0,\"fUymin\":0,\"fUxmax\":3,\"fUymax\":0.180200638058532,\"fTheta\":30,\"fPhi\":30,\"fAspectRatio\":0,\"fNumber\":2,\"fTickx\":0,\"fTicky\":0,\"fLogx\":0,\"fLogy\":0,\"fLogz\":0,\"fPadPaint\":0,\"fCrosshair\":0,\"fCrosshairPos\":0,\"fBorderSize\":2,\"fBorderMode\":0,\"fModified\":false,\"fGridx\":false,\"fGridy\":false,\"fAbsCoord\":false,\"fEditable\":true,\"fFixedAspectRatio\":false,\"fPrimitives\":{\"_typename\":\"TList\",\"name\":\"TList\",\"arr\":[{\"_typename\":\"TFrame\",\"fUniqueID\":0,\"fBits\":8,\"fLineColor\":1,\"fLineStyle\":1,\"fLineWidth\":1,\"fFillColor\":0,\"fFillStyle\":1001,\"fX1\":0,\"fY1\":0,\"fX2\":3,\"fY2\":0.180200638058532,\"fBorderSize\":1,\"fBorderMode\":0},{\"_typename\":\"TH1D\",\"fUniqueID\":0,\"fBits\":521,\"fName\":\"h_sumkefa_neutron_G21\",\"fTitle\":\"all neutrons\",\"fLineColor\":600,\"fLineStyle\":1,\"fLineWidth\":2,\"fFillColor\":0,\"fFillStyle\":1001,\"fMarkerColor\":1,\"fMarkerStyle\":1,\"fMarkerSize\":1,\"fNcells\":102,\"fXaxis\":{\"_typename\":\"TAxis\",\"fUniqueID\":0,\"fBits\":0,\"fName\":\"xaxis\",\"fTitle\":\"#SigmaKE (GeV)\",\"fNdivisions\":510,\"fAxisColor\":1,\"fLabelColor\":1,\"fLabelFont\":42,\"fLabelOffset\":0.005,\"fLabelSize\":0.035,\"fTickLength\":0.03,\"fTitleOffset\":1,\"fTitleSize\":0.035,\"fTitleColor\":1,\"fTitleFont\":42,\"fNbins\":100,\"fXmin\":0,\"fXmax\":3,\"fXbins\":[],\"fFirst\":0,\"fLast\":0,\"fBits2\":0,\"fTimeDisplay\":false,\"fTimeFormat\":\"\",\"fLabels\":null,\"fModLabs\":null},\"fYaxis\":{\"_typename\":\"TAxis\",\"fUniqueID\":0,\"fBits\":0,\"fName\":\"yaxis\",\"fTitle\":\"Events (Normalized)\",\"fNdivisions\":510,\"fAxisColor\":1,\"fLabelColor\":1,\"fLabelFont\":42,\"fLabelOffset\":0.005,\"fLabelSize\":0.035,\"fTickLength\":0.03,\"fTitleOffset\":0,\"fTitleSize\":0.035,\"fTitleColor\":1,\"fTitleFont\":42,\"fNbins\":1,\"fXmin\":0,\"fXmax\":1,\"fXbins\":[],\"fFirst\":0,\"fLast\":0,\"fBits2\":0,\"fTimeDisplay\":false,\"fTimeFormat\":\"\",\"fLabels\":null,\"fModLabs\":null},\"fZaxis\":{\"_typename\":\"TAxis\",\"fUniqueID\":0,\"fBits\":0,\"fName\":\"zaxis\",\"fTitle\":\"\",\"fNdivisions\":510,\"fAxisColor\":1,\"fLabelColor\":1,\"fLabelFont\":42,\"fLabelOffset\":0.005,\"fLabelSize\":0.035,\"fTickLength\":0.03,\"fTitleOffset\":1,\"fTitleSize\":0.035,\"fTitleColor\":1,\"fTitleFont\":42,\"fNbins\":1,\"fXmin\":0,\"fXmax\":1,\"fXbins\":[],\"fFirst\":0,\"fLast\":0,\"fBits2\":0,\"fTimeDisplay\":false,\"fTimeFormat\":\"\",\"fLabels\":null,\"fModLabs\":null},\"fBarOffset\":0,\"fBarWidth\":1000,\"fEntries\":271135,\"fTsumw\":1,\"fTsumw2\":3.68819960536264e-6,\"fTsumwx\":0.314487522652659,\"fTsumwx2\":0.186098181700887,\"fMaximum\":0.180200638058532,\"fMinimum\":0,\"fNormFactor\":0,\"fContour\":[],\"fSumw2\":{\"$arr\":\"Float64\",\"len\":102,\"p\":3,\"v\":[6.04196292885066e-7,4.02752185868948e-7,3.05029553361432e-7,2.70628030865398e-7,2.35369530940638e-7,2.06436340608861e-7,1.78332922073153e-7,1.57194145497891e-7,1.35089568963271e-7,1.19419124552266e-7,1.05163373039477e-7,9.35329650781844e-8,8.5928990750275e-8,7.47610785441683e-8,6.78372450327088e-8,5.87777693575967e-8,5.42616343363696e-8,4.81539698046499e-8,4.43587840488597e-8,3.88632462519449e-8,3.53809252717216e-8,3.26331563732642e-8,2.92052466583569e-8,2.67975481681244e-8,2.33288300042301e-8,2.17509033100664e-8,2.06762808200757e-8,1.76564555950383e-8,1.62961739621386e-8,1.52079486558188e-8,1.4282957145447e-8,1.29498811452053e-8,1.19704783695175e-8,1.02973319610508e-8,1.01477009814319e-8,9.23631228738907e-9,8.1072785320823e-9,7.30471236867147e-9,6.37972085829966e-9,5.99884200108774e-9,5.76759412349479e-9,5.61796314387582e-9,4.774588531478e-9,4.50253220489806e-9,4.09444771502814e-9,3.7951857557902e-9,3.21026465364333e-9,2.97901677605038e-9,3.21026465364333e-9,2.48931538820648e-9,2.58453510250946e-9,1.95880555137559e-9,1.78196893909863e-9,2.01321681669158e-9,1.52351542884768e-9,1.14263657163576e-9,1.57792669416367e-9,1.23785628593874e-9,1.27866473492573e-9,1.11543093897777e-9,8.02566163410832e-10,1.03381404100378e-9,9.11388694042809e-10,7.48154898094843e-10,6.39332367462866e-10,5.44112653159886e-10,5.30509836830889e-10,4.89701387843897e-10,3.8087885721192e-10,5.03304204172895e-10,3.53673224553926e-10,3.94481673540917e-10,3.53673224553926e-10,3.12864775566934e-10,1.76836612276963e-10,1.76836612276963e-10,2.17645061263954e-10,1.9043942860596e-10,1.36028163289971e-10,1.76836612276963e-10,1.49630979618969e-10,8.16168979739829e-11,8.16168979739829e-11,8.16168979739829e-11,6.80140816449857e-11,4.08084489869914e-11,8.16168979739829e-11,1.36028163289971e-11,8.16168979739829e-11,2.72056326579943e-11,0,1.36028163289971e-11,2.72056326579943e-11,0,0,1.36028163289971e-11,0,1.36028163289971e-11]},\"fOption\":\"\",\"fFunctions\":{\"_typename\":\"TList\",\"name\":\"TList\",\"arr\":[],\"opt\":[]},\"fBufferSize\":0,\"fBuffer\":[],\"fBinStatErrOpt\":0,\"fStatOverflows\":2,\"fArray\":{\"$arr\":\"Float64\",\"len\":102,\"p\":3,\"v\":[0.163818761871392,0.109200213915577,0.0827041879506519,0.0733767311486898,0.0638169177715898,0.0559721172109835,0.0483522968263042,0.0426208346395707,0.0366275102808564,0.0323787043354786,0.0285134711490586,0.0253600604864735,0.0232983569070758,0.0202703450310731,0.0183930514319435,0.015936710494772,0.0147122282257916,0.0130562266029838,0.0120272189130876,0.0105371862725211,0.00959300717354823,0.00884799085326498,0.00791856455271359,0.00726575322256441,0.00632526232319693,0.00589743116897487,0.00560606340015122,0.00478728308776071,0.00441846312722445,0.00412340715879543,0.00387260958563077,0.00351116602430524,0.00324561565271913,0.00279196710125952,0.00275139690560053,0.00250428753204123,0.00219816696479613,0.00198056318807974,0.00172976561491508,0.00162649602596493,0.00156379663267376,0.00152322643701477,0.00129455806148229,0.00122079406937503,0.00111014808121416,0.00102900768989618,8.70415106865584e-4,8.07715713574419e-4,8.70415106865584e-4,6.74940527781363e-4,7.00757925018902e-4,5.3110074317222e-4,4.83154148302506e-4,5.45853541593671e-4,4.13078355800616e-4,3.09808766850462e-4,4.27831154222066e-4,3.35626164088e-4,3.46690762904088e-4,3.02432367639737e-4,2.17603776716396e-4,2.80303170007561e-4,2.47109373559297e-4,2.02850978294945e-4,1.73345381452044e-4,1.47527984214506e-4,1.43839784609143e-4,1.32775185793055e-4,1.03269588950154e-4,1.36463385398418e-4,9.58931897394287e-5,1.06957788555517e-4,9.58931897394287e-5,8.48285909233408e-5,4.79465948697144e-5,4.79465948697144e-5,5.90111936858023e-5,5.1634794475077e-5,3.68819960536264e-5,4.79465948697144e-5,4.05701956589891e-5,2.21291976321759e-5,2.21291976321759e-5,2.21291976321759e-5,1.84409980268132e-5,1.10645988160879e-5,2.21291976321759e-5,3.68819960536264e-6,2.21291976321759e-5,7.37639921072528e-6,0,3.68819960536264e-6,7.37639921072528e-6,0,0,3.68819960536264e-6,0,3.68819960536264e-6]}},{\"_typename\":\"TH1D\",\"fUniqueID\":0,\"fBits\":521,\"fName\":\"h_sumkefa_neutron_G18\",\"fTitle\":\"\",\"fLineColor\":632,\"fLineStyle\":2,\"fLineWidth\":3,\"fFillColor\":0,\"fFillStyle\":1001,\"fMarkerColor\":1,\"fMarkerStyle\":1,\"fMarkerSize\":1,\"fNcells\":102,\"fXaxis\":{\"_typename\":\"TAxis\",\"fUniqueID\":0,\"fBits\":0,\"fName\":\"xaxis\",\"fTitle\":\"#SigmaKE (GeV)\",\"fNdivisions\":510,\"fAxisColor\":1,\"fLabelColor\":1,\"fLabelFont\":42,\"fLabelOffset\":0.005,\"fLabelSize\":0.035,\"fTickLength\":0.03,\"fTitleOffset\":1,\"fTitleSize\":0.035,\"fTitleColor\":1,\"fTitleFont\":42,\"fNbins\":100,\"fXmin\":0,\"fXmax\":3,\"fXbins\":[],\"fFirst\":0,\"fLast\":0,\"fBits2\":0,\"fTimeDisplay\":false,\"fTimeFormat\":\"\",\"fLabels\":null,\"fModLabs\":null},\"fYaxis\":{\"_typename\":\"TAxis\",\"fUniqueID\":0,\"fBits\":0,\"fName\":\"yaxis\",\"fTitle\":\"Events\\/bin\",\"fNdivisions\":510,\"fAxisColor\":1,\"fLabelColor\":1,\"fLabelFont\":42,\"fLabelOffset\":0.005,\"fLabelSize\":0.035,\"fTickLength\":0.03,\"fTitleOffset\":0,\"fTitleSize\":0.035,\"fTitleColor\":1,\"fTitleFont\":42,\"fNbins\":1,\"fXmin\":0,\"fXmax\":1,\"fXbins\":[],\"fFirst\":0,\"fLast\":0,\"fBits2\":0,\"fTimeDisplay\":false,\"fTimeFormat\":\"\",\"fLabels\":null,\"fModLabs\":null},\"fZaxis\":{\"_typename\":\"TAxis\",\"fUniqueID\":0,\"fBits\":0,\"fName\":\"zaxis\",\"fTitle\":\"\",\"fNdivisions\":510,\"fAxisColor\":1,\"fLabelColor\":1,\"fLabelFont\":42,\"fLabelOffset\":0.005,\"fLabelSize\":0.035,\"fTickLength\":0.03,\"fTitleOffset\":1,\"fTitleSize\":0.035,\"fTitleColor\":1,\"fTitleFont\":42,\"fNbins\":1,\"fXmin\":0,\"fXmax\":1,\"fXbins\":[],\"fFirst\":0,\"fLast\":0,\"fBits2\":0,\"fTimeDisplay\":false,\"fTimeFormat\":\"\",\"fLabels\":null,\"fModLabs\":null},\"fBarOffset\":0,\"fBarWidth\":1000,\"fEntries\":283529,\"fTsumw\":1,\"fTsumw2\":3.52697607652127e-6,\"fTsumwx\":0.336879096202025,\"fTsumwx2\":0.210096389731371,\"fMaximum\":0.154314020787997,\"fMinimum\":0,\"fNormFactor\":0,\"fContour\":[],\"fSumw2\":{\"$arr\":\"Float64\",\"len\":102,\"p\":3,\"v\":[4.94783508719156e-7,3.52574456005708e-7,2.92416742664015e-7,2.57250105853228e-7,2.21088304222893e-7,1.96793843065671e-7,1.70397096227153e-7,1.51513843776224e-7,1.32033492433567e-7,1.20962283816092e-7,1.07714152155856e-7,9.59090094839646e-8,8.56588118426175e-8,7.91902405155537e-8,7.03830318625515e-8,6.16504605710154e-8,5.68612298769394e-8,5.09648783211158e-8,4.65737135548591e-8,4.21949883488467e-8,3.780382358259e-8,3.44327027563702e-8,3.17084390628568e-8,2.97305489840046e-8,2.54637798201914e-8,2.38466369884255e-8,2.12218897768669e-8,1.96296260655897e-8,1.80498019145568e-8,1.65570546852344e-8,1.53877360222651e-8,1.38576701122097e-8,1.32108129795033e-8,1.15065932260269e-8,1.06109448884334e-8,9.42918666521987e-9,9.80237347255047e-9,8.19767020102888e-9,7.5259339478338e-9,6.26953836315411e-9,6.46857132706376e-9,6.00830759802269e-9,5.32413178458325e-9,4.61507685065511e-9,4.2170109228358e-9,4.10505488063662e-9,3.69454939257296e-9,3.32136258524236e-9,3.38356038646412e-9,3.24672522377624e-9,2.33863732593844e-9,2.1893626030062e-9,2.5625494103368e-9,2.06496700056266e-9,1.67934063298771e-9,1.76641755469818e-9,1.74153843420947e-9,1.61714283176594e-9,1.59226371127723e-9,1.20663734370228e-9,1.24395602443534e-9,1.11956042199181e-9,1.19419778345793e-9,1.03248350028133e-9,8.21010976127324e-10,8.58329656860384e-10,5.97098891728963e-10,5.59780210995903e-10,6.34417572462023e-10,5.47340650751549e-10,4.35384608552369e-10,5.22461530262842e-10,3.85626367574955e-10,3.60747247086248e-10,2.98549445864481e-10,3.35868126597542e-10,2.98549445864481e-10,1.49274722932241e-10,2.23912084398361e-10,1.49274722932241e-10,1.24395602443534e-10,1.36835162687887e-10,7.46373614661203e-11,7.46373614661203e-11,4.97582409774136e-11,7.46373614661203e-11,4.97582409774136e-11,3.73186807330602e-11,3.73186807330602e-11,9.95164819548271e-11,0,2.48791204887068e-11,3.73186807330602e-11,4.97582409774136e-11,0,1.24395602443534e-11,2.48791204887068e-11]},\"fOption\":\"\",\"fFunctions\":{\"_typename\":\"TList\",\"name\":\"TList\",\"arr\":[],\"opt\":[]},\"fBufferSize\":0,\"fBuffer\":[],\"fBinStatErrOpt\":0,\"fStatOverflows\":2,\"fArray\":{\"$arr\":\"Float64\",\"len\":102,\"p\":3,\"v\":[0.140285473443634,0.0999650829368424,0.0829086266307856,0.0729378652624599,0.0626849458080126,0.0557967615305665,0.0483125182961884,0.0429585686120291,0.0374353240761968,0.0342963153680929,0.0305400858465977,0.027192985549979,0.0242867572629255,0.0224527297031344,0.0199556306409574,0.0174796934352394,0.0161218076457787,0.0144500209855077,0.0132049984304956,0.0119635028515602,0.0107184802965481,0.00976266977981088,0.00899026201905273,0.00842947282288584,0.00721972002863905,0.00676121313869128,0.00601702118654529,0.00556556824875057,0.00511764228703237,0.00469440515784981,0.00436286940665681,0.0039290513492447,0.00374564859326559,0.00326245287078218,0.00300851059327265,0.00267344786600312,0.00277925714829876,0.00232427723442752,0.00213382052629537,0.00177759594256672,0.00183402755979106,0.00170352944495977,0.0015095457607511,0.00130850812438939,0.00119564488994071,0.00116390210525202,0.00104751189472682,9.4170261243118e-4,9.59337492813786e-4,9.20540755972052e-4,6.63071502385999e-4,6.20747789467744e-4,7.26557071763382e-4,5.85478028702531e-4,4.76141770330372e-4,5.00830602866021e-4,4.93776650712978e-4,4.58506889947765e-4,4.51452937794723e-4,3.42116679422563e-4,3.52697607652127e-4,3.17427846886915e-4,3.38589703346042e-4,2.92739014351266e-4,2.32780421050404e-4,2.43361349279968e-4,1.69294851673021e-4,1.58713923443457e-4,1.79875779902585e-4,1.55186947366936e-4,1.23444162678245e-4,1.48132995213893e-4,1.09336258372159e-4,1.02282306219117e-4,8.46474258365105e-5,9.52283540660744e-5,8.46474258365105e-5,4.23237129182553e-5,6.34855693773829e-5,4.23237129182553e-5,3.52697607652127e-5,3.8796736841734e-5,2.11618564591276e-5,2.11618564591276e-5,1.41079043060851e-5,2.11618564591276e-5,1.41079043060851e-5,1.05809282295638e-5,1.05809282295638e-5,2.82158086121702e-5,0,7.05395215304255e-6,1.05809282295638e-5,1.41079043060851e-5,0,3.52697607652127e-6,7.05395215304255e-6]}},{\"_typename\":\"TPaveText\",\"fUniqueID\":0,\"fBits\":9,\"fLineColor\":1,\"fLineStyle\":1,\"fLineWidth\":1,\"fFillColor\":0,\"fFillStyle\":0,\"fX1\":1.08085487916716,\"fY1\":0.188475744063959,\"fX2\":1.91914512083284,\"fY2\":0.201599466563529,\"fX1NDC\":0.388227969443442,\"fY1NDC\":0.936737292958226,\"fX2NDC\":0.611772030556558,\"fY2NDC\":0.995000004768372,\"fBorderSize\":0,\"fInit\":1,\"fShadowColor\":1,\"fCornerRadius\":0,\"fOption\":\"blNDC\",\"fName\":\"title\",\"fTextAngle\":0,\"fTextSize\":0,\"fTextAlign\":22,\"fTextColor\":1,\"fTextFont\":42,\"fLabel\":\"\",\"fLongest\":12,\"fMargin\":0.05,\"fLines\":{\"_typename\":\"TList\",\"name\":\"TList\",\"arr\":[{\"_typename\":\"TLatex\",\"fUniqueID\":0,\"fBits\":0,\"fName\":\"\",\"fTitle\":\"all neutrons\",\"fTextAngle\":0,\"fTextSize\":0,\"fTextAlign\":0,\"fTextColor\":0,\"fTextFont\":0,\"fX\":0,\"fY\":0,\"fLineColor\":1,\"fLineStyle\":1,\"fLineWidth\":2,\"fLimitFactorSize\":3,\"fOriginSize\":0.0495233051478863}],\"opt\":[\"\"]}}],\"opt\":[\"\",\"HIST\",\"SAMEHIST\",\"blNDC\"]},\"fExecs\":{\"_typename\":\"TList\",\"name\":\"TList\",\"arr\":[],\"opt\":[]},\"fName\":\"c4_2\",\"fTitle\":\"c4_2\",\"fNumPaletteColor\":0,\"fNextPaletteColor\":0},{\"_typename\":\"TPad\",\"fUniqueID\":0,\"fBits\":9,\"fLineColor\":1,\"fLineStyle\":1,\"fLineWidth\":1,\"fFillColor\":0,\"fFillStyle\":1001,\"fLeftMargin\":0.1,\"fRightMargin\":0.1,\"fBottomMargin\":0.1,\"fTopMargin\":0.1,\"fXfile\":2,\"fYfile\":2,\"fAfile\":1,\"fXstat\":0.99,\"fYstat\":0.99,\"fAstat\":2,\"fFrameFillColor\":0,\"fFrameLineColor\":1,\"fFrameFillStyle\":1001,\"fFrameLineStyle\":1,\"fFrameLineWidth\":1,\"fFrameBorderSize\":1,\"fFrameBorderMode\":0,\"fX1\":-0.375000027939679,\"fY1\":-0.0195325974072339,\"fX2\":3.37500002793968,\"fY2\":0.17579336502277,\"fXtoAbsPixelk\":40.3680518668176,\"fXtoPixelk\":33.4080520223857,\"fXtoPixel\":89.087998755455,\"fYtoAbsPixelk\":444.624048733997,\"fYtoPixelk\":203.904048839497,\"fYtoPixel\":-1159.90725140898,\"fUtoAbsPixelk\":6.96004984443188,\"fUtoPixelk\":5e-5,\"fUtoPixel\":334.080000311136,\"fVtoAbsPixelk\":467.2800501055,\"fVtoPixelk\":226.560000211,\"fVtoPixel\":-226.560000211,\"fAbsPixeltoXk\":-0.453125027284843,\"fPixeltoXk\":-0.375000027939679,\"fPixeltoX\":0.0112248564786485,\"fAbsPixeltoYk\":0.383327199820413,\"fPixeltoYk\":-0.0195325974072339,\"fPixeltoY\":-8.62137898340804e-4,\"fXlowNDC\":0.00999999977648258,\"fYlowNDC\":0.00999999977648258,\"fXUpNDC\":0.490000000223517,\"fYUpNDC\":0.490000000223517,\"fWNDC\":0.480000000447035,\"fHNDC\":0.480000000447035,\"fAbsXlowNDC\":0.00999999977648258,\"fAbsYlowNDC\":0.00999999977648258,\"fAbsWNDC\":0.480000000447035,\"fAbsHNDC\":0.480000000447035,\"fUxmin\":0,\"fUymin\":0,\"fUxmax\":3,\"fUymax\":0.156260767615536,\"fTheta\":30,\"fPhi\":30,\"fAspectRatio\":0,\"fNumber\":3,\"fTickx\":0,\"fTicky\":0,\"fLogx\":0,\"fLogy\":0,\"fLogz\":0,\"fPadPaint\":0,\"fCrosshair\":0,\"fCrosshairPos\":0,\"fBorderSize\":2,\"fBorderMode\":0,\"fModified\":false,\"fGridx\":false,\"fGridy\":false,\"fAbsCoord\":false,\"fEditable\":true,\"fFixedAspectRatio\":false,\"fPrimitives\":{\"_typename\":\"TList\",\"name\":\"TList\",\"arr\":[{\"_typename\":\"TFrame\",\"fUniqueID\":0,\"fBits\":8,\"fLineColor\":1,\"fLineStyle\":1,\"fLineWidth\":1,\"fFillColor\":0,\"fFillStyle\":1001,\"fX1\":0,\"fY1\":0,\"fX2\":3,\"fY2\":0.156260767615536,\"fBorderSize\":1,\"fBorderMode\":0},{\"_typename\":\"TH1D\",\"fUniqueID\":0,\"fBits\":521,\"fName\":\"h_sumkefa_proton_G21\",\"fTitle\":\"all protons\",\"fLineColor\":600,\"fLineStyle\":1,\"fLineWidth\":2,\"fFillColor\":0,\"fFillStyle\":1001,\"fMarkerColor\":1,\"fMarkerStyle\":1,\"fMarkerSize\":1,\"fNcells\":102,\"fXaxis\":{\"_typename\":\"TAxis\",\"fUniqueID\":0,\"fBits\":0,\"fName\":\"xaxis\",\"fTitle\":\"#SigmaKE (GeV)\",\"fNdivisions\":510,\"fAxisColor\":1,\"fLabelColor\":1,\"fLabelFont\":42,\"fLabelOffset\":0.005,\"fLabelSize\":0.035,\"fTickLength\":0.03,\"fTitleOffset\":1,\"fTitleSize\":0.035,\"fTitleColor\":1,\"fTitleFont\":42,\"fNbins\":100,\"fXmin\":0,\"fXmax\":3,\"fXbins\":[],\"fFirst\":0,\"fLast\":0,\"fBits2\":0,\"fTimeDisplay\":false,\"fTimeFormat\":\"\",\"fLabels\":null,\"fModLabs\":null},\"fYaxis\":{\"_typename\":\"TAxis\",\"fUniqueID\":0,\"fBits\":0,\"fName\":\"yaxis\",\"fTitle\":\"Events (Normalized)\",\"fNdivisions\":510,\"fAxisColor\":1,\"fLabelColor\":1,\"fLabelFont\":42,\"fLabelOffset\":0.005,\"fLabelSize\":0.035,\"fTickLength\":0.03,\"fTitleOffset\":0,\"fTitleSize\":0.035,\"fTitleColor\":1,\"fTitleFont\":42,\"fNbins\":1,\"fXmin\":0,\"fXmax\":1,\"fXbins\":[],\"fFirst\":0,\"fLast\":0,\"fBits2\":0,\"fTimeDisplay\":false,\"fTimeFormat\":\"\",\"fLabels\":null,\"fModLabs\":null},\"fZaxis\":{\"_typename\":\"TAxis\",\"fUniqueID\":0,\"fBits\":0,\"fName\":\"zaxis\",\"fTitle\":\"\",\"fNdivisions\":510,\"fAxisColor\":1,\"fLabelColor\":1,\"fLabelFont\":42,\"fLabelOffset\":0.005,\"fLabelSize\":0.035,\"fTickLength\":0.03,\"fTitleOffset\":1,\"fTitleSize\":0.035,\"fTitleColor\":1,\"fTitleFont\":42,\"fNbins\":1,\"fXmin\":0,\"fXmax\":1,\"fXbins\":[],\"fFirst\":0,\"fLast\":0,\"fBits2\":0,\"fTimeDisplay\":false,\"fTimeFormat\":\"\",\"fLabels\":null,\"fModLabs\":null},\"fBarOffset\":0,\"fBarWidth\":1000,\"fEntries\":265263,\"fTsumw\":1,\"fTsumw2\":3.76984351379574e-6,\"fTsumwx\":0.330882035786523,\"fTsumwx2\":0.202370162812044,\"fMaximum\":0.156260767615536,\"fMinimum\":0,\"fNormFactor\":0,\"fContour\":[],\"fSumw2\":{\"$arr\":\"Float64\",\"len\":102,\"p\":3,\"v\":[5.35526037505612e-7,3.77719097309701e-7,2.94637381496904e-7,2.70221646333308e-7,2.46701249537177e-7,2.2058010795936e-7,1.92753559967322e-7,1.72047083754656e-7,1.51582206784005e-7,1.32069515061293e-7,1.1781515978243e-7,1.05394116398854e-7,9.34846949395445e-8,8.21295305648567e-8,7.33466875316189e-8,6.58002641486912e-8,5.78843360426824e-8,5.14180033887613e-8,4.63302075863355e-8,4.05886726584584e-8,3.71210129495424e-8,3.48755611708182e-8,3.09389146979915e-8,2.71870205867055e-8,2.57942720150917e-8,2.38188429186191e-8,2.22413419854647e-8,2.04506652505328e-8,1.81199431510975e-8,1.61018788942694e-8,1.57323741711882e-8,1.4467531080641e-8,1.26057957451164e-8,1.21510207013242e-8,1.08435424504215e-8,9.91978064271846e-9,8.95338367465993e-9,8.22858594861603e-9,7.97277498648289e-9,7.16270693972795e-9,6.66529673558017e-9,5.85522868882523e-9,5.35781848467745e-9,4.86040828052968e-9,4.37720979650041e-9,4.07876367401175e-9,4.09297539413025e-9,3.70925895093054e-9,3.22606046690128e-9,2.99867294500515e-9,2.7286502627535e-9,2.40178070002782e-9,2.45862758050185e-9,2.08912285742065e-9,2.11754629765767e-9,1.96121737635408e-9,1.54907749291735e-9,1.47801889232481e-9,1.59171265327288e-9,1.08009072900659e-9,1.02324384853256e-9,1.08009072900659e-9,9.09550087584501e-10,5.96892244977329e-10,9.23761807703009e-10,6.96374285806884e-10,9.09550087584501e-10,5.96892244977329e-10,6.39527405332852e-10,4.97410204147774e-10,6.39527405332852e-10,4.68986763910758e-10,2.55810962133141e-10,3.55293002962696e-10,4.12139883436727e-10,2.70022682251649e-10,1.70540641422094e-10,2.84234402370157e-10,2.27387521896125e-10,2.98446122488664e-10,1.56328921303586e-10,1.70540641422094e-10,1.42117201185078e-10,1.13693760948063e-10,1.2790548106657e-10,8.5270320711047e-11,1.13693760948063e-10,7.10586005925391e-11,7.10586005925391e-11,2.84234402370157e-11,4.26351603555235e-11,1.42117201185078e-11,1.42117201185078e-11,1.42117201185078e-11,0,0,2.84234402370157e-11]},\"fOption\":\"\",\"fFunctions\":{\"_typename\":\"TList\",\"name\":\"TList\",\"arr\":[],\"opt\":[]},\"fBufferSize\":0,\"fBuffer\":[],\"fBinStatErrOpt\":0,\"fStatOverflows\":2,\"fArray\":{\"$arr\":\"Float64\",\"len\":102,\"p\":3,\"v\":[0.142055243286851,0.100194900909663,0.0781563957280133,0.0716798045713122,0.0654407135559803,0.0585117411776237,0.0511303875776117,0.0456377255780113,0.0402091509181454,0.0350331557737038,0.0312520027293667,0.0279571594983092,0.0247980306337484,0.0217859256662256,0.0194561623746998,0.0174543754688743,0.0153545726316901,0.013639293832913,0.0122896898549741,0.0107666730754006,0.00984683125803448,0.00925119598285475,0.00820694932953333,0.00721171064189126,0.00684226597753927,0.00631825772912166,0.00589980509909034,0.00542480481635207,0.00480655048008957,0.00427123270113058,0.00417321676977189,0.00383770069704407,0.00334385119673682,0.00322321620429536,0.00287639060102615,0.00263135077262943,0.00237500141369132,0.00218273939448773,0.00211488221123941,0.00190000113095305,0.0017680566079702,0.00155317552768385,0.00142123100470099,0.00128928648171814,0.00116111180224909,0.00108194508845938,0.00108571493197317,9.83929157100689e-4,8.55754477631633e-4,7.95436981410902e-4,7.23809954648783e-4,6.3710355383148e-4,6.52182927886663e-4,5.54166996527974e-4,5.61706683555566e-4,5.20238404903812e-4,4.10912943003736e-4,3.92063725434757e-4,4.22222473545123e-4,2.86508107048476e-4,2.71428732993293e-4,2.86508107048476e-4,2.41269984882928e-4,1.58333427579421e-4,2.45039828396723e-4,1.84722332175991e-4,2.41269984882928e-4,1.58333427579421e-4,1.69642958120808e-4,1.31944522982851e-4,1.69642958120808e-4,1.24404835955259e-4,6.78571832483234e-5,9.42460878448936e-5,1.09325461900077e-4,7.16270267621191e-5,4.52381221655489e-5,7.53968702759148e-5,6.03174962207319e-5,7.91667137897106e-5,4.14682786517532e-5,4.52381221655489e-5,3.76984351379574e-5,3.01587481103659e-5,3.39285916241617e-5,2.26190610827745e-5,3.01587481103659e-5,1.88492175689787e-5,1.88492175689787e-5,7.53968702759148e-6,1.13095305413872e-5,3.76984351379574e-6,3.76984351379574e-6,3.76984351379574e-6,0,0,7.53968702759148e-6]}},{\"_typename\":\"TH1D\",\"fUniqueID\":0,\"fBits\":521,\"fName\":\"h_sumkefa_proton_G18\",\"fTitle\":\"\",\"fLineColor\":632,\"fLineStyle\":2,\"fLineWidth\":3,\"fFillColor\":0,\"fFillStyle\":1001,\"fMarkerColor\":1,\"fMarkerStyle\":1,\"fMarkerSize\":1,\"fNcells\":102,\"fXaxis\":{\"_typename\":\"TAxis\",\"fUniqueID\":0,\"fBits\":0,\"fName\":\"xaxis\",\"fTitle\":\"#SigmaKE (GeV)\",\"fNdivisions\":510,\"fAxisColor\":1,\"fLabelColor\":1,\"fLabelFont\":42,\"fLabelOffset\":0.005,\"fLabelSize\":0.035,\"fTickLength\":0.03,\"fTitleOffset\":1,\"fTitleSize\":0.035,\"fTitleColor\":1,\"fTitleFont\":42,\"fNbins\":100,\"fXmin\":0,\"fXmax\":3,\"fXbins\":[],\"fFirst\":0,\"fLast\":0,\"fBits2\":0,\"fTimeDisplay\":false,\"fTimeFormat\":\"\",\"fLabels\":null,\"fModLabs\":null},\"fYaxis\":{\"_typename\":\"TAxis\",\"fUniqueID\":0,\"fBits\":0,\"fName\":\"yaxis\",\"fTitle\":\"Events\\/bin\",\"fNdivisions\":510,\"fAxisColor\":1,\"fLabelColor\":1,\"fLabelFont\":42,\"fLabelOffset\":0.005,\"fLabelSize\":0.035,\"fTickLength\":0.03,\"fTitleOffset\":0,\"fTitleSize\":0.035,\"fTitleColor\":1,\"fTitleFont\":42,\"fNbins\":1,\"fXmin\":0,\"fXmax\":1,\"fXbins\":[],\"fFirst\":0,\"fLast\":0,\"fBits2\":0,\"fTimeDisplay\":false,\"fTimeFormat\":\"\",\"fLabels\":null,\"fModLabs\":null},\"fZaxis\":{\"_typename\":\"TAxis\",\"fUniqueID\":0,\"fBits\":0,\"fName\":\"zaxis\",\"fTitle\":\"\",\"fNdivisions\":510,\"fAxisColor\":1,\"fLabelColor\":1,\"fLabelFont\":42,\"fLabelOffset\":0.005,\"fLabelSize\":0.035,\"fTickLength\":0.03,\"fTitleOffset\":1,\"fTitleSize\":0.035,\"fTitleColor\":1,\"fTitleFont\":42,\"fNbins\":1,\"fXmin\":0,\"fXmax\":1,\"fXbins\":[],\"fFirst\":0,\"fLast\":0,\"fBits2\":0,\"fTimeDisplay\":false,\"fTimeFormat\":\"\",\"fLabels\":null,\"fModLabs\":null},\"fBarOffset\":0,\"fBarWidth\":1000,\"fEntries\":286105,\"fTsumw\":1,\"fTsumw2\":3.49523250286609e-6,\"fTsumwx\":0.352735609676076,\"fTsumwx2\":0.226748386976069,\"fMaximum\":0.139160934485362,\"fMinimum\":0,\"fNormFactor\":0,\"fContour\":[],\"fSumw2\":{\"$arr\":\"Float64\",\"len\":102,\"p\":3,\"v\":[4.42181655765869e-7,3.25830278793521e-7,2.72272484101504e-7,2.45933386164462e-7,2.19398821823435e-7,1.96321569502901e-7,1.76872662306348e-7,1.54503975700261e-7,1.38817796780427e-7,1.24304416284507e-7,1.09913202291077e-7,9.93213665251144e-8,8.95113963750938e-8,8.24501725311189e-8,7.38374341055094e-8,6.59943446455926e-8,5.92141037573468e-8,5.36921778447574e-8,4.78159690749444e-8,4.38211244434914e-8,4.04859789254894e-8,3.56970520278455e-8,3.2960522372049e-8,3.00040930117689e-8,2.74263798092105e-8,2.59481651290705e-8,2.14646544876539e-8,2.06705722214629e-8,1.94122572458065e-8,1.84593585263773e-8,1.71399602994755e-8,1.49165299541408e-8,1.41835309391953e-8,1.28274827615461e-8,1.15447344853915e-8,1.08728187216915e-8,1.02009029579914e-8,8.94258798233502e-9,8.77155487884774e-9,7.40329005094948e-9,6.16940837579124e-9,6.52369123301489e-9,6.13275842504396e-9,5.25315960710937e-9,5.04547655287481e-9,4.9233100503839e-9,4.12922778419295e-9,3.6161284737311e-9,3.59169517323292e-9,3.23741231600926e-9,3.1885457150129e-9,3.0419459120238e-9,2.3211635473274e-9,2.08904719259466e-9,2.21121369508557e-9,1.96688069010374e-9,1.8813641383601e-9,1.63703113337827e-9,1.63703113337827e-9,1.20944837466006e-9,1.56373123188372e-9,1.18501507416188e-9,1.11171517266733e-9,1.0139819706746e-9,1.0139819706746e-9,7.8186561594186e-10,1.0139819706746e-9,6.71915763700036e-10,6.23049162703669e-10,4.88666009963662e-10,5.4974926120912e-10,5.13099310461845e-10,3.54282857223655e-10,3.54282857223655e-10,3.42066206974564e-10,3.29849556725472e-10,2.93199605978197e-10,1.95466403985465e-10,2.3211635473274e-10,2.3211635473274e-10,1.22166502490916e-10,1.5881645323819e-10,1.5881645323819e-10,1.5881645323819e-10,9.77332019927325e-11,1.22166502490916e-10,1.46599802989099e-10,4.88666009963662e-11,4.88666009963662e-11,2.44333004981831e-11,3.66499507472747e-11,1.22166502490916e-11,6.10832512454578e-11,0,1.22166502490916e-11,1.22166502490916e-11,0,0,1.22166502490916e-11]},\"fOption\":\"\",\"fFunctions\":{\"_typename\":\"TList\",\"name\":\"TList\",\"arr\":[],\"opt\":[]},\"fBufferSize\":0,\"fBuffer\":[],\"fBinStatErrOpt\":0,\"fStatOverflows\":2,\"fArray\":{\"$arr\":\"Float64\",\"len\":102,\"p\":3,\"v\":[0.126509940441238,0.0932213460839415,0.0778982467913766,0.0703625255151973,0.0627708805189721,0.0561683863210581,0.0506039761764953,0.0442042054637474,0.0397163269300674,0.0355639907166625,0.0314466068282862,0.0284162402483013,0.0256095685484998,0.0235893241618432,0.0211251852473227,0.0188812459804826,0.0169413919413919,0.0153615468500965,0.0136803400162179,0.0125373989877807,0.0115832005144982,0.0102130693733747,0.00943013729273271,0.00858429102703912,0.00784679696893437,0.00742387383608758,0.00614112350753572,0.00591393339484943,0.00555392444705422,0.00528129631183066,0.00490381120152113,0.0042676788859995,0.00405796493582753,0.0036699941280094,0.00330299471520846,0.00311075692755082,0.00291851913989319,0.00255851019209798,0.00250957693705785,0.00211811089673685,0.00176509241394738,0.00186645415653049,0.00175460671643878,0.00150294997623242,0.0014435310236837,0.00140857869865503,0.00118138858596874,0.00103458882084836,0.00102759835584263,9.26236613259514e-4,9.1225568324805e-4,8.70312893213657e-4,6.64094175544557e-4,5.97684757990101e-4,6.32637083018762e-4,5.62732432961441e-4,5.38265805441378e-4,4.68361155384056e-4,4.68361155384056e-4,3.46028017783743e-4,4.4738976036686e-4,3.39037552778011e-4,3.18066157760814e-4,2.90104297737886e-4,2.90104297737886e-4,2.2369488018343e-4,2.90104297737886e-4,1.92237787657635e-4,1.78256857646171e-4,1.39809300114644e-4,1.57285462628974e-4,1.46799765120376e-4,1.01361742583117e-4,1.01361742583117e-4,9.78665100802505e-5,9.43712775773845e-5,8.38855800687862e-5,5.59237200458575e-5,6.64094175544557e-5,6.64094175544557e-5,3.49523250286609e-5,4.54380225372592e-5,4.54380225372592e-5,4.54380225372592e-5,2.79618600229287e-5,3.49523250286609e-5,4.19427900343931e-5,1.39809300114644e-5,1.39809300114644e-5,6.99046500573218e-6,1.04856975085983e-5,3.49523250286609e-6,1.74761625143305e-5,0,3.49523250286609e-6,3.49523250286609e-6,0,0,3.49523250286609e-6]}},{\"_typename\":\"TPaveText\",\"fUniqueID\":0,\"fBits\":9,\"fLineColor\":1,\"fLineStyle\":1,\"fLineWidth\":1,\"fFillColor\":0,\"fFillStyle\":0,\"fX1\":1.12014187684243,\"fY1\":0.16136738492789,\"fX2\":1.87985812315757,\"fY2\":0.174816736142007,\"fX1NDC\":0.398704502000734,\"fY1NDC\":0.926144072629109,\"fX2NDC\":0.601295497999266,\"fY2NDC\":0.995000004768372,\"fBorderSize\":0,\"fInit\":1,\"fShadowColor\":1,\"fCornerRadius\":0,\"fOption\":\"blNDC\",\"fName\":\"title\",\"fTextAngle\":0,\"fTextSize\":0,\"fTextAlign\":22,\"fTextColor\":1,\"fTextFont\":42,\"fLabel\":\"\",\"fLongest\":11,\"fMargin\":0.05,\"fLines\":{\"_typename\":\"TList\",\"name\":\"TList\",\"arr\":[{\"_typename\":\"TLatex\",\"fUniqueID\":0,\"fBits\":0,\"fName\":\"\",\"fTitle\":\"all protons\",\"fTextAngle\":0,\"fTextSize\":0,\"fTextAlign\":0,\"fTextColor\":0,\"fTextFont\":0,\"fX\":0,\"fY\":0,\"fLineColor\":1,\"fLineStyle\":1,\"fLineWidth\":2,\"fLimitFactorSize\":3,\"fOriginSize\":0.0585275441408157}],\"opt\":[\"\"]}}],\"opt\":[\"\",\"HIST\",\"SAMEHIST\",\"blNDC\"]},\"fExecs\":{\"_typename\":\"TList\",\"name\":\"TList\",\"arr\":[],\"opt\":[]},\"fName\":\"c4_3\",\"fTitle\":\"c4_3\",\"fNumPaletteColor\":0,\"fNextPaletteColor\":0},{\"_typename\":\"TPad\",\"fUniqueID\":0,\"fBits\":9,\"fLineColor\":1,\"fLineStyle\":1,\"fLineWidth\":1,\"fFillColor\":0,\"fFillStyle\":1001,\"fLeftMargin\":0.1,\"fRightMargin\":0.1,\"fBottomMargin\":0.1,\"fTopMargin\":0.1,\"fXfile\":2,\"fYfile\":2,\"fAfile\":1,\"fXstat\":0.99,\"fYstat\":0.99,\"fAstat\":2,\"fFrameFillColor\":0,\"fFrameLineColor\":1,\"fFrameFillStyle\":1001,\"fFrameLineStyle\":1,\"fFrameLineWidth\":1,\"fFrameBorderSize\":1,\"fFrameBorderMode\":0,\"fX1\":-0.375000027939679,\"fY1\":-0.0045245757818793,\"fX2\":3.37500002793968,\"fY2\":0.0407211793400565,\"fXtoAbsPixelk\":388.368051866818,\"fXtoPixelk\":33.4080520223857,\"fXtoPixel\":89.087998755455,\"fYtoAbsPixelk\":444.624048733997,\"fYtoPixelk\":203.904048839497,\"fYtoPixel\":-5007.32056743067,\"fUtoAbsPixelk\":354.960049844432,\"fUtoPixelk\":5e-5,\"fUtoPixel\":334.080000311136,\"fVtoAbsPixelk\":467.2800501055,\"fVtoPixelk\":226.560000211,\"fVtoPixel\":-226.560000211,\"fAbsPixeltoXk\":-4.35937508185453,\"fPixeltoXk\":-0.375000027939679,\"fPixeltoX\":0.0112248564786485,\"fAbsPixeltoYk\":0.0887947940912719,\"fPixeltoYk\":-0.0045245757818793,\"fPixeltoY\":-1.99707605401648e-4,\"fXlowNDC\":0.509999999776483,\"fYlowNDC\":0.00999999977648258,\"fXUpNDC\":0.990000000223517,\"fYUpNDC\":0.490000000223517,\"fWNDC\":0.480000000447035,\"fHNDC\":0.480000000447035,\"fAbsXlowNDC\":0.509999999776483,\"fAbsYlowNDC\":0.00999999977648258,\"fAbsWNDC\":0.480000000447035,\"fAbsHNDC\":0.480000000447035,\"fUxmin\":0,\"fUymin\":0,\"fUxmax\":3,\"fUymax\":0.0361966035581772,\"fTheta\":30,\"fPhi\":30,\"fAspectRatio\":0,\"fNumber\":4,\"fTickx\":0,\"fTicky\":0,\"fLogx\":0,\"fLogy\":0,\"fLogz\":0,\"fPadPaint\":0,\"fCrosshair\":0,\"fCrosshairPos\":0,\"fBorderSize\":2,\"fBorderMode\":0,\"fModified\":false,\"fGridx\":false,\"fGridy\":false,\"fAbsCoord\":false,\"fEditable\":true,\"fFixedAspectRatio\":false,\"fPrimitives\":{\"_typename\":\"TList\",\"name\":\"TList\",\"arr\":[{\"_typename\":\"TFrame\",\"fUniqueID\":0,\"fBits\":8,\"fLineColor\":1,\"fLineStyle\":1,\"fLineWidth\":1,\"fFillColor\":0,\"fFillStyle\":1001,\"fX1\":0,\"fY1\":0,\"fX2\":3,\"fY2\":0.0361966035581772,\"fBorderSize\":1,\"fBorderMode\":0},{\"_typename\":\"TH1D\",\"fUniqueID\":0,\"fBits\":521,\"fName\":\"h_sumkefa_pi_G21\",\"fTitle\":\"all pions\",\"fLineColor\":600,\"fLineStyle\":1,\"fLineWidth\":2,\"fFillColor\":0,\"fFillStyle\":1001,\"fMarkerColor\":1,\"fMarkerStyle\":1,\"fMarkerSize\":1,\"fNcells\":102,\"fXaxis\":{\"_typename\":\"TAxis\",\"fUniqueID\":0,\"fBits\":0,\"fName\":\"xaxis\",\"fTitle\":\"#SigmaKE (GeV)\",\"fNdivisions\":510,\"fAxisColor\":1,\"fLabelColor\":1,\"fLabelFont\":42,\"fLabelOffset\":0.005,\"fLabelSize\":0.035,\"fTickLength\":0.03,\"fTitleOffset\":1,\"fTitleSize\":0.035,\"fTitleColor\":1,\"fTitleFont\":42,\"fNbins\":100,\"fXmin\":0,\"fXmax\":3,\"fXbins\":[],\"fFirst\":0,\"fLast\":0,\"fBits2\":0,\"fTimeDisplay\":false,\"fTimeFormat\":\"\",\"fLabels\":null,\"fModLabs\":null},\"fYaxis\":{\"_typename\":\"TAxis\",\"fUniqueID\":0,\"fBits\":0,\"fName\":\"yaxis\",\"fTitle\":\"Events (Normalized)\",\"fNdivisions\":510,\"fAxisColor\":1,\"fLabelColor\":1,\"fLabelFont\":42,\"fLabelOffset\":0.005,\"fLabelSize\":0.035,\"fTickLength\":0.03,\"fTitleOffset\":0,\"fTitleSize\":0.035,\"fTitleColor\":1,\"fTitleFont\":42,\"fNbins\":1,\"fXmin\":0,\"fXmax\":1,\"fXbins\":[],\"fFirst\":0,\"fLast\":0,\"fBits2\":0,\"fTimeDisplay\":false,\"fTimeFormat\":\"\",\"fLabels\":null,\"fModLabs\":null},\"fZaxis\":{\"_typename\":\"TAxis\",\"fUniqueID\":0,\"fBits\":0,\"fName\":\"zaxis\",\"fTitle\":\"\",\"fNdivisions\":510,\"fAxisColor\":1,\"fLabelColor\":1,\"fLabelFont\":42,\"fLabelOffset\":0.005,\"fLabelSize\":0.035,\"fTickLength\":0.03,\"fTitleOffset\":1,\"fTitleSize\":0.035,\"fTitleColor\":1,\"fTitleFont\":42,\"fNbins\":1,\"fXmin\":0,\"fXmax\":1,\"fXbins\":[],\"fFirst\":0,\"fLast\":0,\"fBits2\":0,\"fTimeDisplay\":false,\"fTimeFormat\":\"\",\"fLabels\":null,\"fModLabs\":null},\"fBarOffset\":0,\"fBarWidth\":1000,\"fEntries\":168199,\"fTsumw\":1,\"fTsumw2\":5.9461516506517e-6,\"fTsumwx\":0.801012400051037,\"fTsumwx2\":0.931849280575003,\"fMaximum\":0.0361966035581772,\"fMinimum\":0,\"fNormFactor\":0,\"fContour\":[],\"fSumw2\":{\"$arr\":\"Float64\",\"len\":102,\"p\":3,\"v\":[1.956640854504e-7,1.61297354142524e-7,1.10383678130855e-7,9.36599498297994e-8,9.50388618884488e-8,1.11126169239358e-7,1.26541698920669e-7,1.33860539847346e-7,1.3835084321782e-7,1.49700350162088e-7,1.61332710861976e-7,1.62039845251027e-7,1.69111189141537e-7,1.63029833395698e-7,1.62923763237341e-7,1.61721634775954e-7,1.51680326451431e-7,1.48427508261796e-7,1.40861170298951e-7,1.35062668308733e-7,1.32693768105412e-7,1.29935943988114e-7,1.26046704848333e-7,1.22298892586363e-7,1.17136811546291e-7,1.09711900461256e-7,1.08226918244249e-7,9.95998786978275e-8,9.77966860057475e-8,9.45792245355657e-8,9.08667689930481e-8,8.86746523869902e-8,8.60228984280491e-8,8.38307818219911e-8,8.04365367545465e-8,7.79262096734156e-8,7.6335157298051e-8,7.20569942442927e-8,6.83798954212277e-8,6.64706325707901e-8,6.35006681367761e-8,5.84446572550617e-8,5.63939675268139e-8,5.60404003322884e-8,5.33179329344423e-8,5.05601088171435e-8,4.84033489305381e-8,4.47262501074731e-8,4.38423321211594e-8,4.14380751983862e-8,4.11198647233132e-8,3.89984615561604e-8,3.76902629364161e-8,3.53920761720005e-8,3.40838775522562e-8,3.02299951319285e-8,2.92046502678046e-8,2.96996443401402e-8,2.64468261505058e-8,2.54568380058345e-8,2.46082767389734e-8,2.29111542052511e-8,1.93401255405437e-8,1.95876225767115e-8,1.91986986627335e-8,1.79612134818943e-8,1.62994476676246e-8,1.48144654506176e-8,1.39305474643039e-8,1.37184071475886e-8,1.13141502248153e-8,1.06777292746695e-8,9.47560081328284e-9,9.82916800780832e-9,9.22810377711501e-9,8.4148992297064e-9,7.35419764612997e-9,6.25813934310098e-9,5.86921542912295e-9,4.77315712609397e-9,4.91458400390416e-9,4.41958993156849e-9,3.07603459237167e-9,3.74781226197008e-9,3.35888834799205e-9,2.72246739784619e-9,2.47497036167835e-9,2.22747332551052e-9,1.41426877810192e-9,1.34355533919682e-9,8.83917986313698e-10,1.13141502248153e-9,8.4856126686115e-10,7.07134389050958e-10,3.53567194525479e-10,4.59637352883123e-10,4.24280633430575e-10,2.47497036167835e-10,8.13204547408602e-10]},\"fOption\":\"\",\"fFunctions\":{\"_typename\":\"TList\",\"name\":\"TList\",\"arr\":[],\"opt\":[]},\"fBufferSize\":0,\"fBuffer\":[],\"fBinStatErrOpt\":0,\"fStatOverflows\":2,\"fArray\":{\"$arr\":\"Float64\",\"len\":102,\"p\":3,\"v\":[0.0329060032347065,0.027126343830273,0.0185638854533346,0.0157513557225763,0.0159832556369518,0.0186887546379983,0.0212812767576824,0.0225121301493673,0.0232672914090001,0.0251760060888593,0.0271322899819237,0.0272512130149367,0.0284404433450671,0.027417705261155,0.027399866806203,0.0271976976500809,0.0255089905812958,0.0249619446294358,0.0236894681761964,0.0227142993054895,0.0223159071448958,0.021852107316145,0.0211980306345733,0.0205677385596042,0.0196996004186091,0.0184509085719722,0.0182011702026448,0.0167503091998858,0.0164470554657026,0.0159059556654933,0.0152816097421749,0.0149129483398345,0.0144669869660356,0.0140983255636952,0.0135274950052326,0.0131053182380363,0.012837741413757,0.0121182570640282,0.0114998572923604,0.0111787651032252,0.0106792883645705,0.00982898867852726,0.00948411188278946,0.00942465036628294,0.00896679668918276,0.00850299686043193,0.00814028160974217,0.0075218818380744,0.00737322804680811,0.00696888973456379,0.00691537436970793,0.00655860527066882,0.00633859765959471,0.00595209780230235,0.00573209019122824,0.0050839596613072,0.0049115212634383,0.00499476738654743,0.00444772143468747,0.00428122918846922,0.00413852154885358,0.0038531062696223,0.00325254495290648,0.00329416801446104,0.00322876034630387,0.00302064503853106,0.00274117591095043,0.00249143754162306,0.00234278375035677,0.00230710684045286,0.00190276852820854,0.00179573779849681,0.00159356864237466,0.00165303015888117,0.00155194558082009,0.0014151840928551,0.00123679954333555,0.00105246884216535,9.87061174008182e-4,8.02730472837979e-4,8.26515079440586e-4,7.43268956331462e-4,5.17315193606698e-4,6.3029207496908e-4,5.64884406811911e-4,4.57853677100181e-4,4.16230615545619e-4,3.74607553991057e-4,2.37846066026068e-4,2.25953762724765e-4,1.48653791266292e-4,1.90276852820854e-4,1.42707639615641e-4,1.18923033013034e-4,5.9461516506517e-5,7.72999714584721e-5,7.13538198078204e-5,4.16230615545619e-5,1.36761487964989e-4]}},{\"_typename\":\"TH1D\",\"fUniqueID\":0,\"fBits\":521,\"fName\":\"h_sumkefa_pi_G18\",\"fTitle\":\"\",\"fLineColor\":632,\"fLineStyle\":2,\"fLineWidth\":3,\"fFillColor\":0,\"fFillStyle\":1001,\"fMarkerColor\":1,\"fMarkerStyle\":1,\"fMarkerSize\":1,\"fNcells\":102,\"fXaxis\":{\"_typename\":\"TAxis\",\"fUniqueID\":0,\"fBits\":0,\"fName\":\"xaxis\",\"fTitle\":\"#SigmaKE (GeV)\",\"fNdivisions\":510,\"fAxisColor\":1,\"fLabelColor\":1,\"fLabelFont\":42,\"fLabelOffset\":0.005,\"fLabelSize\":0.035,\"fTickLength\":0.03,\"fTitleOffset\":1,\"fTitleSize\":0.035,\"fTitleColor\":1,\"fTitleFont\":42,\"fNbins\":100,\"fXmin\":0,\"fXmax\":3,\"fXbins\":[],\"fFirst\":0,\"fLast\":0,\"fBits2\":0,\"fTimeDisplay\":false,\"fTimeFormat\":\"\",\"fLabels\":null,\"fModLabs\":null},\"fYaxis\":{\"_typename\":\"TAxis\",\"fUniqueID\":0,\"fBits\":0,\"fName\":\"yaxis\",\"fTitle\":\"Events\\/bin\",\"fNdivisions\":510,\"fAxisColor\":1,\"fLabelColor\":1,\"fLabelFont\":42,\"fLabelOffset\":0.005,\"fLabelSize\":0.035,\"fTickLength\":0.03,\"fTitleOffset\":0,\"fTitleSize\":0.035,\"fTitleColor\":1,\"fTitleFont\":42,\"fNbins\":1,\"fXmin\":0,\"fXmax\":1,\"fXbins\":[],\"fFirst\":0,\"fLast\":0,\"fBits2\":0,\"fTimeDisplay\":false,\"fTimeFormat\":\"\",\"fLabels\":null,\"fModLabs\":null},\"fZaxis\":{\"_typename\":\"TAxis\",\"fUniqueID\":0,\"fBits\":0,\"fName\":\"zaxis\",\"fTitle\":\"\",\"fNdivisions\":510,\"fAxisColor\":1,\"fLabelColor\":1,\"fLabelFont\":42,\"fLabelOffset\":0.005,\"fLabelSize\":0.035,\"fTickLength\":0.03,\"fTitleOffset\":1,\"fTitleSize\":0.035,\"fTitleColor\":1,\"fTitleFont\":42,\"fNbins\":1,\"fXmin\":0,\"fXmax\":1,\"fXbins\":[],\"fFirst\":0,\"fLast\":0,\"fBits2\":0,\"fTimeDisplay\":false,\"fTimeFormat\":\"\",\"fLabels\":null,\"fModLabs\":null},\"fBarOffset\":0,\"fBarWidth\":1000,\"fEntries\":218792,\"fTsumw\":1,\"fTsumw2\":4.57109422853643e-6,\"fTsumwx\":0.784497989919463,\"fTsumwx2\":0.901266336187673,\"fMaximum\":0.0306318166442683,\"fMinimum\":0,\"fNormFactor\":0,\"fContour\":[],\"fSumw2\":{\"$arr\":\"Float64\",\"len\":102,\"p\":3,\"v\":[1.18097988625691e-7,9.87493089605476e-8,9.46748029835466e-8,9.78717230578089e-8,1.01382066668764e-7,1.12351890452997e-7,1.12205626135874e-7,1.19205418455337e-7,1.25432099384293e-7,1.25160465652493e-7,1.27291745702001e-7,1.2528583506717e-7,1.25954471945447e-7,1.25536573896523e-7,1.19288998065122e-7,1.17303982332737e-7,1.1304142223372e-7,1.07650537402611e-7,1.07253534256134e-7,1.03805875352518e-7,1.01632805498118e-7,9.81851465945013e-8,9.16241472264074e-8,8.93674977622222e-8,8.75914310542987e-8,8.42482466629132e-8,7.87319924171272e-8,7.63708684407113e-8,7.34246871958028e-8,7.24844165857257e-8,6.99352384872943e-8,6.54428344613701e-8,6.4774197583093e-8,6.2413073606677e-8,6.07832712158766e-8,5.76490358489528e-8,5.47446444089367e-8,5.42431667502288e-8,5.16521988469051e-8,4.94582340900584e-8,4.71180050160886e-8,4.35867665026877e-8,4.40882441613956e-8,4.16853303800873e-8,3.95749452330252e-8,3.69630824272553e-8,3.58138627927166e-8,3.48318023777471e-8,3.27423121331312e-8,3.09453505227615e-8,2.96080767662073e-8,2.90857042050534e-8,2.76857457411607e-8,2.77693253509454e-8,2.4300771544883e-8,2.28172334712057e-8,2.26709691540826e-8,2.10620616657283e-8,1.99546318360819e-8,1.88263071039893e-8,1.72591894205274e-8,1.70711352985119e-8,1.4981645053896e-8,1.49607501514499e-8,1.30593140288494e-8,1.22862026383415e-8,1.15339861502798e-8,1.02385021986179e-8,9.67433983257163e-9,9.65344493012547e-9,9.21465197875613e-9,7.91916802709427e-9,7.48037507572493e-9,7.37590056349414e-9,6.03862680693996e-9,6.28936563629387e-9,5.51625424578598e-9,4.45061422103187e-9,3.99092636721638e-9,4.09540087944717e-9,3.17602517181617e-9,2.98797104980074e-9,2.98797104980074e-9,2.21485965929286e-9,2.21485965929286e-9,1.79696161036968e-9,1.96412082993895e-9,1.83875141526199e-9,8.77585902738679e-10,1.14921963453875e-9,8.5669100029252e-10,6.26847073384771e-10,4.59687853815499e-10,3.76108244030863e-10,3.34318439138545e-10,2.50738829353908e-10,2.29843926907749e-10,2.29843926907749e-10,5.43267463600135e-10]},\"fOption\":\"\",\"fFunctions\":{\"_typename\":\"TList\",\"name\":\"TList\",\"arr\":[],\"opt\":[]},\"fBufferSize\":0,\"fBuffer\":[],\"fBinStatErrOpt\":0,\"fStatOverflows\":2,\"fArray\":{\"$arr\":\"Float64\",\"len\":102,\"p\":3,\"v\":[0.0258358245796879,0.0216029913240632,0.0207116279494985,0.0214110053664646,0.0221789491968587,0.0245787736668404,0.0245467760072406,0.0260780925738003,0.0274402786539042,0.0273808544289332,0.0278471060402439,0.0274082809943044,0.0275545560096176,0.0274631341250469,0.0260963769507145,0.0256621229990035,0.0247296197763821,0.0235502774654197,0.0234634266750775,0.022709196127369,0.0222338023276012,0.0214795717798927,0.0200442481921322,0.0195505700154503,0.0191620270060247,0.0184306519294589,0.0172238830531253,0.0167073494053006,0.016062825119077,0.0158571258787929,0.0152994523829114,0.0143166671237761,0.0141703921084629,0.0136538584606383,0.0132973131108125,0.012611648976532,0.0119762668787654,0.0118665606172806,0.011299744932942,0.0108197800389457,0.0103078174853496,0.00953530256072699,0.00964500882221186,0.00911933298593017,0.00865765246884799,0.00808626569028094,0.00783485550771144,0.00762001407897022,0.00716290465611658,0.00676979055246245,0.00647724052183612,0.00636296316612271,0.00605669985281077,0.00607498422972491,0.00531618258778786,0.00499163489756178,0.00495963723796202,0.00460766298236472,0.00436539498825229,0.00411855589991132,0.00377572383277109,0.00373458398471426,0.00327747456186062,0.00327290346763208,0.00285693389283527,0.00268780340637942,0.00252324401415211,0.00223983617198285,0.00211641662781237,0.00211184553358383,0.00201585255478456,0.00173244471261531,0.00163645173381604,0.00161359626267336,0.00132104623204703,0.00137589936278946,0.00120676887633362,9.73643070678259e-4,8.73078997650457e-4,8.9593446879314e-4,6.94806322737537e-4,6.53666474680709e-4,6.53666474680709e-4,4.84535988224861e-4,4.84535988224861e-4,3.93114103654133e-4,4.29682857482424e-4,4.02256292111206e-4,1.9198595759853e-4,2.51410182569503e-4,1.87414863369994e-4,1.37132826856093e-4,1.00564073027801e-4,8.22796961136557e-5,7.31375076565828e-5,5.48531307424371e-5,5.02820365139007e-5,5.02820365139007e-5,1.18848449941947e-4]}},{\"_typename\":\"TPaveText\",\"fUniqueID\":0,\"fBits\":9,\"fLineColor\":1,\"fLineStyle\":1,\"fLineWidth\":1,\"fFillColor\":0,\"fFillStyle\":0,\"fX1\":1.18749101571432,\"fY1\":0.0373795121359296,\"fX2\":1.81250898428568,\"fY2\":0.0404949507801953,\"fX1NDC\":0.416664272098951,\"fY1NDC\":0.926144072629109,\"fX2NDC\":0.583335727901049,\"fY2NDC\":0.995000004768372,\"fBorderSize\":0,\"fInit\":1,\"fShadowColor\":1,\"fCornerRadius\":0,\"fOption\":\"blNDC\",\"fName\":\"title\",\"fTextAngle\":0,\"fTextSize\":0,\"fTextAlign\":22,\"fTextColor\":1,\"fTextFont\":42,\"fLabel\":\"\",\"fLongest\":9,\"fMargin\":0.05,\"fLines\":{\"_typename\":\"TList\",\"name\":\"TList\",\"arr\":[{\"_typename\":\"TLatex\",\"fUniqueID\":0,\"fBits\":0,\"fName\":\"\",\"fTitle\":\"all pions\",\"fTextAngle\":0,\"fTextSize\":0,\"fTextAlign\":0,\"fTextColor\":0,\"fTextFont\":0,\"fX\":0,\"fY\":0,\"fLineColor\":1,\"fLineStyle\":1,\"fLineWidth\":2,\"fLimitFactorSize\":3,\"fOriginSize\":0.0585275441408157}],\"opt\":[\"\"]}}],\"opt\":[\"\",\"HIST\",\"SAMEHIST\",\"blNDC\"]},\"fExecs\":{\"_typename\":\"TList\",\"name\":\"TList\",\"arr\":[],\"opt\":[]},\"fName\":\"c4_4\",\"fTitle\":\"c4_4\",\"fNumPaletteColor\":0,\"fNextPaletteColor\":0},{\"_typename\":\"TStyle\",\"fUniqueID\":0,\"fBits\":0,\"fName\":\"Modern\",\"fTitle\":\"Modern Style\",\"fLineColor\":1,\"fLineStyle\":1,\"fLineWidth\":1,\"fFillColor\":19,\"fFillStyle\":1001,\"fMarkerColor\":1,\"fMarkerStyle\":1,\"fMarkerSize\":1,\"fTextAngle\":0,\"fTextSize\":0.05,\"fTextAlign\":11,\"fTextColor\":1,\"fTextFont\":62,\"fXaxis\":{\"_typename\":\"TAttAxis\",\"fNdivisions\":510,\"fAxisColor\":1,\"fLabelColor\":1,\"fLabelFont\":42,\"fLabelOffset\":0.005,\"fLabelSize\":0.035,\"fTickLength\":0.03,\"fTitleOffset\":1,\"fTitleSize\":0.035,\"fTitleColor\":1,\"fTitleFont\":42},\"fYaxis\":{\"_typename\":\"TAttAxis\",\"fNdivisions\":510,\"fAxisColor\":1,\"fLabelColor\":1,\"fLabelFont\":42,\"fLabelOffset\":0.005,\"fLabelSize\":0.035,\"fTickLength\":0.03,\"fTitleOffset\":0,\"fTitleSize\":0.035,\"fTitleColor\":1,\"fTitleFont\":42},\"fZaxis\":{\"_typename\":\"TAttAxis\",\"fNdivisions\":510,\"fAxisColor\":1,\"fLabelColor\":1,\"fLabelFont\":42,\"fLabelOffset\":0.005,\"fLabelSize\":0.035,\"fTickLength\":0.03,\"fTitleOffset\":1,\"fTitleSize\":0.035,\"fTitleColor\":1,\"fTitleFont\":42},\"fBarWidth\":1,\"fBarOffset\":0,\"fColorModelPS\":0,\"fDrawBorder\":0,\"fOptLogx\":0,\"fOptLogy\":0,\"fOptLogz\":0,\"fOptDate\":0,\"fOptStat\":0,\"fOptTitle\":1,\"fOptFile\":0,\"fOptFit\":0,\"fShowEventStatus\":0,\"fShowEditor\":0,\"fShowToolBar\":0,\"fNumberContours\":20,\"fAttDate\":{\"_typename\":\"TAttText\",\"fTextAngle\":0,\"fTextSize\":0.025,\"fTextAlign\":11,\"fTextColor\":1,\"fTextFont\":62},\"fDateX\":0.01,\"fDateY\":0.01,\"fEndErrorSize\":2,\"fErrorX\":0.5,\"fFuncColor\":2,\"fFuncStyle\":1,\"fFuncWidth\":2,\"fGridColor\":0,\"fGridStyle\":3,\"fGridWidth\":1,\"fLegendBorderSize\":1,\"fLegendFillColor\":0,\"fLegendFont\":42,\"fLegendTextSize\":0,\"fHatchesLineWidth\":1,\"fHatchesSpacing\":1,\"fFrameFillColor\":0,\"fFrameLineColor\":1,\"fFrameFillStyle\":1001,\"fFrameLineStyle\":1,\"fFrameLineWidth\":1,\"fFrameBorderSize\":1,\"fFrameBorderMode\":0,\"fHistFillColor\":0,\"fHistLineColor\":602,\"fHistFillStyle\":1001,\"fHistLineStyle\":1,\"fHistLineWidth\":1,\"fHistMinimumZero\":false,\"fHistTopMargin\":0.05,\"fCanvasPreferGL\":false,\"fCanvasColor\":0,\"fCanvasBorderSize\":2,\"fCanvasBorderMode\":0,\"fCanvasDefH\":500,\"fCanvasDefW\":700,\"fCanvasDefX\":10,\"fCanvasDefY\":10,\"fPadColor\":0,\"fPadBorderSize\":2,\"fPadBorderMode\":0,\"fPadBottomMargin\":0.1,\"fPadTopMargin\":0.1,\"fPadLeftMargin\":0.1,\"fPadRightMargin\":0.1,\"fPadGridX\":false,\"fPadGridY\":false,\"fPadTickX\":0,\"fPadTickY\":0,\"fPaperSizeX\":20,\"fPaperSizeY\":26,\"fScreenFactor\":1,\"fStatColor\":0,\"fStatTextColor\":1,\"fStatBorderSize\":1,\"fStatFont\":42,\"fStatFontSize\":0,\"fStatStyle\":1001,\"fStatFormat\":\"6.4g\",\"fStatX\":0.98,\"fStatY\":0.935,\"fStatW\":0.2,\"fStatH\":0.16,\"fStripDecimals\":true,\"fTitleAlign\":23,\"fTitleColor\":0,\"fTitleTextColor\":1,\"fTitleBorderSize\":0,\"fTitleFont\":42,\"fTitleFontSize\":0.05,\"fTitleStyle\":0,\"fTitleX\":0.5,\"fTitleY\":0.995,\"fTitleW\":0,\"fTitleH\":0,\"fLegoInnerR\":0.5,\"fLineStyles\":[\"\",\"  \",\" 12 12\",\" 4 8\",\" 12 16 4 16\",\" 20 12 4 12\",\" 20 12 4 12 4 12 4 12\",\" 20 20\",\" 20 12 4 12 4 12\",\" 80 20\",\" 80 40 4 40\",\"  \",\"  \",\"  \",\"  \",\"  \",\"  \",\"  \",\"  \",\"  \",\"  \",\"  \",\"  \",\"  \",\"  \",\"  \",\"  \",\"  \",\"  \",\"  \"],\"fHeaderPS\":\"\",\"fTitlePS\":\"\",\"fFitFormat\":\"5.4g\",\"fPaintTextFormat\":\"g\",\"fLineScalePS\":3,\"fJoinLinePS\":0,\"fCapLinePS\":0,\"fTimeOffset\":788918400,\"fImageScaling\":1}],\"opt\":[\"\",\"\",\"\",\"\",\"\"]},\"fExecs\":null,\"fName\":\"c4\",\"fTitle\":\"\",\"fNumPaletteColor\":0,\"fNextPaletteColor\":0,\"fDISPLAY\":\"$DISPLAY\",\"fDoubleBuffer\":0,\"fRetained\":true,\"fXsizeUser\":0,\"fYsizeUser\":0,\"fXsizeReal\":20,\"fYsizeReal\":14.28571,\"fWindowTopX\":0,\"fWindowTopY\":0,\"fWindowWidth\":0,\"fWindowHeight\":0,\"fCw\":696,\"fCh\":472,\"fCatt\":{\"_typename\":\"TAttCanvas\",\"fXBetween\":2,\"fYBetween\":2,\"fTitleFromTop\":1.2,\"fXdate\":0.2,\"fYdate\":0.3,\"fAdate\":1},\"kMoveOpaque\":true,\"kResizeOpaque\":true,\"fHighLightColor\":2,\"fBatch\":true,\"kShowEventStatus\":false,\"kAutoExec\":true,\"kMenuBar\":true});\n",
       "   Core.settings.HandleKeys = false;\n",
       "   Core.draw(\"root_plot_1659466021591\", obj, \"\");\n",
       "}\n",
       "\n",
       "function script_load_root_plot_1659466021591(src, on_error) {\n",
       "    let script = document.createElement('script');\n",
       "    script.src = src;\n",
       "    script.onload = function() { display_root_plot_1659466021591(JSROOT); };\n",
       "    script.onerror = function() { script.remove(); on_error(); };\n",
       "    document.head.appendChild(script);\n",
       "}\n",
       "\n",
       "if (typeof requirejs !== 'undefined') {\n",
       "\n",
       "    // We are in jupyter notebooks, use require.js which should be configured already\n",
       "    requirejs.config({\n",
       "       paths: { 'JSRootCore' : [ 'scripts/JSRoot.core', 'https://root.cern/js/6.1.1/scripts/JSRoot.core.min', 'https://jsroot.gsi.de/6.1.1/scripts/JSRoot.core.min' ] }\n",
       "    })(['JSRootCore'],  function(Core) {\n",
       "       display_root_plot_1659466021591(Core);\n",
       "    });\n",
       "\n",
       "} else if (typeof JSROOT !== 'undefined') {\n",
       "\n",
       "   // JSROOT already loaded, just use it\n",
       "   display_root_plot_1659466021591(JSROOT);\n",
       "\n",
       "} else {\n",
       "\n",
       "    // We are in jupyterlab without require.js, directly loading jsroot\n",
       "    // Jupyterlab might be installed in a different base_url so we need to know it.\n",
       "    try {\n",
       "        var base_url = JSON.parse(document.getElementById('jupyter-config-data').innerHTML).baseUrl;\n",
       "    } catch(_) {\n",
       "        var base_url = '/';\n",
       "    }\n",
       "\n",
       "    // Try loading a local version of requirejs and fallback to cdn if not possible.\n",
       "    script_load_root_plot_1659466021591(base_url + 'static/scripts/JSRoot.core.js', function(){\n",
       "        console.error('Fail to load JSROOT locally, please check your jupyter_notebook_config.py file');\n",
       "        script_load_root_plot_1659466021591('https://root.cern/js/6.1.1/scripts/JSRoot.core.min.js', function(){\n",
       "            document.getElementById(\"root_plot_1659466021591\").innerHTML = \"Failed to load JSROOT\";\n",
       "        });\n",
       "    });\n",
       "}\n",
       "\n",
       "</script>\n"
      ],
      "text/plain": [
       "<IPython.core.display.HTML object>"
      ]
     },
     "metadata": {},
     "output_type": "display_data"
    }
   ],
   "source": [
    "c4 = ROOT.TCanvas(\"c4\")\n",
    "c4.Divide(2,2)\n",
    "\n",
    "c4.cd(2)\n",
    "h_sumkefa_neutron_G21.SetTitle(\"all neutrons;#SigmaKE (GeV);Events (Normalized)\")\n",
    "h_sumkefa_neutron_G21.DrawNormalized()\n",
    "h_sumkefa_neutron_G18.DrawNormalized(\"same\")\n",
    "\n",
    "c4.cd(3)\n",
    "h_sumkefa_proton_G21.SetTitle(\"all protons;#SigmaKE (GeV);Events (Normalized)\")\n",
    "h_sumkefa_proton_G21.DrawNormalized()\n",
    "h_sumkefa_proton_G18.DrawNormalized(\"same\")\n",
    "\n",
    "c4.cd(4)\n",
    "h_sumkefa_pi_G21.SetTitle(\"all pions;#SigmaKE (GeV);Events (Normalized)\")\n",
    "h_sumkefa_pi_G21.DrawNormalized()\n",
    "h_sumkefa_pi_G18.DrawNormalized(\"same\")\n",
    "\n",
    "\n",
    "c4.cd(1)\n",
    "h_sumkefa_had_G21.SetTitle(\"all hadrons;#SigmaKE (GeV);Events (Normalized)\")\n",
    "h_sumkefa_had_G21.DrawNormalized()\n",
    "h_sumkefa_had_G18.DrawNormalized(\"same\")\n",
    "\n",
    "leg = ROOT.TLegend(0.4,0.7,0.88,0.88)\n",
    "leg.AddEntry(\"h_sumkefa_had_G21\",\"G21_11b\")\n",
    "leg.AddEntry(\"h_sumkefa_had_G18\",\"G18_02a\")\n",
    "leg.Draw()\n",
    "\n",
    "c4.Draw()\n",
    "c4.SaveAs(\"sumkefa_DefA_had_breakdown.pdf\")"
   ]
  },
  {
   "cell_type": "code",
   "execution_count": null,
   "metadata": {},
   "outputs": [],
   "source": []
  },
  {
   "cell_type": "code",
   "execution_count": 77,
   "metadata": {},
   "outputs": [],
   "source": [
    "title=\";Multiplicity;Normalized Events\"\n",
    "nbins=10\n",
    "xmin=-0.5\n",
    "xmax=9.5\n",
    "\n",
    "h_nfa_had_G21 = df_gst_GEM21_11b_DefA_trig.Histo1D((\"h_nfa_had_G21\",title,nbins,xmin,xmax),\"nfa_had\")\n",
    "h_nfa_had_G18 = df_gst_G18_02a_DefA_trig.Histo1D((\"h_nfa_had_G18\",title,nbins,xmin,xmax),\"nfa_had\")\n",
    "\n",
    "h_nfa_neutron_G21 = df_gst_GEM21_11b_DefA_trig.Histo1D((\"h_nfa_neutron_G21\",title,nbins,xmin,xmax),\"nfa_neutron\")\n",
    "h_nfa_neutron_G18 = df_gst_G18_02a_DefA_trig.Histo1D((\"h_nfa_neutron_G18\",title,nbins,xmin,xmax),\"nfa_neutron\")\n",
    "\n",
    "h_nfa_proton_G21 = df_gst_GEM21_11b_DefA_trig.Histo1D((\"h_nfa_proton_G21\",title,nbins,xmin,xmax),\"nfa_proton\")\n",
    "h_nfa_proton_G18 = df_gst_G18_02a_DefA_trig.Histo1D((\"h_nfa_proton_G18\",title,nbins,xmin,xmax),\"nfa_proton\")\n",
    "\n",
    "h_nfa_pi_G21 = df_gst_GEM21_11b_DefA_trig.Histo1D((\"h_nfa_pi_G21\",title,nbins,xmin,xmax),\"nfa_pi\")\n",
    "h_nfa_pi_G18 = df_gst_G18_02a_DefA_trig.Histo1D((\"h_nfa_pi_G18\",title,nbins,xmin,xmax),\"nfa_pi\")"
   ]
  },
  {
   "cell_type": "code",
   "execution_count": 78,
   "metadata": {},
   "outputs": [],
   "source": [
    "format_hists([h_nfa_had_G21],[ROOT.kBlue,ROOT.kBlue],line_width=2)\n",
    "format_hists([h_nfa_neutron_G21],[ROOT.kBlue,ROOT.kBlue],line_width=2)\n",
    "format_hists([h_nfa_proton_G21],[ROOT.kBlue,ROOT.kBlue],line_width=2)\n",
    "format_hists([h_nfa_pi_G21],[ROOT.kBlue,ROOT.kBlue],line_width=2)\n",
    "\n",
    "\n",
    "format_hists([h_nfa_had_G18],[ROOT.kRed,ROOT.kRed],line_style=2)\n",
    "format_hists([h_nfa_neutron_G18],[ROOT.kRed],line_style=2)\n",
    "format_hists([h_nfa_proton_G18],[ROOT.kRed],line_style=2)\n",
    "format_hists([h_nfa_pi_G18],[ROOT.kRed],line_style=2)"
   ]
  },
  {
   "cell_type": "code",
   "execution_count": 111,
   "metadata": {},
   "outputs": [
    {
     "name": "stderr",
     "output_type": "stream",
     "text": [
      "Warning in <TCanvas::Constructor>: Deleting canvas with same name: c4\n",
      "Info in <TCanvas::Print>: pdf file nfa_DefA_had_breakdown.pdf has been created\n"
     ]
    },
    {
     "data": {
      "text/html": [
       "\n",
       "\n",
       "<div id=\"root_plot_1659466175298\"\n",
       "     style=\"width: 696px; height: 472px\">\n",
       "</div>\n",
       "<script>\n",
       "\n",
       "function display_root_plot_1659466175298(Core) {\n",
       "   let obj = Core.parse({\"_typename\":\"TCanvas\",\"fUniqueID\":0,\"fBits\":3342344,\"fLineColor\":1,\"fLineStyle\":1,\"fLineWidth\":1,\"fFillColor\":0,\"fFillStyle\":1001,\"fLeftMargin\":0.1,\"fRightMargin\":0.1,\"fBottomMargin\":0.1,\"fTopMargin\":0.1,\"fXfile\":2,\"fYfile\":2,\"fAfile\":1,\"fXstat\":0.99,\"fYstat\":0.99,\"fAstat\":2,\"fFrameFillColor\":0,\"fFrameLineColor\":1,\"fFrameFillStyle\":1001,\"fFrameLineStyle\":1,\"fFrameLineWidth\":1,\"fFrameBorderSize\":1,\"fFrameBorderMode\":0,\"fX1\":0,\"fY1\":0,\"fX2\":1,\"fY2\":1,\"fXtoAbsPixelk\":5e-5,\"fXtoPixelk\":5e-5,\"fXtoPixel\":696,\"fYtoAbsPixelk\":472.00005,\"fYtoPixelk\":472.00005,\"fYtoPixel\":-472,\"fUtoAbsPixelk\":5e-5,\"fUtoPixelk\":5e-5,\"fUtoPixel\":696,\"fVtoAbsPixelk\":472.00005,\"fVtoPixelk\":472,\"fVtoPixel\":-472,\"fAbsPixeltoXk\":0,\"fPixeltoXk\":0,\"fPixeltoX\":0.0014367816091954,\"fAbsPixeltoYk\":1,\"fPixeltoYk\":0,\"fPixeltoY\":-0.00211864406779661,\"fXlowNDC\":0,\"fYlowNDC\":0,\"fXUpNDC\":1,\"fYUpNDC\":1,\"fWNDC\":1,\"fHNDC\":1,\"fAbsXlowNDC\":0,\"fAbsYlowNDC\":0,\"fAbsWNDC\":1,\"fAbsHNDC\":1,\"fUxmin\":0,\"fUymin\":0,\"fUxmax\":1,\"fUymax\":1,\"fTheta\":30,\"fPhi\":30,\"fAspectRatio\":0,\"fNumber\":0,\"fTickx\":0,\"fTicky\":0,\"fLogx\":0,\"fLogy\":0,\"fLogz\":0,\"fPadPaint\":0,\"fCrosshair\":0,\"fCrosshairPos\":0,\"fBorderSize\":2,\"fBorderMode\":0,\"fModified\":false,\"fGridx\":false,\"fGridy\":false,\"fAbsCoord\":false,\"fEditable\":true,\"fFixedAspectRatio\":false,\"fPrimitives\":{\"_typename\":\"TList\",\"name\":\"TList\",\"arr\":[{\"_typename\":\"TPad\",\"fUniqueID\":0,\"fBits\":9,\"fLineColor\":1,\"fLineStyle\":1,\"fLineWidth\":1,\"fFillColor\":0,\"fFillStyle\":1001,\"fLeftMargin\":0.1,\"fRightMargin\":0.1,\"fBottomMargin\":0.1,\"fTopMargin\":0.1,\"fXfile\":2,\"fYfile\":2,\"fAfile\":1,\"fXstat\":0.99,\"fYstat\":0.99,\"fAstat\":2,\"fFrameFillColor\":0,\"fFrameLineColor\":1,\"fFrameFillStyle\":1001,\"fFrameLineStyle\":1,\"fFrameLineWidth\":1,\"fFrameBorderSize\":1,\"fFrameBorderMode\":0,\"fX1\":-1.75000009313226,\"fY1\":-7.90027112146701,\"fX2\":10.7500000931323,\"fY2\":0.599709521804838,\"fXtoAbsPixelk\":53.7312516801358,\"fXtoPixelk\":46.7712518357039,\"fXtoPixel\":26.7263996266365,\"fYtoAbsPixelk\":20.7048144591333,\"fYtoPixelk\":15.9848145646336,\"fYtoPixel\":-26.6541783704336,\"fUtoAbsPixelk\":6.96004984443188,\"fUtoPixelk\":5e-5,\"fUtoPixel\":334.080000311136,\"fVtoAbsPixelk\":231.2800501055,\"fVtoPixelk\":226.560000211,\"fVtoPixel\":-226.560000211,\"fAbsPixeltoXk\":-2.01041675761614,\"fPixeltoXk\":-1.75000009313226,\"fPixeltoX\":0.0374161882621617,\"fAbsPixeltoYk\":0.776792447749969,\"fPixeltoYk\":-7.90027112146701,\"fPixeltoY\":-0.0375175698947547,\"fXlowNDC\":0.00999999977648258,\"fYlowNDC\":0.509999999776483,\"fXUpNDC\":0.490000000223517,\"fYUpNDC\":0.990000000223517,\"fWNDC\":0.480000000447035,\"fHNDC\":0.480000000447035,\"fAbsXlowNDC\":0.00999999977648258,\"fAbsYlowNDC\":0.509999999776483,\"fAbsWNDC\":0.480000000447035,\"fAbsHNDC\":0.480000000447035,\"fUxmin\":-0.5,\"fUymin\":-7.05027300647599,\"fUxmax\":9.5,\"fUymax\":-0.250288593186182,\"fTheta\":30,\"fPhi\":30,\"fAspectRatio\":0,\"fNumber\":1,\"fTickx\":0,\"fTicky\":0,\"fLogx\":0,\"fLogy\":1,\"fLogz\":0,\"fPadPaint\":0,\"fCrosshair\":0,\"fCrosshairPos\":0,\"fBorderSize\":2,\"fBorderMode\":0,\"fModified\":false,\"fGridx\":false,\"fGridy\":false,\"fAbsCoord\":false,\"fEditable\":true,\"fFixedAspectRatio\":false,\"fPrimitives\":{\"_typename\":\"TList\",\"name\":\"TList\",\"arr\":[{\"_typename\":\"TFrame\",\"fUniqueID\":0,\"fBits\":8,\"fLineColor\":1,\"fLineStyle\":1,\"fLineWidth\":1,\"fFillColor\":0,\"fFillStyle\":1001,\"fX1\":-0.5,\"fY1\":-7.05027300647599,\"fX2\":9.5,\"fY2\":-0.250288593186182,\"fBorderSize\":1,\"fBorderMode\":0},{\"_typename\":\"TH1D\",\"fUniqueID\":0,\"fBits\":521,\"fName\":\"h_nfa_had_G21\",\"fTitle\":\"all hadrons\",\"fLineColor\":600,\"fLineStyle\":1,\"fLineWidth\":2,\"fFillColor\":0,\"fFillStyle\":1001,\"fMarkerColor\":1,\"fMarkerStyle\":1,\"fMarkerSize\":1,\"fNcells\":12,\"fXaxis\":{\"_typename\":\"TAxis\",\"fUniqueID\":0,\"fBits\":0,\"fName\":\"xaxis\",\"fTitle\":\"multiplicity\",\"fNdivisions\":510,\"fAxisColor\":1,\"fLabelColor\":1,\"fLabelFont\":42,\"fLabelOffset\":0.005,\"fLabelSize\":0.035,\"fTickLength\":0.03,\"fTitleOffset\":1,\"fTitleSize\":0.035,\"fTitleColor\":1,\"fTitleFont\":42,\"fNbins\":10,\"fXmin\":-0.5,\"fXmax\":9.5,\"fXbins\":[],\"fFirst\":0,\"fLast\":0,\"fBits2\":0,\"fTimeDisplay\":false,\"fTimeFormat\":\"\",\"fLabels\":null,\"fModLabs\":null},\"fYaxis\":{\"_typename\":\"TAxis\",\"fUniqueID\":0,\"fBits\":0,\"fName\":\"yaxis\",\"fTitle\":\"Events (Normalized)\",\"fNdivisions\":510,\"fAxisColor\":1,\"fLabelColor\":1,\"fLabelFont\":42,\"fLabelOffset\":0.005,\"fLabelSize\":0.035,\"fTickLength\":0.03,\"fTitleOffset\":0,\"fTitleSize\":0.035,\"fTitleColor\":1,\"fTitleFont\":42,\"fNbins\":1,\"fXmin\":0,\"fXmax\":1,\"fXbins\":[],\"fFirst\":0,\"fLast\":0,\"fBits2\":0,\"fTimeDisplay\":false,\"fTimeFormat\":\"\",\"fLabels\":null,\"fModLabs\":null},\"fZaxis\":{\"_typename\":\"TAxis\",\"fUniqueID\":0,\"fBits\":0,\"fName\":\"zaxis\",\"fTitle\":\"\",\"fNdivisions\":510,\"fAxisColor\":1,\"fLabelColor\":1,\"fLabelFont\":42,\"fLabelOffset\":0.005,\"fLabelSize\":0.035,\"fTickLength\":0.03,\"fTitleOffset\":1,\"fTitleSize\":0.035,\"fTitleColor\":1,\"fTitleFont\":42,\"fNbins\":1,\"fXmin\":0,\"fXmax\":1,\"fXbins\":[],\"fFirst\":0,\"fLast\":0,\"fBits2\":0,\"fTimeDisplay\":false,\"fTimeFormat\":\"\",\"fLabels\":null,\"fModLabs\":null},\"fBarOffset\":0,\"fBarWidth\":1000,\"fEntries\":1122724,\"fTsumw\":1,\"fTsumw2\":8.90690855455125e-7,\"fTsumwx\":0.711126688304517,\"fTsumwx2\":1.3112777494736,\"fMaximum\":0.561967767679323,\"fMinimum\":8.90690855455125e-8,\"fNormFactor\":0,\"fContour\":[],\"fSumw2\":{\"$arr\":\"Float64\",\"len\":12,\"p\":1,\"v\":[4.55035956120457e-7,2.91077610358038e-7,1.04300708053267e-7,3.02028740438719e-8,7.83096240411494e-9,1.76595302518082e-9,3.99838420795657e-10,6.26730857993192e-11,1.34866133998535e-11,7.93330199991383e-13]},\"fOption\":\"\",\"fFunctions\":{\"_typename\":\"TList\",\"name\":\"TList\",\"arr\":[],\"opt\":[]},\"fBufferSize\":0,\"fBuffer\":[],\"fBinStatErrOpt\":0,\"fStatOverflows\":2,\"fArray\":{\"$arr\":\"Float64\",\"len\":12,\"p\":1,\"v\":[0.510879788799384,0.326799819011618,0.117100908148396,0.0339094915580321,0.00879200943419754,0.00198267784424311,4.48908191149383e-4,7.03645775809549e-5,1.51417445427371e-5,8.90690855455125e-7]}},{\"_typename\":\"TH1D\",\"fUniqueID\":0,\"fBits\":521,\"fName\":\"h_nfa_had_G18\",\"fTitle\":\"\",\"fLineColor\":632,\"fLineStyle\":2,\"fLineWidth\":3,\"fFillColor\":0,\"fFillStyle\":1001,\"fMarkerColor\":1,\"fMarkerStyle\":1,\"fMarkerSize\":1,\"fNcells\":12,\"fXaxis\":{\"_typename\":\"TAxis\",\"fUniqueID\":0,\"fBits\":0,\"fName\":\"xaxis\",\"fTitle\":\"Multiplicity\",\"fNdivisions\":510,\"fAxisColor\":1,\"fLabelColor\":1,\"fLabelFont\":42,\"fLabelOffset\":0.005,\"fLabelSize\":0.035,\"fTickLength\":0.03,\"fTitleOffset\":1,\"fTitleSize\":0.035,\"fTitleColor\":1,\"fTitleFont\":42,\"fNbins\":10,\"fXmin\":-0.5,\"fXmax\":9.5,\"fXbins\":[],\"fFirst\":0,\"fLast\":0,\"fBits2\":0,\"fTimeDisplay\":false,\"fTimeFormat\":\"\",\"fLabels\":null,\"fModLabs\":null},\"fYaxis\":{\"_typename\":\"TAxis\",\"fUniqueID\":0,\"fBits\":0,\"fName\":\"yaxis\",\"fTitle\":\"Normalized Events\",\"fNdivisions\":510,\"fAxisColor\":1,\"fLabelColor\":1,\"fLabelFont\":42,\"fLabelOffset\":0.005,\"fLabelSize\":0.035,\"fTickLength\":0.03,\"fTitleOffset\":0,\"fTitleSize\":0.035,\"fTitleColor\":1,\"fTitleFont\":42,\"fNbins\":1,\"fXmin\":0,\"fXmax\":1,\"fXbins\":[],\"fFirst\":0,\"fLast\":0,\"fBits2\":0,\"fTimeDisplay\":false,\"fTimeFormat\":\"\",\"fLabels\":null,\"fModLabs\":null},\"fZaxis\":{\"_typename\":\"TAxis\",\"fUniqueID\":0,\"fBits\":0,\"fName\":\"zaxis\",\"fTitle\":\"\",\"fNdivisions\":510,\"fAxisColor\":1,\"fLabelColor\":1,\"fLabelFont\":42,\"fLabelOffset\":0.005,\"fLabelSize\":0.035,\"fTickLength\":0.03,\"fTitleOffset\":1,\"fTitleSize\":0.035,\"fTitleColor\":1,\"fTitleFont\":42,\"fNbins\":1,\"fXmin\":0,\"fXmax\":1,\"fXbins\":[],\"fFirst\":0,\"fLast\":0,\"fBits2\":0,\"fTimeDisplay\":false,\"fTimeFormat\":\"\",\"fLabels\":null,\"fModLabs\":null},\"fBarOffset\":0,\"fBarWidth\":1000,\"fEntries\":1249035,\"fTsumw\":1,\"fTsumw2\":8.00618718145383e-7,\"fTsumwx\":0.709112001754956,\"fTsumwx2\":1.30433679147245,\"fMaximum\":0.566319011331957,\"fMinimum\":8.00618718145383e-8,\"fNormFactor\":0,\"fContour\":[],\"fSumw2\":{\"$arr\":\"Float64\",\"len\":12,\"p\":1,\"v\":[4.12186909921775e-7,2.55091076422266e-7,9.78446101947746e-8,2.7160042340926e-8,6.5880986307004e-9,1.42748546901827e-9,2.72420891034021e-10,4.16643715699091e-11,5.7689129866028e-12,6.40990331844756e-13,6.40990331844756e-13]},\"fOption\":\"\",\"fFunctions\":{\"_typename\":\"TList\",\"name\":\"TList\",\"arr\":[],\"opt\":[]},\"fBufferSize\":0,\"fBuffer\":[],\"fBinStatErrOpt\":0,\"fStatOverflows\":2,\"fArray\":{\"$arr\":\"Float64\",\"len\":12,\"p\":1,\"v\":[0.514835464847234,0.318617427548009,0.12221124485002,0.0339238163252562,0.00822875918509824,0.00178297788530977,3.40262955211788e-4,5.20402166794499e-5,7.20556846330845e-6,8.00618718145383e-7,8.00618718145383e-7]}},{\"_typename\":\"TLegend\",\"fUniqueID\":0,\"fBits\":8,\"fLineColor\":1,\"fLineStyle\":1,\"fLineWidth\":1,\"fFillColor\":0,\"fFillStyle\":1001,\"fX1\":3.24999998137355,\"fY1\":-1.95028467117672,\"fX2\":9.25000007078052,\"fY2\":-0.420288155387784,\"fX1NDC\":0.4,\"fY1NDC\":0.7,\"fX2NDC\":0.88,\"fY2NDC\":0.88,\"fBorderSize\":1,\"fInit\":1,\"fShadowColor\":1,\"fCornerRadius\":0,\"fOption\":\"brNDC\",\"fName\":\"TPave\",\"fTextAngle\":0,\"fTextSize\":0,\"fTextAlign\":12,\"fTextColor\":1,\"fTextFont\":42,\"fPrimitives\":{\"_typename\":\"TList\",\"name\":\"TList\",\"arr\":[{\"_typename\":\"TLegendEntry\",\"fUniqueID\":0,\"fBits\":0,\"fTextAngle\":0,\"fTextSize\":0,\"fTextAlign\":0,\"fTextColor\":0,\"fTextFont\":42,\"fLineColor\":600,\"fLineStyle\":1,\"fLineWidth\":2,\"fFillColor\":0,\"fFillStyle\":1001,\"fMarkerColor\":1,\"fMarkerStyle\":1,\"fMarkerSize\":1,\"fObject\":{\"$ref\":5},\"fLabel\":\"G21_11b\",\"fOption\":\"lpf\"},{\"_typename\":\"TLegendEntry\",\"fUniqueID\":0,\"fBits\":0,\"fTextAngle\":0,\"fTextSize\":0,\"fTextAlign\":0,\"fTextColor\":0,\"fTextFont\":42,\"fLineColor\":632,\"fLineStyle\":2,\"fLineWidth\":3,\"fFillColor\":0,\"fFillStyle\":1001,\"fMarkerColor\":1,\"fMarkerStyle\":1,\"fMarkerSize\":1,\"fObject\":{\"$ref\":10},\"fLabel\":\"G18_02a\",\"fOption\":\"lpf\"}],\"opt\":[\"lpf\",\"lpf\"]},\"fEntrySeparation\":0.1,\"fMargin\":0.25,\"fNColumns\":1,\"fColumnSeparation\":0},{\"_typename\":\"TPaveText\",\"fUniqueID\":0,\"fBits\":9,\"fLineColor\":1,\"fLineStyle\":1,\"fLineWidth\":1,\"fFillColor\":0,\"fFillStyle\":0,\"fX1\":3.17768197374818,\"fY1\":0.0619777365087826,\"fX2\":5.82231802625182,\"fY2\":0.557209659119545,\"fX1NDC\":0.39421455947618,\"fY1NDC\":0.936737292958226,\"fX2NDC\":0.60578544052382,\"fY2NDC\":0.995000004768372,\"fBorderSize\":0,\"fInit\":1,\"fShadowColor\":1,\"fCornerRadius\":0,\"fOption\":\"blNDC\",\"fName\":\"title\",\"fTextAngle\":0,\"fTextSize\":0,\"fTextAlign\":22,\"fTextColor\":1,\"fTextFont\":42,\"fLabel\":\"\",\"fLongest\":11,\"fMargin\":0.05,\"fLines\":{\"_typename\":\"TList\",\"name\":\"TList\",\"arr\":[{\"_typename\":\"TLatex\",\"fUniqueID\":0,\"fBits\":0,\"fName\":\"\",\"fTitle\":\"all hadrons\",\"fTextAngle\":0,\"fTextSize\":0,\"fTextAlign\":0,\"fTextColor\":0,\"fTextFont\":0,\"fX\":0,\"fY\":0,\"fLineColor\":1,\"fLineStyle\":1,\"fLineWidth\":2,\"fLimitFactorSize\":3,\"fOriginSize\":0.0495233051478863}],\"opt\":[\"\"]}}],\"opt\":[\"\",\"HIST\",\"SAMEHIST\",\"\",\"blNDC\"]},\"fExecs\":{\"_typename\":\"TList\",\"name\":\"TList\",\"arr\":[],\"opt\":[]},\"fName\":\"c4_1\",\"fTitle\":\"c4_1\",\"fNumPaletteColor\":0,\"fNextPaletteColor\":0},{\"_typename\":\"TPad\",\"fUniqueID\":0,\"fBits\":9,\"fLineColor\":1,\"fLineStyle\":1,\"fLineWidth\":1,\"fFillColor\":0,\"fFillStyle\":1001,\"fLeftMargin\":0.1,\"fRightMargin\":0.1,\"fBottomMargin\":0.1,\"fTopMargin\":0.1,\"fXfile\":2,\"fYfile\":2,\"fAfile\":1,\"fXstat\":0.99,\"fYstat\":0.99,\"fAstat\":2,\"fFrameFillColor\":0,\"fFrameLineColor\":1,\"fFrameFillStyle\":1001,\"fFrameLineStyle\":1,\"fFrameLineWidth\":1,\"fFrameBorderSize\":1,\"fFrameBorderMode\":0,\"fX1\":-1.75000009313226,\"fY1\":-7.92172591242507,\"fX2\":10.7500000931323,\"fY2\":0.792802627639313,\"fXtoAbsPixelk\":401.731251680136,\"fXtoPixelk\":46.7712518357039,\"fXtoPixel\":26.7263996266365,\"fYtoAbsPixelk\":25.3313041533466,\"fYtoPixelk\":20.6113042588468,\"fYtoPixel\":-25.9979641089484,\"fUtoAbsPixelk\":354.960049844432,\"fUtoPixelk\":5e-5,\"fUtoPixel\":334.080000311136,\"fVtoAbsPixelk\":231.2800501055,\"fVtoPixelk\":226.560000211,\"fVtoPixel\":-226.560000211,\"fAbsPixeltoXk\":-15.0312502728484,\"fPixeltoXk\":-1.75000009313226,\"fPixeltoX\":0.0374161882621617,\"fAbsPixeltoYk\":0.974355301330219,\"fPixeltoYk\":-7.92172591242507,\"fPixeltoY\":-0.0384645503705347,\"fXlowNDC\":0.509999999776483,\"fYlowNDC\":0.509999999776483,\"fXUpNDC\":0.990000000223517,\"fYUpNDC\":0.990000000223517,\"fWNDC\":0.480000000447035,\"fHNDC\":0.480000000447035,\"fAbsXlowNDC\":0.509999999776483,\"fAbsYlowNDC\":0.509999999776483,\"fAbsWNDC\":0.480000000447035,\"fAbsHNDC\":0.480000000447035,\"fUxmin\":-0.5,\"fUymin\":-7.05027300647599,\"fUxmax\":9.5,\"fUymax\":-0.0786502783097651,\"fTheta\":30,\"fPhi\":30,\"fAspectRatio\":0,\"fNumber\":2,\"fTickx\":0,\"fTicky\":0,\"fLogx\":0,\"fLogy\":1,\"fLogz\":0,\"fPadPaint\":0,\"fCrosshair\":0,\"fCrosshairPos\":0,\"fBorderSize\":2,\"fBorderMode\":0,\"fModified\":false,\"fGridx\":false,\"fGridy\":false,\"fAbsCoord\":false,\"fEditable\":true,\"fFixedAspectRatio\":false,\"fPrimitives\":{\"_typename\":\"TList\",\"name\":\"TList\",\"arr\":[{\"_typename\":\"TFrame\",\"fUniqueID\":0,\"fBits\":8,\"fLineColor\":1,\"fLineStyle\":1,\"fLineWidth\":1,\"fFillColor\":0,\"fFillStyle\":1001,\"fX1\":-0.5,\"fY1\":-7.05027300647599,\"fX2\":9.5,\"fY2\":-0.0786502783097651,\"fBorderSize\":1,\"fBorderMode\":0},{\"_typename\":\"TH1D\",\"fUniqueID\":0,\"fBits\":521,\"fName\":\"h_nfa_neutron_G21\",\"fTitle\":\"neutrons\",\"fLineColor\":600,\"fLineStyle\":1,\"fLineWidth\":2,\"fFillColor\":0,\"fFillStyle\":1001,\"fMarkerColor\":1,\"fMarkerStyle\":1,\"fMarkerSize\":1,\"fNcells\":12,\"fXaxis\":{\"_typename\":\"TAxis\",\"fUniqueID\":0,\"fBits\":0,\"fName\":\"xaxis\",\"fTitle\":\"multiplicity\",\"fNdivisions\":510,\"fAxisColor\":1,\"fLabelColor\":1,\"fLabelFont\":42,\"fLabelOffset\":0.005,\"fLabelSize\":0.035,\"fTickLength\":0.03,\"fTitleOffset\":1,\"fTitleSize\":0.035,\"fTitleColor\":1,\"fTitleFont\":42,\"fNbins\":10,\"fXmin\":-0.5,\"fXmax\":9.5,\"fXbins\":[],\"fFirst\":0,\"fLast\":0,\"fBits2\":0,\"fTimeDisplay\":false,\"fTimeFormat\":\"\",\"fLabels\":null,\"fModLabs\":null},\"fYaxis\":{\"_typename\":\"TAxis\",\"fUniqueID\":0,\"fBits\":0,\"fName\":\"yaxis\",\"fTitle\":\"Events (Normalized)\",\"fNdivisions\":510,\"fAxisColor\":1,\"fLabelColor\":1,\"fLabelFont\":42,\"fLabelOffset\":0.005,\"fLabelSize\":0.035,\"fTickLength\":0.03,\"fTitleOffset\":0,\"fTitleSize\":0.035,\"fTitleColor\":1,\"fTitleFont\":42,\"fNbins\":1,\"fXmin\":0,\"fXmax\":1,\"fXbins\":[],\"fFirst\":0,\"fLast\":0,\"fBits2\":0,\"fTimeDisplay\":false,\"fTimeFormat\":\"\",\"fLabels\":null,\"fModLabs\":null},\"fZaxis\":{\"_typename\":\"TAxis\",\"fUniqueID\":0,\"fBits\":0,\"fName\":\"zaxis\",\"fTitle\":\"\",\"fNdivisions\":510,\"fAxisColor\":1,\"fLabelColor\":1,\"fLabelFont\":42,\"fLabelOffset\":0.005,\"fLabelSize\":0.035,\"fTickLength\":0.03,\"fTitleOffset\":1,\"fTitleSize\":0.035,\"fTitleColor\":1,\"fTitleFont\":42,\"fNbins\":1,\"fXmin\":0,\"fXmax\":1,\"fXbins\":[],\"fFirst\":0,\"fLast\":0,\"fBits2\":0,\"fTimeDisplay\":false,\"fTimeFormat\":\"\",\"fLabels\":null,\"fModLabs\":null},\"fBarOffset\":0,\"fBarWidth\":1000,\"fEntries\":1122724,\"fTsumw\":1,\"fTsumw2\":8.90690855455125e-7,\"fTsumwx\":0.269881110584614,\"fTsumwx2\":0.333380243051721,\"fMaximum\":0.834352788396792,\"fMinimum\":8.90690855455125e-8,\"fNormFactor\":0,\"fContour\":[],\"fSumw2\":{\"$arr\":\"Float64\",\"len\":12,\"p\":1,\"v\":[6.75591271680462e-7,1.92498399707109e-7,2.02045335333805e-8,2.14278487017672e-9,2.2927242779751e-10,2.0626585199776e-11,3.17332079996553e-12,7.93330199991383e-13]},\"fOption\":\"\",\"fFunctions\":{\"_typename\":\"TList\",\"name\":\"TList\",\"arr\":[],\"opt\":[]},\"fBufferSize\":0,\"fBuffer\":[],\"fBinStatErrOpt\":0,\"fStatOverflows\":2,\"fArray\":{\"$arr\":\"Float64\",\"len\":12,\"p\":1,\"v\":[0.758502534906175,0.216122573312764,0.0226841147067311,0.00240575600058429,2.57409657226531e-4,2.31579622418333e-5,3.5627634218205e-6,8.90690855455125e-7]}},{\"_typename\":\"TH1D\",\"fUniqueID\":0,\"fBits\":521,\"fName\":\"h_nfa_neutron_G18\",\"fTitle\":\"\",\"fLineColor\":632,\"fLineStyle\":2,\"fLineWidth\":3,\"fFillColor\":0,\"fFillStyle\":1001,\"fMarkerColor\":1,\"fMarkerStyle\":1,\"fMarkerSize\":1,\"fNcells\":12,\"fXaxis\":{\"_typename\":\"TAxis\",\"fUniqueID\":0,\"fBits\":0,\"fName\":\"xaxis\",\"fTitle\":\"Multiplicity\",\"fNdivisions\":510,\"fAxisColor\":1,\"fLabelColor\":1,\"fLabelFont\":42,\"fLabelOffset\":0.005,\"fLabelSize\":0.035,\"fTickLength\":0.03,\"fTitleOffset\":1,\"fTitleSize\":0.035,\"fTitleColor\":1,\"fTitleFont\":42,\"fNbins\":10,\"fXmin\":-0.5,\"fXmax\":9.5,\"fXbins\":[],\"fFirst\":0,\"fLast\":0,\"fBits2\":0,\"fTimeDisplay\":false,\"fTimeFormat\":\"\",\"fLabels\":null,\"fModLabs\":null},\"fYaxis\":{\"_typename\":\"TAxis\",\"fUniqueID\":0,\"fBits\":0,\"fName\":\"yaxis\",\"fTitle\":\"Normalized Events\",\"fNdivisions\":510,\"fAxisColor\":1,\"fLabelColor\":1,\"fLabelFont\":42,\"fLabelOffset\":0.005,\"fLabelSize\":0.035,\"fTickLength\":0.03,\"fTitleOffset\":0,\"fTitleSize\":0.035,\"fTitleColor\":1,\"fTitleFont\":42,\"fNbins\":1,\"fXmin\":0,\"fXmax\":1,\"fXbins\":[],\"fFirst\":0,\"fLast\":0,\"fBits2\":0,\"fTimeDisplay\":false,\"fTimeFormat\":\"\",\"fLabels\":null,\"fModLabs\":null},\"fZaxis\":{\"_typename\":\"TAxis\",\"fUniqueID\":0,\"fBits\":0,\"fName\":\"zaxis\",\"fTitle\":\"\",\"fNdivisions\":510,\"fAxisColor\":1,\"fLabelColor\":1,\"fLabelFont\":42,\"fLabelOffset\":0.005,\"fLabelSize\":0.035,\"fTickLength\":0.03,\"fTitleOffset\":1,\"fTitleSize\":0.035,\"fTitleColor\":1,\"fTitleFont\":42,\"fNbins\":1,\"fXmin\":0,\"fXmax\":1,\"fXbins\":[],\"fFirst\":0,\"fLast\":0,\"fBits2\":0,\"fTimeDisplay\":false,\"fTimeFormat\":\"\",\"fLabels\":null,\"fModLabs\":null},\"fBarOffset\":0,\"fBarWidth\":1000,\"fEntries\":1249035,\"fTsumw\":1,\"fTsumw2\":8.00618077155564e-7,\"fTsumwx\":0.24984808271986,\"fTsumwx2\":0.299873902652848,\"fMaximum\":0.850301712922376,\"fMinimum\":8.00618077155564e-8,\"fNormFactor\":0,\"fContour\":[],\"fSumw2\":{\"$arr\":\"Float64\",\"len\":12,\"p\":1,\"v\":[6.1887902036545e-7,1.65039362414749e-7,1.52356748016754e-8,1.3415906163451e-9,1.14737085678821e-10,7.69187166561927e-12]},\"fOption\":\"\",\"fFunctions\":{\"_typename\":\"TList\",\"name\":\"TList\",\"arr\":[],\"opt\":[]},\"fBufferSize\":0,\"fBuffer\":[],\"fBinStatErrOpt\":0,\"fStatOverflows\":2,\"fArray\":{\"$arr\":\"Float64\",\"len\":12,\"p\":1,\"v\":[0.77300155720216,0.206139940033706,0.0190298910759106,0.0016756936354866,1.43310635810846e-4,9.60741692586677e-6]}},{\"_typename\":\"TPaveText\",\"fUniqueID\":0,\"fBits\":9,\"fLineColor\":1,\"fLineStyle\":1,\"fLineWidth\":1,\"fFillColor\":0,\"fFillStyle\":0,\"fX1\":3.40217910332115,\"fY1\":0.269930949647447,\"fX2\":5.59782089667885,\"fY2\":0.749230026493102,\"fX1NDC\":0.412174329574396,\"fY1NDC\":0.940000003948808,\"fX2NDC\":0.587825670425604,\"fY2NDC\":0.995000004768372,\"fBorderSize\":0,\"fInit\":1,\"fShadowColor\":1,\"fCornerRadius\":0,\"fOption\":\"blNDC\",\"fName\":\"title\",\"fTextAngle\":0,\"fTextSize\":0,\"fTextAlign\":22,\"fTextColor\":1,\"fTextFont\":42,\"fLabel\":\"\",\"fLongest\":8,\"fMargin\":0.05,\"fLines\":{\"_typename\":\"TList\",\"name\":\"TList\",\"arr\":[{\"_typename\":\"TLatex\",\"fUniqueID\":0,\"fBits\":0,\"fName\":\"\",\"fTitle\":\"neutrons\",\"fTextAngle\":0,\"fTextSize\":0,\"fTextAlign\":0,\"fTextColor\":0,\"fTextFont\":0,\"fX\":0,\"fY\":0,\"fLineColor\":1,\"fLineStyle\":1,\"fLineWidth\":2,\"fLimitFactorSize\":3,\"fOriginSize\":0.0467500016093254}],\"opt\":[\"\"]}}],\"opt\":[\"\",\"HIST\",\"SAMEHIST\",\"blNDC\"]},\"fExecs\":{\"_typename\":\"TList\",\"name\":\"TList\",\"arr\":[],\"opt\":[]},\"fName\":\"c4_2\",\"fTitle\":\"c4_2\",\"fNumPaletteColor\":0,\"fNextPaletteColor\":0},{\"_typename\":\"TPad\",\"fUniqueID\":0,\"fBits\":9,\"fLineColor\":1,\"fLineStyle\":1,\"fLineWidth\":1,\"fFillColor\":0,\"fFillStyle\":1001,\"fLeftMargin\":0.1,\"fRightMargin\":0.1,\"fBottomMargin\":0.1,\"fTopMargin\":0.1,\"fXfile\":2,\"fYfile\":2,\"fAfile\":1,\"fXstat\":0.99,\"fYstat\":0.99,\"fAstat\":2,\"fFrameFillColor\":0,\"fFrameLineColor\":1,\"fFrameFillStyle\":1001,\"fFrameLineStyle\":1,\"fFrameLineWidth\":1,\"fFrameBorderSize\":1,\"fFrameBorderMode\":0,\"fX1\":-1.75000009313226,\"fY1\":-7.92209895408896,\"fX2\":10.7500000931323,\"fY2\":0.796160002391965,\"fXtoAbsPixelk\":53.7312516801358,\"fXtoPixelk\":46.7712518357039,\"fXtoPixel\":26.7263996266365,\"fYtoAbsPixelk\":261.409732457304,\"fYtoPixelk\":20.6897325628041,\"fYtoPixel\":-25.9868399576021,\"fUtoAbsPixelk\":6.96004984443188,\"fUtoPixelk\":5e-5,\"fUtoPixel\":334.080000311136,\"fVtoAbsPixelk\":467.2800501055,\"fVtoPixelk\":226.560000211,\"fVtoPixel\":-226.560000211,\"fAbsPixeltoXk\":-2.01041675761614,\"fPixeltoXk\":-1.75000009313226,\"fPixeltoX\":0.0374161882621617,\"fAbsPixeltoYk\":10.0593101309662,\"fPixeltoYk\":-7.92209895408896,\"fPixeltoY\":-0.0384810158384596,\"fXlowNDC\":0.00999999977648258,\"fYlowNDC\":0.00999999977648258,\"fXUpNDC\":0.490000000223517,\"fYUpNDC\":0.490000000223517,\"fWNDC\":0.480000000447035,\"fHNDC\":0.480000000447035,\"fAbsXlowNDC\":0.00999999977648258,\"fAbsYlowNDC\":0.00999999977648258,\"fAbsWNDC\":0.480000000447035,\"fAbsHNDC\":0.480000000447035,\"fUxmin\":-0.5,\"fUymin\":-7.05027300647599,\"fUxmax\":9.5,\"fUymax\":-0.0756659452210024,\"fTheta\":30,\"fPhi\":30,\"fAspectRatio\":0,\"fNumber\":3,\"fTickx\":0,\"fTicky\":0,\"fLogx\":0,\"fLogy\":1,\"fLogz\":0,\"fPadPaint\":0,\"fCrosshair\":0,\"fCrosshairPos\":0,\"fBorderSize\":2,\"fBorderMode\":0,\"fModified\":false,\"fGridx\":false,\"fGridy\":false,\"fAbsCoord\":false,\"fEditable\":true,\"fFixedAspectRatio\":false,\"fPrimitives\":{\"_typename\":\"TList\",\"name\":\"TList\",\"arr\":[{\"_typename\":\"TFrame\",\"fUniqueID\":0,\"fBits\":8,\"fLineColor\":1,\"fLineStyle\":1,\"fLineWidth\":1,\"fFillColor\":0,\"fFillStyle\":1001,\"fX1\":-0.5,\"fY1\":-7.05027300647599,\"fX2\":9.5,\"fY2\":-0.0756659452210024,\"fBorderSize\":1,\"fBorderMode\":0},{\"_typename\":\"TH1D\",\"fUniqueID\":0,\"fBits\":521,\"fName\":\"h_nfa_proton_G21\",\"fTitle\":\"protons\",\"fLineColor\":600,\"fLineStyle\":1,\"fLineWidth\":2,\"fFillColor\":0,\"fFillStyle\":1001,\"fMarkerColor\":1,\"fMarkerStyle\":1,\"fMarkerSize\":1,\"fNcells\":12,\"fXaxis\":{\"_typename\":\"TAxis\",\"fUniqueID\":0,\"fBits\":0,\"fName\":\"xaxis\",\"fTitle\":\"multiplicity\",\"fNdivisions\":510,\"fAxisColor\":1,\"fLabelColor\":1,\"fLabelFont\":42,\"fLabelOffset\":0.005,\"fLabelSize\":0.035,\"fTickLength\":0.03,\"fTitleOffset\":1,\"fTitleSize\":0.035,\"fTitleColor\":1,\"fTitleFont\":42,\"fNbins\":10,\"fXmin\":-0.5,\"fXmax\":9.5,\"fXbins\":[],\"fFirst\":0,\"fLast\":0,\"fBits2\":0,\"fTimeDisplay\":false,\"fTimeFormat\":\"\",\"fLabels\":null,\"fModLabs\":null},\"fYaxis\":{\"_typename\":\"TAxis\",\"fUniqueID\":0,\"fBits\":0,\"fName\":\"yaxis\",\"fTitle\":\"Events (Normalized)\",\"fNdivisions\":510,\"fAxisColor\":1,\"fLabelColor\":1,\"fLabelFont\":42,\"fLabelOffset\":0.005,\"fLabelSize\":0.035,\"fTickLength\":0.03,\"fTitleOffset\":0,\"fTitleSize\":0.035,\"fTitleColor\":1,\"fTitleFont\":42,\"fNbins\":1,\"fXmin\":0,\"fXmax\":1,\"fXbins\":[],\"fFirst\":0,\"fLast\":0,\"fBits2\":0,\"fTimeDisplay\":false,\"fTimeFormat\":\"\",\"fLabels\":null,\"fModLabs\":null},\"fZaxis\":{\"_typename\":\"TAxis\",\"fUniqueID\":0,\"fBits\":0,\"fName\":\"zaxis\",\"fTitle\":\"\",\"fNdivisions\":510,\"fAxisColor\":1,\"fLabelColor\":1,\"fLabelFont\":42,\"fLabelOffset\":0.005,\"fLabelSize\":0.035,\"fTickLength\":0.03,\"fTitleOffset\":1,\"fTitleSize\":0.035,\"fTitleColor\":1,\"fTitleFont\":42,\"fNbins\":1,\"fXmin\":0,\"fXmax\":1,\"fXbins\":[],\"fFirst\":0,\"fLast\":0,\"fBits2\":0,\"fTimeDisplay\":false,\"fTimeFormat\":\"\",\"fLabels\":null,\"fModLabs\":null},\"fBarOffset\":0,\"fBarWidth\":1000,\"fEntries\":1122724,\"fTsumw\":1,\"fTsumw2\":8.90690855455125e-7,\"fTsumwx\":0.260525293838913,\"fTsumwx2\":0.314184073734952,\"fMaximum\":0.840105938770348,\"fMinimum\":8.90690855455125e-8,\"fNormFactor\":0,\"fContour\":[],\"fSumw2\":{\"$arr\":\"Float64\",\"len\":12,\"p\":1,\"v\":[6.80249706614811e-7,1.90905392665526e-7,1.76603235820082e-8,1.70248660918151e-9,1.53112728598337e-10,1.74532643998104e-11,2.37999059997415e-12]},\"fOption\":\"\",\"fFunctions\":{\"_typename\":\"TList\",\"name\":\"TList\",\"arr\":[],\"opt\":[]},\"fBufferSize\":0,\"fBuffer\":[],\"fBinStatErrOpt\":0,\"fStatOverflows\":2,\"fArray\":{\"$arr\":\"Float64\",\"len\":12,\"p\":1,\"v\":[0.763732671609407,0.21433406607501,0.0198276691332865,0.0019114225758067,1.71903335102839e-4,1.95951988200128e-5,2.67207256636538e-6]}},{\"_typename\":\"TH1D\",\"fUniqueID\":0,\"fBits\":521,\"fName\":\"h_nfa_proton_G18\",\"fTitle\":\"\",\"fLineColor\":632,\"fLineStyle\":2,\"fLineWidth\":3,\"fFillColor\":0,\"fFillStyle\":1001,\"fMarkerColor\":1,\"fMarkerStyle\":1,\"fMarkerSize\":1,\"fNcells\":12,\"fXaxis\":{\"_typename\":\"TAxis\",\"fUniqueID\":0,\"fBits\":0,\"fName\":\"xaxis\",\"fTitle\":\"Multiplicity\",\"fNdivisions\":510,\"fAxisColor\":1,\"fLabelColor\":1,\"fLabelFont\":42,\"fLabelOffset\":0.005,\"fLabelSize\":0.035,\"fTickLength\":0.03,\"fTitleOffset\":1,\"fTitleSize\":0.035,\"fTitleColor\":1,\"fTitleFont\":42,\"fNbins\":10,\"fXmin\":-0.5,\"fXmax\":9.5,\"fXbins\":[],\"fFirst\":0,\"fLast\":0,\"fBits2\":0,\"fTimeDisplay\":false,\"fTimeFormat\":\"\",\"fLabels\":null,\"fModLabs\":null},\"fYaxis\":{\"_typename\":\"TAxis\",\"fUniqueID\":0,\"fBits\":0,\"fName\":\"yaxis\",\"fTitle\":\"Normalized Events\",\"fNdivisions\":510,\"fAxisColor\":1,\"fLabelColor\":1,\"fLabelFont\":42,\"fLabelOffset\":0.005,\"fLabelSize\":0.035,\"fTickLength\":0.03,\"fTitleOffset\":0,\"fTitleSize\":0.035,\"fTitleColor\":1,\"fTitleFont\":42,\"fNbins\":1,\"fXmin\":0,\"fXmax\":1,\"fXbins\":[],\"fFirst\":0,\"fLast\":0,\"fBits2\":0,\"fTimeDisplay\":false,\"fTimeFormat\":\"\",\"fLabels\":null,\"fModLabs\":null},\"fZaxis\":{\"_typename\":\"TAxis\",\"fUniqueID\":0,\"fBits\":0,\"fName\":\"zaxis\",\"fTitle\":\"\",\"fNdivisions\":510,\"fAxisColor\":1,\"fLabelColor\":1,\"fLabelFont\":42,\"fLabelOffset\":0.005,\"fLabelSize\":0.035,\"fTickLength\":0.03,\"fTitleOffset\":1,\"fTitleSize\":0.035,\"fTitleColor\":1,\"fTitleFont\":42,\"fNbins\":1,\"fXmin\":0,\"fXmax\":1,\"fXbins\":[],\"fFirst\":0,\"fLast\":0,\"fBits2\":0,\"fTimeDisplay\":false,\"fTimeFormat\":\"\",\"fLabels\":null,\"fModLabs\":null},\"fBarOffset\":0,\"fBarWidth\":1000,\"fEntries\":1249035,\"fTsumw\":1,\"fTsumw2\":8.00618077155564e-7,\"fTsumwx\":0.249353300748178,\"fTsumwx2\":0.29385005224033,\"fMaximum\":0.848033081538948,\"fMinimum\":8.00618077155564e-8,\"fNormFactor\":0,\"fContour\":[],\"fSumw2\":{\"$arr\":\"Float64\",\"len\":12,\"p\":1,\"v\":[6.17227831914564e-7,1.68561598648297e-7,1.35428220459337e-8,1.16852350386866e-9,1.0384026748586e-10,1.21787968038972e-11,1.28197861093655e-12]},\"fOption\":\"\",\"fFunctions\":{\"_typename\":\"TList\",\"name\":\"TList\",\"arr\":[],\"opt\":[]},\"fBufferSize\":0,\"fBuffer\":[],\"fBinStatErrOpt\":0,\"fStatOverflows\":2,\"fArray\":{\"$arr\":\"Float64\",\"len\":12,\"p\":1,\"v\":[0.770939165035407,0.210539336367676,0.0169154587341428,0.00145952675465459,1.29700128499201e-4,1.52117434659557e-5,1.60123615431113e-6]}},{\"_typename\":\"TPaveText\",\"fUniqueID\":0,\"fBits\":9,\"fLineColor\":1,\"fLineStyle\":1,\"fLineWidth\":1,\"fFillColor\":0,\"fFillStyle\":0,\"fX1\":3.53313576223872,\"fY1\":0.198442121107642,\"fX2\":5.46686423776128,\"fY2\":0.752568749181459,\"fX1NDC\":0.422650862131689,\"fY1NDC\":0.931440682793668,\"fX2NDC\":0.577349137868311,\"fY2NDC\":0.995000004768372,\"fBorderSize\":0,\"fInit\":1,\"fShadowColor\":1,\"fCornerRadius\":0,\"fOption\":\"blNDC\",\"fName\":\"title\",\"fTextAngle\":0,\"fTextSize\":0,\"fTextAlign\":22,\"fTextColor\":1,\"fTextFont\":42,\"fLabel\":\"\",\"fLongest\":7,\"fMargin\":0.05,\"fLines\":{\"_typename\":\"TList\",\"name\":\"TList\",\"arr\":[{\"_typename\":\"TLatex\",\"fUniqueID\":0,\"fBits\":0,\"fName\":\"\",\"fTitle\":\"protons\",\"fTextAngle\":0,\"fTextSize\":0,\"fTextAlign\":0,\"fTextColor\":0,\"fTextFont\":0,\"fX\":0,\"fY\":0,\"fLineColor\":1,\"fLineStyle\":1,\"fLineWidth\":2,\"fLimitFactorSize\":3,\"fOriginSize\":0.0540254227817059}],\"opt\":[\"\"]}}],\"opt\":[\"\",\"HIST\",\"SAMEHIST\",\"blNDC\"]},\"fExecs\":{\"_typename\":\"TList\",\"name\":\"TList\",\"arr\":[],\"opt\":[]},\"fName\":\"c4_3\",\"fTitle\":\"c4_3\",\"fNumPaletteColor\":0,\"fNextPaletteColor\":0},{\"_typename\":\"TPad\",\"fUniqueID\":0,\"fBits\":9,\"fLineColor\":1,\"fLineStyle\":1,\"fLineWidth\":1,\"fFillColor\":0,\"fFillStyle\":1001,\"fLeftMargin\":0.1,\"fRightMargin\":0.1,\"fBottomMargin\":0.1,\"fTopMargin\":0.1,\"fXfile\":2,\"fYfile\":2,\"fAfile\":1,\"fXstat\":0.99,\"fYstat\":0.99,\"fAstat\":2,\"fFrameFillColor\":0,\"fFrameLineColor\":1,\"fFrameFillStyle\":1001,\"fFrameLineStyle\":1,\"fFrameLineWidth\":1,\"fFrameBorderSize\":1,\"fFrameBorderMode\":0,\"fX1\":-1.75000009313226,\"fY1\":-7.92792057094832,\"fX2\":10.7500000931323,\"fY2\":0.848554550656234,\"fXtoAbsPixelk\":401.731251680136,\"fXtoPixelk\":46.7712518357039,\"fXtoPixel\":26.7263996266365,\"fYtoAbsPixelk\":262.625030711055,\"fYtoPixelk\":21.9050308165552,\"fYtoPixel\":-25.8144639017196,\"fUtoAbsPixelk\":354.960049844432,\"fUtoPixelk\":5e-5,\"fUtoPixel\":334.080000311136,\"fVtoAbsPixelk\":467.2800501055,\"fVtoPixelk\":226.560000211,\"fVtoPixel\":-226.560000211,\"fAbsPixeltoXk\":-15.0312502728484,\"fPixeltoXk\":-1.75000009313226,\"fPixeltoX\":0.0374161882621617,\"fAbsPixeltoYk\":10.1735593545896,\"fPixeltoYk\":-7.92792057094832,\"fPixeltoY\":-0.0387379727817392,\"fXlowNDC\":0.509999999776483,\"fYlowNDC\":0.00999999977648258,\"fXUpNDC\":0.990000000223517,\"fYUpNDC\":0.490000000223517,\"fWNDC\":0.480000000447035,\"fHNDC\":0.480000000447035,\"fAbsXlowNDC\":0.509999999776483,\"fAbsYlowNDC\":0.00999999977648258,\"fAbsWNDC\":0.480000000447035,\"fAbsHNDC\":0.480000000447035,\"fUxmin\":-0.5,\"fUymin\":-7.05027300647599,\"fUxmax\":9.5,\"fUymax\":-0.0290930138160913,\"fTheta\":30,\"fPhi\":30,\"fAspectRatio\":0,\"fNumber\":4,\"fTickx\":0,\"fTicky\":0,\"fLogx\":0,\"fLogy\":1,\"fLogz\":0,\"fPadPaint\":0,\"fCrosshair\":0,\"fCrosshairPos\":0,\"fBorderSize\":2,\"fBorderMode\":0,\"fModified\":false,\"fGridx\":false,\"fGridy\":false,\"fAbsCoord\":false,\"fEditable\":true,\"fFixedAspectRatio\":false,\"fPrimitives\":{\"_typename\":\"TList\",\"name\":\"TList\",\"arr\":[{\"_typename\":\"TFrame\",\"fUniqueID\":0,\"fBits\":8,\"fLineColor\":1,\"fLineStyle\":1,\"fLineWidth\":1,\"fFillColor\":0,\"fFillStyle\":1001,\"fX1\":-0.5,\"fY1\":-7.05027300647599,\"fX2\":9.5,\"fY2\":-0.0290930138160913,\"fBorderSize\":1,\"fBorderMode\":0},{\"_typename\":\"TH1D\",\"fUniqueID\":0,\"fBits\":521,\"fName\":\"h_nfa_pi_G21\",\"fTitle\":\"pions\",\"fLineColor\":600,\"fLineStyle\":1,\"fLineWidth\":2,\"fFillColor\":0,\"fFillStyle\":1001,\"fMarkerColor\":1,\"fMarkerStyle\":1,\"fMarkerSize\":1,\"fNcells\":12,\"fXaxis\":{\"_typename\":\"TAxis\",\"fUniqueID\":0,\"fBits\":0,\"fName\":\"xaxis\",\"fTitle\":\"multiplicity\",\"fNdivisions\":510,\"fAxisColor\":1,\"fLabelColor\":1,\"fLabelFont\":42,\"fLabelOffset\":0.005,\"fLabelSize\":0.035,\"fTickLength\":0.03,\"fTitleOffset\":1,\"fTitleSize\":0.035,\"fTitleColor\":1,\"fTitleFont\":42,\"fNbins\":10,\"fXmin\":-0.5,\"fXmax\":9.5,\"fXbins\":[],\"fFirst\":0,\"fLast\":0,\"fBits2\":0,\"fTimeDisplay\":false,\"fTimeFormat\":\"\",\"fLabels\":null,\"fModLabs\":null},\"fYaxis\":{\"_typename\":\"TAxis\",\"fUniqueID\":0,\"fBits\":0,\"fName\":\"yaxis\",\"fTitle\":\"Events (Normalized)\",\"fNdivisions\":510,\"fAxisColor\":1,\"fLabelColor\":1,\"fLabelFont\":42,\"fLabelOffset\":0.005,\"fLabelSize\":0.035,\"fTickLength\":0.03,\"fTitleOffset\":0,\"fTitleSize\":0.035,\"fTitleColor\":1,\"fTitleFont\":42,\"fNbins\":1,\"fXmin\":0,\"fXmax\":1,\"fXbins\":[],\"fFirst\":0,\"fLast\":0,\"fBits2\":0,\"fTimeDisplay\":false,\"fTimeFormat\":\"\",\"fLabels\":null,\"fModLabs\":null},\"fZaxis\":{\"_typename\":\"TAxis\",\"fUniqueID\":0,\"fBits\":0,\"fName\":\"zaxis\",\"fTitle\":\"\",\"fNdivisions\":510,\"fAxisColor\":1,\"fLabelColor\":1,\"fLabelFont\":42,\"fLabelOffset\":0.005,\"fLabelSize\":0.035,\"fTickLength\":0.03,\"fTitleOffset\":1,\"fTitleSize\":0.035,\"fTitleColor\":1,\"fTitleFont\":42,\"fNbins\":1,\"fXmin\":0,\"fXmax\":1,\"fXbins\":[],\"fFirst\":0,\"fLast\":0,\"fBits2\":0,\"fTimeDisplay\":false,\"fTimeFormat\":\"\",\"fLabels\":null,\"fModLabs\":null},\"fBarOffset\":0,\"fBarWidth\":1000,\"fEntries\":1122724,\"fTsumw\":1,\"fTsumw2\":8.90690855455125e-7,\"fTsumwx\":0.180720283880989,\"fTsumwx2\":0.256646335163406,\"fMaximum\":0.935205357683634,\"fMinimum\":8.90690855455125e-8,\"fNormFactor\":0,\"fContour\":[],\"fSumw2\":{\"$arr\":\"Float64\",\"len\":12,\"p\":1,\"v\":[7.57253509146775e-7,1.11060674687394e-7,1.81490149852029e-8,3.47875292696221e-9,6.02930951993451e-10,1.2058619039869e-10,2.14199153997673e-11,3.96665099995691e-12]},\"fOption\":\"\",\"fFunctions\":{\"_typename\":\"TList\",\"name\":\"TList\",\"arr\":[],\"opt\":[]},\"fBufferSize\":0,\"fBuffer\":[],\"fBinStatErrOpt\":0,\"fStatOverflows\":2,\"fArray\":{\"$arr\":\"Float64\",\"len\":12,\"p\":1,\"v\":[0.850186688803303,0.124690484927729,0.0203763347002469,0.00390567940117072,6.76925050145895e-4,1.35385010029179e-4,2.40486530972884e-5,4.45345427727563e-6]}},{\"_typename\":\"TH1D\",\"fUniqueID\":0,\"fBits\":521,\"fName\":\"h_nfa_pi_G18\",\"fTitle\":\"\",\"fLineColor\":632,\"fLineStyle\":2,\"fLineWidth\":3,\"fFillColor\":0,\"fFillStyle\":1001,\"fMarkerColor\":1,\"fMarkerStyle\":1,\"fMarkerSize\":1,\"fNcells\":12,\"fXaxis\":{\"_typename\":\"TAxis\",\"fUniqueID\":0,\"fBits\":0,\"fName\":\"xaxis\",\"fTitle\":\"Multiplicity\",\"fNdivisions\":510,\"fAxisColor\":1,\"fLabelColor\":1,\"fLabelFont\":42,\"fLabelOffset\":0.005,\"fLabelSize\":0.035,\"fTickLength\":0.03,\"fTitleOffset\":1,\"fTitleSize\":0.035,\"fTitleColor\":1,\"fTitleFont\":42,\"fNbins\":10,\"fXmin\":-0.5,\"fXmax\":9.5,\"fXbins\":[],\"fFirst\":0,\"fLast\":0,\"fBits2\":0,\"fTimeDisplay\":false,\"fTimeFormat\":\"\",\"fLabels\":null,\"fModLabs\":null},\"fYaxis\":{\"_typename\":\"TAxis\",\"fUniqueID\":0,\"fBits\":0,\"fName\":\"yaxis\",\"fTitle\":\"Normalized Events\",\"fNdivisions\":510,\"fAxisColor\":1,\"fLabelColor\":1,\"fLabelFont\":42,\"fLabelOffset\":0.005,\"fLabelSize\":0.035,\"fTickLength\":0.03,\"fTitleOffset\":0,\"fTitleSize\":0.035,\"fTitleColor\":1,\"fTitleFont\":42,\"fNbins\":1,\"fXmin\":0,\"fXmax\":1,\"fXbins\":[],\"fFirst\":0,\"fLast\":0,\"fBits2\":0,\"fTimeDisplay\":false,\"fTimeFormat\":\"\",\"fLabels\":null,\"fModLabs\":null},\"fZaxis\":{\"_typename\":\"TAxis\",\"fUniqueID\":0,\"fBits\":0,\"fName\":\"zaxis\",\"fTitle\":\"\",\"fNdivisions\":510,\"fAxisColor\":1,\"fLabelColor\":1,\"fLabelFont\":42,\"fLabelOffset\":0.005,\"fLabelSize\":0.035,\"fTickLength\":0.03,\"fTitleOffset\":1,\"fTitleSize\":0.035,\"fTitleColor\":1,\"fTitleFont\":42,\"fNbins\":1,\"fXmin\":0,\"fXmax\":1,\"fXbins\":[],\"fFirst\":0,\"fLast\":0,\"fBits2\":0,\"fTimeDisplay\":false,\"fTimeFormat\":\"\",\"fLabels\":null,\"fModLabs\":null},\"fBarOffset\":0,\"fBarWidth\":1000,\"fEntries\":1249035,\"fTsumw\":1,\"fTsumw2\":8.00618077155564e-7,\"fTsumwx\":0.209918056739803,\"fTsumwx2\":0.293819628753398,\"fMaximum\":0.907314286629278,\"fMinimum\":8.00618077155564e-8,\"fNormFactor\":0,\"fContour\":[],\"fSumw2\":{\"$arr\":\"Float64\",\"len\":12,\"p\":1,\"v\":[6.6037474503355e-7,1.17222201216121e-7,1.90425102868514e-8,3.28635216913583e-9,5.78172353532382e-10,1.00635320958519e-10,1.21787968038972e-11,1.28197861093655e-12]},\"fOption\":\"\",\"fFunctions\":{\"_typename\":\"TList\",\"name\":\"TList\",\"arr\":[],\"opt\":[]},\"fBufferSize\":0,\"fBuffer\":[],\"fBinStatErrOpt\":0,\"fStatOverflows\":2,\"fArray\":{\"$arr\":\"Float64\",\"len\":12,\"p\":1,\"v\":[0.82483116966298,0.146414632095978,0.0237847618361375,0.00410476888157658,7.22157505594319e-4,1.25697038113424e-4,1.52117434659557e-5,1.60123615431113e-6]}},{\"_typename\":\"TPaveText\",\"fUniqueID\":0,\"fBits\":9,\"fLineColor\":1,\"fLineStyle\":1,\"fLineWidth\":1,\"fFillColor\":0,\"fFillStyle\":0,\"fX1\":3.77634098594277,\"fY1\":0.200359841502577,\"fX2\":5.22365901405723,\"fY2\":0.804672216897707,\"fX1NDC\":0.44210727973809,\"fY1NDC\":0.926144072629109,\"fX2NDC\":0.55789272026191,\"fY2NDC\":0.995000004768372,\"fBorderSize\":0,\"fInit\":1,\"fShadowColor\":1,\"fCornerRadius\":0,\"fOption\":\"blNDC\",\"fName\":\"title\",\"fTextAngle\":0,\"fTextSize\":0,\"fTextAlign\":22,\"fTextColor\":1,\"fTextFont\":42,\"fLabel\":\"\",\"fLongest\":5,\"fMargin\":0.05,\"fLines\":{\"_typename\":\"TList\",\"name\":\"TList\",\"arr\":[{\"_typename\":\"TLatex\",\"fUniqueID\":0,\"fBits\":0,\"fName\":\"\",\"fTitle\":\"pions\",\"fTextAngle\":0,\"fTextSize\":0,\"fTextAlign\":0,\"fTextColor\":0,\"fTextFont\":0,\"fX\":0,\"fY\":0,\"fLineColor\":1,\"fLineStyle\":1,\"fLineWidth\":2,\"fLimitFactorSize\":3,\"fOriginSize\":0.0585275441408157}],\"opt\":[\"\"]}}],\"opt\":[\"\",\"HIST\",\"SAMEHIST\",\"blNDC\"]},\"fExecs\":{\"_typename\":\"TList\",\"name\":\"TList\",\"arr\":[],\"opt\":[]},\"fName\":\"c4_4\",\"fTitle\":\"c4_4\",\"fNumPaletteColor\":0,\"fNextPaletteColor\":0},{\"_typename\":\"TStyle\",\"fUniqueID\":0,\"fBits\":0,\"fName\":\"Modern\",\"fTitle\":\"Modern Style\",\"fLineColor\":1,\"fLineStyle\":1,\"fLineWidth\":1,\"fFillColor\":19,\"fFillStyle\":1001,\"fMarkerColor\":1,\"fMarkerStyle\":1,\"fMarkerSize\":1,\"fTextAngle\":0,\"fTextSize\":0.05,\"fTextAlign\":11,\"fTextColor\":1,\"fTextFont\":62,\"fXaxis\":{\"_typename\":\"TAttAxis\",\"fNdivisions\":510,\"fAxisColor\":1,\"fLabelColor\":1,\"fLabelFont\":42,\"fLabelOffset\":0.005,\"fLabelSize\":0.035,\"fTickLength\":0.03,\"fTitleOffset\":1,\"fTitleSize\":0.035,\"fTitleColor\":1,\"fTitleFont\":42},\"fYaxis\":{\"_typename\":\"TAttAxis\",\"fNdivisions\":510,\"fAxisColor\":1,\"fLabelColor\":1,\"fLabelFont\":42,\"fLabelOffset\":0.005,\"fLabelSize\":0.035,\"fTickLength\":0.03,\"fTitleOffset\":0,\"fTitleSize\":0.035,\"fTitleColor\":1,\"fTitleFont\":42},\"fZaxis\":{\"_typename\":\"TAttAxis\",\"fNdivisions\":510,\"fAxisColor\":1,\"fLabelColor\":1,\"fLabelFont\":42,\"fLabelOffset\":0.005,\"fLabelSize\":0.035,\"fTickLength\":0.03,\"fTitleOffset\":1,\"fTitleSize\":0.035,\"fTitleColor\":1,\"fTitleFont\":42},\"fBarWidth\":1,\"fBarOffset\":0,\"fColorModelPS\":0,\"fDrawBorder\":0,\"fOptLogx\":0,\"fOptLogy\":0,\"fOptLogz\":0,\"fOptDate\":0,\"fOptStat\":0,\"fOptTitle\":1,\"fOptFile\":0,\"fOptFit\":0,\"fShowEventStatus\":0,\"fShowEditor\":0,\"fShowToolBar\":0,\"fNumberContours\":20,\"fAttDate\":{\"_typename\":\"TAttText\",\"fTextAngle\":0,\"fTextSize\":0.025,\"fTextAlign\":11,\"fTextColor\":1,\"fTextFont\":62},\"fDateX\":0.01,\"fDateY\":0.01,\"fEndErrorSize\":2,\"fErrorX\":0.5,\"fFuncColor\":2,\"fFuncStyle\":1,\"fFuncWidth\":2,\"fGridColor\":0,\"fGridStyle\":3,\"fGridWidth\":1,\"fLegendBorderSize\":1,\"fLegendFillColor\":0,\"fLegendFont\":42,\"fLegendTextSize\":0,\"fHatchesLineWidth\":1,\"fHatchesSpacing\":1,\"fFrameFillColor\":0,\"fFrameLineColor\":1,\"fFrameFillStyle\":1001,\"fFrameLineStyle\":1,\"fFrameLineWidth\":1,\"fFrameBorderSize\":1,\"fFrameBorderMode\":0,\"fHistFillColor\":0,\"fHistLineColor\":602,\"fHistFillStyle\":1001,\"fHistLineStyle\":1,\"fHistLineWidth\":1,\"fHistMinimumZero\":false,\"fHistTopMargin\":0.05,\"fCanvasPreferGL\":false,\"fCanvasColor\":0,\"fCanvasBorderSize\":2,\"fCanvasBorderMode\":0,\"fCanvasDefH\":500,\"fCanvasDefW\":700,\"fCanvasDefX\":10,\"fCanvasDefY\":10,\"fPadColor\":0,\"fPadBorderSize\":2,\"fPadBorderMode\":0,\"fPadBottomMargin\":0.1,\"fPadTopMargin\":0.1,\"fPadLeftMargin\":0.1,\"fPadRightMargin\":0.1,\"fPadGridX\":false,\"fPadGridY\":false,\"fPadTickX\":0,\"fPadTickY\":0,\"fPaperSizeX\":20,\"fPaperSizeY\":26,\"fScreenFactor\":1,\"fStatColor\":0,\"fStatTextColor\":1,\"fStatBorderSize\":1,\"fStatFont\":42,\"fStatFontSize\":0,\"fStatStyle\":1001,\"fStatFormat\":\"6.4g\",\"fStatX\":0.98,\"fStatY\":0.935,\"fStatW\":0.2,\"fStatH\":0.16,\"fStripDecimals\":true,\"fTitleAlign\":23,\"fTitleColor\":0,\"fTitleTextColor\":1,\"fTitleBorderSize\":0,\"fTitleFont\":42,\"fTitleFontSize\":0.05,\"fTitleStyle\":0,\"fTitleX\":0.5,\"fTitleY\":0.995,\"fTitleW\":0,\"fTitleH\":0,\"fLegoInnerR\":0.5,\"fLineStyles\":[\"\",\"  \",\" 12 12\",\" 4 8\",\" 12 16 4 16\",\" 20 12 4 12\",\" 20 12 4 12 4 12 4 12\",\" 20 20\",\" 20 12 4 12 4 12\",\" 80 20\",\" 80 40 4 40\",\"  \",\"  \",\"  \",\"  \",\"  \",\"  \",\"  \",\"  \",\"  \",\"  \",\"  \",\"  \",\"  \",\"  \",\"  \",\"  \",\"  \",\"  \",\"  \"],\"fHeaderPS\":\"\",\"fTitlePS\":\"\",\"fFitFormat\":\"5.4g\",\"fPaintTextFormat\":\"g\",\"fLineScalePS\":3,\"fJoinLinePS\":0,\"fCapLinePS\":0,\"fTimeOffset\":788918400,\"fImageScaling\":1}],\"opt\":[\"\",\"\",\"\",\"\",\"\"]},\"fExecs\":null,\"fName\":\"c4\",\"fTitle\":\"\",\"fNumPaletteColor\":0,\"fNextPaletteColor\":0,\"fDISPLAY\":\"$DISPLAY\",\"fDoubleBuffer\":0,\"fRetained\":true,\"fXsizeUser\":0,\"fYsizeUser\":0,\"fXsizeReal\":20,\"fYsizeReal\":14.28571,\"fWindowTopX\":0,\"fWindowTopY\":0,\"fWindowWidth\":0,\"fWindowHeight\":0,\"fCw\":696,\"fCh\":472,\"fCatt\":{\"_typename\":\"TAttCanvas\",\"fXBetween\":2,\"fYBetween\":2,\"fTitleFromTop\":1.2,\"fXdate\":0.2,\"fYdate\":0.3,\"fAdate\":1},\"kMoveOpaque\":true,\"kResizeOpaque\":true,\"fHighLightColor\":2,\"fBatch\":true,\"kShowEventStatus\":false,\"kAutoExec\":true,\"kMenuBar\":true});\n",
       "   Core.settings.HandleKeys = false;\n",
       "   Core.draw(\"root_plot_1659466175298\", obj, \"\");\n",
       "}\n",
       "\n",
       "function script_load_root_plot_1659466175298(src, on_error) {\n",
       "    let script = document.createElement('script');\n",
       "    script.src = src;\n",
       "    script.onload = function() { display_root_plot_1659466175298(JSROOT); };\n",
       "    script.onerror = function() { script.remove(); on_error(); };\n",
       "    document.head.appendChild(script);\n",
       "}\n",
       "\n",
       "if (typeof requirejs !== 'undefined') {\n",
       "\n",
       "    // We are in jupyter notebooks, use require.js which should be configured already\n",
       "    requirejs.config({\n",
       "       paths: { 'JSRootCore' : [ 'scripts/JSRoot.core', 'https://root.cern/js/6.1.1/scripts/JSRoot.core.min', 'https://jsroot.gsi.de/6.1.1/scripts/JSRoot.core.min' ] }\n",
       "    })(['JSRootCore'],  function(Core) {\n",
       "       display_root_plot_1659466175298(Core);\n",
       "    });\n",
       "\n",
       "} else if (typeof JSROOT !== 'undefined') {\n",
       "\n",
       "   // JSROOT already loaded, just use it\n",
       "   display_root_plot_1659466175298(JSROOT);\n",
       "\n",
       "} else {\n",
       "\n",
       "    // We are in jupyterlab without require.js, directly loading jsroot\n",
       "    // Jupyterlab might be installed in a different base_url so we need to know it.\n",
       "    try {\n",
       "        var base_url = JSON.parse(document.getElementById('jupyter-config-data').innerHTML).baseUrl;\n",
       "    } catch(_) {\n",
       "        var base_url = '/';\n",
       "    }\n",
       "\n",
       "    // Try loading a local version of requirejs and fallback to cdn if not possible.\n",
       "    script_load_root_plot_1659466175298(base_url + 'static/scripts/JSRoot.core.js', function(){\n",
       "        console.error('Fail to load JSROOT locally, please check your jupyter_notebook_config.py file');\n",
       "        script_load_root_plot_1659466175298('https://root.cern/js/6.1.1/scripts/JSRoot.core.min.js', function(){\n",
       "            document.getElementById(\"root_plot_1659466175298\").innerHTML = \"Failed to load JSROOT\";\n",
       "        });\n",
       "    });\n",
       "}\n",
       "\n",
       "</script>\n"
      ],
      "text/plain": [
       "<IPython.core.display.HTML object>"
      ]
     },
     "metadata": {},
     "output_type": "display_data"
    }
   ],
   "source": [
    "c4 = ROOT.TCanvas(\"c4\")\n",
    "c4.Divide(2,2)\n",
    "\n",
    "c4.cd(2)\n",
    "ROOT.gPad.SetLogy()\n",
    "h_nfa_neutron_G21.SetTitle(\"neutrons;multiplicity;Events (Normalized)\")\n",
    "h_nfa_neutron_G21.SetMinimum(1e-1)\n",
    "h_nfa_neutron_G18.SetMinimum(1e-1)\n",
    "\n",
    "h_nfa_neutron_G21.DrawNormalized()\n",
    "h_nfa_neutron_G18.DrawNormalized(\"same\")\n",
    "\n",
    "c4.cd(3)\n",
    "ROOT.gPad.SetLogy()\n",
    "h_nfa_proton_G21.SetTitle(\"protons;multiplicity;Events (Normalized)\")\n",
    "h_nfa_proton_G21.SetMinimum(1e-1)\n",
    "h_nfa_proton_G18.SetMinimum(1e-1)\n",
    "\n",
    "h_nfa_proton_G21.DrawNormalized()\n",
    "h_nfa_proton_G18.DrawNormalized(\"same\")\n",
    "c4.Draw()\n",
    "\n",
    "c4.cd(4)\n",
    "ROOT.gPad.SetLogy()\n",
    "h_nfa_pi_G21.SetTitle(\"pions;multiplicity;Events (Normalized)\")\n",
    "h_nfa_pi_G21.SetMinimum(1e-1)\n",
    "h_nfa_pi_G18.SetMinimum(1e-1)\n",
    "h_nfa_pi_G21.DrawNormalized()\n",
    "h_nfa_pi_G18.DrawNormalized(\"same\")\n",
    "\n",
    "\n",
    "c4.cd(1)\n",
    "ROOT.gPad.SetLogy()\n",
    "h_nfa_had_G21.SetTitle(\"all hadrons;multiplicity;Events (Normalized)\")\n",
    "h_nfa_had_G21.SetMinimum(1e-1)\n",
    "h_nfa_had_G18.SetMinimum(1e-1)\n",
    "\n",
    "h_nfa_had_G21.DrawNormalized()\n",
    "h_nfa_had_G18.DrawNormalized(\"same\")\n",
    "\n",
    "leg = ROOT.TLegend(0.4,0.7,0.88,0.88)\n",
    "leg.AddEntry(\"h_nfa_had_G21\",\"G21_11b\")\n",
    "leg.AddEntry(\"h_nfa_had_G18\",\"G18_02a\")\n",
    "leg.Draw()\n",
    "\n",
    "c4.Draw()\n",
    "c4.SaveAs(\"nfa_DefA_had_breakdown.pdf\")"
   ]
  },
  {
   "cell_type": "code",
   "execution_count": 87,
   "metadata": {},
   "outputs": [
    {
     "data": {
      "text/plain": [
       "28.64788975654116"
      ]
     },
     "execution_count": 87,
     "metadata": {},
     "output_type": "execute_result"
    }
   ],
   "source": [
    "degrees(0.5)"
   ]
  },
  {
   "cell_type": "code",
   "execution_count": 97,
   "metadata": {},
   "outputs": [],
   "source": [
    "title=\";Energy Transfer (GeV);Events/bin\"\n",
    "nbins=25\n",
    "xmin=0.0\n",
    "xmax=4.0\n",
    "\n",
    "filter_0 = \"thetazl>%f && thetazl<%f\"%(radians(5),radians(10))\n",
    "filter_1 = \"thetazl>%f && thetazl<%f\"%(radians(20),radians(25))\n",
    "filter_2 = \"thetazl>%f && thetazl<%f\"%(radians(35),radians(40))\n",
    "\n",
    "h_omega_thetazl_0_G21 = df_gst_GEM21_11b_DefA_trig.Filter(filter_0).Histo1D((\"h_omega_thetazl_0_G21\",title,nbins,xmin,xmax),\"energy_transfer\")\n",
    "h_omega_thetazl_0_G18 = df_gst_G18_02a_DefA_trig.Filter(filter_0).Histo1D((\"h_omega_thetazl_0_G18\",title,nbins,xmin,xmax),\"energy_transfer\")\n",
    "\n",
    "h_omega_thetazl_1_G21 = df_gst_GEM21_11b_DefA_trig.Filter(filter_1).Histo1D((\"h_omega_thetazl_1_G21\",title,nbins,xmin,xmax),\"energy_transfer\")\n",
    "h_omega_thetazl_1_G18 = df_gst_G18_02a_DefA_trig.Filter(filter_1).Histo1D((\"h_omega_thetazl_1_G18\",title,nbins,xmin,xmax),\"energy_transfer\")\n",
    "\n",
    "h_omega_thetazl_2_G21 = df_gst_GEM21_11b_DefA_trig.Filter(filter_2).Histo1D((\"h_omega_thetazl_2_G21\",title,nbins,xmin,xmax),\"energy_transfer\")\n",
    "h_omega_thetazl_2_G18 = df_gst_G18_02a_DefA_trig.Filter(filter_2).Histo1D((\"h_omega_thetazl_2_G18\",title,nbins,xmin,xmax),\"energy_transfer\")\n"
   ]
  },
  {
   "cell_type": "code",
   "execution_count": 98,
   "metadata": {},
   "outputs": [],
   "source": [
    "format_hists([h_omega_thetazl_0_G21],[ROOT.kBlue,ROOT.kBlue],line_width=2)\n",
    "format_hists([h_omega_thetazl_1_G21],[ROOT.kBlue,ROOT.kBlue],line_width=2)\n",
    "format_hists([h_omega_thetazl_2_G21],[ROOT.kBlue,ROOT.kBlue],line_width=2)\n",
    "\n",
    "\n",
    "format_hists([h_omega_thetazl_0_G18],[ROOT.kRed,ROOT.kRed],line_style=2)\n",
    "format_hists([h_omega_thetazl_1_G18],[ROOT.kRed],line_style=2)\n",
    "format_hists([h_omega_thetazl_2_G18],[ROOT.kRed],line_style=2)"
   ]
  },
  {
   "cell_type": "code",
   "execution_count": 100,
   "metadata": {},
   "outputs": [],
   "source": [
    "h_omega_thetazl_0_G21.Scale(1e7)\n",
    "h_omega_thetazl_1_G21.Scale(1e7)\n",
    "h_omega_thetazl_2_G21.Scale(1e7)\n",
    "\n",
    "h_omega_thetazl_0_G18.Scale(1e7)\n",
    "h_omega_thetazl_1_G18.Scale(1e7)\n",
    "h_omega_thetazl_2_G18.Scale(1e7)\n"
   ]
  },
  {
   "cell_type": "code",
   "execution_count": 103,
   "metadata": {},
   "outputs": [
    {
     "name": "stderr",
     "output_type": "stream",
     "text": [
      "Warning in <TCanvas::Constructor>: Deleting canvas with same name: c3\n",
      "Info in <TCanvas::Print>: pdf file energy_transfer_by_angle.pdf has been created\n"
     ]
    },
    {
     "data": {
      "text/html": [
       "\n",
       "\n",
       "<div id=\"root_plot_1659465121424\"\n",
       "     style=\"width: 696px; height: 472px\">\n",
       "</div>\n",
       "<script>\n",
       "\n",
       "function display_root_plot_1659465121424(Core) {\n",
       "   let obj = Core.parse({\"_typename\":\"TCanvas\",\"fUniqueID\":0,\"fBits\":3342344,\"fLineColor\":1,\"fLineStyle\":1,\"fLineWidth\":1,\"fFillColor\":0,\"fFillStyle\":1001,\"fLeftMargin\":0.1,\"fRightMargin\":0.1,\"fBottomMargin\":0.1,\"fTopMargin\":0.1,\"fXfile\":2,\"fYfile\":2,\"fAfile\":1,\"fXstat\":0.99,\"fYstat\":0.99,\"fAstat\":2,\"fFrameFillColor\":0,\"fFrameLineColor\":1,\"fFrameFillStyle\":1001,\"fFrameLineStyle\":1,\"fFrameLineWidth\":1,\"fFrameBorderSize\":1,\"fFrameBorderMode\":0,\"fX1\":0,\"fY1\":0,\"fX2\":1,\"fY2\":1,\"fXtoAbsPixelk\":5e-5,\"fXtoPixelk\":5e-5,\"fXtoPixel\":696,\"fYtoAbsPixelk\":472.00005,\"fYtoPixelk\":472.00005,\"fYtoPixel\":-472,\"fUtoAbsPixelk\":5e-5,\"fUtoPixelk\":5e-5,\"fUtoPixel\":696,\"fVtoAbsPixelk\":472.00005,\"fVtoPixelk\":472,\"fVtoPixel\":-472,\"fAbsPixeltoXk\":0,\"fPixeltoXk\":0,\"fPixeltoX\":0.0014367816091954,\"fAbsPixeltoYk\":1,\"fPixeltoYk\":0,\"fPixeltoY\":-0.00211864406779661,\"fXlowNDC\":0,\"fYlowNDC\":0,\"fXUpNDC\":1,\"fYUpNDC\":1,\"fWNDC\":1,\"fHNDC\":1,\"fAbsXlowNDC\":0,\"fAbsYlowNDC\":0,\"fAbsWNDC\":1,\"fAbsHNDC\":1,\"fUxmin\":0,\"fUymin\":0,\"fUxmax\":1,\"fUymax\":1,\"fTheta\":30,\"fPhi\":30,\"fAspectRatio\":0,\"fNumber\":0,\"fTickx\":0,\"fTicky\":0,\"fLogx\":0,\"fLogy\":0,\"fLogz\":0,\"fPadPaint\":0,\"fCrosshair\":0,\"fCrosshairPos\":0,\"fBorderSize\":2,\"fBorderMode\":0,\"fModified\":false,\"fGridx\":false,\"fGridy\":false,\"fAbsCoord\":false,\"fEditable\":true,\"fFixedAspectRatio\":false,\"fPrimitives\":{\"_typename\":\"TList\",\"name\":\"TList\",\"arr\":[{\"_typename\":\"TPad\",\"fUniqueID\":0,\"fBits\":9,\"fLineColor\":1,\"fLineStyle\":1,\"fLineWidth\":1,\"fFillColor\":0,\"fFillStyle\":1001,\"fLeftMargin\":0.1,\"fRightMargin\":0.1,\"fBottomMargin\":0.1,\"fTopMargin\":0.1,\"fXfile\":2,\"fYfile\":2,\"fAfile\":1,\"fXstat\":0.99,\"fYstat\":0.99,\"fAstat\":2,\"fFrameFillColor\":0,\"fFrameLineColor\":1,\"fFrameFillStyle\":1001,\"fFrameLineStyle\":1,\"fFrameLineWidth\":1,\"fFrameBorderSize\":1,\"fFrameBorderMode\":0,\"fX1\":-0.500000037252905,\"fY1\":-252392456304.703,\"fX2\":4.5000000372529,\"fY2\":2271531956304.7,\"fXtoAbsPixelk\":28.7680511754037,\"fXtoPixelk\":21.8080513309718,\"fXtoPixel\":43.6159994122982,\"fYtoAbsPixelk\":421.024047327328,\"fYtoPixelk\":416.304047432828,\"fYtoPixel\":-1.8327014783013e-10,\"fUtoAbsPixelk\":6.96004984443188,\"fUtoPixelk\":5e-5,\"fUtoPixel\":218.080000311136,\"fVtoAbsPixelk\":467.2800501055,\"fVtoPixelk\":462.560000211,\"fVtoPixel\":-462.560000211,\"fAbsPixeltoXk\":-0.659574503921423,\"fPixeltoXk\":-0.500000037252905,\"fPixeltoX\":0.0229273664131157,\"fAbsPixeltoYk\":2297286286458.21,\"fPixeltoYk\":-252392456304.703,\"fPixeltoY\":-5456426001.94158,\"fXlowNDC\":0.00999999977648258,\"fYlowNDC\":0.00999999977648258,\"fXUpNDC\":0.323333333556851,\"fYUpNDC\":0.990000000223517,\"fWNDC\":0.313333333780368,\"fHNDC\":0.980000000447035,\"fAbsXlowNDC\":0.00999999977648258,\"fAbsYlowNDC\":0.00999999977648258,\"fAbsWNDC\":0.313333333780368,\"fAbsHNDC\":0.980000000447035,\"fUxmin\":0,\"fUymin\":0,\"fUxmax\":4,\"fUymax\":2019139500000,\"fTheta\":30,\"fPhi\":30,\"fAspectRatio\":0,\"fNumber\":1,\"fTickx\":0,\"fTicky\":0,\"fLogx\":0,\"fLogy\":0,\"fLogz\":0,\"fPadPaint\":0,\"fCrosshair\":0,\"fCrosshairPos\":0,\"fBorderSize\":2,\"fBorderMode\":0,\"fModified\":false,\"fGridx\":false,\"fGridy\":false,\"fAbsCoord\":false,\"fEditable\":true,\"fFixedAspectRatio\":false,\"fPrimitives\":{\"_typename\":\"TList\",\"name\":\"TList\",\"arr\":[{\"_typename\":\"TFrame\",\"fUniqueID\":0,\"fBits\":8,\"fLineColor\":1,\"fLineStyle\":1,\"fLineWidth\":1,\"fFillColor\":0,\"fFillStyle\":1001,\"fX1\":0,\"fY1\":0,\"fX2\":4,\"fY2\":2019139500000,\"fBorderSize\":1,\"fBorderMode\":0},{\"_typename\":\"TH1D\",\"fUniqueID\":0,\"fBits\":520,\"fName\":\"h_omega_thetazl_0_G21\",\"fTitle\":\"5#circ < #theta_{e} < 10#circ\",\"fLineColor\":600,\"fLineStyle\":1,\"fLineWidth\":2,\"fFillColor\":0,\"fFillStyle\":1001,\"fMarkerColor\":1,\"fMarkerStyle\":1,\"fMarkerSize\":1,\"fNcells\":27,\"fXaxis\":{\"_typename\":\"TAxis\",\"fUniqueID\":0,\"fBits\":0,\"fName\":\"xaxis\",\"fTitle\":\"Energy Transfer (GeV)\",\"fNdivisions\":510,\"fAxisColor\":1,\"fLabelColor\":1,\"fLabelFont\":42,\"fLabelOffset\":0.005,\"fLabelSize\":0.035,\"fTickLength\":0.03,\"fTitleOffset\":1,\"fTitleSize\":0.035,\"fTitleColor\":1,\"fTitleFont\":42,\"fNbins\":25,\"fXmin\":0,\"fXmax\":4,\"fXbins\":[],\"fFirst\":0,\"fLast\":0,\"fBits2\":0,\"fTimeDisplay\":false,\"fTimeFormat\":\"\",\"fLabels\":null,\"fModLabs\":null},\"fYaxis\":{\"_typename\":\"TAxis\",\"fUniqueID\":0,\"fBits\":0,\"fName\":\"yaxis\",\"fTitle\":\"Events\\/bin\",\"fNdivisions\":510,\"fAxisColor\":1,\"fLabelColor\":1,\"fLabelFont\":42,\"fLabelOffset\":0.005,\"fLabelSize\":0.035,\"fTickLength\":0.03,\"fTitleOffset\":0,\"fTitleSize\":0.035,\"fTitleColor\":1,\"fTitleFont\":42,\"fNbins\":1,\"fXmin\":0,\"fXmax\":1,\"fXbins\":[],\"fFirst\":0,\"fLast\":0,\"fBits2\":0,\"fTimeDisplay\":false,\"fTimeFormat\":\"\",\"fLabels\":null,\"fModLabs\":null},\"fZaxis\":{\"_typename\":\"TAxis\",\"fUniqueID\":0,\"fBits\":0,\"fName\":\"zaxis\",\"fTitle\":\"\",\"fNdivisions\":510,\"fAxisColor\":1,\"fLabelColor\":1,\"fLabelFont\":42,\"fLabelOffset\":0.005,\"fLabelSize\":0.035,\"fTickLength\":0.03,\"fTitleOffset\":1,\"fTitleSize\":0.035,\"fTitleColor\":1,\"fTitleFont\":42,\"fNbins\":1,\"fXmin\":0,\"fXmax\":1,\"fXbins\":[],\"fFirst\":0,\"fLast\":0,\"fBits2\":0,\"fTimeDisplay\":false,\"fTimeFormat\":\"\",\"fLabels\":null,\"fModLabs\":null},\"fBarOffset\":0,\"fBarWidth\":1000,\"fEntries\":740581,\"fTsumw\":7405810000000,\"fTsumw2\":74058100000000000000,\"fTsumwx\":3233730206735.58,\"fTsumwx2\":2284945818073.82,\"fMaximum\":-1111,\"fMinimum\":-1111,\"fNormFactor\":0,\"fContour\":[],\"fSumw2\":{\"$arr\":\"Float64\",\"len\":27,\"p\":1,\"v\":[17753200000000000000,19229900000000000000,10960500000000000000,8308300000000000000,5262100000000000000,4635200000000000000,3733200000000000000,2381500000000000000,1217000000000000000,505700000000000000,71500000000000000]},\"fOption\":\"\",\"fFunctions\":{\"_typename\":\"TList\",\"name\":\"TList\",\"arr\":[],\"opt\":[]},\"fBufferSize\":0,\"fBuffer\":[],\"fBinStatErrOpt\":0,\"fStatOverflows\":2,\"fArray\":{\"$arr\":\"Float64\",\"len\":27,\"p\":1,\"v\":[1775320000000,1922990000000,1096050000000,830830000000,526210000000,463520000000,373320000000,238150000000,121700000000,50570000000,7150000000]}},{\"_typename\":\"TH1D\",\"fUniqueID\":0,\"fBits\":520,\"fName\":\"h_omega_thetazl_0_G18\",\"fTitle\":\"\",\"fLineColor\":632,\"fLineStyle\":2,\"fLineWidth\":3,\"fFillColor\":0,\"fFillStyle\":1001,\"fMarkerColor\":1,\"fMarkerStyle\":1,\"fMarkerSize\":1,\"fNcells\":27,\"fXaxis\":{\"_typename\":\"TAxis\",\"fUniqueID\":0,\"fBits\":0,\"fName\":\"xaxis\",\"fTitle\":\"Energy Transfer (GeV)\",\"fNdivisions\":510,\"fAxisColor\":1,\"fLabelColor\":1,\"fLabelFont\":42,\"fLabelOffset\":0.005,\"fLabelSize\":0.035,\"fTickLength\":0.03,\"fTitleOffset\":1,\"fTitleSize\":0.035,\"fTitleColor\":1,\"fTitleFont\":42,\"fNbins\":25,\"fXmin\":0,\"fXmax\":4,\"fXbins\":[],\"fFirst\":0,\"fLast\":0,\"fBits2\":0,\"fTimeDisplay\":false,\"fTimeFormat\":\"\",\"fLabels\":null,\"fModLabs\":null},\"fYaxis\":{\"_typename\":\"TAxis\",\"fUniqueID\":0,\"fBits\":0,\"fName\":\"yaxis\",\"fTitle\":\"Events\\/bin\",\"fNdivisions\":510,\"fAxisColor\":1,\"fLabelColor\":1,\"fLabelFont\":42,\"fLabelOffset\":0.005,\"fLabelSize\":0.035,\"fTickLength\":0.03,\"fTitleOffset\":0,\"fTitleSize\":0.035,\"fTitleColor\":1,\"fTitleFont\":42,\"fNbins\":1,\"fXmin\":0,\"fXmax\":1,\"fXbins\":[],\"fFirst\":0,\"fLast\":0,\"fBits2\":0,\"fTimeDisplay\":false,\"fTimeFormat\":\"\",\"fLabels\":null,\"fModLabs\":null},\"fZaxis\":{\"_typename\":\"TAxis\",\"fUniqueID\":0,\"fBits\":0,\"fName\":\"zaxis\",\"fTitle\":\"\",\"fNdivisions\":510,\"fAxisColor\":1,\"fLabelColor\":1,\"fLabelFont\":42,\"fLabelOffset\":0.005,\"fLabelSize\":0.035,\"fTickLength\":0.03,\"fTitleOffset\":1,\"fTitleSize\":0.035,\"fTitleColor\":1,\"fTitleFont\":42,\"fNbins\":1,\"fXmin\":0,\"fXmax\":1,\"fXbins\":[],\"fFirst\":0,\"fLast\":0,\"fBits2\":0,\"fTimeDisplay\":false,\"fTimeFormat\":\"\",\"fLabels\":null,\"fModLabs\":null},\"fBarOffset\":0,\"fBarWidth\":1000,\"fEntries\":797323,\"fTsumw\":7973230000000,\"fTsumw2\":79732300000000000000,\"fTsumwx\":3663278432415.24,\"fTsumwx2\":2683266455274.43,\"fMaximum\":-1111,\"fMinimum\":-1111,\"fNormFactor\":0,\"fContour\":[],\"fSumw2\":{\"$arr\":\"Float64\",\"len\":27,\"p\":1,\"v\":[18400100000000000000,19227500000000000000,11545900000000000000,9089200000000000000,6394000000000000000,5529500000000000000,4455900000000000000,2838400000000000000,1521500000000000000,642200000000000000,88100000000000000]},\"fOption\":\"\",\"fFunctions\":{\"_typename\":\"TList\",\"name\":\"TList\",\"arr\":[],\"opt\":[]},\"fBufferSize\":0,\"fBuffer\":[],\"fBinStatErrOpt\":0,\"fStatOverflows\":2,\"fArray\":{\"$arr\":\"Float64\",\"len\":27,\"p\":1,\"v\":[1840010000000,1922750000000,1154590000000,908920000000,639400000000,552950000000,445590000000,283840000000,152150000000,64220000000,8810000000]}},{\"_typename\":\"TLegend\",\"fUniqueID\":0,\"fBits\":8,\"fLineColor\":1,\"fLineStyle\":1,\"fLineWidth\":1,\"fFillColor\":0,\"fFillStyle\":1001,\"fX1\":1.49999999254942,\"fY1\":1514354632521.88,\"fX2\":3.90000002831221,\"fY2\":1968661026791.57,\"fX1NDC\":0.4,\"fY1NDC\":0.7,\"fX2NDC\":0.88,\"fY2NDC\":0.88,\"fBorderSize\":1,\"fInit\":1,\"fShadowColor\":1,\"fCornerRadius\":0,\"fOption\":\"brNDC\",\"fName\":\"TPave\",\"fTextAngle\":0,\"fTextSize\":0,\"fTextAlign\":12,\"fTextColor\":1,\"fTextFont\":42,\"fPrimitives\":{\"_typename\":\"TList\",\"name\":\"TList\",\"arr\":[{\"_typename\":\"TLegendEntry\",\"fUniqueID\":0,\"fBits\":0,\"fTextAngle\":0,\"fTextSize\":0,\"fTextAlign\":0,\"fTextColor\":0,\"fTextFont\":42,\"fLineColor\":600,\"fLineStyle\":1,\"fLineWidth\":2,\"fFillColor\":0,\"fFillStyle\":1001,\"fMarkerColor\":1,\"fMarkerStyle\":1,\"fMarkerSize\":1,\"fObject\":{\"$ref\":5},\"fLabel\":\"G21_11b\",\"fOption\":\"lpf\"},{\"_typename\":\"TLegendEntry\",\"fUniqueID\":0,\"fBits\":0,\"fTextAngle\":0,\"fTextSize\":0,\"fTextAlign\":0,\"fTextColor\":0,\"fTextFont\":42,\"fLineColor\":632,\"fLineStyle\":2,\"fLineWidth\":3,\"fFillColor\":0,\"fFillStyle\":1001,\"fMarkerColor\":1,\"fMarkerStyle\":1,\"fMarkerSize\":1,\"fObject\":{\"$ref\":10},\"fLabel\":\"G18_02a\",\"fOption\":\"lpf\"}],\"opt\":[\"lpf\",\"lpf\"]},\"fEntrySeparation\":0.1,\"fMargin\":0.25,\"fNColumns\":1,\"fColumnSeparation\":0},{\"_typename\":\"TPaveText\",\"fUniqueID\":0,\"fBits\":9,\"fLineColor\":1,\"fLineStyle\":1,\"fLineWidth\":1,\"fFillColor\":0,\"fFillStyle\":0,\"fX1\":1.21632427403524,\"fY1\":2120096501514.63,\"fX2\":2.78367572596476,\"fY2\":2258912346276.67,\"fX1NDC\":0.343264857142584,\"fY1NDC\":0.940000003948808,\"fX2NDC\":0.656735142857416,\"fY2NDC\":0.995000004768372,\"fBorderSize\":0,\"fInit\":1,\"fShadowColor\":1,\"fCornerRadius\":0,\"fOption\":\"blNDC\",\"fName\":\"title\",\"fTextAngle\":0,\"fTextSize\":0,\"fTextAlign\":22,\"fTextColor\":1,\"fTextFont\":42,\"fLabel\":\"\",\"fLongest\":29,\"fMargin\":0.05,\"fLines\":{\"_typename\":\"TList\",\"name\":\"TList\",\"arr\":[{\"_typename\":\"TLatex\",\"fUniqueID\":0,\"fBits\":0,\"fName\":\"\",\"fTitle\":\"5#circ < #theta_{e} < 10#circ\",\"fTextAngle\":0,\"fTextSize\":0,\"fTextAlign\":0,\"fTextColor\":0,\"fTextFont\":0,\"fX\":0,\"fY\":0,\"fLineColor\":1,\"fLineStyle\":1,\"fLineWidth\":2,\"fLimitFactorSize\":3,\"fOriginSize\":0.0467500016093254}],\"opt\":[\"\"]}}],\"opt\":[\"\",\"hist\",\"histsame\",\"\",\"blNDC\"]},\"fExecs\":{\"_typename\":\"TList\",\"name\":\"TList\",\"arr\":[],\"opt\":[]},\"fName\":\"c3_1\",\"fTitle\":\"c3_1\",\"fNumPaletteColor\":0,\"fNextPaletteColor\":0},{\"_typename\":\"TPad\",\"fUniqueID\":0,\"fBits\":9,\"fLineColor\":1,\"fLineStyle\":1,\"fLineWidth\":1,\"fFillColor\":0,\"fFillStyle\":1001,\"fLeftMargin\":0.1,\"fRightMargin\":0.1,\"fBottomMargin\":0.1,\"fTopMargin\":0.1,\"fXfile\":2,\"fYfile\":2,\"fAfile\":1,\"fXstat\":0.99,\"fYstat\":0.99,\"fAstat\":2,\"fFrameFillColor\":0,\"fFrameLineColor\":1,\"fFrameFillStyle\":1001,\"fFrameLineStyle\":1,\"fFrameLineWidth\":1,\"fFrameBorderSize\":1,\"fFrameBorderMode\":0,\"fX1\":-0.500000037252905,\"fY1\":-4358812824.75686,\"fX2\":4.5000000372529,\"fY2\":39229312824.7569,\"fXtoAbsPixelk\":260.768051175404,\"fXtoPixelk\":21.8080513309718,\"fXtoPixel\":43.6159994122982,\"fYtoAbsPixelk\":421.024047327328,\"fYtoPixelk\":416.304047432828,\"fYtoPixel\":-1.06120644858736e-8,\"fUtoAbsPixelk\":238.960049844432,\"fUtoPixelk\":5e-5,\"fUtoPixel\":218.080000311136,\"fVtoAbsPixelk\":467.2800501055,\"fVtoPixelk\":462.560000211,\"fVtoPixel\":-462.560000211,\"fAbsPixeltoXk\":-5.97872351176427,\"fPixeltoXk\":-0.500000037252905,\"fPixeltoX\":0.0229273664131157,\"fAbsPixeltoYk\":39674089606.9544,\"fPixeltoYk\":-4358812824.75686,\"fPixeltoY\":-94232371.2159085,\"fXlowNDC\":0.343333333109816,\"fYlowNDC\":0.00999999977648258,\"fXUpNDC\":0.656666666890184,\"fYUpNDC\":0.990000000223517,\"fWNDC\":0.313333333780368,\"fHNDC\":0.980000000447035,\"fAbsXlowNDC\":0.343333333109816,\"fAbsYlowNDC\":0.00999999977648258,\"fAbsWNDC\":0.313333333780368,\"fAbsHNDC\":0.980000000447035,\"fUxmin\":0,\"fUymin\":0,\"fUxmax\":4,\"fUymax\":34870500000,\"fTheta\":30,\"fPhi\":30,\"fAspectRatio\":0,\"fNumber\":2,\"fTickx\":0,\"fTicky\":0,\"fLogx\":0,\"fLogy\":0,\"fLogz\":0,\"fPadPaint\":0,\"fCrosshair\":0,\"fCrosshairPos\":0,\"fBorderSize\":2,\"fBorderMode\":0,\"fModified\":false,\"fGridx\":false,\"fGridy\":false,\"fAbsCoord\":false,\"fEditable\":true,\"fFixedAspectRatio\":false,\"fPrimitives\":{\"_typename\":\"TList\",\"name\":\"TList\",\"arr\":[{\"_typename\":\"TFrame\",\"fUniqueID\":0,\"fBits\":8,\"fLineColor\":1,\"fLineStyle\":1,\"fLineWidth\":1,\"fFillColor\":0,\"fFillStyle\":1001,\"fX1\":0,\"fY1\":0,\"fX2\":4,\"fY2\":34870500000,\"fBorderSize\":1,\"fBorderMode\":0},{\"_typename\":\"TH1D\",\"fUniqueID\":0,\"fBits\":520,\"fName\":\"h_omega_thetazl_1_G18\",\"fTitle\":\"20#circ < #theta_{e} < 25#circ\",\"fLineColor\":632,\"fLineStyle\":2,\"fLineWidth\":3,\"fFillColor\":0,\"fFillStyle\":1001,\"fMarkerColor\":1,\"fMarkerStyle\":1,\"fMarkerSize\":1,\"fNcells\":27,\"fXaxis\":{\"_typename\":\"TAxis\",\"fUniqueID\":0,\"fBits\":0,\"fName\":\"xaxis\",\"fTitle\":\"Energy Transfer (GeV)\",\"fNdivisions\":510,\"fAxisColor\":1,\"fLabelColor\":1,\"fLabelFont\":42,\"fLabelOffset\":0.005,\"fLabelSize\":0.035,\"fTickLength\":0.03,\"fTitleOffset\":1,\"fTitleSize\":0.035,\"fTitleColor\":1,\"fTitleFont\":42,\"fNbins\":25,\"fXmin\":0,\"fXmax\":4,\"fXbins\":[],\"fFirst\":0,\"fLast\":0,\"fBits2\":0,\"fTimeDisplay\":false,\"fTimeFormat\":\"\",\"fLabels\":null,\"fModLabs\":null},\"fYaxis\":{\"_typename\":\"TAxis\",\"fUniqueID\":0,\"fBits\":0,\"fName\":\"yaxis\",\"fTitle\":\"Events\\/bin\",\"fNdivisions\":510,\"fAxisColor\":1,\"fLabelColor\":1,\"fLabelFont\":42,\"fLabelOffset\":0.005,\"fLabelSize\":0.035,\"fTickLength\":0.03,\"fTitleOffset\":0,\"fTitleSize\":0.035,\"fTitleColor\":1,\"fTitleFont\":42,\"fNbins\":1,\"fXmin\":0,\"fXmax\":1,\"fXbins\":[],\"fFirst\":0,\"fLast\":0,\"fBits2\":0,\"fTimeDisplay\":false,\"fTimeFormat\":\"\",\"fLabels\":null,\"fModLabs\":null},\"fZaxis\":{\"_typename\":\"TAxis\",\"fUniqueID\":0,\"fBits\":0,\"fName\":\"zaxis\",\"fTitle\":\"\",\"fNdivisions\":510,\"fAxisColor\":1,\"fLabelColor\":1,\"fLabelFont\":42,\"fLabelOffset\":0.005,\"fLabelSize\":0.035,\"fTickLength\":0.03,\"fTitleOffset\":1,\"fTitleSize\":0.035,\"fTitleColor\":1,\"fTitleFont\":42,\"fNbins\":1,\"fXmin\":0,\"fXmax\":1,\"fXbins\":[],\"fFirst\":0,\"fLast\":0,\"fBits2\":0,\"fTimeDisplay\":false,\"fTimeFormat\":\"\",\"fLabels\":null,\"fModLabs\":null},\"fBarOffset\":0,\"fBarWidth\":1000,\"fEntries\":31854,\"fTsumw\":318540000000,\"fTsumw2\":3185400000000000000,\"fTsumwx\":672952343199.852,\"fTsumwx2\":1511337655446.92,\"fMaximum\":-1111,\"fMinimum\":-1111,\"fNormFactor\":0,\"fContour\":[],\"fSumw2\":{\"$arr\":\"Float64\",\"len\":27,\"p\":3,\"v\":[100000000000000,2800000000000000,16000000000000000,43300000000000000,70100000000000000,106700000000000000,152600000000000000,207500000000000000,244400000000000000,295400000000000000,296300000000000000,317000000000000000,318100000000000000,332100000000000000,332100000000000000,317000000000000000,133000000000000000,900000000000000]},\"fOption\":\"\",\"fFunctions\":{\"_typename\":\"TList\",\"name\":\"TList\",\"arr\":[],\"opt\":[]},\"fBufferSize\":0,\"fBuffer\":[],\"fBinStatErrOpt\":0,\"fStatOverflows\":2,\"fArray\":{\"$arr\":\"Float64\",\"len\":27,\"p\":3,\"v\":[10000000,280000000,1600000000,4330000000,7010000000,10670000000,15260000000,20750000000,24440000000,29540000000,29630000000,31700000000,31810000000,33210000000,33210000000,31700000000,13300000000,90000000]}},{\"_typename\":\"TH1D\",\"fUniqueID\":0,\"fBits\":520,\"fName\":\"h_omega_thetazl_1_G21\",\"fTitle\":\"\",\"fLineColor\":600,\"fLineStyle\":1,\"fLineWidth\":2,\"fFillColor\":0,\"fFillStyle\":1001,\"fMarkerColor\":1,\"fMarkerStyle\":1,\"fMarkerSize\":1,\"fNcells\":27,\"fXaxis\":{\"_typename\":\"TAxis\",\"fUniqueID\":0,\"fBits\":0,\"fName\":\"xaxis\",\"fTitle\":\"Energy Transfer (GeV)\",\"fNdivisions\":510,\"fAxisColor\":1,\"fLabelColor\":1,\"fLabelFont\":42,\"fLabelOffset\":0.005,\"fLabelSize\":0.035,\"fTickLength\":0.03,\"fTitleOffset\":1,\"fTitleSize\":0.035,\"fTitleColor\":1,\"fTitleFont\":42,\"fNbins\":25,\"fXmin\":0,\"fXmax\":4,\"fXbins\":[],\"fFirst\":0,\"fLast\":0,\"fBits2\":0,\"fTimeDisplay\":false,\"fTimeFormat\":\"\",\"fLabels\":null,\"fModLabs\":null},\"fYaxis\":{\"_typename\":\"TAxis\",\"fUniqueID\":0,\"fBits\":0,\"fName\":\"yaxis\",\"fTitle\":\"Events\\/bin\",\"fNdivisions\":510,\"fAxisColor\":1,\"fLabelColor\":1,\"fLabelFont\":42,\"fLabelOffset\":0.005,\"fLabelSize\":0.035,\"fTickLength\":0.03,\"fTitleOffset\":0,\"fTitleSize\":0.035,\"fTitleColor\":1,\"fTitleFont\":42,\"fNbins\":1,\"fXmin\":0,\"fXmax\":1,\"fXbins\":[],\"fFirst\":0,\"fLast\":0,\"fBits2\":0,\"fTimeDisplay\":false,\"fTimeFormat\":\"\",\"fLabels\":null,\"fModLabs\":null},\"fZaxis\":{\"_typename\":\"TAxis\",\"fUniqueID\":0,\"fBits\":0,\"fName\":\"zaxis\",\"fTitle\":\"\",\"fNdivisions\":510,\"fAxisColor\":1,\"fLabelColor\":1,\"fLabelFont\":42,\"fLabelOffset\":0.005,\"fLabelSize\":0.035,\"fTickLength\":0.03,\"fTitleOffset\":1,\"fTitleSize\":0.035,\"fTitleColor\":1,\"fTitleFont\":42,\"fNbins\":1,\"fXmin\":0,\"fXmax\":1,\"fXbins\":[],\"fFirst\":0,\"fLast\":0,\"fBits2\":0,\"fTimeDisplay\":false,\"fTimeFormat\":\"\",\"fLabels\":null,\"fModLabs\":null},\"fBarOffset\":0,\"fBarWidth\":1000,\"fEntries\":25601,\"fTsumw\":256010000000,\"fTsumw2\":2560100000000000000,\"fTsumwx\":539312667416.756,\"fTsumwx2\":1209566798720.7,\"fMaximum\":-1111,\"fMinimum\":-1111,\"fNormFactor\":0,\"fContour\":[],\"fSumw2\":{\"$arr\":\"Float64\",\"len\":27,\"p\":4,\"v\":[1400000000000000,11000000000000000,37000000000000000,64000000000000000,93000000000000000,125000000000000000,165700000000000000,199400000000000000,229900000000000000,239000000000000000,249700000000000000,258700000000000000,255700000000000000,262200000000000000,256600000000000000,110600000000000000,1200000000000000]},\"fOption\":\"\",\"fFunctions\":{\"_typename\":\"TList\",\"name\":\"TList\",\"arr\":[],\"opt\":[]},\"fBufferSize\":0,\"fBuffer\":[],\"fBinStatErrOpt\":0,\"fStatOverflows\":2,\"fArray\":{\"$arr\":\"Float64\",\"len\":27,\"p\":4,\"v\":[140000000,1100000000,3700000000,6400000000,9300000000,12500000000,16570000000,19940000000,22990000000,23900000000,24970000000,25870000000,25570000000,26220000000,25660000000,11060000000,120000000]}},{\"_typename\":\"TPaveText\",\"fUniqueID\":0,\"fBits\":9,\"fLineColor\":1,\"fLineStyle\":1,\"fLineWidth\":1,\"fFillColor\":0,\"fFillStyle\":0,\"fX1\":1.14754217479589,\"fY1\":36614025457.9072,\"fX2\":2.85245782520411,\"fY2\":39011372404.3537,\"fX1NDC\":0.329508437499701,\"fY1NDC\":0.940000003948808,\"fX2NDC\":0.670491562500299,\"fY2NDC\":0.995000004768372,\"fBorderSize\":0,\"fInit\":1,\"fShadowColor\":1,\"fCornerRadius\":0,\"fOption\":\"blNDC\",\"fName\":\"title\",\"fTextAngle\":0,\"fTextSize\":0,\"fTextAlign\":22,\"fTextColor\":1,\"fTextFont\":42,\"fLabel\":\"\",\"fLongest\":30,\"fMargin\":0.05,\"fLines\":{\"_typename\":\"TList\",\"name\":\"TList\",\"arr\":[{\"_typename\":\"TLatex\",\"fUniqueID\":0,\"fBits\":0,\"fName\":\"\",\"fTitle\":\"20#circ < #theta_{e} < 25#circ\",\"fTextAngle\":0,\"fTextSize\":0,\"fTextAlign\":0,\"fTextColor\":0,\"fTextFont\":0,\"fX\":0,\"fY\":0,\"fLineColor\":1,\"fLineStyle\":1,\"fLineWidth\":2,\"fLimitFactorSize\":3,\"fOriginSize\":0.0467500016093254}],\"opt\":[\"\"]}}],\"opt\":[\"\",\"hist\",\"histsame\",\"blNDC\"]},\"fExecs\":{\"_typename\":\"TList\",\"name\":\"TList\",\"arr\":[],\"opt\":[]},\"fName\":\"c3_2\",\"fTitle\":\"c3_2\",\"fNumPaletteColor\":0,\"fNextPaletteColor\":0},{\"_typename\":\"TPad\",\"fUniqueID\":0,\"fBits\":9,\"fLineColor\":1,\"fLineStyle\":1,\"fLineWidth\":1,\"fFillColor\":0,\"fFillStyle\":1001,\"fLeftMargin\":0.1,\"fRightMargin\":0.1,\"fBottomMargin\":0.1,\"fTopMargin\":0.1,\"fXfile\":2,\"fYfile\":2,\"fAfile\":1,\"fXstat\":0.99,\"fYstat\":0.99,\"fAstat\":2,\"fFrameFillColor\":0,\"fFrameLineColor\":1,\"fFrameFillStyle\":1001,\"fFrameLineStyle\":1,\"fFrameLineWidth\":1,\"fFrameBorderSize\":1,\"fFrameBorderMode\":0,\"fX1\":-0.500000037252905,\"fY1\":-1106437582.43602,\"fX2\":4.5000000372529,\"fY2\":9957937582.43602,\"fXtoAbsPixelk\":492.768051175404,\"fXtoPixelk\":21.8080513309718,\"fXtoPixel\":43.6159994122982,\"fYtoAbsPixelk\":421.024047327328,\"fYtoPixelk\":416.304047432828,\"fYtoPixel\":-4.18062469247761e-8,\"fUtoAbsPixelk\":470.960049844432,\"fUtoPixelk\":5e-5,\"fUtoPixel\":218.080000311136,\"fVtoAbsPixelk\":467.2800501055,\"fVtoPixelk\":462.560000211,\"fVtoPixel\":-462.560000211,\"fAbsPixeltoXk\":-11.2978725196071,\"fPixeltoXk\":-0.500000037252905,\"fPixeltoX\":0.0229273664131157,\"fAbsPixeltoYk\":10070839367.2576,\"fPixeltoYk\":-1106437582.43602,\"fPixeltoY\":-23919870.2002442,\"fXlowNDC\":0.676666666443149,\"fYlowNDC\":0.00999999977648258,\"fXUpNDC\":0.990000000223517,\"fYUpNDC\":0.990000000223517,\"fWNDC\":0.313333333780368,\"fHNDC\":0.980000000447035,\"fAbsXlowNDC\":0.676666666443149,\"fAbsYlowNDC\":0.00999999977648258,\"fAbsWNDC\":0.313333333780368,\"fAbsHNDC\":0.980000000447035,\"fUxmin\":0,\"fUymin\":0,\"fUxmax\":4,\"fUymax\":8851500000,\"fTheta\":30,\"fPhi\":30,\"fAspectRatio\":0,\"fNumber\":3,\"fTickx\":0,\"fTicky\":0,\"fLogx\":0,\"fLogy\":0,\"fLogz\":0,\"fPadPaint\":0,\"fCrosshair\":0,\"fCrosshairPos\":0,\"fBorderSize\":2,\"fBorderMode\":0,\"fModified\":false,\"fGridx\":false,\"fGridy\":false,\"fAbsCoord\":false,\"fEditable\":true,\"fFixedAspectRatio\":false,\"fPrimitives\":{\"_typename\":\"TList\",\"name\":\"TList\",\"arr\":[{\"_typename\":\"TFrame\",\"fUniqueID\":0,\"fBits\":8,\"fLineColor\":1,\"fLineStyle\":1,\"fLineWidth\":1,\"fFillColor\":0,\"fFillStyle\":1001,\"fX1\":0,\"fY1\":0,\"fX2\":4,\"fY2\":8851500000,\"fBorderSize\":1,\"fBorderMode\":0},{\"_typename\":\"TH1D\",\"fUniqueID\":0,\"fBits\":520,\"fName\":\"h_omega_thetazl_2_G18\",\"fTitle\":\"35#circ < #theta_{e} < 40#circ\",\"fLineColor\":632,\"fLineStyle\":2,\"fLineWidth\":3,\"fFillColor\":0,\"fFillStyle\":1001,\"fMarkerColor\":1,\"fMarkerStyle\":1,\"fMarkerSize\":1,\"fNcells\":27,\"fXaxis\":{\"_typename\":\"TAxis\",\"fUniqueID\":0,\"fBits\":0,\"fName\":\"xaxis\",\"fTitle\":\"Energy Transfer (GeV)\",\"fNdivisions\":510,\"fAxisColor\":1,\"fLabelColor\":1,\"fLabelFont\":42,\"fLabelOffset\":0.005,\"fLabelSize\":0.035,\"fTickLength\":0.03,\"fTitleOffset\":1,\"fTitleSize\":0.035,\"fTitleColor\":1,\"fTitleFont\":42,\"fNbins\":25,\"fXmin\":0,\"fXmax\":4,\"fXbins\":[],\"fFirst\":0,\"fLast\":0,\"fBits2\":0,\"fTimeDisplay\":false,\"fTimeFormat\":\"\",\"fLabels\":null,\"fModLabs\":null},\"fYaxis\":{\"_typename\":\"TAxis\",\"fUniqueID\":0,\"fBits\":0,\"fName\":\"yaxis\",\"fTitle\":\"Events\\/bin\",\"fNdivisions\":510,\"fAxisColor\":1,\"fLabelColor\":1,\"fLabelFont\":42,\"fLabelOffset\":0.005,\"fLabelSize\":0.035,\"fTickLength\":0.03,\"fTitleOffset\":0,\"fTitleSize\":0.035,\"fTitleColor\":1,\"fTitleFont\":42,\"fNbins\":1,\"fXmin\":0,\"fXmax\":1,\"fXbins\":[],\"fFirst\":0,\"fLast\":0,\"fBits2\":0,\"fTimeDisplay\":false,\"fTimeFormat\":\"\",\"fLabels\":null,\"fModLabs\":null},\"fZaxis\":{\"_typename\":\"TAxis\",\"fUniqueID\":0,\"fBits\":0,\"fName\":\"zaxis\",\"fTitle\":\"\",\"fNdivisions\":510,\"fAxisColor\":1,\"fLabelColor\":1,\"fLabelFont\":42,\"fLabelOffset\":0.005,\"fLabelSize\":0.035,\"fTickLength\":0.03,\"fTitleOffset\":1,\"fTitleSize\":0.035,\"fTitleColor\":1,\"fTitleFont\":42,\"fNbins\":1,\"fXmin\":0,\"fXmax\":1,\"fXbins\":[],\"fFirst\":0,\"fLast\":0,\"fBits2\":0,\"fTimeDisplay\":false,\"fTimeFormat\":\"\",\"fLabels\":null,\"fModLabs\":null},\"fBarOffset\":0,\"fBarWidth\":1000,\"fEntries\":3954,\"fTsumw\":39540000000,\"fTsumw2\":395400000000000000,\"fTsumwx\":114366644832.13,\"fTsumwx2\":335461461074.073,\"fMaximum\":-1111,\"fMinimum\":-1111,\"fNormFactor\":0,\"fContour\":[],\"fSumw2\":{\"$arr\":\"Float64\",\"len\":27,\"p\":10,\"v\":[300000000000000,700000000000000,2600000000000000,4600000000000000,11700000000000000,20600000000000000,28900000000000000,42400000000000000,54100000000000000,64000000000000000,79400000000000000,84300000000000000,1800000000000000]},\"fOption\":\"\",\"fFunctions\":{\"_typename\":\"TList\",\"name\":\"TList\",\"arr\":[],\"opt\":[]},\"fBufferSize\":0,\"fBuffer\":[],\"fBinStatErrOpt\":0,\"fStatOverflows\":2,\"fArray\":{\"$arr\":\"Float64\",\"len\":27,\"p\":10,\"v\":[30000000,70000000,260000000,460000000,1170000000,2060000000,2890000000,4240000000,5410000000,6400000000,7940000000,8430000000,180000000]}},{\"_typename\":\"TH1D\",\"fUniqueID\":0,\"fBits\":520,\"fName\":\"h_omega_thetazl_2_G21\",\"fTitle\":\"\",\"fLineColor\":600,\"fLineStyle\":1,\"fLineWidth\":2,\"fFillColor\":0,\"fFillStyle\":1001,\"fMarkerColor\":1,\"fMarkerStyle\":1,\"fMarkerSize\":1,\"fNcells\":27,\"fXaxis\":{\"_typename\":\"TAxis\",\"fUniqueID\":0,\"fBits\":0,\"fName\":\"xaxis\",\"fTitle\":\"Energy Transfer (GeV)\",\"fNdivisions\":510,\"fAxisColor\":1,\"fLabelColor\":1,\"fLabelFont\":42,\"fLabelOffset\":0.005,\"fLabelSize\":0.035,\"fTickLength\":0.03,\"fTitleOffset\":1,\"fTitleSize\":0.035,\"fTitleColor\":1,\"fTitleFont\":42,\"fNbins\":25,\"fXmin\":0,\"fXmax\":4,\"fXbins\":[],\"fFirst\":0,\"fLast\":0,\"fBits2\":0,\"fTimeDisplay\":false,\"fTimeFormat\":\"\",\"fLabels\":null,\"fModLabs\":null},\"fYaxis\":{\"_typename\":\"TAxis\",\"fUniqueID\":0,\"fBits\":0,\"fName\":\"yaxis\",\"fTitle\":\"Events\\/bin\",\"fNdivisions\":510,\"fAxisColor\":1,\"fLabelColor\":1,\"fLabelFont\":42,\"fLabelOffset\":0.005,\"fLabelSize\":0.035,\"fTickLength\":0.03,\"fTitleOffset\":0,\"fTitleSize\":0.035,\"fTitleColor\":1,\"fTitleFont\":42,\"fNbins\":1,\"fXmin\":0,\"fXmax\":1,\"fXbins\":[],\"fFirst\":0,\"fLast\":0,\"fBits2\":0,\"fTimeDisplay\":false,\"fTimeFormat\":\"\",\"fLabels\":null,\"fModLabs\":null},\"fZaxis\":{\"_typename\":\"TAxis\",\"fUniqueID\":0,\"fBits\":0,\"fName\":\"zaxis\",\"fTitle\":\"\",\"fNdivisions\":510,\"fAxisColor\":1,\"fLabelColor\":1,\"fLabelFont\":42,\"fLabelOffset\":0.005,\"fLabelSize\":0.035,\"fTickLength\":0.03,\"fTitleOffset\":1,\"fTitleSize\":0.035,\"fTitleColor\":1,\"fTitleFont\":42,\"fNbins\":1,\"fXmin\":0,\"fXmax\":1,\"fXbins\":[],\"fFirst\":0,\"fLast\":0,\"fBits2\":0,\"fTimeDisplay\":false,\"fTimeFormat\":\"\",\"fLabels\":null,\"fModLabs\":null},\"fBarOffset\":0,\"fBarWidth\":1000,\"fEntries\":3039,\"fTsumw\":30390000000,\"fTsumw2\":303900000000000000,\"fTsumwx\":88161965264.2274,\"fTsumwx2\":259156316272.206,\"fMaximum\":-1111,\"fMinimum\":-1111,\"fNormFactor\":0,\"fContour\":[],\"fSumw2\":{\"$arr\":\"Float64\",\"len\":27,\"p\":11,\"v\":[300000000000000,1300000000000000,4300000000000000,6900000000000000,18000000000000000,22700000000000000,29500000000000000,38300000000000000,51500000000000000,65700000000000000,64500000000000000,900000000000000]},\"fOption\":\"\",\"fFunctions\":{\"_typename\":\"TList\",\"name\":\"TList\",\"arr\":[],\"opt\":[]},\"fBufferSize\":0,\"fBuffer\":[],\"fBinStatErrOpt\":0,\"fStatOverflows\":2,\"fArray\":{\"$arr\":\"Float64\",\"len\":27,\"p\":11,\"v\":[30000000,130000000,430000000,690000000,1800000000,2270000000,2950000000,3830000000,5150000000,6570000000,6450000000,90000000]}},{\"_typename\":\"TPaveText\",\"fUniqueID\":0,\"fBits\":9,\"fLineColor\":1,\"fLineStyle\":1,\"fLineWidth\":1,\"fFillColor\":0,\"fFillStyle\":0,\"fX1\":1.14754217479589,\"fY1\":9294075116.23479,\"fX2\":2.85245782520411,\"fY2\":9902615759.37071,\"fX1NDC\":0.329508437499701,\"fY1NDC\":0.940000003948808,\"fX2NDC\":0.670491562500299,\"fY2NDC\":0.995000004768372,\"fBorderSize\":0,\"fInit\":1,\"fShadowColor\":1,\"fCornerRadius\":0,\"fOption\":\"blNDC\",\"fName\":\"title\",\"fTextAngle\":0,\"fTextSize\":0,\"fTextAlign\":22,\"fTextColor\":1,\"fTextFont\":42,\"fLabel\":\"\",\"fLongest\":30,\"fMargin\":0.05,\"fLines\":{\"_typename\":\"TList\",\"name\":\"TList\",\"arr\":[{\"_typename\":\"TLatex\",\"fUniqueID\":0,\"fBits\":0,\"fName\":\"\",\"fTitle\":\"35#circ < #theta_{e} < 40#circ\",\"fTextAngle\":0,\"fTextSize\":0,\"fTextAlign\":0,\"fTextColor\":0,\"fTextFont\":0,\"fX\":0,\"fY\":0,\"fLineColor\":1,\"fLineStyle\":1,\"fLineWidth\":2,\"fLimitFactorSize\":3,\"fOriginSize\":0.0467500016093254}],\"opt\":[\"\"]}}],\"opt\":[\"\",\"hist\",\"histsame\",\"blNDC\"]},\"fExecs\":{\"_typename\":\"TList\",\"name\":\"TList\",\"arr\":[],\"opt\":[]},\"fName\":\"c3_3\",\"fTitle\":\"c3_3\",\"fNumPaletteColor\":0,\"fNextPaletteColor\":0},{\"_typename\":\"TStyle\",\"fUniqueID\":0,\"fBits\":0,\"fName\":\"Modern\",\"fTitle\":\"Modern Style\",\"fLineColor\":1,\"fLineStyle\":1,\"fLineWidth\":1,\"fFillColor\":19,\"fFillStyle\":1001,\"fMarkerColor\":1,\"fMarkerStyle\":1,\"fMarkerSize\":1,\"fTextAngle\":0,\"fTextSize\":0.05,\"fTextAlign\":11,\"fTextColor\":1,\"fTextFont\":62,\"fXaxis\":{\"_typename\":\"TAttAxis\",\"fNdivisions\":510,\"fAxisColor\":1,\"fLabelColor\":1,\"fLabelFont\":42,\"fLabelOffset\":0.005,\"fLabelSize\":0.035,\"fTickLength\":0.03,\"fTitleOffset\":1,\"fTitleSize\":0.035,\"fTitleColor\":1,\"fTitleFont\":42},\"fYaxis\":{\"_typename\":\"TAttAxis\",\"fNdivisions\":510,\"fAxisColor\":1,\"fLabelColor\":1,\"fLabelFont\":42,\"fLabelOffset\":0.005,\"fLabelSize\":0.035,\"fTickLength\":0.03,\"fTitleOffset\":0,\"fTitleSize\":0.035,\"fTitleColor\":1,\"fTitleFont\":42},\"fZaxis\":{\"_typename\":\"TAttAxis\",\"fNdivisions\":510,\"fAxisColor\":1,\"fLabelColor\":1,\"fLabelFont\":42,\"fLabelOffset\":0.005,\"fLabelSize\":0.035,\"fTickLength\":0.03,\"fTitleOffset\":1,\"fTitleSize\":0.035,\"fTitleColor\":1,\"fTitleFont\":42},\"fBarWidth\":1,\"fBarOffset\":0,\"fColorModelPS\":0,\"fDrawBorder\":0,\"fOptLogx\":0,\"fOptLogy\":0,\"fOptLogz\":0,\"fOptDate\":0,\"fOptStat\":0,\"fOptTitle\":1,\"fOptFile\":0,\"fOptFit\":0,\"fShowEventStatus\":0,\"fShowEditor\":0,\"fShowToolBar\":0,\"fNumberContours\":20,\"fAttDate\":{\"_typename\":\"TAttText\",\"fTextAngle\":0,\"fTextSize\":0.025,\"fTextAlign\":11,\"fTextColor\":1,\"fTextFont\":62},\"fDateX\":0.01,\"fDateY\":0.01,\"fEndErrorSize\":2,\"fErrorX\":0.5,\"fFuncColor\":2,\"fFuncStyle\":1,\"fFuncWidth\":2,\"fGridColor\":0,\"fGridStyle\":3,\"fGridWidth\":1,\"fLegendBorderSize\":1,\"fLegendFillColor\":0,\"fLegendFont\":42,\"fLegendTextSize\":0,\"fHatchesLineWidth\":1,\"fHatchesSpacing\":1,\"fFrameFillColor\":0,\"fFrameLineColor\":1,\"fFrameFillStyle\":1001,\"fFrameLineStyle\":1,\"fFrameLineWidth\":1,\"fFrameBorderSize\":1,\"fFrameBorderMode\":0,\"fHistFillColor\":0,\"fHistLineColor\":602,\"fHistFillStyle\":1001,\"fHistLineStyle\":1,\"fHistLineWidth\":1,\"fHistMinimumZero\":false,\"fHistTopMargin\":0.05,\"fCanvasPreferGL\":false,\"fCanvasColor\":0,\"fCanvasBorderSize\":2,\"fCanvasBorderMode\":0,\"fCanvasDefH\":500,\"fCanvasDefW\":700,\"fCanvasDefX\":10,\"fCanvasDefY\":10,\"fPadColor\":0,\"fPadBorderSize\":2,\"fPadBorderMode\":0,\"fPadBottomMargin\":0.1,\"fPadTopMargin\":0.1,\"fPadLeftMargin\":0.1,\"fPadRightMargin\":0.1,\"fPadGridX\":false,\"fPadGridY\":false,\"fPadTickX\":0,\"fPadTickY\":0,\"fPaperSizeX\":20,\"fPaperSizeY\":26,\"fScreenFactor\":1,\"fStatColor\":0,\"fStatTextColor\":1,\"fStatBorderSize\":1,\"fStatFont\":42,\"fStatFontSize\":0,\"fStatStyle\":1001,\"fStatFormat\":\"6.4g\",\"fStatX\":0.98,\"fStatY\":0.935,\"fStatW\":0.2,\"fStatH\":0.16,\"fStripDecimals\":true,\"fTitleAlign\":23,\"fTitleColor\":0,\"fTitleTextColor\":1,\"fTitleBorderSize\":0,\"fTitleFont\":42,\"fTitleFontSize\":0.05,\"fTitleStyle\":0,\"fTitleX\":0.5,\"fTitleY\":0.995,\"fTitleW\":0,\"fTitleH\":0,\"fLegoInnerR\":0.5,\"fLineStyles\":[\"\",\"  \",\" 12 12\",\" 4 8\",\" 12 16 4 16\",\" 20 12 4 12\",\" 20 12 4 12 4 12 4 12\",\" 20 20\",\" 20 12 4 12 4 12\",\" 80 20\",\" 80 40 4 40\",\"  \",\"  \",\"  \",\"  \",\"  \",\"  \",\"  \",\"  \",\"  \",\"  \",\"  \",\"  \",\"  \",\"  \",\"  \",\"  \",\"  \",\"  \",\"  \"],\"fHeaderPS\":\"\",\"fTitlePS\":\"\",\"fFitFormat\":\"5.4g\",\"fPaintTextFormat\":\"g\",\"fLineScalePS\":3,\"fJoinLinePS\":0,\"fCapLinePS\":0,\"fTimeOffset\":788918400,\"fImageScaling\":1}],\"opt\":[\"\",\"\",\"\",\"\"]},\"fExecs\":null,\"fName\":\"c3\",\"fTitle\":\"\",\"fNumPaletteColor\":0,\"fNextPaletteColor\":0,\"fDISPLAY\":\"$DISPLAY\",\"fDoubleBuffer\":0,\"fRetained\":true,\"fXsizeUser\":0,\"fYsizeUser\":0,\"fXsizeReal\":20,\"fYsizeReal\":14.28571,\"fWindowTopX\":0,\"fWindowTopY\":0,\"fWindowWidth\":0,\"fWindowHeight\":0,\"fCw\":696,\"fCh\":472,\"fCatt\":{\"_typename\":\"TAttCanvas\",\"fXBetween\":2,\"fYBetween\":2,\"fTitleFromTop\":1.2,\"fXdate\":0.2,\"fYdate\":0.3,\"fAdate\":1},\"kMoveOpaque\":true,\"kResizeOpaque\":true,\"fHighLightColor\":2,\"fBatch\":true,\"kShowEventStatus\":false,\"kAutoExec\":true,\"kMenuBar\":true});\n",
       "   Core.settings.HandleKeys = false;\n",
       "   Core.draw(\"root_plot_1659465121424\", obj, \"\");\n",
       "}\n",
       "\n",
       "function script_load_root_plot_1659465121424(src, on_error) {\n",
       "    let script = document.createElement('script');\n",
       "    script.src = src;\n",
       "    script.onload = function() { display_root_plot_1659465121424(JSROOT); };\n",
       "    script.onerror = function() { script.remove(); on_error(); };\n",
       "    document.head.appendChild(script);\n",
       "}\n",
       "\n",
       "if (typeof requirejs !== 'undefined') {\n",
       "\n",
       "    // We are in jupyter notebooks, use require.js which should be configured already\n",
       "    requirejs.config({\n",
       "       paths: { 'JSRootCore' : [ 'scripts/JSRoot.core', 'https://root.cern/js/6.1.1/scripts/JSRoot.core.min', 'https://jsroot.gsi.de/6.1.1/scripts/JSRoot.core.min' ] }\n",
       "    })(['JSRootCore'],  function(Core) {\n",
       "       display_root_plot_1659465121424(Core);\n",
       "    });\n",
       "\n",
       "} else if (typeof JSROOT !== 'undefined') {\n",
       "\n",
       "   // JSROOT already loaded, just use it\n",
       "   display_root_plot_1659465121424(JSROOT);\n",
       "\n",
       "} else {\n",
       "\n",
       "    // We are in jupyterlab without require.js, directly loading jsroot\n",
       "    // Jupyterlab might be installed in a different base_url so we need to know it.\n",
       "    try {\n",
       "        var base_url = JSON.parse(document.getElementById('jupyter-config-data').innerHTML).baseUrl;\n",
       "    } catch(_) {\n",
       "        var base_url = '/';\n",
       "    }\n",
       "\n",
       "    // Try loading a local version of requirejs and fallback to cdn if not possible.\n",
       "    script_load_root_plot_1659465121424(base_url + 'static/scripts/JSRoot.core.js', function(){\n",
       "        console.error('Fail to load JSROOT locally, please check your jupyter_notebook_config.py file');\n",
       "        script_load_root_plot_1659465121424('https://root.cern/js/6.1.1/scripts/JSRoot.core.min.js', function(){\n",
       "            document.getElementById(\"root_plot_1659465121424\").innerHTML = \"Failed to load JSROOT\";\n",
       "        });\n",
       "    });\n",
       "}\n",
       "\n",
       "</script>\n"
      ],
      "text/plain": [
       "<IPython.core.display.HTML object>"
      ]
     },
     "metadata": {},
     "output_type": "display_data"
    }
   ],
   "source": [
    "c3 = ROOT.TCanvas(\"c3\")\n",
    "c3.Divide(3)\n",
    "\n",
    "c3.cd(1)\n",
    "h_omega_thetazl_0_G21.SetTitle(\"5#circ < #theta_{e} < 10#circ;Energy Transfer (GeV);Events/bin\")\n",
    "h_omega_thetazl_0_G21.Draw(\"hist\")\n",
    "h_omega_thetazl_0_G18.Draw(\"histsame\")\n",
    "\n",
    "c3.cd(2)\n",
    "h_omega_thetazl_1_G18.SetTitle(\"20#circ < #theta_{e} < 25#circ;Energy Transfer (GeV);Events/bin\")\n",
    "h_omega_thetazl_1_G18.Draw(\"hist\")\n",
    "h_omega_thetazl_1_G21.Draw(\"histsame\")\n",
    "\n",
    "c3.cd(3)\n",
    "h_omega_thetazl_2_G18.SetTitle(\"35#circ < #theta_{e} < 40#circ;Energy Transfer (GeV);Events/bin\")\n",
    "h_omega_thetazl_2_G18.Draw(\"hist\")\n",
    "h_omega_thetazl_2_G21.Draw(\"histsame\")\n",
    "\n",
    "c3.cd(1)\n",
    "leg = ROOT.TLegend(0.4,0.7,0.88,0.88)\n",
    "leg.AddEntry(\"h_omega_thetazl_0_G21\",\"G21_11b\")\n",
    "leg.AddEntry(\"h_omega_thetazl_0_G18\",\"G18_02a\")\n",
    "leg.Draw()\n",
    "\n",
    "c3.Draw()\n",
    "c3.SaveAs(\"energy_transfer_by_angle.pdf\")"
   ]
  },
  {
   "cell_type": "code",
   "execution_count": null,
   "metadata": {},
   "outputs": [],
   "source": [
    "title=\";#deltap_{T} (GeV/c);Events/bin\"\n",
    "nbins=50\n",
    "xmin=0.0\n",
    "xmax=1.5\n",
    "\n",
    "h_deltapti_nfa_had_0pi = df_gst_GEM21_11b_DefA_trig.Filter(\"nfa_pi==0 && nfa_had>0\").Histo1D((\"h_deltapti_nfa_had_0pi\",title,nbins,xmin,xmax),\"delta_pti\")\n",
    "h_deltaptf_nfa_had_0pi = df_gst_GEM21_11b_DefA_trig.Filter(\"nfa_pi==0 && nfa_had>0\").Histo1D((\"h_deltaptf_nfa_had_0pi\",title,nbins,xmin,xmax),\"delta_ptf\")\n",
    "h_deltaptfa_all_Def_nfa_had_0pi = df_gst_GEM21_11b_DefA_trig.Filter(\"nfa_pi==0 && nfa_had>0\").Histo1D((\"h_deltaptfa_all_Def_nfa_had_0pi\",title,nbins,xmin,xmax),\"delta_ptfa_all\")\n",
    "h_deltaptfa_chhad_Def_nfa_had_0pi = df_gst_GEM21_11b_DefA_trig.Filter(\"nfa_pi==0 && nfa_had>0\").Histo1D((\"h_deltaptfa_chhad_Def_nfa_had_0pi\",title,nbins,xmin,xmax),\"delta_ptfa_chhad\")\n",
    "\n",
    "h_deltapti_nfa_had_0pi_G18 = df_gst_G18_02a_DefA_trig.Filter(\"nfa_pi==0 && nfa_had>0\").Histo1D((\"h_deltapti_nfa_had_0pi_G18\",title,nbins,xmin,xmax),\"delta_pti\")\n",
    "h_deltaptf_nfa_had_0pi_G18 = df_gst_G18_02a_DefA_trig.Filter(\"nfa_pi==0 && nfa_had>0\").Histo1D((\"h_deltaptf_nfa_had_0pi_G18\",title,nbins,xmin,xmax),\"delta_ptf\")\n",
    "h_deltaptfa_all_Def_nfa_had_0pi_G18 = df_gst_G18_02a_DefA_trig.Filter(\"nfa_pi==0 && nfa_had>0\").Histo1D((\"h_deltaptfa_all_Def_nfa_had_0pi_G18\",title,nbins,xmin,xmax),\"delta_ptfa_all\")\n",
    "h_deltaptfa_chhad_Def_nfa_had_0pi_G18 = df_gst_G18_02a_DefA_trig.Filter(\"nfa_pi==0 && nfa_had>0\").Histo1D((\"h_deltaptfa_chhad_Def_nfa_had_0pi_G18\",title,nbins,xmin,xmax),\"delta_ptfa_chhad\")"
   ]
  },
  {
   "cell_type": "code",
   "execution_count": null,
   "metadata": {},
   "outputs": [],
   "source": [
    "h_deltapti_nfa_chhad.Draw()\n",
    "h_deltapti_nfa_chhad.SetTitle(\"Nominal Acceptance, N_{charged hadron,obs} > 0\")\n",
    "h_deltaptfa_chhad_Def_nfa_chhad.Draw(\"same\")\n",
    "h_deltaptfa_all_Def_nfa_chhad.Draw(\"same\")\n",
    "h_deltaptf_nfa_chhad.Draw(\"same\")\n",
    "\n",
    "leg = ROOT.TLegend(0.4,0.7,0.88,0.88)\n",
    "leg.AddEntry(\"h_deltapti_nfa_chhad\",\"Initial-state hadrons (all)\")\n",
    "leg.AddEntry(\"h_deltaptf_nfa_chhad\",\"Final-state hadrons (all)\")\n",
    "leg.AddEntry(\"h_deltaptfa_all_Def_nfa_chhad\",\"Final-state hadrons (accepted)\")\n",
    "leg.AddEntry(\"h_deltaptfa_chhad_Def_nfa_chhad\",\"Final-state charged hadrons (accepted)\")\n",
    "leg.Draw()\n",
    "\n",
    "c.Draw()\n",
    "c.SaveAs(\"delta_pt_DefA_nfa_chhad.png\")"
   ]
  },
  {
   "cell_type": "code",
   "execution_count": null,
   "metadata": {},
   "outputs": [],
   "source": []
  },
  {
   "cell_type": "code",
   "execution_count": null,
   "metadata": {},
   "outputs": [],
   "source": [
    "h_nfdiff = df_gst_GEM21_11b_DefA_trig.Histo1D((\"h_nfdiff\",\"Nominal Acceptance;N_{hadron}-N_{hadron,obs};Events/bin\",11,-0.5,10.5),\"nf_had_diff\")"
   ]
  },
  {
   "cell_type": "code",
   "execution_count": null,
   "metadata": {},
   "outputs": [],
   "source": [
    "h_nfdiff.SetLineWidth(3)"
   ]
  },
  {
   "cell_type": "code",
   "execution_count": null,
   "metadata": {},
   "outputs": [],
   "source": [
    "h_nfdiff.Draw()\n",
    "c.Draw()\n",
    "c.SaveAs(\"nf_diff.png\")"
   ]
  },
  {
   "cell_type": "code",
   "execution_count": null,
   "metadata": {},
   "outputs": [],
   "source": [
    "h_nfdiff_2D = df_gst_GEM21_11b_DefA_trig.Histo2D((\"h_nfdiff_2D\",\"Nominal Acceptance;N_{hadron}-N_{hadron,obs};N_{hadron}\",11,-0.5,10.5,11,-0.5,10.5),\"nf_had_diff\",\"nf_had_ke\")"
   ]
  },
  {
   "cell_type": "code",
   "execution_count": null,
   "metadata": {},
   "outputs": [],
   "source": [
    "h_nfdiff_2D.Draw(\"colz\")\n",
    "c.Draw()"
   ]
  },
  {
   "cell_type": "code",
   "execution_count": null,
   "metadata": {},
   "outputs": [],
   "source": [
    "h_ptfm_proton = df_gst_GEM21_11b_DefA_trig.Filter(\"sum_ptfm_proton>0.05\").Histo1D((\"h_ptfm_proton\",\"\",100,0,2),\"sum_ptfm_proton\")\n",
    "h_ptfm_neutron = df_gst_GEM21_11b_DefA_trig.Filter(\"sum_ptfm_neutron>0.05\").Histo1D((\"h_ptfm_neutron\",\"\",100,0,2),\"sum_ptfm_neutron\")"
   ]
  },
  {
   "cell_type": "code",
   "execution_count": null,
   "metadata": {},
   "outputs": [],
   "source": [
    "h_ptfm_neutron.Draw()\n",
    "h_ptfm_proton.Draw(\"same\")\n",
    "c.Draw()"
   ]
  },
  {
   "cell_type": "code",
   "execution_count": null,
   "metadata": {},
   "outputs": [],
   "source": [
    "h_thetazfm_proton = df_gst_GEM21_11b_DefA_trig.Filter(\"nf_had_diff>0\").Define(\"thetazfm_proton_highke\",\"thetazfm_proton[kefm_proton>0.2]\").Histo1D((\"\",\"\",100,0,ROOT.TMath.Pi()),\"thetazfm_proton_highke\")\n",
    "h_thetazfm_neutron = df_gst_GEM21_11b_DefA_trig.Filter(\"nf_had_diff>0\").Histo1D((\"\",\"\",100,0,ROOT.TMath.Pi()),\"thetazfm_neutron\")"
   ]
  },
  {
   "cell_type": "code",
   "execution_count": null,
   "metadata": {},
   "outputs": [],
   "source": [
    "degrees(1.5)"
   ]
  },
  {
   "cell_type": "code",
   "execution_count": null,
   "metadata": {},
   "outputs": [],
   "source": [
    "h_thetazfm_proton.Draw()\n",
    "c.Draw()"
   ]
  },
  {
   "cell_type": "code",
   "execution_count": null,
   "metadata": {},
   "outputs": [],
   "source": [
    "h_fm_proton_2D = df_gst_GEM21_11b_DefA_trig.Filter(\"nf_had_diff>0\").Histo2D((\"\",\"\",50,0,ROOT.TMath.Pi(),50,0,1.),\"thetazfm_proton\",\"kefm_proton\")\n",
    "h_fm_neutron_2D = df_gst_GEM21_11b_DefA_trig.Filter(\"nf_had_diff>0\").Histo2D((\"\",\"\",50,0,ROOT.TMath.Pi(),50,0,1.),\"thetazfm_neutron\",\"kefm_neutron\")"
   ]
  },
  {
   "cell_type": "code",
   "execution_count": null,
   "metadata": {},
   "outputs": [],
   "source": [
    "h_fm_proton_2D.Draw(\"colz\")\n",
    "c.Draw()"
   ]
  },
  {
   "cell_type": "code",
   "execution_count": null,
   "metadata": {},
   "outputs": [],
   "source": [
    "h_fm_neutron_2D.Draw(\"colz\")\n",
    "c.Draw()"
   ]
  },
  {
   "cell_type": "code",
   "execution_count": null,
   "metadata": {},
   "outputs": [],
   "source": [
    "htmp = df_gst_GEM21_11b_DefA_trig.Filter(\"nf_had_diff>0\").Histo1D((\"\",\"\",100,0,2),\"sum_ptfm_proton\")\n"
   ]
  },
  {
   "cell_type": "code",
   "execution_count": null,
   "metadata": {},
   "outputs": [],
   "source": [
    "htmp.Draw()\n",
    "c.Draw()"
   ]
  },
  {
   "cell_type": "code",
   "execution_count": null,
   "metadata": {},
   "outputs": [],
   "source": [
    "htmp = df_gst_GEM21_11b_DefA_trig.Filter(\"sum_ptfm_proton>0.2\").Histo1D((\"\",\"\",100,0,2),\"kefm_proton\")\n"
   ]
  },
  {
   "cell_type": "code",
   "execution_count": null,
   "metadata": {},
   "outputs": [],
   "source": [
    "htmp.Draw()\n",
    "c.Draw()"
   ]
  },
  {
   "cell_type": "code",
   "execution_count": null,
   "metadata": {},
   "outputs": [],
   "source": [
    "htmp = df_gst_GEM21_11b_DefA_trig.Filter(\"sum_ptfm_proton>0.2\").Histo2D((\"\",\"\",20,0,ROOT.TMath.Pi(),20,0,1.0),\"thetazfm_proton\",\"kefm_proton\")"
   ]
  },
  {
   "cell_type": "code",
   "execution_count": null,
   "metadata": {},
   "outputs": [],
   "source": [
    "htmp.Draw(\"colz\"); c.Draw()"
   ]
  },
  {
   "cell_type": "code",
   "execution_count": null,
   "metadata": {},
   "outputs": [],
   "source": [
    "df_gst_GEM21_11b_DefA_DMTrig = df_gst_GEM21_11b_DefA.Filter(\"El<1.5 && pl<1.2\")"
   ]
  },
  {
   "cell_type": "code",
   "execution_count": null,
   "metadata": {},
   "outputs": [],
   "source": [
    "print(df_gst_GEM21_11b_DefA_DMTrig.Count().GetValue())\n",
    "print(df_gst_GEM21_11b_DefA_trig.Count().GetValue())"
   ]
  },
  {
   "cell_type": "code",
   "execution_count": null,
   "metadata": {},
   "outputs": [],
   "source": [
    "title=\";#deltap_{T} (GeV/c);Events/bin\"\n",
    "nbins=100\n",
    "xmin=0.0\n",
    "xmax=2.0\n",
    "\n",
    "h_deltapti = df_gst_GEM21_11b_DefA_DMTrig.Histo1D((\"h_deltapti\",title,nbins,xmin,xmax),\"delta_pti\")\n",
    "h_deltaptf = df_gst_GEM21_11b_DefA_DMTrig.Histo1D((\"h_deltaptf\",title,nbins,xmin,xmax),\"delta_ptf\")\n",
    "h_deltaptfa_all_Def = df_gst_GEM21_11b_DefA_DMTrig.Histo1D((\"h_deltaptfa_all_Def\",title,nbins,xmin,xmax),\"delta_ptfa_all\")\n",
    "h_deltaptfa_chhad_Def = df_gst_GEM21_11b_DefA_DMTrig.Histo1D((\"h_deltaptfa_chhad_Def\",title,nbins,xmin,xmax),\"delta_ptfa_chhad\")"
   ]
  },
  {
   "cell_type": "code",
   "execution_count": null,
   "metadata": {},
   "outputs": [],
   "source": [
    "format_hists([h_deltapti,h_deltaptf,\n",
    "              h_deltaptfa_all_Def,\n",
    "              h_deltaptfa_chhad_Def],\n",
    "             [ROOT.kBlue,ROOT.kRed,\n",
    "              ROOT.kGreen+2,\n",
    "              ROOT.kOrange-2])"
   ]
  },
  {
   "cell_type": "code",
   "execution_count": null,
   "metadata": {},
   "outputs": [],
   "source": [
    "h_deltapti.Draw()\n",
    "h_deltapti.SetTitle(\"Nominal Acceptance;#deltap_{T} (GeV/c);Events/bin\")\n",
    "h_deltaptfa_chhad_Def.Draw(\"same\")\n",
    "h_deltaptfa_all_Def.Draw(\"same\")\n",
    "h_deltaptf.Draw(\"same\")\n",
    "\n",
    "leg = ROOT.TLegend(0.4,0.7,0.88,0.88)\n",
    "leg.AddEntry(\"h_deltapti\",\"Initial-state hadrons (all)\")\n",
    "leg.AddEntry(\"h_deltaptf\",\"Final-state hadrons (all)\")\n",
    "leg.AddEntry(\"h_deltaptfa_all_Def\",\"Final-state hadrons (accepted)\")\n",
    "leg.AddEntry(\"h_deltaptfa_chhad_Def\",\"Final-state charged hadrons (accepted)\")\n",
    "leg.Draw()\n",
    "\n",
    "c.Draw()\n",
    "#c.SaveAs(\"delta_pt_DefA.png\")"
   ]
  },
  {
   "cell_type": "code",
   "execution_count": null,
   "metadata": {},
   "outputs": [],
   "source": [
    "df_gst_GEM21_11b_DefA.Filter(\"nfem>0\").Count().GetValue()"
   ]
  },
  {
   "cell_type": "code",
   "execution_count": null,
   "metadata": {},
   "outputs": [],
   "source": [
    "rows=10\n",
    "disp = df_gst_GEM21_11b_DefA.Filter(\"nfem>0\").Range(rows).Display([\"nfem\",\"pdgf\",\"massf\",\"kef\"],rows,100)\n",
    "disp.Print()"
   ]
  },
  {
   "cell_type": "code",
   "execution_count": null,
   "metadata": {},
   "outputs": [],
   "source": []
  }
 ],
 "metadata": {
  "kernelspec": {
   "display_name": "Python 3 (ipykernel)",
   "language": "python",
   "name": "python3"
  },
  "language_info": {
   "codemirror_mode": {
    "name": "ipython",
    "version": 3
   },
   "file_extension": ".py",
   "mimetype": "text/x-python",
   "name": "python",
   "nbconvert_exporter": "python",
   "pygments_lexer": "ipython3",
   "version": "3.11.7"
  }
 },
 "nbformat": 4,
 "nbformat_minor": 4
}
