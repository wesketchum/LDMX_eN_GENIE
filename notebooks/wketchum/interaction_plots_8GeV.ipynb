{
 "cells": [
  {
   "cell_type": "code",
   "execution_count": 1,
   "id": "758a1061",
   "metadata": {},
   "outputs": [],
   "source": [
    "import os,sys\n",
    "sys.path.append(\"../notebook_utilities/\")\n",
    "from analysis_common import *"
   ]
  },
  {
   "cell_type": "code",
   "execution_count": 2,
   "id": "2325c46c",
   "metadata": {},
   "outputs": [
    {
     "name": "stdout",
     "output_type": "stream",
     "text": [
      "Welcome to JupyROOT 6.30/02\n"
     ]
    }
   ],
   "source": [
    "from root_common import *"
   ]
  },
  {
   "cell_type": "code",
   "execution_count": 3,
   "id": "a2319cc2-1bcd-4d3d-9ef1-6ee4b15f9f69",
   "metadata": {},
   "outputs": [],
   "source": [
    "import pandas as pd\n",
    "import dask.dataframe as dd"
   ]
  },
  {
   "cell_type": "code",
   "execution_count": 4,
   "id": "0d6e1c0b-eb88-4622-8583-ad04779fcdd7",
   "metadata": {},
   "outputs": [],
   "source": [
    "import glob"
   ]
  },
  {
   "cell_type": "code",
   "execution_count": 5,
   "id": "a7d966f8-b635-4bae-9ed3-4467a85c8f01",
   "metadata": {},
   "outputs": [],
   "source": [
    "# Pattern to match the ROOT files\n",
    "file_pattern = \"/Users/wketchum/Data/LDMX/production_07Jan2024/*_ana.root\"\n",
    "\n",
    "# List to hold the DataFrames\n",
    "dfs = []"
   ]
  },
  {
   "cell_type": "code",
   "execution_count": 6,
   "id": "981e56d4-ba9a-466f-b31c-f6de35d73af4",
   "metadata": {},
   "outputs": [
    {
     "name": "stdout",
     "output_type": "stream",
     "text": [
      "/Users/wketchum/Data/LDMX/production_07Jan2024/ldmx_genie_G18_02a_02_11b_Ti_8GeV_101228_reco_ana.root\n",
      "/Users/wketchum/Data/LDMX/production_07Jan2024/ldmx_genie_G18_02a_02_11b_Ti_8GeV_101074_reco_ana.root\n",
      "/Users/wketchum/Data/LDMX/production_07Jan2024/ldmx_genie_G18_02a_02_11b_Ti_8GeV_101124_reco_ana.root\n",
      "/Users/wketchum/Data/LDMX/production_07Jan2024/ldmx_genie_G18_02a_02_11b_Ti_8GeV_101282_reco_ana.root\n",
      "/Users/wketchum/Data/LDMX/production_07Jan2024/ldmx_genie_G18_02a_02_11b_Ti_8GeV_101063_reco_ana.root\n",
      "/Users/wketchum/Data/LDMX/production_07Jan2024/ldmx_genie_G18_02a_02_11b_Ti_8GeV_101133_reco_ana.root\n",
      "/Users/wketchum/Data/LDMX/production_07Jan2024/ldmx_genie_G18_02a_02_11b_Ti_8GeV_101211_reco_ana.root\n",
      "/Users/wketchum/Data/LDMX/production_07Jan2024/ldmx_genie_G18_02a_02_11b_Ti_8GeV_101206_reco_ana.root\n",
      "/Users/wketchum/Data/LDMX/production_07Jan2024/ldmx_genie_G18_02a_02_11b_Ti_8GeV_101286_reco_ana.root\n",
      "/Users/wketchum/Data/LDMX/production_07Jan2024/ldmx_genie_G18_02a_02_11b_Ti_8GeV_101137_reco_ana.root\n"
     ]
    },
    {
     "ename": "TypeError",
     "evalue": "Cannot interpret '<AwkwardDtype>' as a data type",
     "output_type": "error",
     "traceback": [
      "\u001b[0;31m---------------------------------------------------------------------------\u001b[0m",
      "\u001b[0;31mTypeError\u001b[0m                                 Traceback (most recent call last)",
      "Cell \u001b[0;32mIn[6], line 16\u001b[0m\n\u001b[1;32m     13\u001b[0m         dfs\u001b[38;5;241m.\u001b[39mappend(ddf)\n\u001b[1;32m     15\u001b[0m \u001b[38;5;66;03m# Concatenate all Dask DataFrames into a single DataFrame\u001b[39;00m\n\u001b[0;32m---> 16\u001b[0m combined_ddf \u001b[38;5;241m=\u001b[39m \u001b[43mdd\u001b[49m\u001b[38;5;241;43m.\u001b[39;49m\u001b[43mmulti\u001b[49m\u001b[38;5;241;43m.\u001b[39;49m\u001b[43mconcat\u001b[49m\u001b[43m(\u001b[49m\u001b[43mdfs\u001b[49m\u001b[43m,\u001b[49m\u001b[43m \u001b[49m\u001b[43maxis\u001b[49m\u001b[38;5;241;43m=\u001b[39;49m\u001b[38;5;241;43m0\u001b[39;49m\u001b[43m)\u001b[49m\n\u001b[1;32m     18\u001b[0m \u001b[38;5;66;03m# Concatenate all DataFrames into a single DataFrame\u001b[39;00m\n\u001b[1;32m     19\u001b[0m \u001b[38;5;66;03m#combined_df = pd.concat(dfs, ignore_index=True)\u001b[39;00m\n",
      "File \u001b[0;32m/usr/local/lib/python3.11/site-packages/dask/dataframe/multi.py:1349\u001b[0m, in \u001b[0;36mconcat\u001b[0;34m(dfs, axis, join, interleave_partitions, ignore_unknown_divisions, ignore_order, **kwargs)\u001b[0m\n\u001b[1;32m   1347\u001b[0m     \u001b[38;5;28;01melse\u001b[39;00m:\n\u001b[1;32m   1348\u001b[0m         divisions \u001b[38;5;241m=\u001b[39m [\u001b[38;5;28;01mNone\u001b[39;00m] \u001b[38;5;241m*\u001b[39m (\u001b[38;5;28msum\u001b[39m(df\u001b[38;5;241m.\u001b[39mnpartitions \u001b[38;5;28;01mfor\u001b[39;00m df \u001b[38;5;129;01min\u001b[39;00m dfs) \u001b[38;5;241m+\u001b[39m \u001b[38;5;241m1\u001b[39m)\n\u001b[0;32m-> 1349\u001b[0m         \u001b[38;5;28;01mreturn\u001b[39;00m \u001b[43mstack_partitions\u001b[49m\u001b[43m(\u001b[49m\n\u001b[1;32m   1350\u001b[0m \u001b[43m            \u001b[49m\u001b[43mdfs\u001b[49m\u001b[43m,\u001b[49m\u001b[43m \u001b[49m\u001b[43mdivisions\u001b[49m\u001b[43m,\u001b[49m\u001b[43m \u001b[49m\u001b[43mjoin\u001b[49m\u001b[38;5;241;43m=\u001b[39;49m\u001b[43mjoin\u001b[49m\u001b[43m,\u001b[49m\u001b[43m \u001b[49m\u001b[43mignore_order\u001b[49m\u001b[38;5;241;43m=\u001b[39;49m\u001b[43mignore_order\u001b[49m\u001b[43m,\u001b[49m\u001b[43m \u001b[49m\u001b[38;5;241;43m*\u001b[39;49m\u001b[38;5;241;43m*\u001b[39;49m\u001b[43mkwargs\u001b[49m\n\u001b[1;32m   1351\u001b[0m \u001b[43m        \u001b[49m\u001b[43m)\u001b[49m\n\u001b[1;32m   1352\u001b[0m \u001b[38;5;28;01melse\u001b[39;00m:\n\u001b[1;32m   1353\u001b[0m     divisions \u001b[38;5;241m=\u001b[39m [\u001b[38;5;28;01mNone\u001b[39;00m] \u001b[38;5;241m*\u001b[39m (\u001b[38;5;28msum\u001b[39m(df\u001b[38;5;241m.\u001b[39mnpartitions \u001b[38;5;28;01mfor\u001b[39;00m df \u001b[38;5;129;01min\u001b[39;00m dfs) \u001b[38;5;241m+\u001b[39m \u001b[38;5;241m1\u001b[39m)\n",
      "File \u001b[0;32m/usr/local/lib/python3.11/site-packages/dask/dataframe/multi.py:1105\u001b[0m, in \u001b[0;36mstack_partitions\u001b[0;34m(dfs, divisions, join, ignore_order, **kwargs)\u001b[0m\n\u001b[1;32m   1098\u001b[0m \u001b[38;5;66;03m# Use _meta_nonempty as pandas.concat will incorrectly cast float to datetime\u001b[39;00m\n\u001b[1;32m   1099\u001b[0m \u001b[38;5;66;03m# for empty data frames. See https://github.com/pandas-dev/pandas/issues/32934.\u001b[39;00m\n\u001b[1;32m   1101\u001b[0m kwargs\u001b[38;5;241m.\u001b[39mupdate({\u001b[38;5;124m\"\u001b[39m\u001b[38;5;124mignore_order\u001b[39m\u001b[38;5;124m\"\u001b[39m: ignore_order})\n\u001b[1;32m   1103\u001b[0m meta \u001b[38;5;241m=\u001b[39m make_meta(\n\u001b[1;32m   1104\u001b[0m     methods\u001b[38;5;241m.\u001b[39mconcat(\n\u001b[0;32m-> 1105\u001b[0m         \u001b[43m[\u001b[49m\n\u001b[1;32m   1106\u001b[0m \u001b[43m            \u001b[49m\u001b[43mdf\u001b[49m\u001b[38;5;241;43m.\u001b[39;49m\u001b[43m_meta_nonempty\u001b[49m\n\u001b[1;32m   1107\u001b[0m \u001b[43m            \u001b[49m\u001b[38;5;28;43;01mfor\u001b[39;49;00m\u001b[43m \u001b[49m\u001b[43mdf\u001b[49m\u001b[43m \u001b[49m\u001b[38;5;129;43;01min\u001b[39;49;00m\u001b[43m \u001b[49m\u001b[43mdfs\u001b[49m\n\u001b[1;32m   1108\u001b[0m \u001b[43m            \u001b[49m\u001b[38;5;28;43;01mif\u001b[39;49;00m\u001b[43m \u001b[49m\u001b[38;5;129;43;01mnot\u001b[39;49;00m\u001b[43m \u001b[49m\u001b[43mis_dataframe_like\u001b[49m\u001b[43m(\u001b[49m\u001b[43mdf\u001b[49m\u001b[43m)\u001b[49m\u001b[43m \u001b[49m\u001b[38;5;129;43;01mor\u001b[39;49;00m\u001b[43m \u001b[49m\u001b[38;5;28;43mlen\u001b[39;49m\u001b[43m(\u001b[49m\u001b[43mdf\u001b[49m\u001b[38;5;241;43m.\u001b[39;49m\u001b[43m_meta_nonempty\u001b[49m\u001b[38;5;241;43m.\u001b[39;49m\u001b[43mcolumns\u001b[49m\u001b[43m)\u001b[49m\u001b[43m \u001b[49m\u001b[38;5;241;43m>\u001b[39;49m\u001b[43m \u001b[49m\u001b[38;5;241;43m0\u001b[39;49m\n\u001b[1;32m   1109\u001b[0m \u001b[43m        \u001b[49m\u001b[43m]\u001b[49m,\n\u001b[1;32m   1110\u001b[0m         join\u001b[38;5;241m=\u001b[39mjoin,\n\u001b[1;32m   1111\u001b[0m         filter_warning\u001b[38;5;241m=\u001b[39m\u001b[38;5;28;01mFalse\u001b[39;00m,\n\u001b[1;32m   1112\u001b[0m         \u001b[38;5;241m*\u001b[39m\u001b[38;5;241m*\u001b[39mkwargs,\n\u001b[1;32m   1113\u001b[0m     )\n\u001b[1;32m   1114\u001b[0m )\n\u001b[1;32m   1115\u001b[0m empty \u001b[38;5;241m=\u001b[39m strip_unknown_categories(meta)\n\u001b[1;32m   1117\u001b[0m name \u001b[38;5;241m=\u001b[39m \u001b[38;5;124mf\u001b[39m\u001b[38;5;124m\"\u001b[39m\u001b[38;5;124mconcat-\u001b[39m\u001b[38;5;132;01m{\u001b[39;00mtokenize(\u001b[38;5;241m*\u001b[39mdfs)\u001b[38;5;132;01m}\u001b[39;00m\u001b[38;5;124m\"\u001b[39m\n",
      "File \u001b[0;32m/usr/local/lib/python3.11/site-packages/dask/dataframe/multi.py:1108\u001b[0m, in \u001b[0;36m<listcomp>\u001b[0;34m(.0)\u001b[0m\n\u001b[1;32m   1098\u001b[0m \u001b[38;5;66;03m# Use _meta_nonempty as pandas.concat will incorrectly cast float to datetime\u001b[39;00m\n\u001b[1;32m   1099\u001b[0m \u001b[38;5;66;03m# for empty data frames. See https://github.com/pandas-dev/pandas/issues/32934.\u001b[39;00m\n\u001b[1;32m   1101\u001b[0m kwargs\u001b[38;5;241m.\u001b[39mupdate({\u001b[38;5;124m\"\u001b[39m\u001b[38;5;124mignore_order\u001b[39m\u001b[38;5;124m\"\u001b[39m: ignore_order})\n\u001b[1;32m   1103\u001b[0m meta \u001b[38;5;241m=\u001b[39m make_meta(\n\u001b[1;32m   1104\u001b[0m     methods\u001b[38;5;241m.\u001b[39mconcat(\n\u001b[1;32m   1105\u001b[0m         [\n\u001b[1;32m   1106\u001b[0m             df\u001b[38;5;241m.\u001b[39m_meta_nonempty\n\u001b[1;32m   1107\u001b[0m             \u001b[38;5;28;01mfor\u001b[39;00m df \u001b[38;5;129;01min\u001b[39;00m dfs\n\u001b[0;32m-> 1108\u001b[0m             \u001b[38;5;28;01mif\u001b[39;00m \u001b[38;5;129;01mnot\u001b[39;00m is_dataframe_like(df) \u001b[38;5;129;01mor\u001b[39;00m \u001b[38;5;28mlen\u001b[39m(\u001b[43mdf\u001b[49m\u001b[38;5;241;43m.\u001b[39;49m\u001b[43m_meta_nonempty\u001b[49m\u001b[38;5;241m.\u001b[39mcolumns) \u001b[38;5;241m>\u001b[39m \u001b[38;5;241m0\u001b[39m\n\u001b[1;32m   1109\u001b[0m         ],\n\u001b[1;32m   1110\u001b[0m         join\u001b[38;5;241m=\u001b[39mjoin,\n\u001b[1;32m   1111\u001b[0m         filter_warning\u001b[38;5;241m=\u001b[39m\u001b[38;5;28;01mFalse\u001b[39;00m,\n\u001b[1;32m   1112\u001b[0m         \u001b[38;5;241m*\u001b[39m\u001b[38;5;241m*\u001b[39mkwargs,\n\u001b[1;32m   1113\u001b[0m     )\n\u001b[1;32m   1114\u001b[0m )\n\u001b[1;32m   1115\u001b[0m empty \u001b[38;5;241m=\u001b[39m strip_unknown_categories(meta)\n\u001b[1;32m   1117\u001b[0m name \u001b[38;5;241m=\u001b[39m \u001b[38;5;124mf\u001b[39m\u001b[38;5;124m\"\u001b[39m\u001b[38;5;124mconcat-\u001b[39m\u001b[38;5;132;01m{\u001b[39;00mtokenize(\u001b[38;5;241m*\u001b[39mdfs)\u001b[38;5;132;01m}\u001b[39;00m\u001b[38;5;124m\"\u001b[39m\n",
      "File \u001b[0;32m/usr/local/lib/python3.11/site-packages/dask/dataframe/core.py:589\u001b[0m, in \u001b[0;36m_Frame._meta_nonempty\u001b[0;34m(self)\u001b[0m\n\u001b[1;32m    586\u001b[0m \u001b[38;5;129m@property\u001b[39m\n\u001b[1;32m    587\u001b[0m \u001b[38;5;28;01mdef\u001b[39;00m \u001b[38;5;21m_meta_nonempty\u001b[39m(\u001b[38;5;28mself\u001b[39m):\n\u001b[1;32m    588\u001b[0m \u001b[38;5;250m    \u001b[39m\u001b[38;5;124;03m\"\"\"A non-empty version of `_meta` with fake data.\"\"\"\u001b[39;00m\n\u001b[0;32m--> 589\u001b[0m     \u001b[38;5;28;01mreturn\u001b[39;00m \u001b[43mmeta_nonempty\u001b[49m\u001b[43m(\u001b[49m\u001b[38;5;28;43mself\u001b[39;49m\u001b[38;5;241;43m.\u001b[39;49m\u001b[43m_meta\u001b[49m\u001b[43m)\u001b[49m\n",
      "File \u001b[0;32m/usr/local/lib/python3.11/site-packages/dask/utils.py:766\u001b[0m, in \u001b[0;36mDispatch.__call__\u001b[0;34m(self, arg, *args, **kwargs)\u001b[0m\n\u001b[1;32m    762\u001b[0m \u001b[38;5;250m\u001b[39m\u001b[38;5;124;03m\"\"\"\u001b[39;00m\n\u001b[1;32m    763\u001b[0m \u001b[38;5;124;03mCall the corresponding method based on type of argument.\u001b[39;00m\n\u001b[1;32m    764\u001b[0m \u001b[38;5;124;03m\"\"\"\u001b[39;00m\n\u001b[1;32m    765\u001b[0m meth \u001b[38;5;241m=\u001b[39m \u001b[38;5;28mself\u001b[39m\u001b[38;5;241m.\u001b[39mdispatch(\u001b[38;5;28mtype\u001b[39m(arg))\n\u001b[0;32m--> 766\u001b[0m \u001b[38;5;28;01mreturn\u001b[39;00m \u001b[43mmeth\u001b[49m\u001b[43m(\u001b[49m\u001b[43marg\u001b[49m\u001b[43m,\u001b[49m\u001b[43m \u001b[49m\u001b[38;5;241;43m*\u001b[39;49m\u001b[43margs\u001b[49m\u001b[43m,\u001b[49m\u001b[43m \u001b[49m\u001b[38;5;241;43m*\u001b[39;49m\u001b[38;5;241;43m*\u001b[39;49m\u001b[43mkwargs\u001b[49m\u001b[43m)\u001b[49m\n",
      "File \u001b[0;32m/usr/local/lib/python3.11/site-packages/dask/dataframe/backends.py:350\u001b[0m, in \u001b[0;36mmeta_nonempty_dataframe\u001b[0;34m(x)\u001b[0m\n\u001b[1;32m    348\u001b[0m     dt \u001b[38;5;241m=\u001b[39m series\u001b[38;5;241m.\u001b[39mdtype\n\u001b[1;32m    349\u001b[0m     \u001b[38;5;28;01mif\u001b[39;00m dt \u001b[38;5;129;01mnot\u001b[39;00m \u001b[38;5;129;01min\u001b[39;00m dt_s_dict:\n\u001b[0;32m--> 350\u001b[0m         dt_s_dict[dt] \u001b[38;5;241m=\u001b[39m \u001b[43m_nonempty_series\u001b[49m\u001b[43m(\u001b[49m\u001b[43mx\u001b[49m\u001b[38;5;241;43m.\u001b[39;49m\u001b[43miloc\u001b[49m\u001b[43m[\u001b[49m\u001b[43m:\u001b[49m\u001b[43m,\u001b[49m\u001b[43m \u001b[49m\u001b[43mi\u001b[49m\u001b[43m]\u001b[49m\u001b[43m,\u001b[49m\u001b[43m \u001b[49m\u001b[43midx\u001b[49m\u001b[38;5;241;43m=\u001b[39;49m\u001b[43midx\u001b[49m\u001b[43m)\u001b[49m\n\u001b[1;32m    351\u001b[0m     data[i] \u001b[38;5;241m=\u001b[39m dt_s_dict[dt]\n\u001b[1;32m    352\u001b[0m res \u001b[38;5;241m=\u001b[39m pd\u001b[38;5;241m.\u001b[39mDataFrame(data, index\u001b[38;5;241m=\u001b[39midx, columns\u001b[38;5;241m=\u001b[39mnp\u001b[38;5;241m.\u001b[39marange(\u001b[38;5;28mlen\u001b[39m(x\u001b[38;5;241m.\u001b[39mcolumns)))\n",
      "File \u001b[0;32m/usr/local/lib/python3.11/site-packages/dask/dataframe/backends.py:466\u001b[0m, in \u001b[0;36m_nonempty_series\u001b[0;34m(s, idx)\u001b[0m\n\u001b[1;32m    464\u001b[0m \u001b[38;5;28;01melse\u001b[39;00m:\n\u001b[1;32m    465\u001b[0m     entry \u001b[38;5;241m=\u001b[39m _scalar_from_dtype(dtype)\n\u001b[0;32m--> 466\u001b[0m     data \u001b[38;5;241m=\u001b[39m \u001b[43mnp\u001b[49m\u001b[38;5;241;43m.\u001b[39;49m\u001b[43marray\u001b[49m\u001b[43m(\u001b[49m\u001b[43m[\u001b[49m\u001b[43mentry\u001b[49m\u001b[43m,\u001b[49m\u001b[43m \u001b[49m\u001b[43mentry\u001b[49m\u001b[43m]\u001b[49m\u001b[43m,\u001b[49m\u001b[43m \u001b[49m\u001b[43mdtype\u001b[49m\u001b[38;5;241;43m=\u001b[39;49m\u001b[43mdtype\u001b[49m\u001b[43m)\u001b[49m\n\u001b[1;32m    468\u001b[0m out \u001b[38;5;241m=\u001b[39m pd\u001b[38;5;241m.\u001b[39mSeries(data, name\u001b[38;5;241m=\u001b[39ms\u001b[38;5;241m.\u001b[39mname, index\u001b[38;5;241m=\u001b[39midx)\n\u001b[1;32m    469\u001b[0m out\u001b[38;5;241m.\u001b[39mattrs \u001b[38;5;241m=\u001b[39m s\u001b[38;5;241m.\u001b[39mattrs\n",
      "\u001b[0;31mTypeError\u001b[0m: Cannot interpret '<AwkwardDtype>' as a data type"
     ]
    }
   ],
   "source": [
    "# Loop through each file matching the pattern\n",
    "for filename in glob.glob(file_pattern)[:10]:\n",
    "    print(filename)\n",
    "    # Open the ROOT file\n",
    "    with uproot.open(filename) as file:\n",
    "        # Extract the TTree named \"ana_tree\"\n",
    "        tree = file[\"ana_tree\"]\n",
    "        \n",
    "        df = tree.arrays(library=\"pd\")\n",
    "        \n",
    "        # Convert Pandas DataFrame to Dask DataFrame\n",
    "        ddf = dd.from_pandas(df, npartitions=1)  # Adjust npartitions based on your dataset/cluster\n",
    "        dfs.append(ddf)\n",
    "\n",
    "# Concatenate all Dask DataFrames into a single DataFrame\n",
    "combined_ddf = dd.multi.concat(dfs, axis=0)\n",
    "\n",
    "# Concatenate all DataFrames into a single DataFrame\n",
    "#combined_df = pd.concat(dfs, ignore_index=True)"
   ]
  },
  {
   "cell_type": "code",
   "execution_count": null,
   "id": "52c25669-62bc-4400-a5d2-3881785e77c2",
   "metadata": {},
   "outputs": [],
   "source": [
    "combined_df = pd.concat(dfs[:2],ignore_index=True)"
   ]
  },
  {
   "cell_type": "code",
   "execution_count": null,
   "id": "b7af183b-6f15-4a9d-bc6f-35a9142ca873",
   "metadata": {},
   "outputs": [],
   "source": [
    "# Generating logarithmically spaced bins\n",
    "x_bins = np.logspace(np.log10(0.1), np.log10(10), 40)\n",
    "y_bins = np.logspace(np.log10(0.01), np.log10(20), 40)"
   ]
  },
  {
   "cell_type": "code",
   "execution_count": null,
   "id": "8fb9cb62-bf9d-4baa-95cb-67a08eb41976",
   "metadata": {},
   "outputs": [],
   "source": [
    "%matplotlib inline"
   ]
  },
  {
   "cell_type": "code",
   "execution_count": null,
   "id": "01b54f75-8f84-46d2-bd10-87379daabbb0",
   "metadata": {},
   "outputs": [],
   "source": [
    "combined_df[\"q_2\"] = combined_df[\"elec_px\"]*combined_df[\"elec_px\"]+combined_df[\"elec_py\"]*combined_df[\"elec_px\"]+(8000-combined_df[\"elec_pz\"])*(8000-combined_df[\"elec_pz\"])"
   ]
  },
  {
   "cell_type": "code",
   "execution_count": null,
   "id": "695014a7-f3a2-44ec-a473-9401cbef9da2",
   "metadata": {},
   "outputs": [],
   "source": [
    "combined_df[\"Q2\"] = combined_df[\"q_2\"]-(8000-combined_df[\"elec_e\"])*(8000-combined_df[\"elec_e\"])"
   ]
  },
  {
   "cell_type": "code",
   "execution_count": null,
   "id": "59c632b3-6b02-45f7-9fb5-7dedda0938f1",
   "metadata": {},
   "outputs": [],
   "source": [
    "combined_df[\"w\"] = (8000-combined_df[\"elec_e\"])"
   ]
  },
  {
   "cell_type": "code",
   "execution_count": null,
   "id": "73cd89b9-58fe-4a1b-b674-7aef678a6ee8",
   "metadata": {},
   "outputs": [],
   "source": [
    "combined_df"
   ]
  },
  {
   "cell_type": "code",
   "execution_count": null,
   "id": "84f84126-60cd-4ee7-b3ee-bddbdfbfe71c",
   "metadata": {},
   "outputs": [],
   "source": [
    "filtered_df = combined_df.query(\"elec_pt>500 and genie_dis==1\")\n",
    "\n",
    "# Creating the 2D histogram plot\n",
    "plt.figure(figsize=(10, 7))\n",
    "plt.hist2d(filtered_df[\"w\"]/1e3, filtered_df[\"Q2\"]/1e6, bins=[x_bins, y_bins], cmap='viridis')\n",
    "plt.colorbar(label='Counts in bin')\n",
    "\n",
    "# Setting the scale to logarithmic if necessary\n",
    "plt.xscale('log')\n",
    "plt.yscale('log')\n",
    "\n",
    "# Setting labels and title\n",
    "plt.xlabel('Energy Transfer (GeV)')\n",
    "plt.ylabel('Q2 (GeV2)')\n",
    "plt.title('Momentum transfer vs Energy Transfer for 8 GeV eN interactions')\n",
    "\n",
    "# Display the plot\n",
    "plt.show()"
   ]
  },
  {
   "cell_type": "code",
   "execution_count": null,
   "id": "2de86af3-9686-4606-a0ec-6902de1d0795",
   "metadata": {},
   "outputs": [],
   "source": [
    "filtered_df = combined_df.query(\"elec_pt>500 and genie_res==1\")\n",
    "\n",
    "# Creating the 2D histogram plot\n",
    "plt.figure(figsize=(10, 7))\n",
    "plt.hist2d(filtered_df[\"w\"]/1e3, filtered_df[\"Q2\"]/1e6, bins=[x_bins, y_bins], cmap='viridis')\n",
    "plt.colorbar(label='Counts in bin')\n",
    "\n",
    "# Setting the scale to logarithmic if necessary\n",
    "plt.xscale('log')\n",
    "plt.yscale('log')\n",
    "\n",
    "# Setting labels and title\n",
    "plt.xlabel('Energy Transfer (GeV)')\n",
    "plt.ylabel('Q2 (GeV2)')\n",
    "plt.title('Momentum transfer vs Energy Transfer for 8 GeV eN interactions')\n",
    "\n",
    "# Display the plot\n",
    "plt.show()"
   ]
  },
  {
   "cell_type": "code",
   "execution_count": null,
   "id": "b25ef8fd-c047-4d5b-8061-d90eed7eb5b2",
   "metadata": {},
   "outputs": [],
   "source": []
  },
  {
   "cell_type": "code",
   "execution_count": null,
   "id": "b952e8cc-c5cd-45d7-b81f-cb07da0b203a",
   "metadata": {},
   "outputs": [],
   "source": []
  },
  {
   "cell_type": "code",
   "execution_count": null,
   "id": "4eb61f8d",
   "metadata": {},
   "outputs": [],
   "source": [
    "ana_files = glob.glob('/Users/wketchum/Data/LDMX/production_07Jan2024/*_ana.root')\n",
    "ana_files.sort()"
   ]
  },
  {
   "cell_type": "code",
   "execution_count": null,
   "id": "4f720d20-9a71-4e59-bccc-73aa10569da4",
   "metadata": {},
   "outputs": [],
   "source": [
    "ana_tree = ROOT.TChain(\"ana_tree\")"
   ]
  },
  {
   "cell_type": "code",
   "execution_count": null,
   "id": "c6d27302-6237-4fc2-be82-db3afb7676f0",
   "metadata": {},
   "outputs": [],
   "source": [
    "ana_tree.Add('/Users/wketchum/Data/LDMX/production_07Jan2024/*_ana.root')"
   ]
  },
  {
   "cell_type": "code",
   "execution_count": null,
   "id": "2c3ea89f-c4b3-46fa-8e39-fc18a285ecfb",
   "metadata": {},
   "outputs": [],
   "source": [
    "c = ROOT.TCanvas(\"c\")"
   ]
  },
  {
   "cell_type": "code",
   "execution_count": null,
   "id": "a30a1f3a-2cea-40a5-83f5-6c32f9bd7310",
   "metadata": {},
   "outputs": [],
   "source": [
    "for obj in ana_tree.GetListOfBranches():\n",
    "    print(obj)"
   ]
  },
  {
   "cell_type": "code",
   "execution_count": null,
   "id": "6a3af25d-5544-497a-b19f-9684cdcfc1dc",
   "metadata": {},
   "outputs": [],
   "source": []
  },
  {
   "cell_type": "code",
   "execution_count": null,
   "id": "f7918f74-c370-4494-808c-423bcd4053b2",
   "metadata": {},
   "outputs": [],
   "source": [
    "ana_tree.Draw(\"elec_pt\")\n",
    "c.Draw()"
   ]
  },
  {
   "cell_type": "code",
   "execution_count": null,
   "id": "a37b4f3f-db6a-4d3c-b5bc-43b7b8c4d850",
   "metadata": {},
   "outputs": [],
   "source": [
    "ana_tree.Draw(\"(elec_px*elec_px)+(elec_py*elec_py)+(8000-elec_pz)*(8000-elec_pz)\",\"elec_pt>500\")\n",
    "c.Draw()"
   ]
  },
  {
   "cell_type": "code",
   "execution_count": null,
   "id": "d6e962de-e618-415b-8ea5-6229e3631d62",
   "metadata": {},
   "outputs": [],
   "source": [
    "ana_tree.Draw(\"elec_e:elec_pt\",\"1\",\"colz\")\n",
    "c.Draw()"
   ]
  },
  {
   "cell_type": "code",
   "execution_count": null,
   "id": "ccfc49f5-8bce-429f-8e59-8e54800ce729",
   "metadata": {},
   "outputs": [],
   "source": [
    "ana_tree.Draw(\"((elec_px*elec_px)+(elec_py*elec_py)+(8000-elec_pz)*(8000-elec_pz)-(8000-elec_e)*(8000-elec_e))/1e6:(8000-elec_e)/1e3\",\"1\",\"colz\")\n",
    "c.Draw()"
   ]
  },
  {
   "cell_type": "code",
   "execution_count": null,
   "id": "5b5811b4-9b69-441a-ba19-6f3064c6f937",
   "metadata": {},
   "outputs": [],
   "source": []
  }
 ],
 "metadata": {
  "kernelspec": {
   "display_name": "Python 3 (ipykernel)",
   "language": "python",
   "name": "python3"
  },
  "language_info": {
   "codemirror_mode": {
    "name": "ipython",
    "version": 3
   },
   "file_extension": ".py",
   "mimetype": "text/x-python",
   "name": "python",
   "nbconvert_exporter": "python",
   "pygments_lexer": "ipython3",
   "version": "3.11.7"
  }
 },
 "nbformat": 4,
 "nbformat_minor": 5
}
