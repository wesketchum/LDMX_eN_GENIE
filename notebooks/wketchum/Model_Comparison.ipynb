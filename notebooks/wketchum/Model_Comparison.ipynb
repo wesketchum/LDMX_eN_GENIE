{
 "cells": [
  {
   "cell_type": "code",
   "execution_count": 1,
   "metadata": {},
   "outputs": [],
   "source": [
    "import os,sys\n",
    "sys.path.append(\"%s/analysis-CommonTools/\"%os.getenv('HOME'))\n",
    "from common_imports import *\n",
    "from matplotlib_tools import *"
   ]
  },
  {
   "cell_type": "code",
   "execution_count": 2,
   "metadata": {
    "scrolled": false
   },
   "outputs": [
    {
     "name": "stdout",
     "output_type": "stream",
     "text": [
      "Welcome to JupyROOT 6.26/00\n"
     ]
    }
   ],
   "source": [
    "import ROOT"
   ]
  },
  {
   "cell_type": "code",
   "execution_count": 3,
   "metadata": {},
   "outputs": [],
   "source": [
    "ROOT.gStyle.SetOptStat(0)"
   ]
  },
  {
   "cell_type": "code",
   "execution_count": 4,
   "metadata": {},
   "outputs": [],
   "source": [
    "%jsroot on"
   ]
  },
  {
   "cell_type": "code",
   "execution_count": 5,
   "metadata": {},
   "outputs": [],
   "source": [
    "do_iev_check = False\n",
    "\n",
    "lep_accept_pt = 0.4 #GeV\n",
    "lep_accept_angle = radians(40)\n",
    "\n",
    "hadron_accept_angle = radians(40)\n",
    "hadron_accept_ke = 0.060 #GeV"
   ]
  },
  {
   "cell_type": "code",
   "execution_count": 6,
   "metadata": {},
   "outputs": [],
   "source": [
    "c = ROOT.TCanvas()"
   ]
  },
  {
   "cell_type": "code",
   "execution_count": 8,
   "metadata": {},
   "outputs": [],
   "source": [
    "dir_files_GEM21_11b = \"/Users/wketchum/Data/LDMX/eN_Ti_GENIE_v3_2_0/ldmx_eTi_4GeV_GEM21_11b_00\"\n",
    "dir_files_G18_02a = \"/Users/wketchum/Data/LDMX/eN_Ti_GENIE_v3_2_0/ldmx_eTi_4GeV_G18_02a_00\""
   ]
  },
  {
   "cell_type": "code",
   "execution_count": 9,
   "metadata": {},
   "outputs": [],
   "source": [
    "gst_files_GEM21_11b = glob.glob(f\"{dir_files_GEM21_11b}/*gst.root\")\n",
    "gst_files_G18_02a = glob.glob(f\"{dir_files_G18_02a}/*gst.root\")"
   ]
  },
  {
   "cell_type": "code",
   "execution_count": 26,
   "metadata": {},
   "outputs": [],
   "source": [
    "gst_chain_GEM21_11b = ROOT.TChain(\"gst\")\n",
    "for f in gst_files_GEM21_11b:\n",
    "    gst_chain_GEM21_11b.Add(f)"
   ]
  },
  {
   "cell_type": "code",
   "execution_count": 27,
   "metadata": {},
   "outputs": [],
   "source": [
    "df_gst_GEM21_11b_all = ROOT.RDataFrame(gst_chain_GEM21_11b)"
   ]
  },
  {
   "cell_type": "code",
   "execution_count": 28,
   "metadata": {},
   "outputs": [],
   "source": [
    "gst_chain_G18_02a = ROOT.TChain(\"gst\")\n",
    "for f in gst_files_G18_02a:\n",
    "    gst_chain_G18_02a.Add(f)"
   ]
  },
  {
   "cell_type": "code",
   "execution_count": 29,
   "metadata": {},
   "outputs": [],
   "source": [
    "df_gst_G18_02a_all = ROOT.RDataFrame(gst_chain_G18_02a)"
   ]
  },
  {
   "cell_type": "code",
   "execution_count": 30,
   "metadata": {},
   "outputs": [],
   "source": [
    "def define_df_gst(df_gst_all):\n",
    "    df_gst_all = df_gst_all.Define(\"tmp\",\"Ev\")\n",
    "    df_gst_all = df_gst_all.Define(\"ptl\",\"sqrt(pxl*pxl+pyl*pyl)\")\n",
    "    df_gst_all = df_gst_all.Define(\"thetazl\",\"atan2(ptl,pzl)\")\n",
    "    \n",
    "    df_gst_all = df_gst_all.Define(\"energy_transfer\",\"Ev-El\")\n",
    "\n",
    "    hadron_vars = [\"pdg\",\"E\",\"px\",\"py\",\"pz\",\"pt\",\"p\",\"mass\",\"ke\",\"thetaxz\",\"thetayz\",\"thetaz\"]\n",
    "    for s in [\"i\",\"f\"]:\n",
    "        df_gst_all = df_gst_all.Define(f\"thetaxz{s}\",f\"atan2(px{s},pz{s})\")\n",
    "        df_gst_all = df_gst_all.Define(f\"thetayz{s}\",f\"atan2(py{s},pz{s})\")\n",
    "        df_gst_all = df_gst_all.Define(f\"pt{s}\",f\"sqrt(px{s}*px{s}+py{s}*py{s})\")\n",
    "        if s==\"i\":\n",
    "            df_gst_all = df_gst_all.Define(f\"p{s}\",f\"sqrt(px{s}*px{s}+py{s}+py{s}+pz{s}*pz{s})\")\n",
    "        df_gst_all = df_gst_all.Define(f\"thetaz{s}\",f\"atan2(pt{s},pz{s})\")\n",
    "        df_gst_all = df_gst_all.Define(f\"mass{s}\",f\"sqrt(E{s}*E{s}-p{s}*p{s})\")\n",
    "        df_gst_all = df_gst_all.Define(f\"ke{s}\",f\"E{s}-mass{s}\")\n",
    "    \n",
    "        hadronx_vars = [ f\"{hv}{s}\" for hv in hadron_vars ]\n",
    "        \n",
    "        for var in hadronx_vars:\n",
    "            df_gst_all = df_gst_all.Define(f\"{var}_p\",f\"{var}[pdg{s}==2212]\")\n",
    "            df_gst_all = df_gst_all.Define(f\"{var}_n\",f\"{var}[pdg{s}==2112]\")\n",
    "            df_gst_all = df_gst_all.Define(f\"{var}_pi0\",f\"{var}[pdg{s}==111]\")\n",
    "            df_gst_all = df_gst_all.Define(f\"{var}_piplus\",f\"{var}[pdg{s}==211]\")\n",
    "            df_gst_all = df_gst_all.Define(f\"{var}_piminus\",f\"{var}[pdg{s}==-211]\")\n",
    "            \n",
    "            #if s==\"i\": \n",
    "            #    continue\n",
    "            \n",
    "            df_gst_all = df_gst_all.Define(f\"{var}_p_accept\",f\"{var}[pdg{s}==2212 && thetaz{s}<{hadron_accept_angle} && ke{s}>{hadron_accept_ke}]\")\n",
    "            df_gst_all = df_gst_all.Define(f\"{var}_n_accept\",f\"{var}[pdg{s}==2112 && thetaz{s}<{hadron_accept_angle} && ke{s}>{hadron_accept_ke}]\")\n",
    "            #df_gst_all = df_gst_all.Define(f\"{var}_pi0_accept\",f\"{var}_pi0[pdg{s}==111 && thetaz{s}<{hadron_accept_angle} && ke{s}>{hadron_accept_ke}]\")\n",
    "            df_gst_all = df_gst_all.Define(f\"{var}_piplus_accept\",f\"{var}[pdg{s}==211 && thetaz{s}<{hadron_accept_angle} && ke{s}>{hadron_accept_ke}]\")\n",
    "            df_gst_all = df_gst_all.Define(f\"{var}_piminus_accept\",f\"{var}[pdg{s}==-211 && thetaz{s}<{hadron_accept_angle} && ke{s}>{hadron_accept_ke}]\")\n",
    "    \n",
    "    return df_gst_all\n"
   ]
  },
  {
   "cell_type": "code",
   "execution_count": 31,
   "metadata": {
    "scrolled": false
   },
   "outputs": [],
   "source": [
    "df_gst_GEM21_11b_all = define_df_gst(df_gst_GEM21_11b_all)\n",
    "df_gst_G18_02a_all = define_df_gst(df_gst_G18_02a_all)"
   ]
  },
  {
   "cell_type": "code",
   "execution_count": 32,
   "metadata": {},
   "outputs": [],
   "source": [
    "df_gst_GEM21_11b_accept = df_gst_GEM21_11b_all.Filter(f\"ptl>0.4 && abs(thetazl)<{radians(40)}\")\n",
    "df_gst_G18_02a_accept = df_gst_G18_02a_all.Filter(f\"ptl>0.4 && abs(thetazl)<{radians(40)}\")"
   ]
  },
  {
   "cell_type": "code",
   "execution_count": 33,
   "metadata": {},
   "outputs": [],
   "source": [
    "h_kef_p_accept_GEM21_11b = df_gst_GEM21_11b_accept.Histo1D((\"\",\"\",1000,0,3.0),\"kef_p_accept\")\n",
    "h_kef_p_accept_G18_02a = df_gst_G18_02a_accept.Histo1D((\"\",\"\",1000,0,3.0),\"kef_p_accept\")"
   ]
  },
  {
   "cell_type": "code",
   "execution_count": 34,
   "metadata": {
    "scrolled": false
   },
   "outputs": [
    {
     "data": {
      "text/html": [
       "\n",
       "\n",
       "<div id=\"root_plot_1652818831518\"\n",
       "     style=\"width: 696px; height: 472px\">\n",
       "</div>\n",
       "<script>\n",
       "\n",
       "function display_root_plot_1652818831518(Core) {\n",
       "   let obj = Core.parse({\"_typename\":\"TCanvas\",\"fUniqueID\":0,\"fBits\":3342344,\"fLineColor\":1,\"fLineStyle\":1,\"fLineWidth\":1,\"fFillColor\":0,\"fFillStyle\":1001,\"fLeftMargin\":0.1,\"fRightMargin\":0.1,\"fBottomMargin\":0.1,\"fTopMargin\":0.1,\"fXfile\":2,\"fYfile\":2,\"fAfile\":1,\"fXstat\":0.99,\"fYstat\":0.99,\"fAstat\":2,\"fFrameFillColor\":0,\"fFrameLineColor\":1,\"fFrameFillStyle\":1001,\"fFrameLineStyle\":1,\"fFrameLineWidth\":1,\"fFrameBorderSize\":1,\"fFrameBorderMode\":0,\"fX1\":-0.375000027939679,\"fY1\":-771.093807450965,\"fX2\":3.37500002793968,\"fY2\":6939.84380745096,\"fXtoAbsPixelk\":69.6000541484835,\"fXtoPixelk\":69.6000541484835,\"fXtoPixel\":185.599997234344,\"fYtoAbsPixelk\":424.800047186661,\"fYtoPixelk\":424.800047186661,\"fYtoPixel\":-0.0612117518740946,\"fUtoAbsPixelk\":5e-5,\"fUtoPixelk\":5e-5,\"fUtoPixel\":696,\"fVtoAbsPixelk\":472.00005,\"fVtoPixelk\":472,\"fVtoPixel\":-472,\"fAbsPixeltoXk\":-0.375000027939679,\"fPixeltoXk\":-0.375000027939679,\"fPixeltoX\":0.00538793111476919,\"fAbsPixeltoYk\":6939.84380745096,\"fPixeltoYk\":-771.093807450965,\"fPixeltoY\":-16.3367322349617,\"fXlowNDC\":0,\"fYlowNDC\":0,\"fXUpNDC\":1,\"fYUpNDC\":1,\"fWNDC\":1,\"fHNDC\":1,\"fAbsXlowNDC\":0,\"fAbsYlowNDC\":0,\"fAbsWNDC\":1,\"fAbsHNDC\":1,\"fUxmin\":0,\"fUymin\":0,\"fUxmax\":3,\"fUymax\":6168.75,\"fTheta\":30,\"fPhi\":30,\"fAspectRatio\":0,\"fNumber\":0,\"fTickx\":0,\"fTicky\":0,\"fLogx\":0,\"fLogy\":0,\"fLogz\":0,\"fPadPaint\":0,\"fCrosshair\":0,\"fCrosshairPos\":0,\"fBorderSize\":2,\"fBorderMode\":0,\"fModified\":false,\"fGridx\":false,\"fGridy\":false,\"fAbsCoord\":false,\"fEditable\":true,\"fFixedAspectRatio\":false,\"fPrimitives\":{\"_typename\":\"TList\",\"name\":\"TList\",\"arr\":[{\"_typename\":\"TFrame\",\"fUniqueID\":0,\"fBits\":8,\"fLineColor\":1,\"fLineStyle\":1,\"fLineWidth\":1,\"fFillColor\":0,\"fFillStyle\":1001,\"fX1\":0,\"fY1\":0,\"fX2\":3,\"fY2\":6168.75,\"fBorderSize\":1,\"fBorderMode\":0},{\"_typename\":\"TH1D\",\"fUniqueID\":0,\"fBits\":520,\"fName\":\"\",\"fTitle\":\"\",\"fLineColor\":632,\"fLineStyle\":1,\"fLineWidth\":1,\"fFillColor\":0,\"fFillStyle\":1001,\"fMarkerColor\":1,\"fMarkerStyle\":1,\"fMarkerSize\":1,\"fNcells\":1002,\"fXaxis\":{\"_typename\":\"TAxis\",\"fUniqueID\":0,\"fBits\":0,\"fName\":\"xaxis\",\"fTitle\":\"\",\"fNdivisions\":510,\"fAxisColor\":1,\"fLabelColor\":1,\"fLabelFont\":42,\"fLabelOffset\":0.005,\"fLabelSize\":0.035,\"fTickLength\":0.03,\"fTitleOffset\":1,\"fTitleSize\":0.035,\"fTitleColor\":1,\"fTitleFont\":42,\"fNbins\":1000,\"fXmin\":0,\"fXmax\":3,\"fXbins\":[],\"fFirst\":0,\"fLast\":0,\"fBits2\":0,\"fTimeDisplay\":false,\"fTimeFormat\":\"\",\"fLabels\":null,\"fModLabs\":null},\"fYaxis\":{\"_typename\":\"TAxis\",\"fUniqueID\":0,\"fBits\":0,\"fName\":\"yaxis\",\"fTitle\":\"\",\"fNdivisions\":510,\"fAxisColor\":1,\"fLabelColor\":1,\"fLabelFont\":42,\"fLabelOffset\":0.005,\"fLabelSize\":0.035,\"fTickLength\":0.03,\"fTitleOffset\":0,\"fTitleSize\":0.035,\"fTitleColor\":1,\"fTitleFont\":42,\"fNbins\":1,\"fXmin\":0,\"fXmax\":1,\"fXbins\":[],\"fFirst\":0,\"fLast\":0,\"fBits2\":0,\"fTimeDisplay\":false,\"fTimeFormat\":\"\",\"fLabels\":null,\"fModLabs\":null},\"fZaxis\":{\"_typename\":\"TAxis\",\"fUniqueID\":0,\"fBits\":0,\"fName\":\"zaxis\",\"fTitle\":\"\",\"fNdivisions\":510,\"fAxisColor\":1,\"fLabelColor\":1,\"fLabelFont\":42,\"fLabelOffset\":0.005,\"fLabelSize\":0.035,\"fTickLength\":0.03,\"fTitleOffset\":1,\"fTitleSize\":0.035,\"fTitleColor\":1,\"fTitleFont\":42,\"fNbins\":1,\"fXmin\":0,\"fXmax\":1,\"fXbins\":[],\"fFirst\":0,\"fLast\":0,\"fBits2\":0,\"fTimeDisplay\":false,\"fTimeFormat\":\"\",\"fLabels\":null,\"fModLabs\":null},\"fBarOffset\":0,\"fBarWidth\":1000,\"fEntries\":292498,\"fTsumw\":292498,\"fTsumw2\":292498,\"fTsumwx\":87770.7614588402,\"fTsumwx2\":51110.1254903045,\"fMaximum\":-1111,\"fMinimum\":-1111,\"fNormFactor\":0,\"fContour\":[],\"fSumw2\":[],\"fOption\":\"\",\"fFunctions\":{\"_typename\":\"TList\",\"name\":\"TList\",\"arr\":[],\"opt\":[]},\"fBufferSize\":0,\"fBuffer\":[],\"fBinStatErrOpt\":0,\"fStatOverflows\":2,\"fArray\":{\"$arr\":\"Float64\",\"len\":1002,\"p\":21,\"v\":[5875,5752,5474,5283,5048,4893,4770,4564,4497,4413,4244,4036,3866,3582,3543,3345,3134,3102,2986,2816,2811,2713,2645,2478,2634,2637,2496,2336,2434,2311,2317,2290,2183,2231,2239,2178,2080,2058,2146,2133,2111,2003,2002,1917,1946,1887,1839,1913,1913,1764,1792,1813,1740,1629,1710,1652,1610,1621,1580,1596,1563,1493,1503,1474,1354,1414,1400,1332,1352,1406,1387,1251,1283,1264,1275,1200,1231,1177,1189,1177,1238,1124,1107,1114,1050,1080,1054,982,1023,999,988,924,938,943,947,891,918,880,844,924,927,824,850,797,757,791,766,780,791,704,776,728,740,665,704,733,698,663,680,661,668,620,632,664,623,602,568,569,628,618,592,573,546,569,507,503,575,494,517,539,512,492,496,522,461,473,460,493,479,423,465,431,439,446,441,408,397,415,412,436,400,401,364,388,355,364,372,379,385,367,351,349,347,322,349,321,301,317,316,292,291,285,367,289,298,263,303,307,293,288,284,305,263,244,231,240,266,286,272,252,266,218,264,238,233,239,229,229,224,234,239,250,225,235,211,226,229,237,235,183,186,221,202,195,213,210,183,202,223,180,194,170,182,183,189,164,157,165,171,170,179,166,168,190,163,170,139,153,168,178,164,158,148,155,153,164,140,141,144,129,154,159,150,139,145,136,155,127,144,133,120,151,131,122,139,128,132,135,125,137,125,124,111,111,111,134,121,121,136,106,125,125,102,85,93,112,103,93,105,110,98,98,89,112,121,120,108,105,95,79,92,100,80,96,98,91,106,99,85,94,98,91,87,88,81,83,82,74,86,74,76,95,80,75,81,75,66,82,85,72,84,50,66,83,73,70,51,66,62,74,66,60,61,71,65,59,71,58,67,51,59,50,57,52,67,68,54,67,70,49,59,56,45,59,42,56,51,58,56,59,58,47,39,44,48,59,45,49,60,67,41,51,49,53,55,49,46,39,49,39,54,42,48,49,41,49,45,33,42,42,30,47,28,35,46,38,36,43,47,40,44,40,40,44,31,29,29,34,37,38,28,28,40,35,43,29,32,36,36,33,28,37,33,28,27,29,29,24,31,33,21,29,33,32,33,26,26,30,35,19,31,31,26,32,24,29,23,21,18,28,25,17,21,24,31,20,29,25,28,24,28,15,20,27,15,27,14,21,21,23,16,14,21,18,24,16,19,21,18,23,20,12,24,15,17,13,26,15,19,11,10,19,19,30,14,12,21,16,16,11,18,21,15,16,15,14,12,7,22,16,16,14,27,12,14,13,15,8,11,12,10,11,16,17,18,15,10,15,16,13,8,21,14,16,8,20,8,7,11,16,12,8,7,18,11,11,6,7,9,11,12,7,16,12,11,7,11,8,8,12,14,10,7,16,9,9,19,6,7,12,9,10,3,7,8,9,4,10,8,5,7,9,5,12,4,5,5,6,9,6,10,7,6,6,7,6,12,8,5,5,6,10,3,9,9,6,3,10,3,3,2,3,1,3,3,7,5,6,6,2,5,7,11,7,2,5,9,6,4,8,7,2,2,4,3,5,7,7,5,6,7,13,4,11,5,4,8,2,7,3,6,3,3,4,3,8,5,1,1,2,3,8,5,5,5,5,2,2,5,2,4,5,3,4,1,4,4,1,3,3,5,0,7,8,3,6,3,4,6,6,4,3,2,4,1,5,5,5,1,4,3,1,1,1,1,3,2,1,3,1,3,2,3,1,5,3,2,2,0,2,1,1,3,4,3,4,4,2,5,2,2,2,0,2,2,1,2,4,1,1,3,1,1,2,3,1,0,0,3,0,1,2,3,0,2,4,2,3,2,0,2,1,1,1,0,1,2,2,2,3,3,3,1,2,1,1,0,4,2,2,1,0,3,0,1,1,4,1,0,0,1,0,1,2,1,0,2,1,1,3,0,0,2,0,0,1,3,1,0,3,2,0,0,1,2,1,3,1,1,0,1,0,3,0,1,1,1,0,2,0,1,0,0,0,0,0,0,1,0,2,0,2,0,1,1,1,0,0,1,0,1,0,2,1,1,0,0,0,0,0,0,1,1,1,0,1,1],\"p1\":918,\"v1\":[1,0,0,0,1,1,0,1],\"p2\":940,\"v2\":[1,0,0,1],\"p3\":956,\"v3\":1,\"p4\":987,\"v4\":[1,1]}},{\"_typename\":\"TH1D\",\"fUniqueID\":0,\"fBits\":520,\"fName\":\"\",\"fTitle\":\"\",\"fLineColor\":602,\"fLineStyle\":1,\"fLineWidth\":1,\"fFillColor\":0,\"fFillStyle\":1001,\"fMarkerColor\":1,\"fMarkerStyle\":1,\"fMarkerSize\":1,\"fNcells\":1002,\"fXaxis\":{\"_typename\":\"TAxis\",\"fUniqueID\":0,\"fBits\":0,\"fName\":\"xaxis\",\"fTitle\":\"\",\"fNdivisions\":510,\"fAxisColor\":1,\"fLabelColor\":1,\"fLabelFont\":42,\"fLabelOffset\":0.005,\"fLabelSize\":0.035,\"fTickLength\":0.03,\"fTitleOffset\":1,\"fTitleSize\":0.035,\"fTitleColor\":1,\"fTitleFont\":42,\"fNbins\":1000,\"fXmin\":0,\"fXmax\":3,\"fXbins\":[],\"fFirst\":0,\"fLast\":0,\"fBits2\":0,\"fTimeDisplay\":false,\"fTimeFormat\":\"\",\"fLabels\":null,\"fModLabs\":null},\"fYaxis\":{\"_typename\":\"TAxis\",\"fUniqueID\":0,\"fBits\":0,\"fName\":\"yaxis\",\"fTitle\":\"\",\"fNdivisions\":510,\"fAxisColor\":1,\"fLabelColor\":1,\"fLabelFont\":42,\"fLabelOffset\":0.005,\"fLabelSize\":0.035,\"fTickLength\":0.03,\"fTitleOffset\":0,\"fTitleSize\":0.035,\"fTitleColor\":1,\"fTitleFont\":42,\"fNbins\":1,\"fXmin\":0,\"fXmax\":1,\"fXbins\":[],\"fFirst\":0,\"fLast\":0,\"fBits2\":0,\"fTimeDisplay\":false,\"fTimeFormat\":\"\",\"fLabels\":null,\"fModLabs\":null},\"fZaxis\":{\"_typename\":\"TAxis\",\"fUniqueID\":0,\"fBits\":0,\"fName\":\"zaxis\",\"fTitle\":\"\",\"fNdivisions\":510,\"fAxisColor\":1,\"fLabelColor\":1,\"fLabelFont\":42,\"fLabelOffset\":0.005,\"fLabelSize\":0.035,\"fTickLength\":0.03,\"fTitleOffset\":1,\"fTitleSize\":0.035,\"fTitleColor\":1,\"fTitleFont\":42,\"fNbins\":1,\"fXmin\":0,\"fXmax\":1,\"fXbins\":[],\"fFirst\":0,\"fLast\":0,\"fBits2\":0,\"fTimeDisplay\":false,\"fTimeFormat\":\"\",\"fLabels\":null,\"fModLabs\":null},\"fBarOffset\":0,\"fBarWidth\":1000,\"fEntries\":311451,\"fTsumw\":311450,\"fTsumw2\":311450,\"fTsumwx\":100919.068870764,\"fTsumwx2\":62332.9633464949,\"fMaximum\":-1111,\"fMinimum\":-1111,\"fNormFactor\":0,\"fContour\":[],\"fSumw2\":[],\"fOption\":\"\",\"fFunctions\":{\"_typename\":\"TList\",\"name\":\"TList\",\"arr\":[],\"opt\":[]},\"fBufferSize\":0,\"fBuffer\":[],\"fBinStatErrOpt\":0,\"fStatOverflows\":2,\"fArray\":{\"$arr\":\"Float64\",\"len\":1002,\"p\":21,\"v\":[5588,5485,5354,4984,4723,4569,4414,4281,4224,3996,3910,3885,3660,3543,3464,3399,3371,3166,3083,2969,2939,2945,2911,2726,2627,2679,2599,2573,2519,2534,2464,2364,2376,2372,2351,2266,2264,2226,2174,2140,2129,2031,2027,2006,2001,1842,1918,1936,1893,1855,1843,1795,1773,1765,1751,1635,1655,1617,1621,1585,1624,1472,1521,1588,1537,1521,1514,1424,1411,1383,1335,1331,1280,1354,1291,1278,1240,1238,1213,1258,1187,1162,1167,1126,1195,1124,1134,1024,1109,1112,1139,1065,1039,1017,977,1009,954,953,941,890,929,900,941,852,900,899,862,870,815,782,801,780,785,826,809,778,771,762,811,771,758,760,738,647,742,691,684,666,722,661,692,632,692,681,701,602,621,649,625,626,623,624,583,581,566,557,585,575,568,558,527,528,545,497,529,540,515,470,533,502,483,463,513,483,482,444,436,444,453,400,473,436,414,435,392,426,383,412,394,389,375,367,408,417,372,358,344,360,335,334,347,345,365,379,326,355,305,319,340,327,335,355,311,306,340,325,308,305,299,264,283,267,292,296,256,252,279,256,271,270,272,259,230,294,248,250,251,245,277,234,239,228,250,218,255,237,224,228,191,229,217,221,193,194,197,204,235,212,206,192,211,165,188,210,184,196,216,174,187,194,186,181,157,170,180,209,161,141,165,135,164,162,161,164,180,148,159,160,141,169,146,144,152,142,153,135,169,139,163,143,147,156,144,132,132,160,136,138,122,141,135,137,132,127,127,119,126,143,120,147,131,110,125,125,118,115,91,120,107,99,95,128,126,127,98,106,102,117,95,99,104,112,109,92,89,119,88,94,92,85,118,105,94,91,95,79,87,92,69,77,93,83,80,84,99,86,66,77,81,90,73,99,83,71,78,71,89,81,63,72,62,65,79,80,69,66,65,73,76,76,76,91,71,66,65,68,54,56,48,58,58,49,64,56,62,57,64,52,54,55,48,49,48,46,54,42,45,44,49,49,60,57,48,51,58,59,40,45,52,43,47,54,59,47,42,46,42,50,59,32,44,38,35,37,49,42,43,41,34,44,42,52,41,36,40,29,33,48,33,38,52,46,34,45,32,32,30,36,30,49,35,29,34,29,32,31,30,30,29,37,22,25,25,30,30,33,31,27,31,27,24,32,36,22,26,32,23,30,32,20,29,30,33,24,24,28,27,22,20,17,27,16,37,23,25,20,28,27,25,24,28,28,32,17,23,27,28,21,24,9,21,14,23,26,11,20,17,20,16,14,14,17,25,15,20,22,10,8,17,14,14,16,20,11,18,16,20,27,18,11,12,13,21,18,15,15,16,9,7,20,14,14,17,19,15,15,13,13,11,15,15,15,9,15,13,16,15,10,10,11,20,12,18,17,10,8,12,7,12,22,12,3,20,14,3,6,9,9,10,11,10,15,13,12,10,14,10,12,11,14,11,7,11,15,10,6,8,8,9,7,10,7,16,5,8,13,9,5,7,5,9,6,8,9,8,10,8,7,7,8,9,7,7,7,4,13,10,8,7,6,9,10,4,7,5,4,8,7,5,3,9,11,3,7,9,11,8,8,5,8,5,5,6,5,5,5,4,6,5,5,5,5,7,5,7,5,4,8,5,0,3,5,3,4,5,1,5,6,2,3,6,2,4,3,2,5,3,5,5,7,4,4,5,4,2,2,9,6,3,3,2,4,3,3,1,1,6,4,2,1,1,6,2,2,2,2,3,2,3,4,1,6,3,4,4,4,2,2,1,0,2,1,5,0,3,3,3,4,2,5,3,4,1,1,2,4,4,3,1,1,2,0,1,1,3,2,0,3,2,1,1,2,5,0,0,3,2,3,1,2,0,3,2,1,2,2,0,3,2,3,1,3,0,0,0,2,2,1,0,0,0,2,1,0,1,2,3,1,1,1,2,2,3,1,1,1,2,1,0,0,3,1,1,3,2,1,0,1,0,1,0,0,2,0,0,0,2,3,1,0,1,1,2,1,0,0,2,0,2,1,0,1,1,1,1,0,5,2,1,0,2,0,0,0,0,0,0,2,0,0,0,1,0,1,1,0,1,0,0,0,1,0,0,0,0,0,1,0,0,0,0,0,0,0,0,1,0,0,1,1,0,0,1,0,0,0,0,0,0,0,0,1,1,0,1,0,1,1],\"p1\":966,\"v1\":1,\"p2\":978,\"v2\":1,\"p3\":1001,\"v3\":1}},{\"_typename\":\"TStyle\",\"fUniqueID\":0,\"fBits\":0,\"fName\":\"Modern\",\"fTitle\":\"Modern Style\",\"fLineColor\":1,\"fLineStyle\":1,\"fLineWidth\":1,\"fFillColor\":19,\"fFillStyle\":1001,\"fMarkerColor\":1,\"fMarkerStyle\":1,\"fMarkerSize\":1,\"fTextAngle\":0,\"fTextSize\":0.05,\"fTextAlign\":11,\"fTextColor\":1,\"fTextFont\":62,\"fXaxis\":{\"_typename\":\"TAttAxis\",\"fNdivisions\":510,\"fAxisColor\":1,\"fLabelColor\":1,\"fLabelFont\":42,\"fLabelOffset\":0.005,\"fLabelSize\":0.035,\"fTickLength\":0.03,\"fTitleOffset\":1,\"fTitleSize\":0.035,\"fTitleColor\":1,\"fTitleFont\":42},\"fYaxis\":{\"_typename\":\"TAttAxis\",\"fNdivisions\":510,\"fAxisColor\":1,\"fLabelColor\":1,\"fLabelFont\":42,\"fLabelOffset\":0.005,\"fLabelSize\":0.035,\"fTickLength\":0.03,\"fTitleOffset\":0,\"fTitleSize\":0.035,\"fTitleColor\":1,\"fTitleFont\":42},\"fZaxis\":{\"_typename\":\"TAttAxis\",\"fNdivisions\":510,\"fAxisColor\":1,\"fLabelColor\":1,\"fLabelFont\":42,\"fLabelOffset\":0.005,\"fLabelSize\":0.035,\"fTickLength\":0.03,\"fTitleOffset\":1,\"fTitleSize\":0.035,\"fTitleColor\":1,\"fTitleFont\":42},\"fBarWidth\":1,\"fBarOffset\":0,\"fColorModelPS\":0,\"fDrawBorder\":0,\"fOptLogx\":0,\"fOptLogy\":0,\"fOptLogz\":0,\"fOptDate\":0,\"fOptStat\":0,\"fOptTitle\":1,\"fOptFile\":0,\"fOptFit\":0,\"fShowEventStatus\":0,\"fShowEditor\":0,\"fShowToolBar\":0,\"fNumberContours\":20,\"fAttDate\":{\"_typename\":\"TAttText\",\"fTextAngle\":0,\"fTextSize\":0.025,\"fTextAlign\":11,\"fTextColor\":1,\"fTextFont\":62},\"fDateX\":0.01,\"fDateY\":0.01,\"fEndErrorSize\":2,\"fErrorX\":0.5,\"fFuncColor\":2,\"fFuncStyle\":1,\"fFuncWidth\":2,\"fGridColor\":0,\"fGridStyle\":3,\"fGridWidth\":1,\"fLegendBorderSize\":1,\"fLegendFillColor\":0,\"fLegendFont\":42,\"fLegendTextSize\":0,\"fHatchesLineWidth\":1,\"fHatchesSpacing\":1,\"fFrameFillColor\":0,\"fFrameLineColor\":1,\"fFrameFillStyle\":1001,\"fFrameLineStyle\":1,\"fFrameLineWidth\":1,\"fFrameBorderSize\":1,\"fFrameBorderMode\":0,\"fHistFillColor\":0,\"fHistLineColor\":602,\"fHistFillStyle\":1001,\"fHistLineStyle\":1,\"fHistLineWidth\":1,\"fHistMinimumZero\":false,\"fHistTopMargin\":0.05,\"fCanvasPreferGL\":false,\"fCanvasColor\":0,\"fCanvasBorderSize\":2,\"fCanvasBorderMode\":0,\"fCanvasDefH\":500,\"fCanvasDefW\":700,\"fCanvasDefX\":10,\"fCanvasDefY\":10,\"fPadColor\":0,\"fPadBorderSize\":2,\"fPadBorderMode\":0,\"fPadBottomMargin\":0.1,\"fPadTopMargin\":0.1,\"fPadLeftMargin\":0.1,\"fPadRightMargin\":0.1,\"fPadGridX\":false,\"fPadGridY\":false,\"fPadTickX\":0,\"fPadTickY\":0,\"fPaperSizeX\":20,\"fPaperSizeY\":26,\"fScreenFactor\":1,\"fStatColor\":0,\"fStatTextColor\":1,\"fStatBorderSize\":1,\"fStatFont\":42,\"fStatFontSize\":0,\"fStatStyle\":1001,\"fStatFormat\":\"6.4g\",\"fStatX\":0.98,\"fStatY\":0.935,\"fStatW\":0.2,\"fStatH\":0.16,\"fStripDecimals\":true,\"fTitleAlign\":23,\"fTitleColor\":0,\"fTitleTextColor\":1,\"fTitleBorderSize\":0,\"fTitleFont\":42,\"fTitleFontSize\":0.05,\"fTitleStyle\":0,\"fTitleX\":0.5,\"fTitleY\":0.995,\"fTitleW\":0,\"fTitleH\":0,\"fLegoInnerR\":0.5,\"fLineStyles\":[\"\",\"  \",\" 12 12\",\" 4 8\",\" 12 16 4 16\",\" 20 12 4 12\",\" 20 12 4 12 4 12 4 12\",\" 20 20\",\" 20 12 4 12 4 12\",\" 80 20\",\" 80 40 4 40\",\"  \",\"  \",\"  \",\"  \",\"  \",\"  \",\"  \",\"  \",\"  \",\"  \",\"  \",\"  \",\"  \",\"  \",\"  \",\"  \",\"  \",\"  \",\"  \"],\"fHeaderPS\":\"\",\"fTitlePS\":\"\",\"fFitFormat\":\"5.4g\",\"fPaintTextFormat\":\"g\",\"fLineScalePS\":3,\"fJoinLinePS\":0,\"fCapLinePS\":0,\"fTimeOffset\":788918400,\"fImageScaling\":1}],\"opt\":[\"\",\"\",\"same\",\"\"]},\"fExecs\":null,\"fName\":\"c1\",\"fTitle\":\"c1\",\"fNumPaletteColor\":0,\"fNextPaletteColor\":0,\"fDISPLAY\":\"$DISPLAY\",\"fDoubleBuffer\":0,\"fRetained\":true,\"fXsizeUser\":0,\"fYsizeUser\":0,\"fXsizeReal\":20,\"fYsizeReal\":14.28571,\"fWindowTopX\":0,\"fWindowTopY\":0,\"fWindowWidth\":0,\"fWindowHeight\":0,\"fCw\":696,\"fCh\":472,\"fCatt\":{\"_typename\":\"TAttCanvas\",\"fXBetween\":2,\"fYBetween\":2,\"fTitleFromTop\":1.2,\"fXdate\":0.2,\"fYdate\":0.3,\"fAdate\":1},\"kMoveOpaque\":true,\"kResizeOpaque\":true,\"fHighLightColor\":2,\"fBatch\":true,\"kShowEventStatus\":false,\"kAutoExec\":true,\"kMenuBar\":true});\n",
       "   Core.settings.HandleKeys = false;\n",
       "   Core.draw(\"root_plot_1652818831518\", obj, \"\");\n",
       "}\n",
       "\n",
       "function script_load_root_plot_1652818831518(src, on_error) {\n",
       "    let script = document.createElement('script');\n",
       "    script.src = src;\n",
       "    script.onload = function() { display_root_plot_1652818831518(JSROOT); };\n",
       "    script.onerror = function() { script.remove(); on_error(); };\n",
       "    document.head.appendChild(script);\n",
       "}\n",
       "\n",
       "if (typeof requirejs !== 'undefined') {\n",
       "\n",
       "    // We are in jupyter notebooks, use require.js which should be configured already\n",
       "    requirejs.config({\n",
       "       paths: { 'JSRootCore' : [ 'scripts/JSRoot.core', 'https://root.cern/js/6.1.1/scripts/JSRoot.core.min', 'https://jsroot.gsi.de/6.1.1/scripts/JSRoot.core.min' ] }\n",
       "    })(['JSRootCore'],  function(Core) {\n",
       "       display_root_plot_1652818831518(Core);\n",
       "    });\n",
       "\n",
       "} else if (typeof JSROOT !== 'undefined') {\n",
       "\n",
       "   // JSROOT already loaded, just use it\n",
       "   display_root_plot_1652818831518(JSROOT);\n",
       "\n",
       "} else {\n",
       "\n",
       "    // We are in jupyterlab without require.js, directly loading jsroot\n",
       "    // Jupyterlab might be installed in a different base_url so we need to know it.\n",
       "    try {\n",
       "        var base_url = JSON.parse(document.getElementById('jupyter-config-data').innerHTML).baseUrl;\n",
       "    } catch(_) {\n",
       "        var base_url = '/';\n",
       "    }\n",
       "\n",
       "    // Try loading a local version of requirejs and fallback to cdn if not possible.\n",
       "    script_load_root_plot_1652818831518(base_url + 'static/scripts/JSRoot.core.js', function(){\n",
       "        console.error('Fail to load JSROOT locally, please check your jupyter_notebook_config.py file');\n",
       "        script_load_root_plot_1652818831518('https://root.cern/js/6.1.1/scripts/JSRoot.core.min.js', function(){\n",
       "            document.getElementById(\"root_plot_1652818831518\").innerHTML = \"Failed to load JSROOT\";\n",
       "        });\n",
       "    });\n",
       "}\n",
       "\n",
       "</script>\n"
      ],
      "text/plain": [
       "<IPython.core.display.HTML object>"
      ]
     },
     "metadata": {},
     "output_type": "display_data"
    }
   ],
   "source": [
    "h_kef_p_accept_GEM21_11b.SetLineColor(ROOT.kRed)\n",
    "h_kef_p_accept_GEM21_11b.Draw()\n",
    "h_kef_p_accept_G18_02a.Draw(\"same\")\n",
    "c.Draw()"
   ]
  },
  {
   "cell_type": "code",
   "execution_count": null,
   "metadata": {},
   "outputs": [],
   "source": [
    "h3 = df_gst_lep_accept.Histo1D((\"\",\"\",1000,0,3.0),\"ptf_piplus\")"
   ]
  },
  {
   "cell_type": "code",
   "execution_count": null,
   "metadata": {},
   "outputs": [],
   "source": [
    "h3.Draw()\n",
    "c.Draw()"
   ]
  },
  {
   "cell_type": "code",
   "execution_count": null,
   "metadata": {},
   "outputs": [],
   "source": [
    "h4 = df_gst_lep_accept.Histo1D((\"\",\"\",1000,0,3.0),\"pf_piplus\")\n",
    "h4.Draw()\n",
    "c.Draw()"
   ]
  },
  {
   "cell_type": "code",
   "execution_count": null,
   "metadata": {},
   "outputs": [],
   "source": [
    "h4.SetTitle(\"#pi^{+};Momentum (GeV/c);\")\n",
    "h4.Draw()\n",
    "c.Draw()"
   ]
  },
  {
   "cell_type": "code",
   "execution_count": null,
   "metadata": {},
   "outputs": [],
   "source": [
    "h_n_p = df_gst_lep_accept.Define(\"n_p_accept\",\"Ef_p_accept.size()\").Histo1D((\"\",\"\",10,-0.5,9.5),\"n_p_accept\")"
   ]
  },
  {
   "cell_type": "code",
   "execution_count": null,
   "metadata": {},
   "outputs": [],
   "source": [
    "h_n_p.Draw()\n",
    "c.Draw()"
   ]
  },
  {
   "cell_type": "code",
   "execution_count": null,
   "metadata": {},
   "outputs": [],
   "source": [
    "h_kef_p_max = df_gst_GEM21_11b_accept.Define(\"kef_p_max\",\"Max(kef_p)\").Histo1D((\"\",\"\",1000,0,3.0),\"kef_p_max\")\n",
    "h_kei_p_max = df_gst_GEM21_11b_accept.Define(\"kei_p_max\",\"Max(kei_p)\").Histo1D((\"\",\"\",1000,0,3.0),\"kei_p_max\")"
   ]
  },
  {
   "cell_type": "code",
   "execution_count": null,
   "metadata": {},
   "outputs": [],
   "source": [
    "h_kef_p_max.SetLineColor(ROOT.kRed)\n",
    "h_kef_p_max.Draw()\n",
    "h_kei_p_max.Draw(\"same\")\n",
    "c.Draw()"
   ]
  },
  {
   "cell_type": "code",
   "execution_count": null,
   "metadata": {},
   "outputs": [],
   "source": [
    "h_kef_piplus_max = df_gst_GEM21_11b_accept.Define(\"kef_piplus_max\",\"Max(kef_piplus)\").Histo1D((\"\",\"\",1000,0,3.0),\"kef_piplus_max\")\n",
    "h_kei_piplus_max = df_gst_GEM21_11b_accept.Define(\"kei_piplus_max\",\"Max(kei_piplus)\").Histo1D((\"\",\"\",1000,0,3.0),\"kei_piplus_max\")"
   ]
  },
  {
   "cell_type": "code",
   "execution_count": null,
   "metadata": {},
   "outputs": [],
   "source": [
    "h_kef_piplus_max.SetLineColor(ROOT.kRed)\n",
    "h_kef_piplus_max.Draw()\n",
    "h_kei_piplus_max.Draw(\"same\")\n",
    "c.Draw()"
   ]
  },
  {
   "cell_type": "code",
   "execution_count": null,
   "metadata": {},
   "outputs": [],
   "source": [
    "npy_df_gst_GEM21_11b_accept = df_gst_GEM21_11b_accept.AsNumpy()"
   ]
  },
  {
   "cell_type": "code",
   "execution_count": null,
   "metadata": {},
   "outputs": [],
   "source": [
    "npy_df_ke_p = df_gst_GEM21_11b_accept.AsNumpy(columns=[\"kef_p\",\"kei_p\",\"kef_p_accept\"])"
   ]
  },
  {
   "cell_type": "code",
   "execution_count": null,
   "metadata": {},
   "outputs": [],
   "source": [
    "np.shape(npy_df_ke_p['kef_p'])"
   ]
  },
  {
   "cell_type": "code",
   "execution_count": null,
   "metadata": {},
   "outputs": [],
   "source": []
  }
 ],
 "metadata": {
  "kernelspec": {
   "display_name": "Python 3 (ipykernel)",
   "language": "python",
   "name": "python3"
  },
  "language_info": {
   "codemirror_mode": {
    "name": "ipython",
    "version": 3
   },
   "file_extension": ".py",
   "mimetype": "text/x-python",
   "name": "python",
   "nbconvert_exporter": "python",
   "pygments_lexer": "ipython3",
   "version": "3.8.2"
  }
 },
 "nbformat": 4,
 "nbformat_minor": 4
}
