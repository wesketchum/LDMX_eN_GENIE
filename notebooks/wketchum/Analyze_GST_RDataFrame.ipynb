{
 "cells": [
  {
   "cell_type": "code",
   "execution_count": 1,
   "metadata": {},
   "outputs": [],
   "source": [
    "import os,sys\n",
    "sys.path.append(\"../../\")\n",
    "from analysis_common import *"
   ]
  },
  {
   "cell_type": "code",
   "execution_count": 2,
   "metadata": {
    "scrolled": false
   },
   "outputs": [
    {
     "name": "stdout",
     "output_type": "stream",
     "text": [
      "Welcome to JupyROOT 6.26/00\n"
     ]
    }
   ],
   "source": [
    "from root_common import *"
   ]
  },
  {
   "cell_type": "code",
   "execution_count": 4,
   "metadata": {},
   "outputs": [
    {
     "data": {
      "text/plain": [
       "0.08726646259971647"
      ]
     },
     "execution_count": 4,
     "metadata": {},
     "output_type": "execute_result"
    }
   ],
   "source": [
    "radians(5)"
   ]
  },
  {
   "cell_type": "code",
   "execution_count": 3,
   "metadata": {},
   "outputs": [],
   "source": [
    "#make a canvas we can use by default\n",
    "c = ROOT.TCanvas()"
   ]
  },
  {
   "cell_type": "code",
   "execution_count": 4,
   "metadata": {},
   "outputs": [],
   "source": [
    "#some useful functions\n",
    "from analysis_helpers import *"
   ]
  },
  {
   "cell_type": "code",
   "execution_count": 5,
   "metadata": {},
   "outputs": [],
   "source": [
    "#makes plotting more interactive in notebook\n",
    "%jsroot on"
   ]
  },
  {
   "cell_type": "code",
   "execution_count": 6,
   "metadata": {},
   "outputs": [],
   "source": [
    "#NOTE YOU WILL NEED TO MODIFY THIS PARENT DIRECTORY!\n",
    "dir_files_GEM21_11b = \"/Users/wketchum/Data/LDMX/eN_Ti_GENIE_v3_2_0/ldmx_eTi_4GeV_GEM21_11b_00\"\n",
    "dir_files_G18_02a = \"/Users/wketchum/Data/LDMX/eN_Ti_GENIE_v3_2_0/ldmx_eTi_4GeV_G18_02a_00\""
   ]
  },
  {
   "cell_type": "code",
   "execution_count": 7,
   "metadata": {},
   "outputs": [],
   "source": [
    "#create a list of the files that we have\n",
    "gst_files_GEM21_11b = glob.glob(f\"{dir_files_GEM21_11b}/*gst.root\")\n",
    "gst_files_G18_02a = glob.glob(f\"{dir_files_G18_02a}/*gst.root\")"
   ]
  },
  {
   "cell_type": "code",
   "execution_count": 8,
   "metadata": {},
   "outputs": [
    {
     "name": "stdout",
     "output_type": "stream",
     "text": [
      "Created gst chain from 100 files with 10000000 total events.\n"
     ]
    }
   ],
   "source": [
    "#defined in analysis_helpers.py ... creates a TChain from our list of files\n",
    "gst_chain_GEM21_11b = create_gst_chain(gst_files_GEM21_11b,verbose=True)"
   ]
  },
  {
   "cell_type": "code",
   "execution_count": 9,
   "metadata": {},
   "outputs": [
    {
     "name": "stdout",
     "output_type": "stream",
     "text": [
      "Created gst chain from 100 files with 10000000 total events.\n"
     ]
    }
   ],
   "source": [
    "gst_chain_G18_02a = create_gst_chain(gst_files_G18_02a,verbose=True)"
   ]
  },
  {
   "cell_type": "code",
   "execution_count": 10,
   "metadata": {},
   "outputs": [],
   "source": [
    "#creates a dataframe from our TChain\n",
    "# see https://root.cern/doc/master/classROOT_1_1RDataFrame.html for examples\n",
    "df_gst_GEM21_11b_all = ROOT.RDataFrame(gst_chain_GEM21_11b)"
   ]
  },
  {
   "cell_type": "code",
   "execution_count": 11,
   "metadata": {},
   "outputs": [],
   "source": [
    "#restrict to just 1 million events\n",
    "df_gst_GEM21_11b_all = df_gst_GEM21_11b_all.Range(1000000)"
   ]
  },
  {
   "cell_type": "code",
   "execution_count": 12,
   "metadata": {},
   "outputs": [],
   "source": [
    "#apply definitions for new lepton variables\n",
    "df_gst_GEM21_11b_all = define_df_gst_lep_vars(df_gst_GEM21_11b_all)"
   ]
  },
  {
   "cell_type": "code",
   "execution_count": 13,
   "metadata": {},
   "outputs": [],
   "source": [
    "df_gst_GEM21_11b_all = define_df_gst_hadron_vars(df_gst_GEM21_11b_all)"
   ]
  },
  {
   "cell_type": "code",
   "execution_count": 14,
   "metadata": {},
   "outputs": [],
   "source": [
    "df_gst_GEM21_11b_all = define_df_gst_hadrons_by_pdg(df_gst_GEM21_11b_all)"
   ]
  },
  {
   "cell_type": "code",
   "execution_count": 15,
   "metadata": {},
   "outputs": [],
   "source": [
    "df_gst_GEM21_11b_all = define_df_gst_pi0decay(df_gst_GEM21_11b_all)"
   ]
  },
  {
   "cell_type": "code",
   "execution_count": 16,
   "metadata": {},
   "outputs": [],
   "source": [
    "df_gst_GEM21_11b_DefA = define_df_gst_hadron_acceptance(df_gst_GEM21_11b_all)\n",
    "df_gst_GEM21_11b_DefA = define_df_gst_photon_acceptance(df_gst_GEM21_11b_DefA)\n",
    "df_gst_GEM21_11b_DefA = define_df_gst_hadron_sums(df_gst_GEM21_11b_DefA,sfx=[\"i\",\"f\",\"fa\"])"
   ]
  },
  {
   "cell_type": "code",
   "execution_count": 17,
   "metadata": {},
   "outputs": [],
   "source": [
    "df_gst_GEM21_11b_KEA = define_df_gst_hadron_acceptance(df_gst_GEM21_11b_all,thetaz_max=[10,10,10,10])\n",
    "df_gst_GEM21_11b_KEA = define_df_gst_photon_acceptance(df_gst_GEM21_11b_KEA,thetaz_max=10.)\n",
    "df_gst_GEM21_11b_KEA = define_df_gst_hadron_sums(df_gst_GEM21_11b_KEA,sfx=[\"i\",\"f\",\"fa\"])"
   ]
  },
  {
   "cell_type": "code",
   "execution_count": 18,
   "metadata": {},
   "outputs": [],
   "source": [
    "df_gst_GEM21_11b_DefA = define_df_gst_momentum_imbalance(df_gst_GEM21_11b_DefA,suffix_list=[\"i\"],cname=\"i\")\n",
    "df_gst_GEM21_11b_DefA = define_df_gst_momentum_imbalance(df_gst_GEM21_11b_DefA,suffix_list=[\"f\"],cname=\"f\")\n",
    "df_gst_GEM21_11b_DefA = define_df_gst_momentum_imbalance(df_gst_GEM21_11b_DefA,cname=\"fa_all\",\n",
    "                                                          suffix_list=[\"fa_proton\",\"fa_neutron\",\n",
    "                                                                       \"fa_piplus\",\"fa_piminus\",\n",
    "                                                                       \"fa_pi0_ph\"])\n",
    "df_gst_GEM21_11b_DefA = define_df_gst_momentum_imbalance(df_gst_GEM21_11b_DefA,\n",
    "                                                         cname=\"fa_chhad\",\n",
    "                                                         suffix_list=[\"fa_proton\",\"fa_piplus\",\"fa_piminus\"])"
   ]
  },
  {
   "cell_type": "code",
   "execution_count": 19,
   "metadata": {},
   "outputs": [],
   "source": [
    "df_gst_GEM21_11b_KEA = define_df_gst_momentum_imbalance(df_gst_GEM21_11b_KEA,suffix_list=[\"i\"],cname=\"i\")\n",
    "df_gst_GEM21_11b_KEA = define_df_gst_momentum_imbalance(df_gst_GEM21_11b_KEA,suffix_list=[\"f\"],cname=\"f\")\n",
    "df_gst_GEM21_11b_KEA = define_df_gst_momentum_imbalance(df_gst_GEM21_11b_KEA,cname=\"fa_all\",\n",
    "                                                          suffix_list=[\"fa_proton\",\"fa_neutron\",\n",
    "                                                                       \"fa_piplus\",\"fa_piminus\",\n",
    "                                                                       \"fa_pi0_ph\"])\n",
    "df_gst_GEM21_11b_KEA = define_df_gst_momentum_imbalance(df_gst_GEM21_11b_KEA,\n",
    "                                                         cname=\"fa_chhad\",\n",
    "                                                         suffix_list=[\"fa_proton\",\"fa_piplus\",\"fa_piminus\"])"
   ]
  },
  {
   "cell_type": "code",
   "execution_count": null,
   "metadata": {
    "scrolled": false
   },
   "outputs": [],
   "source": [
    "#can print all of our columns here\n",
    "for n in df_gst_GEM21_11b_DefA.GetColumnNames():\n",
    "    print(n)"
   ]
  },
  {
   "cell_type": "code",
   "execution_count": null,
   "metadata": {
    "scrolled": true
   },
   "outputs": [],
   "source": [
    "#make a quick check to see that the proton indices are filled, and sorted by KE\n",
    "rows=10\n",
    "disp = df_gst_GEM21_11b_DefA.Range(rows).Display([\"pxf_proton\",\"pyf_proton\",\"pzf_proton\",\"Ef_proton\",\n",
    "                                                 \"sum_pxf_proton\",\"sum_pyf_proton\",\"sum_pzf_proton\",\"sum_Ef_proton\"],rows)\n",
    "disp.Print()"
   ]
  },
  {
   "cell_type": "code",
   "execution_count": null,
   "metadata": {},
   "outputs": [],
   "source": [
    "#make a quick check to see that the proton indices are filled, and sorted by KE\n",
    "rows=10\n",
    "disp = df_gst_GEM21_11b_DefA.Range(rows).Display([\"sum_pxi\",\"sum_pxf\",\"pxl\",\n",
    "                                                 \"sum_pyi\",\"sum_pyf\",\"pyl\"],rows)\n",
    "disp.Print()"
   ]
  },
  {
   "cell_type": "code",
   "execution_count": null,
   "metadata": {},
   "outputs": [],
   "source": [
    "#make a quick check to see that the proton indices are filled, and sorted by KE\n",
    "rows=10\n",
    "disp = df_gst_GEM21_11b_DefA.Range(rows).Display([\"sum_pti_proton\",\"sum_Ei_proton\",\n",
    "                                                 \"sum_ptf_proton\",\"sum_Ef_proton\",\n",
    "                                                 \"sum_ptfa_proton\",\"sum_Efa_proton\"],rows)\n",
    "disp.Print()"
   ]
  },
  {
   "cell_type": "code",
   "execution_count": null,
   "metadata": {},
   "outputs": [],
   "source": [
    "#make a quick check to see that the proton indices are filled, and sorted by KE\n",
    "rows=10\n",
    "disp = df_gst_GEM21_11b_KEA.Range(rows).Display([\"sum_pti_proton\",\"sum_Ei_proton\",\n",
    "                                                 \"sum_ptf_proton\",\"sum_Ef_proton\",\n",
    "                                                 \"sum_ptfa_proton\",\"sum_Efa_proton\"],rows)\n",
    "disp.Print()"
   ]
  },
  {
   "cell_type": "code",
   "execution_count": null,
   "metadata": {},
   "outputs": [],
   "source": [
    "rows=10\n",
    "disp = df_gst_GEM21_11b_DefA.Range(rows).Display([\"pxf_pi0_ph1\",\"pyf_pi0_ph1\",\"pzf_pi0_ph1\",\"Ef_pi0_ph1\"],rows)\n",
    "disp.Print()"
   ]
  },
  {
   "cell_type": "code",
   "execution_count": null,
   "metadata": {},
   "outputs": [],
   "source": [
    "rows=10\n",
    "disp = df_gst_GEM21_11b_DefA.Range(rows).Display([\"pxf_pi0_ph2\",\"pyf_pi0_ph2\",\"pzf_pi0_ph2\",\"Ef_pi0_ph2\"],rows)\n",
    "disp.Print()"
   ]
  },
  {
   "cell_type": "code",
   "execution_count": null,
   "metadata": {},
   "outputs": [],
   "source": [
    "rows=10\n",
    "disp = df_gst_GEM21_11b_DefA.Range(rows).Display([\"thetazf_pi0_ph1\",\"thetazf_pi0_ph2\"],rows)\n",
    "disp.Print()"
   ]
  },
  {
   "cell_type": "code",
   "execution_count": null,
   "metadata": {},
   "outputs": [],
   "source": [
    "df_gst_GEM21_11b_DefA_trig = df_gst_GEM21_11b_DefA.Filter(f\"ptl>{LEPTON_PT_TRIGGER} && thetazl<{RTRACKER_ACCEPT_ANGLE}\")\n",
    "df_gst_GEM21_11b_KEA_trig = df_gst_GEM21_11b_KEA.Filter(f\"ptl>{LEPTON_PT_TRIGGER} && thetazl<{RTRACKER_ACCEPT_ANGLE}\")"
   ]
  },
  {
   "cell_type": "code",
   "execution_count": null,
   "metadata": {},
   "outputs": [],
   "source": [
    "#df_gst_GEM21_11b_DefA_trig = df_gst_GEM21_11b_DefA\n",
    "#df_gst_GEM21_11b_KEA_trig = df_gst_GEM21_11b_KEA"
   ]
  },
  {
   "cell_type": "code",
   "execution_count": null,
   "metadata": {},
   "outputs": [],
   "source": [
    "h_deltapti = df_gst_GEM21_11b_DefA_trig.Histo1D((\"h_deltapti\",\"\",100,0,2.0),\"delta_pti\")\n",
    "h_deltaptf = df_gst_GEM21_11b_DefA_trig.Histo1D((\"h_deltaptf\",\"\",100,0,2.0),\"delta_ptf\")\n",
    "h_deltaptfa_all_KE = df_gst_GEM21_11b_KEA_trig.Histo1D((\"h_deltaptfa_all_KE\",\"\",100,0,2.0),\"delta_ptfa_all\")\n",
    "h_deltaptfa_all_Def = df_gst_GEM21_11b_DefA_trig.Histo1D((\"h_deltaptfa_all_Def\",\"\",100,0,2.0),\"delta_ptfa_all\")\n",
    "h_deltaptfa_chhad_KE = df_gst_GEM21_11b_KEA_trig.Histo1D((\"h_deltaptfa_chhad_KE\",\"\",100,0,2.0),\"delta_ptfa_chhad\")\n",
    "h_deltaptfa_chhad_Def = df_gst_GEM21_11b_DefA_trig.Histo1D((\"h_deltaptfa_chhad_Def\",\"\",100,0,2.0),\"delta_ptfa_chhad\")"
   ]
  },
  {
   "cell_type": "code",
   "execution_count": null,
   "metadata": {},
   "outputs": [],
   "source": [
    "hist_list = [h_deltapti,h_deltaptf,\n",
    "             h_deltaptfa_all_KE,h_deltaptfa_all_Def,\n",
    "             h_deltaptfa_chhad_KE,h_deltaptfa_chhad_Def]"
   ]
  },
  {
   "cell_type": "code",
   "execution_count": null,
   "metadata": {},
   "outputs": [],
   "source": [
    "h_maxes = [ h.GetMaximum() for h in hist_list ]\n",
    "for h in hist_list:\n",
    "    h.SetLineWidth(3)"
   ]
  },
  {
   "cell_type": "code",
   "execution_count": null,
   "metadata": {},
   "outputs": [],
   "source": [
    "h_deltapti.SetMinimum(0)\n",
    "h_deltapti.SetMaximum(max(h_maxes)*1.1)"
   ]
  },
  {
   "cell_type": "code",
   "execution_count": null,
   "metadata": {},
   "outputs": [],
   "source": [
    "h_deltapti.SetLineColor(ROOT.kBlue)\n",
    "h_deltaptf.SetLineColor(ROOT.kRed)\n",
    "h_deltaptfa_chhad_Def.SetLineColor(ROOT.kOrange-2)\n",
    "h_deltaptfa_all_Def.SetLineColor(ROOT.kGreen+2)\n",
    "h_deltaptfa_chhad_KE.SetLineColor(ROOT.kOrange-2)\n",
    "h_deltaptfa_all_KE.SetLineColor(ROOT.kGreen+2)\n",
    "#h_deltaptfa_chhad_KE.SetLineStyle(2)\n",
    "#h_deltaptfa_all_KE.SetLineStyle(2)"
   ]
  },
  {
   "cell_type": "code",
   "execution_count": null,
   "metadata": {},
   "outputs": [],
   "source": [
    "h_deltapti.Draw()\n",
    "h_deltapti.SetTitle(\"Nominal Acceptance;#deltap_{T} (GeV/c);Events/bin\")\n",
    "h_deltaptfa_chhad_Def.Draw(\"same\")\n",
    "h_deltaptfa_all_Def.Draw(\"same\")\n",
    "h_deltaptf.Draw(\"same\")\n",
    "\n",
    "leg = ROOT.TLegend(0.4,0.7,0.88,0.88)\n",
    "leg.AddEntry(\"h_deltapti\",\"Initial-state hadrons (all)\")\n",
    "leg.AddEntry(\"h_deltaptf\",\"Final-state hadrons (all)\")\n",
    "leg.AddEntry(\"h_deltaptfa_all_Def\",\"Final-state hadrons (accepted)\")\n",
    "leg.AddEntry(\"h_deltaptfa_chhad_Def\",\"Final-state charged hadrons (accepted)\")\n",
    "leg.Draw()\n",
    "\n",
    "c.Draw()"
   ]
  },
  {
   "cell_type": "code",
   "execution_count": null,
   "metadata": {},
   "outputs": [],
   "source": [
    "h_deltapti.Draw()\n",
    "h_deltapti.SetTitle(\"No Angular Cuts (KE-only acceptance);#deltap_{T} (GeV/c);Events/bin\")\n",
    "h_deltaptfa_chhad_KE.Draw(\"same\")\n",
    "h_deltaptfa_all_KE.Draw(\"same\")\n",
    "h_deltaptf.Draw(\"same\")\n",
    "\n",
    "leg = ROOT.TLegend(0.4,0.7,0.88,0.88)\n",
    "leg.AddEntry(\"h_deltapti\",\"Initial-state hadrons (all)\")\n",
    "leg.AddEntry(\"h_deltaptf\",\"Final-state hadrons (all)\")\n",
    "leg.AddEntry(\"h_deltaptfa_all_KE\",\"Final-state hadrons (accepted)\")\n",
    "leg.AddEntry(\"h_deltaptfa_chhad_KE\",\"Final-state charged hadrons (accepted)\")\n",
    "leg.Draw()\n",
    "\n",
    "c.Draw()"
   ]
  },
  {
   "cell_type": "code",
   "execution_count": null,
   "metadata": {},
   "outputs": [],
   "source": [
    "h_deltapi = df_gst_GEM21_11b_DefA_trig.Histo1D((\"h_deltapi\",\"\",100,0,2.0),\"delta_pi\")\n",
    "h_deltapf = df_gst_GEM21_11b_DefA_trig.Histo1D((\"h_deltapf\",\"\",100,0,2.0),\"delta_pf\")\n",
    "h_deltapfa_all_KE = df_gst_GEM21_11b_KEA_trig.Histo1D((\"h_deltapfa_all_KE\",\"\",100,0,2.0),\"delta_pfa_all\")\n",
    "h_deltapfa_all_Def = df_gst_GEM21_11b_DefA_trig.Histo1D((\"h_deltapfa_all_Def\",\"\",100,0,2.0),\"delta_pfa_all\")\n",
    "h_deltapfa_chhad_KE = df_gst_GEM21_11b_KEA_trig.Histo1D((\"h_deltapfa_chhad_KE\",\"\",100,0,2.0),\"delta_pfa_chhad\")\n",
    "h_deltapfa_chhad_Def = df_gst_GEM21_11b_DefA_trig.Histo1D((\"h_deltapfa_chhad_Def\",\"\",100,0,2.0),\"delta_pfa_chhad\")"
   ]
  },
  {
   "cell_type": "code",
   "execution_count": null,
   "metadata": {},
   "outputs": [],
   "source": [
    "hist_list = [h_deltapi,h_deltapf,\n",
    "             h_deltapfa_all_KE,h_deltapfa_all_Def,\n",
    "             h_deltapfa_chhad_KE,h_deltapfa_chhad_Def]"
   ]
  },
  {
   "cell_type": "code",
   "execution_count": null,
   "metadata": {},
   "outputs": [],
   "source": [
    "h_maxes = [ h.GetMaximum() for h in hist_list ]\n",
    "for h in hist_list:\n",
    "    h.SetLineWidth(3)"
   ]
  },
  {
   "cell_type": "code",
   "execution_count": null,
   "metadata": {},
   "outputs": [],
   "source": [
    "h_deltapi.SetMinimum(0)\n",
    "h_deltapi.SetMaximum(max(h_maxes)*1.1)"
   ]
  },
  {
   "cell_type": "code",
   "execution_count": null,
   "metadata": {},
   "outputs": [],
   "source": [
    "h_deltapi.SetLineColor(ROOT.kBlue)\n",
    "h_deltapf.SetLineColor(ROOT.kRed)\n",
    "h_deltapfa_chhad_Def.SetLineColor(ROOT.kOrange-2)\n",
    "h_deltapfa_all_Def.SetLineColor(ROOT.kGreen+2)\n",
    "h_deltapfa_chhad_KE.SetLineColor(ROOT.kOrange-2)\n",
    "h_deltapfa_all_KE.SetLineColor(ROOT.kGreen+2)\n",
    "#h_deltaptfa_chhad_KE.SetLineStyle(2)\n",
    "#h_deltaptfa_all_KE.SetLineStyle(2)"
   ]
  },
  {
   "cell_type": "code",
   "execution_count": null,
   "metadata": {},
   "outputs": [],
   "source": [
    "h_deltapi.Draw()\n",
    "h_deltapi.SetTitle(\"Nominal Acceptance;#deltap (GeV/c);Events/bin\")\n",
    "h_deltapfa_chhad_Def.Draw(\"same\")\n",
    "h_deltapfa_all_Def.Draw(\"same\")\n",
    "h_deltapf.Draw(\"same\")\n",
    "\n",
    "leg = ROOT.TLegend(0.4,0.7,0.88,0.88)\n",
    "leg.AddEntry(\"h_deltapi\",\"Initial-state hadrons (all)\")\n",
    "leg.AddEntry(\"h_deltapf\",\"Final-state hadrons (all)\")\n",
    "leg.AddEntry(\"h_deltapfa_all_Def\",\"Final-state hadrons (accepted)\")\n",
    "leg.AddEntry(\"h_deltapfa_chhad_Def\",\"Final-state charged hadrons (accepted)\")\n",
    "leg.Draw()\n",
    "\n",
    "c.Draw()"
   ]
  },
  {
   "cell_type": "code",
   "execution_count": null,
   "metadata": {},
   "outputs": [],
   "source": [
    "h_deltapi.Draw()\n",
    "h_deltapi.SetTitle(\"No Angular Cuts (KE-only acceptance);#deltap (GeV/c);Events/bin\")\n",
    "h_deltapfa_chhad_KE.Draw(\"same\")\n",
    "h_deltapfa_all_KE.Draw(\"same\")\n",
    "h_deltapf.Draw(\"same\")\n",
    "\n",
    "leg = ROOT.TLegend(0.4,0.7,0.88,0.88)\n",
    "leg.AddEntry(\"h_deltapi\",\"Initial-state hadrons (all)\")\n",
    "leg.AddEntry(\"h_deltapf\",\"Final-state hadrons (all)\")\n",
    "leg.AddEntry(\"h_deltapfa_all_KE\",\"Final-state hadrons (accepted)\")\n",
    "leg.AddEntry(\"h_deltapfa_chhad_KE\",\"Final-state charged hadrons (accepted)\")\n",
    "leg.Draw()\n",
    "\n",
    "c.Draw()"
   ]
  },
  {
   "cell_type": "code",
   "execution_count": null,
   "metadata": {},
   "outputs": [],
   "source": [
    "pi = ROOT.TMath.Pi()"
   ]
  },
  {
   "cell_type": "code",
   "execution_count": null,
   "metadata": {},
   "outputs": [],
   "source": [
    "h_deltaalphati = df_gst_GEM21_11b_DefA_trig.Histo1D((\"h_deltaalphati\",\"\",100,0,pi),\"delta_alphati\")\n",
    "h_deltaalphatf = df_gst_GEM21_11b_DefA_trig.Histo1D((\"h_deltaalphatf\",\"\",100,0,pi),\"delta_alphatf\")\n",
    "h_deltaalphatfa_all_KE = df_gst_GEM21_11b_KEA_trig.Histo1D((\"h_deltaalphatfa_all_KE\",\"\",100,0,pi),\"delta_alphatfa_all\")\n",
    "h_deltaalphatfa_all_Def = df_gst_GEM21_11b_DefA_trig.Histo1D((\"h_deltaalphatfa_all_Def\",\"\",100,0,pi),\"delta_alphatfa_all\")\n",
    "h_deltaalphatfa_chhad_KE = df_gst_GEM21_11b_KEA_trig.Histo1D((\"h_deltaalphatfa_chhad_KE\",\"\",100,0,pi),\"delta_alphatfa_chhad\")\n",
    "h_deltaalphatfa_chhad_Def = df_gst_GEM21_11b_DefA_trig.Histo1D((\"h_deltaalphatfa_chhad_Def\",\"\",100,0,pi),\"delta_alphatfa_chhad\")"
   ]
  },
  {
   "cell_type": "code",
   "execution_count": null,
   "metadata": {},
   "outputs": [],
   "source": [
    "hist_list = [h_deltaalphati,h_deltaalphatf,\n",
    "             h_deltaalphatfa_all_KE,h_deltaalphatfa_all_Def,\n",
    "             h_deltaalphatfa_chhad_KE,h_deltaalphatfa_chhad_Def]"
   ]
  },
  {
   "cell_type": "code",
   "execution_count": null,
   "metadata": {},
   "outputs": [],
   "source": [
    "h_maxes = [ h.GetMaximum() for h in hist_list ]\n",
    "for h in hist_list:\n",
    "    h.SetLineWidth(3)"
   ]
  },
  {
   "cell_type": "code",
   "execution_count": null,
   "metadata": {},
   "outputs": [],
   "source": [
    "h_deltaalphati.SetMinimum(0)\n",
    "h_deltaalphati.SetMaximum(max(h_maxes)*1.1)"
   ]
  },
  {
   "cell_type": "code",
   "execution_count": null,
   "metadata": {},
   "outputs": [],
   "source": [
    "h_deltaalphati.SetLineColor(ROOT.kBlue)\n",
    "h_deltaalphatf.SetLineColor(ROOT.kRed)\n",
    "h_deltaalphatfa_chhad_Def.SetLineColor(ROOT.kOrange-2)\n",
    "h_deltaalphatfa_all_Def.SetLineColor(ROOT.kGreen+2)\n",
    "h_deltaalphatfa_chhad_KE.SetLineColor(ROOT.kOrange-2)\n",
    "h_deltaalphatfa_all_KE.SetLineColor(ROOT.kGreen+2)\n",
    "#h_deltaptfa_chhad_KE.SetLineStyle(2)\n",
    "#h_deltaptfa_all_KE.SetLineStyle(2)"
   ]
  },
  {
   "cell_type": "code",
   "execution_count": null,
   "metadata": {},
   "outputs": [],
   "source": [
    "h_deltaalphati.Draw()\n",
    "h_deltaalphati.SetTitle(\"Nominal Acceptance;#delta#alpha_{T};Events/bin\")\n",
    "h_deltaalphatfa_chhad_Def.Draw(\"same\")\n",
    "h_deltaalphatfa_all_Def.Draw(\"same\")\n",
    "h_deltaalphatf.Draw(\"same\")\n",
    "\n",
    "leg = ROOT.TLegend(0.4,0.7,0.88,0.88)\n",
    "leg.AddEntry(\"h_deltaalphati\",\"Initial-state hadrons (all)\")\n",
    "leg.AddEntry(\"h_deltaalphatf\",\"Final-state hadrons (all)\")\n",
    "leg.AddEntry(\"h_deltaalphatfa_all_Def\",\"Final-state hadrons (accepted)\")\n",
    "leg.AddEntry(\"h_deltaalphatfa_chhad_Def\",\"Final-state charged hadrons (accepted)\")\n",
    "leg.Draw()\n",
    "\n",
    "c.Draw()"
   ]
  },
  {
   "cell_type": "code",
   "execution_count": null,
   "metadata": {},
   "outputs": [],
   "source": [
    "h_deltaalphati.Draw()\n",
    "h_deltaalphati.SetTitle(\"No Angular Cuts (KE-only acceptance);#delta#alpha_{T};Events/bin\")\n",
    "h_deltaalphatfa_chhad_KE.Draw(\"same\")\n",
    "h_deltaalphatfa_all_KE.Draw(\"same\")\n",
    "h_deltaalphatf.Draw(\"same\")\n",
    "\n",
    "leg = ROOT.TLegend(0.4,0.7,0.88,0.88)\n",
    "leg.AddEntry(\"h_deltaalphati\",\"Initial-state hadrons (all)\")\n",
    "leg.AddEntry(\"h_deltaalphatf\",\"Final-state hadrons (all)\")\n",
    "leg.AddEntry(\"h_deltaalphatfa_all_KE\",\"Final-state hadrons (accepted)\")\n",
    "leg.AddEntry(\"h_deltaalphatfa_chhad_KE\",\"Final-state charged hadrons (accepted)\")\n",
    "leg.Draw()\n",
    "\n",
    "c.Draw()"
   ]
  },
  {
   "cell_type": "code",
   "execution_count": null,
   "metadata": {},
   "outputs": [],
   "source": [
    "histo = df_gst_GEM21_11b_DefA_trig.Histo1D((\"\",\"\",100,0,2),\"pf_proton\")"
   ]
  },
  {
   "cell_type": "code",
   "execution_count": null,
   "metadata": {},
   "outputs": [],
   "source": [
    "histo.Draw()\n",
    "c.Draw()"
   ]
  },
  {
   "cell_type": "code",
   "execution_count": 20,
   "metadata": {},
   "outputs": [],
   "source": [
    "pdgcodes = df_gst_GEM21_11b_all.AsNumpy([\"pdgf\"])[\"pdgf\"]"
   ]
  },
  {
   "cell_type": "code",
   "execution_count": null,
   "metadata": {},
   "outputs": [],
   "source": [
    "pdgcodes = [ np.asarray(p) for p in pdgcodes ]"
   ]
  },
  {
   "cell_type": "code",
   "execution_count": null,
   "metadata": {},
   "outputs": [],
   "source": [
    "pdgcodes"
   ]
  },
  {
   "cell_type": "code",
   "execution_count": null,
   "metadata": {},
   "outputs": [],
   "source": []
  }
 ],
 "metadata": {
  "kernelspec": {
   "display_name": "Python 3 (ipykernel)",
   "language": "python",
   "name": "python3"
  },
  "language_info": {
   "codemirror_mode": {
    "name": "ipython",
    "version": 3
   },
   "file_extension": ".py",
   "mimetype": "text/x-python",
   "name": "python",
   "nbconvert_exporter": "python",
   "pygments_lexer": "ipython3",
   "version": "3.8.2"
  }
 },
 "nbformat": 4,
 "nbformat_minor": 4
}
