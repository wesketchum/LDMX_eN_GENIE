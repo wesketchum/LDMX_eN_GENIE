{
 "cells": [
  {
   "cell_type": "code",
   "execution_count": 1,
   "metadata": {},
   "outputs": [],
   "source": [
    "import os,sys\n",
    "sys.path.append(\"../../\")\n",
    "from analysis_common import *"
   ]
  },
  {
   "cell_type": "code",
   "execution_count": 2,
   "metadata": {
    "scrolled": false
   },
   "outputs": [
    {
     "name": "stdout",
     "output_type": "stream",
     "text": [
      "Welcome to JupyROOT 6.26/00\n"
     ]
    }
   ],
   "source": [
    "from root_common import *"
   ]
  },
  {
   "cell_type": "code",
   "execution_count": 3,
   "metadata": {},
   "outputs": [
    {
     "data": {
      "text/plain": [
       "0.08726646259971647"
      ]
     },
     "execution_count": 3,
     "metadata": {},
     "output_type": "execute_result"
    }
   ],
   "source": [
    "radians(5)"
   ]
  },
  {
   "cell_type": "code",
   "execution_count": 4,
   "metadata": {},
   "outputs": [],
   "source": [
    "#make a canvas we can use by default\n",
    "c = ROOT.TCanvas()"
   ]
  },
  {
   "cell_type": "code",
   "execution_count": 5,
   "metadata": {},
   "outputs": [],
   "source": [
    "#some useful functions\n",
    "from analysis_helpers import *"
   ]
  },
  {
   "cell_type": "code",
   "execution_count": 6,
   "metadata": {},
   "outputs": [],
   "source": [
    "#makes plotting more interactive in notebook\n",
    "%jsroot on"
   ]
  },
  {
   "cell_type": "code",
   "execution_count": 7,
   "metadata": {},
   "outputs": [],
   "source": [
    "#NOTE YOU WILL NEED TO MODIFY THIS PARENT DIRECTORY!\n",
    "dir_files_GEM21_11b = \"/Users/wketchum/Data/LDMX/eN_Ti_GENIE_v3_2_0/ldmx_eTi_4GeV_GEM21_11b_00\"\n",
    "dir_files_G18_02a = \"/Users/wketchum/Data/LDMX/eN_Ti_GENIE_v3_2_0/ldmx_eTi_4GeV_G18_02a_00\""
   ]
  },
  {
   "cell_type": "code",
   "execution_count": 8,
   "metadata": {},
   "outputs": [],
   "source": [
    "#create a list of the files that we have\n",
    "gst_files_GEM21_11b = glob.glob(f\"{dir_files_GEM21_11b}/*gst.root\")\n",
    "gst_files_G18_02a = glob.glob(f\"{dir_files_G18_02a}/*gst.root\")"
   ]
  },
  {
   "cell_type": "code",
   "execution_count": 9,
   "metadata": {},
   "outputs": [
    {
     "name": "stdout",
     "output_type": "stream",
     "text": [
      "Created gst chain from 100 files with 10000000 total events.\n"
     ]
    }
   ],
   "source": [
    "#defined in analysis_helpers.py ... creates a TChain from our list of files\n",
    "gst_chain_GEM21_11b = create_gst_chain(gst_files_GEM21_11b,verbose=True)"
   ]
  },
  {
   "cell_type": "code",
   "execution_count": 10,
   "metadata": {},
   "outputs": [
    {
     "name": "stdout",
     "output_type": "stream",
     "text": [
      "Created gst chain from 100 files with 10000000 total events.\n"
     ]
    }
   ],
   "source": [
    "gst_chain_G18_02a = create_gst_chain(gst_files_G18_02a,verbose=True)"
   ]
  },
  {
   "cell_type": "code",
   "execution_count": 11,
   "metadata": {},
   "outputs": [],
   "source": [
    "#creates a dataframe from our TChain\n",
    "# see https://root.cern/doc/master/classROOT_1_1RDataFrame.html for examples\n",
    "df_gst_GEM21_11b_all = ROOT.RDataFrame(gst_chain_GEM21_11b)"
   ]
  },
  {
   "cell_type": "code",
   "execution_count": 12,
   "metadata": {},
   "outputs": [],
   "source": [
    "#restrict to just 1 million events\n",
    "df_gst_GEM21_11b_all = df_gst_GEM21_11b_all.Range(10000)"
   ]
  },
  {
   "cell_type": "code",
   "execution_count": 13,
   "metadata": {},
   "outputs": [],
   "source": [
    "#apply definitions for new lepton variables\n",
    "df_gst_GEM21_11b_all = define_df_gst_lep_vars(df_gst_GEM21_11b_all)"
   ]
  },
  {
   "cell_type": "code",
   "execution_count": 14,
   "metadata": {},
   "outputs": [],
   "source": [
    "df_gst_GEM21_11b_all = define_df_gst_hadron_vars(df_gst_GEM21_11b_all)"
   ]
  },
  {
   "cell_type": "code",
   "execution_count": 15,
   "metadata": {},
   "outputs": [],
   "source": [
    "df_gst_GEM21_11b_all = define_df_gst_hadrons_by_pdg(df_gst_GEM21_11b_all)"
   ]
  },
  {
   "cell_type": "code",
   "execution_count": 16,
   "metadata": {},
   "outputs": [],
   "source": [
    "df_gst_GEM21_11b_all = define_df_gst_pi0decay(df_gst_GEM21_11b_all)"
   ]
  },
  {
   "cell_type": "code",
   "execution_count": 17,
   "metadata": {},
   "outputs": [],
   "source": [
    "df_gst_GEM21_11b_DefA = define_df_gst_hadron_acceptance(df_gst_GEM21_11b_all)\n",
    "df_gst_GEM21_11b_DefA = define_df_gst_photon_acceptance(df_gst_GEM21_11b_DefA)\n",
    "df_gst_GEM21_11b_DefA = define_df_gst_hadron_sums(df_gst_GEM21_11b_DefA,sfx=[\"i\",\"f\",\"fa\"])"
   ]
  },
  {
   "cell_type": "code",
   "execution_count": 18,
   "metadata": {},
   "outputs": [],
   "source": [
    "df_gst_GEM21_11b_KEA = define_df_gst_hadron_acceptance(df_gst_GEM21_11b_all,thetaz_max=[10,10,10,10])\n",
    "df_gst_GEM21_11b_KEA = define_df_gst_photon_acceptance(df_gst_GEM21_11b_KEA,thetaz_max=10.)\n",
    "df_gst_GEM21_11b_KEA = define_df_gst_hadron_sums(df_gst_GEM21_11b_KEA,sfx=[\"i\",\"f\",\"fa\"])"
   ]
  },
  {
   "cell_type": "code",
   "execution_count": 19,
   "metadata": {},
   "outputs": [],
   "source": [
    "df_gst_GEM21_11b_DefA = define_df_gst_momentum_imbalance(df_gst_GEM21_11b_DefA,suffix_list=[\"i\"],cname=\"i\")\n",
    "df_gst_GEM21_11b_DefA = define_df_gst_momentum_imbalance(df_gst_GEM21_11b_DefA,suffix_list=[\"f\"],cname=\"f\")\n",
    "df_gst_GEM21_11b_DefA = define_df_gst_momentum_imbalance(df_gst_GEM21_11b_DefA,cname=\"fa_all\",\n",
    "                                                          suffix_list=[\"fa_proton\",\"fa_neutron\",\n",
    "                                                                       \"fa_piplus\",\"fa_piminus\",\n",
    "                                                                       \"fa_pi0_ph\"])\n",
    "df_gst_GEM21_11b_DefA = define_df_gst_momentum_imbalance(df_gst_GEM21_11b_DefA,\n",
    "                                                         cname=\"fa_chhad\",\n",
    "                                                         suffix_list=[\"fa_proton\",\"fa_piplus\",\"fa_piminus\"])"
   ]
  },
  {
   "cell_type": "code",
   "execution_count": 20,
   "metadata": {},
   "outputs": [],
   "source": [
    "df_gst_GEM21_11b_KEA = define_df_gst_momentum_imbalance(df_gst_GEM21_11b_KEA,suffix_list=[\"i\"],cname=\"i\")\n",
    "df_gst_GEM21_11b_KEA = define_df_gst_momentum_imbalance(df_gst_GEM21_11b_KEA,suffix_list=[\"f\"],cname=\"f\")\n",
    "df_gst_GEM21_11b_KEA = define_df_gst_momentum_imbalance(df_gst_GEM21_11b_KEA,cname=\"fa_all\",\n",
    "                                                          suffix_list=[\"fa_proton\",\"fa_neutron\",\n",
    "                                                                       \"fa_piplus\",\"fa_piminus\",\n",
    "                                                                       \"fa_pi0_ph\"])\n",
    "df_gst_GEM21_11b_KEA = define_df_gst_momentum_imbalance(df_gst_GEM21_11b_KEA,\n",
    "                                                         cname=\"fa_chhad\",\n",
    "                                                         suffix_list=[\"fa_proton\",\"fa_piplus\",\"fa_piminus\"])"
   ]
  },
  {
   "cell_type": "code",
   "execution_count": 21,
   "metadata": {},
   "outputs": [],
   "source": [
    "df_gst_GEM21_11b_DefA = df_gst_GEM21_11b_DefA.Define(\"leading_nucleon_ke\",\"leading_nucleon_ke(kefa_proton,kefa_neutron)\")"
   ]
  },
  {
   "cell_type": "code",
   "execution_count": 22,
   "metadata": {},
   "outputs": [],
   "source": [
    "df_gst_GEM21_11b_DefA = df_gst_GEM21_11b_DefA.Define(\"subleading_nucleon_ke\",\"subleading_nucleon_ke(kefa_proton,kefa_neutron)\")"
   ]
  },
  {
   "cell_type": "code",
   "execution_count": 23,
   "metadata": {
    "scrolled": true
   },
   "outputs": [
    {
     "name": "stdout",
     "output_type": "stream",
     "text": [
      "A\n",
      "Acceptf_neutron\n",
      "Acceptf_pi0_ph1\n",
      "Acceptf_pi0_ph2\n",
      "Acceptf_pi0_phAll\n",
      "Acceptf_pi0_phNone\n",
      "Acceptf_piminus\n",
      "Acceptf_piplus\n",
      "Acceptf_proton\n",
      "DXSec\n",
      "Ef\n",
      "Ef_K0\n",
      "Ef_Kminus\n",
      "Ef_Kplus\n",
      "Ef_neutron\n",
      "Ef_pi0\n",
      "Ef_pi0_ph1\n",
      "Ef_pi0_ph2\n",
      "Ef_piminus\n",
      "Ef_piplus\n",
      "Ef_proton\n",
      "Efa_neutron\n",
      "Efa_pi0_ph1\n",
      "Efa_pi0_ph2\n",
      "Efa_piminus\n",
      "Efa_piplus\n",
      "Efa_proton\n",
      "Efm_neutron\n",
      "Efm_pi0_ph1\n",
      "Efm_pi0_ph2\n",
      "Efm_piminus\n",
      "Efm_piplus\n",
      "Efm_proton\n",
      "Ei\n",
      "Ei_K0\n",
      "Ei_Kminus\n",
      "Ei_Kplus\n",
      "Ei_neutron\n",
      "Ei_pi0\n",
      "Ei_piminus\n",
      "Ei_piplus\n",
      "Ei_proton\n",
      "El\n",
      "En\n",
      "Ev\n",
      "EvRF\n",
      "KPS\n",
      "Q2\n",
      "Q2s\n",
      "W\n",
      "Ws\n",
      "XSec\n",
      "Z\n",
      "amnugamma\n",
      "calresp0\n",
      "cc\n",
      "charm\n",
      "coh\n",
      "cthf\n",
      "cthl\n",
      "delta_alphaf\n",
      "delta_alphafa_all\n",
      "delta_alphafa_chhad\n",
      "delta_alphai\n",
      "delta_alphatf\n",
      "delta_alphatfa_all\n",
      "delta_alphatfa_chhad\n",
      "delta_alphati\n",
      "delta_cosalphaf\n",
      "delta_cosalphafa_all\n",
      "delta_cosalphafa_chhad\n",
      "delta_cosalphai\n",
      "delta_cosalphatf\n",
      "delta_cosalphatfa_all\n",
      "delta_cosalphatfa_chhad\n",
      "delta_cosalphati\n",
      "delta_cosphif\n",
      "delta_cosphifa_all\n",
      "delta_cosphifa_chhad\n",
      "delta_cosphii\n",
      "delta_cosphitf\n",
      "delta_cosphitfa_all\n",
      "delta_cosphitfa_chhad\n",
      "delta_cosphiti\n",
      "delta_pf\n",
      "delta_pfa_all\n",
      "delta_pfa_chhad\n",
      "delta_phif\n",
      "delta_phifa_all\n",
      "delta_phifa_chhad\n",
      "delta_phii\n",
      "delta_phitf\n",
      "delta_phitfa_all\n",
      "delta_phitfa_chhad\n",
      "delta_phiti\n",
      "delta_pi\n",
      "delta_ptf\n",
      "delta_ptfa_all\n",
      "delta_ptfa_chhad\n",
      "delta_pti\n",
      "delta_pxf\n",
      "delta_pxfa_all\n",
      "delta_pxfa_chhad\n",
      "delta_pxi\n",
      "delta_pyf\n",
      "delta_pyfa_all\n",
      "delta_pyfa_chhad\n",
      "delta_pyi\n",
      "delta_pzf\n",
      "delta_pzfa_all\n",
      "delta_pzfa_chhad\n",
      "delta_pzi\n",
      "dfr\n",
      "dis\n",
      "em\n",
      "energy_transfer\n",
      "fspl\n",
      "hitnuc\n",
      "hitqrk\n",
      "hsum_pf\n",
      "hsum_pfa_all\n",
      "hsum_pfa_chhad\n",
      "hsum_pi\n",
      "hsum_ptf\n",
      "hsum_ptfa_all\n",
      "hsum_ptfa_chhad\n",
      "hsum_pti\n",
      "hsum_pxf\n",
      "hsum_pxfa_all\n",
      "hsum_pxfa_chhad\n",
      "hsum_pxi\n",
      "hsum_pyf\n",
      "hsum_pyfa_all\n",
      "hsum_pyfa_chhad\n",
      "hsum_pyi\n",
      "hsum_pzf\n",
      "hsum_pzfa_all\n",
      "hsum_pzfa_chhad\n",
      "hsum_pzi\n",
      "iev\n",
      "imd\n",
      "imdanh\n",
      "kef\n",
      "kef_K0\n",
      "kef_Kminus\n",
      "kef_Kplus\n",
      "kef_neutron\n",
      "kef_pi0\n",
      "kef_piminus\n",
      "kef_piplus\n",
      "kef_proton\n",
      "kefa_neutron\n",
      "kefa_piminus\n",
      "kefa_piplus\n",
      "kefa_proton\n",
      "kefm_neutron\n",
      "kefm_piminus\n",
      "kefm_piplus\n",
      "kefm_proton\n",
      "kei\n",
      "kei_K0\n",
      "kei_Kminus\n",
      "kei_Kplus\n",
      "kei_neutron\n",
      "kei_pi0\n",
      "kei_piminus\n",
      "kei_piplus\n",
      "kei_proton\n",
      "leading_nucleon_ke\n",
      "massf\n",
      "massf_K0\n",
      "massf_Kminus\n",
      "massf_Kplus\n",
      "massf_neutron\n",
      "massf_pi0\n",
      "massf_piminus\n",
      "massf_piplus\n",
      "massf_proton\n",
      "massfa_neutron\n",
      "massfa_piminus\n",
      "massfa_piplus\n",
      "massfa_proton\n",
      "massfm_neutron\n",
      "massfm_piminus\n",
      "massfm_piplus\n",
      "massfm_proton\n",
      "massi\n",
      "massi_K0\n",
      "massi_Kminus\n",
      "massi_Kplus\n",
      "massi_neutron\n",
      "massi_pi0\n",
      "massi_piminus\n",
      "massi_piplus\n",
      "massi_proton\n",
      "mec\n",
      "nc\n",
      "neu\n",
      "neut_code\n",
      "nf\n",
      "nfa_neutron\n",
      "nfa_pi0\n",
      "nfa_pi0_ph\n",
      "nfa_piminus\n",
      "nfa_piplus\n",
      "nfa_proton\n",
      "nfem\n",
      "nfk0\n",
      "nfkm\n",
      "nfkp\n",
      "nfm_neutron\n",
      "nfm_pi0\n",
      "nfm_pi0_ph\n",
      "nfm_piminus\n",
      "nfm_piplus\n",
      "nfm_proton\n",
      "nfn\n",
      "nfother\n",
      "nfp\n",
      "nfpi0\n",
      "nfpim\n",
      "nfpip\n",
      "ni\n",
      "niem\n",
      "nik0\n",
      "nikm\n",
      "nikp\n",
      "nin\n",
      "niother\n",
      "nip\n",
      "nipi0\n",
      "nipim\n",
      "nipip\n",
      "nuance_code\n",
      "nuel\n",
      "p4vec_pi0_ph1\n",
      "p4vec_pi0_ph2\n",
      "pdgf\n",
      "pdgi\n",
      "pdl\n",
      "pf\n",
      "pf_K0\n",
      "pf_Kminus\n",
      "pf_Kplus\n",
      "pf_neutron\n",
      "pf_pi0\n",
      "pf_piminus\n",
      "pf_piplus\n",
      "pf_proton\n",
      "pfa_neutron\n",
      "pfa_piminus\n",
      "pfa_piplus\n",
      "pfa_proton\n",
      "pfm_neutron\n",
      "pfm_piminus\n",
      "pfm_piplus\n",
      "pfm_proton\n",
      "pi\n",
      "pi_K0\n",
      "pi_Kminus\n",
      "pi_Kplus\n",
      "pi_neutron\n",
      "pi_pi0\n",
      "pi_piminus\n",
      "pi_piplus\n",
      "pi_proton\n",
      "pl\n",
      "ptf\n",
      "ptf_K0\n",
      "ptf_Kminus\n",
      "ptf_Kplus\n",
      "ptf_neutron\n",
      "ptf_pi0\n",
      "ptf_pi0_ph1\n",
      "ptf_pi0_ph2\n",
      "ptf_piminus\n",
      "ptf_piplus\n",
      "ptf_proton\n",
      "ptfa_neutron\n",
      "ptfa_pi0_ph1\n",
      "ptfa_pi0_ph2\n",
      "ptfa_piminus\n",
      "ptfa_piplus\n",
      "ptfa_proton\n",
      "ptfm_neutron\n",
      "ptfm_pi0_ph1\n",
      "ptfm_pi0_ph2\n",
      "ptfm_piminus\n",
      "ptfm_piplus\n",
      "ptfm_proton\n",
      "pti\n",
      "pti_K0\n",
      "pti_Kminus\n",
      "pti_Kplus\n",
      "pti_neutron\n",
      "pti_pi0\n",
      "pti_piminus\n",
      "pti_piplus\n",
      "pti_proton\n",
      "ptl\n",
      "pv\n",
      "pxdl\n",
      "pxf\n",
      "pxf_K0\n",
      "pxf_Kminus\n",
      "pxf_Kplus\n",
      "pxf_neutron\n",
      "pxf_pi0\n",
      "pxf_pi0_ph1\n",
      "pxf_pi0_ph2\n",
      "pxf_piminus\n",
      "pxf_piplus\n",
      "pxf_proton\n",
      "pxfa_neutron\n",
      "pxfa_pi0_ph1\n",
      "pxfa_pi0_ph2\n",
      "pxfa_piminus\n",
      "pxfa_piplus\n",
      "pxfa_proton\n",
      "pxfm_neutron\n",
      "pxfm_pi0_ph1\n",
      "pxfm_pi0_ph2\n",
      "pxfm_piminus\n",
      "pxfm_piplus\n",
      "pxfm_proton\n",
      "pxi\n",
      "pxi_K0\n",
      "pxi_Kminus\n",
      "pxi_Kplus\n",
      "pxi_neutron\n",
      "pxi_pi0\n",
      "pxi_piminus\n",
      "pxi_piplus\n",
      "pxi_proton\n",
      "pxl\n",
      "pxn\n",
      "pxv\n",
      "pydl\n",
      "pyf\n",
      "pyf_K0\n",
      "pyf_Kminus\n",
      "pyf_Kplus\n",
      "pyf_neutron\n",
      "pyf_pi0\n",
      "pyf_pi0_ph1\n",
      "pyf_pi0_ph2\n",
      "pyf_piminus\n",
      "pyf_piplus\n",
      "pyf_proton\n",
      "pyfa_neutron\n",
      "pyfa_pi0_ph1\n",
      "pyfa_pi0_ph2\n",
      "pyfa_piminus\n",
      "pyfa_piplus\n",
      "pyfa_proton\n",
      "pyfm_neutron\n",
      "pyfm_pi0_ph1\n",
      "pyfm_pi0_ph2\n",
      "pyfm_piminus\n",
      "pyfm_piplus\n",
      "pyfm_proton\n",
      "pyi\n",
      "pyi_K0\n",
      "pyi_Kminus\n",
      "pyi_Kplus\n",
      "pyi_neutron\n",
      "pyi_pi0\n",
      "pyi_piminus\n",
      "pyi_piplus\n",
      "pyi_proton\n",
      "pyl\n",
      "pyn\n",
      "pyv\n",
      "pzdl\n",
      "pzf\n",
      "pzf_K0\n",
      "pzf_Kminus\n",
      "pzf_Kplus\n",
      "pzf_neutron\n",
      "pzf_pi0\n",
      "pzf_pi0_ph1\n",
      "pzf_pi0_ph2\n",
      "pzf_piminus\n",
      "pzf_piplus\n",
      "pzf_proton\n",
      "pzfa_neutron\n",
      "pzfa_pi0_ph1\n",
      "pzfa_pi0_ph2\n",
      "pzfa_piminus\n",
      "pzfa_piplus\n",
      "pzfa_proton\n",
      "pzfm_neutron\n",
      "pzfm_pi0_ph1\n",
      "pzfm_pi0_ph2\n",
      "pzfm_piminus\n",
      "pzfm_piplus\n",
      "pzfm_proton\n",
      "pzi\n",
      "pzi_K0\n",
      "pzi_Kminus\n",
      "pzi_Kplus\n",
      "pzi_neutron\n",
      "pzi_pi0\n",
      "pzi_piminus\n",
      "pzi_piplus\n",
      "pzi_proton\n",
      "pzl\n",
      "pzn\n",
      "pzv\n",
      "qel\n",
      "res\n",
      "resc\n",
      "resid\n",
      "sea\n",
      "singlek\n",
      "subleading_nucleon_ke\n",
      "sumKEf\n",
      "sum_Ef\n",
      "sum_Ef_neutron\n",
      "sum_Ef_pi0_ph\n",
      "sum_Ef_piminus\n",
      "sum_Ef_piplus\n",
      "sum_Ef_proton\n",
      "sum_Efa_neutron\n",
      "sum_Efa_pi0_ph\n",
      "sum_Efa_piminus\n",
      "sum_Efa_piplus\n",
      "sum_Efa_proton\n",
      "sum_Ei\n",
      "sum_Ei_neutron\n",
      "sum_Ei_pi0\n",
      "sum_Ei_piminus\n",
      "sum_Ei_piplus\n",
      "sum_Ei_proton\n",
      "sum_kef\n",
      "sum_kef_neutron\n",
      "sum_kef_piminus\n",
      "sum_kef_piplus\n",
      "sum_kef_proton\n",
      "sum_kefa_neutron\n",
      "sum_kefa_piminus\n",
      "sum_kefa_piplus\n",
      "sum_kefa_proton\n",
      "sum_kei\n",
      "sum_kei_neutron\n",
      "sum_kei_piminus\n",
      "sum_kei_piplus\n",
      "sum_kei_proton\n",
      "sum_pf\n",
      "sum_pf_neutron\n",
      "sum_pf_pi0_ph\n",
      "sum_pf_piminus\n",
      "sum_pf_piplus\n",
      "sum_pf_proton\n",
      "sum_pfa_neutron\n",
      "sum_pfa_pi0_ph\n",
      "sum_pfa_piminus\n",
      "sum_pfa_piplus\n",
      "sum_pfa_proton\n",
      "sum_pi\n",
      "sum_pi_neutron\n",
      "sum_pi_pi0\n",
      "sum_pi_piminus\n",
      "sum_pi_piplus\n",
      "sum_pi_proton\n",
      "sum_ptf\n",
      "sum_ptf_neutron\n",
      "sum_ptf_pi0_ph\n",
      "sum_ptf_piminus\n",
      "sum_ptf_piplus\n",
      "sum_ptf_proton\n",
      "sum_ptfa_neutron\n",
      "sum_ptfa_pi0_ph\n",
      "sum_ptfa_piminus\n",
      "sum_ptfa_piplus\n",
      "sum_ptfa_proton\n",
      "sum_pti\n",
      "sum_pti_neutron\n",
      "sum_pti_pi0\n",
      "sum_pti_piminus\n",
      "sum_pti_piplus\n",
      "sum_pti_proton\n",
      "sum_pxf\n",
      "sum_pxf_neutron\n",
      "sum_pxf_pi0_ph\n",
      "sum_pxf_piminus\n",
      "sum_pxf_piplus\n",
      "sum_pxf_proton\n",
      "sum_pxfa_neutron\n",
      "sum_pxfa_pi0_ph\n",
      "sum_pxfa_piminus\n",
      "sum_pxfa_piplus\n",
      "sum_pxfa_proton\n",
      "sum_pxi\n",
      "sum_pxi_neutron\n",
      "sum_pxi_pi0\n",
      "sum_pxi_piminus\n",
      "sum_pxi_piplus\n",
      "sum_pxi_proton\n",
      "sum_pyf\n",
      "sum_pyf_neutron\n",
      "sum_pyf_pi0_ph\n",
      "sum_pyf_piminus\n",
      "sum_pyf_piplus\n",
      "sum_pyf_proton\n",
      "sum_pyfa_neutron\n",
      "sum_pyfa_pi0_ph\n",
      "sum_pyfa_piminus\n",
      "sum_pyfa_piplus\n",
      "sum_pyfa_proton\n",
      "sum_pyi\n",
      "sum_pyi_neutron\n",
      "sum_pyi_pi0\n",
      "sum_pyi_piminus\n",
      "sum_pyi_piplus\n",
      "sum_pyi_proton\n",
      "sum_pzf\n",
      "sum_pzf_neutron\n",
      "sum_pzf_pi0_ph\n",
      "sum_pzf_piminus\n",
      "sum_pzf_piplus\n",
      "sum_pzf_proton\n",
      "sum_pzfa_neutron\n",
      "sum_pzfa_pi0_ph\n",
      "sum_pzfa_piminus\n",
      "sum_pzfa_piplus\n",
      "sum_pzfa_proton\n",
      "sum_pzi\n",
      "sum_pzi_neutron\n",
      "sum_pzi_pi0\n",
      "sum_pzi_piminus\n",
      "sum_pzi_piplus\n",
      "sum_pzi_proton\n",
      "t\n",
      "tgt\n",
      "thetaxzf\n",
      "thetaxzf_K0\n",
      "thetaxzf_Kminus\n",
      "thetaxzf_Kplus\n",
      "thetaxzf_neutron\n",
      "thetaxzf_pi0\n",
      "thetaxzf_piminus\n",
      "thetaxzf_piplus\n",
      "thetaxzf_proton\n",
      "thetaxzfa_neutron\n",
      "thetaxzfa_piminus\n",
      "thetaxzfa_piplus\n",
      "thetaxzfa_proton\n",
      "thetaxzfm_neutron\n",
      "thetaxzfm_piminus\n",
      "thetaxzfm_piplus\n",
      "thetaxzfm_proton\n",
      "thetaxzi\n",
      "thetaxzi_K0\n",
      "thetaxzi_Kminus\n",
      "thetaxzi_Kplus\n",
      "thetaxzi_neutron\n",
      "thetaxzi_pi0\n",
      "thetaxzi_piminus\n",
      "thetaxzi_piplus\n",
      "thetaxzi_proton\n",
      "thetayzf\n",
      "thetayzf_K0\n",
      "thetayzf_Kminus\n",
      "thetayzf_Kplus\n",
      "thetayzf_neutron\n",
      "thetayzf_pi0\n",
      "thetayzf_piminus\n",
      "thetayzf_piplus\n",
      "thetayzf_proton\n",
      "thetayzfa_neutron\n",
      "thetayzfa_piminus\n",
      "thetayzfa_piplus\n",
      "thetayzfa_proton\n",
      "thetayzfm_neutron\n",
      "thetayzfm_piminus\n",
      "thetayzfm_piplus\n",
      "thetayzfm_proton\n",
      "thetayzi\n",
      "thetayzi_K0\n",
      "thetayzi_Kminus\n",
      "thetayzi_Kplus\n",
      "thetayzi_neutron\n",
      "thetayzi_pi0\n",
      "thetayzi_piminus\n",
      "thetayzi_piplus\n",
      "thetayzi_proton\n",
      "thetazf\n",
      "thetazf_K0\n",
      "thetazf_Kminus\n",
      "thetazf_Kplus\n",
      "thetazf_neutron\n",
      "thetazf_pi0\n",
      "thetazf_pi0_ph1\n",
      "thetazf_pi0_ph2\n",
      "thetazf_piminus\n",
      "thetazf_piplus\n",
      "thetazf_proton\n",
      "thetazfa_neutron\n",
      "thetazfa_pi0_ph1\n",
      "thetazfa_pi0_ph2\n",
      "thetazfa_piminus\n",
      "thetazfa_piplus\n",
      "thetazfa_proton\n",
      "thetazfm_neutron\n",
      "thetazfm_pi0_ph1\n",
      "thetazfm_pi0_ph2\n",
      "thetazfm_piminus\n",
      "thetazfm_piplus\n",
      "thetazfm_proton\n",
      "thetazi\n",
      "thetazi_K0\n",
      "thetazi_Kminus\n",
      "thetazi_Kplus\n",
      "thetazi_neutron\n",
      "thetazi_pi0\n",
      "thetazi_piminus\n",
      "thetazi_piplus\n",
      "thetazi_proton\n",
      "thetazl\n",
      "ts\n",
      "vtxt\n",
      "vtxx\n",
      "vtxy\n",
      "vtxz\n",
      "wght\n",
      "x\n",
      "xs\n",
      "y\n",
      "ys\n"
     ]
    }
   ],
   "source": [
    "#can print all of our columns here\n",
    "for n in df_gst_GEM21_11b_DefA.GetColumnNames():\n",
    "    print(n)"
   ]
  },
  {
   "cell_type": "code",
   "execution_count": 24,
   "metadata": {
    "scrolled": true
   },
   "outputs": [
    {
     "name": "stdout",
     "output_type": "stream",
     "text": [
      "+------+-------------+--------------+--------------------+-----------------------+\n",
      "| Row  | kefa_proton | kefa_neutron | leading_nucleon_ke | subleading_nucleon_ke | \n",
      "+------+-------------+--------------+--------------------+-----------------------+\n",
      "| 538  | 0.19612987  | 0.060611268  | 0.26043232         | 0.20353388            | \n",
      "|      | 0.26043232  | 0.20353388   |                    |                       | \n",
      "|      | 0.10503065  |              |                    |                       | \n",
      "+------+-------------+--------------+--------------------+-----------------------+\n",
      "| 4037 | 0.10327688  | 0.15998790   | 0.31246310         | 0.15998790            | \n",
      "|      | 0.073174393 | 0.31246310   |                    |                       | \n",
      "+------+-------------+--------------+--------------------+-----------------------+\n",
      "| 5240 | 0.25793607  | 0.072919864  | 0.25793607         | 0.20738244            | \n",
      "|      | 0.10611439  | 0.20738244   |                    |                       | \n",
      "|      | 0.060780941 |              |                    |                       | \n",
      "+------+-------------+--------------+--------------------+-----------------------+\n",
      "| 6234 | 0.53630173  | 0.066184649  | 0.53630173         | 0.13471629            | \n",
      "|      | 0.13471629  | 0.10384568   |                    |                       | \n",
      "+------+-------------+--------------+--------------------+-----------------------+\n",
      "| 7105 | 0.16573600  | 0.083125792  | 0.16573600         | 0.15224071            | \n",
      "|      | 0.15224071  | 0.087514844  |                    |                       | \n",
      "+------+-------------+--------------+--------------------+-----------------------+\n"
     ]
    }
   ],
   "source": [
    "#make a quick check to see that the proton indices are filled, and sorted by KE\n",
    "rows=1000\n",
    "disp = df_gst_GEM21_11b_DefA.Filter(\"nfa_proton>1 && nfa_neutron>1\").Range(rows).Display([\"kefa_proton\",\"kefa_neutron\",\"leading_nucleon_ke\",\"subleading_nucleon_ke\"])\n",
    "disp.Print()"
   ]
  },
  {
   "cell_type": "code",
   "execution_count": null,
   "metadata": {},
   "outputs": [],
   "source": [
    "#make a quick check to see that the proton indices are filled, and sorted by KE\n",
    "rows=10\n",
    "disp = df_gst_GEM21_11b_DefA.Range(rows).Display([\"sum_pxi\",\"sum_pxf\",\"pxl\",\n",
    "                                                 \"sum_pyi\",\"sum_pyf\",\"pyl\"],rows)\n",
    "disp.Print()"
   ]
  },
  {
   "cell_type": "code",
   "execution_count": null,
   "metadata": {},
   "outputs": [],
   "source": [
    "#make a quick check to see that the proton indices are filled, and sorted by KE\n",
    "rows=10\n",
    "disp = df_gst_GEM21_11b_DefA.Range(rows).Display([\"sum_pti_proton\",\"sum_Ei_proton\",\n",
    "                                                 \"sum_ptf_proton\",\"sum_Ef_proton\",\n",
    "                                                 \"sum_ptfa_proton\",\"sum_Efa_proton\"],rows)\n",
    "disp.Print()"
   ]
  },
  {
   "cell_type": "code",
   "execution_count": null,
   "metadata": {},
   "outputs": [],
   "source": [
    "#make a quick check to see that the proton indices are filled, and sorted by KE\n",
    "rows=10\n",
    "disp = df_gst_GEM21_11b_KEA.Range(rows).Display([\"sum_pti_proton\",\"sum_Ei_proton\",\n",
    "                                                 \"sum_ptf_proton\",\"sum_Ef_proton\",\n",
    "                                                 \"sum_ptfa_proton\",\"sum_Efa_proton\"],rows)\n",
    "disp.Print()"
   ]
  },
  {
   "cell_type": "code",
   "execution_count": null,
   "metadata": {},
   "outputs": [],
   "source": [
    "rows=10\n",
    "disp = df_gst_GEM21_11b_DefA.Range(rows).Display([\"pxf_pi0_ph1\",\"pyf_pi0_ph1\",\"pzf_pi0_ph1\",\"Ef_pi0_ph1\"],rows)\n",
    "disp.Print()"
   ]
  },
  {
   "cell_type": "code",
   "execution_count": null,
   "metadata": {},
   "outputs": [],
   "source": [
    "rows=10\n",
    "disp = df_gst_GEM21_11b_DefA.Range(rows).Display([\"pxf_pi0_ph2\",\"pyf_pi0_ph2\",\"pzf_pi0_ph2\",\"Ef_pi0_ph2\"],rows)\n",
    "disp.Print()"
   ]
  },
  {
   "cell_type": "code",
   "execution_count": null,
   "metadata": {},
   "outputs": [],
   "source": [
    "rows=10\n",
    "disp = df_gst_GEM21_11b_DefA.Range(rows).Display([\"thetazf_pi0_ph1\",\"thetazf_pi0_ph2\"],rows)\n",
    "disp.Print()"
   ]
  },
  {
   "cell_type": "code",
   "execution_count": null,
   "metadata": {},
   "outputs": [],
   "source": [
    "df_gst_GEM21_11b_DefA_trig = df_gst_GEM21_11b_DefA.Filter(f\"ptl>{LEPTON_PT_TRIGGER} && thetazl<{RTRACKER_ACCEPT_ANGLE}\")\n",
    "df_gst_GEM21_11b_KEA_trig = df_gst_GEM21_11b_KEA.Filter(f\"ptl>{LEPTON_PT_TRIGGER} && thetazl<{RTRACKER_ACCEPT_ANGLE}\")"
   ]
  },
  {
   "cell_type": "code",
   "execution_count": null,
   "metadata": {},
   "outputs": [],
   "source": [
    "#df_gst_GEM21_11b_DefA_trig = df_gst_GEM21_11b_DefA\n",
    "#df_gst_GEM21_11b_KEA_trig = df_gst_GEM21_11b_KEA"
   ]
  },
  {
   "cell_type": "code",
   "execution_count": null,
   "metadata": {},
   "outputs": [],
   "source": [
    "h_deltapti = df_gst_GEM21_11b_DefA_trig.Histo1D((\"h_deltapti\",\"\",100,0,2.0),\"delta_pti\")\n",
    "h_deltaptf = df_gst_GEM21_11b_DefA_trig.Histo1D((\"h_deltaptf\",\"\",100,0,2.0),\"delta_ptf\")\n",
    "h_deltaptfa_all_KE = df_gst_GEM21_11b_KEA_trig.Histo1D((\"h_deltaptfa_all_KE\",\"\",100,0,2.0),\"delta_ptfa_all\")\n",
    "h_deltaptfa_all_Def = df_gst_GEM21_11b_DefA_trig.Histo1D((\"h_deltaptfa_all_Def\",\"\",100,0,2.0),\"delta_ptfa_all\")\n",
    "h_deltaptfa_chhad_KE = df_gst_GEM21_11b_KEA_trig.Histo1D((\"h_deltaptfa_chhad_KE\",\"\",100,0,2.0),\"delta_ptfa_chhad\")\n",
    "h_deltaptfa_chhad_Def = df_gst_GEM21_11b_DefA_trig.Histo1D((\"h_deltaptfa_chhad_Def\",\"\",100,0,2.0),\"delta_ptfa_chhad\")"
   ]
  },
  {
   "cell_type": "code",
   "execution_count": null,
   "metadata": {},
   "outputs": [],
   "source": [
    "hist_list = [h_deltapti,h_deltaptf,\n",
    "             h_deltaptfa_all_KE,h_deltaptfa_all_Def,\n",
    "             h_deltaptfa_chhad_KE,h_deltaptfa_chhad_Def]"
   ]
  },
  {
   "cell_type": "code",
   "execution_count": null,
   "metadata": {},
   "outputs": [],
   "source": [
    "h_maxes = [ h.GetMaximum() for h in hist_list ]\n",
    "for h in hist_list:\n",
    "    h.SetLineWidth(3)"
   ]
  },
  {
   "cell_type": "code",
   "execution_count": null,
   "metadata": {},
   "outputs": [],
   "source": [
    "h_deltapti.SetMinimum(0)\n",
    "h_deltapti.SetMaximum(max(h_maxes)*1.1)"
   ]
  },
  {
   "cell_type": "code",
   "execution_count": null,
   "metadata": {},
   "outputs": [],
   "source": [
    "h_deltapti.SetLineColor(ROOT.kBlue)\n",
    "h_deltaptf.SetLineColor(ROOT.kRed)\n",
    "h_deltaptfa_chhad_Def.SetLineColor(ROOT.kOrange-2)\n",
    "h_deltaptfa_all_Def.SetLineColor(ROOT.kGreen+2)\n",
    "h_deltaptfa_chhad_KE.SetLineColor(ROOT.kOrange-2)\n",
    "h_deltaptfa_all_KE.SetLineColor(ROOT.kGreen+2)\n",
    "#h_deltaptfa_chhad_KE.SetLineStyle(2)\n",
    "#h_deltaptfa_all_KE.SetLineStyle(2)"
   ]
  },
  {
   "cell_type": "code",
   "execution_count": null,
   "metadata": {},
   "outputs": [],
   "source": [
    "h_deltapti.Draw()\n",
    "h_deltapti.SetTitle(\"Nominal Acceptance;#deltap_{T} (GeV/c);Events/bin\")\n",
    "h_deltaptfa_chhad_Def.Draw(\"same\")\n",
    "h_deltaptfa_all_Def.Draw(\"same\")\n",
    "h_deltaptf.Draw(\"same\")\n",
    "\n",
    "leg = ROOT.TLegend(0.4,0.7,0.88,0.88)\n",
    "leg.AddEntry(\"h_deltapti\",\"Initial-state hadrons (all)\")\n",
    "leg.AddEntry(\"h_deltaptf\",\"Final-state hadrons (all)\")\n",
    "leg.AddEntry(\"h_deltaptfa_all_Def\",\"Final-state hadrons (accepted)\")\n",
    "leg.AddEntry(\"h_deltaptfa_chhad_Def\",\"Final-state charged hadrons (accepted)\")\n",
    "leg.Draw()\n",
    "\n",
    "c.Draw()"
   ]
  },
  {
   "cell_type": "code",
   "execution_count": null,
   "metadata": {},
   "outputs": [],
   "source": [
    "h_deltapti.Draw()\n",
    "h_deltapti.SetTitle(\"No Angular Cuts (KE-only acceptance);#deltap_{T} (GeV/c);Events/bin\")\n",
    "h_deltaptfa_chhad_KE.Draw(\"same\")\n",
    "h_deltaptfa_all_KE.Draw(\"same\")\n",
    "h_deltaptf.Draw(\"same\")\n",
    "\n",
    "leg = ROOT.TLegend(0.4,0.7,0.88,0.88)\n",
    "leg.AddEntry(\"h_deltapti\",\"Initial-state hadrons (all)\")\n",
    "leg.AddEntry(\"h_deltaptf\",\"Final-state hadrons (all)\")\n",
    "leg.AddEntry(\"h_deltaptfa_all_KE\",\"Final-state hadrons (accepted)\")\n",
    "leg.AddEntry(\"h_deltaptfa_chhad_KE\",\"Final-state charged hadrons (accepted)\")\n",
    "leg.Draw()\n",
    "\n",
    "c.Draw()"
   ]
  },
  {
   "cell_type": "code",
   "execution_count": null,
   "metadata": {},
   "outputs": [],
   "source": [
    "h_deltapi = df_gst_GEM21_11b_DefA_trig.Histo1D((\"h_deltapi\",\"\",100,0,2.0),\"delta_pi\")\n",
    "h_deltapf = df_gst_GEM21_11b_DefA_trig.Histo1D((\"h_deltapf\",\"\",100,0,2.0),\"delta_pf\")\n",
    "h_deltapfa_all_KE = df_gst_GEM21_11b_KEA_trig.Histo1D((\"h_deltapfa_all_KE\",\"\",100,0,2.0),\"delta_pfa_all\")\n",
    "h_deltapfa_all_Def = df_gst_GEM21_11b_DefA_trig.Histo1D((\"h_deltapfa_all_Def\",\"\",100,0,2.0),\"delta_pfa_all\")\n",
    "h_deltapfa_chhad_KE = df_gst_GEM21_11b_KEA_trig.Histo1D((\"h_deltapfa_chhad_KE\",\"\",100,0,2.0),\"delta_pfa_chhad\")\n",
    "h_deltapfa_chhad_Def = df_gst_GEM21_11b_DefA_trig.Histo1D((\"h_deltapfa_chhad_Def\",\"\",100,0,2.0),\"delta_pfa_chhad\")"
   ]
  },
  {
   "cell_type": "code",
   "execution_count": null,
   "metadata": {},
   "outputs": [],
   "source": [
    "hist_list = [h_deltapi,h_deltapf,\n",
    "             h_deltapfa_all_KE,h_deltapfa_all_Def,\n",
    "             h_deltapfa_chhad_KE,h_deltapfa_chhad_Def]"
   ]
  },
  {
   "cell_type": "code",
   "execution_count": null,
   "metadata": {},
   "outputs": [],
   "source": [
    "h_maxes = [ h.GetMaximum() for h in hist_list ]\n",
    "for h in hist_list:\n",
    "    h.SetLineWidth(3)"
   ]
  },
  {
   "cell_type": "code",
   "execution_count": null,
   "metadata": {},
   "outputs": [],
   "source": [
    "h_deltapi.SetMinimum(0)\n",
    "h_deltapi.SetMaximum(max(h_maxes)*1.1)"
   ]
  },
  {
   "cell_type": "code",
   "execution_count": null,
   "metadata": {},
   "outputs": [],
   "source": [
    "h_deltapi.SetLineColor(ROOT.kBlue)\n",
    "h_deltapf.SetLineColor(ROOT.kRed)\n",
    "h_deltapfa_chhad_Def.SetLineColor(ROOT.kOrange-2)\n",
    "h_deltapfa_all_Def.SetLineColor(ROOT.kGreen+2)\n",
    "h_deltapfa_chhad_KE.SetLineColor(ROOT.kOrange-2)\n",
    "h_deltapfa_all_KE.SetLineColor(ROOT.kGreen+2)\n",
    "#h_deltaptfa_chhad_KE.SetLineStyle(2)\n",
    "#h_deltaptfa_all_KE.SetLineStyle(2)"
   ]
  },
  {
   "cell_type": "code",
   "execution_count": null,
   "metadata": {},
   "outputs": [],
   "source": [
    "h_deltapi.Draw()\n",
    "h_deltapi.SetTitle(\"Nominal Acceptance;#deltap (GeV/c);Events/bin\")\n",
    "h_deltapfa_chhad_Def.Draw(\"same\")\n",
    "h_deltapfa_all_Def.Draw(\"same\")\n",
    "h_deltapf.Draw(\"same\")\n",
    "\n",
    "leg = ROOT.TLegend(0.4,0.7,0.88,0.88)\n",
    "leg.AddEntry(\"h_deltapi\",\"Initial-state hadrons (all)\")\n",
    "leg.AddEntry(\"h_deltapf\",\"Final-state hadrons (all)\")\n",
    "leg.AddEntry(\"h_deltapfa_all_Def\",\"Final-state hadrons (accepted)\")\n",
    "leg.AddEntry(\"h_deltapfa_chhad_Def\",\"Final-state charged hadrons (accepted)\")\n",
    "leg.Draw()\n",
    "\n",
    "c.Draw()"
   ]
  },
  {
   "cell_type": "code",
   "execution_count": null,
   "metadata": {},
   "outputs": [],
   "source": [
    "h_deltapi.Draw()\n",
    "h_deltapi.SetTitle(\"No Angular Cuts (KE-only acceptance);#deltap (GeV/c);Events/bin\")\n",
    "h_deltapfa_chhad_KE.Draw(\"same\")\n",
    "h_deltapfa_all_KE.Draw(\"same\")\n",
    "h_deltapf.Draw(\"same\")\n",
    "\n",
    "leg = ROOT.TLegend(0.4,0.7,0.88,0.88)\n",
    "leg.AddEntry(\"h_deltapi\",\"Initial-state hadrons (all)\")\n",
    "leg.AddEntry(\"h_deltapf\",\"Final-state hadrons (all)\")\n",
    "leg.AddEntry(\"h_deltapfa_all_KE\",\"Final-state hadrons (accepted)\")\n",
    "leg.AddEntry(\"h_deltapfa_chhad_KE\",\"Final-state charged hadrons (accepted)\")\n",
    "leg.Draw()\n",
    "\n",
    "c.Draw()"
   ]
  },
  {
   "cell_type": "code",
   "execution_count": null,
   "metadata": {},
   "outputs": [],
   "source": [
    "pi = ROOT.TMath.Pi()"
   ]
  },
  {
   "cell_type": "code",
   "execution_count": null,
   "metadata": {},
   "outputs": [],
   "source": [
    "h_deltaalphati = df_gst_GEM21_11b_DefA_trig.Histo1D((\"h_deltaalphati\",\"\",100,0,pi),\"delta_alphati\")\n",
    "h_deltaalphatf = df_gst_GEM21_11b_DefA_trig.Histo1D((\"h_deltaalphatf\",\"\",100,0,pi),\"delta_alphatf\")\n",
    "h_deltaalphatfa_all_KE = df_gst_GEM21_11b_KEA_trig.Histo1D((\"h_deltaalphatfa_all_KE\",\"\",100,0,pi),\"delta_alphatfa_all\")\n",
    "h_deltaalphatfa_all_Def = df_gst_GEM21_11b_DefA_trig.Histo1D((\"h_deltaalphatfa_all_Def\",\"\",100,0,pi),\"delta_alphatfa_all\")\n",
    "h_deltaalphatfa_chhad_KE = df_gst_GEM21_11b_KEA_trig.Histo1D((\"h_deltaalphatfa_chhad_KE\",\"\",100,0,pi),\"delta_alphatfa_chhad\")\n",
    "h_deltaalphatfa_chhad_Def = df_gst_GEM21_11b_DefA_trig.Histo1D((\"h_deltaalphatfa_chhad_Def\",\"\",100,0,pi),\"delta_alphatfa_chhad\")"
   ]
  },
  {
   "cell_type": "code",
   "execution_count": null,
   "metadata": {},
   "outputs": [],
   "source": [
    "hist_list = [h_deltaalphati,h_deltaalphatf,\n",
    "             h_deltaalphatfa_all_KE,h_deltaalphatfa_all_Def,\n",
    "             h_deltaalphatfa_chhad_KE,h_deltaalphatfa_chhad_Def]"
   ]
  },
  {
   "cell_type": "code",
   "execution_count": null,
   "metadata": {},
   "outputs": [],
   "source": [
    "h_maxes = [ h.GetMaximum() for h in hist_list ]\n",
    "for h in hist_list:\n",
    "    h.SetLineWidth(3)"
   ]
  },
  {
   "cell_type": "code",
   "execution_count": null,
   "metadata": {},
   "outputs": [],
   "source": [
    "h_deltaalphati.SetMinimum(0)\n",
    "h_deltaalphati.SetMaximum(max(h_maxes)*1.1)"
   ]
  },
  {
   "cell_type": "code",
   "execution_count": null,
   "metadata": {},
   "outputs": [],
   "source": [
    "h_deltaalphati.SetLineColor(ROOT.kBlue)\n",
    "h_deltaalphatf.SetLineColor(ROOT.kRed)\n",
    "h_deltaalphatfa_chhad_Def.SetLineColor(ROOT.kOrange-2)\n",
    "h_deltaalphatfa_all_Def.SetLineColor(ROOT.kGreen+2)\n",
    "h_deltaalphatfa_chhad_KE.SetLineColor(ROOT.kOrange-2)\n",
    "h_deltaalphatfa_all_KE.SetLineColor(ROOT.kGreen+2)\n",
    "#h_deltaptfa_chhad_KE.SetLineStyle(2)\n",
    "#h_deltaptfa_all_KE.SetLineStyle(2)"
   ]
  },
  {
   "cell_type": "code",
   "execution_count": null,
   "metadata": {},
   "outputs": [],
   "source": [
    "h_deltaalphati.Draw()\n",
    "h_deltaalphati.SetTitle(\"Nominal Acceptance;#delta#alpha_{T};Events/bin\")\n",
    "h_deltaalphatfa_chhad_Def.Draw(\"same\")\n",
    "h_deltaalphatfa_all_Def.Draw(\"same\")\n",
    "h_deltaalphatf.Draw(\"same\")\n",
    "\n",
    "leg = ROOT.TLegend(0.4,0.7,0.88,0.88)\n",
    "leg.AddEntry(\"h_deltaalphati\",\"Initial-state hadrons (all)\")\n",
    "leg.AddEntry(\"h_deltaalphatf\",\"Final-state hadrons (all)\")\n",
    "leg.AddEntry(\"h_deltaalphatfa_all_Def\",\"Final-state hadrons (accepted)\")\n",
    "leg.AddEntry(\"h_deltaalphatfa_chhad_Def\",\"Final-state charged hadrons (accepted)\")\n",
    "leg.Draw()\n",
    "\n",
    "c.Draw()"
   ]
  },
  {
   "cell_type": "code",
   "execution_count": null,
   "metadata": {},
   "outputs": [],
   "source": [
    "h_deltaalphati.Draw()\n",
    "h_deltaalphati.SetTitle(\"No Angular Cuts (KE-only acceptance);#delta#alpha_{T};Events/bin\")\n",
    "h_deltaalphatfa_chhad_KE.Draw(\"same\")\n",
    "h_deltaalphatfa_all_KE.Draw(\"same\")\n",
    "h_deltaalphatf.Draw(\"same\")\n",
    "\n",
    "leg = ROOT.TLegend(0.4,0.7,0.88,0.88)\n",
    "leg.AddEntry(\"h_deltaalphati\",\"Initial-state hadrons (all)\")\n",
    "leg.AddEntry(\"h_deltaalphatf\",\"Final-state hadrons (all)\")\n",
    "leg.AddEntry(\"h_deltaalphatfa_all_KE\",\"Final-state hadrons (accepted)\")\n",
    "leg.AddEntry(\"h_deltaalphatfa_chhad_KE\",\"Final-state charged hadrons (accepted)\")\n",
    "leg.Draw()\n",
    "\n",
    "c.Draw()"
   ]
  },
  {
   "cell_type": "code",
   "execution_count": null,
   "metadata": {},
   "outputs": [],
   "source": [
    "histo = df_gst_GEM21_11b_DefA_trig.Histo1D((\"\",\"\",100,0,2),\"pf_proton\")"
   ]
  },
  {
   "cell_type": "code",
   "execution_count": null,
   "metadata": {},
   "outputs": [],
   "source": [
    "histo.Draw()\n",
    "c.Draw()"
   ]
  },
  {
   "cell_type": "code",
   "execution_count": null,
   "metadata": {},
   "outputs": [],
   "source": [
    "pdgcodes = df_gst_GEM21_11b_all.AsNumpy([\"pdgf\"])[\"pdgf\"]"
   ]
  },
  {
   "cell_type": "code",
   "execution_count": null,
   "metadata": {},
   "outputs": [],
   "source": [
    "pdgcodes = [ np.asarray(p) for p in pdgcodes ]"
   ]
  },
  {
   "cell_type": "code",
   "execution_count": null,
   "metadata": {},
   "outputs": [],
   "source": [
    "pdgcodes"
   ]
  },
  {
   "cell_type": "code",
   "execution_count": null,
   "metadata": {},
   "outputs": [],
   "source": []
  }
 ],
 "metadata": {
  "kernelspec": {
   "display_name": "Python 3 (ipykernel)",
   "language": "python",
   "name": "python3"
  },
  "language_info": {
   "codemirror_mode": {
    "name": "ipython",
    "version": 3
   },
   "file_extension": ".py",
   "mimetype": "text/x-python",
   "name": "python",
   "nbconvert_exporter": "python",
   "pygments_lexer": "ipython3",
   "version": "3.9.15"
  }
 },
 "nbformat": 4,
 "nbformat_minor": 4
}
