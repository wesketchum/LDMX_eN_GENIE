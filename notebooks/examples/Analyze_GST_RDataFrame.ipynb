{
 "cells": [
  {
   "cell_type": "code",
   "execution_count": 1,
   "metadata": {},
   "outputs": [],
   "source": [
    "import os,sys\n",
    "sys.path.append(\"../../\")\n",
    "from analysis_common import *"
   ]
  },
  {
   "cell_type": "code",
   "execution_count": 2,
   "metadata": {
    "scrolled": false
   },
   "outputs": [
    {
     "name": "stdout",
     "output_type": "stream",
     "text": [
      "Welcome to JupyROOT 6.24/06\n"
     ]
    }
   ],
   "source": [
    "from root_common import *"
   ]
  },
  {
   "cell_type": "code",
   "execution_count": 3,
   "metadata": {},
   "outputs": [],
   "source": [
    "#make a canvas we can use by default\n",
    "c = ROOT.TCanvas()"
   ]
  },
  {
   "cell_type": "code",
   "execution_count": 4,
   "metadata": {},
   "outputs": [],
   "source": [
    "#some useful functions\n",
    "from analysis_helpers import *"
   ]
  },
  {
   "cell_type": "code",
   "execution_count": 5,
   "metadata": {},
   "outputs": [],
   "source": [
    "#makes plotting more interactive in notebook\n",
    "%jsroot on"
   ]
  },
  {
   "cell_type": "code",
   "execution_count": 6,
   "metadata": {},
   "outputs": [],
   "source": [
    "#some useful early definitions\n",
    "lep_accept_pt = 0.4 #GeV\n",
    "lep_accept_angle = radians(40)\n",
    "\n",
    "hadron_accept_angle = radians(40)\n",
    "hadron_accept_ke = 0.060 #GeV"
   ]
  },
  {
   "cell_type": "code",
   "execution_count": 16,
   "metadata": {},
   "outputs": [],
   "source": [
    "#NOTE YOU WILL NEED TO MODIFY THIS PARENT DIRECTORY!\n",
    "dir_files_GEM21_11b = \"/Data/ldmx_eTi_4GeV_GEM21_11b_00\"\n",
    "dir_files_G18_02a = \"/Data/ldmx_eTi_4GeV_G18_02a_00\""
   ]
  },
  {
   "cell_type": "code",
   "execution_count": 17,
   "metadata": {},
   "outputs": [],
   "source": [
    "#create a list of the files that we have\n",
    "gst_files_GEM21_11b = glob.glob(f\"{dir_files_GEM21_11b}/*gst.root\")\n",
    "gst_files_G18_02a = glob.glob(f\"{dir_files_G18_02a}/*gst.root\")"
   ]
  },
  {
   "cell_type": "code",
   "execution_count": 18,
   "metadata": {},
   "outputs": [
    {
     "name": "stdout",
     "output_type": "stream",
     "text": [
      "/Data/ldmx_eTi_4GeV_GEM21_11b_00/ldmx_eTi_4GeV_GEM21_11b_00_run1.gst.root\n",
      "/Data/ldmx_eTi_4GeV_GEM21_11b_00/ldmx_eTi_4GeV_GEM21_11b_00_run10.gst.root\n",
      "/Data/ldmx_eTi_4GeV_GEM21_11b_00/ldmx_eTi_4GeV_GEM21_11b_00_run2.gst.root\n",
      "/Data/ldmx_eTi_4GeV_GEM21_11b_00/ldmx_eTi_4GeV_GEM21_11b_00_run3.gst.root\n",
      "/Data/ldmx_eTi_4GeV_GEM21_11b_00/ldmx_eTi_4GeV_GEM21_11b_00_run4.gst.root\n",
      "/Data/ldmx_eTi_4GeV_GEM21_11b_00/ldmx_eTi_4GeV_GEM21_11b_00_run5.gst.root\n",
      "/Data/ldmx_eTi_4GeV_GEM21_11b_00/ldmx_eTi_4GeV_GEM21_11b_00_run6.gst.root\n",
      "/Data/ldmx_eTi_4GeV_GEM21_11b_00/ldmx_eTi_4GeV_GEM21_11b_00_run7.gst.root\n",
      "/Data/ldmx_eTi_4GeV_GEM21_11b_00/ldmx_eTi_4GeV_GEM21_11b_00_run8.gst.root\n",
      "/Data/ldmx_eTi_4GeV_GEM21_11b_00/ldmx_eTi_4GeV_GEM21_11b_00_run9.gst.root\n"
     ]
    }
   ],
   "source": [
    "for f in gst_files_GEM21_11b[:10]: print(f)"
   ]
  },
  {
   "cell_type": "code",
   "execution_count": 19,
   "metadata": {},
   "outputs": [
    {
     "name": "stdout",
     "output_type": "stream",
     "text": [
      "Created gst chain from 10 files with 1000000 total events.\n"
     ]
    }
   ],
   "source": [
    "#defined in analysis_helpers.py ... creates a TChain from our list of files\n",
    "gst_chain_GEM21_11b = create_gst_chain(gst_files_GEM21_11b,verbose=True)"
   ]
  },
  {
   "cell_type": "code",
   "execution_count": 20,
   "metadata": {},
   "outputs": [
    {
     "name": "stdout",
     "output_type": "stream",
     "text": [
      "Created gst chain from 10 files with 1000000 total events.\n"
     ]
    }
   ],
   "source": [
    "gst_chain_G18_02a = create_gst_chain(gst_files_G18_02a,verbose=True)"
   ]
  },
  {
   "cell_type": "code",
   "execution_count": 21,
   "metadata": {},
   "outputs": [],
   "source": [
    "#creates a dataframe from our TChain\n",
    "# see https://root.cern/doc/master/classROOT_1_1RDataFrame.html for examples\n",
    "df_gst_GEM21_11b_all = ROOT.RDataFrame(gst_chain_GEM21_11b)"
   ]
  },
  {
   "cell_type": "code",
   "execution_count": 22,
   "metadata": {},
   "outputs": [
    {
     "name": "stdout",
     "output_type": "stream",
     "text": [
      "1000000\n"
     ]
    }
   ],
   "source": [
    "n_entries = df_gst_GEM21_11b_all.Count().GetValue()\n",
    "print(n_entries)"
   ]
  },
  {
   "cell_type": "code",
   "execution_count": 23,
   "metadata": {},
   "outputs": [],
   "source": [
    "#restrict to just 1 million events\n",
    "df_gst_GEM21_11b_all = df_gst_GEM21_11b_all.Range(1000000)"
   ]
  },
  {
   "cell_type": "code",
   "execution_count": 24,
   "metadata": {},
   "outputs": [
    {
     "data": {
      "text/plain": [
       "1000000"
      ]
     },
     "execution_count": 24,
     "metadata": {},
     "output_type": "execute_result"
    }
   ],
   "source": [
    "df_gst_GEM21_11b_all.Count().GetValue()"
   ]
  },
  {
   "cell_type": "code",
   "execution_count": 25,
   "metadata": {},
   "outputs": [],
   "source": [
    "#apply definitions for new lepton variables\n",
    "df_gst_GEM21_11b_all = define_df_gst_lep_vars(df_gst_GEM21_11b_all)"
   ]
  },
  {
   "cell_type": "code",
   "execution_count": 26,
   "metadata": {},
   "outputs": [],
   "source": [
    "df_gst_GEM21_11b_all = define_df_gst_hadron_vars(df_gst_GEM21_11b_all)"
   ]
  },
  {
   "cell_type": "code",
   "execution_count": 27,
   "metadata": {},
   "outputs": [],
   "source": [
    "df_gst_GEM21_11b_all = define_df_gst_hadrons_by_pdg(df_gst_GEM21_11b_all)"
   ]
  },
  {
   "cell_type": "code",
   "execution_count": 28,
   "metadata": {},
   "outputs": [],
   "source": [
    "df_gst_GEM21_11b_all = define_df_gst_pi0decay(df_gst_GEM21_11b_all)"
   ]
  },
  {
   "cell_type": "code",
   "execution_count": 29,
   "metadata": {},
   "outputs": [],
   "source": [
    "#Make a dataframe with default acceptances applied. Note the change in name for the dataframe!\n",
    "df_gst_GEM21_11b_DefA = define_df_gst_hadron_acceptance(df_gst_GEM21_11b_all)\n",
    "df_gst_GEM21_11b_DefA = define_df_gst_photon_acceptance(df_gst_GEM21_11b_DefA)\n",
    "df_gst_GEM21_11b_DefA = define_df_gst_hadron_sums(df_gst_GEM21_11b_DefA,sfx=[\"i\",\"f\",\"fa\"])"
   ]
  },
  {
   "cell_type": "code",
   "execution_count": 30,
   "metadata": {},
   "outputs": [],
   "source": [
    "df_gst_GEM21_11b_DefA = define_df_gst_momentum_imbalance(df_gst_GEM21_11b_DefA,suffix_list=[\"i\"],cname=\"i\")\n",
    "df_gst_GEM21_11b_DefA = define_df_gst_momentum_imbalance(df_gst_GEM21_11b_DefA,suffix_list=[\"f\"],cname=\"f\")\n",
    "df_gst_GEM21_11b_DefA = define_df_gst_momentum_imbalance(df_gst_GEM21_11b_DefA,cname=\"fa_all\",\n",
    "                                                          suffix_list=[\"fa_proton\",\"fa_neutron\",\n",
    "                                                                       \"fa_piplus\",\"fa_piminus\",\n",
    "                                                                       \"fa_pi0_ph\"])\n",
    "df_gst_GEM21_11b_DefA = define_df_gst_momentum_imbalance(df_gst_GEM21_11b_DefA,\n",
    "                                                         cname=\"fa_chhad\",\n",
    "                                                         suffix_list=[\"fa_proton\",\"fa_piplus\",\"fa_piminus\"])"
   ]
  },
  {
   "cell_type": "code",
   "execution_count": 31,
   "metadata": {},
   "outputs": [],
   "source": [
    "#Make a dataframe with acceptance without angular cuts applied.\n",
    "df_gst_GEM21_11b_KEA = define_df_gst_hadron_acceptance(df_gst_GEM21_11b_all,thetaz_max=[10,10,10,10])\n",
    "df_gst_GEM21_11b_KEA = define_df_gst_photon_acceptance(df_gst_GEM21_11b_KEA,thetaz_max=10.)\n",
    "df_gst_GEM21_11b_KEA = define_df_gst_hadron_sums(df_gst_GEM21_11b_KEA,sfx=[\"i\",\"f\",\"fa\"])"
   ]
  },
  {
   "cell_type": "code",
   "execution_count": 32,
   "metadata": {},
   "outputs": [],
   "source": [
    "df_gst_GEM21_11b_KEA = define_df_gst_momentum_imbalance(df_gst_GEM21_11b_KEA,suffix_list=[\"i\"],cname=\"i\")\n",
    "df_gst_GEM21_11b_KEA = define_df_gst_momentum_imbalance(df_gst_GEM21_11b_KEA,suffix_list=[\"f\"],cname=\"f\")\n",
    "df_gst_GEM21_11b_KEA = define_df_gst_momentum_imbalance(df_gst_GEM21_11b_KEA,cname=\"fa_all\",\n",
    "                                                          suffix_list=[\"fa_proton\",\"fa_neutron\",\n",
    "                                                                       \"fa_piplus\",\"fa_piminus\",\n",
    "                                                                       \"fa_pi0_ph\"])\n",
    "df_gst_GEM21_11b_KEA = define_df_gst_momentum_imbalance(df_gst_GEM21_11b_KEA,\n",
    "                                                         cname=\"fa_chhad\",\n",
    "                                                         suffix_list=[\"fa_proton\",\"fa_piplus\",\"fa_piminus\"])"
   ]
  },
  {
   "cell_type": "code",
   "execution_count": 33,
   "metadata": {},
   "outputs": [
    {
     "data": {
      "text/plain": [
       "112392"
      ]
     },
     "execution_count": 33,
     "metadata": {},
     "output_type": "execute_result"
    }
   ],
   "source": [
    "df_gst_GEM21_11b_all.Filter(\"ptl>0.4\").Count().GetValue()"
   ]
  },
  {
   "cell_type": "code",
   "execution_count": 25,
   "metadata": {
    "scrolled": true
   },
   "outputs": [
    {
     "name": "stdout",
     "output_type": "stream",
     "text": [
      "A\n",
      "DXSec\n",
      "Ef\n",
      "Ef_K0\n",
      "Ef_Kminus\n",
      "Ef_Kplus\n",
      "Ef_neutron\n",
      "Ef_pi0\n",
      "Ef_pi0_ph1\n",
      "Ef_pi0_ph2\n",
      "Ef_piminus\n",
      "Ef_piplus\n",
      "Ef_proton\n",
      "Ei\n",
      "Ei_K0\n",
      "Ei_Kminus\n",
      "Ei_Kplus\n",
      "Ei_neutron\n",
      "Ei_pi0\n",
      "Ei_piminus\n",
      "Ei_piplus\n",
      "Ei_proton\n",
      "El\n",
      "En\n",
      "Ev\n",
      "EvRF\n",
      "KPS\n",
      "Q2\n",
      "Q2s\n",
      "W\n",
      "Ws\n",
      "XSec\n",
      "Z\n",
      "amnugamma\n",
      "calresp0\n",
      "cc\n",
      "charm\n",
      "coh\n",
      "cthf\n",
      "cthl\n",
      "dfr\n",
      "dis\n",
      "em\n",
      "energy_transfer\n",
      "fspl\n",
      "hitnuc\n",
      "hitqrk\n",
      "iev\n",
      "imd\n",
      "imdanh\n",
      "kef\n",
      "kef_K0\n",
      "kef_Kminus\n",
      "kef_Kplus\n",
      "kef_neutron\n",
      "kef_pi0\n",
      "kef_piminus\n",
      "kef_piplus\n",
      "kef_proton\n",
      "kei\n",
      "kei_K0\n",
      "kei_Kminus\n",
      "kei_Kplus\n",
      "kei_neutron\n",
      "kei_pi0\n",
      "kei_piminus\n",
      "kei_piplus\n",
      "kei_proton\n",
      "massf\n",
      "massf_K0\n",
      "massf_Kminus\n",
      "massf_Kplus\n",
      "massf_neutron\n",
      "massf_pi0\n",
      "massf_piminus\n",
      "massf_piplus\n",
      "massf_proton\n",
      "massi\n",
      "massi_K0\n",
      "massi_Kminus\n",
      "massi_Kplus\n",
      "massi_neutron\n",
      "massi_pi0\n",
      "massi_piminus\n",
      "massi_piplus\n",
      "massi_proton\n",
      "mec\n",
      "nc\n",
      "neu\n",
      "neut_code\n",
      "nf\n",
      "nfem\n",
      "nfk0\n",
      "nfkm\n",
      "nfkp\n",
      "nfn\n",
      "nfother\n",
      "nfp\n",
      "nfpi0\n",
      "nfpim\n",
      "nfpip\n",
      "ni\n",
      "niem\n",
      "nik0\n",
      "nikm\n",
      "nikp\n",
      "nin\n",
      "niother\n",
      "nip\n",
      "nipi0\n",
      "nipim\n",
      "nipip\n",
      "nuance_code\n",
      "nuel\n",
      "p4vec_pi0_ph1\n",
      "p4vec_pi0_ph2\n",
      "pdgf\n",
      "pdgi\n",
      "pdl\n",
      "pf\n",
      "pf_K0\n",
      "pf_Kminus\n",
      "pf_Kplus\n",
      "pf_neutron\n",
      "pf_pi0\n",
      "pf_piminus\n",
      "pf_piplus\n",
      "pf_proton\n",
      "pi\n",
      "pi_K0\n",
      "pi_Kminus\n",
      "pi_Kplus\n",
      "pi_neutron\n",
      "pi_pi0\n",
      "pi_piminus\n",
      "pi_piplus\n",
      "pi_proton\n",
      "pl\n",
      "ptf\n",
      "ptf_K0\n",
      "ptf_Kminus\n",
      "ptf_Kplus\n",
      "ptf_neutron\n",
      "ptf_pi0\n",
      "ptf_pi0_ph1\n",
      "ptf_pi0_ph2\n",
      "ptf_piminus\n",
      "ptf_piplus\n",
      "ptf_proton\n",
      "pti\n",
      "pti_K0\n",
      "pti_Kminus\n",
      "pti_Kplus\n",
      "pti_neutron\n",
      "pti_pi0\n",
      "pti_piminus\n",
      "pti_piplus\n",
      "pti_proton\n",
      "ptl\n",
      "pv\n",
      "pxdl\n",
      "pxf\n",
      "pxf_K0\n",
      "pxf_Kminus\n",
      "pxf_Kplus\n",
      "pxf_neutron\n",
      "pxf_pi0\n",
      "pxf_pi0_ph1\n",
      "pxf_pi0_ph2\n",
      "pxf_piminus\n",
      "pxf_piplus\n",
      "pxf_proton\n",
      "pxi\n",
      "pxi_K0\n",
      "pxi_Kminus\n",
      "pxi_Kplus\n",
      "pxi_neutron\n",
      "pxi_pi0\n",
      "pxi_piminus\n",
      "pxi_piplus\n",
      "pxi_proton\n",
      "pxl\n",
      "pxn\n",
      "pxv\n",
      "pydl\n",
      "pyf\n",
      "pyf_K0\n",
      "pyf_Kminus\n",
      "pyf_Kplus\n",
      "pyf_neutron\n",
      "pyf_pi0\n",
      "pyf_pi0_ph1\n",
      "pyf_pi0_ph2\n",
      "pyf_piminus\n",
      "pyf_piplus\n",
      "pyf_proton\n",
      "pyi\n",
      "pyi_K0\n",
      "pyi_Kminus\n",
      "pyi_Kplus\n",
      "pyi_neutron\n",
      "pyi_pi0\n",
      "pyi_piminus\n",
      "pyi_piplus\n",
      "pyi_proton\n",
      "pyl\n",
      "pyn\n",
      "pyv\n",
      "pzdl\n",
      "pzf\n",
      "pzf_K0\n",
      "pzf_Kminus\n",
      "pzf_Kplus\n",
      "pzf_neutron\n",
      "pzf_pi0\n",
      "pzf_pi0_ph1\n",
      "pzf_pi0_ph2\n",
      "pzf_piminus\n",
      "pzf_piplus\n",
      "pzf_proton\n",
      "pzi\n",
      "pzi_K0\n",
      "pzi_Kminus\n",
      "pzi_Kplus\n",
      "pzi_neutron\n",
      "pzi_pi0\n",
      "pzi_piminus\n",
      "pzi_piplus\n",
      "pzi_proton\n",
      "pzl\n",
      "pzn\n",
      "pzv\n",
      "qel\n",
      "res\n",
      "resc\n",
      "resid\n",
      "sea\n",
      "singlek\n",
      "sumKEf\n",
      "t\n",
      "tgt\n",
      "thetaxzf\n",
      "thetaxzf_K0\n",
      "thetaxzf_Kminus\n",
      "thetaxzf_Kplus\n",
      "thetaxzf_neutron\n",
      "thetaxzf_pi0\n",
      "thetaxzf_piminus\n",
      "thetaxzf_piplus\n",
      "thetaxzf_proton\n",
      "thetaxzi\n",
      "thetaxzi_K0\n",
      "thetaxzi_Kminus\n",
      "thetaxzi_Kplus\n",
      "thetaxzi_neutron\n",
      "thetaxzi_pi0\n",
      "thetaxzi_piminus\n",
      "thetaxzi_piplus\n",
      "thetaxzi_proton\n",
      "thetayzf\n",
      "thetayzf_K0\n",
      "thetayzf_Kminus\n",
      "thetayzf_Kplus\n",
      "thetayzf_neutron\n",
      "thetayzf_pi0\n",
      "thetayzf_piminus\n",
      "thetayzf_piplus\n",
      "thetayzf_proton\n",
      "thetayzi\n",
      "thetayzi_K0\n",
      "thetayzi_Kminus\n",
      "thetayzi_Kplus\n",
      "thetayzi_neutron\n",
      "thetayzi_pi0\n",
      "thetayzi_piminus\n",
      "thetayzi_piplus\n",
      "thetayzi_proton\n",
      "thetazf\n",
      "thetazf_K0\n",
      "thetazf_Kminus\n",
      "thetazf_Kplus\n",
      "thetazf_neutron\n",
      "thetazf_pi0\n",
      "thetazf_pi0_ph1\n",
      "thetazf_pi0_ph2\n",
      "thetazf_piminus\n",
      "thetazf_piplus\n",
      "thetazf_proton\n",
      "thetazi\n",
      "thetazi_K0\n",
      "thetazi_Kminus\n",
      "thetazi_Kplus\n",
      "thetazi_neutron\n",
      "thetazi_pi0\n",
      "thetazi_piminus\n",
      "thetazi_piplus\n",
      "thetazi_proton\n",
      "thetazl\n",
      "ts\n",
      "vtxt\n",
      "vtxx\n",
      "vtxy\n",
      "vtxz\n",
      "wght\n",
      "x\n",
      "xs\n",
      "y\n",
      "ys\n"
     ]
    }
   ],
   "source": [
    "#can print all of our columns here\n",
    "for n in df_gst_GEM21_11b_all.GetColumnNames():\n",
    "    print(n)"
   ]
  },
  {
   "cell_type": "code",
   "execution_count": 26,
   "metadata": {},
   "outputs": [
    {
     "name": "stdout",
     "output_type": "stream",
     "text": [
      "+-----+------+------------+---------------+---------------+\n",
      "| Row | pdgf | massf      | kef           | kef_proton    | \n",
      "+-----+------+------------+---------------+---------------+\n",
      "| 0   | 2212 | 0.93827208 | 0.43649404    | 0.43649404    | \n",
      "|     | 211  | 0.13957018 | 1.8244414     | 0.053096929   | \n",
      "|     | 2112 | 0.93956541 | 0.095797126   |               | \n",
      "|     | 2112 | 0.93956541 | 0.048370546   |               | \n",
      "|     | 2112 | 0.93956541 | 0.015021265   |               | \n",
      "|     | 2112 | 0.93956541 | 0.018512205   |               | \n",
      "|     | 2212 | 0.93827208 | 0.053096929   |               | \n",
      "|     | 2112 | 0.93956541 | 0.16068890    |               | \n",
      "|     | 2112 | 0.93956541 | 0.049633567   |               | \n",
      "+-----+------+------------+---------------+---------------+\n",
      "| 1   | 2212 | 0.93827208 | 0.30096254    | 0.30096254    | \n",
      "|     | 111  | 0.13497660 | 0.81738266    |               | \n",
      "|     | 111  | 0.13497660 | 1.7637369     |               | \n",
      "+-----+------+------------+---------------+---------------+\n",
      "| 2   | 2212 | 0.93827208 | 0.023003732   | 0.023003732   | \n",
      "|     | 2212 | 0.93827208 | 0.00026278170 | 0.00026278170 | \n",
      "|     | 2212 | 0.93827208 | 0.019588643   | 0.019588643   | \n",
      "|     | 2212 | 0.93827208 | 0.0019216275  | 0.0019216275  | \n",
      "|     | 2212 | 0.93827208 | 0.0019095479  | 0.0019095479  | \n",
      "|     | 2112 | 0.93956541 | 0.0033677702  |               | \n",
      "|     | 2112 | 0.93956541 | 0.024138774   |               | \n",
      "+-----+------+------------+---------------+---------------+\n",
      "| 3   | 2212 | 0.93827208 | 0.19808911    | 0.19808911    | \n",
      "|     | 2112 | 0.93956541 | 0.010992786   | 0.14584911    | \n",
      "|     | 2212 | 0.93827208 | 0.14584911    |               | \n",
      "+-----+------+------------+---------------+---------------+\n",
      "| 4   | 2112 | 0.93956541 | 0.13036469    | 0.13851016    | \n",
      "|     | 2212 | 0.93827208 | 0.13851016    | 0.025881253   | \n",
      "|     | 2212 | 0.93827208 | 0.025881253   | 0.046131401   | \n",
      "|     | 2112 | 0.93956541 | 0.021221623   | 0.057548765   | \n",
      "|     | 2212 | 0.93827208 | 0.046131401   |               | \n",
      "|     | 2212 | 0.93827208 | 0.057548765   |               | \n",
      "+-----+------+------------+---------------+---------------+\n",
      "| 5   | 2112 | 0.93956541 | 0.087389463   |               | \n",
      "+-----+------+------------+---------------+---------------+\n",
      "| 6   | 2212 | 0.93827208 | 0.024805989   | 0.024805989   | \n",
      "+-----+------+------------+---------------+---------------+\n",
      "| 7   | 2112 | 0.93956541 | 0.016097325   | 0.24301432    | \n",
      "|     | 2212 | 0.93827208 | 0.24301432    | 0.025111758   | \n",
      "|     | 2212 | 0.93827208 | 0.025111758   | 0.037232750   | \n",
      "|     | 2112 | 0.93956541 | 0.035738867   |               | \n",
      "|     | 2212 | 0.93827208 | 0.037232750   |               | \n",
      "|     | 2112 | 0.93956541 | 0.073007988   |               | \n",
      "|     | 2112 | 0.93956541 | 0.024589687   |               | \n",
      "+-----+------+------------+---------------+---------------+\n",
      "| 8   | 211  | 0.13956997 | 0.052056318   | 0.29817079    | \n",
      "|     | -211 | 0.13957002 | 0.44716486    |               | \n",
      "|     | 111  | 0.13497988 | 1.6881483     |               | \n",
      "|     | 2212 | 0.93827003 | 0.29817079    |               | \n",
      "|     | -211 | 0.13957001 | 0.19930327    |               | \n",
      "+-----+------+------------+---------------+---------------+\n",
      "| 9   | 2112 | 0.93956541 | 0.70289024    | 0.14082525    | \n",
      "|     | 2212 | 0.93827208 | 0.14082525    | 0.026363981   | \n",
      "|     | 2212 | 0.93827208 | 0.026363981   | 0.027417329   | \n",
      "|     | 2212 | 0.93827208 | 0.027417329   | 0.010529150   | \n",
      "|     | 2212 | 0.93827208 | 0.010529150   | 0.019179949   | \n",
      "|     | 2212 | 0.93827208 | 0.019179949   | 0.018087158   | \n",
      "|     | 2212 | 0.93827208 | 0.018087158   | 0.011174226   | \n",
      "|     | 2112 | 0.93956541 | 0.036146539   | 0.0074667905  | \n",
      "|     | 2112 | 0.93956541 | 0.11468812    |               | \n",
      "|     | 2212 | 0.93827208 | 0.011174226   |               | \n",
      "|     | 2212 | 0.93827208 | 0.0074667905  |               | \n",
      "|     | 2112 | 0.93956541 | 0.078456275   |               | \n",
      "+-----+------+------------+---------------+---------------+\n"
     ]
    }
   ],
   "source": [
    "#make a quick check to see that the proton indices are filled, and sorted by KE\n",
    "rows=10\n",
    "disp = df_gst_GEM21_11b_all.Range(rows).Display([\"pdgf\",\"massf\",\"kef\",\"kef_proton\"],rows,100)\n",
    "disp.Print()"
   ]
  },
  {
   "cell_type": "code",
   "execution_count": 34,
   "metadata": {},
   "outputs": [],
   "source": [
    "#define bins for a 2D plot in log-log space\n",
    "etransfer_bins = array.array('d',np.logspace(np.log10(0.05),np.log10(4),100).tolist())\n",
    "q2transfer_bins = array.array('d',np.logspace(np.log10(0.02),np.log10(10),100).tolist())"
   ]
  },
  {
   "cell_type": "code",
   "execution_count": 38,
   "metadata": {},
   "outputs": [],
   "source": [
    "#create Q2 versus omega plot\n",
    "h_lep_q2vw = df_gst_GEM21_11b_all.Histo2D((\"\",\"\",len(etransfer_bins)-1,etransfer_bins,len(q2transfer_bins)-1,q2transfer_bins),\n",
    "                                          \"energy_transfer\",\"ptl\")"
   ]
  },
  {
   "cell_type": "code",
   "execution_count": 36,
   "metadata": {
    "scrolled": false
   },
   "outputs": [
    {
     "data": {
      "text/html": [
       "\n",
       "\n",
       "<div id=\"root_plot_1659052766829\"\n",
       "     style=\"width: 696px; height: 472px\">\n",
       "</div>\n",
       "<script>\n",
       "\n",
       "function display_root_plot_1659052766829(Core) {\n",
       "   let obj = Core.parse({\"_typename\":\"TCanvas\",\"fUniqueID\":0,\"fBits\":3342344,\"fLineColor\":1,\"fLineStyle\":1,\"fLineWidth\":1,\"fFillColor\":0,\"fFillStyle\":1001,\"fLeftMargin\":0.1,\"fRightMargin\":0.1,\"fBottomMargin\":0.1,\"fTopMargin\":0.1,\"fXfile\":2,\"fYfile\":2,\"fAfile\":1,\"fXstat\":0.99,\"fYstat\":0.99,\"fAstat\":2,\"fFrameFillColor\":0,\"fFrameLineColor\":1,\"fFrameFillStyle\":1001,\"fFrameLineStyle\":1,\"fFrameLineWidth\":1,\"fFrameBorderSize\":1,\"fFrameBorderMode\":0,\"fX1\":-1.53891626176188,\"fY1\":-2.03634128001414,\"fX2\":0.839946257425863,\"fY2\":1.33737127567812,\"fXtoAbsPixelk\":450.251256005797,\"fXtoPixelk\":450.251256005797,\"fXtoPixel\":292.576806934453,\"fYtoAbsPixelk\":187.105273607453,\"fYtoPixelk\":187.105273607453,\"fYtoPixel\":-139.905220794114,\"fUtoAbsPixelk\":5e-5,\"fUtoPixelk\":5e-5,\"fUtoPixel\":696,\"fVtoAbsPixelk\":472.00005,\"fVtoPixelk\":472,\"fVtoPixel\":-472,\"fAbsPixeltoXk\":-1.53891626176188,\"fPixeltoXk\":-1.53891626176188,\"fPixeltoX\":0.0034179059183732,\"fAbsPixeltoYk\":1.33737127567812,\"fPixeltoYk\":-2.03634128001414,\"fPixeltoY\":-0.00714769609256835,\"fXlowNDC\":0,\"fYlowNDC\":0,\"fXUpNDC\":1,\"fYUpNDC\":1,\"fWNDC\":1,\"fHNDC\":1,\"fAbsXlowNDC\":0,\"fAbsYlowNDC\":0,\"fAbsWNDC\":1,\"fAbsHNDC\":1,\"fUxmin\":-1.30102999566398,\"fUymin\":-1.69897000433602,\"fUxmax\":0.602059991327962,\"fUymax\":1,\"fTheta\":30,\"fPhi\":30,\"fAspectRatio\":0,\"fNumber\":0,\"fTickx\":0,\"fTicky\":0,\"fLogx\":1,\"fLogy\":1,\"fLogz\":0,\"fPadPaint\":0,\"fCrosshair\":0,\"fCrosshairPos\":0,\"fBorderSize\":2,\"fBorderMode\":0,\"fModified\":false,\"fGridx\":false,\"fGridy\":false,\"fAbsCoord\":false,\"fEditable\":true,\"fFixedAspectRatio\":false,\"fPrimitives\":{\"_typename\":\"TList\",\"name\":\"TList\",\"arr\":[{\"_typename\":\"TFrame\",\"fUniqueID\":0,\"fBits\":8,\"fLineColor\":1,\"fLineStyle\":1,\"fLineWidth\":1,\"fFillColor\":0,\"fFillStyle\":1001,\"fX1\":-1.30102999566398,\"fY1\":-1.69897000433602,\"fX2\":0.602059991327962,\"fY2\":1,\"fBorderSize\":1,\"fBorderMode\":0},{\"_typename\":\"TH2D\",\"fUniqueID\":0,\"fBits\":520,\"fName\":\"\",\"fTitle\":\"All events\",\"fLineColor\":602,\"fLineStyle\":1,\"fLineWidth\":1,\"fFillColor\":0,\"fFillStyle\":1001,\"fMarkerColor\":1,\"fMarkerStyle\":1,\"fMarkerSize\":1,\"fNcells\":10201,\"fXaxis\":{\"_typename\":\"TAxis\",\"fUniqueID\":0,\"fBits\":0,\"fName\":\"xaxis\",\"fTitle\":\"Energy Transfer (GeV)\",\"fNdivisions\":510,\"fAxisColor\":1,\"fLabelColor\":1,\"fLabelFont\":42,\"fLabelOffset\":0.005,\"fLabelSize\":0.035,\"fTickLength\":0.03,\"fTitleOffset\":1,\"fTitleSize\":0.035,\"fTitleColor\":1,\"fTitleFont\":42,\"fNbins\":99,\"fXmin\":0.05,\"fXmax\":4,\"fXbins\":[0.05,0.0522628555976219,0.0546281215043577,0.0571004325150318,0.0596846331818973,0.0623857873076507,0.0652091878680741,0.0681603673837472,0.0712451087611528,0.07446945662442,0.0778397291599087,0.0813625304968462,0.0850447636482757,0.0888936440376745,0.0929167136377478,0.097121855749104,0.10151731044777,0.106111690731815,0.110913999398727,0.115933646686608,0.121180468713759,0.126664746752786,0.132397227377005,0.138389143518598,0.144652236479822,0.15119877894036,0.158041599005936,0.16519410534529,0.172670313464784,0.180484873172123,0.188653097282995,0.197190991626906,0.206115286410978,0.215443469003188,0.225193818199288,0.23538544004053,0.246038305252418,0.257173288377815,0.268812208681107,0.28097787290357,0.293694119953725,0.306985867620244,0.32087916139895,0.335401225529587,0.350580516342365,0.366446778018815,0.383031100876224,0.400365982289845,0.418485390372285,0.437424830534823,0.457221415061115,0.477913935829588,0.499542940327058,0.522150811102491,0.545781848816613,0.570482359050116,0.596300743040538,0.623287592525647,0.651495788879146,0.680980606732992,0.711799822289347,0.744013826534422,0.777685743576053,0.81288155433689,0.849670225845588,0.888123846379336,0.928317766722556,0.970330747818557,1.01424511510348,1.06014691982493,1.10812610766148,1.15827669497333,1.21069695302964,1.26548960057338,1.32276200510118,1.38262639325248,1.4452000707203,1.51060565211456,1.5789713012283,1.65043098217768,1.72512472190787,1.80319888457917,1.88480645837108,1.97010735526626,2.05926872440187,2.15246527960228,2.24987964173498,2.3517026965605,2.45813396877759,2.56938201299665,2.68566482240742,2.80721025594184,2.93425648476904,3.0670524589974,3.20585839549825,3.35094628780698,3.50260043910087,3.66111801929792,3.82680964736838,4],\"fFirst\":0,\"fLast\":0,\"fBits2\":0,\"fTimeDisplay\":false,\"fTimeFormat\":\"\",\"fLabels\":null,\"fModLabs\":null},\"fYaxis\":{\"_typename\":\"TAxis\",\"fUniqueID\":0,\"fBits\":0,\"fName\":\"yaxis\",\"fTitle\":\"Q^{2} (GeV\\/c)^{2}\",\"fNdivisions\":510,\"fAxisColor\":1,\"fLabelColor\":1,\"fLabelFont\":42,\"fLabelOffset\":0.005,\"fLabelSize\":0.035,\"fTickLength\":0.03,\"fTitleOffset\":0,\"fTitleSize\":0.035,\"fTitleColor\":1,\"fTitleFont\":42,\"fNbins\":99,\"fXmin\":0.02,\"fXmax\":10,\"fXbins\":[0.02,0.021295719556467,0.0226753835713845,0.0241444304685762,0.0257086510054707,0.0273742110993794,0.0291476761325955,0.031036036832124,0.0330467368260546,0.0351877019852014,0.0374673716656693,0.0398947319755006,0.0424793511965338,0.0452314175011027,0.0481617791122478,0.0512819870657469,0.0546043407425257,0.0581419363509296,0.0619087185499675,0.0659195354170176,0.07019019697667,0.0747375375214171,0.0795794819698514,0.0847351165239438,0.0902247639039229,0.0960700634573193,0.102294056457953,0.108921276931098,0.115977848362847,0.123491586674883,0.131492109870572,0.140010954784592,0.149081701396293,0.15874010519682,0.169024238131777,0.179974638674991,0.191634471624954,0.204049698253838,0.217269257479772,0.231345258776552,0.246333187581187,0.262292124008977,0.279284975738261,0.297378725982835,0.316644697529495,0.337158833881522,0.359001998616316,0.382260294137211,0.407025401075931,0.433394939683577,0.461472854634668,0.491369824761108,0.523203699331144,0.557099962593106,0.593192228415051,0.631622766970132,0.672543065543781,0.716114425673348,0.762508598974002,0.811908464157245,0.864508747910726,0.920516792480962,0.980153372984654,1.04365356767032,1.11126768456067,1.18326224812842,1.25992104989487,1.34154626709253,1.42845965380139,1.52100380925411,1.61954352830968,1.7244672394187,1.83618853574877,1.95514780550528,2.08181396787412,2.21668632142915,2.36029651229058,2.51321062979236,2.67603143791949,2.84940075131113,3.03400196519541,3.23056274922856,3.43985791585702,3.6627124745092,3.90000488365606,4.15267051355956,4.4217053333587,4.70816983702707,5.01319322367726,5.33797784869058,5.68380396321738,6.05203476073065,6.44412175052548,6.86161047934599,7.30614662369335,7.77948247683009,8.28348385605114,8.82013745744934,9.39155868716655,10],\"fFirst\":0,\"fLast\":0,\"fBits2\":0,\"fTimeDisplay\":false,\"fTimeFormat\":\"\",\"fLabels\":null,\"fModLabs\":null},\"fZaxis\":{\"_typename\":\"TAxis\",\"fUniqueID\":0,\"fBits\":0,\"fName\":\"zaxis\",\"fTitle\":\"\",\"fNdivisions\":510,\"fAxisColor\":1,\"fLabelColor\":1,\"fLabelFont\":42,\"fLabelOffset\":0.005,\"fLabelSize\":0.035,\"fTickLength\":0.03,\"fTitleOffset\":1,\"fTitleSize\":0.035,\"fTitleColor\":1,\"fTitleFont\":42,\"fNbins\":1,\"fXmin\":0,\"fXmax\":1,\"fXbins\":[],\"fFirst\":0,\"fLast\":0,\"fBits2\":0,\"fTimeDisplay\":false,\"fTimeFormat\":\"\",\"fLabels\":null,\"fModLabs\":null},\"fBarOffset\":0,\"fBarWidth\":1000,\"fEntries\":1000000,\"fTsumw\":734086,\"fTsumw2\":734086,\"fTsumwx\":454403.769011224,\"fTsumwx2\":640371.688440521,\"fMaximum\":-1111,\"fMinimum\":-1111,\"fNormFactor\":0,\"fContour\":[0,35.7,71.4,107.1,142.8,178.5,214.2,249.9,285.6,321.3,357,392.7,428.4,464.1,499.8,535.5,571.2,606.9,642.6,678.3],\"fSumw2\":[],\"fOption\":\"\",\"fFunctions\":{\"_typename\":\"TList\",\"name\":\"TList\",\"arr\":[{\"_typename\":\"TPaletteAxis\",\"fUniqueID\":0,\"fBits\":0,\"fLineColor\":1,\"fLineStyle\":1,\"fLineWidth\":1,\"fFillColor\":1178,\"fFillStyle\":1001,\"fX1\":0.613954303923889,\"fY1\":-1.69897000433599,\"fX2\":0.721003117287335,\"fY2\":0.99999999999998,\"fX1NDC\":0.90499999403953,\"fY1NDC\":0.100000005960475,\"fX2NDC\":0.949999994039529,\"fY2NDC\":0.899999994039529,\"fBorderSize\":4,\"fInit\":1,\"fShadowColor\":1,\"fCornerRadius\":0,\"fOption\":\"br\",\"fName\":\"TPave\",\"fAxis\":{\"_typename\":\"TGaxis\",\"fUniqueID\":0,\"fBits\":0,\"fLineColor\":1,\"fLineStyle\":1,\"fLineWidth\":1,\"fX1\":0,\"fY1\":0,\"fX2\":0,\"fY2\":0,\"fTextAngle\":0,\"fTextSize\":0.04,\"fTextAlign\":11,\"fTextColor\":1,\"fTextFont\":42,\"fWmin\":0,\"fWmax\":0,\"fGridLength\":0,\"fTickSize\":0.03,\"fLabelOffset\":0.005,\"fLabelSize\":0.035,\"fTitleOffset\":1,\"fTitleSize\":0.035,\"fNdiv\":0,\"fLabelColor\":1,\"fLabelFont\":42,\"fNModLabs\":0,\"fChopt\":\"\",\"fName\":\"\",\"fTitle\":\"\",\"fTimeFormat\":\"\",\"fFunctionName\":\"\",\"fModLabs\":null},\"fName\":\"palette\"}],\"opt\":[\"br\"]},\"fBufferSize\":0,\"fBuffer\":[],\"fBinStatErrOpt\":0,\"fStatOverflows\":2,\"fScalefactor\":1,\"fTsumwy\":90932.5543072786,\"fTsumwy2\":35978.6617334061,\"fTsumwxy\":87595.3252492007,\"fArray\":[0,0,0,0,0,0,0,0,0,0,0,0,0,0,0,0,0,0,0,0,0,0,0,0,0,0,0,0,0,0,0,0,0,0,0,0,0,0,0,0,0,0,0,0,0,0,0,0,0,0,0,0,0,0,0,0,0,0,0,0,0,0,0,0,0,0,0,0,0,0,0,0,0,0,0,0,0,0,0,0,0,0,0,0,0,0,0,0,0,0,0,0,0,0,0,0,0,0,0,0,0,22699,714,689,662,592,592,531,496,431,386,323,283,228,193,187,132,143,92,99,82,49,84,71,60,67,71,72,77,80,83,101,114,138,133,149,144,184,204,192,217,247,281,316,320,320,347,313,334,332,281,260,266,189,212,178,173,198,179,189,219,221,242,278,283,311,271,275,316,259,267,209,201,180,154,130,131,90,111,114,85,114,76,90,77,71,78,78,67,61,53,52,37,28,44,32,33,26,16,18,3,0,21388,701,649,643,647,570,485,474,431,370,348,265,251,189,145,143,124,120,94,96,87,80,81,65,63,69,62,90,76,84,83,123,123,141,149,165,175,197,210,243,242,248,301,301,322,363,326,337,298,274,249,242,222,205,188,186,153,177,182,204,225,258,246,294,274,264,313,302,285,254,232,207,165,151,141,119,97,105,97,97,113,84,79,75,76,73,72,62,54,56,56,38,49,32,23,27,18,9,6,12,0,20411,685,666,641,632,522,566,462,446,392,329,336,238,216,196,147,134,131,92,93,91,77,76,66,62,78,61,67,83,81,104,102,123,128,124,149,156,177,196,199,241,239,285,341,311,334,338,303,324,292,276,267,202,206,213,166,183,187,179,245,221,230,278,283,302,282,280,293,294,238,215,183,174,135,137,126,117,91,123,105,79,86,83,59,75,81,68,64,69,51,54,55,45,25,37,33,27,15,8,10,0,18745,685,643,654,655,593,529,551,425,383,344,335,299,212,185,170,150,131,101,78,86,83,83,81,66,68,70,86,78,86,100,112,111,115,142,154,157,182,180,232,257,272,282,285,304,322,295,318,260,286,285,270,240,211,184,204,171,207,186,200,224,271,301,270,307,306,260,290,291,231,232,168,184,163,132,105,122,95,95,102,86,82,87,89,77,69,73,57,69,57,47,59,41,39,28,25,32,19,10,8,0,17348,704,653,655,577,576,562,493,471,450,355,347,290,256,224,196,146,134,124,101,83,86,56,70,66,76,72,72,64,90,96,88,94,137,146,158,151,133,162,192,198,267,287,276,292,368,294,283,294,286,279,223,227,219,190,172,185,193,210,206,245,218,251,276,305,307,295,248,280,262,211,187,177,163,150,128,134,91,91,100,90,98,82,76,79,78,63,58,64,65,43,45,39,36,25,35,22,23,14,11,0,16248,628,613,611,608,566,565,499,480,415,382,372,298,248,221,192,182,130,125,103,101,72,72,73,60,71,77,74,76,105,108,95,104,112,145,142,166,157,206,194,222,263,273,299,335,315,343,305,281,280,270,246,239,224,224,198,187,196,195,220,220,221,281,262,269,268,287,263,266,271,219,213,172,157,125,124,120,105,83,92,86,84,92,72,85,72,65,61,58,40,45,64,57,40,40,23,14,23,10,6,0,15470,623,652,593,553,562,531,532,476,447,391,312,317,257,281,209,169,152,126,114,116,82,89,68,68,77,58,68,68,81,93,94,120,128,148,130,167,182,188,203,225,231,269,310,319,322,303,328,287,292,251,250,258,224,202,181,179,205,204,222,217,232,271,271,259,276,285,272,259,232,239,188,170,156,128,110,109,95,75,92,98,104,78,71,81,65,62,76,59,49,49,54,36,24,26,18,15,17,14,8,0,13641,623,636,564,557,573,534,521,439,442,412,360,347,296,253,219,220,180,129,105,101,102,95,89,72,61,65,70,88,81,86,100,110,116,145,179,153,194,175,204,184,224,256,299,313,306,271,268,300,290,265,250,221,221,197,174,202,193,202,224,238,230,273,267,285,277,311,287,277,272,236,206,189,177,147,122,125,108,98,91,84,89,91,84,70,83,70,67,56,52,58,41,41,44,42,23,20,18,21,9,0,13102,602,562,567,585,551,543,529,466,453,386,375,306,317,288,242,195,161,169,132,111,87,87,71,53,66,63,71,79,82,109,91,111,99,117,135,164,156,177,181,207,221,249,294,326,301,307,290,267,276,256,232,219,250,220,203,214,209,238,188,257,242,267,275,277,274,283,268,255,265,231,195,197,158,122,113,109,91,115,96,112,88,83,83,73,55,72,63,58,65,48,54,45,44,30,34,27,17,15,17,0,11899,525,553,571,528,581,507,467,496,443,408,371,355,315,309,250,205,166,183,144,122,99,118,98,60,66,76,81,72,84,92,83,116,103,118,138,143,158,170,190,202,253,238,273,328,306,296,289,267,279,259,225,215,210,194,182,203,208,208,198,234,241,275,238,265,272,264,237,279,260,214,195,185,164,124,122,120,110,100,92,91,85,94,76,87,70,80,61,66,65,61,39,38,42,33,39,16,24,21,9,0,10918,563,539,511,535,515,504,548,493,478,393,371,364,330,294,278,218,185,186,176,139,117,85,80,72,73,68,69,82,77,85,90,105,118,106,134,134,159,171,184,207,210,249,256,285,320,276,312,252,273,257,246,190,229,219,184,186,183,199,220,233,254,271,278,288,280,264,314,261,250,219,213,180,164,130,114,94,125,112,74,101,85,81,94,82,77,68,63,73,57,50,48,39,35,29,29,22,13,14,7,0,9909,527,536,589,538,531,533,527,503,441,435,397,345,347,327,259,250,223,177,170,157,128,108,100,99,82,66,65,81,81,82,81,89,118,134,127,132,155,161,168,190,219,257,283,248,290,281,328,285,260,260,243,219,180,197,178,157,202,204,225,216,268,287,276,265,273,293,279,267,248,223,193,153,169,140,127,117,112,119,100,78,94,80,72,64,74,65,58,79,59,37,48,51,44,39,29,23,14,14,11,0,9043,522,537,514,499,502,498,446,447,419,401,385,387,331,301,286,265,260,213,176,177,118,107,97,102,82,80,72,62,71,71,88,99,94,124,126,146,172,148,151,218,230,201,264,283,309,294,299,252,311,265,231,244,206,210,177,208,194,180,202,234,256,256,285,305,266,265,290,255,232,228,182,168,168,134,135,111,114,101,97,94,98,89,70,79,70,50,58,50,54,54,40,51,49,37,29,33,17,15,14,0,8273,495,470,468,457,513,459,492,415,459,430,397,338,348,307,297,246,238,225,202,149,136,136,110,84,94,64,68,82,66,79,79,87,103,122,99,141,143,161,176,189,207,266,247,292,262,291,285,271,257,264,243,243,203,234,198,174,180,195,182,217,248,261,270,266,277,303,277,282,222,236,223,180,160,140,125,113,111,99,103,88,91,82,98,79,81,71,60,60,58,51,59,44,42,40,26,27,25,16,12,0,7560,448,450,472,438,465,497,458,446,421,440,402,389,357,366,271,262,257,245,194,164,183,142,119,108,85,87,67,100,60,84,67,89,102,88,145,123,149,142,179,181,210,219,284,260,290,273,288,253,282,247,218,214,220,208,176,166,164,175,209,211,272,270,273,266,286,293,288,265,224,243,197,170,157,138,130,114,109,92,90,100,78,83,85,73,71,54,74,60,45,58,54,53,46,39,21,20,20,20,13,0,6871,423,482,446,425,438,466,452,439,410,391,404,386,345,342,324,265,252,232,226,157,175,163,126,105,108,93,86,86,71,92,76,84,109,126,111,124,151,149,172,192,204,216,241,247,271,280,265,296,277,247,219,227,220,225,203,200,186,204,206,218,233,277,324,292,295,270,256,265,250,221,215,166,155,133,120,101,119,95,98,104,78,88,78,65,92,58,72,60,56,46,47,49,41,27,24,21,19,13,15,0,6005,398,439,359,430,427,390,424,412,391,418,410,366,351,337,292,295,259,239,213,199,178,166,100,125,105,111,81,77,90,86,81,76,84,118,112,105,134,149,157,152,204,208,238,212,281,261,267,271,258,238,229,220,201,209,183,189,207,183,192,226,232,231,273,265,282,266,299,264,281,217,199,167,150,163,118,112,112,99,107,87,98,80,91,91,79,75,62,58,54,51,48,57,33,39,26,33,25,14,14,0,5389,377,346,381,412,424,421,391,411,433,423,401,374,362,340,311,259,275,277,242,217,185,152,163,114,114,93,88,94,83,72,81,99,83,96,107,109,125,136,156,139,167,198,210,230,235,273,268,257,234,257,220,201,207,175,173,160,212,180,215,193,246,231,234,286,292,279,257,277,290,226,197,190,171,143,132,138,93,101,90,109,80,84,69,75,73,78,68,55,62,51,43,37,41,29,26,32,18,13,12,0,4762,321,324,337,358,422,375,370,368,373,408,388,371,340,329,296,301,302,263,240,217,194,155,140,147,110,112,102,93,90,108,84,77,78,90,117,121,152,130,147,189,207,184,235,229,231,266,286,256,262,222,219,217,205,194,185,178,183,202,197,228,227,237,239,275,262,269,252,253,253,220,215,179,163,153,116,136,131,114,110,102,85,89,76,64,87,79,65,65,56,55,51,37,37,25,37,31,16,22,15,0,4201,311,339,337,336,319,397,366,380,386,390,381,335,364,306,299,318,243,253,225,220,203,182,142,129,120,113,86,98,89,83,74,67,72,98,103,96,127,135,136,171,180,237,236,244,244,260,232,238,239,255,235,225,215,204,181,188,152,177,194,213,231,222,277,258,278,268,295,248,243,238,210,179,148,168,135,147,123,96,99,95,102,75,76,63,78,67,66,59,42,43,54,45,30,37,33,26,22,25,13,0,3644,296,272,327,314,313,340,362,351,363,327,348,350,330,312,295,339,277,279,256,221,198,189,165,152,130,105,111,88,95,76,71,78,90,81,114,104,133,137,140,138,138,166,202,258,249,243,269,245,224,241,237,230,203,177,180,169,168,155,154,198,243,223,256,273,269,283,267,288,258,206,204,189,172,144,110,115,135,105,102,93,82,74,88,85,76,73,51,53,57,57,51,52,59,36,30,27,30,19,17,0,3174,248,286,297,300,290,330,343,332,330,340,336,332,331,348,351,304,274,253,271,238,216,192,161,160,146,120,111,101,87,94,72,75,81,98,94,120,108,114,152,157,161,170,184,235,233,235,242,261,233,232,220,211,215,156,163,167,171,183,161,232,211,218,231,258,271,242,243,257,232,202,185,193,172,157,141,101,123,102,98,100,107,93,93,74,78,77,66,61,40,49,47,45,32,50,30,28,25,24,18,0,2704,233,226,256,283,279,276,291,314,331,327,324,362,326,315,279,270,300,277,241,244,223,208,176,169,159,145,121,98,104,81,77,96,87,83,103,101,114,153,126,151,163,155,185,218,223,270,249,278,256,215,223,208,208,173,195,162,168,181,158,187,189,234,229,251,272,225,241,275,244,227,204,160,161,145,137,121,138,109,108,100,89,81,76,66,72,58,76,66,57,46,54,40,39,36,37,30,31,26,15,0,2332,211,207,243,246,276,280,257,298,301,291,292,288,284,296,270,306,285,280,247,258,222,206,184,185,149,137,121,112,105,89,94,80,75,104,100,112,89,101,125,144,123,156,204,214,244,242,236,243,233,235,230,188,187,178,183,141,181,164,189,179,213,220,231,237,241,235,247,253,227,198,216,187,169,136,150,124,137,118,99,91,100,95,95,53,70,65,65,66,55,51,51,32,44,45,30,33,31,20,15,0,1961,179,223,225,223,248,252,225,287,277,278,271,304,280,302,286,297,279,266,269,245,249,177,188,189,158,146,134,129,124,100,75,96,82,91,83,107,101,103,131,142,146,183,166,218,192,230,214,236,219,248,200,200,178,161,173,165,161,162,173,185,170,239,231,218,253,250,276,242,246,198,211,171,168,156,138,121,125,112,79,88,106,86,80,66,71,56,72,62,57,61,49,37,50,39,42,22,32,28,18,0,1710,148,199,186,160,210,239,258,250,252,258,267,298,289,306,305,247,266,258,287,248,213,225,203,207,179,171,130,118,112,94,108,108,102,83,81,89,111,96,107,115,133,141,186,166,182,206,217,236,242,219,189,170,192,180,161,145,155,164,165,167,217,207,235,227,239,267,249,258,235,203,202,187,157,139,134,126,123,109,83,92,82,96,88,69,61,70,74,62,51,62,52,52,29,34,30,35,27,25,17,0,1375,139,172,191,189,193,180,225,232,210,259,238,264,243,271,256,253,271,256,237,251,209,220,208,208,152,135,162,132,117,113,77,90,97,99,78,101,113,102,108,108,123,149,158,161,218,212,226,215,217,195,221,187,182,161,173,146,143,141,156,154,178,186,196,208,243,265,251,271,204,206,184,167,165,137,126,108,112,116,115,107,100,93,88,64,70,51,62,57,57,77,56,48,32,37,38,26,25,22,17,0,1161,146,125,141,160,173,216,194,216,201,203,218,224,224,214,250,231,235,263,243,242,213,212,208,177,163,153,161,135,122,118,112,97,93,85,86,99,93,83,100,112,122,139,132,154,191,193,208,212,227,205,184,176,169,169,166,152,123,128,154,160,153,202,206,245,211,239,236,230,195,215,180,178,152,138,127,118,100,111,104,90,108,102,111,78,76,77,70,64,63,48,51,48,43,35,35,35,19,32,16,0,881,99,134,124,135,149,152,156,161,193,167,214,196,213,221,218,223,243,244,220,253,214,235,228,192,190,172,150,145,129,134,93,104,88,112,82,98,89,118,105,105,110,153,151,150,185,192,217,207,191,230,174,188,205,158,161,158,143,161,150,170,171,190,206,214,219,230,231,236,227,197,199,189,139,122,129,110,109,133,95,117,108,89,95,70,68,68,55,59,60,42,41,37,41,39,23,28,20,20,21,0,748,103,105,101,91,122,137,145,156,149,153,169,163,192,242,229,203,248,219,221,212,180,195,205,191,193,182,140,135,118,112,130,114,95,89,96,91,85,104,98,94,110,141,135,159,152,186,198,188,200,203,190,171,151,161,145,129,138,159,161,152,142,203,169,202,231,236,222,204,195,210,205,180,151,142,133,138,103,102,121,92,107,91,89,73,72,64,54,62,51,51,52,51,47,32,34,35,21,20,22,0,561,85,88,79,87,96,101,120,129,144,151,153,177,190,204,195,166,198,217,203,175,167,177,191,175,165,155,166,153,128,123,109,110,96,93,90,95,101,87,112,107,109,126,118,126,156,180,198,192,191,186,187,177,151,161,137,174,136,142,154,160,148,181,191,213,189,199,202,207,210,206,169,155,150,144,130,87,108,111,105,89,101,90,86,58,78,56,64,81,54,46,61,48,37,32,43,32,31,26,28,0,450,62,75,70,75,89,85,125,99,120,136,136,158,156,162,167,202,178,209,181,178,164,194,179,195,196,147,158,151,138,116,111,110,97,96,93,82,74,97,82,85,102,105,138,126,166,154,198,194,197,185,166,161,180,181,161,157,135,146,165,152,155,161,187,195,200,178,209,204,211,191,194,176,145,142,118,136,103,92,88,90,99,84,76,71,53,79,64,61,69,50,33,30,40,34,41,24,28,19,18,0,381,59,57,48,69,81,83,83,107,111,131,130,125,128,157,145,192,169,159,170,173,187,167,196,173,182,175,153,154,155,124,124,98,109,99,80,106,83,94,89,85,102,96,112,141,141,133,145,161,156,179,174,166,142,150,136,146,121,118,124,138,139,172,161,176,192,202,216,230,204,201,181,182,156,148,140,107,112,115,105,100,75,91,74,75,55,60,59,60,59,47,48,42,42,42,44,31,36,31,24,0,275,42,40,47,52,58,66,72,65,87,92,108,120,81,135,128,152,159,145,149,144,165,166,156,161,183,139,169,149,146,139,123,120,103,99,88,82,69,79,78,80,77,96,114,109,129,129,170,157,170,160,169,163,161,142,133,132,142,133,132,123,164,130,166,161,155,210,205,183,193,178,170,146,148,146,117,103,112,107,84,83,107,110,85,81,64,69,67,50,58,43,52,38,50,40,47,40,25,18,26,0,205,37,36,29,35,40,51,74,59,79,83,103,81,114,102,126,125,142,152,138,145,163,155,133,162,149,155,152,147,129,119,123,122,122,97,94,93,98,68,87,100,93,82,106,112,128,163,135,148,157,153,172,145,158,151,143,114,128,141,111,135,127,142,163,156,176,177,188,185,196,181,178,157,136,150,116,132,100,105,89,106,74,85,79,84,70,67,66,55,44,55,42,47,29,43,32,38,30,23,25,0,133,36,33,37,34,33,43,50,49,56,64,66,84,74,89,102,111,120,115,123,141,137,126,144,148,147,182,133,147,136,117,147,120,110,108,93,98,96,92,84,89,95,93,102,86,118,126,140,141,134,140,162,144,148,121,111,118,132,113,132,112,133,145,133,172,163,178,151,166,199,167,158,146,137,134,119,104,84,86,97,99,81,85,73,73,51,66,44,50,52,52,48,38,38,37,36,33,33,26,21,0,84,15,15,25,20,32,42,43,33,57,57,56,71,58,86,78,97,96,103,121,112,122,115,142,143,159,158,117,120,157,125,119,112,112,90,105,96,86,84,88,72,74,99,84,103,123,114,137,138,143,123,141,137,139,125,122,125,116,118,103,113,132,109,144,158,145,154,166,172,187,183,153,147,134,117,130,113,93,89,82,77,87,66,81,78,74,65,55,42,49,46,42,34,52,43,44,33,20,22,21,0,99,8,15,21,19,23,29,39,24,34,37,48,51,62,61,89,71,89,84,93,84,113,117,127,115,117,139,119,126,124,110,121,115,113,76,108,90,88,77,81,95,75,82,85,69,106,92,128,122,116,121,135,124,143,146,124,104,87,116,104,123,102,141,149,171,157,190,178,157,150,163,153,142,125,134,135,98,89,124,90,79,82,107,63,66,61,67,64,57,50,55,49,44,45,35,38,41,36,19,27,0,53,9,6,10,17,15,13,26,19,27,37,40,44,57,49,55,61,81,91,81,78,103,107,105,111,111,125,127,121,122,117,107,116,116,98,102,100,85,72,99,78,80,73,72,104,116,92,109,113,122,125,124,125,133,114,117,133,115,93,97,117,110,131,119,128,151,142,172,142,156,182,144,144,139,149,107,102,111,82,87,89,82,73,71,50,67,64,51,49,53,43,55,41,37,31,40,40,32,23,21,0,41,7,9,8,6,14,18,16,15,15,33,27,36,38,41,48,48,59,60,65,71,79,83,95,87,94,98,110,111,113,116,107,126,112,96,116,93,99,72,81,75,80,73,65,89,80,100,104,127,107,122,106,117,121,105,111,103,120,106,94,107,95,111,104,124,144,158,127,145,143,164,130,168,129,106,114,92,101,87,104,63,64,82,87,58,67,54,60,62,50,41,60,52,42,30,39,34,30,31,19,0,23,3,5,5,8,12,10,14,14,18,17,27,32,27,31,47,42,39,56,56,60,68,82,74,99,89,87,87,90,102,94,98,107,91,118,93,96,87,80,82,75,69,78,64,77,84,77,80,94,103,81,126,131,132,123,110,91,104,110,95,111,89,112,99,112,122,140,129,146,127,139,139,148,108,121,101,94,125,99,84,78,72,77,77,52,73,59,55,62,60,45,37,41,35,36,37,23,27,35,18,0,14,3,6,5,6,5,4,10,9,13,12,7,22,26,26,30,26,28,43,38,47,60,75,68,87,82,73,84,88,89,99,103,88,94,102,90,81,65,68,79,83,78,73,69,63,74,73,78,81,79,112,111,116,114,116,105,99,97,93,79,109,89,90,100,90,127,97,116,120,127,144,146,128,110,90,112,93,103,78,96,74,82,64,65,60,60,68,51,53,47,45,37,43,45,36,36,34,33,33,22,0,8,3,4,0,6,2,3,4,4,13,11,11,12,12,17,22,23,17,29,34,41,45,40,45,66,53,68,70,72,79,85,92,75,87,74,97,101,86,78,79,61,61,60,82,73,60,67,61,72,71,84,85,93,82,95,101,97,94,83,81,90,76,88,112,95,109,113,113,142,144,126,137,120,115,111,101,118,103,83,79,66,81,65,76,60,57,59,43,65,51,44,54,46,34,40,33,30,39,34,14,0,5,4,2,1,1,3,2,4,4,8,5,7,10,11,9,12,26,22,16,33,22,50,36,39,54,44,67,58,63,71,81,78,91,92,66,82,78,84,61,57,66,65,86,57,54,58,57,55,73,81,82,66,97,85,85,84,92,86,95,79,85,75,87,76,104,108,110,112,109,138,146,126,127,126,122,92,94,85,71,74,65,66,65,69,59,50,55,49,44,62,54,52,42,31,32,34,25,18,17,9,0,6,1,0,2,0,1,2,2,1,4,2,5,5,12,6,12,13,9,15,14,19,25,37,31,39,44,52,52,66,69,56,67,80,77,72,86,66,78,60,56,76,59,63,66,46,46,62,57,68,79,67,86,95,63,80,95,88,84,87,82,81,65,92,80,105,92,89,111,106,100,112,122,107,123,99,82,82,82,75,62,89,64,78,64,63,60,54,53,56,46,58,56,58,31,33,33,26,35,25,24,0,2,0,2,1,2,1,3,0,1,1,3,4,6,6,4,6,7,14,17,14,22,27,18,21,34,40,32,41,47,58,51,69,65,60,68,68,63,62,75,57,68,62,46,62,64,63,53,55,61,66,53,61,83,77,73,83,75,78,81,65,70,80,71,67,91,85,102,110,111,108,121,109,89,101,96,105,88,87,69,76,75,62,58,61,48,55,53,53,40,49,52,47,50,32,29,39,32,29,19,15,0,1,0,1,0,0,0,1,3,3,1,2,3,4,3,3,2,7,6,9,4,7,12,12,16,18,23,33,32,40,35,51,49,52,52,69,64,68,66,65,51,62,61,66,33,42,61,52,55,63,71,53,51,66,84,85,80,71,62,86,62,59,62,76,88,75,73,93,80,108,80,127,98,96,100,102,92,81,80,82,69,70,55,60,55,52,56,54,60,36,36,40,34,34,23,22,30,25,30,23,14,0,0,0,0,0,0,1,1,1,2,0,1,2,1,2,4,2,5,2,7,4,7,8,6,4,11,16,19,17,32,31,32,19,46,46,52,52,44,62,61,53,67,74,53,58,45,50,53,59,45,45,60,60,67,61,67,62,79,65,70,69,65,61,54,63,56,75,83,82,81,96,108,89,96,103,95,92,83,86,82,63,82,58,71,53,57,59,60,43,45,53,37,42,31,35,42,25,18,29,30,18,0,0,0,0,0,0,0,0,0,1,0,1,1,2,3,1,0,1,3,0,4,6,6,4,5,9,16,17,10,20,16,19,23,32,36,26,48,45,48,56,57,59,51,49,60,46,49,50,36,44,38,54,65,51,57,72,58,64,57,61,68,66,54,44,62,54,69,64,93,95,91,115,103,91,89,83,67,79,74,71,74,47,68,66,50,59,60,37,56,42,36,36,41,30,38,34,33,30,31,15,22,0,1,0,0,0,0,0,0,1,1,0,1,1,0,1,3,1,3,1,3,1,2,2,5,4,10,13,13,11,17,18,21,25,28,30,28,26,35,54,42,40,46,49,45,61,56,41,37,43,38,47,52,55,47,53,56,62,44,58,65,54,47,55,48,75,86,63,75,67,71,70,94,81,74,69,91,73,82,63,70,61,48,62,54,55,46,55,47,50,44,44,38,27,28,42,19,28,30,38,21,13,0,0,0,0,0,1,0,0,1,0,0,0,0,0,0,0,1,0,0,0,1,1,3,1,2,4,7,7,8,11,15,15,22,16,21,27,26,24,33,40,35,44,46,45,39,36,46,41,39,62,40,35,40,55,52,47,52,53,50,59,52,47,52,47,49,56,43,58,62,72,69,82,76,76,81,76,69,76,59,61,69,66,56,62,46,49,47,42,37,43,47,26,45,36,34,28,29,38,33,38,20,0,0,0,1,0,0,0,0,0,0,0,0,0,0,1,0,0,0,0,1,0,1,1,2,2,5,3,5,9,7,7,7,10,9,14,15,20,24,27,34,34,35,23,42,42,45,41,44,27,46,37,45,42,39,39,46,43,41,41,65,55,45,48,56,53,48,43,46,45,56,77,65,63,71,72,73,70,63,65,40,52,41,49,54,55,54,56,48,33,42,39,32,41,35,36,27,28,29,27,22,25,0,0,0,0,0,0,0,0,0,0,0,0,0,0,0,0,0,0,0,1,2,1,0,1,0,0,2,2,2,4,7,8,3,9,17,17,11,14,18,21,24,28,26,37,21,37,26,43,34,33,37,26,41,45,31,46,37,48,43,40,52,47,52,33,44,58,55,41,48,45,55,51,68,53,71,64,54,60,56,47,51,50,43,43,41,35,50,41,49,35,29,37,34,35,36,31,36,30,31,24,22,0,0,0,0,0,0,0,0,0,0,0,0,0,0,0,0,0,0,1,0,0,0,0,1,2,0,1,1,3,1,1,3,5,4,7,9,13,13,16,18,13,19,26,21,26,35,38,38,25,33,36,31,44,35,30,31,31,34,45,40,41,38,46,32,29,48,42,43,47,51,62,51,50,67,62,63,64,44,67,70,59,62,45,49,38,52,31,44,41,37,39,48,44,19,30,27,31,22,27,28,20,0,0,0,0,0,0,0,0,0,0,0,0,0,0,0,0,0,0,0,0,0,0,0,0,0,1,0,0,1,1,1,2,1,6,5,4,6,8,9,17,5,13,22,22,24,25,21,25,27,40,27,25,32,32,34,29,32,31,26,32,28,30,32,38,35,34,55,31,39,32,40,51,51,41,41,58,62,50,49,52,49,43,47,39,41,53,33,35,40,39,32,33,29,29,39,20,18,22,27,18,18,0,0,0,0,0,0,0,0,0,0,0,0,0,0,0,0,0,0,0,0,0,0,0,0,1,0,0,0,2,3,1,2,1,3,1,3,7,5,11,9,8,12,10,16,19,22,15,24,17,31,30,27,27,25,30,29,30,26,31,27,23,25,42,30,34,40,41,31,30,41,36,35,44,52,57,49,48,60,48,31,45,45,47,61,49,36,34,40,34,38,31,35,43,36,33,32,29,29,25,25,14,0,0,0,0,0,0,0,0,0,0,0,0,0,0,0,0,0,0,0,0,0,0,0,0,0,0,0,0,0,0,1,1,1,0,2,1,2,1,6,6,7,3,13,6,16,14,14,14,26,22,14,21,21,12,34,20,28,24,26,26,29,27,29,20,31,28,31,41,34,25,31,36,37,46,48,44,40,44,47,37,63,47,48,25,52,40,33,37,46,33,29,30,28,38,39,19,29,17,23,24,7,0,0,0,0,0,0,0,0,0,0,0,0,0,0,0,0,0,0,0,0,0,0,0,0,0,0,0,0,0,0,1,0,0,0,0,2,3,3,2,2,8,6,6,5,11,12,13,18,14,18,19,28,21,27,20,16,20,17,29,24,27,28,21,23,27,30,29,29,25,30,34,25,31,37,34,34,43,42,46,48,39,39,40,32,41,38,40,28,42,42,45,30,39,27,31,17,24,17,24,23,18,0,0,0,0,0,0,0,0,0,0,0,0,0,0,0,0,0,0,0,0,0,0,0,0,0,0,0,0,0,1,0,0,0,0,0,1,1,0,0,2,2,3,4,2,7,7,7,8,10,21,10,16,29,21,8,15,11,17,27,16,26,27,19,18,25,28,24,21,27,17,28,37,30,32,27,34,34,39,33,44,49,36,44,32,29,26,35,43,35,33,32,39,31,31,30,15,24,23,19,28,10,0,0,0,0,0,0,0,0,0,0,0,0,0,0,0,0,0,0,0,0,0,0,0,0,0,0,0,0,0,0,0,0,0,0,0,0,1,1,1,0,1,0,1,3,3,6,6,8,5,7,10,17,13,17,12,10,19,15,16,19,20,15,22,22,26,23,27,27,21,22,23,28,25,29,46,36,30,32,29,33,35,29,38,30,32,23,26,42,28,29,30,25,28,21,25,22,27,26,20,19,12,0,0,0,0,0,0,0,0,0,0,0,0,0,0,0,0,0,0,0,0,0,0,0,0,0,0,0,0,0,1,0,0,0,0,1,0,0,0,1,1,1,1,2,1,6,6,2,4,6,8,12,8,8,9,9,7,21,18,8,12,10,15,19,17,18,21,20,14,10,17,19,19,20,19,25,30,28,31,20,34,28,29,29,28,35,29,25,35,26,29,23,22,25,16,26,29,16,30,14,16,17,0,0,0,0,0,0,0,0,0,0,0,0,0,0,0,0,0,0,0,0,0,0,0,0,0,0,0,0,0,0,0,0,0,0,0,0,0,0,0,0,1,1,1,4,1,3,0,3,5,7,7,3,8,4,8,12,12,14,17,11,14,14,19,7,9,11,15,19,14,18,20,19,18,33,31,24,26,27,32,33,33,28,39,24,36,28,33,32,16,33,18,17,24,25,30,16,14,19,18,17,14,0,0,0,0,0,0,0,0,0,0,0,0,0,0,0,0,0,0,0,0,0,0,0,0,0,0,0,0,0,0,0,0,0,0,0,0,0,0,0,0,1,1,0,1,1,0,2,0,1,3,3,2,3,8,6,8,9,11,8,9,13,10,8,11,14,16,14,16,18,18,20,16,15,19,20,19,24,17,24,34,23,18,25,27,31,18,22,30,23,36,23,21,25,19,22,21,12,19,16,16,9,0,0,0,0,0,0,0,0,0,0,0,0,0,0,0,0,0,0,0,0,0,0,0,0,0,0,0,0,0,0,0,0,0,0,0,0,0,0,0,0,0,0,0,0,0,0,1,0,2,2,1,1,3,7,3,4,8,8,11,6,12,14,12,15,12,10,10,10,11,12,10,13,10,12,8,26,17,17,25,23,25,19,20,18,21,18,30,24,18,17,16,22,23,17,22,20,25,19,18,16,13,0,0,0,0,0,0,0,0,0,0,0,0,0,0,0,0,0,0,0,0,0,0,0,0,0,0,0,0,0,0,0,0,0,0,0,0,0,0,0,0,0,0,0,0,0,1,1,0,0,0,2,2,7,2,2,6,2,6,5,5,4,8,11,7,4,8,6,14,11,18,14,10,5,26,13,14,20,20,16,25,20,16,14,15,21,17,17,16,15,19,21,18,14,16,13,17,20,25,12,13,8,0,0,0,0,0,0,0,0,0,0,0,0,0,0,0,0,0,0,0,0,0,0,0,0,0,0,0,0,0,0,0,0,0,0,0,0,0,0,0,0,0,0,0,0,0,0,0,0,0,1,0,0,0,1,3,3,2,0,5,2,4,4,10,7,4,5,8,7,8,5,7,7,14,7,14,9,12,15,17,12,17,22,9,13,12,12,21,16,17,16,9,18,13,16,19,14,13,18,10,15,6,0,0,0,0,0,0,0,0,0,0,0,0,0,0,0,0,0,0,0,0,0,0,0,0,0,0,0,0,0,0,0,0,0,0,0,0,0,0,0,0,0,0,0,0,0,0,1,0,0,0,0,0,0,1,1,2,2,1,1,1,3,6,5,6,3,6,8,6,2,6,8,8,8,7,5,16,11,9,21,15,9,18,11,26,16,15,11,11,12,19,19,17,16,18,20,12,18,10,16,20,5,0,0,0,0,0,0,0,0,0,0,0,0,0,0,0,0,0,0,0,0,0,0,0,0,0,0,0,0,0,0,0,0,0,0,0,0,0,0,0,0,0,0,0,0,0,0,0,0,0,0,0,0,1,0,1,1,0,0,2,2,3,1,5,5,4,5,2,3,8,4,6,9,7,10,10,3,11,11,13,12,11,12,14,15,20,18,18,14,18,17,15,12,14,24,14,13,14,19,20,14,7,0,0,0,0,0,0,0,0,0,0,0,0,0,0,0,0,0,0,0,0,0,0,0,0,0,0,0,0,0,0,0,0,0,0,0,0,0,0,0,0,0,0,0,0,0,0,0,0,0,0,0,0,0,0,1,1,0,1,1,1,2,1,3,2,8,3,4,2,2,10,4,10,7,7,5,10,9,10,10,9,6,13,8,13,15,9,14,9,12,14,22,17,16,20,15,11,12,9,13,6,7,0,0,0,0,0,0,0,0,0,0,0,0,0,0,0,0,0,0,0,0,0,0,0,0,0,0,0,0,0,0,0,0,0,0,0,0,0,0,0,0,0,0,0,0,0,0,0,0,0,0,0,0,0,0,0,1,0,0,2,0,2,0,2,3,4,7,3,4,4,4,4,3,3,4,6,7,5,6,7,9,13,9,6,14,9,10,14,6,11,8,12,8,7,13,6,8,18,10,7,8,10,0,0,0,0,0,0,0,0,0,0,0,0,0,0,0,0,0,0,0,0,0,0,0,0,0,0,0,0,0,0,0,0,0,0,0,0,0,0,0,0,0,0,0,0,0,0,0,0,0,0,0,1,0,0,0,0,0,0,0,0,1,1,0,1,0,2,1,2,5,2,8,6,5,4,7,3,4,2,3,6,9,8,9,6,7,7,9,11,8,12,10,10,10,12,11,11,12,6,8,12,7,0,0,0,0,0,0,0,0,0,0,0,0,0,0,0,0,0,0,0,0,0,0,0,0,0,0,0,0,0,0,0,0,0,0,0,0,0,0,0,0,0,0,0,0,0,0,0,0,0,0,0,0,0,0,0,0,0,0,0,0,0,1,1,0,1,0,0,2,1,3,2,4,3,5,4,2,7,3,2,6,5,5,6,12,7,10,6,7,4,10,7,12,10,8,7,15,8,8,6,6,2,0,0,0,0,0,0,0,0,0,0,0,0,0,0,0,0,0,0,0,0,0,0,0,0,0,0,0,0,0,0,0,0,0,0,0,0,0,0,0,0,0,0,0,0,0,0,0,0,0,0,0,0,0,0,0,0,0,0,0,0,0,1,0,0,1,0,1,0,1,2,1,0,2,5,1,2,2,5,2,3,2,8,2,3,7,5,4,14,4,4,10,8,11,11,10,6,10,8,16,7,3,0,0,0,0,0,0,0,0,0,0,0,0,0,0,0,0,0,0,0,0,0,0,0,0,0,0,0,0,0,0,0,0,0,0,0,0,0,0,0,0,0,0,0,0,0,0,0,0,0,0,0,0,0,0,0,0,0,0,0,1,0,0,0,0,1,0,0,0,0,0,2,0,4,1,2,1,3,3,2,2,4,2,4,8,9,5,4,4,9,9,8,9,4,5,5,8,8,9,12,7,3,0,0,0,0,0,0,0,0,0,0,0,0,0,0,0,0,0,0,0,0,0,0,0,0,0,0,0,0,0,0,0,0,0,0,0,0,0,0,0,0,0,0,0,0,0,0,0,0,0,0,0,0,0,0,0,0,0,0,0,0,0,0,0,0,0,0,0,1,3,2,0,0,1,3,2,2,3,5,3,2,1,5,5,2,4,4,3,4,4,6,8,4,4,12,2,8,12,6,1,5,0,0,0,0,0,0,0,0,0,0,0,0,0,0,0,0,0,0,0,0,0,0,0,0,0,0,0,0,0,0,0,0,0,0,0,0,0,0,0,0,0,0,0,0,0,0,0,0,0,0,0,0,0,0,0,0,0,0,0,0,0,0,0,0,0,0,0,0,0,0,0,0,1,1,0,2,2,1,2,3,2,3,2,3,4,2,2,3,5,9,4,4,5,2,8,9,4,9,8,9,7,2,0,0,0,0,0,0,0,0,0,0,0,0,0,0,0,0,0,0,0,0,0,0,0,0,0,0,0,0,0,0,0,0,0,0,0,0,0,0,0,0,0,0,0,0,0,0,0,0,0,0,0,0,0,0,0,0,0,0,0,0,0,0,0,0,1,0,0,0,0,0,0,0,2,0,2,0,0,0,1,1,0,0,2,4,4,4,1,4,3,6,1,8,9,9,3,6,3,6,7,7,1,0,0,0,0,0,0,0,0,0,0,0,0,0,0,0,0,0,0,0,0,0,0,0,0,0,0,0,0,0,0,0,0,0,0,0,0,0,0,0,0,0,0,0,0,0,0,0,0,0,0,0,0,0,0,0,0,0,0,0,0,0,0,0,0,0,0,0,0,0,0,0,0,0,0,0,0,0,0,2,1,1,1,1,2,1,2,4,3,3,2,1,3,3,6,2,3,5,3,5,5,0,0,0,0,0,0,0,0,0,0,0,0,0,0,0,0,0,0,0,0,0,0,0,0,0,0,0,0,0,0,0,0,0,0,0,0,0,0,0,0,0,0,0,0,0,0,0,0,0,0,0,0,0,0,0,0,0,0,0,0,0,0,0,0,0,0,0,0,0,0,0,0,0,0,0,0,0,0,0,0,0,0,1,0,0,4,1,0,3,4,4,3,4,2,2,0,2,4,3,5,4,0,0,0,0,0,0,0,0,0,0,0,0,0,0,0,0,0,0,0,0,0,0,0,0,0,0,0,0,0,0,0,0,0,0,0,0,0,0,0,0,0,0,0,0,0,0,0,0,0,0,0,0,0,0,0,0,0,0,0,0,0,0,0,0,0,0,0,0,0,0,0,0,0,0,0,0,0,0,0,0,0,0,0,0,1,0,3,1,2,0,5,4,2,1,3,3,6,5,3,10,2,0,0,0,0,0,0,0,0,0,0,0,0,0,0,0,0,0,0,0,0,0,0,0,0,0,0,0,0,0,0,0,0,0,0,0,0,0,0,0,0,0,0,0,0,0,0,0,0,0,0,0,0,0,0,0,0,0,0,0,0,0,0,0,0,0,0,0,0,0,0,0,0,0,0,0,0,0,0,0,0,0,0,0,1,1,1,3,3,1,1,0,3,2,0,2,1,4,5,3,3,3,0,0,0,0,0,0,0,0,0,0,0,0,0,0,0,0,0,0,0,0,0,0,0,0,0,0,0,0,0,0,0,0,0,0,0,0,0,0,0,0,0,0,0,0,0,0,0,0,0,0,0,0,0,0,0,0,0,0,0,0,0,0,0,0,0,0,0,0,0,0,0,0,0,0,0,0,0,0,0,0,0,0,0,0,0,0,0,0,0,0,1,1,2,1,4,3,2,5,2,2,2,0,0,0,0,0,0,0,0,0,0,0,0,0,0,0,0,0,0,0,0,0,0,0,0,0,0,0,0,0,0,0,0,0,0,0,0,0,0,0,0,0,0,0,0,0,0,0,0,0,0,0,0,0,0,0,0,0,0,0,0,0,0,0,0,0,0,0,0,0,0,0,0,0,0,0,0,0,0,0,0,0,0,0,0,0,0,1,0,0,1,1,1,1,4,0,2,1,1,3,5,1,0,0,0,0,0,0,0,0,0,0,0,0,0,0,0,0,0,0,0,0,0,0,0,0,0,0,0,0,0,0,0,0,0,0,0,0,0,0,0,0,0,0,0,0,0,0,0,0,0,0,0,0,0,0,0,0,0,0,0,0,0,0,0,0,0,0,0,0,0,0,0,0,0,0,0,0,0,0,0,0,0,0,0,0,0,0,0,0,1,0,0,0,1,2,3,3,0,3,3,1,2,0,0,0,0,0,0,0,0,0,0,0,0,0,0,0,0,0,0,0,0,0,0,0,0,0,0,0,0,0,0,0,0,0,0,0,0,0,0,0,0,0,0,0,0,0,0,0,0,0,0,0,0,0,0,0,0,0,0,0,0,0,0,0,0,0,0,0,0,0,0,0,0,0,0,0,0,0,0,0,0,0,0,0,0,0,0,0,1,0,1,1,1,0,4,2,0,1,2,1,1,0,0,0,0,0,0,0,0,0,0,0,0,0,0,0,0,0,0,0,0,0,0,0,0,0,0,0,0,0,0,0,0,0,0,0,0,0,0,0,0,0,0,0,0,0,0,0,0,0,0,0,0,0,0,0,0,0,0,0,0,0,0,0,0,0,0,0,0,0,0,0,0,0,0,0,0,0,0,0,0,0,0,0,0,0,0,0,0,0,0,0,0,0,0,1,0,1,0,0,1,2,1,0,0,0,0,0,0,0,0,0,0,0,0,0,0,0,0,0,0,0,0,0,0,0,0,0,0,0,0,0,0,0,0,0,0,0,0,0,0,0,0,0,0,0,0,0,0,0,0,0,0,0,0,0,0,0,0,0,0,0,0,0,0,0,0,0,0,0,0,0,0,0,0,0,0,0,0,0,0,0,0,0,0,0,0,0,0,0,0,0,0,0,0,0,0,0,1,0,1,0,2,0,0,0,0,0,0,0,0,0,0,0,0,0,0,0,0,0,0,0,0,0,0,0,0,0,0,0,0,0,0,0,0,0,0,0,0,0,0,0,0,0,0,0,0,0,0,0,0,0,0,0,0,0,0,0,0,0,0,0,0,0,0,0,0,0,0,0,0,0,0,0,0,0,0,0,0,0,0,0,0,0,0,0,0,0,0,0,0,0,0,0,0,0,0,1,0,0,1,0,3,0,0,0,0,0,0,0,0,0,0,0,0,0,0,0,0,0,0,0,0,0,0,0,0,0,0,0,0,0,0,0,0,0,0,0,0,0,0,0,0,0,0,0,0,0,0,0,0,0,0,0,0,0,0,0,0,0,0,0,0,0,0,0,0,0,0,0,0,0,0,0,0,0,0,0,0,0,0,0,0,0,0,0,0,0,0,0,0,0,0,0,0,0,0,0,0,0,0,0,0,0,1,0,0,0,0,0,0,0,0,0,0,0,0,0,0,0,0,0,0,0,0,0,0,0,0,0,0,0,0,0,0,0,0,0,0,0,0,0,0,0,0,0,0,0,0,0,0,0,0,0,0,0,0,0,0,0,0,0,0,0,0,0,0,0,0,0,0,0,0,0,0,0,0,0,0,0,0,0,0,0,0,0,0,0,0,0,0,0,0,0,0,0,0,0,0,0,0,0,0,0,0,1,0,0,0,0,0,0,0,0,0,0,0,0,0,0,0,0,0,0,0,0,0,0,0,0,0,0,0,0,0,0,0,0,0,0,0,0,0,0,0,0,0,0,0,0,0,0,0,0,0,0,0,0,0,0,0,0,0,0,0,0,0,0,0,0,0,0,0,0,0,0,0,0,0,0,0,0,0,0,0,0,0,0,0,0,0,0,0,0,0,0,0,0,0,0,0,0,0,0,0,0,0,0,0,0,0,0,0,0,0,0,0,0,0,0,0,0,0,0,0,0,0,0,0,0,0,0,0,0,0,0,0,0,0,0,0,0,0,0,0,0,0,0,0,0,0,0,0,0,0,0,0,0,0,0,0,0,0,0,0,0,0,0,0,0,0,0,0,0,0,0,0,0,0,0,0,0,0,0,0,0,0,0,0,0,0,0,0,0,0,0,0,0,0,0,0,0,0,0,0,0,0,1,0,0,0,0,0,0,0,0,0,0,0,0,0,0,0,0,0,0,0,0,0,0,0,0,0,0,0,0,0,0,0,0,0,0,0,0,0,0,0,0,0,0,0,0,0,0,0,0,0,0,0,0,0,0,0,0,0,0,0,0,0,0,0,0,0,0,0,0,0,0,0,0,0,0,0,0,0,0,0,0,0,0,0,0,0,0,0,0,0,0,0,0,0,0,0,0,0,0,0,0,0,0,0,0,0,0,0,0,0,0,0,0,0,0,0,0,0,0,0,0,0,0,0,0,0,0,0,0,0,0,0,0,0,0,0,0,0,0,0,0,0,0,0,0,0,0,0,0,0,0,0,0,0,0,0,0,0,0,0,0,0,0,0,0,0,0,0,0,0,0,0,0,0,0,0,0,0,0,0,0,0,0,0,0,0,0,0,0,0,0,0,0,0,0,0,0,0,0,0,0,0,0,0,0,0,0,0,0,0,0,0,0,0,0,0,0,0,0,0,0,0,0,0,0,0,0,0,0,0,0,0,0,0,0,0,0,0,0,0,0,0,0,0,0,0,0,0,0,0,0,0,0,0,0,0,0,0,0,0,0,0,0,0,0,0,0,0,0,0,0,0,0,0,0,0,0,0,0,0,0,0,0,0,0,0,0,0,0,0,0,0,0,0,0,0,0,0,0,0,0,0,0,0,0,0,0,0,0,0,0,0,0,0,0,0,0,0,0,0,0,0,0,0,0,0,0,0,0,0,0,0,0,0,0,0,0,0,0,0,0,0,0,0,0,0,0,0,0,0,0,0,0,0,0,0,0,0,0,0,0,0,0,0,0,0,0,0,0,0,0,0,0,0,0,0,0,0,0,0,0,0,0,0,0,0,0,0,0,0,0,0,0,0,0,0,0,0,0,0,0,0,0,0,0,0,0,0,0,0,0,0,0,0,0,0,0,0,0,0,0,0,0,0,0,0,0,0,0,0,0,0,0,0,0,0,0,0,0,0,0,0,0,0,0,0,0,0,0,0,0,0,0,0,0,0,0,0,0,0,0,0,0,0,0,0,0,0,0,0,0,0,0,0,0,0,0,0,0,0,0,0,0,0,0,0,0,0,0,0,0,0,0,0,0,0,0,0,0,0,0,0,0,0,0,0,0,0,0,0,0,0,0,0,0,0,0,0,0,0,0,0,0,0,0,0,0,0,0,0,0,0,0,0,0,0,0,0,0,0,0,0,0,0,0,0,0,0,0,0,0,0,0,0,0,0,0,0,0,0,0,0,0,0,0,0,0,0,0,0,0,0,0,0,0,0,0,0,0,0,0,0,0,0,0,0,0,0,0,0,0,0,0,0,0,0,0,0,0,0,0,0,0,0,0,0,0,0,0,0,0,0,0,0,0,0,0,0,0,0,0,0,0,0,0,0,0,0,0,0,0,0,0,0,0,0,0,0,0,0,0,0,0,0,0,0,0,0,0,0,0,0,0,0,0,0,0,0,0,0,0,0,0,0,0,0,0,0,0,0,0,0,0,0,0,0,0,0,0,0,0,0,0,0,0,0,0,0,0,0,0,0,0,0,0,0,0,0,0,0,0,0,0,0,0,0,0,0,0,0,0,0,0,0,0,0,0,0,0,0,0,0,0,0,0,0,0,0,0,0,0,0,0,0,0,0,0,0,0,0,0,0,0,0,0,0,0,0,0,0,0,0,0,0,0,0,0,0,0,0,0,0,0,0,0,0,0,0,0,0,0,0,0,0,0,0,0,0,0,0,0,0,0,0,0,0,0,0,0,0,0,0,0,0,0,0,0,0,0,0,0,0,0,0,0,0,0,0,0,0,0,0]},{\"_typename\":\"TPaveText\",\"fUniqueID\":0,\"fBits\":9,\"fLineColor\":1,\"fLineStyle\":1,\"fLineWidth\":1,\"fFillColor\":0,\"fFillStyle\":0,\"fX1\":-0.566385311747972,\"fY1\":1.13494853565873,\"fX2\":-0.132584692588047,\"fY2\":1.32050272898677,\"fX1NDC\":0.40882183908046,\"fY1NDC\":0.940000003948808,\"fX2NDC\":0.59117816091954,\"fY2NDC\":0.995000004768372,\"fBorderSize\":0,\"fInit\":1,\"fShadowColor\":1,\"fCornerRadius\":0,\"fOption\":\"blNDC\",\"fName\":\"title\",\"fTextAngle\":0,\"fTextSize\":0,\"fTextAlign\":22,\"fTextColor\":1,\"fTextFont\":42,\"fLabel\":\"\",\"fLongest\":10,\"fMargin\":0.05,\"fLines\":{\"_typename\":\"TList\",\"name\":\"TList\",\"arr\":[{\"_typename\":\"TLatex\",\"fUniqueID\":0,\"fBits\":0,\"fName\":\"\",\"fTitle\":\"All events\",\"fTextAngle\":0,\"fTextSize\":0,\"fTextAlign\":0,\"fTextColor\":0,\"fTextFont\":0,\"fX\":0,\"fY\":0,\"fLineColor\":1,\"fLineStyle\":1,\"fLineWidth\":2,\"fLimitFactorSize\":3,\"fOriginSize\":0.0467500016093254}],\"opt\":[\"\"]}},{\"_typename\":\"TStyle\",\"fUniqueID\":0,\"fBits\":0,\"fName\":\"Modern\",\"fTitle\":\"Modern Style\",\"fLineColor\":1,\"fLineStyle\":1,\"fLineWidth\":1,\"fFillColor\":19,\"fFillStyle\":1001,\"fMarkerColor\":1,\"fMarkerStyle\":1,\"fMarkerSize\":1,\"fTextAngle\":0,\"fTextSize\":0.05,\"fTextAlign\":11,\"fTextColor\":1,\"fTextFont\":62,\"fXaxis\":{\"_typename\":\"TAttAxis\",\"fNdivisions\":510,\"fAxisColor\":1,\"fLabelColor\":1,\"fLabelFont\":42,\"fLabelOffset\":0.005,\"fLabelSize\":0.035,\"fTickLength\":0.03,\"fTitleOffset\":1,\"fTitleSize\":0.035,\"fTitleColor\":1,\"fTitleFont\":42},\"fYaxis\":{\"_typename\":\"TAttAxis\",\"fNdivisions\":510,\"fAxisColor\":1,\"fLabelColor\":1,\"fLabelFont\":42,\"fLabelOffset\":0.005,\"fLabelSize\":0.035,\"fTickLength\":0.03,\"fTitleOffset\":0,\"fTitleSize\":0.035,\"fTitleColor\":1,\"fTitleFont\":42},\"fZaxis\":{\"_typename\":\"TAttAxis\",\"fNdivisions\":510,\"fAxisColor\":1,\"fLabelColor\":1,\"fLabelFont\":42,\"fLabelOffset\":0.005,\"fLabelSize\":0.035,\"fTickLength\":0.03,\"fTitleOffset\":1,\"fTitleSize\":0.035,\"fTitleColor\":1,\"fTitleFont\":42},\"fBarWidth\":1,\"fBarOffset\":0,\"fColorModelPS\":0,\"fDrawBorder\":0,\"fOptLogx\":0,\"fOptLogy\":0,\"fOptLogz\":0,\"fOptDate\":0,\"fOptStat\":0,\"fOptTitle\":1,\"fOptFile\":0,\"fOptFit\":0,\"fShowEventStatus\":0,\"fShowEditor\":0,\"fShowToolBar\":0,\"fNumberContours\":20,\"fAttDate\":{\"_typename\":\"TAttText\",\"fTextAngle\":0,\"fTextSize\":0.025,\"fTextAlign\":11,\"fTextColor\":1,\"fTextFont\":62},\"fDateX\":0.01,\"fDateY\":0.01,\"fEndErrorSize\":2,\"fErrorX\":0.5,\"fFuncColor\":2,\"fFuncStyle\":1,\"fFuncWidth\":2,\"fGridColor\":0,\"fGridStyle\":3,\"fGridWidth\":1,\"fLegendBorderSize\":1,\"fLegendFillColor\":0,\"fLegendFont\":42,\"fLegendTextSize\":0,\"fHatchesLineWidth\":1,\"fHatchesSpacing\":1,\"fFrameFillColor\":0,\"fFrameLineColor\":1,\"fFrameFillStyle\":1001,\"fFrameLineStyle\":1,\"fFrameLineWidth\":1,\"fFrameBorderSize\":1,\"fFrameBorderMode\":0,\"fHistFillColor\":0,\"fHistLineColor\":602,\"fHistFillStyle\":1001,\"fHistLineStyle\":1,\"fHistLineWidth\":1,\"fHistMinimumZero\":false,\"fHistTopMargin\":0.05,\"fCanvasPreferGL\":false,\"fCanvasColor\":0,\"fCanvasBorderSize\":2,\"fCanvasBorderMode\":0,\"fCanvasDefH\":500,\"fCanvasDefW\":700,\"fCanvasDefX\":10,\"fCanvasDefY\":10,\"fPadColor\":0,\"fPadBorderSize\":2,\"fPadBorderMode\":0,\"fPadBottomMargin\":0.1,\"fPadTopMargin\":0.1,\"fPadLeftMargin\":0.1,\"fPadRightMargin\":0.1,\"fPadGridX\":false,\"fPadGridY\":false,\"fPadTickX\":0,\"fPadTickY\":0,\"fPaperSizeX\":20,\"fPaperSizeY\":26,\"fScreenFactor\":1,\"fStatColor\":0,\"fStatTextColor\":1,\"fStatBorderSize\":1,\"fStatFont\":42,\"fStatFontSize\":0,\"fStatStyle\":1001,\"fStatFormat\":\"6.4g\",\"fStatX\":0.98,\"fStatY\":0.935,\"fStatW\":0.2,\"fStatH\":0.16,\"fStripDecimals\":true,\"fTitleAlign\":23,\"fTitleColor\":0,\"fTitleTextColor\":1,\"fTitleBorderSize\":0,\"fTitleFont\":42,\"fTitleFontSize\":0.05,\"fTitleStyle\":0,\"fTitleX\":0.5,\"fTitleY\":0.995,\"fTitleW\":0,\"fTitleH\":0,\"fLegoInnerR\":0.5,\"fLineStyle\":[\"\",\"  \",\" 12 12\",\" 4 8\",\" 12 16 4 16\",\" 20 12 4 12\",\" 20 12 4 12 4 12 4 12\",\" 20 20\",\" 20 12 4 12 4 12\",\" 80 20\",\" 80 40 4 40\",\"  \",\"  \",\"  \",\"  \",\"  \",\"  \",\"  \",\"  \",\"  \",\"  \",\"  \",\"  \",\"  \",\"  \",\"  \",\"  \",\"  \",\"  \",\"  \"],\"fHeaderPS\":\"\",\"fTitlePS\":\"\",\"fFitFormat\":\"5.4g\",\"fPaintTextFormat\":\"g\",\"fLineScalePS\":3,\"fJoinLinePS\":0,\"fCapLinePS\":0,\"fTimeOffset\":788918400,\"fImageScaling\":1}],\"opt\":[\"\",\"colz\",\"blNDC\",\"\"]},\"fExecs\":null,\"fName\":\"c1\",\"fTitle\":\"c1\",\"fNumPaletteColor\":0,\"fNextPaletteColor\":0,\"fDISPLAY\":\"$DISPLAY\",\"fDoubleBuffer\":0,\"fRetained\":true,\"fXsizeUser\":0,\"fYsizeUser\":0,\"fXsizeReal\":20,\"fYsizeReal\":14.28571,\"fWindowTopX\":0,\"fWindowTopY\":0,\"fWindowWidth\":0,\"fWindowHeight\":0,\"fCw\":696,\"fCh\":472,\"fCatt\":{\"_typename\":\"TAttCanvas\",\"fXBetween\":2,\"fYBetween\":2,\"fTitleFromTop\":1.2,\"fXdate\":0.2,\"fYdate\":0.3,\"fAdate\":1},\"kMoveOpaque\":true,\"kResizeOpaque\":true,\"fHighLightColor\":2,\"fBatch\":true,\"kShowEventStatus\":false,\"kAutoExec\":true,\"kMenuBar\":true});\n",
       "   Core.settings.HandleKeys = false;\n",
       "   Core.draw(\"root_plot_1659052766829\", obj, \"\");\n",
       "}\n",
       "\n",
       "function script_load_root_plot_1659052766829(src, on_error) {\n",
       "    let script = document.createElement('script');\n",
       "    script.src = src;\n",
       "    script.onload = function() { display_root_plot_1659052766829(JSROOT); };\n",
       "    script.onerror = function() { script.remove(); on_error(); };\n",
       "    document.head.appendChild(script);\n",
       "}\n",
       "\n",
       "if (typeof requirejs !== 'undefined') {\n",
       "\n",
       "    // We are in jupyter notebooks, use require.js which should be configured already\n",
       "    requirejs.config({\n",
       "       paths: { 'JSRootCore' : [ 'scripts/JSRoot.core', 'https://root.cern/js/6.1.1/scripts/JSRoot.core.min', 'https://jsroot.gsi.de/6.1.1/scripts/JSRoot.core.min' ] }\n",
       "    })(['JSRootCore'],  function(Core) {\n",
       "       display_root_plot_1659052766829(Core);\n",
       "    });\n",
       "\n",
       "} else if (typeof JSROOT !== 'undefined') {\n",
       "\n",
       "   // JSROOT already loaded, just use it\n",
       "   display_root_plot_1659052766829(JSROOT);\n",
       "\n",
       "} else {\n",
       "\n",
       "    // We are in jupyterlab without require.js, directly loading jsroot\n",
       "    // Jupyterlab might be installed in a different base_url so we need to know it.\n",
       "    try {\n",
       "        var base_url = JSON.parse(document.getElementById('jupyter-config-data').innerHTML).baseUrl;\n",
       "    } catch(_) {\n",
       "        var base_url = '/';\n",
       "    }\n",
       "\n",
       "    // Try loading a local version of requirejs and fallback to cdn if not possible.\n",
       "    script_load_root_plot_1659052766829(base_url + 'static/scripts/JSRoot.core.js', function(){\n",
       "        console.error('Fail to load JSROOT locally, please check your jupyter_notebook_config.py file');\n",
       "        script_load_root_plot_1659052766829('https://root.cern/js/6.1.1/scripts/JSRoot.core.min.js', function(){\n",
       "            document.getElementById(\"root_plot_1659052766829\").innerHTML = \"Failed to load JSROOT\";\n",
       "        });\n",
       "    });\n",
       "}\n",
       "\n",
       "</script>\n"
      ],
      "text/plain": [
       "<IPython.core.display.HTML object>"
      ]
     },
     "metadata": {},
     "output_type": "display_data"
    }
   ],
   "source": [
    "h_lep_q2vw.SetTitle(\"All events;Energy Transfer (GeV);Q^{2} (GeV/c)^{2}\")\n",
    "h_lep_q2vw.Draw(\"colz\")\n",
    "c.SetLogx()\n",
    "c.SetLogy()\n",
    "c.Draw()"
   ]
  },
  {
   "cell_type": "code",
   "execution_count": 30,
   "metadata": {},
   "outputs": [],
   "source": [
    "#now, make a filter based on acceptance\n",
    "df_gst_GEM21_11b_accept = df_gst_GEM21_11b_all.Filter(f\"ptl>{lep_accept_pt} && abs(thetazl)<{lep_accept_angle}\")"
   ]
  },
  {
   "cell_type": "code",
   "execution_count": 31,
   "metadata": {},
   "outputs": [],
   "source": [
    "h_lep_q2vw_accept = df_gst_GEM21_11b_accept.Histo2D((\"\",\"\",len(etransfer_bins)-1,etransfer_bins,\n",
    "                                            len(q2transfer_bins)-1,q2transfer_bins),\n",
    "                                      \"energy_transfer\",\"Q2\")"
   ]
  },
  {
   "cell_type": "code",
   "execution_count": 32,
   "metadata": {},
   "outputs": [
    {
     "data": {
      "text/html": [
       "\n",
       "\n",
       "<div id=\"root_plot_1657564437574\"\n",
       "     style=\"width: 696px; height: 472px\">\n",
       "</div>\n",
       "<script>\n",
       "\n",
       "function display_root_plot_1657564437574(Core) {\n",
       "   let obj = Core.parse({\"_typename\":\"TCanvas\",\"fUniqueID\":0,\"fBits\":3342344,\"fLineColor\":1,\"fLineStyle\":1,\"fLineWidth\":1,\"fFillColor\":0,\"fFillStyle\":1001,\"fLeftMargin\":0.1,\"fRightMargin\":0.1,\"fBottomMargin\":0.1,\"fTopMargin\":0.1,\"fXfile\":2,\"fYfile\":2,\"fAfile\":1,\"fXstat\":0.99,\"fYstat\":0.99,\"fAstat\":2,\"fFrameFillColor\":0,\"fFrameLineColor\":1,\"fFrameFillStyle\":1001,\"fFrameLineStyle\":1,\"fFrameLineWidth\":1,\"fFrameBorderSize\":1,\"fFrameBorderMode\":0,\"fX1\":-1.53891626176188,\"fY1\":-2.03634128001414,\"fX2\":0.839946257425863,\"fY2\":1.33737127567812,\"fXtoAbsPixelk\":450.251256005797,\"fXtoPixelk\":450.251256005797,\"fXtoPixel\":292.576806934453,\"fYtoAbsPixelk\":187.105273607453,\"fYtoPixelk\":187.105273607453,\"fYtoPixel\":-139.905220794114,\"fUtoAbsPixelk\":5e-5,\"fUtoPixelk\":5e-5,\"fUtoPixel\":696,\"fVtoAbsPixelk\":472.00005,\"fVtoPixelk\":472,\"fVtoPixel\":-472,\"fAbsPixeltoXk\":-1.53891626176188,\"fPixeltoXk\":-1.53891626176188,\"fPixeltoX\":0.0034179059183732,\"fAbsPixeltoYk\":1.33737127567812,\"fPixeltoYk\":-2.03634128001414,\"fPixeltoY\":-0.00714769609256835,\"fXlowNDC\":0,\"fYlowNDC\":0,\"fXUpNDC\":1,\"fYUpNDC\":1,\"fWNDC\":1,\"fHNDC\":1,\"fAbsXlowNDC\":0,\"fAbsYlowNDC\":0,\"fAbsWNDC\":1,\"fAbsHNDC\":1,\"fUxmin\":-1.30102999566398,\"fUymin\":-1.69897000433602,\"fUxmax\":0.602059991327962,\"fUymax\":1,\"fTheta\":30,\"fPhi\":30,\"fAspectRatio\":0,\"fNumber\":0,\"fTickx\":0,\"fTicky\":0,\"fLogx\":1,\"fLogy\":1,\"fLogz\":0,\"fPadPaint\":0,\"fCrosshair\":0,\"fCrosshairPos\":0,\"fBorderSize\":2,\"fBorderMode\":0,\"fModified\":false,\"fGridx\":false,\"fGridy\":false,\"fAbsCoord\":false,\"fEditable\":true,\"fFixedAspectRatio\":false,\"fPrimitives\":{\"_typename\":\"TList\",\"name\":\"TList\",\"arr\":[{\"_typename\":\"TFrame\",\"fUniqueID\":0,\"fBits\":8,\"fLineColor\":1,\"fLineStyle\":1,\"fLineWidth\":1,\"fFillColor\":0,\"fFillStyle\":1001,\"fX1\":-1.30102999566398,\"fY1\":-1.69897000433602,\"fX2\":0.602059991327962,\"fY2\":1,\"fBorderSize\":1,\"fBorderMode\":0},{\"_typename\":\"TH2D\",\"fUniqueID\":0,\"fBits\":520,\"fName\":\"\",\"fTitle\":\"Events passing electron acceptance\",\"fLineColor\":602,\"fLineStyle\":1,\"fLineWidth\":1,\"fFillColor\":0,\"fFillStyle\":1001,\"fMarkerColor\":1,\"fMarkerStyle\":1,\"fMarkerSize\":1,\"fNcells\":10201,\"fXaxis\":{\"_typename\":\"TAxis\",\"fUniqueID\":0,\"fBits\":0,\"fName\":\"xaxis\",\"fTitle\":\"Energy Transfer (GeV)\",\"fNdivisions\":510,\"fAxisColor\":1,\"fLabelColor\":1,\"fLabelFont\":42,\"fLabelOffset\":0.005,\"fLabelSize\":0.035,\"fTickLength\":0.03,\"fTitleOffset\":1,\"fTitleSize\":0.035,\"fTitleColor\":1,\"fTitleFont\":42,\"fNbins\":99,\"fXmin\":0.05,\"fXmax\":4,\"fXbins\":{\"$arr\":\"Float64\",\"len\":100,\"v\":[0.05,0.0522628555976219,0.0546281215043577,0.0571004325150318,0.0596846331818973,0.0623857873076507,0.0652091878680741,0.0681603673837472,0.0712451087611528,0.07446945662442,0.0778397291599087,0.0813625304968462,0.0850447636482757,0.0888936440376745,0.0929167136377478,0.097121855749104,0.10151731044777,0.106111690731815,0.110913999398727,0.115933646686608,0.121180468713759,0.126664746752786,0.132397227377005,0.138389143518598,0.144652236479822,0.15119877894036,0.158041599005936,0.16519410534529,0.172670313464784,0.180484873172123,0.188653097282995,0.197190991626906,0.206115286410978,0.215443469003188,0.225193818199288,0.23538544004053,0.246038305252418,0.257173288377815,0.268812208681107,0.28097787290357,0.293694119953725,0.306985867620244,0.32087916139895,0.335401225529587,0.350580516342365,0.366446778018815,0.383031100876224,0.400365982289845,0.418485390372285,0.437424830534823,0.457221415061115,0.477913935829588,0.499542940327058,0.522150811102491,0.545781848816613,0.570482359050116,0.596300743040538,0.623287592525647,0.651495788879146,0.680980606732992,0.711799822289347,0.744013826534422,0.777685743576053,0.81288155433689,0.849670225845588,0.888123846379336,0.928317766722556,0.970330747818557,1.01424511510348,1.06014691982493,1.10812610766148,1.15827669497333,1.21069695302964,1.26548960057338,1.32276200510118,1.38262639325248,1.4452000707203,1.51060565211456,1.5789713012283,1.65043098217768,1.72512472190787,1.80319888457917,1.88480645837108,1.97010735526626,2.05926872440187,2.15246527960228,2.24987964173498,2.3517026965605,2.45813396877759,2.56938201299665,2.68566482240742,2.80721025594184,2.93425648476904,3.0670524589974,3.20585839549825,3.35094628780698,3.50260043910087,3.66111801929792,3.82680964736838,4]},\"fFirst\":0,\"fLast\":0,\"fBits2\":0,\"fTimeDisplay\":false,\"fTimeFormat\":\"\",\"fLabels\":null,\"fModLabs\":null},\"fYaxis\":{\"_typename\":\"TAxis\",\"fUniqueID\":0,\"fBits\":0,\"fName\":\"yaxis\",\"fTitle\":\"Q^{2} (GeV\\/c)^{2}\",\"fNdivisions\":510,\"fAxisColor\":1,\"fLabelColor\":1,\"fLabelFont\":42,\"fLabelOffset\":0.005,\"fLabelSize\":0.035,\"fTickLength\":0.03,\"fTitleOffset\":0,\"fTitleSize\":0.035,\"fTitleColor\":1,\"fTitleFont\":42,\"fNbins\":99,\"fXmin\":0.02,\"fXmax\":10,\"fXbins\":{\"$arr\":\"Float64\",\"len\":100,\"v\":[0.02,0.021295719556467,0.0226753835713845,0.0241444304685762,0.0257086510054707,0.0273742110993794,0.0291476761325955,0.031036036832124,0.0330467368260546,0.0351877019852014,0.0374673716656693,0.0398947319755006,0.0424793511965338,0.0452314175011027,0.0481617791122478,0.0512819870657469,0.0546043407425257,0.0581419363509296,0.0619087185499675,0.0659195354170176,0.07019019697667,0.0747375375214171,0.0795794819698514,0.0847351165239438,0.0902247639039229,0.0960700634573193,0.102294056457953,0.108921276931098,0.115977848362847,0.123491586674883,0.131492109870572,0.140010954784592,0.149081701396293,0.15874010519682,0.169024238131777,0.179974638674991,0.191634471624954,0.204049698253838,0.217269257479772,0.231345258776552,0.246333187581187,0.262292124008977,0.279284975738261,0.297378725982835,0.316644697529495,0.337158833881522,0.359001998616316,0.382260294137211,0.407025401075931,0.433394939683577,0.461472854634668,0.491369824761108,0.523203699331144,0.557099962593106,0.593192228415051,0.631622766970132,0.672543065543781,0.716114425673348,0.762508598974002,0.811908464157245,0.864508747910726,0.920516792480962,0.980153372984654,1.04365356767032,1.11126768456067,1.18326224812842,1.25992104989487,1.34154626709253,1.42845965380139,1.52100380925411,1.61954352830968,1.7244672394187,1.83618853574877,1.95514780550528,2.08181396787412,2.21668632142915,2.36029651229058,2.51321062979236,2.67603143791949,2.84940075131113,3.03400196519541,3.23056274922856,3.43985791585702,3.6627124745092,3.90000488365606,4.15267051355956,4.4217053333587,4.70816983702707,5.01319322367726,5.33797784869058,5.68380396321738,6.05203476073065,6.44412175052548,6.86161047934599,7.30614662369335,7.77948247683009,8.28348385605114,8.82013745744934,9.39155868716655,10]},\"fFirst\":0,\"fLast\":0,\"fBits2\":0,\"fTimeDisplay\":false,\"fTimeFormat\":\"\",\"fLabels\":null,\"fModLabs\":null},\"fZaxis\":{\"_typename\":\"TAxis\",\"fUniqueID\":0,\"fBits\":0,\"fName\":\"zaxis\",\"fTitle\":\"\",\"fNdivisions\":510,\"fAxisColor\":1,\"fLabelColor\":1,\"fLabelFont\":42,\"fLabelOffset\":0.005,\"fLabelSize\":0.035,\"fTickLength\":0.03,\"fTitleOffset\":1,\"fTitleSize\":0.035,\"fTitleColor\":1,\"fTitleFont\":42,\"fNbins\":1,\"fXmin\":0,\"fXmax\":1,\"fXbins\":[],\"fFirst\":0,\"fLast\":0,\"fBits2\":0,\"fTimeDisplay\":false,\"fTimeFormat\":\"\",\"fLabels\":null,\"fModLabs\":null},\"fBarOffset\":0,\"fBarWidth\":1000,\"fEntries\":112236,\"fTsumw\":111391,\"fTsumw2\":111391,\"fTsumwx\":82250.0837825531,\"fTsumwx2\":106063.665556762,\"fMaximum\":-1111,\"fMinimum\":-1111,\"fNormFactor\":0,\"fContour\":{\"$arr\":\"Float64\",\"len\":20,\"p\":1,\"v\":[9,18,27,36,45,54,63,72,81,90,99,108,117,126,135,144,153,162,171]},\"fSumw2\":[],\"fOption\":\"\",\"fFunctions\":{\"_typename\":\"TList\",\"name\":\"TList\",\"arr\":[{\"_typename\":\"TPaletteAxis\",\"fUniqueID\":0,\"fBits\":0,\"fLineColor\":1,\"fLineStyle\":1,\"fLineWidth\":1,\"fFillColor\":1178,\"fFillStyle\":1001,\"fX1\":0.613954303923889,\"fY1\":-1.69897000433599,\"fX2\":0.721003117287335,\"fY2\":0.99999999999998,\"fX1NDC\":0.90499999403953,\"fY1NDC\":0.100000005960475,\"fX2NDC\":0.949999994039529,\"fY2NDC\":0.899999994039529,\"fBorderSize\":4,\"fInit\":1,\"fShadowColor\":1,\"fCornerRadius\":0,\"fOption\":\"br\",\"fName\":\"palette\",\"fAxis\":{\"_typename\":\"TGaxis\",\"fUniqueID\":0,\"fBits\":0,\"fLineColor\":1,\"fLineStyle\":1,\"fLineWidth\":1,\"fX1\":0,\"fY1\":0,\"fX2\":0,\"fY2\":0,\"fTextAngle\":0,\"fTextSize\":0.04,\"fTextAlign\":11,\"fTextColor\":1,\"fTextFont\":42,\"fWmin\":0,\"fWmax\":0,\"fGridLength\":0,\"fTickSize\":0.03,\"fLabelOffset\":0.005,\"fLabelSize\":0.035,\"fTitleOffset\":1,\"fTitleSize\":0.035,\"fNdiv\":0,\"fLabelColor\":1,\"fLabelFont\":42,\"fNModLabs\":0,\"fChopt\":\"\",\"fName\":\"\",\"fTitle\":\"\",\"fTimeFormat\":\"\",\"fFunctionName\":\"\",\"fModLabs\":null}}],\"opt\":[\"br\"]},\"fBufferSize\":0,\"fBuffer\":[],\"fBinStatErrOpt\":0,\"fStatOverflows\":2,\"fScalefactor\":1,\"fTsumwy\":44071.4583894483,\"fTsumwy2\":25878.6778623569,\"fTsumwxy\":43915.1895397625,\"fArray\":{\"$arr\":\"Float64\",\"len\":10201,\"p\":3434,\"v\":[185,25,31,24,34,35,34,40,35,53,57,51,63,59,58,60,61,52,69,65,55,53,59,51,49,47,30,27,23,14,6,3],\"p1\":3535,\"v1\":[183,36,45,36,39,50,63,67,68,81,83,104,94,95,93,122,120,136,134,141,145,163,150,145,151,180,158,153,130,133,139,131,95,95,93,86,70,75,53,54,48,36,43,47,41,44,28,26,17,6],\"p2\":3636,\"v2\":[152,29,32,29,28,45,41,44,55,56,92,79,71,77,88,104,122,122,120,136,124,117,122,125,147,138,160,133,142,119,146,125,104,104,97,78,90,74,72,79,84,80,85,81,97,105,131,145,133,138,159,119,112,81,79,57,44,23,7],\"p3\":3737,\"v3\":[106,20,23,29,27,25,36,34,38,45,40,48,57,66,87,92,90,110,106,110,118,112,134,118,124,141,135,132,139,132,124,121,100,116,108,108,96,85,71,76,83,80,76,92,96,101,139,102,132,141,145,141,141,116,142,138,129,105,127,115,88,85,68,37,17],\"p4\":3838,\"v4\":[70,14,11,18,22,29,20,40,36,41,48,50,51,60,65,59,58,76,90,109,115,126,120,102,139,117,119,129,136,137,130,129,121,100,106,104,119,84,100,80,90,76,81,94,82,91,113,104,140,130,135,142,133,115,130,104,102,112,92,103,98,126,107,162,152,122,116,71,47,6],\"p5\":3939,\"v5\":[46,15,8,12,15,14,23,20,32,38,26,43,40,38,37,56,79,78,84,80,96,95,105,105,107,122,109,131,141,134,121,110,97,99,116,89,93,93,93,61,72,85,99,67,71,63,92,113,114,127,110,134,137,120,133,119,107,111,131,103,97,103,108,136,157,134,150,167,162,123,115,63,27],\"p6\":4040,\"v6\":[39,13,13,6,7,16,8,11,16,21,25,26,29,50,41,35,40,50,69,56,73,95,96,97,95,91,98,108,108,131,92,111,93,128,107,92,91,84,56,76,74,68,67,76,73,72,99,123,108,115,114,98,126,106,119,110,99,99,108,91,101,104,94,113,127,152,164,119,177,163,167,148,108,144,64,24],\"p7\":4141,\"v7\":[28,9,4,2,12,11,14,8,16,19,18,17,25,23,35,39,43,54,49,68,47,86,81,75,78,82,102,96,90,103,113,96,99,102,95,112,104,78,71,79,77,64,67,89,69,72,78,84,102,91,110,134,109,101,111,122,117,94,100,92,95,100,96,100,125,129,145,151,140,147,124,134,138,145,134,102,83,36,5],\"p8\":4242,\"v8\":[14,2,11,7,8,10,11,11,12,17,15,12,20,21,29,18,32,31,44,44,50,41,54,69,58,74,80,98,89,89,104,87,86,86,86,94,69,66,80,75,63,71,63,77,70,57,66,81,91,81,95,109,99,112,106,116,93,99,113,98,101,66,110,116,108,127,140,130,154,146,149,130,125,110,112,111,96,95,68,46,7],\"p9\":4343,\"v9\":[10,0,4,2,4,5,5,2,10,3,10,8,12,14,12,17,21,22,19,31,38,48,52,61,60,60,78,51,85,97,90,104,82,84,113,102,91,78,89,73,76,63,54,48,73,73,77,70,81,69,93,91,100,99,108,105,98,89,79,88,78,80,88,95,108,117,121,114,108,138,119,125,129,115,95,101,99,95,76,71,85,27,3],\"p10\":4444,\"v10\":[4,1,0,3,0,3,2,5,5,6,5,10,10,8,12,17,20,24,31,25,25,33,34,43,52,50,57,55,64,73,92,69,70,79,90,72,86,84,79,73,73,68,67,71,54,64,59,76,78,77,71,87,93,85,100,79,77,100,75,85,84,82,77,97,101,97,131,110,123,135,128,127,123,104,116,109,83,87,83,76,63,78,60,18],\"p11\":4545,\"v11\":[4,1,1,2,0,1,3,2,3,6,4,3,3,7,8,10,13,19,14,30,18,28,32,37,44,43,56,46,50,64,88,75,64,69,86,69,75,67,73,85,70,79,59,60,65,59,58,57,80,68,89,72,85,73,96,85,82,91,83,69,77,75,73,80,84,76,109,106,110,126,136,116,118,102,129,100,93,93,61,69,68,68,69,62,35,2],\"p12\":4646,\"v12\":[2,1,0,0,3,1,4,2,1,4,5,4,2,2,3,9,6,6,16,18,19,11,18,25,24,36,38,39,31,52,49,52,57,62,64,61,64,65,72,60,75,51,50,74,51,59,57,60,60,68,78,90,79,81,85,77,77,72,79,75,66,79,66,73,91,74,113,101,108,107,125,110,121,102,107,87,78,93,107,62,78,76,66,58,57,44,5],\"p13\":4747,\"v13\":[1,0,0,0,0,0,0,4,2,0,1,2,2,1,3,3,4,6,7,15,15,10,12,11,27,25,25,27,39,36,51,39,45,53,56,54,68,63,69,63,72,70,72,69,67,60,51,48,36,50,65,57,68,76,61,74,71,81,72,62,85,70,69,77,69,81,91,85,124,81,105,103,101,98,82,83,78,87,79,65,59,76,70,72,64,56,45,7],\"p14\":4853,\"v14\":[2,0,1,2,0,4,2,1,1,0,2,2,4,5,8,7,16,4,15,9,11,20,23,31,38,40,46,56,41,46,58,46,68,58,54,53,61,40,59,42,51,47,52,46,49,59,44,67,56,63,70,76,75,71,77,65,65,56,57,71,89,86,77,91,108,96,110,101,85,75,87,82,78,61,47,65,70,70,60,57,47,50,53,1],\"p15\":4949,\"v15\":[1,0,0,0,0,0,2,1,0,1,2,1,0,3,0,4,3,1,7,1,5,3,11,9,12,16,19,15,37,22,27,27,31,36,42,49,47,51,60,56,62,57,49,43,51,49,63,48,57,55,43,53,49,64,52,58,61,65,61,56,61,56,59,69,58,64,63,89,70,83,92,85,93,80,82,88,60,77,74,61,63,71,61,54,68,45,52,45,54,5],\"p16\":5059,\"v16\":[1,1,1,2,0,3,0,2,2,3,2,5,2,6,5,7,2,10,17,14,17,21,25,36,37,26,41,37,35,42,54,47,32,46,48,53,43,43,50,43,40,37,50,49,61,68,51,56,59,68,64,59,56,57,45,57,57,68,69,66,67,80,74,94,91,75,85,63,71,64,77,55,72,64,56,56,36,53,32,47,45],\"p17\":5162,\"v17\":[1,0,0,0,0,1,6,0,2,2,0,2,3,10,0,4,11,4,13,16,19,15,24,20,23,33,40,45,27,44,41,40,48,39,44,46,37,44,38,50,45,30,50,59,47,67,52,48,41,57,57,53,56,56,49,59,52,87,77,57,71,91,73,85,66,65,73,58,73,64,61,44,43,55,51,44,42,34,41,29],\"p18\":5266,\"v18\":[3,0,0,1,0,0,2,1,1,3,1,2,1,6,5,6,8,10,17,16,19,24,29,31,26,21,31,35,31,43,41,45,35,36,38,47,27,40,44,48,35,44,37,45,49,50,32,48,50,49,39,47,37,50,65,76,60,71,70,69,70,72,72,72,73,56,48,46,46,54,51,37,34,39,36,37,43,3],\"p19\":5369,\"v19\":[1,0,0,0,3,0,1,3,2,2,2,3,3,7,3,5,11,6,13,21,15,16,21,29,34,28,28,31,35,30,40,43,41,34,36,22,48,38,49,37,39,47,43,53,51,52,36,45,52,34,40,52,60,51,57,67,56,57,67,53,63,59,68,60,43,48,45,47,40,45,34,41,47,35,35,31],\"p20\":5467,\"v20\":[1,1,0,0,0,1,0,0,0,0,2,0,0,0,5,1,4,6,4,5,10,11,14,18,18,17,15,17,28,27,32,25,19,43,36,34,28,33,30,33,35,42,43,51,22,35,31,33,37,40,31,41,44,46,46,60,62,49,66,51,55,65,48,54,67,47,51,62,50,38,41,43,48,40,30,44,40,41,37,12],\"p21\":5568,\"v21\":[1,0,0,0,0,0,0,0,0,1,1,0,0,1,3,1,3,4,2,6,4,4,4,6,8,16,9,23,17,16,27,21,29,25,31,17,33,35,34,29,27,23,33,31,43,37,40,43,44,40,34,40,39,33,40,44,40,48,46,47,68,58,56,79,50,55,54,45,47,46,43,38,36,45,39,43,37,39,34,36,1],\"p22\":5667,\"v22\":[1,0,0,0,0,0,0,1,0,0,0,0,0,0,1,0,0,0,2,2,2,2,3,5,8,7,9,10,7,9,14,11,18,23,25,17,16,32,17,20,34,24,23,21,25,31,29,38,37,25,26,44,38,33,38,35,32,40,42,41,42,46,45,56,48,48,40,59,52,51,42,33,48,39,38,27,31,35,37,34,21,28,6],\"p23\":5783,\"v23\":[1,0,0,1,0,2,0,2,3,3,5,5,6,5,9,7,13,13,12,23,13,16,27,20,22,21,22,18,30,33,23,30,24,23,30,38,33,28,27,41,28,43,38,34,39,46,27,50,56,55,43,37,46,44,43,53,52,31,38,40,37,35,32,35,32,28,25,25],\"p24\":5874,\"v24\":1,\"p25\":5887,\"v25\":[1,0,1,0,0,0,0,1,2,0,1,4,3,8,10,10,14,11,17,16,20,22,15,30,26,19,23,28,26,23,39,30,27,22,31,31,40,28,36,23,31,39,35,29,47,42,53,54,44,38,44,36,38,37,43,33,44,39,43,28,30,30,29,26,24,3],\"p26\":5991,\"v26\":[1,1,1,2,2,2,2,2,3,4,2,5,3,10,7,12,13,16,19,26,17,14,12,22,19,23,23,19,17,17,21,18,26,25,26,24,30,32,16,37,31,28,46,40,41,28,34,42,38,40,44,42,27,36,34,33,23,20,32,22,19,20,17],\"p27\":6096,\"v27\":[1,2,1,2,0,3,2,8,5,5,9,4,6,10,13,11,9,11,10,13,19,14,16,28,30,17,15,16,27,23,29,24,32,24,19,32,29,33,42,35,22,25,27,41,42,36,34,30,29,28,26,29,37,26,36,30,30,16,19],\"p28\":6200,\"v28\":[1,1,4,1,2,1,3,2,6,3,12,15,13,10,9,15,17,21,23,24,12,19,24,19,22,32,21,12,32,13,19,24,18,28,27,21,27,35,35,27,22,29,31,21,24,29,29,27,28,25,22,25,17,19,18,13,1],\"p29\":6298,\"v29\":[1,0,0,1,1,1,0,0,2,1,1,3,8,5,9,17,10,7,9,8,6,12,18,10,14,10,9,15,15,11,18,20,21,24,22,21,17,24,21,23,28,26,35,37,34,20,29,21,17,31,28,17,26,17,21,26,23,21,13,6],\"p30\":6406,\"v30\":[1,1,0,2,1,4,2,5,10,3,8,8,4,11,15,12,5,9,4,11,9,10,14,12,17,13,14,12,13,13,23,26,25,22,20,25,27,23,25,26,26,19,26,19,20,34,17,31,23,14,14,28,14],\"p31\":6507,\"v31\":[1,1,1,1,0,1,4,3,6,0,12,5,6,10,10,8,12,8,9,10,10,14,11,12,15,7,16,10,17,17,13,20,18,19,22,31,30,27,19,21,23,30,19,13,23,19,22,20,21,22,28,20,22],\"p32\":6615,\"v32\":[1,3,5,4,3,4,11,4,6,7,10,6,7,10,10,15,7,14,19,12,10,10,11,12,23,17,20,19,21,15,25,19,21,21,13,21,17,14,20,16,19,9,21,12,17,12],\"p33\":6706,\"v33\":[1,1,0,0,0,0,0,0,0,1,1,4,5,1,3,1,7,2,7,4,6,2,9,13,10,7,10,10,10,9,8,9,14,16,13,16,10,8,14,19,17,20,9,24,27,18,8,25,13,20,14,16,22,9,10,13],\"p34\":6819,\"v34\":[1,0,0,3,5,2,4,2,2,2,2,4,7,9,11,9,8,2,9,6,9,12,3,10,11,15,12,15,23,19,13,12,13,20,16,20,23,18,16,20,11,9,13,11],\"p35\":6921,\"v35\":[1,1,1,2,4,1,1,2,0,3,5,4,6,8,8,0,4,2,5,3,6,8,12,8,14,15,11,17,20,14,20,20,10,16,11,17,16,18,18,15,19,11,6],\"p36\":7026,\"v36\":[1,2,0,2,4,3,5,4,6,1,2,3,6,5,6,2,1,2,12,9,18,10,9,17,13,15,21,13,13,16,13,14,12,13,19,11,12,12,1],\"p37\":7122,\"v37\":[1,0,1,1,0,0,0,2,0,2,1,0,2,2,2,3,7,5,6,2,4,8,11,2,7,8,9,13,5,7,10,12,13,13,9,8,15,16,8,15,13,10,4],\"p38\":7231,\"v38\":[1,2,2,1,1,4,3,4,4,3,0,2,5,4,4,6,4,8,3,7,7,8,7,9,10,7,10,10,9,10,9,14,6,3,4],\"p39\":7336,\"v39\":[3,1,1,3,1,1,2,2,2,3,3,9,2,8,2,5,7,7,5,6,6,10,7,5,12,15,10,11,12,9],\"p40\":7437,\"v40\":[1,0,1,3,0,0,1,1,4,4,2,3,5,3,1,7,3,6,9,13,11,9,4,5,11,13,16,9,5,4],\"p41\":7535,\"v41\":[1,0,1,0,2,1,0,0,2,2,1,2,1,10,3,2,3,2,4,3,10,2,9,3,6,6,6,10,5,1,11,7],\"p42\":7640,\"v42\":[3,1,1,1,1,0,0,0,3,1,5,4,0,2,1,2,6,5,4,4,6,5,7,8,9,11,9,4],\"p43\":7746,\"v43\":[1,0,0,3,1,0,0,1,2,2,0,2,3,4,2,3,2,4,7,5,3,4],\"p44\":7848,\"v44\":[2,0,0,0,0,1,1,2,0,2,2,4,3,5,1,2,4,1,2,6],\"p45\":7955,\"v45\":[1,0,0,0,1,1,1,1,2,5,2,3,4,3],\"p46\":8061,\"v46\":[2,1,1,1,3,4,5],\"p47\":8161,\"v47\":[1,0,0,2,0,4,2],\"p48\":8265,\"v48\":[1,2,0,2],\"p49\":8366,\"v49\":[1,0,1],\"p50\":8466,\"v50\":1}},{\"_typename\":\"TPaveText\",\"fUniqueID\":0,\"fBits\":9,\"fLineColor\":1,\"fLineStyle\":1,\"fLineWidth\":1,\"fFillColor\":0,\"fFillStyle\":0,\"fX1\":-1.07907119950395,\"fY1\":1.11464908152081,\"fX2\":0.380101195167933,\"fY2\":1.32050272898677,\"fX1NDC\":0.193304597701149,\"fY1NDC\":0.933983055615829,\"fX2NDC\":0.806695402298851,\"fY2NDC\":0.995000004768372,\"fBorderSize\":0,\"fInit\":1,\"fShadowColor\":1,\"fCornerRadius\":0,\"fOption\":\"blNDC\",\"fName\":\"title\",\"fTextAngle\":0,\"fTextSize\":0,\"fTextAlign\":22,\"fTextColor\":1,\"fTextFont\":42,\"fLabel\":\"\",\"fLongest\":34,\"fMargin\":0.05,\"fLines\":{\"_typename\":\"TList\",\"name\":\"TList\",\"arr\":[{\"_typename\":\"TLatex\",\"fUniqueID\":0,\"fBits\":0,\"fName\":\"\",\"fTitle\":\"Events passing electron acceptance\",\"fTextAngle\":0,\"fTextSize\":0,\"fTextAlign\":0,\"fTextColor\":0,\"fTextFont\":0,\"fX\":0,\"fY\":0,\"fLineColor\":1,\"fLineStyle\":1,\"fLineWidth\":2,\"fLimitFactorSize\":3,\"fOriginSize\":0.0518644079566002}],\"opt\":[\"\"]}},{\"_typename\":\"TStyle\",\"fUniqueID\":0,\"fBits\":0,\"fName\":\"Modern\",\"fTitle\":\"Modern Style\",\"fLineColor\":1,\"fLineStyle\":1,\"fLineWidth\":1,\"fFillColor\":19,\"fFillStyle\":1001,\"fMarkerColor\":1,\"fMarkerStyle\":1,\"fMarkerSize\":1,\"fTextAngle\":0,\"fTextSize\":0.05,\"fTextAlign\":11,\"fTextColor\":1,\"fTextFont\":62,\"fXaxis\":{\"_typename\":\"TAttAxis\",\"fNdivisions\":510,\"fAxisColor\":1,\"fLabelColor\":1,\"fLabelFont\":42,\"fLabelOffset\":0.005,\"fLabelSize\":0.035,\"fTickLength\":0.03,\"fTitleOffset\":1,\"fTitleSize\":0.035,\"fTitleColor\":1,\"fTitleFont\":42},\"fYaxis\":{\"_typename\":\"TAttAxis\",\"fNdivisions\":510,\"fAxisColor\":1,\"fLabelColor\":1,\"fLabelFont\":42,\"fLabelOffset\":0.005,\"fLabelSize\":0.035,\"fTickLength\":0.03,\"fTitleOffset\":0,\"fTitleSize\":0.035,\"fTitleColor\":1,\"fTitleFont\":42},\"fZaxis\":{\"_typename\":\"TAttAxis\",\"fNdivisions\":510,\"fAxisColor\":1,\"fLabelColor\":1,\"fLabelFont\":42,\"fLabelOffset\":0.005,\"fLabelSize\":0.035,\"fTickLength\":0.03,\"fTitleOffset\":1,\"fTitleSize\":0.035,\"fTitleColor\":1,\"fTitleFont\":42},\"fBarWidth\":1,\"fBarOffset\":0,\"fColorModelPS\":0,\"fDrawBorder\":0,\"fOptLogx\":0,\"fOptLogy\":0,\"fOptLogz\":0,\"fOptDate\":0,\"fOptStat\":0,\"fOptTitle\":1,\"fOptFile\":0,\"fOptFit\":0,\"fShowEventStatus\":0,\"fShowEditor\":0,\"fShowToolBar\":0,\"fNumberContours\":20,\"fAttDate\":{\"_typename\":\"TAttText\",\"fTextAngle\":0,\"fTextSize\":0.025,\"fTextAlign\":11,\"fTextColor\":1,\"fTextFont\":62},\"fDateX\":0.01,\"fDateY\":0.01,\"fEndErrorSize\":2,\"fErrorX\":0.5,\"fFuncColor\":2,\"fFuncStyle\":1,\"fFuncWidth\":2,\"fGridColor\":0,\"fGridStyle\":3,\"fGridWidth\":1,\"fLegendBorderSize\":1,\"fLegendFillColor\":0,\"fLegendFont\":42,\"fLegendTextSize\":0,\"fHatchesLineWidth\":1,\"fHatchesSpacing\":1,\"fFrameFillColor\":0,\"fFrameLineColor\":1,\"fFrameFillStyle\":1001,\"fFrameLineStyle\":1,\"fFrameLineWidth\":1,\"fFrameBorderSize\":1,\"fFrameBorderMode\":0,\"fHistFillColor\":0,\"fHistLineColor\":602,\"fHistFillStyle\":1001,\"fHistLineStyle\":1,\"fHistLineWidth\":1,\"fHistMinimumZero\":false,\"fHistTopMargin\":0.05,\"fCanvasPreferGL\":false,\"fCanvasColor\":0,\"fCanvasBorderSize\":2,\"fCanvasBorderMode\":0,\"fCanvasDefH\":500,\"fCanvasDefW\":700,\"fCanvasDefX\":10,\"fCanvasDefY\":10,\"fPadColor\":0,\"fPadBorderSize\":2,\"fPadBorderMode\":0,\"fPadBottomMargin\":0.1,\"fPadTopMargin\":0.1,\"fPadLeftMargin\":0.1,\"fPadRightMargin\":0.1,\"fPadGridX\":false,\"fPadGridY\":false,\"fPadTickX\":0,\"fPadTickY\":0,\"fPaperSizeX\":20,\"fPaperSizeY\":26,\"fScreenFactor\":1,\"fStatColor\":0,\"fStatTextColor\":1,\"fStatBorderSize\":1,\"fStatFont\":42,\"fStatFontSize\":0,\"fStatStyle\":1001,\"fStatFormat\":\"6.4g\",\"fStatX\":0.98,\"fStatY\":0.935,\"fStatW\":0.2,\"fStatH\":0.16,\"fStripDecimals\":true,\"fTitleAlign\":23,\"fTitleColor\":0,\"fTitleTextColor\":1,\"fTitleBorderSize\":0,\"fTitleFont\":42,\"fTitleFontSize\":0.05,\"fTitleStyle\":0,\"fTitleX\":0.5,\"fTitleY\":0.995,\"fTitleW\":0,\"fTitleH\":0,\"fLegoInnerR\":0.5,\"fLineStyles\":[\"\",\"  \",\" 12 12\",\" 4 8\",\" 12 16 4 16\",\" 20 12 4 12\",\" 20 12 4 12 4 12 4 12\",\" 20 20\",\" 20 12 4 12 4 12\",\" 80 20\",\" 80 40 4 40\",\"  \",\"  \",\"  \",\"  \",\"  \",\"  \",\"  \",\"  \",\"  \",\"  \",\"  \",\"  \",\"  \",\"  \",\"  \",\"  \",\"  \",\"  \",\"  \"],\"fHeaderPS\":\"\",\"fTitlePS\":\"\",\"fFitFormat\":\"5.4g\",\"fPaintTextFormat\":\"g\",\"fLineScalePS\":3,\"fJoinLinePS\":0,\"fCapLinePS\":0,\"fTimeOffset\":788918400,\"fImageScaling\":1}],\"opt\":[\"\",\"colz\",\"blNDC\",\"\"]},\"fExecs\":null,\"fName\":\"c1\",\"fTitle\":\"c1\",\"fNumPaletteColor\":0,\"fNextPaletteColor\":0,\"fDISPLAY\":\"$DISPLAY\",\"fDoubleBuffer\":0,\"fRetained\":true,\"fXsizeUser\":0,\"fYsizeUser\":0,\"fXsizeReal\":20,\"fYsizeReal\":14.28571,\"fWindowTopX\":0,\"fWindowTopY\":0,\"fWindowWidth\":0,\"fWindowHeight\":0,\"fCw\":696,\"fCh\":472,\"fCatt\":{\"_typename\":\"TAttCanvas\",\"fXBetween\":2,\"fYBetween\":2,\"fTitleFromTop\":1.2,\"fXdate\":0.2,\"fYdate\":0.3,\"fAdate\":1},\"kMoveOpaque\":true,\"kResizeOpaque\":true,\"fHighLightColor\":2,\"fBatch\":true,\"kShowEventStatus\":false,\"kAutoExec\":true,\"kMenuBar\":true});\n",
       "   Core.settings.HandleKeys = false;\n",
       "   Core.draw(\"root_plot_1657564437574\", obj, \"\");\n",
       "}\n",
       "\n",
       "function script_load_root_plot_1657564437574(src, on_error) {\n",
       "    let script = document.createElement('script');\n",
       "    script.src = src;\n",
       "    script.onload = function() { display_root_plot_1657564437574(JSROOT); };\n",
       "    script.onerror = function() { script.remove(); on_error(); };\n",
       "    document.head.appendChild(script);\n",
       "}\n",
       "\n",
       "if (typeof requirejs !== 'undefined') {\n",
       "\n",
       "    // We are in jupyter notebooks, use require.js which should be configured already\n",
       "    requirejs.config({\n",
       "       paths: { 'JSRootCore' : [ 'scripts/JSRoot.core', 'https://root.cern/js/6.1.1/scripts/JSRoot.core.min', 'https://jsroot.gsi.de/6.1.1/scripts/JSRoot.core.min' ] }\n",
       "    })(['JSRootCore'],  function(Core) {\n",
       "       display_root_plot_1657564437574(Core);\n",
       "    });\n",
       "\n",
       "} else if (typeof JSROOT !== 'undefined') {\n",
       "\n",
       "   // JSROOT already loaded, just use it\n",
       "   display_root_plot_1657564437574(JSROOT);\n",
       "\n",
       "} else {\n",
       "\n",
       "    // We are in jupyterlab without require.js, directly loading jsroot\n",
       "    // Jupyterlab might be installed in a different base_url so we need to know it.\n",
       "    try {\n",
       "        var base_url = JSON.parse(document.getElementById('jupyter-config-data').innerHTML).baseUrl;\n",
       "    } catch(_) {\n",
       "        var base_url = '/';\n",
       "    }\n",
       "\n",
       "    // Try loading a local version of requirejs and fallback to cdn if not possible.\n",
       "    script_load_root_plot_1657564437574(base_url + 'static/scripts/JSRoot.core.js', function(){\n",
       "        console.error('Fail to load JSROOT locally, please check your jupyter_notebook_config.py file');\n",
       "        script_load_root_plot_1657564437574('https://root.cern/js/6.1.1/scripts/JSRoot.core.min.js', function(){\n",
       "            document.getElementById(\"root_plot_1657564437574\").innerHTML = \"Failed to load JSROOT\";\n",
       "        });\n",
       "    });\n",
       "}\n",
       "\n",
       "</script>\n"
      ],
      "text/plain": [
       "<IPython.core.display.HTML object>"
      ]
     },
     "metadata": {},
     "output_type": "display_data"
    }
   ],
   "source": [
    "h_lep_q2vw_accept.SetTitle(\"Events passing electron acceptance;Energy Transfer (GeV);Q^{2} (GeV/c)^{2}\")\n",
    "h_lep_q2vw_accept.Draw(\"colz\")\n",
    "c.SetLogx()\n",
    "c.SetLogy()\n",
    "c.Draw()"
   ]
  },
  {
   "cell_type": "code",
   "execution_count": 33,
   "metadata": {},
   "outputs": [],
   "source": [
    "#reset canvas to linear scale\n",
    "c.SetLogy(0)\n",
    "c.SetLogx(0)"
   ]
  },
  {
   "cell_type": "code",
   "execution_count": 34,
   "metadata": {},
   "outputs": [],
   "source": [
    "#Make 1D lepton pt histogram for QE, MEC..., but for those passing our lepton acceptance\n",
    "h_lep_pt_QEL = df_gst_GEM21_11b_accept.Filter(\"qel==1\").Histo1D((\"\",\"\",100,0,3.0),\"ptl\")\n",
    "h_lep_pt_MEC = df_gst_GEM21_11b_accept.Filter(\"mec==1\").Histo1D((\"\",\"\",100,0,3.0),\"ptl\")"
   ]
  },
  {
   "cell_type": "code",
   "execution_count": 35,
   "metadata": {},
   "outputs": [
    {
     "data": {
      "text/html": [
       "\n",
       "\n",
       "<div id=\"root_plot_1657564440265\"\n",
       "     style=\"width: 696px; height: 472px\">\n",
       "</div>\n",
       "<script>\n",
       "\n",
       "function display_root_plot_1657564440265(Core) {\n",
       "   let obj = Core.parse({\"_typename\":\"TCanvas\",\"fUniqueID\":0,\"fBits\":3342344,\"fLineColor\":1,\"fLineStyle\":1,\"fLineWidth\":1,\"fFillColor\":0,\"fFillStyle\":1001,\"fLeftMargin\":0.1,\"fRightMargin\":0.1,\"fBottomMargin\":0.1,\"fTopMargin\":0.1,\"fXfile\":2,\"fYfile\":2,\"fAfile\":1,\"fXstat\":0.99,\"fYstat\":0.99,\"fAstat\":2,\"fFrameFillColor\":0,\"fFrameLineColor\":1,\"fFrameFillStyle\":1001,\"fFrameLineStyle\":1,\"fFrameLineWidth\":1,\"fFrameBorderSize\":1,\"fFrameBorderMode\":0,\"fX1\":-0.375000027939679,\"fY1\":-1013.64382552235,\"fX2\":3.37500002793968,\"fY2\":9122.79382552235,\"fXtoAbsPixelk\":69.6000541484835,\"fXtoPixelk\":69.6000541484835,\"fXtoPixel\":185.599997234344,\"fYtoAbsPixelk\":424.800047186661,\"fYtoPixelk\":424.800047186661,\"fYtoPixel\":-0.0465646824110198,\"fUtoAbsPixelk\":5e-5,\"fUtoPixelk\":5e-5,\"fUtoPixel\":696,\"fVtoAbsPixelk\":472.00005,\"fVtoPixelk\":472,\"fVtoPixel\":-472,\"fAbsPixeltoXk\":-0.375000027939679,\"fPixeltoXk\":-0.375000027939679,\"fPixeltoX\":0.00538793111476919,\"fAbsPixeltoYk\":9122.79382552235,\"fPixeltoYk\":-1013.64382552235,\"fPixeltoY\":-21.4755034979761,\"fXlowNDC\":0,\"fYlowNDC\":0,\"fXUpNDC\":1,\"fYUpNDC\":1,\"fWNDC\":1,\"fHNDC\":1,\"fAbsXlowNDC\":0,\"fAbsYlowNDC\":0,\"fAbsWNDC\":1,\"fAbsHNDC\":1,\"fUxmin\":0,\"fUymin\":0,\"fUxmax\":3,\"fUymax\":8109.15,\"fTheta\":30,\"fPhi\":30,\"fAspectRatio\":0,\"fNumber\":0,\"fTickx\":0,\"fTicky\":0,\"fLogx\":0,\"fLogy\":0,\"fLogz\":0,\"fPadPaint\":0,\"fCrosshair\":0,\"fCrosshairPos\":0,\"fBorderSize\":2,\"fBorderMode\":0,\"fModified\":false,\"fGridx\":false,\"fGridy\":false,\"fAbsCoord\":false,\"fEditable\":true,\"fFixedAspectRatio\":false,\"fPrimitives\":{\"_typename\":\"TList\",\"name\":\"TList\",\"arr\":[{\"_typename\":\"TFrame\",\"fUniqueID\":0,\"fBits\":8,\"fLineColor\":1,\"fLineStyle\":1,\"fLineWidth\":1,\"fFillColor\":0,\"fFillStyle\":1001,\"fX1\":0,\"fY1\":0,\"fX2\":3,\"fY2\":8109.15,\"fBorderSize\":1,\"fBorderMode\":0},{\"_typename\":\"TH1D\",\"fUniqueID\":0,\"fBits\":520,\"fName\":\"\",\"fTitle\":\"\",\"fLineColor\":600,\"fLineStyle\":1,\"fLineWidth\":1,\"fFillColor\":0,\"fFillStyle\":1001,\"fMarkerColor\":1,\"fMarkerStyle\":1,\"fMarkerSize\":1,\"fNcells\":102,\"fXaxis\":{\"_typename\":\"TAxis\",\"fUniqueID\":0,\"fBits\":0,\"fName\":\"xaxis\",\"fTitle\":\"\",\"fNdivisions\":510,\"fAxisColor\":1,\"fLabelColor\":1,\"fLabelFont\":42,\"fLabelOffset\":0.005,\"fLabelSize\":0.035,\"fTickLength\":0.03,\"fTitleOffset\":1,\"fTitleSize\":0.035,\"fTitleColor\":1,\"fTitleFont\":42,\"fNbins\":100,\"fXmin\":0,\"fXmax\":3,\"fXbins\":[],\"fFirst\":0,\"fLast\":0,\"fBits2\":0,\"fTimeDisplay\":false,\"fTimeFormat\":\"\",\"fLabels\":null,\"fModLabs\":null},\"fYaxis\":{\"_typename\":\"TAxis\",\"fUniqueID\":0,\"fBits\":0,\"fName\":\"yaxis\",\"fTitle\":\"\",\"fNdivisions\":510,\"fAxisColor\":1,\"fLabelColor\":1,\"fLabelFont\":42,\"fLabelOffset\":0.005,\"fLabelSize\":0.035,\"fTickLength\":0.03,\"fTitleOffset\":0,\"fTitleSize\":0.035,\"fTitleColor\":1,\"fTitleFont\":42,\"fNbins\":1,\"fXmin\":0,\"fXmax\":1,\"fXbins\":[],\"fFirst\":0,\"fLast\":0,\"fBits2\":0,\"fTimeDisplay\":false,\"fTimeFormat\":\"\",\"fLabels\":null,\"fModLabs\":null},\"fZaxis\":{\"_typename\":\"TAxis\",\"fUniqueID\":0,\"fBits\":0,\"fName\":\"zaxis\",\"fTitle\":\"\",\"fNdivisions\":510,\"fAxisColor\":1,\"fLabelColor\":1,\"fLabelFont\":42,\"fLabelOffset\":0.005,\"fLabelSize\":0.035,\"fTickLength\":0.03,\"fTitleOffset\":1,\"fTitleSize\":0.035,\"fTitleColor\":1,\"fTitleFont\":42,\"fNbins\":1,\"fXmin\":0,\"fXmax\":1,\"fXbins\":[],\"fFirst\":0,\"fLast\":0,\"fBits2\":0,\"fTimeDisplay\":false,\"fTimeFormat\":\"\",\"fLabels\":null,\"fModLabs\":null},\"fBarOffset\":0,\"fBarWidth\":1000,\"fEntries\":40657,\"fTsumw\":40657,\"fTsumw2\":40657,\"fTsumwx\":21075.4756804931,\"fTsumwx2\":11485.676669168,\"fMaximum\":-1111,\"fMinimum\":-1111,\"fNormFactor\":0,\"fContour\":[],\"fSumw2\":[],\"fOption\":\"\",\"fFunctions\":{\"_typename\":\"TList\",\"name\":\"TList\",\"arr\":[],\"opt\":[]},\"fBufferSize\":0,\"fBuffer\":[],\"fBinStatErrOpt\":0,\"fStatOverflows\":2,\"fArray\":{\"$arr\":\"Float64\",\"len\":102,\"p\":14,\"v\":[6425,7723,5946,4445,3594,2752,2147,1733,1317,969,775,645,479,389,304,217,188,154,127,100,59,46,40,21,15,20,9,8,5,5]}},{\"_typename\":\"TH1D\",\"fUniqueID\":0,\"fBits\":520,\"fName\":\"\",\"fTitle\":\"\",\"fLineColor\":632,\"fLineStyle\":1,\"fLineWidth\":1,\"fFillColor\":0,\"fFillStyle\":1001,\"fMarkerColor\":1,\"fMarkerStyle\":1,\"fMarkerSize\":1,\"fNcells\":102,\"fXaxis\":{\"_typename\":\"TAxis\",\"fUniqueID\":0,\"fBits\":0,\"fName\":\"xaxis\",\"fTitle\":\"\",\"fNdivisions\":510,\"fAxisColor\":1,\"fLabelColor\":1,\"fLabelFont\":42,\"fLabelOffset\":0.005,\"fLabelSize\":0.035,\"fTickLength\":0.03,\"fTitleOffset\":1,\"fTitleSize\":0.035,\"fTitleColor\":1,\"fTitleFont\":42,\"fNbins\":100,\"fXmin\":0,\"fXmax\":3,\"fXbins\":[],\"fFirst\":0,\"fLast\":0,\"fBits2\":0,\"fTimeDisplay\":false,\"fTimeFormat\":\"\",\"fLabels\":null,\"fModLabs\":null},\"fYaxis\":{\"_typename\":\"TAxis\",\"fUniqueID\":0,\"fBits\":0,\"fName\":\"yaxis\",\"fTitle\":\"\",\"fNdivisions\":510,\"fAxisColor\":1,\"fLabelColor\":1,\"fLabelFont\":42,\"fLabelOffset\":0.005,\"fLabelSize\":0.035,\"fTickLength\":0.03,\"fTitleOffset\":0,\"fTitleSize\":0.035,\"fTitleColor\":1,\"fTitleFont\":42,\"fNbins\":1,\"fXmin\":0,\"fXmax\":1,\"fXbins\":[],\"fFirst\":0,\"fLast\":0,\"fBits2\":0,\"fTimeDisplay\":false,\"fTimeFormat\":\"\",\"fLabels\":null,\"fModLabs\":null},\"fZaxis\":{\"_typename\":\"TAxis\",\"fUniqueID\":0,\"fBits\":0,\"fName\":\"zaxis\",\"fTitle\":\"\",\"fNdivisions\":510,\"fAxisColor\":1,\"fLabelColor\":1,\"fLabelFont\":42,\"fLabelOffset\":0.005,\"fLabelSize\":0.035,\"fTickLength\":0.03,\"fTitleOffset\":1,\"fTitleSize\":0.035,\"fTitleColor\":1,\"fTitleFont\":42,\"fNbins\":1,\"fXmin\":0,\"fXmax\":1,\"fXbins\":[],\"fFirst\":0,\"fLast\":0,\"fBits2\":0,\"fTimeDisplay\":false,\"fTimeFormat\":\"\",\"fLabels\":null,\"fModLabs\":null},\"fBarOffset\":0,\"fBarWidth\":1000,\"fEntries\":11254,\"fTsumw\":11254,\"fTsumw2\":11254,\"fTsumwx\":5877.63369589579,\"fTsumwx2\":3220.29415979159,\"fMaximum\":-1111,\"fMinimum\":-1111,\"fNormFactor\":0,\"fContour\":[],\"fSumw2\":[],\"fOption\":\"\",\"fFunctions\":{\"_typename\":\"TList\",\"name\":\"TList\",\"arr\":[],\"opt\":[]},\"fBufferSize\":0,\"fBuffer\":[],\"fBinStatErrOpt\":0,\"fStatOverflows\":2,\"fArray\":{\"$arr\":\"Float64\",\"len\":102,\"p\":14,\"v\":[1595,2093,1640,1233,1035,806,592,486,387,321,263,202,136,118,95,76,52,29,21,21,15,10,10,5,2,8,1,0,2]}},{\"_typename\":\"TStyle\",\"fUniqueID\":0,\"fBits\":0,\"fName\":\"Modern\",\"fTitle\":\"Modern Style\",\"fLineColor\":1,\"fLineStyle\":1,\"fLineWidth\":1,\"fFillColor\":19,\"fFillStyle\":1001,\"fMarkerColor\":1,\"fMarkerStyle\":1,\"fMarkerSize\":1,\"fTextAngle\":0,\"fTextSize\":0.05,\"fTextAlign\":11,\"fTextColor\":1,\"fTextFont\":62,\"fXaxis\":{\"_typename\":\"TAttAxis\",\"fNdivisions\":510,\"fAxisColor\":1,\"fLabelColor\":1,\"fLabelFont\":42,\"fLabelOffset\":0.005,\"fLabelSize\":0.035,\"fTickLength\":0.03,\"fTitleOffset\":1,\"fTitleSize\":0.035,\"fTitleColor\":1,\"fTitleFont\":42},\"fYaxis\":{\"_typename\":\"TAttAxis\",\"fNdivisions\":510,\"fAxisColor\":1,\"fLabelColor\":1,\"fLabelFont\":42,\"fLabelOffset\":0.005,\"fLabelSize\":0.035,\"fTickLength\":0.03,\"fTitleOffset\":0,\"fTitleSize\":0.035,\"fTitleColor\":1,\"fTitleFont\":42},\"fZaxis\":{\"_typename\":\"TAttAxis\",\"fNdivisions\":510,\"fAxisColor\":1,\"fLabelColor\":1,\"fLabelFont\":42,\"fLabelOffset\":0.005,\"fLabelSize\":0.035,\"fTickLength\":0.03,\"fTitleOffset\":1,\"fTitleSize\":0.035,\"fTitleColor\":1,\"fTitleFont\":42},\"fBarWidth\":1,\"fBarOffset\":0,\"fColorModelPS\":0,\"fDrawBorder\":0,\"fOptLogx\":0,\"fOptLogy\":0,\"fOptLogz\":0,\"fOptDate\":0,\"fOptStat\":0,\"fOptTitle\":1,\"fOptFile\":0,\"fOptFit\":0,\"fShowEventStatus\":0,\"fShowEditor\":0,\"fShowToolBar\":0,\"fNumberContours\":20,\"fAttDate\":{\"_typename\":\"TAttText\",\"fTextAngle\":0,\"fTextSize\":0.025,\"fTextAlign\":11,\"fTextColor\":1,\"fTextFont\":62},\"fDateX\":0.01,\"fDateY\":0.01,\"fEndErrorSize\":2,\"fErrorX\":0.5,\"fFuncColor\":2,\"fFuncStyle\":1,\"fFuncWidth\":2,\"fGridColor\":0,\"fGridStyle\":3,\"fGridWidth\":1,\"fLegendBorderSize\":1,\"fLegendFillColor\":0,\"fLegendFont\":42,\"fLegendTextSize\":0,\"fHatchesLineWidth\":1,\"fHatchesSpacing\":1,\"fFrameFillColor\":0,\"fFrameLineColor\":1,\"fFrameFillStyle\":1001,\"fFrameLineStyle\":1,\"fFrameLineWidth\":1,\"fFrameBorderSize\":1,\"fFrameBorderMode\":0,\"fHistFillColor\":0,\"fHistLineColor\":602,\"fHistFillStyle\":1001,\"fHistLineStyle\":1,\"fHistLineWidth\":1,\"fHistMinimumZero\":false,\"fHistTopMargin\":0.05,\"fCanvasPreferGL\":false,\"fCanvasColor\":0,\"fCanvasBorderSize\":2,\"fCanvasBorderMode\":0,\"fCanvasDefH\":500,\"fCanvasDefW\":700,\"fCanvasDefX\":10,\"fCanvasDefY\":10,\"fPadColor\":0,\"fPadBorderSize\":2,\"fPadBorderMode\":0,\"fPadBottomMargin\":0.1,\"fPadTopMargin\":0.1,\"fPadLeftMargin\":0.1,\"fPadRightMargin\":0.1,\"fPadGridX\":false,\"fPadGridY\":false,\"fPadTickX\":0,\"fPadTickY\":0,\"fPaperSizeX\":20,\"fPaperSizeY\":26,\"fScreenFactor\":1,\"fStatColor\":0,\"fStatTextColor\":1,\"fStatBorderSize\":1,\"fStatFont\":42,\"fStatFontSize\":0,\"fStatStyle\":1001,\"fStatFormat\":\"6.4g\",\"fStatX\":0.98,\"fStatY\":0.935,\"fStatW\":0.2,\"fStatH\":0.16,\"fStripDecimals\":true,\"fTitleAlign\":23,\"fTitleColor\":0,\"fTitleTextColor\":1,\"fTitleBorderSize\":0,\"fTitleFont\":42,\"fTitleFontSize\":0.05,\"fTitleStyle\":0,\"fTitleX\":0.5,\"fTitleY\":0.995,\"fTitleW\":0,\"fTitleH\":0,\"fLegoInnerR\":0.5,\"fLineStyles\":[\"\",\"  \",\" 12 12\",\" 4 8\",\" 12 16 4 16\",\" 20 12 4 12\",\" 20 12 4 12 4 12 4 12\",\" 20 20\",\" 20 12 4 12 4 12\",\" 80 20\",\" 80 40 4 40\",\"  \",\"  \",\"  \",\"  \",\"  \",\"  \",\"  \",\"  \",\"  \",\"  \",\"  \",\"  \",\"  \",\"  \",\"  \",\"  \",\"  \",\"  \",\"  \"],\"fHeaderPS\":\"\",\"fTitlePS\":\"\",\"fFitFormat\":\"5.4g\",\"fPaintTextFormat\":\"g\",\"fLineScalePS\":3,\"fJoinLinePS\":0,\"fCapLinePS\":0,\"fTimeOffset\":788918400,\"fImageScaling\":1}],\"opt\":[\"\",\"\",\"same\",\"\"]},\"fExecs\":null,\"fName\":\"c1\",\"fTitle\":\"c1\",\"fNumPaletteColor\":0,\"fNextPaletteColor\":0,\"fDISPLAY\":\"$DISPLAY\",\"fDoubleBuffer\":0,\"fRetained\":true,\"fXsizeUser\":0,\"fYsizeUser\":0,\"fXsizeReal\":20,\"fYsizeReal\":14.28571,\"fWindowTopX\":0,\"fWindowTopY\":0,\"fWindowWidth\":0,\"fWindowHeight\":0,\"fCw\":696,\"fCh\":472,\"fCatt\":{\"_typename\":\"TAttCanvas\",\"fXBetween\":2,\"fYBetween\":2,\"fTitleFromTop\":1.2,\"fXdate\":0.2,\"fYdate\":0.3,\"fAdate\":1},\"kMoveOpaque\":true,\"kResizeOpaque\":true,\"fHighLightColor\":2,\"fBatch\":true,\"kShowEventStatus\":false,\"kAutoExec\":true,\"kMenuBar\":true});\n",
       "   Core.settings.HandleKeys = false;\n",
       "   Core.draw(\"root_plot_1657564440265\", obj, \"\");\n",
       "}\n",
       "\n",
       "function script_load_root_plot_1657564440265(src, on_error) {\n",
       "    let script = document.createElement('script');\n",
       "    script.src = src;\n",
       "    script.onload = function() { display_root_plot_1657564440265(JSROOT); };\n",
       "    script.onerror = function() { script.remove(); on_error(); };\n",
       "    document.head.appendChild(script);\n",
       "}\n",
       "\n",
       "if (typeof requirejs !== 'undefined') {\n",
       "\n",
       "    // We are in jupyter notebooks, use require.js which should be configured already\n",
       "    requirejs.config({\n",
       "       paths: { 'JSRootCore' : [ 'scripts/JSRoot.core', 'https://root.cern/js/6.1.1/scripts/JSRoot.core.min', 'https://jsroot.gsi.de/6.1.1/scripts/JSRoot.core.min' ] }\n",
       "    })(['JSRootCore'],  function(Core) {\n",
       "       display_root_plot_1657564440265(Core);\n",
       "    });\n",
       "\n",
       "} else if (typeof JSROOT !== 'undefined') {\n",
       "\n",
       "   // JSROOT already loaded, just use it\n",
       "   display_root_plot_1657564440265(JSROOT);\n",
       "\n",
       "} else {\n",
       "\n",
       "    // We are in jupyterlab without require.js, directly loading jsroot\n",
       "    // Jupyterlab might be installed in a different base_url so we need to know it.\n",
       "    try {\n",
       "        var base_url = JSON.parse(document.getElementById('jupyter-config-data').innerHTML).baseUrl;\n",
       "    } catch(_) {\n",
       "        var base_url = '/';\n",
       "    }\n",
       "\n",
       "    // Try loading a local version of requirejs and fallback to cdn if not possible.\n",
       "    script_load_root_plot_1657564440265(base_url + 'static/scripts/JSRoot.core.js', function(){\n",
       "        console.error('Fail to load JSROOT locally, please check your jupyter_notebook_config.py file');\n",
       "        script_load_root_plot_1657564440265('https://root.cern/js/6.1.1/scripts/JSRoot.core.min.js', function(){\n",
       "            document.getElementById(\"root_plot_1657564440265\").innerHTML = \"Failed to load JSROOT\";\n",
       "        });\n",
       "    });\n",
       "}\n",
       "\n",
       "</script>\n"
      ],
      "text/plain": [
       "<IPython.core.display.HTML object>"
      ]
     },
     "metadata": {},
     "output_type": "display_data"
    }
   ],
   "source": [
    "h_lep_pt_QEL.SetLineColor(ROOT.kBlue)\n",
    "h_lep_pt_MEC.SetLineColor(ROOT.kRed)\n",
    "h_lep_pt_QEL.Draw()\n",
    "h_lep_pt_MEC.Draw(\"same\")\n",
    "c.Draw()"
   ]
  },
  {
   "cell_type": "code",
   "execution_count": 36,
   "metadata": {},
   "outputs": [],
   "source": [
    "#Make plot of KE for all protons\n",
    "#we can select the protons based on the pdg code\n",
    "\n",
    "h_kef_p_all = df_gst_GEM21_11b_all.Histo1D((\"\",\"\",100,0,1.0),\"kef_proton\")"
   ]
  },
  {
   "cell_type": "code",
   "execution_count": 37,
   "metadata": {},
   "outputs": [
    {
     "data": {
      "text/html": [
       "\n",
       "\n",
       "<div id=\"root_plot_1657564443716\"\n",
       "     style=\"width: 696px; height: 472px\">\n",
       "</div>\n",
       "<script>\n",
       "\n",
       "function display_root_plot_1657564443716(Core) {\n",
       "   let obj = Core.parse({\"_typename\":\"TCanvas\",\"fUniqueID\":0,\"fBits\":3342344,\"fLineColor\":1,\"fLineStyle\":1,\"fLineWidth\":1,\"fFillColor\":0,\"fFillStyle\":1001,\"fLeftMargin\":0.1,\"fRightMargin\":0.1,\"fBottomMargin\":0.1,\"fTopMargin\":0.1,\"fXfile\":2,\"fYfile\":2,\"fAfile\":1,\"fXstat\":0.99,\"fYstat\":0.99,\"fAstat\":2,\"fFrameFillColor\":0,\"fFrameLineColor\":1,\"fFrameFillStyle\":1001,\"fFrameLineStyle\":1,\"fFrameLineWidth\":1,\"fFrameBorderSize\":1,\"fFrameBorderMode\":0,\"fX1\":-0.125000009313226,\"fY1\":-50427.3037571269,\"fX2\":1.12500000931323,\"fY2\":453845.703757127,\"fXtoAbsPixelk\":69.6000541484835,\"fXtoPixelk\":69.6000541484835,\"fXtoPixel\":556.799991703033,\"fYtoAbsPixelk\":424.800047186661,\"fYtoPixelk\":424.800047186661,\"fYtoPixel\":-9.36000922053435e-4,\"fUtoAbsPixelk\":5e-5,\"fUtoPixelk\":5e-5,\"fUtoPixel\":696,\"fVtoAbsPixelk\":472.00005,\"fVtoPixelk\":472,\"fVtoPixel\":-472,\"fAbsPixeltoXk\":-0.125000009313226,\"fPixeltoXk\":-0.125000009313226,\"fPixeltoX\":0.0017959770382564,\"fAbsPixeltoYk\":453845.703757127,\"fPixeltoYk\":-50427.3037571269,\"fPixeltoY\":-1068.37501592003,\"fXlowNDC\":0,\"fYlowNDC\":0,\"fXUpNDC\":1,\"fYUpNDC\":1,\"fWNDC\":1,\"fHNDC\":1,\"fAbsXlowNDC\":0,\"fAbsYlowNDC\":0,\"fAbsWNDC\":1,\"fAbsHNDC\":1,\"fUxmin\":0,\"fUymin\":0,\"fUxmax\":1,\"fUymax\":403418.4,\"fTheta\":30,\"fPhi\":30,\"fAspectRatio\":0,\"fNumber\":0,\"fTickx\":0,\"fTicky\":0,\"fLogx\":0,\"fLogy\":0,\"fLogz\":0,\"fPadPaint\":0,\"fCrosshair\":0,\"fCrosshairPos\":0,\"fBorderSize\":2,\"fBorderMode\":0,\"fModified\":false,\"fGridx\":false,\"fGridy\":false,\"fAbsCoord\":false,\"fEditable\":true,\"fFixedAspectRatio\":false,\"fPrimitives\":{\"_typename\":\"TList\",\"name\":\"TList\",\"arr\":[{\"_typename\":\"TFrame\",\"fUniqueID\":0,\"fBits\":8,\"fLineColor\":1,\"fLineStyle\":1,\"fLineWidth\":1,\"fFillColor\":0,\"fFillStyle\":1001,\"fX1\":0,\"fY1\":0,\"fX2\":1,\"fY2\":403418.4,\"fBorderSize\":1,\"fBorderMode\":0},{\"_typename\":\"TH1D\",\"fUniqueID\":0,\"fBits\":520,\"fName\":\"\",\"fTitle\":\"\",\"fLineColor\":602,\"fLineStyle\":1,\"fLineWidth\":1,\"fFillColor\":0,\"fFillStyle\":1001,\"fMarkerColor\":1,\"fMarkerStyle\":1,\"fMarkerSize\":1,\"fNcells\":102,\"fXaxis\":{\"_typename\":\"TAxis\",\"fUniqueID\":0,\"fBits\":0,\"fName\":\"xaxis\",\"fTitle\":\"\",\"fNdivisions\":510,\"fAxisColor\":1,\"fLabelColor\":1,\"fLabelFont\":42,\"fLabelOffset\":0.005,\"fLabelSize\":0.035,\"fTickLength\":0.03,\"fTitleOffset\":1,\"fTitleSize\":0.035,\"fTitleColor\":1,\"fTitleFont\":42,\"fNbins\":100,\"fXmin\":0,\"fXmax\":1,\"fXbins\":[],\"fFirst\":0,\"fLast\":0,\"fBits2\":0,\"fTimeDisplay\":false,\"fTimeFormat\":\"\",\"fLabels\":null,\"fModLabs\":null},\"fYaxis\":{\"_typename\":\"TAxis\",\"fUniqueID\":0,\"fBits\":0,\"fName\":\"yaxis\",\"fTitle\":\"\",\"fNdivisions\":510,\"fAxisColor\":1,\"fLabelColor\":1,\"fLabelFont\":42,\"fLabelOffset\":0.005,\"fLabelSize\":0.035,\"fTickLength\":0.03,\"fTitleOffset\":0,\"fTitleSize\":0.035,\"fTitleColor\":1,\"fTitleFont\":42,\"fNbins\":1,\"fXmin\":0,\"fXmax\":1,\"fXbins\":[],\"fFirst\":0,\"fLast\":0,\"fBits2\":0,\"fTimeDisplay\":false,\"fTimeFormat\":\"\",\"fLabels\":null,\"fModLabs\":null},\"fZaxis\":{\"_typename\":\"TAxis\",\"fUniqueID\":0,\"fBits\":0,\"fName\":\"zaxis\",\"fTitle\":\"\",\"fNdivisions\":510,\"fAxisColor\":1,\"fLabelColor\":1,\"fLabelFont\":42,\"fLabelOffset\":0.005,\"fLabelSize\":0.035,\"fTickLength\":0.03,\"fTitleOffset\":1,\"fTitleSize\":0.035,\"fTitleColor\":1,\"fTitleFont\":42,\"fNbins\":1,\"fXmin\":0,\"fXmax\":1,\"fXbins\":[],\"fFirst\":0,\"fLast\":0,\"fBits2\":0,\"fTimeDisplay\":false,\"fTimeFormat\":\"\",\"fLabels\":null,\"fModLabs\":null},\"fBarOffset\":0,\"fBarWidth\":1000,\"fEntries\":2035014,\"fTsumw\":2029944,\"fTsumw2\":2029944,\"fTsumwx\":128504.308310098,\"fTsumwx2\":26580.141425836,\"fMaximum\":-1111,\"fMinimum\":-1111,\"fNormFactor\":0,\"fContour\":[],\"fSumw2\":[],\"fOption\":\"\",\"fFunctions\":{\"_typename\":\"TList\",\"name\":\"TList\",\"arr\":[],\"opt\":[]},\"fBufferSize\":0,\"fBuffer\":[],\"fBinStatErrOpt\":0,\"fStatOverflows\":2,\"fArray\":{\"$arr\":\"Float64\",\"len\":102,\"p\":1,\"v\":[379196,384208,259978,148445,128865,109115,89050,72960,60294,49050,38594,30592,25463,22284,20418,18149,16734,15011,13768,12442,11273,10402,9179,8338,7482,6791,6119,5417,4959,4502,3972,3656,3226,3048,2727,2501,2454,2267,1992,1987,1818,1600,1507,1357,1356,1262,1218,1112,1052,969,1033,925,904,880,755,761,747,695,665,607,599,581,502,500,441,478,438,444,422,401,390,344,349,331,325,336,284,272,295,274,262,240,231,269,239,188,214,200,197,197,152,167,167,183,153,154,150,146,154,144,5070]}},{\"_typename\":\"TStyle\",\"fUniqueID\":0,\"fBits\":0,\"fName\":\"Modern\",\"fTitle\":\"Modern Style\",\"fLineColor\":1,\"fLineStyle\":1,\"fLineWidth\":1,\"fFillColor\":19,\"fFillStyle\":1001,\"fMarkerColor\":1,\"fMarkerStyle\":1,\"fMarkerSize\":1,\"fTextAngle\":0,\"fTextSize\":0.05,\"fTextAlign\":11,\"fTextColor\":1,\"fTextFont\":62,\"fXaxis\":{\"_typename\":\"TAttAxis\",\"fNdivisions\":510,\"fAxisColor\":1,\"fLabelColor\":1,\"fLabelFont\":42,\"fLabelOffset\":0.005,\"fLabelSize\":0.035,\"fTickLength\":0.03,\"fTitleOffset\":1,\"fTitleSize\":0.035,\"fTitleColor\":1,\"fTitleFont\":42},\"fYaxis\":{\"_typename\":\"TAttAxis\",\"fNdivisions\":510,\"fAxisColor\":1,\"fLabelColor\":1,\"fLabelFont\":42,\"fLabelOffset\":0.005,\"fLabelSize\":0.035,\"fTickLength\":0.03,\"fTitleOffset\":0,\"fTitleSize\":0.035,\"fTitleColor\":1,\"fTitleFont\":42},\"fZaxis\":{\"_typename\":\"TAttAxis\",\"fNdivisions\":510,\"fAxisColor\":1,\"fLabelColor\":1,\"fLabelFont\":42,\"fLabelOffset\":0.005,\"fLabelSize\":0.035,\"fTickLength\":0.03,\"fTitleOffset\":1,\"fTitleSize\":0.035,\"fTitleColor\":1,\"fTitleFont\":42},\"fBarWidth\":1,\"fBarOffset\":0,\"fColorModelPS\":0,\"fDrawBorder\":0,\"fOptLogx\":0,\"fOptLogy\":0,\"fOptLogz\":0,\"fOptDate\":0,\"fOptStat\":0,\"fOptTitle\":1,\"fOptFile\":0,\"fOptFit\":0,\"fShowEventStatus\":0,\"fShowEditor\":0,\"fShowToolBar\":0,\"fNumberContours\":20,\"fAttDate\":{\"_typename\":\"TAttText\",\"fTextAngle\":0,\"fTextSize\":0.025,\"fTextAlign\":11,\"fTextColor\":1,\"fTextFont\":62},\"fDateX\":0.01,\"fDateY\":0.01,\"fEndErrorSize\":2,\"fErrorX\":0.5,\"fFuncColor\":2,\"fFuncStyle\":1,\"fFuncWidth\":2,\"fGridColor\":0,\"fGridStyle\":3,\"fGridWidth\":1,\"fLegendBorderSize\":1,\"fLegendFillColor\":0,\"fLegendFont\":42,\"fLegendTextSize\":0,\"fHatchesLineWidth\":1,\"fHatchesSpacing\":1,\"fFrameFillColor\":0,\"fFrameLineColor\":1,\"fFrameFillStyle\":1001,\"fFrameLineStyle\":1,\"fFrameLineWidth\":1,\"fFrameBorderSize\":1,\"fFrameBorderMode\":0,\"fHistFillColor\":0,\"fHistLineColor\":602,\"fHistFillStyle\":1001,\"fHistLineStyle\":1,\"fHistLineWidth\":1,\"fHistMinimumZero\":false,\"fHistTopMargin\":0.05,\"fCanvasPreferGL\":false,\"fCanvasColor\":0,\"fCanvasBorderSize\":2,\"fCanvasBorderMode\":0,\"fCanvasDefH\":500,\"fCanvasDefW\":700,\"fCanvasDefX\":10,\"fCanvasDefY\":10,\"fPadColor\":0,\"fPadBorderSize\":2,\"fPadBorderMode\":0,\"fPadBottomMargin\":0.1,\"fPadTopMargin\":0.1,\"fPadLeftMargin\":0.1,\"fPadRightMargin\":0.1,\"fPadGridX\":false,\"fPadGridY\":false,\"fPadTickX\":0,\"fPadTickY\":0,\"fPaperSizeX\":20,\"fPaperSizeY\":26,\"fScreenFactor\":1,\"fStatColor\":0,\"fStatTextColor\":1,\"fStatBorderSize\":1,\"fStatFont\":42,\"fStatFontSize\":0,\"fStatStyle\":1001,\"fStatFormat\":\"6.4g\",\"fStatX\":0.98,\"fStatY\":0.935,\"fStatW\":0.2,\"fStatH\":0.16,\"fStripDecimals\":true,\"fTitleAlign\":23,\"fTitleColor\":0,\"fTitleTextColor\":1,\"fTitleBorderSize\":0,\"fTitleFont\":42,\"fTitleFontSize\":0.05,\"fTitleStyle\":0,\"fTitleX\":0.5,\"fTitleY\":0.995,\"fTitleW\":0,\"fTitleH\":0,\"fLegoInnerR\":0.5,\"fLineStyles\":[\"\",\"  \",\" 12 12\",\" 4 8\",\" 12 16 4 16\",\" 20 12 4 12\",\" 20 12 4 12 4 12 4 12\",\" 20 20\",\" 20 12 4 12 4 12\",\" 80 20\",\" 80 40 4 40\",\"  \",\"  \",\"  \",\"  \",\"  \",\"  \",\"  \",\"  \",\"  \",\"  \",\"  \",\"  \",\"  \",\"  \",\"  \",\"  \",\"  \",\"  \",\"  \"],\"fHeaderPS\":\"\",\"fTitlePS\":\"\",\"fFitFormat\":\"5.4g\",\"fPaintTextFormat\":\"g\",\"fLineScalePS\":3,\"fJoinLinePS\":0,\"fCapLinePS\":0,\"fTimeOffset\":788918400,\"fImageScaling\":1}],\"opt\":[\"\",\"\",\"\"]},\"fExecs\":null,\"fName\":\"c1\",\"fTitle\":\"c1\",\"fNumPaletteColor\":0,\"fNextPaletteColor\":0,\"fDISPLAY\":\"$DISPLAY\",\"fDoubleBuffer\":0,\"fRetained\":true,\"fXsizeUser\":0,\"fYsizeUser\":0,\"fXsizeReal\":20,\"fYsizeReal\":14.28571,\"fWindowTopX\":0,\"fWindowTopY\":0,\"fWindowWidth\":0,\"fWindowHeight\":0,\"fCw\":696,\"fCh\":472,\"fCatt\":{\"_typename\":\"TAttCanvas\",\"fXBetween\":2,\"fYBetween\":2,\"fTitleFromTop\":1.2,\"fXdate\":0.2,\"fYdate\":0.3,\"fAdate\":1},\"kMoveOpaque\":true,\"kResizeOpaque\":true,\"fHighLightColor\":2,\"fBatch\":true,\"kShowEventStatus\":false,\"kAutoExec\":true,\"kMenuBar\":true});\n",
       "   Core.settings.HandleKeys = false;\n",
       "   Core.draw(\"root_plot_1657564443716\", obj, \"\");\n",
       "}\n",
       "\n",
       "function script_load_root_plot_1657564443716(src, on_error) {\n",
       "    let script = document.createElement('script');\n",
       "    script.src = src;\n",
       "    script.onload = function() { display_root_plot_1657564443716(JSROOT); };\n",
       "    script.onerror = function() { script.remove(); on_error(); };\n",
       "    document.head.appendChild(script);\n",
       "}\n",
       "\n",
       "if (typeof requirejs !== 'undefined') {\n",
       "\n",
       "    // We are in jupyter notebooks, use require.js which should be configured already\n",
       "    requirejs.config({\n",
       "       paths: { 'JSRootCore' : [ 'scripts/JSRoot.core', 'https://root.cern/js/6.1.1/scripts/JSRoot.core.min', 'https://jsroot.gsi.de/6.1.1/scripts/JSRoot.core.min' ] }\n",
       "    })(['JSRootCore'],  function(Core) {\n",
       "       display_root_plot_1657564443716(Core);\n",
       "    });\n",
       "\n",
       "} else if (typeof JSROOT !== 'undefined') {\n",
       "\n",
       "   // JSROOT already loaded, just use it\n",
       "   display_root_plot_1657564443716(JSROOT);\n",
       "\n",
       "} else {\n",
       "\n",
       "    // We are in jupyterlab without require.js, directly loading jsroot\n",
       "    // Jupyterlab might be installed in a different base_url so we need to know it.\n",
       "    try {\n",
       "        var base_url = JSON.parse(document.getElementById('jupyter-config-data').innerHTML).baseUrl;\n",
       "    } catch(_) {\n",
       "        var base_url = '/';\n",
       "    }\n",
       "\n",
       "    // Try loading a local version of requirejs and fallback to cdn if not possible.\n",
       "    script_load_root_plot_1657564443716(base_url + 'static/scripts/JSRoot.core.js', function(){\n",
       "        console.error('Fail to load JSROOT locally, please check your jupyter_notebook_config.py file');\n",
       "        script_load_root_plot_1657564443716('https://root.cern/js/6.1.1/scripts/JSRoot.core.min.js', function(){\n",
       "            document.getElementById(\"root_plot_1657564443716\").innerHTML = \"Failed to load JSROOT\";\n",
       "        });\n",
       "    });\n",
       "}\n",
       "\n",
       "</script>\n"
      ],
      "text/plain": [
       "<IPython.core.display.HTML object>"
      ]
     },
     "metadata": {},
     "output_type": "display_data"
    }
   ],
   "source": [
    "h_kef_p_all.Draw()\n",
    "c.Draw()"
   ]
  },
  {
   "cell_type": "code",
   "execution_count": 38,
   "metadata": {},
   "outputs": [],
   "source": [
    "#Make plot of KE for leading proton\n",
    "\n",
    "#Now instead of plotting for all protons, we can plot for just the 'leading' (most energetic) proton\n",
    "h_kef_p_max = df_gst_GEM21_11b_all.Define(\"kef_proton_max\",\"Max(kef[pdgf==2212])\").Histo1D((\"\",\"\",100,0,1.0),\"kef_proton_max\")"
   ]
  },
  {
   "cell_type": "code",
   "execution_count": 39,
   "metadata": {},
   "outputs": [
    {
     "data": {
      "text/html": [
       "\n",
       "\n",
       "<div id=\"root_plot_1657564446536\"\n",
       "     style=\"width: 696px; height: 472px\">\n",
       "</div>\n",
       "<script>\n",
       "\n",
       "function display_root_plot_1657564446536(Core) {\n",
       "   let obj = Core.parse({\"_typename\":\"TCanvas\",\"fUniqueID\":0,\"fBits\":3342344,\"fLineColor\":1,\"fLineStyle\":1,\"fLineWidth\":1,\"fFillColor\":0,\"fFillStyle\":1001,\"fLeftMargin\":0.1,\"fRightMargin\":0.1,\"fBottomMargin\":0.1,\"fTopMargin\":0.1,\"fXfile\":2,\"fYfile\":2,\"fAfile\":1,\"fXstat\":0.99,\"fYstat\":0.99,\"fAstat\":2,\"fFrameFillColor\":0,\"fFrameLineColor\":1,\"fFrameFillStyle\":1001,\"fFrameLineStyle\":1,\"fFrameLineWidth\":1,\"fFrameBorderSize\":1,\"fFrameBorderMode\":0,\"fX1\":-0.125000009313226,\"fY1\":-35909.6089254743,\"fX2\":1.12500000931323,\"fY2\":323186.458925474,\"fXtoAbsPixelk\":69.6000541484835,\"fXtoPixelk\":69.6000541484835,\"fXtoPixel\":556.799991703033,\"fYtoAbsPixelk\":424.800047186661,\"fYtoPixelk\":424.800047186661,\"fYtoPixel\":-0.00131441149669151,\"fUtoAbsPixelk\":5e-5,\"fUtoPixelk\":5e-5,\"fUtoPixel\":696,\"fVtoAbsPixelk\":472.00005,\"fVtoPixelk\":472,\"fVtoPixel\":-472,\"fAbsPixeltoXk\":-0.125000009313226,\"fPixeltoXk\":-0.125000009313226,\"fPixeltoX\":0.0017959770382564,\"fAbsPixeltoYk\":323186.458925474,\"fPixeltoYk\":-35909.6089254743,\"fPixeltoY\":-760.796753921501,\"fXlowNDC\":0,\"fYlowNDC\":0,\"fXUpNDC\":1,\"fYUpNDC\":1,\"fWNDC\":1,\"fHNDC\":1,\"fAbsXlowNDC\":0,\"fAbsYlowNDC\":0,\"fAbsWNDC\":1,\"fAbsHNDC\":1,\"fUxmin\":0,\"fUymin\":0,\"fUxmax\":1,\"fUymax\":287276.85,\"fTheta\":30,\"fPhi\":30,\"fAspectRatio\":0,\"fNumber\":0,\"fTickx\":0,\"fTicky\":0,\"fLogx\":0,\"fLogy\":0,\"fLogz\":0,\"fPadPaint\":0,\"fCrosshair\":0,\"fCrosshairPos\":0,\"fBorderSize\":2,\"fBorderMode\":0,\"fModified\":false,\"fGridx\":false,\"fGridy\":false,\"fAbsCoord\":false,\"fEditable\":true,\"fFixedAspectRatio\":false,\"fPrimitives\":{\"_typename\":\"TList\",\"name\":\"TList\",\"arr\":[{\"_typename\":\"TFrame\",\"fUniqueID\":0,\"fBits\":8,\"fLineColor\":1,\"fLineStyle\":1,\"fLineWidth\":1,\"fFillColor\":0,\"fFillStyle\":1001,\"fX1\":0,\"fY1\":0,\"fX2\":1,\"fY2\":287276.85,\"fBorderSize\":1,\"fBorderMode\":0},{\"_typename\":\"TH1D\",\"fUniqueID\":0,\"fBits\":520,\"fName\":\"\",\"fTitle\":\"\",\"fLineColor\":602,\"fLineStyle\":1,\"fLineWidth\":1,\"fFillColor\":0,\"fFillStyle\":1001,\"fMarkerColor\":1,\"fMarkerStyle\":1,\"fMarkerSize\":1,\"fNcells\":102,\"fXaxis\":{\"_typename\":\"TAxis\",\"fUniqueID\":0,\"fBits\":0,\"fName\":\"xaxis\",\"fTitle\":\"\",\"fNdivisions\":510,\"fAxisColor\":1,\"fLabelColor\":1,\"fLabelFont\":42,\"fLabelOffset\":0.005,\"fLabelSize\":0.035,\"fTickLength\":0.03,\"fTitleOffset\":1,\"fTitleSize\":0.035,\"fTitleColor\":1,\"fTitleFont\":42,\"fNbins\":100,\"fXmin\":0,\"fXmax\":1,\"fXbins\":[],\"fFirst\":0,\"fLast\":0,\"fBits2\":0,\"fTimeDisplay\":false,\"fTimeFormat\":\"\",\"fLabels\":null,\"fModLabs\":null},\"fYaxis\":{\"_typename\":\"TAxis\",\"fUniqueID\":0,\"fBits\":0,\"fName\":\"yaxis\",\"fTitle\":\"\",\"fNdivisions\":510,\"fAxisColor\":1,\"fLabelColor\":1,\"fLabelFont\":42,\"fLabelOffset\":0.005,\"fLabelSize\":0.035,\"fTickLength\":0.03,\"fTitleOffset\":0,\"fTitleSize\":0.035,\"fTitleColor\":1,\"fTitleFont\":42,\"fNbins\":1,\"fXmin\":0,\"fXmax\":1,\"fXbins\":[],\"fFirst\":0,\"fLast\":0,\"fBits2\":0,\"fTimeDisplay\":false,\"fTimeFormat\":\"\",\"fLabels\":null,\"fModLabs\":null},\"fZaxis\":{\"_typename\":\"TAxis\",\"fUniqueID\":0,\"fBits\":0,\"fName\":\"zaxis\",\"fTitle\":\"\",\"fNdivisions\":510,\"fAxisColor\":1,\"fLabelColor\":1,\"fLabelFont\":42,\"fLabelOffset\":0.005,\"fLabelSize\":0.035,\"fTickLength\":0.03,\"fTitleOffset\":1,\"fTitleSize\":0.035,\"fTitleColor\":1,\"fTitleFont\":42,\"fNbins\":1,\"fXmin\":0,\"fXmax\":1,\"fXbins\":[],\"fFirst\":0,\"fLast\":0,\"fBits2\":0,\"fTimeDisplay\":false,\"fTimeFormat\":\"\",\"fLabels\":null,\"fModLabs\":null},\"fBarOffset\":0,\"fBarWidth\":1000,\"fEntries\":1000000,\"fTsumw\":994931,\"fTsumw2\":994931,\"fTsumwx\":87125.1662281528,\"fTsumwx2\":23280.3633544864,\"fMaximum\":-1111,\"fMinimum\":-1111,\"fNormFactor\":0,\"fContour\":[],\"fSumw2\":[],\"fOption\":\"\",\"fFunctions\":{\"_typename\":\"TList\",\"name\":\"TList\",\"arr\":[],\"opt\":[]},\"fBufferSize\":0,\"fBuffer\":[],\"fBinStatErrOpt\":0,\"fStatOverflows\":2,\"fArray\":{\"$arr\":\"Float64\",\"len\":102,\"p\":1,\"v\":[273597,66016,70727,51533,53669,52586,47443,41038,35260,29552,24092,19741,16862,15255,14432,13315,12588,11597,10921,10105,9320,8776,7877,7308,6683,6076,5559,4991,4552,4194,3740,3461,3070,2923,2623,2396,2380,2176,1944,1932,1776,1556,1473,1325,1327,1240,1196,1095,1035,958,1021,913,893,863,747,754,745,689,661,601,598,574,496,497,437,473,435,441,420,398,387,343,349,329,324,335,282,271,293,273,262,238,230,267,239,187,214,198,197,197,152,167,167,183,153,154,149,146,154,144,5069]}},{\"_typename\":\"TStyle\",\"fUniqueID\":0,\"fBits\":0,\"fName\":\"Modern\",\"fTitle\":\"Modern Style\",\"fLineColor\":1,\"fLineStyle\":1,\"fLineWidth\":1,\"fFillColor\":19,\"fFillStyle\":1001,\"fMarkerColor\":1,\"fMarkerStyle\":1,\"fMarkerSize\":1,\"fTextAngle\":0,\"fTextSize\":0.05,\"fTextAlign\":11,\"fTextColor\":1,\"fTextFont\":62,\"fXaxis\":{\"_typename\":\"TAttAxis\",\"fNdivisions\":510,\"fAxisColor\":1,\"fLabelColor\":1,\"fLabelFont\":42,\"fLabelOffset\":0.005,\"fLabelSize\":0.035,\"fTickLength\":0.03,\"fTitleOffset\":1,\"fTitleSize\":0.035,\"fTitleColor\":1,\"fTitleFont\":42},\"fYaxis\":{\"_typename\":\"TAttAxis\",\"fNdivisions\":510,\"fAxisColor\":1,\"fLabelColor\":1,\"fLabelFont\":42,\"fLabelOffset\":0.005,\"fLabelSize\":0.035,\"fTickLength\":0.03,\"fTitleOffset\":0,\"fTitleSize\":0.035,\"fTitleColor\":1,\"fTitleFont\":42},\"fZaxis\":{\"_typename\":\"TAttAxis\",\"fNdivisions\":510,\"fAxisColor\":1,\"fLabelColor\":1,\"fLabelFont\":42,\"fLabelOffset\":0.005,\"fLabelSize\":0.035,\"fTickLength\":0.03,\"fTitleOffset\":1,\"fTitleSize\":0.035,\"fTitleColor\":1,\"fTitleFont\":42},\"fBarWidth\":1,\"fBarOffset\":0,\"fColorModelPS\":0,\"fDrawBorder\":0,\"fOptLogx\":0,\"fOptLogy\":0,\"fOptLogz\":0,\"fOptDate\":0,\"fOptStat\":0,\"fOptTitle\":1,\"fOptFile\":0,\"fOptFit\":0,\"fShowEventStatus\":0,\"fShowEditor\":0,\"fShowToolBar\":0,\"fNumberContours\":20,\"fAttDate\":{\"_typename\":\"TAttText\",\"fTextAngle\":0,\"fTextSize\":0.025,\"fTextAlign\":11,\"fTextColor\":1,\"fTextFont\":62},\"fDateX\":0.01,\"fDateY\":0.01,\"fEndErrorSize\":2,\"fErrorX\":0.5,\"fFuncColor\":2,\"fFuncStyle\":1,\"fFuncWidth\":2,\"fGridColor\":0,\"fGridStyle\":3,\"fGridWidth\":1,\"fLegendBorderSize\":1,\"fLegendFillColor\":0,\"fLegendFont\":42,\"fLegendTextSize\":0,\"fHatchesLineWidth\":1,\"fHatchesSpacing\":1,\"fFrameFillColor\":0,\"fFrameLineColor\":1,\"fFrameFillStyle\":1001,\"fFrameLineStyle\":1,\"fFrameLineWidth\":1,\"fFrameBorderSize\":1,\"fFrameBorderMode\":0,\"fHistFillColor\":0,\"fHistLineColor\":602,\"fHistFillStyle\":1001,\"fHistLineStyle\":1,\"fHistLineWidth\":1,\"fHistMinimumZero\":false,\"fHistTopMargin\":0.05,\"fCanvasPreferGL\":false,\"fCanvasColor\":0,\"fCanvasBorderSize\":2,\"fCanvasBorderMode\":0,\"fCanvasDefH\":500,\"fCanvasDefW\":700,\"fCanvasDefX\":10,\"fCanvasDefY\":10,\"fPadColor\":0,\"fPadBorderSize\":2,\"fPadBorderMode\":0,\"fPadBottomMargin\":0.1,\"fPadTopMargin\":0.1,\"fPadLeftMargin\":0.1,\"fPadRightMargin\":0.1,\"fPadGridX\":false,\"fPadGridY\":false,\"fPadTickX\":0,\"fPadTickY\":0,\"fPaperSizeX\":20,\"fPaperSizeY\":26,\"fScreenFactor\":1,\"fStatColor\":0,\"fStatTextColor\":1,\"fStatBorderSize\":1,\"fStatFont\":42,\"fStatFontSize\":0,\"fStatStyle\":1001,\"fStatFormat\":\"6.4g\",\"fStatX\":0.98,\"fStatY\":0.935,\"fStatW\":0.2,\"fStatH\":0.16,\"fStripDecimals\":true,\"fTitleAlign\":23,\"fTitleColor\":0,\"fTitleTextColor\":1,\"fTitleBorderSize\":0,\"fTitleFont\":42,\"fTitleFontSize\":0.05,\"fTitleStyle\":0,\"fTitleX\":0.5,\"fTitleY\":0.995,\"fTitleW\":0,\"fTitleH\":0,\"fLegoInnerR\":0.5,\"fLineStyles\":[\"\",\"  \",\" 12 12\",\" 4 8\",\" 12 16 4 16\",\" 20 12 4 12\",\" 20 12 4 12 4 12 4 12\",\" 20 20\",\" 20 12 4 12 4 12\",\" 80 20\",\" 80 40 4 40\",\"  \",\"  \",\"  \",\"  \",\"  \",\"  \",\"  \",\"  \",\"  \",\"  \",\"  \",\"  \",\"  \",\"  \",\"  \",\"  \",\"  \",\"  \",\"  \"],\"fHeaderPS\":\"\",\"fTitlePS\":\"\",\"fFitFormat\":\"5.4g\",\"fPaintTextFormat\":\"g\",\"fLineScalePS\":3,\"fJoinLinePS\":0,\"fCapLinePS\":0,\"fTimeOffset\":788918400,\"fImageScaling\":1}],\"opt\":[\"\",\"\",\"\"]},\"fExecs\":null,\"fName\":\"c1\",\"fTitle\":\"c1\",\"fNumPaletteColor\":0,\"fNextPaletteColor\":0,\"fDISPLAY\":\"$DISPLAY\",\"fDoubleBuffer\":0,\"fRetained\":true,\"fXsizeUser\":0,\"fYsizeUser\":0,\"fXsizeReal\":20,\"fYsizeReal\":14.28571,\"fWindowTopX\":0,\"fWindowTopY\":0,\"fWindowWidth\":0,\"fWindowHeight\":0,\"fCw\":696,\"fCh\":472,\"fCatt\":{\"_typename\":\"TAttCanvas\",\"fXBetween\":2,\"fYBetween\":2,\"fTitleFromTop\":1.2,\"fXdate\":0.2,\"fYdate\":0.3,\"fAdate\":1},\"kMoveOpaque\":true,\"kResizeOpaque\":true,\"fHighLightColor\":2,\"fBatch\":true,\"kShowEventStatus\":false,\"kAutoExec\":true,\"kMenuBar\":true});\n",
       "   Core.settings.HandleKeys = false;\n",
       "   Core.draw(\"root_plot_1657564446536\", obj, \"\");\n",
       "}\n",
       "\n",
       "function script_load_root_plot_1657564446536(src, on_error) {\n",
       "    let script = document.createElement('script');\n",
       "    script.src = src;\n",
       "    script.onload = function() { display_root_plot_1657564446536(JSROOT); };\n",
       "    script.onerror = function() { script.remove(); on_error(); };\n",
       "    document.head.appendChild(script);\n",
       "}\n",
       "\n",
       "if (typeof requirejs !== 'undefined') {\n",
       "\n",
       "    // We are in jupyter notebooks, use require.js which should be configured already\n",
       "    requirejs.config({\n",
       "       paths: { 'JSRootCore' : [ 'scripts/JSRoot.core', 'https://root.cern/js/6.1.1/scripts/JSRoot.core.min', 'https://jsroot.gsi.de/6.1.1/scripts/JSRoot.core.min' ] }\n",
       "    })(['JSRootCore'],  function(Core) {\n",
       "       display_root_plot_1657564446536(Core);\n",
       "    });\n",
       "\n",
       "} else if (typeof JSROOT !== 'undefined') {\n",
       "\n",
       "   // JSROOT already loaded, just use it\n",
       "   display_root_plot_1657564446536(JSROOT);\n",
       "\n",
       "} else {\n",
       "\n",
       "    // We are in jupyterlab without require.js, directly loading jsroot\n",
       "    // Jupyterlab might be installed in a different base_url so we need to know it.\n",
       "    try {\n",
       "        var base_url = JSON.parse(document.getElementById('jupyter-config-data').innerHTML).baseUrl;\n",
       "    } catch(_) {\n",
       "        var base_url = '/';\n",
       "    }\n",
       "\n",
       "    // Try loading a local version of requirejs and fallback to cdn if not possible.\n",
       "    script_load_root_plot_1657564446536(base_url + 'static/scripts/JSRoot.core.js', function(){\n",
       "        console.error('Fail to load JSROOT locally, please check your jupyter_notebook_config.py file');\n",
       "        script_load_root_plot_1657564446536('https://root.cern/js/6.1.1/scripts/JSRoot.core.min.js', function(){\n",
       "            document.getElementById(\"root_plot_1657564446536\").innerHTML = \"Failed to load JSROOT\";\n",
       "        });\n",
       "    });\n",
       "}\n",
       "\n",
       "</script>\n"
      ],
      "text/plain": [
       "<IPython.core.display.HTML object>"
      ]
     },
     "metadata": {},
     "output_type": "display_data"
    }
   ],
   "source": [
    "h_kef_p_max.Draw()\n",
    "c.Draw()"
   ]
  },
  {
   "cell_type": "code",
   "execution_count": 40,
   "metadata": {},
   "outputs": [],
   "source": [
    "#Make plot of KE for leading proton, but let's remove events where the proton is very low energy (below 60 MeV)\n",
    "\n",
    "#Now instead of plotting for all protons, we can plot for just the 'leading' (most energetic) proton\n",
    "h_kef_p_max = df_gst_GEM21_11b_all.Define(\"kef_proton_max\",\"Max(kef[pdgf==2212])\").Filter(\"kef_proton_max>0.060\").Histo1D((\"\",\"\",100,0,1.0),\"kef_proton_max\")"
   ]
  },
  {
   "cell_type": "code",
   "execution_count": 41,
   "metadata": {},
   "outputs": [
    {
     "data": {
      "text/html": [
       "\n",
       "\n",
       "<div id=\"root_plot_1657564449223\"\n",
       "     style=\"width: 696px; height: 472px\">\n",
       "</div>\n",
       "<script>\n",
       "\n",
       "function display_root_plot_1657564449223(Core) {\n",
       "   let obj = Core.parse({\"_typename\":\"TCanvas\",\"fUniqueID\":0,\"fBits\":3342344,\"fLineColor\":1,\"fLineStyle\":1,\"fLineWidth\":1,\"fFillColor\":0,\"fFillStyle\":1001,\"fLeftMargin\":0.1,\"fRightMargin\":0.1,\"fBottomMargin\":0.1,\"fTopMargin\":0.1,\"fXfile\":2,\"fYfile\":2,\"fAfile\":1,\"fXstat\":0.99,\"fYstat\":0.99,\"fAstat\":2,\"fFrameFillColor\":0,\"fFrameLineColor\":1,\"fFrameFillStyle\":1001,\"fFrameLineStyle\":1,\"fFrameLineWidth\":1,\"fFrameBorderSize\":1,\"fFrameBorderMode\":0,\"fX1\":-0.125000009313226,\"fY1\":-6226.89421393977,\"fX2\":1.12500000931323,\"fY2\":56042.0442139398,\"fXtoAbsPixelk\":69.6000541484835,\"fXtoPixelk\":69.6000541484835,\"fXtoPixel\":556.799991703033,\"fYtoAbsPixelk\":424.800047186661,\"fYtoPixelk\":424.800047186661,\"fYtoPixel\":-0.00758002323336016,\"fUtoAbsPixelk\":5e-5,\"fUtoPixelk\":5e-5,\"fUtoPixel\":696,\"fVtoAbsPixelk\":472.00005,\"fVtoPixelk\":472,\"fVtoPixel\":-472,\"fAbsPixeltoXk\":-0.125000009313226,\"fPixeltoXk\":-0.125000009313226,\"fPixeltoX\":0.0017959770382564,\"fAbsPixeltoYk\":56042.0442139398,\"fPixeltoYk\":-6226.89421393977,\"fPixeltoY\":-131.925717008219,\"fXlowNDC\":0,\"fYlowNDC\":0,\"fXUpNDC\":1,\"fYUpNDC\":1,\"fWNDC\":1,\"fHNDC\":1,\"fAbsXlowNDC\":0,\"fAbsYlowNDC\":0,\"fAbsWNDC\":1,\"fAbsHNDC\":1,\"fUxmin\":0,\"fUymin\":0,\"fUxmax\":1,\"fUymax\":49815.15,\"fTheta\":30,\"fPhi\":30,\"fAspectRatio\":0,\"fNumber\":0,\"fTickx\":0,\"fTicky\":0,\"fLogx\":0,\"fLogy\":0,\"fLogz\":0,\"fPadPaint\":0,\"fCrosshair\":0,\"fCrosshairPos\":0,\"fBorderSize\":2,\"fBorderMode\":0,\"fModified\":false,\"fGridx\":false,\"fGridy\":false,\"fAbsCoord\":false,\"fEditable\":true,\"fFixedAspectRatio\":false,\"fPrimitives\":{\"_typename\":\"TList\",\"name\":\"TList\",\"arr\":[{\"_typename\":\"TFrame\",\"fUniqueID\":0,\"fBits\":8,\"fLineColor\":1,\"fLineStyle\":1,\"fLineWidth\":1,\"fFillColor\":0,\"fFillStyle\":1001,\"fX1\":0,\"fY1\":0,\"fX2\":1,\"fY2\":49815.15,\"fBorderSize\":1,\"fBorderMode\":0},{\"_typename\":\"TH1D\",\"fUniqueID\":0,\"fBits\":520,\"fName\":\"\",\"fTitle\":\"\",\"fLineColor\":602,\"fLineStyle\":1,\"fLineWidth\":1,\"fFillColor\":0,\"fFillStyle\":1001,\"fMarkerColor\":1,\"fMarkerStyle\":1,\"fMarkerSize\":1,\"fNcells\":102,\"fXaxis\":{\"_typename\":\"TAxis\",\"fUniqueID\":0,\"fBits\":0,\"fName\":\"xaxis\",\"fTitle\":\"\",\"fNdivisions\":510,\"fAxisColor\":1,\"fLabelColor\":1,\"fLabelFont\":42,\"fLabelOffset\":0.005,\"fLabelSize\":0.035,\"fTickLength\":0.03,\"fTitleOffset\":1,\"fTitleSize\":0.035,\"fTitleColor\":1,\"fTitleFont\":42,\"fNbins\":100,\"fXmin\":0,\"fXmax\":1,\"fXbins\":[],\"fFirst\":0,\"fLast\":0,\"fBits2\":0,\"fTimeDisplay\":false,\"fTimeFormat\":\"\",\"fLabels\":null,\"fModLabs\":null},\"fYaxis\":{\"_typename\":\"TAxis\",\"fUniqueID\":0,\"fBits\":0,\"fName\":\"yaxis\",\"fTitle\":\"\",\"fNdivisions\":510,\"fAxisColor\":1,\"fLabelColor\":1,\"fLabelFont\":42,\"fLabelOffset\":0.005,\"fLabelSize\":0.035,\"fTickLength\":0.03,\"fTitleOffset\":0,\"fTitleSize\":0.035,\"fTitleColor\":1,\"fTitleFont\":42,\"fNbins\":1,\"fXmin\":0,\"fXmax\":1,\"fXbins\":[],\"fFirst\":0,\"fLast\":0,\"fBits2\":0,\"fTimeDisplay\":false,\"fTimeFormat\":\"\",\"fLabels\":null,\"fModLabs\":null},\"fZaxis\":{\"_typename\":\"TAxis\",\"fUniqueID\":0,\"fBits\":0,\"fName\":\"zaxis\",\"fTitle\":\"\",\"fNdivisions\":510,\"fAxisColor\":1,\"fLabelColor\":1,\"fLabelFont\":42,\"fLabelOffset\":0.005,\"fLabelSize\":0.035,\"fTickLength\":0.03,\"fTitleOffset\":1,\"fTitleSize\":0.035,\"fTitleColor\":1,\"fTitleFont\":42,\"fNbins\":1,\"fXmin\":0,\"fXmax\":1,\"fXbins\":[],\"fFirst\":0,\"fLast\":0,\"fBits2\":0,\"fTimeDisplay\":false,\"fTimeFormat\":\"\",\"fLabels\":null,\"fModLabs\":null},\"fBarOffset\":0,\"fBarWidth\":1000,\"fEntries\":431872,\"fTsumw\":426803,\"fTsumw2\":426803,\"fTsumwx\":77076.1664249809,\"fTsumwx2\":22887.8322120235,\"fMaximum\":-1111,\"fMinimum\":-1111,\"fNormFactor\":0,\"fContour\":[],\"fSumw2\":[],\"fOption\":\"\",\"fFunctions\":{\"_typename\":\"TList\",\"name\":\"TList\",\"arr\":[],\"opt\":[]},\"fBufferSize\":0,\"fBuffer\":[],\"fBinStatErrOpt\":0,\"fStatOverflows\":2,\"fArray\":{\"$arr\":\"Float64\",\"len\":102,\"p\":7,\"v\":[47443,41038,35260,29552,24092,19741,16862,15255,14432,13315,12588,11597,10921,10105,9320,8776,7877,7308,6683,6076,5559,4991,4552,4194,3740,3461,3070,2923,2623,2396,2380,2176,1944,1932,1776,1556,1473,1325,1327,1240,1196,1095,1035,958,1021,913,893,863,747,754,745,689,661,601,598,574,496,497,437,473,435,441,420,398,387,343,349,329,324,335,282,271,293,273,262,238,230,267,239,187,214,198,197,197,152,167,167,183,153,154,149,146,154,144,5069]}},{\"_typename\":\"TStyle\",\"fUniqueID\":0,\"fBits\":0,\"fName\":\"Modern\",\"fTitle\":\"Modern Style\",\"fLineColor\":1,\"fLineStyle\":1,\"fLineWidth\":1,\"fFillColor\":19,\"fFillStyle\":1001,\"fMarkerColor\":1,\"fMarkerStyle\":1,\"fMarkerSize\":1,\"fTextAngle\":0,\"fTextSize\":0.05,\"fTextAlign\":11,\"fTextColor\":1,\"fTextFont\":62,\"fXaxis\":{\"_typename\":\"TAttAxis\",\"fNdivisions\":510,\"fAxisColor\":1,\"fLabelColor\":1,\"fLabelFont\":42,\"fLabelOffset\":0.005,\"fLabelSize\":0.035,\"fTickLength\":0.03,\"fTitleOffset\":1,\"fTitleSize\":0.035,\"fTitleColor\":1,\"fTitleFont\":42},\"fYaxis\":{\"_typename\":\"TAttAxis\",\"fNdivisions\":510,\"fAxisColor\":1,\"fLabelColor\":1,\"fLabelFont\":42,\"fLabelOffset\":0.005,\"fLabelSize\":0.035,\"fTickLength\":0.03,\"fTitleOffset\":0,\"fTitleSize\":0.035,\"fTitleColor\":1,\"fTitleFont\":42},\"fZaxis\":{\"_typename\":\"TAttAxis\",\"fNdivisions\":510,\"fAxisColor\":1,\"fLabelColor\":1,\"fLabelFont\":42,\"fLabelOffset\":0.005,\"fLabelSize\":0.035,\"fTickLength\":0.03,\"fTitleOffset\":1,\"fTitleSize\":0.035,\"fTitleColor\":1,\"fTitleFont\":42},\"fBarWidth\":1,\"fBarOffset\":0,\"fColorModelPS\":0,\"fDrawBorder\":0,\"fOptLogx\":0,\"fOptLogy\":0,\"fOptLogz\":0,\"fOptDate\":0,\"fOptStat\":0,\"fOptTitle\":1,\"fOptFile\":0,\"fOptFit\":0,\"fShowEventStatus\":0,\"fShowEditor\":0,\"fShowToolBar\":0,\"fNumberContours\":20,\"fAttDate\":{\"_typename\":\"TAttText\",\"fTextAngle\":0,\"fTextSize\":0.025,\"fTextAlign\":11,\"fTextColor\":1,\"fTextFont\":62},\"fDateX\":0.01,\"fDateY\":0.01,\"fEndErrorSize\":2,\"fErrorX\":0.5,\"fFuncColor\":2,\"fFuncStyle\":1,\"fFuncWidth\":2,\"fGridColor\":0,\"fGridStyle\":3,\"fGridWidth\":1,\"fLegendBorderSize\":1,\"fLegendFillColor\":0,\"fLegendFont\":42,\"fLegendTextSize\":0,\"fHatchesLineWidth\":1,\"fHatchesSpacing\":1,\"fFrameFillColor\":0,\"fFrameLineColor\":1,\"fFrameFillStyle\":1001,\"fFrameLineStyle\":1,\"fFrameLineWidth\":1,\"fFrameBorderSize\":1,\"fFrameBorderMode\":0,\"fHistFillColor\":0,\"fHistLineColor\":602,\"fHistFillStyle\":1001,\"fHistLineStyle\":1,\"fHistLineWidth\":1,\"fHistMinimumZero\":false,\"fHistTopMargin\":0.05,\"fCanvasPreferGL\":false,\"fCanvasColor\":0,\"fCanvasBorderSize\":2,\"fCanvasBorderMode\":0,\"fCanvasDefH\":500,\"fCanvasDefW\":700,\"fCanvasDefX\":10,\"fCanvasDefY\":10,\"fPadColor\":0,\"fPadBorderSize\":2,\"fPadBorderMode\":0,\"fPadBottomMargin\":0.1,\"fPadTopMargin\":0.1,\"fPadLeftMargin\":0.1,\"fPadRightMargin\":0.1,\"fPadGridX\":false,\"fPadGridY\":false,\"fPadTickX\":0,\"fPadTickY\":0,\"fPaperSizeX\":20,\"fPaperSizeY\":26,\"fScreenFactor\":1,\"fStatColor\":0,\"fStatTextColor\":1,\"fStatBorderSize\":1,\"fStatFont\":42,\"fStatFontSize\":0,\"fStatStyle\":1001,\"fStatFormat\":\"6.4g\",\"fStatX\":0.98,\"fStatY\":0.935,\"fStatW\":0.2,\"fStatH\":0.16,\"fStripDecimals\":true,\"fTitleAlign\":23,\"fTitleColor\":0,\"fTitleTextColor\":1,\"fTitleBorderSize\":0,\"fTitleFont\":42,\"fTitleFontSize\":0.05,\"fTitleStyle\":0,\"fTitleX\":0.5,\"fTitleY\":0.995,\"fTitleW\":0,\"fTitleH\":0,\"fLegoInnerR\":0.5,\"fLineStyles\":[\"\",\"  \",\" 12 12\",\" 4 8\",\" 12 16 4 16\",\" 20 12 4 12\",\" 20 12 4 12 4 12 4 12\",\" 20 20\",\" 20 12 4 12 4 12\",\" 80 20\",\" 80 40 4 40\",\"  \",\"  \",\"  \",\"  \",\"  \",\"  \",\"  \",\"  \",\"  \",\"  \",\"  \",\"  \",\"  \",\"  \",\"  \",\"  \",\"  \",\"  \",\"  \"],\"fHeaderPS\":\"\",\"fTitlePS\":\"\",\"fFitFormat\":\"5.4g\",\"fPaintTextFormat\":\"g\",\"fLineScalePS\":3,\"fJoinLinePS\":0,\"fCapLinePS\":0,\"fTimeOffset\":788918400,\"fImageScaling\":1}],\"opt\":[\"\",\"\",\"\"]},\"fExecs\":null,\"fName\":\"c1\",\"fTitle\":\"c1\",\"fNumPaletteColor\":0,\"fNextPaletteColor\":0,\"fDISPLAY\":\"$DISPLAY\",\"fDoubleBuffer\":0,\"fRetained\":true,\"fXsizeUser\":0,\"fYsizeUser\":0,\"fXsizeReal\":20,\"fYsizeReal\":14.28571,\"fWindowTopX\":0,\"fWindowTopY\":0,\"fWindowWidth\":0,\"fWindowHeight\":0,\"fCw\":696,\"fCh\":472,\"fCatt\":{\"_typename\":\"TAttCanvas\",\"fXBetween\":2,\"fYBetween\":2,\"fTitleFromTop\":1.2,\"fXdate\":0.2,\"fYdate\":0.3,\"fAdate\":1},\"kMoveOpaque\":true,\"kResizeOpaque\":true,\"fHighLightColor\":2,\"fBatch\":true,\"kShowEventStatus\":false,\"kAutoExec\":true,\"kMenuBar\":true});\n",
       "   Core.settings.HandleKeys = false;\n",
       "   Core.draw(\"root_plot_1657564449223\", obj, \"\");\n",
       "}\n",
       "\n",
       "function script_load_root_plot_1657564449223(src, on_error) {\n",
       "    let script = document.createElement('script');\n",
       "    script.src = src;\n",
       "    script.onload = function() { display_root_plot_1657564449223(JSROOT); };\n",
       "    script.onerror = function() { script.remove(); on_error(); };\n",
       "    document.head.appendChild(script);\n",
       "}\n",
       "\n",
       "if (typeof requirejs !== 'undefined') {\n",
       "\n",
       "    // We are in jupyter notebooks, use require.js which should be configured already\n",
       "    requirejs.config({\n",
       "       paths: { 'JSRootCore' : [ 'scripts/JSRoot.core', 'https://root.cern/js/6.1.1/scripts/JSRoot.core.min', 'https://jsroot.gsi.de/6.1.1/scripts/JSRoot.core.min' ] }\n",
       "    })(['JSRootCore'],  function(Core) {\n",
       "       display_root_plot_1657564449223(Core);\n",
       "    });\n",
       "\n",
       "} else if (typeof JSROOT !== 'undefined') {\n",
       "\n",
       "   // JSROOT already loaded, just use it\n",
       "   display_root_plot_1657564449223(JSROOT);\n",
       "\n",
       "} else {\n",
       "\n",
       "    // We are in jupyterlab without require.js, directly loading jsroot\n",
       "    // Jupyterlab might be installed in a different base_url so we need to know it.\n",
       "    try {\n",
       "        var base_url = JSON.parse(document.getElementById('jupyter-config-data').innerHTML).baseUrl;\n",
       "    } catch(_) {\n",
       "        var base_url = '/';\n",
       "    }\n",
       "\n",
       "    // Try loading a local version of requirejs and fallback to cdn if not possible.\n",
       "    script_load_root_plot_1657564449223(base_url + 'static/scripts/JSRoot.core.js', function(){\n",
       "        console.error('Fail to load JSROOT locally, please check your jupyter_notebook_config.py file');\n",
       "        script_load_root_plot_1657564449223('https://root.cern/js/6.1.1/scripts/JSRoot.core.min.js', function(){\n",
       "            document.getElementById(\"root_plot_1657564449223\").innerHTML = \"Failed to load JSROOT\";\n",
       "        });\n",
       "    });\n",
       "}\n",
       "\n",
       "</script>\n"
      ],
      "text/plain": [
       "<IPython.core.display.HTML object>"
      ]
     },
     "metadata": {},
     "output_type": "display_data"
    }
   ],
   "source": [
    "h_kef_p_max.Draw()\n",
    "c.Draw()"
   ]
  },
  {
   "cell_type": "code",
   "execution_count": null,
   "metadata": {},
   "outputs": [],
   "source": []
  }
 ],
 "metadata": {
  "kernelspec": {
   "display_name": "Python 3",
   "language": "python",
   "name": "python3"
  },
  "language_info": {
   "codemirror_mode": {
    "name": "ipython",
    "version": 3
   },
   "file_extension": ".py",
   "mimetype": "text/x-python",
   "name": "python",
   "nbconvert_exporter": "python",
   "pygments_lexer": "ipython3",
   "version": "3.6.8"
  }
 },
 "nbformat": 4,
 "nbformat_minor": 4
}
