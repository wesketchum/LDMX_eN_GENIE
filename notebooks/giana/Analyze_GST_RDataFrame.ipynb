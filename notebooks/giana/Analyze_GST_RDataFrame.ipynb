{
 "cells": [
  {
   "cell_type": "code",
   "execution_count": 1,
   "metadata": {},
   "outputs": [],
   "source": [
    "import os,sys\n",
    "import os,sys\n",
    "sys.path.append(\"../../\")\n",
    "from analysis_common import *"
   ]
  },
  {
   "cell_type": "code",
   "execution_count": 2,
   "metadata": {
    "scrolled": false
   },
   "outputs": [
    {
     "name": "stdout",
     "output_type": "stream",
     "text": [
      "Welcome to JupyROOT 6.24/06\n"
     ]
    }
   ],
   "source": [
    "from root_common import *"
   ]
  },
  {
   "cell_type": "code",
   "execution_count": 3,
   "metadata": {},
   "outputs": [],
   "source": [
    "#make a canvas we can use by default\n",
    "c = ROOT.TCanvas()"
   ]
  },
  {
   "cell_type": "code",
   "execution_count": 4,
   "metadata": {},
   "outputs": [],
   "source": [
    "#some useful functions\n",
    "from analysis_helpers import *"
   ]
  },
  {
   "cell_type": "code",
   "execution_count": 5,
   "metadata": {},
   "outputs": [],
   "source": [
    "#makes plotting more interactive in notebook\n",
    "%jsroot on"
   ]
  },
  {
   "cell_type": "code",
   "execution_count": 6,
   "metadata": {},
   "outputs": [],
   "source": [
    "#some useful early definitions\n",
    "lep_accept_pt = 0.4 #GeV\n",
    "lep_accept_angle = radians(40)\n",
    "\n",
    "hadron_accept_angle = radians(40)\n",
    "hadron_accept_ke = 0.060 #GeV"
   ]
  },
  {
   "cell_type": "code",
   "execution_count": 7,
   "metadata": {},
   "outputs": [],
   "source": [
    "#NOTE YOU WILL NEED TO MODIFY THIS PARENT DIRECTORY!\n",
    "dir_files_GEM21_11b = \"/Users/wketchum/Data/LDMX/eN_Ti_GENIE_v3_2_0/ldmx_eTi_4GeV_GEM21_11b_00\"\n",
    "dir_files_G18_02a = \"/Users/wketchum/Data/LDMX/eN_Ti_GENIE_v3_2_0/ldmx_eTi_4GeV_G18_02a_00\""
   ]
  },
  {
   "cell_type": "code",
   "execution_count": 8,
   "metadata": {},
   "outputs": [],
   "source": [
    "#create a list of the files that we have\n",
    "gst_files_GEM21_11b = glob.glob(f\"{dir_files_GEM21_11b}/*gst.root\")\n",
    "gst_files_G18_02a = glob.glob(f\"{dir_files_G18_02a}/*gst.root\")"
   ]
  },
  {
   "cell_type": "code",
   "execution_count": 9,
   "metadata": {},
   "outputs": [
    {
     "name": "stdout",
     "output_type": "stream",
     "text": [
      "Created gst chain from 0 files with 0 total events.\n"
     ]
    }
   ],
   "source": [
    "#defined in analysis_helpers.py ... creates a TChain from our list of files\n",
    "gst_chain_GEM21_11b = create_gst_chain(gst_files_GEM21_11b,verbose=True)"
   ]
  },
  {
   "cell_type": "code",
   "execution_count": 10,
   "metadata": {},
   "outputs": [
    {
     "name": "stdout",
     "output_type": "stream",
     "text": [
      "Created gst chain from 0 files with 0 total events.\n"
     ]
    }
   ],
   "source": [
    "gst_chain_G18_02a = create_gst_chain(gst_files_G18_02a,verbose=True)"
   ]
  },
  {
   "cell_type": "code",
   "execution_count": 11,
   "metadata": {},
   "outputs": [],
   "source": [
    "#creates a dataframe from our TChain\n",
    "# see https://root.cern/doc/master/classROOT_1_1RDataFrame.html for examples\n",
    "df_gst_GEM21_11b_all = ROOT.RDataFrame(gst_chain_GEM21_11b)"
   ]
  },
  {
   "cell_type": "code",
   "execution_count": 12,
   "metadata": {},
   "outputs": [],
   "source": [
    "#restrict to just 1 million events\n",
    "df_gst_GEM21_11b_all = df_gst_GEM21_11b_all.Range(1000000)"
   ]
  },
  {
   "cell_type": "code",
   "execution_count": 13,
   "metadata": {},
   "outputs": [],
   "source": [
    "#define a function that makes new lepton variables\n",
    "def define_df_gst_lep_vars(df_gst):\n",
    "    df_gst = df_gst.Define(\"ptl\",\"sqrt(pxl*pxl+pyl*pyl)\") #pt lepton\n",
    "    df_gst = df_gst.Define(\"thetazl\",\"atan2(ptl,pzl)\") #theta_z of lepton\n",
    "    df_gst = df_gst.Define(\"energy_transfer\",\"Ev-El\")\n",
    "    return df_gst"
   ]
  },
  {
   "cell_type": "code",
   "execution_count": 14,
   "metadata": {},
   "outputs": [
    {
     "ename": "runtime_error",
     "evalue": "Template method resolution failed:\n  ROOT::RDF::RInterface<ROOT::Detail::RDF::RRange<ROOT::Detail::RDF::RLoopManager>,void> ROOT::RDF::RInterface<ROOT::Detail::RDF::RRange<ROOT::Detail::RDF::RLoopManager>,void>::Define(experimental::basic_string_view<char,char_traits<char> > name, experimental::basic_string_view<char,char_traits<char> > expression) =>\n    runtime_error: GetBranchNames: error in opening the tree gst\n  ROOT::RDF::RInterface<ROOT::Detail::RDF::RRange<ROOT::Detail::RDF::RLoopManager>,void> ROOT::RDF::RInterface<ROOT::Detail::RDF::RRange<ROOT::Detail::RDF::RLoopManager>,void>::Define(experimental::basic_string_view<char,char_traits<char> > name, experimental::basic_string_view<char,char_traits<char> > expression) =>\n    runtime_error: GetBranchNames: error in opening the tree gst",
     "output_type": "error",
     "traceback": [
      "\u001b[0;31m---------------------------------------------------------------------------\u001b[0m",
      "\u001b[0;31mruntime_error\u001b[0m                             Traceback (most recent call last)",
      "\u001b[0;32m<ipython-input-14-33ef844fd266>\u001b[0m in \u001b[0;36m<module>\u001b[0;34m\u001b[0m\n\u001b[1;32m      1\u001b[0m \u001b[0;31m#apply definitions for new lepton variables\u001b[0m\u001b[0;34m\u001b[0m\u001b[0;34m\u001b[0m\u001b[0;34m\u001b[0m\u001b[0m\n\u001b[0;32m----> 2\u001b[0;31m \u001b[0mdf_gst_GEM21_11b_all\u001b[0m \u001b[0;34m=\u001b[0m \u001b[0mdefine_df_gst_lep_vars\u001b[0m\u001b[0;34m(\u001b[0m\u001b[0mdf_gst_GEM21_11b_all\u001b[0m\u001b[0;34m)\u001b[0m\u001b[0;34m\u001b[0m\u001b[0;34m\u001b[0m\u001b[0m\n\u001b[0m",
      "\u001b[0;32m<ipython-input-13-70c5648cce32>\u001b[0m in \u001b[0;36mdefine_df_gst_lep_vars\u001b[0;34m(df_gst)\u001b[0m\n\u001b[1;32m      1\u001b[0m \u001b[0;31m#define a function that makes new lepton variables\u001b[0m\u001b[0;34m\u001b[0m\u001b[0;34m\u001b[0m\u001b[0;34m\u001b[0m\u001b[0m\n\u001b[1;32m      2\u001b[0m \u001b[0;32mdef\u001b[0m \u001b[0mdefine_df_gst_lep_vars\u001b[0m\u001b[0;34m(\u001b[0m\u001b[0mdf_gst\u001b[0m\u001b[0;34m)\u001b[0m\u001b[0;34m:\u001b[0m\u001b[0;34m\u001b[0m\u001b[0;34m\u001b[0m\u001b[0m\n\u001b[0;32m----> 3\u001b[0;31m     \u001b[0mdf_gst\u001b[0m \u001b[0;34m=\u001b[0m \u001b[0mdf_gst\u001b[0m\u001b[0;34m.\u001b[0m\u001b[0mDefine\u001b[0m\u001b[0;34m(\u001b[0m\u001b[0;34m\"ptl\"\u001b[0m\u001b[0;34m,\u001b[0m\u001b[0;34m\"sqrt(pxl*pxl+pyl*pyl)\"\u001b[0m\u001b[0;34m)\u001b[0m \u001b[0;31m#pt lepton\u001b[0m\u001b[0;34m\u001b[0m\u001b[0;34m\u001b[0m\u001b[0m\n\u001b[0m\u001b[1;32m      4\u001b[0m     \u001b[0mdf_gst\u001b[0m \u001b[0;34m=\u001b[0m \u001b[0mdf_gst\u001b[0m\u001b[0;34m.\u001b[0m\u001b[0mDefine\u001b[0m\u001b[0;34m(\u001b[0m\u001b[0;34m\"thetazl\"\u001b[0m\u001b[0;34m,\u001b[0m\u001b[0;34m\"atan2(ptl,pzl)\"\u001b[0m\u001b[0;34m)\u001b[0m \u001b[0;31m#theta_z of lepton\u001b[0m\u001b[0;34m\u001b[0m\u001b[0;34m\u001b[0m\u001b[0m\n\u001b[1;32m      5\u001b[0m     \u001b[0mdf_gst\u001b[0m \u001b[0;34m=\u001b[0m \u001b[0mdf_gst\u001b[0m\u001b[0;34m.\u001b[0m\u001b[0mDefine\u001b[0m\u001b[0;34m(\u001b[0m\u001b[0;34m\"energy_transfer\"\u001b[0m\u001b[0;34m,\u001b[0m\u001b[0;34m\"Ev-El\"\u001b[0m\u001b[0;34m)\u001b[0m\u001b[0;34m\u001b[0m\u001b[0;34m\u001b[0m\u001b[0m\n",
      "\u001b[0;31mruntime_error\u001b[0m: Template method resolution failed:\n  ROOT::RDF::RInterface<ROOT::Detail::RDF::RRange<ROOT::Detail::RDF::RLoopManager>,void> ROOT::RDF::RInterface<ROOT::Detail::RDF::RRange<ROOT::Detail::RDF::RLoopManager>,void>::Define(experimental::basic_string_view<char,char_traits<char> > name, experimental::basic_string_view<char,char_traits<char> > expression) =>\n    runtime_error: GetBranchNames: error in opening the tree gst\n  ROOT::RDF::RInterface<ROOT::Detail::RDF::RRange<ROOT::Detail::RDF::RLoopManager>,void> ROOT::RDF::RInterface<ROOT::Detail::RDF::RRange<ROOT::Detail::RDF::RLoopManager>,void>::Define(experimental::basic_string_view<char,char_traits<char> > name, experimental::basic_string_view<char,char_traits<char> > expression) =>\n    runtime_error: GetBranchNames: error in opening the tree gst"
     ]
    }
   ],
   "source": [
    "#apply definitions for new lepton variables\n",
    "df_gst_GEM21_11b_all = define_df_gst_lep_vars(df_gst_GEM21_11b_all)"
   ]
  },
  {
   "cell_type": "code",
   "execution_count": null,
   "metadata": {},
   "outputs": [],
   "source": [
    "#define a function to make a bunch of hadron related variables\n",
    "#sfx is the suffix on the vars (initial, final)\n",
    "def define_df_gst_hadron_vars(df_gst,sfx=[\"i\",\"f\"]):\n",
    "    \n",
    "    for s in sfx:\n",
    "        df_gst = df_gst.Define(f\"thetaxz{s}\",f\"atan2(px{s},pz{s})\")\n",
    "        df_gst = df_gst.Define(f\"thetayz{s}\",f\"atan2(py{s},pz{s})\")\n",
    "        df_gst = df_gst.Define(f\"pt{s}\",f\"sqrt(px{s}*px{s}+py{s}*py{s})\")\n",
    "        \n",
    "        #note, only for 'i' is total momentum not already in the gst tree\n",
    "        if s==\"i\":\n",
    "            df_gst = df_gst.Define(f\"p{s}\",f\"sqrt(px{s}*px{s}+py{s}+py{s}+pz{s}*pz{s})\")\n",
    "            \n",
    "        df_gst = df_gst.Define(f\"thetaz{s}\",f\"atan2(pt{s},pz{s})\")\n",
    "        df_gst = df_gst.Define(f\"mass{s}\",f\"sqrt(E{s}*E{s}-p{s}*p{s})\")\n",
    "        df_gst = df_gst.Define(f\"ke{s}\",f\"E{s}-mass{s}\")\n",
    "        \n",
    "        #for the hadrons, get the indices sorted by KE\n",
    "        df_gst = df_gst.Define(f\"idx_ke{s}\",f\"Reverse(Argsort(ke{s}))\")\n",
    "                \n",
    "    return df_gst\n"
   ]
  },
  {
   "cell_type": "code",
   "execution_count": 15,
   "metadata": {},
   "outputs": [
    {
     "ename": "NameError",
     "evalue": "name 'define_df_gst_hadron_vars' is not defined",
     "output_type": "error",
     "traceback": [
      "\u001b[0;31m---------------------------------------------------------------------------\u001b[0m",
      "\u001b[0;31mNameError\u001b[0m                                 Traceback (most recent call last)",
      "\u001b[0;32m<ipython-input-15-2756a1e70e83>\u001b[0m in \u001b[0;36m<module>\u001b[0;34m\u001b[0m\n\u001b[0;32m----> 1\u001b[0;31m \u001b[0mdf_gst_GEM21_11b_all\u001b[0m \u001b[0;34m=\u001b[0m \u001b[0mdefine_df_gst_hadron_vars\u001b[0m\u001b[0;34m(\u001b[0m\u001b[0mdf_gst_GEM21_11b_all\u001b[0m\u001b[0;34m)\u001b[0m\u001b[0;34m\u001b[0m\u001b[0;34m\u001b[0m\u001b[0m\n\u001b[0m",
      "\u001b[0;31mNameError\u001b[0m: name 'define_df_gst_hadron_vars' is not defined"
     ]
    }
   ],
   "source": [
    "df_gst_GEM21_11b_all = define_df_gst_hadron_vars(df_gst_GEM21_11b_all)"
   ]
  },
  {
   "cell_type": "code",
   "execution_count": null,
   "metadata": {
    "scrolled": true
   },
   "outputs": [],
   "source": [
    "#can print all of our columns here\n",
    "for n in df_gst_GEM21_11b_all.GetColumnNames():\n",
    "    print(n)"
   ]
  },
  {
   "cell_type": "code",
   "execution_count": null,
   "metadata": {},
   "outputs": [],
   "source": [
    "#make a quick check to see that the proton indices are filled, and sorted by KE\n",
    "rows=10\n",
    "disp = df_gst_GEM21_11b_all.Range(rows).Define(\"kef_proton\",\"kef[pdgf==2212]\").Display([\"pdgf\",\"massf\",\"kef\",\"idx_kef\",\"kef_proton\"],rows)\n",
    "disp.Print()"
   ]
  },
  {
   "cell_type": "code",
   "execution_count": null,
   "metadata": {},
   "outputs": [],
   "source": [
    "#define bins for a 2D plot in log-log space\n",
    "etransfer_bins = array.array('d',np.logspace(np.log10(0.05),np.log10(4),100).tolist())\n",
    "q2transfer_bins = array.array('d',np.logspace(np.log10(0.02),np.log10(10),100).tolist())"
   ]
  },
  {
   "cell_type": "code",
   "execution_count": null,
   "metadata": {},
   "outputs": [],
   "source": [
    "#create Q2 versus omega plot\n",
    "h_lep_q2vw = df_gst_GEM21_11b_all.Histo2D((\"\",\"\",len(etransfer_bins)-1,etransfer_bins,len(q2transfer_bins)-1,q2transfer_bins),\n",
    "                                          \"energy_transfer\",\"Q2\")"
   ]
  },
  {
   "cell_type": "code",
   "execution_count": null,
   "metadata": {
    "scrolled": false
   },
   "outputs": [],
   "source": [
    "h_lep_q2vw.SetTitle(\"All events;Energy Transfer (GeV);Q^{2} (GeV/c)^{2}\")\n",
    "h_lep_q2vw.Draw(\"colz\")\n",
    "c.SetLogx()\n",
    "c.SetLogy()\n",
    "c.Draw()"
   ]
  },
  {
   "cell_type": "code",
   "execution_count": null,
   "metadata": {},
   "outputs": [],
   "source": [
    "#now, make a filter based on acceptance\n",
    "df_gst_GEM21_11b_accept = df_gst_GEM21_11b_all.Filter(f\"ptl>{lep_accept_pt} && abs(thetazl)<{lep_accept_angle}\")"
   ]
  },
  {
   "cell_type": "code",
   "execution_count": null,
   "metadata": {},
   "outputs": [],
   "source": [
    "h_lep_q2vw_accept = df_gst_GEM21_11b_accept.Histo2D((\"\",\"\",len(etransfer_bins)-1,etransfer_bins,\n",
    "                                            len(q2transfer_bins)-1,q2transfer_bins),\n",
    "                                      \"energy_transfer\",\"Q2\")"
   ]
  },
  {
   "cell_type": "code",
   "execution_count": null,
   "metadata": {},
   "outputs": [],
   "source": [
    "h_lep_q2vw_accept.SetTitle(\"Events passing electron acceptance;Energy Transfer (GeV);Q^{2} (GeV/c)^{2}\")\n",
    "h_lep_q2vw_accept.Draw(\"colz\")\n",
    "c.SetLogx()\n",
    "c.SetLogy()\n",
    "c.Draw()"
   ]
  },
  {
   "cell_type": "code",
   "execution_count": null,
   "metadata": {},
   "outputs": [],
   "source": [
    "#reset canvas to linear scale\n",
    "c.SetLogy(0)\n",
    "c.SetLogx(0)"
   ]
  },
  {
   "cell_type": "code",
   "execution_count": null,
   "metadata": {},
   "outputs": [],
   "source": [
    "#Make 1D lepton pt histogram for QE, MEC..., but for those passing our lepton acceptance\n",
    "h_lep_pt_QEL = df_gst_GEM21_11b_accept.Filter(\"qel==1\").Histo1D((\"\",\"\",100,0,3.0),\"ptl\")\n",
    "h_lep_pt_MEC = df_gst_GEM21_11b_accept.Filter(\"mec==1\").Histo1D((\"\",\"\",100,0,3.0),\"ptl\")"
   ]
  },
  {
   "cell_type": "code",
   "execution_count": null,
   "metadata": {},
   "outputs": [],
   "source": [
    "h_lep_pt_QEL.SetLineColor(ROOT.kBlue)\n",
    "h_lep_pt_MEC.SetLineColor(ROOT.kRed)\n",
    "h_lep_pt_QEL.Draw()\n",
    "h_lep_pt_MEC.Draw(\"same\")\n",
    "c.Draw()"
   ]
  },
  {
   "cell_type": "code",
   "execution_count": null,
   "metadata": {},
   "outputs": [],
   "source": [
    "#Make plot of KE for all protons\n",
    "#we can select the protons based on the pdg code\n",
    "\n",
    "h_kef_p_all = df_gst_GEM21_11b_all.Define(\"kef_proton\",\"kef[pdgf==2212]\").Histo1D((\"\",\"\",100,0,1.0),\"kef_proton\")"
   ]
  },
  {
   "cell_type": "code",
   "execution_count": null,
   "metadata": {},
   "outputs": [],
   "source": [
    "h_kef_p_all.Draw()\n",
    "c.Draw()"
   ]
  },
  {
   "cell_type": "code",
   "execution_count": null,
   "metadata": {},
   "outputs": [],
   "source": [
    "#Make plot of KE for leading proton\n",
    "\n",
    "#Now instead of plotting for all protons, we can plot for just the 'leading' (most energetic) proton\n",
    "h_kef_p_max = df_gst_GEM21_11b_all.Define(\"kef_proton_max\",\"Max(kef[pdgf==2212])\").Histo1D((\"\",\"\",100,0,1.0),\"kef_proton_max\")"
   ]
  },
  {
   "cell_type": "code",
   "execution_count": null,
   "metadata": {},
   "outputs": [],
   "source": [
    "h_kef_p_max.Draw()\n",
    "c.Draw()"
   ]
  },
  {
   "cell_type": "code",
   "execution_count": null,
   "metadata": {},
   "outputs": [],
   "source": [
    "#Make plot of KE for leading proton, but let's remove events where the proton is very low energy (below 60 MeV)\n",
    "\n",
    "#Now instead of plotting for all protons, we can plot for just the 'leading' (most energetic) proton\n",
    "h_kef_p_max = df_gst_GEM21_11b_all.Define(\"kef_proton_max\",\"Max(kef[pdgf==2212])\").Filter(\"kef_proton_max>0.060\").Histo1D((\"\",\"\",100,0,1.0),\"kef_proton_max\")"
   ]
  },
  {
   "cell_type": "code",
   "execution_count": null,
   "metadata": {},
   "outputs": [],
   "source": [
    "h_kef_p_max.Draw()\n",
    "c.Draw()"
   ]
  },
  {
   "cell_type": "code",
   "execution_count": null,
   "metadata": {},
   "outputs": [],
   "source": []
  }
 ],
 "metadata": {
  "kernelspec": {
   "display_name": "Python 3",
   "language": "python",
   "name": "python3"
  },
  "language_info": {
   "codemirror_mode": {
    "name": "ipython",
    "version": 3
   },
   "file_extension": ".py",
   "mimetype": "text/x-python",
   "name": "python",
   "nbconvert_exporter": "python",
   "pygments_lexer": "ipython3",
   "version": "3.6.8"
  }
 },
 "nbformat": 4,
 "nbformat_minor": 4
}
