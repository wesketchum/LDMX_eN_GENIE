{
 "cells": [
  {
   "cell_type": "code",
   "execution_count": 1,
   "id": "fa3a7216",
   "metadata": {},
   "outputs": [
    {
     "name": "stdout",
     "output_type": "stream",
     "text": [
      "Welcome to JupyROOT 6.24/06\n",
      "Created gst chain from 10 files with 1000000 total events.\n",
      "Created gst chain from 10 files with 1000000 total events.\n"
     ]
    }
   ],
   "source": [
    "import os,sys\n",
    "sys.path.append(\"../../\")\n",
    "from analysis_common import *\n",
    "from root_common import *\n",
    "from analysis_helpers import *\n",
    "%jsroot on\n",
    "\n",
    "#Definitions\n",
    "lep_accept_pt = 0.4 #GeV\n",
    "lep_accept_angle = radians(40)\n",
    "hadron_accept_ke = 0.060 #GeV\n",
    "hadron_accept_angle = radians(40)\n",
    "\n",
    "dir_files_G18_02a = \"/Data/ldmx_eTi_4GeV_G18_02a_00\"\n",
    "dir_files_GEM21_11b = \"/Data/ldmx_eTi_4GeV_GEM21_11b_00\"\n",
    "gst_files_G18_02a = glob.glob(f\"{dir_files_G18_02a}/*gst.root\")\n",
    "gst_files_GEM21_11b = glob.glob(f\"{dir_files_GEM21_11b}/*gst.root\")\n",
    "\n",
    "gst_chain_GEM21_11b = create_gst_chain(gst_files_GEM21_11b,verbose=True)\n",
    "gst_chain_G18_02a = create_gst_chain(gst_files_G18_02a,verbose=True)\n",
    "\n",
    "events = 100000\n",
    "df_gst_GEM21_11b_all = ROOT.RDataFrame(gst_chain_GEM21_11b)\n",
    "df_gst_GEM21_11b_all = df_gst_GEM21_11b_all.Range(events)\n",
    "\n",
    "df_gst_G18_02a_all = ROOT.RDataFrame(gst_chain_GEM21_11b)\n",
    "df_gst_G18_02a_all = df_gst_G18_02a_all.Range(events)"
   ]
  },
  {
   "cell_type": "code",
   "execution_count": 2,
   "id": "6bd8f957",
   "metadata": {},
   "outputs": [],
   "source": [
    "#define a function that makes new lepton variables\n",
    "def define_df_gst_lep_vars(df_gst):\n",
    "    df_gst = df_gst.Define(\"ptl\",\"sqrt(pxl*pxl+pyl*pyl)\") #pt lepton\n",
    "    df_gst = df_gst.Define(\"thetazl\",\"atan2(ptl,pzl)\") #theta_z of lepton\n",
    "    df_gst = df_gst.Define(\"energy_transfer\",\"Ev-El\")\n",
    "    return df_gst\n",
    "#apply definitions for new lepton variables\n",
    "df_gst_GEM21_11b_all = define_df_gst_lep_vars(df_gst_GEM21_11b_all)\n",
    "\n",
    "#define a function to make a bunch of hadron related variables\n",
    "#sfx is the suffix on the vars (initial, final)\n",
    "def define_df_gst_hadron_vars(df_gst,sfx=[\"i\",\"f\"]):\n",
    "    \n",
    "    for s in sfx:\n",
    "        df_gst = df_gst.Define(f\"thetaxz{s}\",f\"atan2(px{s},pz{s})\")\n",
    "        df_gst = df_gst.Define(f\"thetayz{s}\",f\"atan2(py{s},pz{s})\")\n",
    "        df_gst = df_gst.Define(f\"pt{s}\",f\"sqrt(px{s}*px{s}+py{s}*py{s})\")\n",
    "        \n",
    "        #note, only for 'i' is total momentum not already in the gst tree\n",
    "        if s==\"i\":\n",
    "            df_gst = df_gst.Define(f\"p{s}\",f\"sqrt(px{s}*px{s}+py{s}+py{s}+pz{s}*pz{s})\")\n",
    "            \n",
    "        df_gst = df_gst.Define(f\"thetaz{s}\",f\"atan2(pt{s},pz{s})\")\n",
    "        df_gst = df_gst.Define(f\"mass{s}\",f\"sqrt(E{s}*E{s}-p{s}*p{s})\")\n",
    "        df_gst = df_gst.Define(f\"ke{s}\",f\"E{s}-mass{s}\")\n",
    "        \n",
    "        #for the hadrons, get the indices sorted by KE\n",
    "        df_gst = df_gst.Define(f\"idx_ke{s}\",f\"Reverse(Argsort(ke{s}))\")\n",
    "                \n",
    "    return df_gst\n",
    "df_gst_GEM21_11b_all = define_df_gst_hadron_vars(df_gst_GEM21_11b_all)\n",
    "c = ROOT.TCanvas(\"c\")"
   ]
  },
  {
   "cell_type": "code",
   "execution_count": 3,
   "id": "d763f57f",
   "metadata": {},
   "outputs": [
    {
     "name": "stderr",
     "output_type": "stream",
     "text": [
      "Warning in <TLegend::Paint>: Legend too large to be automatically placed; a default position is used\n"
     ]
    },
    {
     "data": {
      "text/html": [
       "\n",
       "\n",
       "<div id=\"root_plot_1656517118915\"\n",
       "     style=\"width: 696px; height: 472px\">\n",
       "</div>\n",
       "<script>\n",
       "\n",
       "function display_root_plot_1656517118915(Core) {\n",
       "   let obj = Core.parse({\"_typename\":\"TCanvas\",\"fUniqueID\":0,\"fBits\":3342344,\"fLineColor\":1,\"fLineStyle\":1,\"fLineWidth\":1,\"fFillColor\":0,\"fFillStyle\":1001,\"fLeftMargin\":0.1,\"fRightMargin\":0.1,\"fBottomMargin\":0.1,\"fTopMargin\":0.1,\"fXfile\":2,\"fYfile\":2,\"fAfile\":1,\"fXstat\":0.99,\"fYstat\":0.99,\"fAstat\":2,\"fFrameFillColor\":0,\"fFrameLineColor\":1,\"fFrameFillStyle\":1001,\"fFrameLineStyle\":1,\"fFrameLineWidth\":1,\"fFrameBorderSize\":1,\"fFrameBorderMode\":0,\"fX1\":-0.375000027939679,\"fY1\":-101.587507568859,\"fX2\":3.37500002793968,\"fY2\":914.287507568859,\"fXtoAbsPixelk\":69.6000541484835,\"fXtoPixelk\":69.6000541484835,\"fXtoPixel\":185.599997234344,\"fYtoAbsPixelk\":424.800047186661,\"fYtoPixelk\":424.800047186661,\"fYtoPixel\":-0.46462408560763,\"fUtoAbsPixelk\":5e-5,\"fUtoPixelk\":5e-5,\"fUtoPixel\":696,\"fVtoAbsPixelk\":472.00005,\"fVtoPixelk\":472,\"fVtoPixel\":-472,\"fAbsPixeltoXk\":-0.375000027939679,\"fPixeltoXk\":-0.375000027939679,\"fPixeltoX\":0.00538793111476919,\"fAbsPixeltoYk\":914.287507568859,\"fPixeltoYk\":-101.587507568859,\"fPixeltoY\":-2.15227757444432,\"fXlowNDC\":0,\"fYlowNDC\":0,\"fXUpNDC\":1,\"fYUpNDC\":1,\"fWNDC\":1,\"fHNDC\":1,\"fAbsXlowNDC\":0,\"fAbsYlowNDC\":0,\"fAbsWNDC\":1,\"fAbsHNDC\":1,\"fUxmin\":0,\"fUymin\":0,\"fUxmax\":3,\"fUymax\":812.7,\"fTheta\":30,\"fPhi\":30,\"fAspectRatio\":0,\"fNumber\":0,\"fTickx\":0,\"fTicky\":0,\"fLogx\":0,\"fLogy\":0,\"fLogz\":0,\"fPadPaint\":0,\"fCrosshair\":0,\"fCrosshairPos\":0,\"fBorderSize\":2,\"fBorderMode\":0,\"fModified\":false,\"fGridx\":false,\"fGridy\":false,\"fAbsCoord\":false,\"fEditable\":true,\"fFixedAspectRatio\":false,\"fPrimitives\":{\"_typename\":\"TList\",\"name\":\"TList\",\"arr\":[{\"_typename\":\"TFrame\",\"fUniqueID\":0,\"fBits\":8,\"fLineColor\":1,\"fLineStyle\":1,\"fLineWidth\":1,\"fFillColor\":0,\"fFillStyle\":1001,\"fX1\":0,\"fY1\":0,\"fX2\":3,\"fY2\":812.7,\"fBorderSize\":1,\"fBorderMode\":0},{\"_typename\":\"TH1D\",\"fUniqueID\":0,\"fBits\":520,\"fName\":\"Lepton Angle\",\"fTitle\":\"Angles in Acceptance Range\",\"fLineColor\":600,\"fLineStyle\":1,\"fLineWidth\":1,\"fFillColor\":0,\"fFillStyle\":1001,\"fMarkerColor\":1,\"fMarkerStyle\":1,\"fMarkerSize\":1,\"fNcells\":102,\"fXaxis\":{\"_typename\":\"TAxis\",\"fUniqueID\":0,\"fBits\":0,\"fName\":\"xaxis\",\"fTitle\":\"\",\"fNdivisions\":510,\"fAxisColor\":1,\"fLabelColor\":1,\"fLabelFont\":42,\"fLabelOffset\":0.005,\"fLabelSize\":0.035,\"fTickLength\":0.03,\"fTitleOffset\":1,\"fTitleSize\":0.035,\"fTitleColor\":1,\"fTitleFont\":42,\"fNbins\":100,\"fXmin\":0,\"fXmax\":3,\"fXbins\":[],\"fFirst\":0,\"fLast\":0,\"fBits2\":0,\"fTimeDisplay\":false,\"fTimeFormat\":\"\",\"fLabels\":null,\"fModLabs\":null},\"fYaxis\":{\"_typename\":\"TAxis\",\"fUniqueID\":0,\"fBits\":0,\"fName\":\"yaxis\",\"fTitle\":\"\",\"fNdivisions\":510,\"fAxisColor\":1,\"fLabelColor\":1,\"fLabelFont\":42,\"fLabelOffset\":0.005,\"fLabelSize\":0.035,\"fTickLength\":0.03,\"fTitleOffset\":0,\"fTitleSize\":0.035,\"fTitleColor\":1,\"fTitleFont\":42,\"fNbins\":1,\"fXmin\":0,\"fXmax\":1,\"fXbins\":[],\"fFirst\":0,\"fLast\":0,\"fBits2\":0,\"fTimeDisplay\":false,\"fTimeFormat\":\"\",\"fLabels\":null,\"fModLabs\":null},\"fZaxis\":{\"_typename\":\"TAxis\",\"fUniqueID\":0,\"fBits\":0,\"fName\":\"zaxis\",\"fTitle\":\"\",\"fNdivisions\":510,\"fAxisColor\":1,\"fLabelColor\":1,\"fLabelFont\":42,\"fLabelOffset\":0.005,\"fLabelSize\":0.035,\"fTickLength\":0.03,\"fTitleOffset\":1,\"fTitleSize\":0.035,\"fTitleColor\":1,\"fTitleFont\":42,\"fNbins\":1,\"fXmin\":0,\"fXmax\":1,\"fXbins\":[],\"fFirst\":0,\"fLast\":0,\"fBits2\":0,\"fTimeDisplay\":false,\"fTimeFormat\":\"\",\"fLabels\":null,\"fModLabs\":null},\"fBarOffset\":0,\"fBarWidth\":1000,\"fEntries\":4095,\"fTsumw\":4095,\"fTsumw2\":4095,\"fTsumwx\":2114.13492257471,\"fTsumwx2\":1147.33339103134,\"fMaximum\":-1111,\"fMinimum\":-1111,\"fNormFactor\":0,\"fContour\":[],\"fSumw2\":[],\"fOption\":\"\",\"fFunctions\":{\"_typename\":\"TList\",\"name\":\"TList\",\"arr\":[],\"opt\":[]},\"fBufferSize\":0,\"fBuffer\":[],\"fBinStatErrOpt\":0,\"fStatOverflows\":2,\"fArray\":[0,0,0,0,0,0,0,0,0,0,0,0,0,0,652,774,648,462,342,278,182,175,128,109,82,70,45,28,24,23,11,8,14,11,4,9,5,5,1,0,2,0,1,2,0,0,0,0,0,0,0,0,0,0,0,0,0,0,0,0,0,0,0,0,0,0,0,0,0,0,0,0,0,0,0,0,0,0,0,0,0,0,0,0,0,0,0,0,0,0,0,0,0,0,0,0,0,0,0,0,0,0]},{\"_typename\":\"TH1D\",\"fUniqueID\":0,\"fBits\":520,\"fName\":\"Lepton Angle\",\"fTitle\":\"\",\"fLineColor\":632,\"fLineStyle\":1,\"fLineWidth\":1,\"fFillColor\":0,\"fFillStyle\":1001,\"fMarkerColor\":1,\"fMarkerStyle\":1,\"fMarkerSize\":1,\"fNcells\":102,\"fXaxis\":{\"_typename\":\"TAxis\",\"fUniqueID\":0,\"fBits\":0,\"fName\":\"xaxis\",\"fTitle\":\"\",\"fNdivisions\":510,\"fAxisColor\":1,\"fLabelColor\":1,\"fLabelFont\":42,\"fLabelOffset\":0.005,\"fLabelSize\":0.035,\"fTickLength\":0.03,\"fTitleOffset\":1,\"fTitleSize\":0.035,\"fTitleColor\":1,\"fTitleFont\":42,\"fNbins\":100,\"fXmin\":0,\"fXmax\":3,\"fXbins\":[],\"fFirst\":0,\"fLast\":0,\"fBits2\":0,\"fTimeDisplay\":false,\"fTimeFormat\":\"\",\"fLabels\":null,\"fModLabs\":null},\"fYaxis\":{\"_typename\":\"TAxis\",\"fUniqueID\":0,\"fBits\":0,\"fName\":\"yaxis\",\"fTitle\":\"\",\"fNdivisions\":510,\"fAxisColor\":1,\"fLabelColor\":1,\"fLabelFont\":42,\"fLabelOffset\":0.005,\"fLabelSize\":0.035,\"fTickLength\":0.03,\"fTitleOffset\":0,\"fTitleSize\":0.035,\"fTitleColor\":1,\"fTitleFont\":42,\"fNbins\":1,\"fXmin\":0,\"fXmax\":1,\"fXbins\":[],\"fFirst\":0,\"fLast\":0,\"fBits2\":0,\"fTimeDisplay\":false,\"fTimeFormat\":\"\",\"fLabels\":null,\"fModLabs\":null},\"fZaxis\":{\"_typename\":\"TAxis\",\"fUniqueID\":0,\"fBits\":0,\"fName\":\"zaxis\",\"fTitle\":\"\",\"fNdivisions\":510,\"fAxisColor\":1,\"fLabelColor\":1,\"fLabelFont\":42,\"fLabelOffset\":0.005,\"fLabelSize\":0.035,\"fTickLength\":0.03,\"fTitleOffset\":1,\"fTitleSize\":0.035,\"fTitleColor\":1,\"fTitleFont\":42,\"fNbins\":1,\"fXmin\":0,\"fXmax\":1,\"fXbins\":[],\"fFirst\":0,\"fLast\":0,\"fBits2\":0,\"fTimeDisplay\":false,\"fTimeFormat\":\"\",\"fLabels\":null,\"fModLabs\":null},\"fBarOffset\":0,\"fBarWidth\":1000,\"fEntries\":1115,\"fTsumw\":1115,\"fTsumw2\":1115,\"fTsumwx\":574.762777274533,\"fTsumwx2\":310.466953643989,\"fMaximum\":-1111,\"fMinimum\":-1111,\"fNormFactor\":0,\"fContour\":[],\"fSumw2\":[],\"fOption\":\"\",\"fFunctions\":{\"_typename\":\"TList\",\"name\":\"TList\",\"arr\":[],\"opt\":[]},\"fBufferSize\":0,\"fBuffer\":[],\"fBinStatErrOpt\":0,\"fStatOverflows\":2,\"fArray\":[0,0,0,0,0,0,0,0,0,0,0,0,0,0,182,201,164,126,114,67,53,57,31,29,28,20,8,8,7,2,5,5,2,1,1,0,0,2,0,0,1,0,0,0,0,0,1,0,0,0,0,0,0,0,0,0,0,0,0,0,0,0,0,0,0,0,0,0,0,0,0,0,0,0,0,0,0,0,0,0,0,0,0,0,0,0,0,0,0,0,0,0,0,0,0,0,0,0,0,0,0,0]},{\"_typename\":\"TH1D\",\"fUniqueID\":0,\"fBits\":520,\"fName\":\"Lepton Angle\",\"fTitle\":\"\",\"fLineColor\":416,\"fLineStyle\":1,\"fLineWidth\":1,\"fFillColor\":0,\"fFillStyle\":1001,\"fMarkerColor\":1,\"fMarkerStyle\":1,\"fMarkerSize\":1,\"fNcells\":102,\"fXaxis\":{\"_typename\":\"TAxis\",\"fUniqueID\":0,\"fBits\":0,\"fName\":\"xaxis\",\"fTitle\":\"\",\"fNdivisions\":510,\"fAxisColor\":1,\"fLabelColor\":1,\"fLabelFont\":42,\"fLabelOffset\":0.005,\"fLabelSize\":0.035,\"fTickLength\":0.03,\"fTitleOffset\":1,\"fTitleSize\":0.035,\"fTitleColor\":1,\"fTitleFont\":42,\"fNbins\":100,\"fXmin\":0,\"fXmax\":3,\"fXbins\":[],\"fFirst\":0,\"fLast\":0,\"fBits2\":0,\"fTimeDisplay\":false,\"fTimeFormat\":\"\",\"fLabels\":null,\"fModLabs\":null},\"fYaxis\":{\"_typename\":\"TAxis\",\"fUniqueID\":0,\"fBits\":0,\"fName\":\"yaxis\",\"fTitle\":\"\",\"fNdivisions\":510,\"fAxisColor\":1,\"fLabelColor\":1,\"fLabelFont\":42,\"fLabelOffset\":0.005,\"fLabelSize\":0.035,\"fTickLength\":0.03,\"fTitleOffset\":0,\"fTitleSize\":0.035,\"fTitleColor\":1,\"fTitleFont\":42,\"fNbins\":1,\"fXmin\":0,\"fXmax\":1,\"fXbins\":[],\"fFirst\":0,\"fLast\":0,\"fBits2\":0,\"fTimeDisplay\":false,\"fTimeFormat\":\"\",\"fLabels\":null,\"fModLabs\":null},\"fZaxis\":{\"_typename\":\"TAxis\",\"fUniqueID\":0,\"fBits\":0,\"fName\":\"zaxis\",\"fTitle\":\"\",\"fNdivisions\":510,\"fAxisColor\":1,\"fLabelColor\":1,\"fLabelFont\":42,\"fLabelOffset\":0.005,\"fLabelSize\":0.035,\"fTickLength\":0.03,\"fTitleOffset\":1,\"fTitleSize\":0.035,\"fTitleColor\":1,\"fTitleFont\":42,\"fNbins\":1,\"fXmin\":0,\"fXmax\":1,\"fXbins\":[],\"fFirst\":0,\"fLast\":0,\"fBits2\":0,\"fTimeDisplay\":false,\"fTimeFormat\":\"\",\"fLabels\":null,\"fModLabs\":null},\"fBarOffset\":0,\"fBarWidth\":1000,\"fEntries\":2909,\"fTsumw\":2909,\"fTsumw2\":2909,\"fTsumwx\":1551.2540725229,\"fTsumwx2\":874.83583003676,\"fMaximum\":-1111,\"fMinimum\":-1111,\"fNormFactor\":0,\"fContour\":[],\"fSumw2\":[],\"fOption\":\"\",\"fFunctions\":{\"_typename\":\"TList\",\"name\":\"TList\",\"arr\":[],\"opt\":[]},\"fBufferSize\":0,\"fBuffer\":[],\"fBinStatErrOpt\":0,\"fStatOverflows\":2,\"fArray\":[0,0,0,0,0,0,0,0,0,0,0,0,0,0,411,490,405,279,287,207,176,130,114,86,57,52,55,25,30,29,16,17,8,7,7,4,4,5,2,3,1,2,0,0,0,0,0,0,0,0,0,0,0,0,0,0,0,0,0,0,0,0,0,0,0,0,0,0,0,0,0,0,0,0,0,0,0,0,0,0,0,0,0,0,0,0,0,0,0,0,0,0,0,0,0,0,0,0,0,0,0,0]},{\"_typename\":\"TH1D\",\"fUniqueID\":0,\"fBits\":520,\"fName\":\"Lepton Angle\",\"fTitle\":\"\",\"fLineColor\":880,\"fLineStyle\":1,\"fLineWidth\":1,\"fFillColor\":0,\"fFillStyle\":1001,\"fMarkerColor\":1,\"fMarkerStyle\":1,\"fMarkerSize\":1,\"fNcells\":102,\"fXaxis\":{\"_typename\":\"TAxis\",\"fUniqueID\":0,\"fBits\":0,\"fName\":\"xaxis\",\"fTitle\":\"\",\"fNdivisions\":510,\"fAxisColor\":1,\"fLabelColor\":1,\"fLabelFont\":42,\"fLabelOffset\":0.005,\"fLabelSize\":0.035,\"fTickLength\":0.03,\"fTitleOffset\":1,\"fTitleSize\":0.035,\"fTitleColor\":1,\"fTitleFont\":42,\"fNbins\":100,\"fXmin\":0,\"fXmax\":3,\"fXbins\":[],\"fFirst\":0,\"fLast\":0,\"fBits2\":0,\"fTimeDisplay\":false,\"fTimeFormat\":\"\",\"fLabels\":null,\"fModLabs\":null},\"fYaxis\":{\"_typename\":\"TAxis\",\"fUniqueID\":0,\"fBits\":0,\"fName\":\"yaxis\",\"fTitle\":\"\",\"fNdivisions\":510,\"fAxisColor\":1,\"fLabelColor\":1,\"fLabelFont\":42,\"fLabelOffset\":0.005,\"fLabelSize\":0.035,\"fTickLength\":0.03,\"fTitleOffset\":0,\"fTitleSize\":0.035,\"fTitleColor\":1,\"fTitleFont\":42,\"fNbins\":1,\"fXmin\":0,\"fXmax\":1,\"fXbins\":[],\"fFirst\":0,\"fLast\":0,\"fBits2\":0,\"fTimeDisplay\":false,\"fTimeFormat\":\"\",\"fLabels\":null,\"fModLabs\":null},\"fZaxis\":{\"_typename\":\"TAxis\",\"fUniqueID\":0,\"fBits\":0,\"fName\":\"zaxis\",\"fTitle\":\"\",\"fNdivisions\":510,\"fAxisColor\":1,\"fLabelColor\":1,\"fLabelFont\":42,\"fLabelOffset\":0.005,\"fLabelSize\":0.035,\"fTickLength\":0.03,\"fTitleOffset\":1,\"fTitleSize\":0.035,\"fTitleColor\":1,\"fTitleFont\":42,\"fNbins\":1,\"fXmin\":0,\"fXmax\":1,\"fXbins\":[],\"fFirst\":0,\"fLast\":0,\"fBits2\":0,\"fTimeDisplay\":false,\"fTimeFormat\":\"\",\"fLabels\":null,\"fModLabs\":null},\"fBarOffset\":0,\"fBarWidth\":1000,\"fEntries\":3137,\"fTsumw\":3137,\"fTsumw2\":3137,\"fTsumwx\":1679.17218063296,\"fTsumwx2\":943.007885915476,\"fMaximum\":-1111,\"fMinimum\":-1111,\"fNormFactor\":0,\"fContour\":[],\"fSumw2\":[],\"fOption\":\"\",\"fFunctions\":{\"_typename\":\"TList\",\"name\":\"TList\",\"arr\":[],\"opt\":[]},\"fBufferSize\":0,\"fBuffer\":[],\"fBinStatErrOpt\":0,\"fStatOverflows\":2,\"fArray\":[0,0,0,0,0,0,0,0,0,0,0,0,0,0,405,468,396,369,322,230,209,156,123,103,94,60,48,41,39,23,13,13,7,3,7,4,2,0,1,1,0,0,0,0,0,0,0,0,0,0,0,0,0,0,0,0,0,0,0,0,0,0,0,0,0,0,0,0,0,0,0,0,0,0,0,0,0,0,0,0,0,0,0,0,0,0,0,0,0,0,0,0,0,0,0,0,0,0,0,0,0,0]},{\"_typename\":\"TLegend\",\"fUniqueID\":0,\"fBits\":8,\"fLineColor\":1,\"fLineStyle\":1,\"fLineWidth\":1,\"fFillColor\":0,\"fFillStyle\":1001,\"fX1\":1.5,\"fY1\":579.048752573412,\"fX2\":2.92500002123416,\"fY2\":792.382505752333,\"fX1NDC\":0.5,\"fY1NDC\":0.67,\"fX2NDC\":0.88,\"fY2NDC\":0.88,\"fBorderSize\":1,\"fInit\":1,\"fShadowColor\":1,\"fCornerRadius\":0,\"fOption\":\"brNDC\",\"fName\":\"TPave\",\"fTextAngle\":0,\"fTextSize\":0,\"fTextAlign\":12,\"fTextColor\":1,\"fTextFont\":42,\"fPrimitives\":{\"_typename\":\"TList\",\"name\":\"TList\",\"arr\":[{\"_typename\":\"TLegendEntry\",\"fUniqueID\":0,\"fBits\":0,\"fTextAngle\":0,\"fTextSize\":0,\"fTextAlign\":0,\"fTextColor\":0,\"fTextFont\":42,\"fLineColor\":1,\"fLineStyle\":1,\"fLineWidth\":1,\"fFillColor\":0,\"fFillStyle\":0,\"fMarkerColor\":1,\"fMarkerStyle\":21,\"fMarkerSize\":1,\"fObject\":null,\"fLabel\":\"QE\",\"fOption\":\"l\"},{\"_typename\":\"TLegendEntry\",\"fUniqueID\":0,\"fBits\":0,\"fTextAngle\":0,\"fTextSize\":0,\"fTextAlign\":0,\"fTextColor\":0,\"fTextFont\":42,\"fLineColor\":1,\"fLineStyle\":1,\"fLineWidth\":1,\"fFillColor\":0,\"fFillStyle\":0,\"fMarkerColor\":1,\"fMarkerStyle\":21,\"fMarkerSize\":1,\"fObject\":null,\"fLabel\":\"MEC\",\"fOption\":\"l\"},{\"_typename\":\"TLegendEntry\",\"fUniqueID\":0,\"fBits\":0,\"fTextAngle\":0,\"fTextSize\":0,\"fTextAlign\":0,\"fTextColor\":0,\"fTextFont\":42,\"fLineColor\":1,\"fLineStyle\":1,\"fLineWidth\":1,\"fFillColor\":0,\"fFillStyle\":0,\"fMarkerColor\":1,\"fMarkerStyle\":21,\"fMarkerSize\":1,\"fObject\":null,\"fLabel\":\"RES\",\"fOption\":\"l\"},{\"_typename\":\"TLegendEntry\",\"fUniqueID\":0,\"fBits\":0,\"fTextAngle\":0,\"fTextSize\":0,\"fTextAlign\":0,\"fTextColor\":0,\"fTextFont\":42,\"fLineColor\":1,\"fLineStyle\":1,\"fLineWidth\":1,\"fFillColor\":0,\"fFillStyle\":0,\"fMarkerColor\":1,\"fMarkerStyle\":21,\"fMarkerSize\":1,\"fObject\":null,\"fLabel\":\"DIS\",\"fOption\":\"l\"}],\"opt\":[\"l\",\"l\",\"l\",\"l\"]},\"fEntrySeparation\":0.1,\"fMargin\":0.25,\"fNColumns\":1,\"fColumnSeparation\":0},{\"_typename\":\"TPaveText\",\"fUniqueID\":0,\"fBits\":9,\"fLineColor\":1,\"fLineStyle\":1,\"fLineWidth\":1,\"fFillColor\":0,\"fFillStyle\":0,\"fX1\":0.570797399946905,\"fY1\":847.222543193244,\"fX2\":2.42920260005309,\"fY2\":909.20813733724,\"fX1NDC\":0.252212643678161,\"fY1NDC\":0.933983055615829,\"fX2NDC\":0.747787356321839,\"fY2NDC\":0.995000004768372,\"fBorderSize\":0,\"fInit\":1,\"fShadowColor\":1,\"fCornerRadius\":0,\"fOption\":\"blNDC\",\"fName\":\"title\",\"fTextAngle\":0,\"fTextSize\":0,\"fTextAlign\":22,\"fTextColor\":1,\"fTextFont\":42,\"fLabel\":\"\",\"fLongest\":26,\"fMargin\":0.05,\"fLines\":{\"_typename\":\"TList\",\"name\":\"TList\",\"arr\":[{\"_typename\":\"TLatex\",\"fUniqueID\":0,\"fBits\":0,\"fName\":\"\",\"fTitle\":\"Angles in Acceptance Range\",\"fTextAngle\":0,\"fTextSize\":0,\"fTextAlign\":0,\"fTextColor\":0,\"fTextFont\":0,\"fX\":0,\"fY\":0,\"fLineColor\":1,\"fLineStyle\":1,\"fLineWidth\":2,\"fLimitFactorSize\":3,\"fOriginSize\":0.0518644079566002}],\"opt\":[\"\"]}},{\"_typename\":\"TStyle\",\"fUniqueID\":0,\"fBits\":0,\"fName\":\"Modern\",\"fTitle\":\"Modern Style\",\"fLineColor\":1,\"fLineStyle\":1,\"fLineWidth\":1,\"fFillColor\":19,\"fFillStyle\":1001,\"fMarkerColor\":1,\"fMarkerStyle\":1,\"fMarkerSize\":1,\"fTextAngle\":0,\"fTextSize\":0.05,\"fTextAlign\":11,\"fTextColor\":1,\"fTextFont\":62,\"fXaxis\":{\"_typename\":\"TAttAxis\",\"fNdivisions\":510,\"fAxisColor\":1,\"fLabelColor\":1,\"fLabelFont\":42,\"fLabelOffset\":0.005,\"fLabelSize\":0.035,\"fTickLength\":0.03,\"fTitleOffset\":1,\"fTitleSize\":0.035,\"fTitleColor\":1,\"fTitleFont\":42},\"fYaxis\":{\"_typename\":\"TAttAxis\",\"fNdivisions\":510,\"fAxisColor\":1,\"fLabelColor\":1,\"fLabelFont\":42,\"fLabelOffset\":0.005,\"fLabelSize\":0.035,\"fTickLength\":0.03,\"fTitleOffset\":0,\"fTitleSize\":0.035,\"fTitleColor\":1,\"fTitleFont\":42},\"fZaxis\":{\"_typename\":\"TAttAxis\",\"fNdivisions\":510,\"fAxisColor\":1,\"fLabelColor\":1,\"fLabelFont\":42,\"fLabelOffset\":0.005,\"fLabelSize\":0.035,\"fTickLength\":0.03,\"fTitleOffset\":1,\"fTitleSize\":0.035,\"fTitleColor\":1,\"fTitleFont\":42},\"fBarWidth\":1,\"fBarOffset\":0,\"fColorModelPS\":0,\"fDrawBorder\":0,\"fOptLogx\":0,\"fOptLogy\":0,\"fOptLogz\":0,\"fOptDate\":0,\"fOptStat\":0,\"fOptTitle\":1,\"fOptFile\":0,\"fOptFit\":0,\"fShowEventStatus\":0,\"fShowEditor\":0,\"fShowToolBar\":0,\"fNumberContours\":20,\"fAttDate\":{\"_typename\":\"TAttText\",\"fTextAngle\":0,\"fTextSize\":0.025,\"fTextAlign\":11,\"fTextColor\":1,\"fTextFont\":62},\"fDateX\":0.01,\"fDateY\":0.01,\"fEndErrorSize\":2,\"fErrorX\":0.5,\"fFuncColor\":2,\"fFuncStyle\":1,\"fFuncWidth\":2,\"fGridColor\":0,\"fGridStyle\":3,\"fGridWidth\":1,\"fLegendBorderSize\":1,\"fLegendFillColor\":0,\"fLegendFont\":42,\"fLegendTextSize\":0,\"fHatchesLineWidth\":1,\"fHatchesSpacing\":1,\"fFrameFillColor\":0,\"fFrameLineColor\":1,\"fFrameFillStyle\":1001,\"fFrameLineStyle\":1,\"fFrameLineWidth\":1,\"fFrameBorderSize\":1,\"fFrameBorderMode\":0,\"fHistFillColor\":0,\"fHistLineColor\":602,\"fHistFillStyle\":1001,\"fHistLineStyle\":1,\"fHistLineWidth\":1,\"fHistMinimumZero\":false,\"fHistTopMargin\":0.05,\"fCanvasPreferGL\":false,\"fCanvasColor\":0,\"fCanvasBorderSize\":2,\"fCanvasBorderMode\":0,\"fCanvasDefH\":500,\"fCanvasDefW\":700,\"fCanvasDefX\":10,\"fCanvasDefY\":10,\"fPadColor\":0,\"fPadBorderSize\":2,\"fPadBorderMode\":0,\"fPadBottomMargin\":0.1,\"fPadTopMargin\":0.1,\"fPadLeftMargin\":0.1,\"fPadRightMargin\":0.1,\"fPadGridX\":false,\"fPadGridY\":false,\"fPadTickX\":0,\"fPadTickY\":0,\"fPaperSizeX\":20,\"fPaperSizeY\":26,\"fScreenFactor\":1,\"fStatColor\":0,\"fStatTextColor\":1,\"fStatBorderSize\":1,\"fStatFont\":42,\"fStatFontSize\":0,\"fStatStyle\":1001,\"fStatFormat\":\"6.4g\",\"fStatX\":0.98,\"fStatY\":0.935,\"fStatW\":0.2,\"fStatH\":0.16,\"fStripDecimals\":true,\"fTitleAlign\":23,\"fTitleColor\":0,\"fTitleTextColor\":1,\"fTitleBorderSize\":0,\"fTitleFont\":42,\"fTitleFontSize\":0.05,\"fTitleStyle\":0,\"fTitleX\":0.5,\"fTitleY\":0.995,\"fTitleW\":0,\"fTitleH\":0,\"fLegoInnerR\":0.5,\"fLineStyle\":[\"\",\"  \",\" 12 12\",\" 4 8\",\" 12 16 4 16\",\" 20 12 4 12\",\" 20 12 4 12 4 12 4 12\",\" 20 20\",\" 20 12 4 12 4 12\",\" 80 20\",\" 80 40 4 40\",\"  \",\"  \",\"  \",\"  \",\"  \",\"  \",\"  \",\"  \",\"  \",\"  \",\"  \",\"  \",\"  \",\"  \",\"  \",\"  \",\"  \",\"  \",\"  \"],\"fHeaderPS\":\"\",\"fTitlePS\":\"\",\"fFitFormat\":\"5.4g\",\"fPaintTextFormat\":\"g\",\"fLineScalePS\":3,\"fJoinLinePS\":0,\"fCapLinePS\":0,\"fTimeOffset\":788918400,\"fImageScaling\":1}],\"opt\":[\"\",\"\",\"same\",\"same\",\"same\",\"\",\"blNDC\",\"\"]},\"fExecs\":null,\"fName\":\"c\",\"fTitle\":\"\",\"fNumPaletteColor\":0,\"fNextPaletteColor\":0,\"fDISPLAY\":\"$DISPLAY\",\"fDoubleBuffer\":0,\"fRetained\":true,\"fXsizeUser\":0,\"fYsizeUser\":0,\"fXsizeReal\":20,\"fYsizeReal\":14.28571,\"fWindowTopX\":0,\"fWindowTopY\":0,\"fWindowWidth\":0,\"fWindowHeight\":0,\"fCw\":696,\"fCh\":472,\"fCatt\":{\"_typename\":\"TAttCanvas\",\"fXBetween\":2,\"fYBetween\":2,\"fTitleFromTop\":1.2,\"fXdate\":0.2,\"fYdate\":0.3,\"fAdate\":1},\"kMoveOpaque\":true,\"kResizeOpaque\":true,\"fHighLightColor\":2,\"fBatch\":true,\"kShowEventStatus\":false,\"kAutoExec\":true,\"kMenuBar\":true});\n",
       "   Core.settings.HandleKeys = false;\n",
       "   Core.draw(\"root_plot_1656517118915\", obj, \"\");\n",
       "}\n",
       "\n",
       "function script_load_root_plot_1656517118915(src, on_error) {\n",
       "    let script = document.createElement('script');\n",
       "    script.src = src;\n",
       "    script.onload = function() { display_root_plot_1656517118915(JSROOT); };\n",
       "    script.onerror = function() { script.remove(); on_error(); };\n",
       "    document.head.appendChild(script);\n",
       "}\n",
       "\n",
       "if (typeof requirejs !== 'undefined') {\n",
       "\n",
       "    // We are in jupyter notebooks, use require.js which should be configured already\n",
       "    requirejs.config({\n",
       "       paths: { 'JSRootCore' : [ 'scripts/JSRoot.core', 'https://root.cern/js/6.1.1/scripts/JSRoot.core.min', 'https://jsroot.gsi.de/6.1.1/scripts/JSRoot.core.min' ] }\n",
       "    })(['JSRootCore'],  function(Core) {\n",
       "       display_root_plot_1656517118915(Core);\n",
       "    });\n",
       "\n",
       "} else if (typeof JSROOT !== 'undefined') {\n",
       "\n",
       "   // JSROOT already loaded, just use it\n",
       "   display_root_plot_1656517118915(JSROOT);\n",
       "\n",
       "} else {\n",
       "\n",
       "    // We are in jupyterlab without require.js, directly loading jsroot\n",
       "    // Jupyterlab might be installed in a different base_url so we need to know it.\n",
       "    try {\n",
       "        var base_url = JSON.parse(document.getElementById('jupyter-config-data').innerHTML).baseUrl;\n",
       "    } catch(_) {\n",
       "        var base_url = '/';\n",
       "    }\n",
       "\n",
       "    // Try loading a local version of requirejs and fallback to cdn if not possible.\n",
       "    script_load_root_plot_1656517118915(base_url + 'static/scripts/JSRoot.core.js', function(){\n",
       "        console.error('Fail to load JSROOT locally, please check your jupyter_notebook_config.py file');\n",
       "        script_load_root_plot_1656517118915('https://root.cern/js/6.1.1/scripts/JSRoot.core.min.js', function(){\n",
       "            document.getElementById(\"root_plot_1656517118915\").innerHTML = \"Failed to load JSROOT\";\n",
       "        });\n",
       "    });\n",
       "}\n",
       "\n",
       "</script>\n"
      ],
      "text/plain": [
       "<IPython.core.display.HTML object>"
      ]
     },
     "metadata": {},
     "output_type": "display_data"
    }
   ],
   "source": [
    "df_gst_GEM21_11b_accept = df_gst_GEM21_11b_all.Filter(f\"ptl>{lep_accept_pt} && abs(thetazl)<{lep_accept_angle}\")\n",
    "h_lep_pt_QEL = df_gst_GEM21_11b_accept.Filter(\"qel==1\").Histo1D((\"Lepton Angle\", \"Angles in Acceptance Range\", 100, 0, 3.0), \"ptl\")\n",
    "h_lep_pt_QEL.SetLineColor(ROOT.kBlue)\n",
    "h_lep_pt_QEL.Draw(\"same\")\n",
    "\n",
    "h_lep_pt_MEC = df_gst_GEM21_11b_accept.Filter(\"mec==1\").Histo1D((\"Lepton Angle\", \"\", 100, 0, 3.0), \"ptl\")\n",
    "h_lep_pt_MEC.SetLineColor(ROOT.kRed)\n",
    "h_lep_pt_MEC.Draw(\"same\")\n",
    "\n",
    "h_lep_pt_RES = df_gst_GEM21_11b_accept.Filter(\"res==1\").Histo1D((\"Lepton Angle\", \"\", 100, 0, 3.0), \"ptl\")\n",
    "h_lep_pt_RES.SetLineColor(ROOT.kGreen)\n",
    "h_lep_pt_RES.Draw(\"same\")\n",
    "\n",
    "h_lep_pt_DIS = df_gst_GEM21_11b_accept.Filter(\"dis==1\").Histo1D((\"Lepton Angle\", \"\", 100, 0, 3.0), \"ptl\")\n",
    "h_lep_pt_DIS.SetLineColor(ROOT.kViolet)\n",
    "h_lep_pt_DIS.Draw(\"same\")\n",
    "\n",
    "leg = ROOT.TLegend(0.8, 0.8, 0.8, 0.8)\n",
    "\n",
    "leg.AddEntry(\"h_lep_pt_QEL\", \"QE\", \"l\")\n",
    "leg.AddEntry(\"h_lep_pt_MEC\", \"MEC\", \"l\")\n",
    "leg.AddEntry(\"h_lep_pt_RES\", \"RES\", \"l\")\n",
    "leg.AddEntry(\"h_lep_pt_DIS\", \"DIS\", \"l\")\n",
    "leg.Draw()\n",
    "c.Draw()"
   ]
  },
  {
   "cell_type": "code",
   "execution_count": 4,
   "id": "cae40896",
   "metadata": {},
   "outputs": [
    {
     "ename": "runtime_error",
     "evalue": "Template method resolution failed:\n  ROOT::RDF::RInterface<ROOT::Detail::RDF::RJittedFilter,void> ROOT::RDF::RInterface<ROOT::Detail::RDF::RRange<ROOT::Detail::RDF::RLoopManager>,void>::Filter(experimental::basic_string_view<char,char_traits<char> > expression, experimental::basic_string_view<char,char_traits<char> > name = \"\") =>\n    runtime_error: \nRDataFrame: An error occurred during just-in-time compilation. The lines above might indicate the cause of the crash\n All RDF objects that have not run an event loop yet should be considered in an invalid state.\n\n  ROOT::RDF::RInterface<ROOT::Detail::RDF::RJittedFilter,void> ROOT::RDF::RInterface<ROOT::Detail::RDF::RRange<ROOT::Detail::RDF::RLoopManager>,void>::Filter(experimental::basic_string_view<char,char_traits<char> > expression, experimental::basic_string_view<char,char_traits<char> > name = \"\") =>\n    runtime_error: \nRDataFrame: An error occurred during just-in-time compilation. The lines above might indicate the cause of the crash\n All RDF objects that have not run an event loop yet should be considered in an invalid state.\n\n  ROOT::RDF::RInterface<ROOT::Detail::RDF::RJittedFilter,void> ROOT::RDF::RInterface<ROOT::Detail::RDF::RRange<ROOT::Detail::RDF::RLoopManager>,void>::Filter(experimental::basic_string_view<char,char_traits<char> > expression, experimental::basic_string_view<char,char_traits<char> > name = \"\") =>\n    runtime_error: \nRDataFrame: An error occurred during just-in-time compilation. The lines above might indicate the cause of the crash\n All RDF objects that have not run an event loop yet should be considered in an invalid state.\n",
     "output_type": "error",
     "traceback": [
      "\u001b[0;31m---------------------------------------------------------------------------\u001b[0m",
      "\u001b[0;31mruntime_error\u001b[0m                             Traceback (most recent call last)",
      "\u001b[0;32m<ipython-input-4-7a6ed57f54b6>\u001b[0m in \u001b[0;36m<module>\u001b[0;34m\u001b[0m\n\u001b[1;32m      1\u001b[0m \u001b[0md\u001b[0m\u001b[0;34m=\u001b[0m \u001b[0mROOT\u001b[0m\u001b[0;34m.\u001b[0m\u001b[0mTCanvas\u001b[0m\u001b[0;34m(\u001b[0m\u001b[0;34m\"d\"\u001b[0m\u001b[0;34m)\u001b[0m\u001b[0;34m\u001b[0m\u001b[0;34m\u001b[0m\u001b[0m\n\u001b[0;32m----> 2\u001b[0;31m \u001b[0mdf_gst_G18_02a_accept\u001b[0m \u001b[0;34m=\u001b[0m \u001b[0mdf_gst_G18_02a_all\u001b[0m\u001b[0;34m.\u001b[0m\u001b[0mFilter\u001b[0m\u001b[0;34m(\u001b[0m\u001b[0;34mf\"ptl>{lep_accept_pt} && abs(thetazl)<{lep_accept_angle}\"\u001b[0m\u001b[0;34m)\u001b[0m\u001b[0;34m\u001b[0m\u001b[0;34m\u001b[0m\u001b[0m\n\u001b[0m\u001b[1;32m      3\u001b[0m \u001b[0mh18_lep_pt_QEL\u001b[0m \u001b[0;34m=\u001b[0m \u001b[0mdf_gst_G18_02a_accept\u001b[0m\u001b[0;34m.\u001b[0m\u001b[0mFilter\u001b[0m\u001b[0;34m(\u001b[0m\u001b[0;34m\"qel==1\"\u001b[0m\u001b[0;34m)\u001b[0m\u001b[0;34m.\u001b[0m\u001b[0mHisto1D\u001b[0m\u001b[0;34m(\u001b[0m\u001b[0;34m(\u001b[0m\u001b[0;34m\"Lepton Angle\"\u001b[0m\u001b[0;34m,\u001b[0m \u001b[0;34m\"Angles in Acceptance Range\"\u001b[0m\u001b[0;34m,\u001b[0m \u001b[0;36m100\u001b[0m\u001b[0;34m,\u001b[0m \u001b[0;36m0\u001b[0m\u001b[0;34m,\u001b[0m \u001b[0;36m3.0\u001b[0m\u001b[0;34m)\u001b[0m\u001b[0;34m,\u001b[0m \u001b[0;34m\"ptl\"\u001b[0m\u001b[0;34m)\u001b[0m\u001b[0;34m\u001b[0m\u001b[0;34m\u001b[0m\u001b[0m\n\u001b[1;32m      4\u001b[0m \u001b[0mh18_lep_pt_QEL\u001b[0m\u001b[0;34m.\u001b[0m\u001b[0mSetLineColor\u001b[0m\u001b[0;34m(\u001b[0m\u001b[0mROOT\u001b[0m\u001b[0;34m.\u001b[0m\u001b[0mkBlue\u001b[0m\u001b[0;34m)\u001b[0m\u001b[0;34m\u001b[0m\u001b[0;34m\u001b[0m\u001b[0m\n\u001b[1;32m      5\u001b[0m \u001b[0mh18_lep_pt_QEL\u001b[0m\u001b[0;34m.\u001b[0m\u001b[0mDraw\u001b[0m\u001b[0;34m(\u001b[0m\u001b[0;34m\"same\"\u001b[0m\u001b[0;34m)\u001b[0m\u001b[0;34m\u001b[0m\u001b[0;34m\u001b[0m\u001b[0m\n",
      "\u001b[0;31mruntime_error\u001b[0m: Template method resolution failed:\n  ROOT::RDF::RInterface<ROOT::Detail::RDF::RJittedFilter,void> ROOT::RDF::RInterface<ROOT::Detail::RDF::RRange<ROOT::Detail::RDF::RLoopManager>,void>::Filter(experimental::basic_string_view<char,char_traits<char> > expression, experimental::basic_string_view<char,char_traits<char> > name = \"\") =>\n    runtime_error: \nRDataFrame: An error occurred during just-in-time compilation. The lines above might indicate the cause of the crash\n All RDF objects that have not run an event loop yet should be considered in an invalid state.\n\n  ROOT::RDF::RInterface<ROOT::Detail::RDF::RJittedFilter,void> ROOT::RDF::RInterface<ROOT::Detail::RDF::RRange<ROOT::Detail::RDF::RLoopManager>,void>::Filter(experimental::basic_string_view<char,char_traits<char> > expression, experimental::basic_string_view<char,char_traits<char> > name = \"\") =>\n    runtime_error: \nRDataFrame: An error occurred during just-in-time compilation. The lines above might indicate the cause of the crash\n All RDF objects that have not run an event loop yet should be considered in an invalid state.\n\n  ROOT::RDF::RInterface<ROOT::Detail::RDF::RJittedFilter,void> ROOT::RDF::RInterface<ROOT::Detail::RDF::RRange<ROOT::Detail::RDF::RLoopManager>,void>::Filter(experimental::basic_string_view<char,char_traits<char> > expression, experimental::basic_string_view<char,char_traits<char> > name = \"\") =>\n    runtime_error: \nRDataFrame: An error occurred during just-in-time compilation. The lines above might indicate the cause of the crash\n All RDF objects that have not run an event loop yet should be considered in an invalid state.\n"
     ]
    },
    {
     "name": "stderr",
     "output_type": "stream",
     "text": [
      "input_line_125:2:29: error: use of undeclared identifier 'ptl'\n",
      "auto lambda13 = [](){return ptl>0.4 && abs(thetazl)<0.6981317007977318\n",
      "                            ^\n",
      "input_line_125:2:44: error: use of undeclared identifier 'thetazl'\n",
      "auto lambda13 = [](){return ptl>0.4 && abs(thetazl)<0.6981317007977318\n",
      "                                           ^\n",
      "input_line_129:2:29: error: use of undeclared identifier 'ptl'\n",
      "auto lambda13 = [](){return ptl>0.4 && abs(thetazl)<0.6981317007977318\n",
      "                            ^\n",
      "input_line_129:2:44: error: use of undeclared identifier 'thetazl'\n",
      "auto lambda13 = [](){return ptl>0.4 && abs(thetazl)<0.6981317007977318\n",
      "                                           ^\n",
      "input_line_130:2:29: error: use of undeclared identifier 'ptl'\n",
      "auto lambda13 = [](){return ptl>0.4 && abs(thetazl)<0.6981317007977318\n",
      "                            ^\n",
      "input_line_130:2:44: error: use of undeclared identifier 'thetazl'\n",
      "auto lambda13 = [](){return ptl>0.4 && abs(thetazl)<0.6981317007977318\n",
      "                                           ^\n"
     ]
    }
   ],
   "source": [
    "d = ROOT.TCanvas(\"d\")\n",
    "df_gst_G18_02a_accept = df_gst_G18_02a_all.Filter(f\"ptl>{lep_accept_pt} && abs(thetazl)<{lep_accept_angle}\")\n",
    "h18_lep_pt_QEL = df_gst_G18_02a_accept.Filter(\"qel==1\").Histo1D((\"Lepton Angle\", \"Angles in Acceptance Range\", 100, 0, 3.0), \"ptl\")\n",
    "h18_lep_pt_QEL.SetLineColor(ROOT.kBlue)\n",
    "h18_lep_pt_QEL.Draw(\"same\")\n",
    "\n",
    "h18_lep_pt_MEC = df_gst_G18_02a_accept.Filter(\"mec==1\").Histo1D((\"Lepton Angle\", \"\", 100, 0, 3.0), \"ptl\")\n",
    "h18_lep_pt_MEC.SetLineColor(ROOT.kRed)\n",
    "h18_lep_pt_MEC.Draw(\"same\")\n",
    "\n",
    "h18_lep_pt_RES = df_gst_G18_02a_accept.Filter(\"res==1\").Histo1D((\"Lepton Angle\", \"\", 100, 0, 3.0), \"ptl\")\n",
    "h18_lep_pt_RES.SetLineColor(ROOT.kGreen)\n",
    "h18_lep_pt_RES.Draw(\"same\")\n",
    "\n",
    "h18_lep_pt_DIS = df_gst_G18_02a_accept.Filter(\"dis==1\").Histo1D((\"Lepton Angle\", \"\", 100, 0, 3.0), \"ptl\")\n",
    "h18_lep_pt_DIS.SetLineColor(ROOT.kViolet)\n",
    "h18_lep_pt_DIS.Draw(\"same\")\n",
    "\n",
    "legg = ROOT.TLegend(0.8, 0.8, 0.8, 0.8)\n",
    "\n",
    "legg.AddEntry(\"h_lep_pt_QEL\", \"QE\", \"l\")\n",
    "legg.AddEntry(\"h_lep_pt_MEC\", \"MEC\", \"l\")\n",
    "legg.AddEntry(\"h_lep_pt_RES\", \"RES\", \"l\")\n",
    "legg.AddEntry(\"h_lep_pt_DIS\", \"DIS\", \"l\")\n",
    "legg.Draw()\n",
    "d.Draw()"
   ]
  },
  {
   "cell_type": "code",
   "execution_count": null,
   "id": "25f951e1",
   "metadata": {},
   "outputs": [],
   "source": [
    "df_bruh = df_gst_GEM21_11b_all.Filter(f\"ptl>{lep_accept_pt} && abs(thetazl)<{lep_accept_angle}\")\n",
    "histo_bruh = df_bruh.Histo2D((\"\",\"\",100,0,2.0,10,0,10), \"kef[pdgf==2212]\",\"kef[pdgf==2212].size()\")\n",
    "histo_bruh.Draw()"
   ]
  },
  {
   "cell_type": "code",
   "execution_count": null,
   "id": "3c58f2fb",
   "metadata": {},
   "outputs": [],
   "source": [
    "#df_gst_GEM21_11b_proton = df_gst_GEM21_11b_all.Filter(f\"kef[pdgf==2212] && kef>{hadron_accept_ke}\")\n",
    "#proton_plot = df_gst_GEM21_11b_proton.Histo2D((\"\",\"\",100,0,2.0,10,0,10),\"kef[pdgf==2212]\",\"kef[pdgf==2212].size()\")\n",
    "#c.SetLogx()\n",
    "#c.SetLogy()\n",
    "#n_proton_plot.Draw(\"colz\")\n",
    "#c.Draw()\n"
   ]
  },
  {
   "cell_type": "code",
   "execution_count": null,
   "id": "b0d5b9ac",
   "metadata": {},
   "outputs": [],
   "source": [
    "#etransfer_bins = array.array('d',np.logspace(np.log10(0.05),np.log10(4),100).tolist())\n",
    "#q2transfer_bins = array.array('d',np.logspace(np.log10(0.02),np.log10(10),100).tolist())\n",
    "#print(len(q2transfer_bins))\n",
    "#df_gst_GEM21_11b_accept = df_gst_GEM21_11b_all.Filter(\"ptl\">0.4)\n",
    "#print(len(df_gst_GEM21_11b_accept))\n",
    "#h_lep_q2vw_accept = df_gst_GEM21_11b_accept.Histo2D((\"\",\"\",len(etransfer_bins)-1,etransfer_bins,\n",
    "                                            #len(q2transfer_bins)-1,q2transfer_bins),\n",
    "                                     # \"energy_transfer\",\"Q2\")\n",
    "#h_lep_q2vw_accept.SetTitle(\"Events passing electron acceptance;Energy Transfer (GeV);Q^{2} (GeV/c)^{2}\")\n",
    "#h_lep_q2vw_accept.Draw(\"colz\")\n",
    "#c.SetLogx()\n",
    "#c.SetLogy()\n",
    "#c.Draw()"
   ]
  },
  {
   "cell_type": "code",
   "execution_count": null,
   "id": "9b3277bf",
   "metadata": {},
   "outputs": [],
   "source": [
    "#notes\n",
    "#n_events_passing_cut = df_gst.Filter(\"my_cut_here==0\").Count()\n",
    "#n_entries_in_hist = my_hist.GetEntries()\n",
    "test_df = df_gst_GEM21_11b_all.Define(\"n_proton_accept\",f\"kef[pdgf==2212 && kef>{hadron_accept_ke}].size()\").Filter(\"n_proton_accept>0\")"
   ]
  },
  {
   "cell_type": "code",
   "execution_count": null,
   "id": "23a781b9",
   "metadata": {},
   "outputs": [],
   "source": []
  },
  {
   "cell_type": "code",
   "execution_count": null,
   "id": "8e21ecfd",
   "metadata": {},
   "outputs": [],
   "source": []
  }
 ],
 "metadata": {
  "kernelspec": {
   "display_name": "Python 3",
   "language": "python",
   "name": "python3"
  },
  "language_info": {
   "codemirror_mode": {
    "name": "ipython",
    "version": 3
   },
   "file_extension": ".py",
   "mimetype": "text/x-python",
   "name": "python",
   "nbconvert_exporter": "python",
   "pygments_lexer": "ipython3",
   "version": "3.6.8"
  }
 },
 "nbformat": 4,
 "nbformat_minor": 5
}
