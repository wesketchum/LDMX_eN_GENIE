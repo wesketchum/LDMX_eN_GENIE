{
 "cells": [
  {
   "cell_type": "code",
   "execution_count": 9,
   "id": "ffbcbd5a",
   "metadata": {},
   "outputs": [],
   "source": [
    "//CLASSES in root start with T, stuff in brackets is settable params with f1.SetParameter(0,1) changes 0 to 1\n",
    "//histograms h1 = ROOT.TH1F(\"h1\", \"My Histogram Title\", nbins, 0., 10.)\n",
    "//h1.FillRandom(\"f1\", 10) uses function from previous and creates histogram, does it 10 times\n",
    "// draw h1.Draw() c.Draw() f1.SetMinimum(0) shows origin\n",
    "//myfile = ROOT.TFile(\"folder location\", \"READ\") sent from wesley\n",
    "//info in file title like target material and energy lvl from genie, 100000 interactions of electrons off of material nuclei\n",
    "//print(myfile.ls()) data structure is gst(genie summary tree), dont worry about backup cycle\n",
    "//gst_tree = myfile.Get(\"gst\"), get contents with gst_tree.Print() each branch is different variables \n",
    "//and descriptors of the simulation that could be plotted, use gst format from the physics and user manual\n",
    "// pdg code assigns number to particle type,z atomic number of target, a atomic weight, anything neutrino actually refers\n",
    "// to an electron interaction\n",
    "//go from qel to nuel are interaction types\n",
    "//interested in comparing models between each other, like the two different file types\n",
    "//look at first the differences between the interaction types"
   ]
  },
  {
   "cell_type": "code",
   "execution_count": 1,
   "id": "ccab0666",
   "metadata": {},
   "outputs": [
    {
     "name": "stderr",
     "output_type": "stream",
     "text": [
      "input_line_40:2:13: error: unexpected namespace name 'ROOT': expected expression\n",
      " datafile = ROOT.TFile(\"~/Users/giana/Desktop/Fermilab/ldmx_eTi_4GeV_G18_02a_00\", \"READ\")\n",
      "            ^\n"
     ]
    }
   ],
   "source": [
    "datafile = ROOT.TFile(\"~/Users/giana/Desktop/Fermilab/ldmx_eTi_4GeV_G18_02a_00\", \"READ\")\n",
    "print(datafile.ls())"
   ]
  },
  {
   "cell_type": "code",
   "execution_count": 2,
   "id": "e5823b3a",
   "metadata": {},
   "outputs": [
    {
     "name": "stderr",
     "output_type": "stream",
     "text": [
      "input_line_45:2:8: error: expected ';' after expression\n",
      " import os,sys\n",
      "       ^\n",
      "       ;\n",
      "input_line_45:2:9: error: use of undeclared identifier 'os'\n",
      " import os,sys\n",
      "        ^\n"
     ]
    }
   ],
   "source": [
    "import os,sys\n",
    "sys.path.append(\"../\")\n",
    "from analysis_common import *\n",
    "from root_common import *\n",
    "c = ROOT.TCanvas(\"c\")\n",
    "f1 = ROOT.TF1(\"f1\",\"[0]*sin([1]*x)/x\",0.,10.)\n",
    "f1.SetParameter(0,1)\n",
    "f1.SetParameter(1,1)"
   ]
  },
  {
   "cell_type": "code",
   "execution_count": null,
   "id": "8d97673b",
   "metadata": {},
   "outputs": [],
   "source": []
  }
 ],
 "metadata": {
  "kernelspec": {
   "display_name": "ROOT C++ (Python 3)",
   "language": "c++",
   "name": "python36-jupyroot"
  },
  "language_info": {
   "codemirror_mode": "text/x-c++src",
   "file_extension": ".C",
   "mimetype": " text/x-c++src",
   "name": "c++"
  }
 },
 "nbformat": 4,
 "nbformat_minor": 5
}
